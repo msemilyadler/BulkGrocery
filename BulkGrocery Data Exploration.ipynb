{
    "metadata": {
        "kernelspec": {
            "name": "SQL",
            "display_name": "SQL",
            "language": "sql"
        },
        "language_info": {
            "name": "sql",
            "version": ""
        }
    },
    "nbformat_minor": 2,
    "nbformat": 4,
    "cells": [
        {
            "cell_type": "markdown",
            "source": [
                "# Bulk Grocery Sales Analysis"
            ],
            "metadata": {
                "azdata_cell_guid": "b10aaf00-2423-4f7b-9dba-30b11d05cd4d"
            },
            "attachments": {}
        },
        {
            "cell_type": "markdown",
            "source": [
                "## Sales Summary"
            ],
            "metadata": {
                "azdata_cell_guid": "2ee01da4-3ae6-44c4-9649-3a5498b527df"
            },
            "attachments": {}
        },
        {
            "cell_type": "markdown",
            "source": [
                "### Total Sales, Transactions, Customers, Products"
            ],
            "metadata": {
                "azdata_cell_guid": "5541c945-a1eb-4b96-9187-eaa8a589147f"
            },
            "attachments": {}
        },
        {
            "cell_type": "code",
            "source": [
                "SELECT \r\n",
                "    SUM(l.SaleAmount) AS Sales,\r\n",
                "    COUNT(DISTINCT o.OrderID) AS TransactionCount,\r\n",
                "    COUNT(DISTINCT o.CustomerID) AS CustomerCount,\r\n",
                "    COUNT(DISTINCT l.ProductID) AS ProductCount,\r\n",
                "    COUNT(DISTINCT l.SalesOrderLineID) AS LineCount\r\n",
                "\r\n",
                "FROM SalesOrderLines AS l\r\n",
                "    JOIN SalesOrders AS o\r\n",
                "    ON l.OrderID = o.OrderID \r\n",
                "\r\n",
                ""
            ],
            "metadata": {
                "azdata_cell_guid": "9c619d75-61fa-47a1-a2ca-a6481145fb97",
                "language": "sql"
            },
            "outputs": [
                {
                    "output_type": "display_data",
                    "data": {
                        "text/html": "(1 row affected)"
                    },
                    "metadata": {}
                },
                {
                    "output_type": "display_data",
                    "data": {
                        "text/html": "Total execution time: 00:00:00.135"
                    },
                    "metadata": {}
                },
                {
                    "output_type": "execute_result",
                    "metadata": {},
                    "execution_count": 2,
                    "data": {
                        "application/vnd.dataresource+json": {
                            "schema": {
                                "fields": [
                                    {
                                        "name": "Sales"
                                    },
                                    {
                                        "name": "TransactionCount"
                                    },
                                    {
                                        "name": "CustomerCount"
                                    },
                                    {
                                        "name": "ProductCount"
                                    },
                                    {
                                        "name": "LineCount"
                                    }
                                ]
                            },
                            "data": [
                                {
                                    "Sales": "1308799.38",
                                    "TransactionCount": "41450",
                                    "CustomerCount": "3932",
                                    "ProductCount": "1006",
                                    "LineCount": "223151"
                                }
                            ]
                        },
                        "text/html": [
                            "<table>",
                            "<tr><th>Sales</th><th>TransactionCount</th><th>CustomerCount</th><th>ProductCount</th><th>LineCount</th></tr>",
                            "<tr><td>1308799.38</td><td>41450</td><td>3932</td><td>1006</td><td>223151</td></tr>",
                            "</table>"
                        ]
                    }
                }
            ],
            "execution_count": 2
        },
        {
            "cell_type": "markdown",
            "source": [
                "### Annual Sales Volume\r\n",
                "#### Total Annual Sales"
            ],
            "metadata": {
                "azdata_cell_guid": "e5336175-a200-4f63-a408-908965d12156"
            },
            "attachments": {}
        },
        {
            "cell_type": "code",
            "source": [
                "SELECT \r\n",
                "    YEAR(o.OrderDate) AS Year, \r\n",
                "    SUM(l.SaleAmount) AS Sales, \r\n",
                "    COUNT(DISTINCT o.OrderID) As TransactionCount\r\n",
                "\r\n",
                "FROM SalesOrderLines AS l\r\n",
                "    JOIN SalesOrders AS o\r\n",
                "    ON l.OrderID = o.OrderID \r\n",
                "\r\n",
                "GROUP BY YEAR(o.OrderDate)\r\n",
                "ORDER BY YEAR(o.OrderDate) "
            ],
            "metadata": {
                "azdata_cell_guid": "0a40a691-15f6-4eff-a3c0-b2cbab6ab9e4",
                "language": "sql",
                "tags": []
            },
            "outputs": [
                {
                    "output_type": "display_data",
                    "data": {
                        "text/html": "(3 rows affected)"
                    },
                    "metadata": {}
                },
                {
                    "output_type": "display_data",
                    "data": {
                        "text/html": "Total execution time: 00:00:00.154"
                    },
                    "metadata": {}
                },
                {
                    "output_type": "execute_result",
                    "execution_count": 83,
                    "data": {
                        "application/vnd.dataresource+json": {
                            "schema": {
                                "fields": [
                                    {
                                        "name": "Year"
                                    },
                                    {
                                        "name": "Sales"
                                    },
                                    {
                                        "name": "TransactionCount"
                                    }
                                ]
                            },
                            "data": [
                                {
                                    "Year": "2019",
                                    "Sales": "277348.76",
                                    "TransactionCount": "11776"
                                },
                                {
                                    "Year": "2020",
                                    "Sales": "494122.18",
                                    "TransactionCount": "14648"
                                },
                                {
                                    "Year": "2021",
                                    "Sales": "537328.44",
                                    "TransactionCount": "15026"
                                }
                            ]
                        },
                        "text/html": "<table><tr><th>Year</th><th>Sales</th><th>TransactionCount</th></tr><tr><td>2019</td><td>277348.76</td><td>11776</td></tr><tr><td>2020</td><td>494122.18</td><td>14648</td></tr><tr><td>2021</td><td>537328.44</td><td>15026</td></tr></table>"
                    },
                    "metadata": {}
                }
            ],
            "execution_count": 83
        },
        {
            "cell_type": "markdown",
            "source": [
                "### Monthly Sales Trend\r\n",
                "#### Total Monthly Sales and Average Daily Sales by Month"
            ],
            "metadata": {
                "azdata_cell_guid": "c928cb29-e1ad-4c01-bd85-e7a6cffdd64d"
            },
            "attachments": {}
        },
        {
            "cell_type": "code",
            "source": [
                "SELECT \r\n",
                "    EOMONTH(o.OrderDate) AS TransactionMonth, --Use the last day of the month to represent the Month. Since all data is historical do not need to account for midmonth data\r\n",
                "    ROUND(SUM(l.SaleAmount),2) AS MonthlySales, --Sum the Monthly Sales\r\n",
                "    ROUND(SUM(l.SaleAmount)/DAY(EOMONTH(o.OrderDate)),2) AS AvgDailySales, --Total Montly Sales / Number of Days in Month\r\n",
                "    COUNT(DISTINCT o.OrderID) AS TransactionCount\r\n",
                "\r\n",
                "FROM SalesOrderLines AS l\r\n",
                "    JOIN SalesOrders AS o\r\n",
                "    ON l.OrderID = o.OrderID \r\n",
                "\r\n",
                "GROUP BY EOMONTH(o.OrderDate)\r\n",
                "ORDER BY EOMONTH(o.OrderDate)   "
            ],
            "metadata": {
                "language": "sql",
                "azdata_cell_guid": "cf6c9a57-5c2f-495f-b32f-f83185e5fd73",
                "tags": []
            },
            "outputs": [
                {
                    "output_type": "display_data",
                    "data": {
                        "text/html": "(35 rows affected)"
                    },
                    "metadata": {}
                },
                {
                    "output_type": "display_data",
                    "data": {
                        "text/html": "Total execution time: 00:00:00.187"
                    },
                    "metadata": {}
                },
                {
                    "output_type": "execute_result",
                    "execution_count": 84,
                    "data": {
                        "application/vnd.dataresource+json": {
                            "schema": {
                                "fields": [
                                    {
                                        "name": "TransactionMonth"
                                    },
                                    {
                                        "name": "MonthlySales"
                                    },
                                    {
                                        "name": "AvgDailySales"
                                    },
                                    {
                                        "name": "TransactionCount"
                                    }
                                ]
                            },
                            "data": [
                                {
                                    "TransactionMonth": "2019-02-28",
                                    "MonthlySales": "14964.79",
                                    "AvgDailySales": "534.460000",
                                    "TransactionCount": "749"
                                },
                                {
                                    "TransactionMonth": "2019-03-31",
                                    "MonthlySales": "20949.45",
                                    "AvgDailySales": "675.790000",
                                    "TransactionCount": "1003"
                                },
                                {
                                    "TransactionMonth": "2019-04-30",
                                    "MonthlySales": "17287.15",
                                    "AvgDailySales": "576.240000",
                                    "TransactionCount": "899"
                                },
                                {
                                    "TransactionMonth": "2019-05-31",
                                    "MonthlySales": "24424.98",
                                    "AvgDailySales": "787.900000",
                                    "TransactionCount": "1184"
                                },
                                {
                                    "TransactionMonth": "2019-06-30",
                                    "MonthlySales": "27454.37",
                                    "AvgDailySales": "915.150000",
                                    "TransactionCount": "1137"
                                },
                                {
                                    "TransactionMonth": "2019-07-31",
                                    "MonthlySales": "27423.94",
                                    "AvgDailySales": "884.640000",
                                    "TransactionCount": "1120"
                                },
                                {
                                    "TransactionMonth": "2019-08-31",
                                    "MonthlySales": "26306.96",
                                    "AvgDailySales": "848.610000",
                                    "TransactionCount": "1095"
                                },
                                {
                                    "TransactionMonth": "2019-09-30",
                                    "MonthlySales": "28842.81",
                                    "AvgDailySales": "961.430000",
                                    "TransactionCount": "1109"
                                },
                                {
                                    "TransactionMonth": "2019-10-31",
                                    "MonthlySales": "29368.16",
                                    "AvgDailySales": "947.360000",
                                    "TransactionCount": "1135"
                                },
                                {
                                    "TransactionMonth": "2019-11-30",
                                    "MonthlySales": "29010.85",
                                    "AvgDailySales": "967.030000",
                                    "TransactionCount": "1153"
                                },
                                {
                                    "TransactionMonth": "2019-12-31",
                                    "MonthlySales": "31315.30",
                                    "AvgDailySales": "1010.170000",
                                    "TransactionCount": "1192"
                                },
                                {
                                    "TransactionMonth": "2020-01-31",
                                    "MonthlySales": "37956.78",
                                    "AvgDailySales": "1224.410000",
                                    "TransactionCount": "1452"
                                },
                                {
                                    "TransactionMonth": "2020-02-29",
                                    "MonthlySales": "33820.10",
                                    "AvgDailySales": "1166.210000",
                                    "TransactionCount": "1303"
                                },
                                {
                                    "TransactionMonth": "2020-03-31",
                                    "MonthlySales": "44724.33",
                                    "AvgDailySales": "1442.720000",
                                    "TransactionCount": "1445"
                                },
                                {
                                    "TransactionMonth": "2020-04-30",
                                    "MonthlySales": "31871.41",
                                    "AvgDailySales": "1062.380000",
                                    "TransactionCount": "890"
                                },
                                {
                                    "TransactionMonth": "2020-05-31",
                                    "MonthlySales": "35155.72",
                                    "AvgDailySales": "1134.060000",
                                    "TransactionCount": "924"
                                },
                                {
                                    "TransactionMonth": "2020-06-30",
                                    "MonthlySales": "35149.96",
                                    "AvgDailySales": "1171.670000",
                                    "TransactionCount": "984"
                                },
                                {
                                    "TransactionMonth": "2020-07-31",
                                    "MonthlySales": "41633.89",
                                    "AvgDailySales": "1343.030000",
                                    "TransactionCount": "1143"
                                },
                                {
                                    "TransactionMonth": "2020-08-31",
                                    "MonthlySales": "47599.20",
                                    "AvgDailySales": "1535.460000",
                                    "TransactionCount": "1325"
                                },
                                {
                                    "TransactionMonth": "2020-09-30",
                                    "MonthlySales": "43994.26",
                                    "AvgDailySales": "1466.480000",
                                    "TransactionCount": "1233"
                                },
                                {
                                    "TransactionMonth": "2020-10-31",
                                    "MonthlySales": "46408.37",
                                    "AvgDailySales": "1497.040000",
                                    "TransactionCount": "1292"
                                },
                                {
                                    "TransactionMonth": "2020-11-30",
                                    "MonthlySales": "42768.71",
                                    "AvgDailySales": "1425.620000",
                                    "TransactionCount": "1239"
                                },
                                {
                                    "TransactionMonth": "2020-12-31",
                                    "MonthlySales": "53039.45",
                                    "AvgDailySales": "1710.950000",
                                    "TransactionCount": "1418"
                                },
                                {
                                    "TransactionMonth": "2021-01-31",
                                    "MonthlySales": "55312.48",
                                    "AvgDailySales": "1784.270000",
                                    "TransactionCount": "1561"
                                },
                                {
                                    "TransactionMonth": "2021-02-28",
                                    "MonthlySales": "54057.65",
                                    "AvgDailySales": "1930.630000",
                                    "TransactionCount": "1461"
                                },
                                {
                                    "TransactionMonth": "2021-03-31",
                                    "MonthlySales": "51043.98",
                                    "AvgDailySales": "1646.580000",
                                    "TransactionCount": "1493"
                                },
                                {
                                    "TransactionMonth": "2021-04-30",
                                    "MonthlySales": "52109.81",
                                    "AvgDailySales": "1736.990000",
                                    "TransactionCount": "1396"
                                },
                                {
                                    "TransactionMonth": "2021-05-31",
                                    "MonthlySales": "49186.36",
                                    "AvgDailySales": "1586.660000",
                                    "TransactionCount": "1354"
                                },
                                {
                                    "TransactionMonth": "2021-06-30",
                                    "MonthlySales": "44196.52",
                                    "AvgDailySales": "1473.220000",
                                    "TransactionCount": "1228"
                                },
                                {
                                    "TransactionMonth": "2021-07-31",
                                    "MonthlySales": "40539.18",
                                    "AvgDailySales": "1307.720000",
                                    "TransactionCount": "1212"
                                },
                                {
                                    "TransactionMonth": "2021-08-31",
                                    "MonthlySales": "40792.58",
                                    "AvgDailySales": "1315.890000",
                                    "TransactionCount": "1153"
                                },
                                {
                                    "TransactionMonth": "2021-09-30",
                                    "MonthlySales": "33339.35",
                                    "AvgDailySales": "1111.310000",
                                    "TransactionCount": "952"
                                },
                                {
                                    "TransactionMonth": "2021-10-31",
                                    "MonthlySales": "40067.79",
                                    "AvgDailySales": "1292.510000",
                                    "TransactionCount": "1153"
                                },
                                {
                                    "TransactionMonth": "2021-11-30",
                                    "MonthlySales": "37493.90",
                                    "AvgDailySales": "1249.800000",
                                    "TransactionCount": "1030"
                                },
                                {
                                    "TransactionMonth": "2021-12-31",
                                    "MonthlySales": "39188.84",
                                    "AvgDailySales": "1264.160000",
                                    "TransactionCount": "1033"
                                }
                            ]
                        },
                        "text/html": "<table><tr><th>TransactionMonth</th><th>MonthlySales</th><th>AvgDailySales</th><th>TransactionCount</th></tr><tr><td>2019-02-28</td><td>14964.79</td><td>534.460000</td><td>749</td></tr><tr><td>2019-03-31</td><td>20949.45</td><td>675.790000</td><td>1003</td></tr><tr><td>2019-04-30</td><td>17287.15</td><td>576.240000</td><td>899</td></tr><tr><td>2019-05-31</td><td>24424.98</td><td>787.900000</td><td>1184</td></tr><tr><td>2019-06-30</td><td>27454.37</td><td>915.150000</td><td>1137</td></tr><tr><td>2019-07-31</td><td>27423.94</td><td>884.640000</td><td>1120</td></tr><tr><td>2019-08-31</td><td>26306.96</td><td>848.610000</td><td>1095</td></tr><tr><td>2019-09-30</td><td>28842.81</td><td>961.430000</td><td>1109</td></tr><tr><td>2019-10-31</td><td>29368.16</td><td>947.360000</td><td>1135</td></tr><tr><td>2019-11-30</td><td>29010.85</td><td>967.030000</td><td>1153</td></tr><tr><td>2019-12-31</td><td>31315.30</td><td>1010.170000</td><td>1192</td></tr><tr><td>2020-01-31</td><td>37956.78</td><td>1224.410000</td><td>1452</td></tr><tr><td>2020-02-29</td><td>33820.10</td><td>1166.210000</td><td>1303</td></tr><tr><td>2020-03-31</td><td>44724.33</td><td>1442.720000</td><td>1445</td></tr><tr><td>2020-04-30</td><td>31871.41</td><td>1062.380000</td><td>890</td></tr><tr><td>2020-05-31</td><td>35155.72</td><td>1134.060000</td><td>924</td></tr><tr><td>2020-06-30</td><td>35149.96</td><td>1171.670000</td><td>984</td></tr><tr><td>2020-07-31</td><td>41633.89</td><td>1343.030000</td><td>1143</td></tr><tr><td>2020-08-31</td><td>47599.20</td><td>1535.460000</td><td>1325</td></tr><tr><td>2020-09-30</td><td>43994.26</td><td>1466.480000</td><td>1233</td></tr><tr><td>2020-10-31</td><td>46408.37</td><td>1497.040000</td><td>1292</td></tr><tr><td>2020-11-30</td><td>42768.71</td><td>1425.620000</td><td>1239</td></tr><tr><td>2020-12-31</td><td>53039.45</td><td>1710.950000</td><td>1418</td></tr><tr><td>2021-01-31</td><td>55312.48</td><td>1784.270000</td><td>1561</td></tr><tr><td>2021-02-28</td><td>54057.65</td><td>1930.630000</td><td>1461</td></tr><tr><td>2021-03-31</td><td>51043.98</td><td>1646.580000</td><td>1493</td></tr><tr><td>2021-04-30</td><td>52109.81</td><td>1736.990000</td><td>1396</td></tr><tr><td>2021-05-31</td><td>49186.36</td><td>1586.660000</td><td>1354</td></tr><tr><td>2021-06-30</td><td>44196.52</td><td>1473.220000</td><td>1228</td></tr><tr><td>2021-07-31</td><td>40539.18</td><td>1307.720000</td><td>1212</td></tr><tr><td>2021-08-31</td><td>40792.58</td><td>1315.890000</td><td>1153</td></tr><tr><td>2021-09-30</td><td>33339.35</td><td>1111.310000</td><td>952</td></tr><tr><td>2021-10-31</td><td>40067.79</td><td>1292.510000</td><td>1153</td></tr><tr><td>2021-11-30</td><td>37493.90</td><td>1249.800000</td><td>1030</td></tr><tr><td>2021-12-31</td><td>39188.84</td><td>1264.160000</td><td>1033</td></tr></table>"
                    },
                    "metadata": {}
                }
            ],
            "execution_count": 84
        },
        {
            "cell_type": "markdown",
            "source": [
                "#### Top 5 Sales Months"
            ],
            "metadata": {
                "language": "sql",
                "azdata_cell_guid": "0a4369c2-d7d7-433d-bb25-f3eb78ba29f8"
            },
            "attachments": {}
        },
        {
            "cell_type": "code",
            "source": [
                "SELECT TOP(5)\r\n",
                "    EOMONTH(o.OrderDate) AS TransactionMonth, --Use the last day of the month to represent the Month. Since all data is historical do not need to account for midmonth data\r\n",
                "    ROUND(SUM(l.SaleAmount),2) AS MonthlySales, --Sum the Monthly Sales\r\n",
                "    ROUND(SUM(l.SaleAmount)/DAY(EOMONTH(o.OrderDate)),2) AS AvgDailySales -- Total Monthly Sales / Number of Days in month\r\n",
                "\r\n",
                "FROM SalesOrderLines AS l\r\n",
                "    JOIN SalesOrders AS o\r\n",
                "    ON l.OrderID = o.OrderID \r\n",
                "\r\n",
                "GROUP BY EOMONTH(o.OrderDate) --Group by Month\r\n",
                "ORDER BY MonthlySales DESC     "
            ],
            "metadata": {
                "language": "sql",
                "azdata_cell_guid": "b032f682-cb72-498f-aae7-9c897bb48333",
                "tags": []
            },
            "outputs": [
                {
                    "output_type": "display_data",
                    "data": {
                        "text/html": "(5 rows affected)"
                    },
                    "metadata": {}
                },
                {
                    "output_type": "display_data",
                    "data": {
                        "text/html": "Total execution time: 00:00:00.120"
                    },
                    "metadata": {}
                },
                {
                    "output_type": "execute_result",
                    "execution_count": 20,
                    "data": {
                        "application/vnd.dataresource+json": {
                            "schema": {
                                "fields": [
                                    {
                                        "name": "TransactionMonth"
                                    },
                                    {
                                        "name": "MonthlySales"
                                    },
                                    {
                                        "name": "AvgDailySales"
                                    }
                                ]
                            },
                            "data": [
                                {
                                    "TransactionMonth": "2021-01-31",
                                    "MonthlySales": "55312.48",
                                    "AvgDailySales": "1784.270000"
                                },
                                {
                                    "TransactionMonth": "2021-02-28",
                                    "MonthlySales": "54057.65",
                                    "AvgDailySales": "1930.630000"
                                },
                                {
                                    "TransactionMonth": "2020-12-31",
                                    "MonthlySales": "53039.45",
                                    "AvgDailySales": "1710.950000"
                                },
                                {
                                    "TransactionMonth": "2021-04-30",
                                    "MonthlySales": "52109.81",
                                    "AvgDailySales": "1736.990000"
                                },
                                {
                                    "TransactionMonth": "2021-03-31",
                                    "MonthlySales": "51043.98",
                                    "AvgDailySales": "1646.580000"
                                }
                            ]
                        },
                        "text/html": "<table><tr><th>TransactionMonth</th><th>MonthlySales</th><th>AvgDailySales</th></tr><tr><td>2021-01-31</td><td>55312.48</td><td>1784.270000</td></tr><tr><td>2021-02-28</td><td>54057.65</td><td>1930.630000</td></tr><tr><td>2020-12-31</td><td>53039.45</td><td>1710.950000</td></tr><tr><td>2021-04-30</td><td>52109.81</td><td>1736.990000</td></tr><tr><td>2021-03-31</td><td>51043.98</td><td>1646.580000</td></tr></table>"
                    },
                    "metadata": {}
                }
            ],
            "execution_count": 20
        },
        {
            "cell_type": "markdown",
            "source": [
                "#### Monthly Sales - MoM, YoY % Change - Using Window LAG function and CTEs\r\n",
                ""
            ],
            "metadata": {
                "language": "sql",
                "azdata_cell_guid": "262b9ca2-9a6f-4bcf-9926-8b455b5fd098"
            },
            "attachments": {}
        },
        {
            "cell_type": "code",
            "source": [
                "--CTE to create a table of Total Sales by Month \r\n",
                "WITH MonthlySales AS(\r\n",
                "SELECT \r\n",
                "    EOMONTH(o.OrderDate) AS TransactionMonth, --Use the last day of the month to represent the Month. Since all data is historical do not need to account for midmonth data\r\n",
                "    ROUND(SUM(l.SaleAmount),2) AS Sales, --Sum the Monthly Sales\r\n",
                "    ROUND(SUM(l.SaleAmount)/DAY(EOMONTH(o.OrderDate)),2) AS AvgDailySales\r\n",
                "FROM SalesOrderLines AS l\r\n",
                "    JOIN SalesOrders AS o\r\n",
                "    ON l.OrderID = o.OrderID \r\n",
                "GROUP BY EOMONTH(o.OrderDate)\r\n",
                ")\r\n",
                "\r\n",
                "-- Compare Each Month to the Prior Month, and the Prior Year\r\n",
                "SELECT  \r\n",
                "    TransactionMonth,\r\n",
                "    Sales,\r\n",
                "    \r\n",
                "    -- Monthly Sales Percent Change from Prior Month = Current month sales / Prior month sales - 1 \r\n",
                "    ROUND(Sales/ \r\n",
                "        (LAG(Sales) -- use the LAG Window function with no offset, which defaults to the prior record (offset of 1)\r\n",
                "            OVER ( ORDER BY TransactionMonth))-1,4) -- subtract 1 from the ratio of current/prior month sales to calculate the percentage change\r\n",
                "            AS SalesPctChgPM, \r\n",
                "    \r\n",
                "    \r\n",
                "    -- Monthly Sales % Change from Same Month Prior Year = Current Month/ Lag 12 month Sales -1\r\n",
                "    ROUND(Sales/ \r\n",
                "    (LAG(Sales,12) -- Use the Lag Function with offset of 12 to retrive the prior year sales (assuming continuous sales reported in all months)\r\n",
                "        OVER (ORDER BY TransactionMonth))-1,4) -- subtract 1 from the ratio and round to 4 decimals\r\n",
                "        AS SalesPctChgPY, \r\n",
                "    \r\n",
                "    AvgDailySales,\r\n",
                "    \r\n",
                "    -- Avg Daily Sales % change from Prior Month = Avg Daily Sales Current Month / ADS Prior Month-1 \r\n",
                "    ROUND((AvgDailySales/\r\n",
                "    LAG(AvgDailySales) OVER(ORDER BY TransactionMonth))-1,4) AS AvgDailyPctChgPM,\r\n",
                "\r\n",
                "    -- Avg Daily Sales % change from Prior Year = Avg Daily Sales Current Month / ADS Prior Year-1 \r\n",
                "    -- Assumes sales in all consecutive months\r\n",
                "    ROUND((AvgDailySales/\r\n",
                "    LAG(AvgDailySales,12) OVER(ORDER BY TransactionMonth))-1,4) AS AvgDailyPctChgPY\r\n",
                "\r\n",
                "FROM MonthlySales"
            ],
            "metadata": {
                "language": "sql",
                "azdata_cell_guid": "9bd2722e-119f-487c-88ed-05ba23d1e270",
                "tags": []
            },
            "outputs": [
                {
                    "output_type": "display_data",
                    "data": {
                        "text/html": "(35 rows affected)"
                    },
                    "metadata": {}
                },
                {
                    "output_type": "display_data",
                    "data": {
                        "text/html": "Total execution time: 00:00:00.120"
                    },
                    "metadata": {}
                },
                {
                    "output_type": "execute_result",
                    "execution_count": 21,
                    "data": {
                        "application/vnd.dataresource+json": {
                            "schema": {
                                "fields": [
                                    {
                                        "name": "TransactionMonth"
                                    },
                                    {
                                        "name": "Sales"
                                    },
                                    {
                                        "name": "SalesPctChgPM"
                                    },
                                    {
                                        "name": "SalesPctChgPY"
                                    },
                                    {
                                        "name": "AvgDailySales"
                                    },
                                    {
                                        "name": "AvgDailyPctChgPM"
                                    },
                                    {
                                        "name": "AvgDailyPctChgPY"
                                    }
                                ]
                            },
                            "data": [
                                {
                                    "TransactionMonth": "2019-02-28",
                                    "Sales": "14964.79",
                                    "SalesPctChgPM": "NULL",
                                    "SalesPctChgPY": "NULL",
                                    "AvgDailySales": "534.460000",
                                    "AvgDailyPctChgPM": "NULL",
                                    "AvgDailyPctChgPY": "NULL"
                                },
                                {
                                    "TransactionMonth": "2019-03-31",
                                    "Sales": "20949.45",
                                    "SalesPctChgPM": "0.399900",
                                    "SalesPctChgPY": "NULL",
                                    "AvgDailySales": "675.790000",
                                    "AvgDailyPctChgPM": "0.264400",
                                    "AvgDailyPctChgPY": "NULL"
                                },
                                {
                                    "TransactionMonth": "2019-04-30",
                                    "Sales": "17287.15",
                                    "SalesPctChgPM": "-0.174800",
                                    "SalesPctChgPY": "NULL",
                                    "AvgDailySales": "576.240000",
                                    "AvgDailyPctChgPM": "-0.147300",
                                    "AvgDailyPctChgPY": "NULL"
                                },
                                {
                                    "TransactionMonth": "2019-05-31",
                                    "Sales": "24424.98",
                                    "SalesPctChgPM": "0.412900",
                                    "SalesPctChgPY": "NULL",
                                    "AvgDailySales": "787.900000",
                                    "AvgDailyPctChgPM": "0.367300",
                                    "AvgDailyPctChgPY": "NULL"
                                },
                                {
                                    "TransactionMonth": "2019-06-30",
                                    "Sales": "27454.37",
                                    "SalesPctChgPM": "0.124000",
                                    "SalesPctChgPY": "NULL",
                                    "AvgDailySales": "915.150000",
                                    "AvgDailyPctChgPM": "0.161500",
                                    "AvgDailyPctChgPY": "NULL"
                                },
                                {
                                    "TransactionMonth": "2019-07-31",
                                    "Sales": "27423.94",
                                    "SalesPctChgPM": "-0.001100",
                                    "SalesPctChgPY": "NULL",
                                    "AvgDailySales": "884.640000",
                                    "AvgDailyPctChgPM": "-0.033300",
                                    "AvgDailyPctChgPY": "NULL"
                                },
                                {
                                    "TransactionMonth": "2019-08-31",
                                    "Sales": "26306.96",
                                    "SalesPctChgPM": "-0.040700",
                                    "SalesPctChgPY": "NULL",
                                    "AvgDailySales": "848.610000",
                                    "AvgDailyPctChgPM": "-0.040700",
                                    "AvgDailyPctChgPY": "NULL"
                                },
                                {
                                    "TransactionMonth": "2019-09-30",
                                    "Sales": "28842.81",
                                    "SalesPctChgPM": "0.096400",
                                    "SalesPctChgPY": "NULL",
                                    "AvgDailySales": "961.430000",
                                    "AvgDailyPctChgPM": "0.132900",
                                    "AvgDailyPctChgPY": "NULL"
                                },
                                {
                                    "TransactionMonth": "2019-10-31",
                                    "Sales": "29368.16",
                                    "SalesPctChgPM": "0.018200",
                                    "SalesPctChgPY": "NULL",
                                    "AvgDailySales": "947.360000",
                                    "AvgDailyPctChgPM": "-0.014600",
                                    "AvgDailyPctChgPY": "NULL"
                                },
                                {
                                    "TransactionMonth": "2019-11-30",
                                    "Sales": "29010.85",
                                    "SalesPctChgPM": "-0.012200",
                                    "SalesPctChgPY": "NULL",
                                    "AvgDailySales": "967.030000",
                                    "AvgDailyPctChgPM": "0.020800",
                                    "AvgDailyPctChgPY": "NULL"
                                },
                                {
                                    "TransactionMonth": "2019-12-31",
                                    "Sales": "31315.30",
                                    "SalesPctChgPM": "0.079400",
                                    "SalesPctChgPY": "NULL",
                                    "AvgDailySales": "1010.170000",
                                    "AvgDailyPctChgPM": "0.044600",
                                    "AvgDailyPctChgPY": "NULL"
                                },
                                {
                                    "TransactionMonth": "2020-01-31",
                                    "Sales": "37956.78",
                                    "SalesPctChgPM": "0.212100",
                                    "SalesPctChgPY": "NULL",
                                    "AvgDailySales": "1224.410000",
                                    "AvgDailyPctChgPM": "0.212100",
                                    "AvgDailyPctChgPY": "NULL"
                                },
                                {
                                    "TransactionMonth": "2020-02-29",
                                    "Sales": "33820.10",
                                    "SalesPctChgPM": "-0.109000",
                                    "SalesPctChgPY": "1.260000",
                                    "AvgDailySales": "1166.210000",
                                    "AvgDailyPctChgPM": "-0.047500",
                                    "AvgDailyPctChgPY": "1.182000"
                                },
                                {
                                    "TransactionMonth": "2020-03-31",
                                    "Sales": "44724.33",
                                    "SalesPctChgPM": "0.322400",
                                    "SalesPctChgPY": "1.134900",
                                    "AvgDailySales": "1442.720000",
                                    "AvgDailyPctChgPM": "0.237100",
                                    "AvgDailyPctChgPY": "1.134900"
                                },
                                {
                                    "TransactionMonth": "2020-04-30",
                                    "Sales": "31871.41",
                                    "SalesPctChgPM": "-0.287400",
                                    "SalesPctChgPY": "0.843600",
                                    "AvgDailySales": "1062.380000",
                                    "AvgDailyPctChgPM": "-0.263600",
                                    "AvgDailyPctChgPY": "0.843600"
                                },
                                {
                                    "TransactionMonth": "2020-05-31",
                                    "Sales": "35155.72",
                                    "SalesPctChgPM": "0.103000",
                                    "SalesPctChgPY": "0.439300",
                                    "AvgDailySales": "1134.060000",
                                    "AvgDailyPctChgPM": "0.067500",
                                    "AvgDailyPctChgPY": "0.439300"
                                },
                                {
                                    "TransactionMonth": "2020-06-30",
                                    "Sales": "35149.96",
                                    "SalesPctChgPM": "-0.000200",
                                    "SalesPctChgPY": "0.280300",
                                    "AvgDailySales": "1171.670000",
                                    "AvgDailyPctChgPM": "0.033200",
                                    "AvgDailyPctChgPY": "0.280300"
                                },
                                {
                                    "TransactionMonth": "2020-07-31",
                                    "Sales": "41633.89",
                                    "SalesPctChgPM": "0.184500",
                                    "SalesPctChgPY": "0.518200",
                                    "AvgDailySales": "1343.030000",
                                    "AvgDailyPctChgPM": "0.146300",
                                    "AvgDailyPctChgPY": "0.518200"
                                },
                                {
                                    "TransactionMonth": "2020-08-31",
                                    "Sales": "47599.20",
                                    "SalesPctChgPM": "0.143300",
                                    "SalesPctChgPY": "0.809400",
                                    "AvgDailySales": "1535.460000",
                                    "AvgDailyPctChgPM": "0.143300",
                                    "AvgDailyPctChgPY": "0.809400"
                                },
                                {
                                    "TransactionMonth": "2020-09-30",
                                    "Sales": "43994.26",
                                    "SalesPctChgPM": "-0.075700",
                                    "SalesPctChgPY": "0.525300",
                                    "AvgDailySales": "1466.480000",
                                    "AvgDailyPctChgPM": "-0.044900",
                                    "AvgDailyPctChgPY": "0.525300"
                                },
                                {
                                    "TransactionMonth": "2020-10-31",
                                    "Sales": "46408.37",
                                    "SalesPctChgPM": "0.054900",
                                    "SalesPctChgPY": "0.580200",
                                    "AvgDailySales": "1497.040000",
                                    "AvgDailyPctChgPM": "0.020800",
                                    "AvgDailyPctChgPY": "0.580200"
                                },
                                {
                                    "TransactionMonth": "2020-11-30",
                                    "Sales": "42768.71",
                                    "SalesPctChgPM": "-0.078400",
                                    "SalesPctChgPY": "0.474200",
                                    "AvgDailySales": "1425.620000",
                                    "AvgDailyPctChgPM": "-0.047700",
                                    "AvgDailyPctChgPY": "0.474200"
                                },
                                {
                                    "TransactionMonth": "2020-12-31",
                                    "Sales": "53039.45",
                                    "SalesPctChgPM": "0.240100",
                                    "SalesPctChgPY": "0.693700",
                                    "AvgDailySales": "1710.950000",
                                    "AvgDailyPctChgPM": "0.200100",
                                    "AvgDailyPctChgPY": "0.693700"
                                },
                                {
                                    "TransactionMonth": "2021-01-31",
                                    "Sales": "55312.48",
                                    "SalesPctChgPM": "0.042900",
                                    "SalesPctChgPY": "0.457200",
                                    "AvgDailySales": "1784.270000",
                                    "AvgDailyPctChgPM": "0.042900",
                                    "AvgDailyPctChgPY": "0.457200"
                                },
                                {
                                    "TransactionMonth": "2021-02-28",
                                    "Sales": "54057.65",
                                    "SalesPctChgPM": "-0.022700",
                                    "SalesPctChgPY": "0.598400",
                                    "AvgDailySales": "1930.630000",
                                    "AvgDailyPctChgPM": "0.082000",
                                    "AvgDailyPctChgPY": "0.655500"
                                },
                                {
                                    "TransactionMonth": "2021-03-31",
                                    "Sales": "51043.98",
                                    "SalesPctChgPM": "-0.055800",
                                    "SalesPctChgPY": "0.141300",
                                    "AvgDailySales": "1646.580000",
                                    "AvgDailyPctChgPM": "-0.147100",
                                    "AvgDailyPctChgPY": "0.141300"
                                },
                                {
                                    "TransactionMonth": "2021-04-30",
                                    "Sales": "52109.81",
                                    "SalesPctChgPM": "0.020900",
                                    "SalesPctChgPY": "0.635000",
                                    "AvgDailySales": "1736.990000",
                                    "AvgDailyPctChgPM": "0.054900",
                                    "AvgDailyPctChgPY": "0.635000"
                                },
                                {
                                    "TransactionMonth": "2021-05-31",
                                    "Sales": "49186.36",
                                    "SalesPctChgPM": "-0.056100",
                                    "SalesPctChgPY": "0.399100",
                                    "AvgDailySales": "1586.660000",
                                    "AvgDailyPctChgPM": "-0.086500",
                                    "AvgDailyPctChgPY": "0.399100"
                                },
                                {
                                    "TransactionMonth": "2021-06-30",
                                    "Sales": "44196.52",
                                    "SalesPctChgPM": "-0.101400",
                                    "SalesPctChgPY": "0.257400",
                                    "AvgDailySales": "1473.220000",
                                    "AvgDailyPctChgPM": "-0.071500",
                                    "AvgDailyPctChgPY": "0.257400"
                                },
                                {
                                    "TransactionMonth": "2021-07-31",
                                    "Sales": "40539.18",
                                    "SalesPctChgPM": "-0.082800",
                                    "SalesPctChgPY": "-0.026300",
                                    "AvgDailySales": "1307.720000",
                                    "AvgDailyPctChgPM": "-0.112300",
                                    "AvgDailyPctChgPY": "-0.026300"
                                },
                                {
                                    "TransactionMonth": "2021-08-31",
                                    "Sales": "40792.58",
                                    "SalesPctChgPM": "0.006300",
                                    "SalesPctChgPY": "-0.143000",
                                    "AvgDailySales": "1315.890000",
                                    "AvgDailyPctChgPM": "0.006200",
                                    "AvgDailyPctChgPY": "-0.143000"
                                },
                                {
                                    "TransactionMonth": "2021-09-30",
                                    "Sales": "33339.35",
                                    "SalesPctChgPM": "-0.182700",
                                    "SalesPctChgPY": "-0.242200",
                                    "AvgDailySales": "1111.310000",
                                    "AvgDailyPctChgPM": "-0.155500",
                                    "AvgDailyPctChgPY": "-0.242200"
                                },
                                {
                                    "TransactionMonth": "2021-10-31",
                                    "Sales": "40067.79",
                                    "SalesPctChgPM": "0.201800",
                                    "SalesPctChgPY": "-0.136600",
                                    "AvgDailySales": "1292.510000",
                                    "AvgDailyPctChgPM": "0.163100",
                                    "AvgDailyPctChgPY": "-0.136600"
                                },
                                {
                                    "TransactionMonth": "2021-11-30",
                                    "Sales": "37493.90",
                                    "SalesPctChgPM": "-0.064200",
                                    "SalesPctChgPY": "-0.123300",
                                    "AvgDailySales": "1249.800000",
                                    "AvgDailyPctChgPM": "-0.033000",
                                    "AvgDailyPctChgPY": "-0.123300"
                                },
                                {
                                    "TransactionMonth": "2021-12-31",
                                    "Sales": "39188.84",
                                    "SalesPctChgPM": "0.045200",
                                    "SalesPctChgPY": "-0.261100",
                                    "AvgDailySales": "1264.160000",
                                    "AvgDailyPctChgPM": "0.011500",
                                    "AvgDailyPctChgPY": "-0.261100"
                                }
                            ]
                        },
                        "text/html": "<table><tr><th>TransactionMonth</th><th>Sales</th><th>SalesPctChgPM</th><th>SalesPctChgPY</th><th>AvgDailySales</th><th>AvgDailyPctChgPM</th><th>AvgDailyPctChgPY</th></tr><tr><td>2019-02-28</td><td>14964.79</td><td>NULL</td><td>NULL</td><td>534.460000</td><td>NULL</td><td>NULL</td></tr><tr><td>2019-03-31</td><td>20949.45</td><td>0.399900</td><td>NULL</td><td>675.790000</td><td>0.264400</td><td>NULL</td></tr><tr><td>2019-04-30</td><td>17287.15</td><td>-0.174800</td><td>NULL</td><td>576.240000</td><td>-0.147300</td><td>NULL</td></tr><tr><td>2019-05-31</td><td>24424.98</td><td>0.412900</td><td>NULL</td><td>787.900000</td><td>0.367300</td><td>NULL</td></tr><tr><td>2019-06-30</td><td>27454.37</td><td>0.124000</td><td>NULL</td><td>915.150000</td><td>0.161500</td><td>NULL</td></tr><tr><td>2019-07-31</td><td>27423.94</td><td>-0.001100</td><td>NULL</td><td>884.640000</td><td>-0.033300</td><td>NULL</td></tr><tr><td>2019-08-31</td><td>26306.96</td><td>-0.040700</td><td>NULL</td><td>848.610000</td><td>-0.040700</td><td>NULL</td></tr><tr><td>2019-09-30</td><td>28842.81</td><td>0.096400</td><td>NULL</td><td>961.430000</td><td>0.132900</td><td>NULL</td></tr><tr><td>2019-10-31</td><td>29368.16</td><td>0.018200</td><td>NULL</td><td>947.360000</td><td>-0.014600</td><td>NULL</td></tr><tr><td>2019-11-30</td><td>29010.85</td><td>-0.012200</td><td>NULL</td><td>967.030000</td><td>0.020800</td><td>NULL</td></tr><tr><td>2019-12-31</td><td>31315.30</td><td>0.079400</td><td>NULL</td><td>1010.170000</td><td>0.044600</td><td>NULL</td></tr><tr><td>2020-01-31</td><td>37956.78</td><td>0.212100</td><td>NULL</td><td>1224.410000</td><td>0.212100</td><td>NULL</td></tr><tr><td>2020-02-29</td><td>33820.10</td><td>-0.109000</td><td>1.260000</td><td>1166.210000</td><td>-0.047500</td><td>1.182000</td></tr><tr><td>2020-03-31</td><td>44724.33</td><td>0.322400</td><td>1.134900</td><td>1442.720000</td><td>0.237100</td><td>1.134900</td></tr><tr><td>2020-04-30</td><td>31871.41</td><td>-0.287400</td><td>0.843600</td><td>1062.380000</td><td>-0.263600</td><td>0.843600</td></tr><tr><td>2020-05-31</td><td>35155.72</td><td>0.103000</td><td>0.439300</td><td>1134.060000</td><td>0.067500</td><td>0.439300</td></tr><tr><td>2020-06-30</td><td>35149.96</td><td>-0.000200</td><td>0.280300</td><td>1171.670000</td><td>0.033200</td><td>0.280300</td></tr><tr><td>2020-07-31</td><td>41633.89</td><td>0.184500</td><td>0.518200</td><td>1343.030000</td><td>0.146300</td><td>0.518200</td></tr><tr><td>2020-08-31</td><td>47599.20</td><td>0.143300</td><td>0.809400</td><td>1535.460000</td><td>0.143300</td><td>0.809400</td></tr><tr><td>2020-09-30</td><td>43994.26</td><td>-0.075700</td><td>0.525300</td><td>1466.480000</td><td>-0.044900</td><td>0.525300</td></tr><tr><td>2020-10-31</td><td>46408.37</td><td>0.054900</td><td>0.580200</td><td>1497.040000</td><td>0.020800</td><td>0.580200</td></tr><tr><td>2020-11-30</td><td>42768.71</td><td>-0.078400</td><td>0.474200</td><td>1425.620000</td><td>-0.047700</td><td>0.474200</td></tr><tr><td>2020-12-31</td><td>53039.45</td><td>0.240100</td><td>0.693700</td><td>1710.950000</td><td>0.200100</td><td>0.693700</td></tr><tr><td>2021-01-31</td><td>55312.48</td><td>0.042900</td><td>0.457200</td><td>1784.270000</td><td>0.042900</td><td>0.457200</td></tr><tr><td>2021-02-28</td><td>54057.65</td><td>-0.022700</td><td>0.598400</td><td>1930.630000</td><td>0.082000</td><td>0.655500</td></tr><tr><td>2021-03-31</td><td>51043.98</td><td>-0.055800</td><td>0.141300</td><td>1646.580000</td><td>-0.147100</td><td>0.141300</td></tr><tr><td>2021-04-30</td><td>52109.81</td><td>0.020900</td><td>0.635000</td><td>1736.990000</td><td>0.054900</td><td>0.635000</td></tr><tr><td>2021-05-31</td><td>49186.36</td><td>-0.056100</td><td>0.399100</td><td>1586.660000</td><td>-0.086500</td><td>0.399100</td></tr><tr><td>2021-06-30</td><td>44196.52</td><td>-0.101400</td><td>0.257400</td><td>1473.220000</td><td>-0.071500</td><td>0.257400</td></tr><tr><td>2021-07-31</td><td>40539.18</td><td>-0.082800</td><td>-0.026300</td><td>1307.720000</td><td>-0.112300</td><td>-0.026300</td></tr><tr><td>2021-08-31</td><td>40792.58</td><td>0.006300</td><td>-0.143000</td><td>1315.890000</td><td>0.006200</td><td>-0.143000</td></tr><tr><td>2021-09-30</td><td>33339.35</td><td>-0.182700</td><td>-0.242200</td><td>1111.310000</td><td>-0.155500</td><td>-0.242200</td></tr><tr><td>2021-10-31</td><td>40067.79</td><td>0.201800</td><td>-0.136600</td><td>1292.510000</td><td>0.163100</td><td>-0.136600</td></tr><tr><td>2021-11-30</td><td>37493.90</td><td>-0.064200</td><td>-0.123300</td><td>1249.800000</td><td>-0.033000</td><td>-0.123300</td></tr><tr><td>2021-12-31</td><td>39188.84</td><td>0.045200</td><td>-0.261100</td><td>1264.160000</td><td>0.011500</td><td>-0.261100</td></tr></table>"
                    },
                    "metadata": {}
                }
            ],
            "execution_count": 21
        },
        {
            "cell_type": "markdown",
            "source": [
                "#### Rolling Average Monthly Sales - Using Window Function"
            ],
            "metadata": {
                "language": "sql",
                "azdata_cell_guid": "a1324aaa-c9f9-4ad4-9878-21f4bb648b2b"
            },
            "attachments": {}
        },
        {
            "cell_type": "code",
            "source": [
                "--CTE to create a table of Total Sales by Month and by Product Category\r\n",
                "WITH MonthlySales AS(\r\n",
                "SELECT \r\n",
                "    EOMONTH(o.OrderDate) AS TransactionMonth, --Use the last day of the month to represent the Month. Since all data is historical do not need to account for midmonth data\r\n",
                "    ROUND(SUM(l.SaleAmount),2) AS Sales, --Sum the Monthly Sales\r\n",
                "    ROUND(SUM(l.SaleAmount)/DAY(EOMONTH(o.OrderDate)),2) AS AvgDailySales\r\n",
                "FROM SalesOrderLines AS l\r\n",
                "    JOIN SalesOrders AS o\r\n",
                "    ON l.OrderID = o.OrderID \r\n",
                "GROUP BY EOMONTH(o.OrderDate)\r\n",
                ")\r\n",
                "\r\n",
                "-- Caculate a rolling three month average of sales by category\r\n",
                "SELECT  \r\n",
                "    TransactionMonth,\r\n",
                "    SUM(Sales) TotalSales,    \r\n",
                "    AVG(SUM(Sales)) OVER(\r\n",
                "        ORDER BY TransactionMonth -- Order the records by transaction month, ensuring the average is calculated chronologically\r\n",
                "        ROWS BETWEEN 2 PRECEDING and CURRENT ROW -- specifies the range of rows to include in the average as 2 preceeding and current row\r\n",
                "    ) AS MovingThreeMonthAvgSales,\n",
                "\r\n",
                "FROM MonthlySales\r\n",
                "GROUP BY TransactionMonth\r\n",
                "ORDER BY TransactionMonth"
            ],
            "metadata": {
                "language": "sql",
                "azdata_cell_guid": "12985283-fc73-4639-a080-53fc8d27d5f1"
            },
            "outputs": [
                {
                    "output_type": "display_data",
                    "data": {
                        "text/html": "(35 rows affected)"
                    },
                    "metadata": {}
                },
                {
                    "output_type": "display_data",
                    "data": {
                        "text/html": "Total execution time: 00:00:00.139"
                    },
                    "metadata": {}
                },
                {
                    "output_type": "execute_result",
                    "execution_count": 85,
                    "data": {
                        "application/vnd.dataresource+json": {
                            "schema": {
                                "fields": [
                                    {
                                        "name": "TransactionMonth"
                                    },
                                    {
                                        "name": "TotalSales"
                                    },
                                    {
                                        "name": "MovingThreeMonthAvgSales"
                                    }
                                ]
                            },
                            "data": [
                                {
                                    "TransactionMonth": "2019-02-28",
                                    "TotalSales": "14964.79",
                                    "MovingThreeMonthAvgSales": "14964.790000"
                                },
                                {
                                    "TransactionMonth": "2019-03-31",
                                    "TotalSales": "20949.45",
                                    "MovingThreeMonthAvgSales": "17957.120000"
                                },
                                {
                                    "TransactionMonth": "2019-04-30",
                                    "TotalSales": "17287.15",
                                    "MovingThreeMonthAvgSales": "17733.796666"
                                },
                                {
                                    "TransactionMonth": "2019-05-31",
                                    "TotalSales": "24424.98",
                                    "MovingThreeMonthAvgSales": "20887.193333"
                                },
                                {
                                    "TransactionMonth": "2019-06-30",
                                    "TotalSales": "27454.37",
                                    "MovingThreeMonthAvgSales": "23055.500000"
                                },
                                {
                                    "TransactionMonth": "2019-07-31",
                                    "TotalSales": "27423.94",
                                    "MovingThreeMonthAvgSales": "26434.430000"
                                },
                                {
                                    "TransactionMonth": "2019-08-31",
                                    "TotalSales": "26306.96",
                                    "MovingThreeMonthAvgSales": "27061.756666"
                                },
                                {
                                    "TransactionMonth": "2019-09-30",
                                    "TotalSales": "28842.81",
                                    "MovingThreeMonthAvgSales": "27524.570000"
                                },
                                {
                                    "TransactionMonth": "2019-10-31",
                                    "TotalSales": "29368.16",
                                    "MovingThreeMonthAvgSales": "28172.643333"
                                },
                                {
                                    "TransactionMonth": "2019-11-30",
                                    "TotalSales": "29010.85",
                                    "MovingThreeMonthAvgSales": "29073.940000"
                                },
                                {
                                    "TransactionMonth": "2019-12-31",
                                    "TotalSales": "31315.30",
                                    "MovingThreeMonthAvgSales": "29898.103333"
                                },
                                {
                                    "TransactionMonth": "2020-01-31",
                                    "TotalSales": "37956.78",
                                    "MovingThreeMonthAvgSales": "32760.976666"
                                },
                                {
                                    "TransactionMonth": "2020-02-29",
                                    "TotalSales": "33820.10",
                                    "MovingThreeMonthAvgSales": "34364.060000"
                                },
                                {
                                    "TransactionMonth": "2020-03-31",
                                    "TotalSales": "44724.33",
                                    "MovingThreeMonthAvgSales": "38833.736666"
                                },
                                {
                                    "TransactionMonth": "2020-04-30",
                                    "TotalSales": "31871.41",
                                    "MovingThreeMonthAvgSales": "36805.280000"
                                },
                                {
                                    "TransactionMonth": "2020-05-31",
                                    "TotalSales": "35155.72",
                                    "MovingThreeMonthAvgSales": "37250.486666"
                                },
                                {
                                    "TransactionMonth": "2020-06-30",
                                    "TotalSales": "35149.96",
                                    "MovingThreeMonthAvgSales": "34059.030000"
                                },
                                {
                                    "TransactionMonth": "2020-07-31",
                                    "TotalSales": "41633.89",
                                    "MovingThreeMonthAvgSales": "37313.190000"
                                },
                                {
                                    "TransactionMonth": "2020-08-31",
                                    "TotalSales": "47599.20",
                                    "MovingThreeMonthAvgSales": "41461.016666"
                                },
                                {
                                    "TransactionMonth": "2020-09-30",
                                    "TotalSales": "43994.26",
                                    "MovingThreeMonthAvgSales": "44409.116666"
                                },
                                {
                                    "TransactionMonth": "2020-10-31",
                                    "TotalSales": "46408.37",
                                    "MovingThreeMonthAvgSales": "46000.610000"
                                },
                                {
                                    "TransactionMonth": "2020-11-30",
                                    "TotalSales": "42768.71",
                                    "MovingThreeMonthAvgSales": "44390.446666"
                                },
                                {
                                    "TransactionMonth": "2020-12-31",
                                    "TotalSales": "53039.45",
                                    "MovingThreeMonthAvgSales": "47405.510000"
                                },
                                {
                                    "TransactionMonth": "2021-01-31",
                                    "TotalSales": "55312.48",
                                    "MovingThreeMonthAvgSales": "50373.546666"
                                },
                                {
                                    "TransactionMonth": "2021-02-28",
                                    "TotalSales": "54057.65",
                                    "MovingThreeMonthAvgSales": "54136.526666"
                                },
                                {
                                    "TransactionMonth": "2021-03-31",
                                    "TotalSales": "51043.98",
                                    "MovingThreeMonthAvgSales": "53471.370000"
                                },
                                {
                                    "TransactionMonth": "2021-04-30",
                                    "TotalSales": "52109.81",
                                    "MovingThreeMonthAvgSales": "52403.813333"
                                },
                                {
                                    "TransactionMonth": "2021-05-31",
                                    "TotalSales": "49186.36",
                                    "MovingThreeMonthAvgSales": "50780.050000"
                                },
                                {
                                    "TransactionMonth": "2021-06-30",
                                    "TotalSales": "44196.52",
                                    "MovingThreeMonthAvgSales": "48497.563333"
                                },
                                {
                                    "TransactionMonth": "2021-07-31",
                                    "TotalSales": "40539.18",
                                    "MovingThreeMonthAvgSales": "44640.686666"
                                },
                                {
                                    "TransactionMonth": "2021-08-31",
                                    "TotalSales": "40792.58",
                                    "MovingThreeMonthAvgSales": "41842.760000"
                                },
                                {
                                    "TransactionMonth": "2021-09-30",
                                    "TotalSales": "33339.35",
                                    "MovingThreeMonthAvgSales": "38223.703333"
                                },
                                {
                                    "TransactionMonth": "2021-10-31",
                                    "TotalSales": "40067.79",
                                    "MovingThreeMonthAvgSales": "38066.573333"
                                },
                                {
                                    "TransactionMonth": "2021-11-30",
                                    "TotalSales": "37493.90",
                                    "MovingThreeMonthAvgSales": "36967.013333"
                                },
                                {
                                    "TransactionMonth": "2021-12-31",
                                    "TotalSales": "39188.84",
                                    "MovingThreeMonthAvgSales": "38916.843333"
                                }
                            ]
                        },
                        "text/html": "<table><tr><th>TransactionMonth</th><th>TotalSales</th><th>MovingThreeMonthAvgSales</th></tr><tr><td>2019-02-28</td><td>14964.79</td><td>14964.790000</td></tr><tr><td>2019-03-31</td><td>20949.45</td><td>17957.120000</td></tr><tr><td>2019-04-30</td><td>17287.15</td><td>17733.796666</td></tr><tr><td>2019-05-31</td><td>24424.98</td><td>20887.193333</td></tr><tr><td>2019-06-30</td><td>27454.37</td><td>23055.500000</td></tr><tr><td>2019-07-31</td><td>27423.94</td><td>26434.430000</td></tr><tr><td>2019-08-31</td><td>26306.96</td><td>27061.756666</td></tr><tr><td>2019-09-30</td><td>28842.81</td><td>27524.570000</td></tr><tr><td>2019-10-31</td><td>29368.16</td><td>28172.643333</td></tr><tr><td>2019-11-30</td><td>29010.85</td><td>29073.940000</td></tr><tr><td>2019-12-31</td><td>31315.30</td><td>29898.103333</td></tr><tr><td>2020-01-31</td><td>37956.78</td><td>32760.976666</td></tr><tr><td>2020-02-29</td><td>33820.10</td><td>34364.060000</td></tr><tr><td>2020-03-31</td><td>44724.33</td><td>38833.736666</td></tr><tr><td>2020-04-30</td><td>31871.41</td><td>36805.280000</td></tr><tr><td>2020-05-31</td><td>35155.72</td><td>37250.486666</td></tr><tr><td>2020-06-30</td><td>35149.96</td><td>34059.030000</td></tr><tr><td>2020-07-31</td><td>41633.89</td><td>37313.190000</td></tr><tr><td>2020-08-31</td><td>47599.20</td><td>41461.016666</td></tr><tr><td>2020-09-30</td><td>43994.26</td><td>44409.116666</td></tr><tr><td>2020-10-31</td><td>46408.37</td><td>46000.610000</td></tr><tr><td>2020-11-30</td><td>42768.71</td><td>44390.446666</td></tr><tr><td>2020-12-31</td><td>53039.45</td><td>47405.510000</td></tr><tr><td>2021-01-31</td><td>55312.48</td><td>50373.546666</td></tr><tr><td>2021-02-28</td><td>54057.65</td><td>54136.526666</td></tr><tr><td>2021-03-31</td><td>51043.98</td><td>53471.370000</td></tr><tr><td>2021-04-30</td><td>52109.81</td><td>52403.813333</td></tr><tr><td>2021-05-31</td><td>49186.36</td><td>50780.050000</td></tr><tr><td>2021-06-30</td><td>44196.52</td><td>48497.563333</td></tr><tr><td>2021-07-31</td><td>40539.18</td><td>44640.686666</td></tr><tr><td>2021-08-31</td><td>40792.58</td><td>41842.760000</td></tr><tr><td>2021-09-30</td><td>33339.35</td><td>38223.703333</td></tr><tr><td>2021-10-31</td><td>40067.79</td><td>38066.573333</td></tr><tr><td>2021-11-30</td><td>37493.90</td><td>36967.013333</td></tr><tr><td>2021-12-31</td><td>39188.84</td><td>38916.843333</td></tr></table>"
                    },
                    "metadata": {}
                }
            ],
            "execution_count": 85
        },
        {
            "cell_type": "markdown",
            "source": [
                "#### Rolling Average Monthly Sales by Product Category - Using Window Function with Partition\r\n",
                "\r\n",
                "Trailing Three Month Average Sales by Product Category"
            ],
            "metadata": {
                "language": "sql",
                "azdata_cell_guid": "80d02470-2a0f-40e0-9c56-88144f9fa3c6"
            },
            "attachments": {}
        },
        {
            "cell_type": "code",
            "source": [
                "--CTE to create a table of Total Sales by Month and by Product Category\r\n",
                "WITH MonthlySales AS(\r\n",
                "SELECT \r\n",
                "    c.Category AS Category,\r\n",
                "    EOMONTH(o.OrderDate) AS TransactionMonth, --Use the last day of the month to represent the Month. Since all data is historical do not need to account for midmonth data\r\n",
                "    ROUND(SUM(l.SaleAmount),2) AS Sales, --Sum the Monthly Sales\r\n",
                "    ROUND(SUM(l.SaleAmount)/DAY(EOMONTH(o.OrderDate)),2) AS AvgDailySales\r\n",
                "FROM SalesOrderLines AS l\r\n",
                "    JOIN SalesOrders AS o\r\n",
                "    ON l.OrderID = o.OrderID \r\n",
                "    JOIN DimProduct AS p\r\n",
                "    ON l.ProductID = p.ProductID\r\n",
                "    JOIN DimSubcategory AS sc\r\n",
                "    ON p.SubcategoryID = sc.SubcategoryID\r\n",
                "    JOIN DimCategory AS c\r\n",
                "    ON sc.CategoryID = c.CategoryID\r\n",
                "GROUP BY Category, EOMONTH(o.OrderDate)\r\n",
                ")\r\n",
                "\r\n",
                "-- Caculate a rolling three month average of sales by category\r\n",
                "SELECT  \r\n",
                "    Category,\r\n",
                "    TransactionMonth,\r\n",
                "    SUM(Sales) TotalSales,    \r\n",
                "    AVG(SUM(Sales)) OVER(\r\n",
                "        PARTITION BY Category  -- Divide the data by Category - the avg will be calcuated separately for each category\r\n",
                "        ORDER BY TransactionMonth -- Order the records by transaction month, ensuring the average is calculated chronologically\r\n",
                "        ROWS BETWEEN 2 PRECEDING and CURRENT ROW -- specifies the range of rows to include in the average as 2 preceeding and current row\r\n",
                "    ) AS MovingThreeMonthAvgSales\r\n",
                "\r\n",
                "FROM MonthlySales\r\n",
                "GROUP BY\r\n",
                "    Category,\r\n",
                "    TransactionMonth\r\n",
                "ORDER BY Category, TransactionMonth\r\n",
                ""
            ],
            "metadata": {
                "language": "sql",
                "azdata_cell_guid": "c9235ef0-0a7d-44ad-a536-7d6c1076c9c3"
            },
            "outputs": [
                {
                    "output_type": "display_data",
                    "data": {
                        "text/html": "(337 rows affected)"
                    },
                    "metadata": {}
                },
                {
                    "output_type": "display_data",
                    "data": {
                        "text/html": "Total execution time: 00:00:00.179"
                    },
                    "metadata": {}
                },
                {
                    "output_type": "execute_result",
                    "execution_count": 13,
                    "data": {
                        "application/vnd.dataresource+json": {
                            "schema": {
                                "fields": [
                                    {
                                        "name": "Category"
                                    },
                                    {
                                        "name": "TransactionMonth"
                                    },
                                    {
                                        "name": "TotalSales"
                                    },
                                    {
                                        "name": "MovingThreeMonthAvgSales"
                                    }
                                ]
                            },
                            "data": [
                                {
                                    "Category": "Accessories",
                                    "TransactionMonth": "2019-02-28",
                                    "TotalSales": "742.06",
                                    "MovingThreeMonthAvgSales": "742.060000"
                                },
                                {
                                    "Category": "Accessories",
                                    "TransactionMonth": "2019-03-31",
                                    "TotalSales": "752.48",
                                    "MovingThreeMonthAvgSales": "747.270000"
                                },
                                {
                                    "Category": "Accessories",
                                    "TransactionMonth": "2019-04-30",
                                    "TotalSales": "903.54",
                                    "MovingThreeMonthAvgSales": "799.360000"
                                },
                                {
                                    "Category": "Accessories",
                                    "TransactionMonth": "2019-05-31",
                                    "TotalSales": "1094.00",
                                    "MovingThreeMonthAvgSales": "916.673333"
                                },
                                {
                                    "Category": "Accessories",
                                    "TransactionMonth": "2019-06-30",
                                    "TotalSales": "1100.73",
                                    "MovingThreeMonthAvgSales": "1032.756666"
                                },
                                {
                                    "Category": "Accessories",
                                    "TransactionMonth": "2019-07-31",
                                    "TotalSales": "1003.34",
                                    "MovingThreeMonthAvgSales": "1066.023333"
                                },
                                {
                                    "Category": "Accessories",
                                    "TransactionMonth": "2019-08-31",
                                    "TotalSales": "940.90",
                                    "MovingThreeMonthAvgSales": "1014.990000"
                                },
                                {
                                    "Category": "Accessories",
                                    "TransactionMonth": "2019-09-30",
                                    "TotalSales": "1073.68",
                                    "MovingThreeMonthAvgSales": "1005.973333"
                                },
                                {
                                    "Category": "Accessories",
                                    "TransactionMonth": "2019-10-31",
                                    "TotalSales": "1048.93",
                                    "MovingThreeMonthAvgSales": "1021.170000"
                                },
                                {
                                    "Category": "Accessories",
                                    "TransactionMonth": "2019-11-30",
                                    "TotalSales": "978.33",
                                    "MovingThreeMonthAvgSales": "1033.646666"
                                },
                                {
                                    "Category": "Accessories",
                                    "TransactionMonth": "2019-12-31",
                                    "TotalSales": "1116.51",
                                    "MovingThreeMonthAvgSales": "1047.923333"
                                },
                                {
                                    "Category": "Accessories",
                                    "TransactionMonth": "2020-01-31",
                                    "TotalSales": "1175.60",
                                    "MovingThreeMonthAvgSales": "1090.146666"
                                },
                                {
                                    "Category": "Accessories",
                                    "TransactionMonth": "2020-02-29",
                                    "TotalSales": "738.12",
                                    "MovingThreeMonthAvgSales": "1010.076666"
                                },
                                {
                                    "Category": "Accessories",
                                    "TransactionMonth": "2020-03-31",
                                    "TotalSales": "1138.63",
                                    "MovingThreeMonthAvgSales": "1017.450000"
                                },
                                {
                                    "Category": "Accessories",
                                    "TransactionMonth": "2020-04-30",
                                    "TotalSales": "570.15",
                                    "MovingThreeMonthAvgSales": "815.633333"
                                },
                                {
                                    "Category": "Accessories",
                                    "TransactionMonth": "2020-05-31",
                                    "TotalSales": "642.02",
                                    "MovingThreeMonthAvgSales": "783.600000"
                                },
                                {
                                    "Category": "Accessories",
                                    "TransactionMonth": "2020-06-30",
                                    "TotalSales": "630.15",
                                    "MovingThreeMonthAvgSales": "614.106666"
                                },
                                {
                                    "Category": "Accessories",
                                    "TransactionMonth": "2020-07-31",
                                    "TotalSales": "1432.05",
                                    "MovingThreeMonthAvgSales": "901.406666"
                                },
                                {
                                    "Category": "Accessories",
                                    "TransactionMonth": "2020-08-31",
                                    "TotalSales": "1566.48",
                                    "MovingThreeMonthAvgSales": "1209.560000"
                                },
                                {
                                    "Category": "Accessories",
                                    "TransactionMonth": "2020-09-30",
                                    "TotalSales": "1527.68",
                                    "MovingThreeMonthAvgSales": "1508.736666"
                                },
                                {
                                    "Category": "Accessories",
                                    "TransactionMonth": "2020-10-31",
                                    "TotalSales": "1507.44",
                                    "MovingThreeMonthAvgSales": "1533.866666"
                                },
                                {
                                    "Category": "Accessories",
                                    "TransactionMonth": "2020-11-30",
                                    "TotalSales": "1898.25",
                                    "MovingThreeMonthAvgSales": "1644.456666"
                                },
                                {
                                    "Category": "Accessories",
                                    "TransactionMonth": "2020-12-31",
                                    "TotalSales": "2543.22",
                                    "MovingThreeMonthAvgSales": "1982.970000"
                                },
                                {
                                    "Category": "Accessories",
                                    "TransactionMonth": "2021-01-31",
                                    "TotalSales": "2785.38",
                                    "MovingThreeMonthAvgSales": "2408.950000"
                                },
                                {
                                    "Category": "Accessories",
                                    "TransactionMonth": "2021-02-28",
                                    "TotalSales": "2468.48",
                                    "MovingThreeMonthAvgSales": "2599.026666"
                                },
                                {
                                    "Category": "Accessories",
                                    "TransactionMonth": "2021-03-31",
                                    "TotalSales": "1980.07",
                                    "MovingThreeMonthAvgSales": "2411.310000"
                                },
                                {
                                    "Category": "Accessories",
                                    "TransactionMonth": "2021-04-30",
                                    "TotalSales": "2046.72",
                                    "MovingThreeMonthAvgSales": "2165.090000"
                                },
                                {
                                    "Category": "Accessories",
                                    "TransactionMonth": "2021-05-31",
                                    "TotalSales": "1851.93",
                                    "MovingThreeMonthAvgSales": "1959.573333"
                                },
                                {
                                    "Category": "Accessories",
                                    "TransactionMonth": "2021-06-30",
                                    "TotalSales": "1406.68",
                                    "MovingThreeMonthAvgSales": "1768.443333"
                                },
                                {
                                    "Category": "Accessories",
                                    "TransactionMonth": "2021-07-31",
                                    "TotalSales": "1388.45",
                                    "MovingThreeMonthAvgSales": "1549.020000"
                                },
                                {
                                    "Category": "Accessories",
                                    "TransactionMonth": "2021-08-31",
                                    "TotalSales": "1487.14",
                                    "MovingThreeMonthAvgSales": "1427.423333"
                                },
                                {
                                    "Category": "Accessories",
                                    "TransactionMonth": "2021-09-30",
                                    "TotalSales": "1523.85",
                                    "MovingThreeMonthAvgSales": "1466.480000"
                                },
                                {
                                    "Category": "Accessories",
                                    "TransactionMonth": "2021-10-31",
                                    "TotalSales": "1465.52",
                                    "MovingThreeMonthAvgSales": "1492.170000"
                                },
                                {
                                    "Category": "Accessories",
                                    "TransactionMonth": "2021-11-30",
                                    "TotalSales": "1460.29",
                                    "MovingThreeMonthAvgSales": "1483.220000"
                                },
                                {
                                    "Category": "Accessories",
                                    "TransactionMonth": "2021-12-31",
                                    "TotalSales": "2097.21",
                                    "MovingThreeMonthAvgSales": "1674.340000"
                                },
                                {
                                    "Category": "Body Care",
                                    "TransactionMonth": "2019-02-28",
                                    "TotalSales": "2624.92",
                                    "MovingThreeMonthAvgSales": "2624.920000"
                                },
                                {
                                    "Category": "Body Care",
                                    "TransactionMonth": "2019-03-31",
                                    "TotalSales": "2544.82",
                                    "MovingThreeMonthAvgSales": "2584.870000"
                                },
                                {
                                    "Category": "Body Care",
                                    "TransactionMonth": "2019-04-30",
                                    "TotalSales": "2429.24",
                                    "MovingThreeMonthAvgSales": "2532.993333"
                                },
                                {
                                    "Category": "Body Care",
                                    "TransactionMonth": "2019-05-31",
                                    "TotalSales": "3537.36",
                                    "MovingThreeMonthAvgSales": "2837.140000"
                                },
                                {
                                    "Category": "Body Care",
                                    "TransactionMonth": "2019-06-30",
                                    "TotalSales": "3367.33",
                                    "MovingThreeMonthAvgSales": "3111.310000"
                                },
                                {
                                    "Category": "Body Care",
                                    "TransactionMonth": "2019-07-31",
                                    "TotalSales": "3557.08",
                                    "MovingThreeMonthAvgSales": "3487.256666"
                                },
                                {
                                    "Category": "Body Care",
                                    "TransactionMonth": "2019-08-31",
                                    "TotalSales": "3914.50",
                                    "MovingThreeMonthAvgSales": "3612.970000"
                                },
                                {
                                    "Category": "Body Care",
                                    "TransactionMonth": "2019-09-30",
                                    "TotalSales": "3686.71",
                                    "MovingThreeMonthAvgSales": "3719.430000"
                                },
                                {
                                    "Category": "Body Care",
                                    "TransactionMonth": "2019-10-31",
                                    "TotalSales": "3707.63",
                                    "MovingThreeMonthAvgSales": "3769.613333"
                                },
                                {
                                    "Category": "Body Care",
                                    "TransactionMonth": "2019-11-30",
                                    "TotalSales": "4093.80",
                                    "MovingThreeMonthAvgSales": "3829.380000"
                                },
                                {
                                    "Category": "Body Care",
                                    "TransactionMonth": "2019-12-31",
                                    "TotalSales": "3888.16",
                                    "MovingThreeMonthAvgSales": "3896.530000"
                                },
                                {
                                    "Category": "Body Care",
                                    "TransactionMonth": "2020-01-31",
                                    "TotalSales": "5801.42",
                                    "MovingThreeMonthAvgSales": "4594.460000"
                                },
                                {
                                    "Category": "Body Care",
                                    "TransactionMonth": "2020-02-29",
                                    "TotalSales": "4493.73",
                                    "MovingThreeMonthAvgSales": "4727.770000"
                                },
                                {
                                    "Category": "Body Care",
                                    "TransactionMonth": "2020-03-31",
                                    "TotalSales": "4926.80",
                                    "MovingThreeMonthAvgSales": "5073.983333"
                                },
                                {
                                    "Category": "Body Care",
                                    "TransactionMonth": "2020-04-30",
                                    "TotalSales": "4239.50",
                                    "MovingThreeMonthAvgSales": "4553.343333"
                                },
                                {
                                    "Category": "Body Care",
                                    "TransactionMonth": "2020-05-31",
                                    "TotalSales": "4238.19",
                                    "MovingThreeMonthAvgSales": "4468.163333"
                                },
                                {
                                    "Category": "Body Care",
                                    "TransactionMonth": "2020-06-30",
                                    "TotalSales": "4493.05",
                                    "MovingThreeMonthAvgSales": "4323.580000"
                                },
                                {
                                    "Category": "Body Care",
                                    "TransactionMonth": "2020-07-31",
                                    "TotalSales": "5701.65",
                                    "MovingThreeMonthAvgSales": "4810.963333"
                                },
                                {
                                    "Category": "Body Care",
                                    "TransactionMonth": "2020-08-31",
                                    "TotalSales": "6862.75",
                                    "MovingThreeMonthAvgSales": "5685.816666"
                                },
                                {
                                    "Category": "Body Care",
                                    "TransactionMonth": "2020-09-30",
                                    "TotalSales": "6678.22",
                                    "MovingThreeMonthAvgSales": "6414.206666"
                                },
                                {
                                    "Category": "Body Care",
                                    "TransactionMonth": "2020-10-31",
                                    "TotalSales": "6423.07",
                                    "MovingThreeMonthAvgSales": "6654.680000"
                                },
                                {
                                    "Category": "Body Care",
                                    "TransactionMonth": "2020-11-30",
                                    "TotalSales": "6125.61",
                                    "MovingThreeMonthAvgSales": "6408.966666"
                                },
                                {
                                    "Category": "Body Care",
                                    "TransactionMonth": "2020-12-31",
                                    "TotalSales": "6859.50",
                                    "MovingThreeMonthAvgSales": "6469.393333"
                                },
                                {
                                    "Category": "Body Care",
                                    "TransactionMonth": "2021-01-31",
                                    "TotalSales": "6557.27",
                                    "MovingThreeMonthAvgSales": "6514.126666"
                                },
                                {
                                    "Category": "Body Care",
                                    "TransactionMonth": "2021-02-28",
                                    "TotalSales": "6766.08",
                                    "MovingThreeMonthAvgSales": "6727.616666"
                                },
                                {
                                    "Category": "Body Care",
                                    "TransactionMonth": "2021-03-31",
                                    "TotalSales": "6170.15",
                                    "MovingThreeMonthAvgSales": "6497.833333"
                                },
                                {
                                    "Category": "Body Care",
                                    "TransactionMonth": "2021-04-30",
                                    "TotalSales": "6472.60",
                                    "MovingThreeMonthAvgSales": "6469.610000"
                                },
                                {
                                    "Category": "Body Care",
                                    "TransactionMonth": "2021-05-31",
                                    "TotalSales": "6558.58",
                                    "MovingThreeMonthAvgSales": "6400.443333"
                                },
                                {
                                    "Category": "Body Care",
                                    "TransactionMonth": "2021-06-30",
                                    "TotalSales": "6123.15",
                                    "MovingThreeMonthAvgSales": "6384.776666"
                                },
                                {
                                    "Category": "Body Care",
                                    "TransactionMonth": "2021-07-31",
                                    "TotalSales": "6465.81",
                                    "MovingThreeMonthAvgSales": "6382.513333"
                                },
                                {
                                    "Category": "Body Care",
                                    "TransactionMonth": "2021-08-31",
                                    "TotalSales": "6614.70",
                                    "MovingThreeMonthAvgSales": "6401.220000"
                                },
                                {
                                    "Category": "Body Care",
                                    "TransactionMonth": "2021-09-30",
                                    "TotalSales": "4886.87",
                                    "MovingThreeMonthAvgSales": "5989.126666"
                                },
                                {
                                    "Category": "Body Care",
                                    "TransactionMonth": "2021-10-31",
                                    "TotalSales": "5489.42",
                                    "MovingThreeMonthAvgSales": "5663.663333"
                                },
                                {
                                    "Category": "Body Care",
                                    "TransactionMonth": "2021-11-30",
                                    "TotalSales": "4964.23",
                                    "MovingThreeMonthAvgSales": "5113.506666"
                                },
                                {
                                    "Category": "Body Care",
                                    "TransactionMonth": "2021-12-31",
                                    "TotalSales": "4703.29",
                                    "MovingThreeMonthAvgSales": "5052.313333"
                                },
                                {
                                    "Category": "Cleaning Supply",
                                    "TransactionMonth": "2019-02-28",
                                    "TotalSales": "733.40",
                                    "MovingThreeMonthAvgSales": "733.400000"
                                },
                                {
                                    "Category": "Cleaning Supply",
                                    "TransactionMonth": "2019-03-31",
                                    "TotalSales": "1360.54",
                                    "MovingThreeMonthAvgSales": "1046.970000"
                                },
                                {
                                    "Category": "Cleaning Supply",
                                    "TransactionMonth": "2019-04-30",
                                    "TotalSales": "1173.74",
                                    "MovingThreeMonthAvgSales": "1089.226666"
                                },
                                {
                                    "Category": "Cleaning Supply",
                                    "TransactionMonth": "2019-05-31",
                                    "TotalSales": "1233.51",
                                    "MovingThreeMonthAvgSales": "1255.930000"
                                },
                                {
                                    "Category": "Cleaning Supply",
                                    "TransactionMonth": "2019-06-30",
                                    "TotalSales": "1768.14",
                                    "MovingThreeMonthAvgSales": "1391.796666"
                                },
                                {
                                    "Category": "Cleaning Supply",
                                    "TransactionMonth": "2019-07-31",
                                    "TotalSales": "2022.01",
                                    "MovingThreeMonthAvgSales": "1674.553333"
                                },
                                {
                                    "Category": "Cleaning Supply",
                                    "TransactionMonth": "2019-08-31",
                                    "TotalSales": "2428.41",
                                    "MovingThreeMonthAvgSales": "2072.853333"
                                },
                                {
                                    "Category": "Cleaning Supply",
                                    "TransactionMonth": "2019-09-30",
                                    "TotalSales": "2215.92",
                                    "MovingThreeMonthAvgSales": "2222.113333"
                                },
                                {
                                    "Category": "Cleaning Supply",
                                    "TransactionMonth": "2019-10-31",
                                    "TotalSales": "2264.19",
                                    "MovingThreeMonthAvgSales": "2302.840000"
                                },
                                {
                                    "Category": "Cleaning Supply",
                                    "TransactionMonth": "2019-11-30",
                                    "TotalSales": "1663.22",
                                    "MovingThreeMonthAvgSales": "2047.776666"
                                },
                                {
                                    "Category": "Cleaning Supply",
                                    "TransactionMonth": "2019-12-31",
                                    "TotalSales": "2002.12",
                                    "MovingThreeMonthAvgSales": "1976.510000"
                                },
                                {
                                    "Category": "Cleaning Supply",
                                    "TransactionMonth": "2020-01-31",
                                    "TotalSales": "3001.68",
                                    "MovingThreeMonthAvgSales": "2222.340000"
                                },
                                {
                                    "Category": "Cleaning Supply",
                                    "TransactionMonth": "2020-02-29",
                                    "TotalSales": "2642.87",
                                    "MovingThreeMonthAvgSales": "2548.890000"
                                },
                                {
                                    "Category": "Cleaning Supply",
                                    "TransactionMonth": "2020-03-31",
                                    "TotalSales": "2385.58",
                                    "MovingThreeMonthAvgSales": "2676.710000"
                                },
                                {
                                    "Category": "Cleaning Supply",
                                    "TransactionMonth": "2020-04-30",
                                    "TotalSales": "1239.47",
                                    "MovingThreeMonthAvgSales": "2089.306666"
                                },
                                {
                                    "Category": "Cleaning Supply",
                                    "TransactionMonth": "2020-05-31",
                                    "TotalSales": "2593.54",
                                    "MovingThreeMonthAvgSales": "2072.863333"
                                },
                                {
                                    "Category": "Cleaning Supply",
                                    "TransactionMonth": "2020-06-30",
                                    "TotalSales": "2181.28",
                                    "MovingThreeMonthAvgSales": "2004.763333"
                                },
                                {
                                    "Category": "Cleaning Supply",
                                    "TransactionMonth": "2020-07-31",
                                    "TotalSales": "2674.72",
                                    "MovingThreeMonthAvgSales": "2483.180000"
                                },
                                {
                                    "Category": "Cleaning Supply",
                                    "TransactionMonth": "2020-08-31",
                                    "TotalSales": "2940.23",
                                    "MovingThreeMonthAvgSales": "2598.743333"
                                },
                                {
                                    "Category": "Cleaning Supply",
                                    "TransactionMonth": "2020-09-30",
                                    "TotalSales": "3109.56",
                                    "MovingThreeMonthAvgSales": "2908.170000"
                                },
                                {
                                    "Category": "Cleaning Supply",
                                    "TransactionMonth": "2020-10-31",
                                    "TotalSales": "3535.40",
                                    "MovingThreeMonthAvgSales": "3195.063333"
                                },
                                {
                                    "Category": "Cleaning Supply",
                                    "TransactionMonth": "2020-11-30",
                                    "TotalSales": "3261.33",
                                    "MovingThreeMonthAvgSales": "3302.096666"
                                },
                                {
                                    "Category": "Cleaning Supply",
                                    "TransactionMonth": "2020-12-31",
                                    "TotalSales": "3427.78",
                                    "MovingThreeMonthAvgSales": "3408.170000"
                                },
                                {
                                    "Category": "Cleaning Supply",
                                    "TransactionMonth": "2021-01-31",
                                    "TotalSales": "4001.36",
                                    "MovingThreeMonthAvgSales": "3563.490000"
                                },
                                {
                                    "Category": "Cleaning Supply",
                                    "TransactionMonth": "2021-02-28",
                                    "TotalSales": "3959.43",
                                    "MovingThreeMonthAvgSales": "3796.190000"
                                },
                                {
                                    "Category": "Cleaning Supply",
                                    "TransactionMonth": "2021-03-31",
                                    "TotalSales": "3453.71",
                                    "MovingThreeMonthAvgSales": "3804.833333"
                                },
                                {
                                    "Category": "Cleaning Supply",
                                    "TransactionMonth": "2021-04-30",
                                    "TotalSales": "4047.12",
                                    "MovingThreeMonthAvgSales": "3820.086666"
                                },
                                {
                                    "Category": "Cleaning Supply",
                                    "TransactionMonth": "2021-05-31",
                                    "TotalSales": "4106.59",
                                    "MovingThreeMonthAvgSales": "3869.140000"
                                },
                                {
                                    "Category": "Cleaning Supply",
                                    "TransactionMonth": "2021-06-30",
                                    "TotalSales": "4184.75",
                                    "MovingThreeMonthAvgSales": "4112.820000"
                                },
                                {
                                    "Category": "Cleaning Supply",
                                    "TransactionMonth": "2021-07-31",
                                    "TotalSales": "3650.41",
                                    "MovingThreeMonthAvgSales": "3980.583333"
                                },
                                {
                                    "Category": "Cleaning Supply",
                                    "TransactionMonth": "2021-08-31",
                                    "TotalSales": "4190.89",
                                    "MovingThreeMonthAvgSales": "4008.683333"
                                },
                                {
                                    "Category": "Cleaning Supply",
                                    "TransactionMonth": "2021-09-30",
                                    "TotalSales": "3221.26",
                                    "MovingThreeMonthAvgSales": "3687.520000"
                                },
                                {
                                    "Category": "Cleaning Supply",
                                    "TransactionMonth": "2021-10-31",
                                    "TotalSales": "4286.06",
                                    "MovingThreeMonthAvgSales": "3899.403333"
                                },
                                {
                                    "Category": "Cleaning Supply",
                                    "TransactionMonth": "2021-11-30",
                                    "TotalSales": "3769.88",
                                    "MovingThreeMonthAvgSales": "3759.066666"
                                },
                                {
                                    "Category": "Cleaning Supply",
                                    "TransactionMonth": "2021-12-31",
                                    "TotalSales": "3647.90",
                                    "MovingThreeMonthAvgSales": "3901.280000"
                                },
                                {
                                    "Category": "Containers",
                                    "TransactionMonth": "2019-02-28",
                                    "TotalSales": "637.33",
                                    "MovingThreeMonthAvgSales": "637.330000"
                                },
                                {
                                    "Category": "Containers",
                                    "TransactionMonth": "2019-03-31",
                                    "TotalSales": "1156.01",
                                    "MovingThreeMonthAvgSales": "896.670000"
                                },
                                {
                                    "Category": "Containers",
                                    "TransactionMonth": "2019-04-30",
                                    "TotalSales": "660.40",
                                    "MovingThreeMonthAvgSales": "817.913333"
                                },
                                {
                                    "Category": "Containers",
                                    "TransactionMonth": "2019-05-31",
                                    "TotalSales": "852.90",
                                    "MovingThreeMonthAvgSales": "889.770000"
                                },
                                {
                                    "Category": "Containers",
                                    "TransactionMonth": "2019-06-30",
                                    "TotalSales": "1386.14",
                                    "MovingThreeMonthAvgSales": "966.480000"
                                },
                                {
                                    "Category": "Containers",
                                    "TransactionMonth": "2019-07-31",
                                    "TotalSales": "848.64",
                                    "MovingThreeMonthAvgSales": "1029.226666"
                                },
                                {
                                    "Category": "Containers",
                                    "TransactionMonth": "2019-08-31",
                                    "TotalSales": "1093.52",
                                    "MovingThreeMonthAvgSales": "1109.433333"
                                },
                                {
                                    "Category": "Containers",
                                    "TransactionMonth": "2019-09-30",
                                    "TotalSales": "922.43",
                                    "MovingThreeMonthAvgSales": "954.863333"
                                },
                                {
                                    "Category": "Containers",
                                    "TransactionMonth": "2019-10-31",
                                    "TotalSales": "996.35",
                                    "MovingThreeMonthAvgSales": "1004.100000"
                                },
                                {
                                    "Category": "Containers",
                                    "TransactionMonth": "2019-11-30",
                                    "TotalSales": "1030.94",
                                    "MovingThreeMonthAvgSales": "983.240000"
                                },
                                {
                                    "Category": "Containers",
                                    "TransactionMonth": "2019-12-31",
                                    "TotalSales": "2138.31",
                                    "MovingThreeMonthAvgSales": "1388.533333"
                                },
                                {
                                    "Category": "Containers",
                                    "TransactionMonth": "2020-01-31",
                                    "TotalSales": "1307.55",
                                    "MovingThreeMonthAvgSales": "1492.266666"
                                },
                                {
                                    "Category": "Containers",
                                    "TransactionMonth": "2020-02-29",
                                    "TotalSales": "898.61",
                                    "MovingThreeMonthAvgSales": "1448.156666"
                                },
                                {
                                    "Category": "Containers",
                                    "TransactionMonth": "2020-03-31",
                                    "TotalSales": "1159.11",
                                    "MovingThreeMonthAvgSales": "1121.756666"
                                },
                                {
                                    "Category": "Containers",
                                    "TransactionMonth": "2020-04-30",
                                    "TotalSales": "766.65",
                                    "MovingThreeMonthAvgSales": "941.456666"
                                },
                                {
                                    "Category": "Containers",
                                    "TransactionMonth": "2020-05-31",
                                    "TotalSales": "1168.99",
                                    "MovingThreeMonthAvgSales": "1031.583333"
                                },
                                {
                                    "Category": "Containers",
                                    "TransactionMonth": "2020-06-30",
                                    "TotalSales": "645.16",
                                    "MovingThreeMonthAvgSales": "860.266666"
                                },
                                {
                                    "Category": "Containers",
                                    "TransactionMonth": "2020-07-31",
                                    "TotalSales": "1210.43",
                                    "MovingThreeMonthAvgSales": "1008.193333"
                                },
                                {
                                    "Category": "Containers",
                                    "TransactionMonth": "2020-08-31",
                                    "TotalSales": "1149.98",
                                    "MovingThreeMonthAvgSales": "1001.856666"
                                },
                                {
                                    "Category": "Containers",
                                    "TransactionMonth": "2020-09-30",
                                    "TotalSales": "927.84",
                                    "MovingThreeMonthAvgSales": "1096.083333"
                                },
                                {
                                    "Category": "Containers",
                                    "TransactionMonth": "2020-10-31",
                                    "TotalSales": "743.79",
                                    "MovingThreeMonthAvgSales": "940.536666"
                                },
                                {
                                    "Category": "Containers",
                                    "TransactionMonth": "2020-11-30",
                                    "TotalSales": "829.73",
                                    "MovingThreeMonthAvgSales": "833.786666"
                                },
                                {
                                    "Category": "Containers",
                                    "TransactionMonth": "2020-12-31",
                                    "TotalSales": "1355.86",
                                    "MovingThreeMonthAvgSales": "976.460000"
                                },
                                {
                                    "Category": "Containers",
                                    "TransactionMonth": "2021-01-31",
                                    "TotalSales": "997.27",
                                    "MovingThreeMonthAvgSales": "1060.953333"
                                },
                                {
                                    "Category": "Containers",
                                    "TransactionMonth": "2021-02-28",
                                    "TotalSales": "851.27",
                                    "MovingThreeMonthAvgSales": "1068.133333"
                                },
                                {
                                    "Category": "Containers",
                                    "TransactionMonth": "2021-03-31",
                                    "TotalSales": "635.11",
                                    "MovingThreeMonthAvgSales": "827.883333"
                                },
                                {
                                    "Category": "Containers",
                                    "TransactionMonth": "2021-04-30",
                                    "TotalSales": "838.67",
                                    "MovingThreeMonthAvgSales": "775.016666"
                                },
                                {
                                    "Category": "Containers",
                                    "TransactionMonth": "2021-05-31",
                                    "TotalSales": "708.23",
                                    "MovingThreeMonthAvgSales": "727.336666"
                                },
                                {
                                    "Category": "Containers",
                                    "TransactionMonth": "2021-06-30",
                                    "TotalSales": "609.19",
                                    "MovingThreeMonthAvgSales": "718.696666"
                                },
                                {
                                    "Category": "Containers",
                                    "TransactionMonth": "2021-07-31",
                                    "TotalSales": "649.88",
                                    "MovingThreeMonthAvgSales": "655.766666"
                                },
                                {
                                    "Category": "Containers",
                                    "TransactionMonth": "2021-08-31",
                                    "TotalSales": "606.00",
                                    "MovingThreeMonthAvgSales": "621.690000"
                                },
                                {
                                    "Category": "Containers",
                                    "TransactionMonth": "2021-09-30",
                                    "TotalSales": "503.17",
                                    "MovingThreeMonthAvgSales": "586.350000"
                                },
                                {
                                    "Category": "Containers",
                                    "TransactionMonth": "2021-10-31",
                                    "TotalSales": "637.18",
                                    "MovingThreeMonthAvgSales": "582.116666"
                                },
                                {
                                    "Category": "Containers",
                                    "TransactionMonth": "2021-11-30",
                                    "TotalSales": "559.01",
                                    "MovingThreeMonthAvgSales": "566.453333"
                                },
                                {
                                    "Category": "Containers",
                                    "TransactionMonth": "2021-12-31",
                                    "TotalSales": "759.98",
                                    "MovingThreeMonthAvgSales": "652.056666"
                                },
                                {
                                    "Category": "Events",
                                    "TransactionMonth": "2019-05-31",
                                    "TotalSales": "60.00",
                                    "MovingThreeMonthAvgSales": "60.000000"
                                },
                                {
                                    "Category": "Fresh Produce",
                                    "TransactionMonth": "2019-02-28",
                                    "TotalSales": "71.30",
                                    "MovingThreeMonthAvgSales": "71.300000"
                                },
                                {
                                    "Category": "Fresh Produce",
                                    "TransactionMonth": "2019-03-31",
                                    "TotalSales": "56.50",
                                    "MovingThreeMonthAvgSales": "63.900000"
                                },
                                {
                                    "Category": "Fresh Produce",
                                    "TransactionMonth": "2019-05-31",
                                    "TotalSales": "416.55",
                                    "MovingThreeMonthAvgSales": "181.450000"
                                },
                                {
                                    "Category": "Fresh Produce",
                                    "TransactionMonth": "2019-06-30",
                                    "TotalSales": "657.81",
                                    "MovingThreeMonthAvgSales": "376.953333"
                                },
                                {
                                    "Category": "Fresh Produce",
                                    "TransactionMonth": "2019-07-31",
                                    "TotalSales": "632.93",
                                    "MovingThreeMonthAvgSales": "569.096666"
                                },
                                {
                                    "Category": "Fresh Produce",
                                    "TransactionMonth": "2019-08-31",
                                    "TotalSales": "547.56",
                                    "MovingThreeMonthAvgSales": "612.766666"
                                },
                                {
                                    "Category": "Fresh Produce",
                                    "TransactionMonth": "2019-09-30",
                                    "TotalSales": "735.59",
                                    "MovingThreeMonthAvgSales": "638.693333"
                                },
                                {
                                    "Category": "Fresh Produce",
                                    "TransactionMonth": "2019-10-31",
                                    "TotalSales": "598.44",
                                    "MovingThreeMonthAvgSales": "627.196666"
                                },
                                {
                                    "Category": "Fresh Produce",
                                    "TransactionMonth": "2019-11-30",
                                    "TotalSales": "870.51",
                                    "MovingThreeMonthAvgSales": "734.846666"
                                },
                                {
                                    "Category": "Fresh Produce",
                                    "TransactionMonth": "2019-12-31",
                                    "TotalSales": "790.53",
                                    "MovingThreeMonthAvgSales": "753.160000"
                                },
                                {
                                    "Category": "Fresh Produce",
                                    "TransactionMonth": "2020-01-31",
                                    "TotalSales": "614.23",
                                    "MovingThreeMonthAvgSales": "758.423333"
                                },
                                {
                                    "Category": "Fresh Produce",
                                    "TransactionMonth": "2020-02-29",
                                    "TotalSales": "567.50",
                                    "MovingThreeMonthAvgSales": "657.420000"
                                },
                                {
                                    "Category": "Fresh Produce",
                                    "TransactionMonth": "2020-03-31",
                                    "TotalSales": "1024.78",
                                    "MovingThreeMonthAvgSales": "735.503333"
                                },
                                {
                                    "Category": "Fresh Produce",
                                    "TransactionMonth": "2020-04-30",
                                    "TotalSales": "968.89",
                                    "MovingThreeMonthAvgSales": "853.723333"
                                },
                                {
                                    "Category": "Fresh Produce",
                                    "TransactionMonth": "2020-05-31",
                                    "TotalSales": "1421.66",
                                    "MovingThreeMonthAvgSales": "1138.443333"
                                },
                                {
                                    "Category": "Fresh Produce",
                                    "TransactionMonth": "2020-06-30",
                                    "TotalSales": "1442.75",
                                    "MovingThreeMonthAvgSales": "1277.766666"
                                },
                                {
                                    "Category": "Fresh Produce",
                                    "TransactionMonth": "2020-07-31",
                                    "TotalSales": "1522.19",
                                    "MovingThreeMonthAvgSales": "1462.200000"
                                },
                                {
                                    "Category": "Fresh Produce",
                                    "TransactionMonth": "2020-08-31",
                                    "TotalSales": "1888.23",
                                    "MovingThreeMonthAvgSales": "1617.723333"
                                },
                                {
                                    "Category": "Fresh Produce",
                                    "TransactionMonth": "2020-09-30",
                                    "TotalSales": "1521.18",
                                    "MovingThreeMonthAvgSales": "1643.866666"
                                },
                                {
                                    "Category": "Fresh Produce",
                                    "TransactionMonth": "2020-10-31",
                                    "TotalSales": "1175.59",
                                    "MovingThreeMonthAvgSales": "1528.333333"
                                },
                                {
                                    "Category": "Fresh Produce",
                                    "TransactionMonth": "2020-11-30",
                                    "TotalSales": "1233.42",
                                    "MovingThreeMonthAvgSales": "1310.063333"
                                },
                                {
                                    "Category": "Fresh Produce",
                                    "TransactionMonth": "2020-12-31",
                                    "TotalSales": "1304.09",
                                    "MovingThreeMonthAvgSales": "1237.700000"
                                },
                                {
                                    "Category": "Fresh Produce",
                                    "TransactionMonth": "2021-01-31",
                                    "TotalSales": "1341.94",
                                    "MovingThreeMonthAvgSales": "1293.150000"
                                },
                                {
                                    "Category": "Fresh Produce",
                                    "TransactionMonth": "2021-02-28",
                                    "TotalSales": "1185.98",
                                    "MovingThreeMonthAvgSales": "1277.336666"
                                },
                                {
                                    "Category": "Fresh Produce",
                                    "TransactionMonth": "2021-03-31",
                                    "TotalSales": "1220.25",
                                    "MovingThreeMonthAvgSales": "1249.390000"
                                },
                                {
                                    "Category": "Fresh Produce",
                                    "TransactionMonth": "2021-04-30",
                                    "TotalSales": "1312.48",
                                    "MovingThreeMonthAvgSales": "1239.570000"
                                },
                                {
                                    "Category": "Fresh Produce",
                                    "TransactionMonth": "2021-05-31",
                                    "TotalSales": "1262.85",
                                    "MovingThreeMonthAvgSales": "1265.193333"
                                },
                                {
                                    "Category": "Fresh Produce",
                                    "TransactionMonth": "2021-06-30",
                                    "TotalSales": "1102.66",
                                    "MovingThreeMonthAvgSales": "1225.996666"
                                },
                                {
                                    "Category": "Fresh Produce",
                                    "TransactionMonth": "2021-07-31",
                                    "TotalSales": "827.30",
                                    "MovingThreeMonthAvgSales": "1064.270000"
                                },
                                {
                                    "Category": "Fresh Produce",
                                    "TransactionMonth": "2021-08-31",
                                    "TotalSales": "1080.05",
                                    "MovingThreeMonthAvgSales": "1003.336666"
                                },
                                {
                                    "Category": "Fresh Produce",
                                    "TransactionMonth": "2021-09-30",
                                    "TotalSales": "653.43",
                                    "MovingThreeMonthAvgSales": "853.593333"
                                },
                                {
                                    "Category": "Fresh Produce",
                                    "TransactionMonth": "2021-10-31",
                                    "TotalSales": "700.10",
                                    "MovingThreeMonthAvgSales": "811.193333"
                                },
                                {
                                    "Category": "Fresh Produce",
                                    "TransactionMonth": "2021-11-30",
                                    "TotalSales": "448.16",
                                    "MovingThreeMonthAvgSales": "600.563333"
                                },
                                {
                                    "Category": "Fresh Produce",
                                    "TransactionMonth": "2021-12-31",
                                    "TotalSales": "542.99",
                                    "MovingThreeMonthAvgSales": "563.750000"
                                },
                                {
                                    "Category": "Gift Card",
                                    "TransactionMonth": "2019-11-30",
                                    "TotalSales": "235.00",
                                    "MovingThreeMonthAvgSales": "235.000000"
                                },
                                {
                                    "Category": "Gift Card",
                                    "TransactionMonth": "2020-02-29",
                                    "TotalSales": "50.00",
                                    "MovingThreeMonthAvgSales": "142.500000"
                                },
                                {
                                    "Category": "Gift Card",
                                    "TransactionMonth": "2020-03-31",
                                    "TotalSales": "235.00",
                                    "MovingThreeMonthAvgSales": "173.333333"
                                },
                                {
                                    "Category": "Gift Card",
                                    "TransactionMonth": "2020-05-31",
                                    "TotalSales": "233.00",
                                    "MovingThreeMonthAvgSales": "172.666666"
                                },
                                {
                                    "Category": "Gift Card",
                                    "TransactionMonth": "2020-06-30",
                                    "TotalSales": "212.78",
                                    "MovingThreeMonthAvgSales": "226.926666"
                                },
                                {
                                    "Category": "Gift Card",
                                    "TransactionMonth": "2020-07-31",
                                    "TotalSales": "30.00",
                                    "MovingThreeMonthAvgSales": "158.593333"
                                },
                                {
                                    "Category": "Gift Card",
                                    "TransactionMonth": "2020-08-31",
                                    "TotalSales": "129.77",
                                    "MovingThreeMonthAvgSales": "124.183333"
                                },
                                {
                                    "Category": "Gift Card",
                                    "TransactionMonth": "2020-09-30",
                                    "TotalSales": "83.25",
                                    "MovingThreeMonthAvgSales": "81.006666"
                                },
                                {
                                    "Category": "Gift Card",
                                    "TransactionMonth": "2020-10-31",
                                    "TotalSales": "100.00",
                                    "MovingThreeMonthAvgSales": "104.340000"
                                },
                                {
                                    "Category": "Gift Card",
                                    "TransactionMonth": "2020-11-30",
                                    "TotalSales": "167.10",
                                    "MovingThreeMonthAvgSales": "116.783333"
                                },
                                {
                                    "Category": "Gift Card",
                                    "TransactionMonth": "2020-12-31",
                                    "TotalSales": "495.00",
                                    "MovingThreeMonthAvgSales": "254.033333"
                                },
                                {
                                    "Category": "Gift Card",
                                    "TransactionMonth": "2021-01-31",
                                    "TotalSales": "351.95",
                                    "MovingThreeMonthAvgSales": "338.016666"
                                },
                                {
                                    "Category": "Gift Card",
                                    "TransactionMonth": "2021-02-28",
                                    "TotalSales": "248.89",
                                    "MovingThreeMonthAvgSales": "365.280000"
                                },
                                {
                                    "Category": "Gift Card",
                                    "TransactionMonth": "2021-03-31",
                                    "TotalSales": "48.33",
                                    "MovingThreeMonthAvgSales": "216.390000"
                                },
                                {
                                    "Category": "Gift Card",
                                    "TransactionMonth": "2021-04-30",
                                    "TotalSales": "54.35",
                                    "MovingThreeMonthAvgSales": "117.190000"
                                },
                                {
                                    "Category": "Gift Card",
                                    "TransactionMonth": "2021-05-31",
                                    "TotalSales": "265.00",
                                    "MovingThreeMonthAvgSales": "122.560000"
                                },
                                {
                                    "Category": "Gift Card",
                                    "TransactionMonth": "2021-06-30",
                                    "TotalSales": "270.00",
                                    "MovingThreeMonthAvgSales": "196.450000"
                                },
                                {
                                    "Category": "Gift Card",
                                    "TransactionMonth": "2021-07-31",
                                    "TotalSales": "115.00",
                                    "MovingThreeMonthAvgSales": "216.666666"
                                },
                                {
                                    "Category": "Gift Card",
                                    "TransactionMonth": "2021-08-31",
                                    "TotalSales": "225.00",
                                    "MovingThreeMonthAvgSales": "203.333333"
                                },
                                {
                                    "Category": "Gift Card",
                                    "TransactionMonth": "2021-09-30",
                                    "TotalSales": "175.00",
                                    "MovingThreeMonthAvgSales": "171.666666"
                                },
                                {
                                    "Category": "Gift Card",
                                    "TransactionMonth": "2021-10-31",
                                    "TotalSales": "190.00",
                                    "MovingThreeMonthAvgSales": "196.666666"
                                },
                                {
                                    "Category": "Gift Card",
                                    "TransactionMonth": "2021-11-30",
                                    "TotalSales": "115.00",
                                    "MovingThreeMonthAvgSales": "160.000000"
                                },
                                {
                                    "Category": "Gift Card",
                                    "TransactionMonth": "2021-12-31",
                                    "TotalSales": "985.29",
                                    "MovingThreeMonthAvgSales": "430.096666"
                                },
                                {
                                    "Category": "Grab & Go",
                                    "TransactionMonth": "2019-02-28",
                                    "TotalSales": "969.85",
                                    "MovingThreeMonthAvgSales": "969.850000"
                                },
                                {
                                    "Category": "Grab & Go",
                                    "TransactionMonth": "2019-03-31",
                                    "TotalSales": "1047.91",
                                    "MovingThreeMonthAvgSales": "1008.880000"
                                },
                                {
                                    "Category": "Grab & Go",
                                    "TransactionMonth": "2019-04-30",
                                    "TotalSales": "848.82",
                                    "MovingThreeMonthAvgSales": "955.526666"
                                },
                                {
                                    "Category": "Grab & Go",
                                    "TransactionMonth": "2019-05-31",
                                    "TotalSales": "645.78",
                                    "MovingThreeMonthAvgSales": "847.503333"
                                },
                                {
                                    "Category": "Grab & Go",
                                    "TransactionMonth": "2019-06-30",
                                    "TotalSales": "438.68",
                                    "MovingThreeMonthAvgSales": "644.426666"
                                },
                                {
                                    "Category": "Grab & Go",
                                    "TransactionMonth": "2019-07-31",
                                    "TotalSales": "392.17",
                                    "MovingThreeMonthAvgSales": "492.210000"
                                },
                                {
                                    "Category": "Grab & Go",
                                    "TransactionMonth": "2019-08-31",
                                    "TotalSales": "396.75",
                                    "MovingThreeMonthAvgSales": "409.200000"
                                },
                                {
                                    "Category": "Grab & Go",
                                    "TransactionMonth": "2019-09-30",
                                    "TotalSales": "183.62",
                                    "MovingThreeMonthAvgSales": "324.180000"
                                },
                                {
                                    "Category": "Grab & Go",
                                    "TransactionMonth": "2019-10-31",
                                    "TotalSales": "160.87",
                                    "MovingThreeMonthAvgSales": "247.080000"
                                },
                                {
                                    "Category": "Grab & Go",
                                    "TransactionMonth": "2019-11-30",
                                    "TotalSales": "156.94",
                                    "MovingThreeMonthAvgSales": "167.143333"
                                },
                                {
                                    "Category": "Grab & Go",
                                    "TransactionMonth": "2019-12-31",
                                    "TotalSales": "6.58",
                                    "MovingThreeMonthAvgSales": "108.130000"
                                },
                                {
                                    "Category": "Grab & Go",
                                    "TransactionMonth": "2020-01-31",
                                    "TotalSales": "116.80",
                                    "MovingThreeMonthAvgSales": "93.440000"
                                },
                                {
                                    "Category": "Grab & Go",
                                    "TransactionMonth": "2020-02-29",
                                    "TotalSales": "266.85",
                                    "MovingThreeMonthAvgSales": "130.076666"
                                },
                                {
                                    "Category": "Grab & Go",
                                    "TransactionMonth": "2020-03-31",
                                    "TotalSales": "212.04",
                                    "MovingThreeMonthAvgSales": "198.563333"
                                },
                                {
                                    "Category": "Grab & Go",
                                    "TransactionMonth": "2020-04-30",
                                    "TotalSales": "194.37",
                                    "MovingThreeMonthAvgSales": "224.420000"
                                },
                                {
                                    "Category": "Grab & Go",
                                    "TransactionMonth": "2020-05-31",
                                    "TotalSales": "70.68",
                                    "MovingThreeMonthAvgSales": "159.030000"
                                },
                                {
                                    "Category": "Grab & Go",
                                    "TransactionMonth": "2020-06-30",
                                    "TotalSales": "5.89",
                                    "MovingThreeMonthAvgSales": "90.313333"
                                },
                                {
                                    "Category": "Grab & Go",
                                    "TransactionMonth": "2020-09-30",
                                    "TotalSales": "3.49",
                                    "MovingThreeMonthAvgSales": "26.686666"
                                },
                                {
                                    "Category": "Grab & Go",
                                    "TransactionMonth": "2020-12-31",
                                    "TotalSales": "330.00",
                                    "MovingThreeMonthAvgSales": "113.126666"
                                },
                                {
                                    "Category": "Grab & Go",
                                    "TransactionMonth": "2021-01-31",
                                    "TotalSales": "170.00",
                                    "MovingThreeMonthAvgSales": "167.830000"
                                },
                                {
                                    "Category": "Grab & Go",
                                    "TransactionMonth": "2021-02-28",
                                    "TotalSales": "150.00",
                                    "MovingThreeMonthAvgSales": "216.666666"
                                },
                                {
                                    "Category": "Grab & Go",
                                    "TransactionMonth": "2021-03-31",
                                    "TotalSales": "170.00",
                                    "MovingThreeMonthAvgSales": "163.333333"
                                },
                                {
                                    "Category": "Grab & Go",
                                    "TransactionMonth": "2021-04-30",
                                    "TotalSales": "130.00",
                                    "MovingThreeMonthAvgSales": "150.000000"
                                },
                                {
                                    "Category": "Grab & Go",
                                    "TransactionMonth": "2021-05-31",
                                    "TotalSales": "190.00",
                                    "MovingThreeMonthAvgSales": "163.333333"
                                },
                                {
                                    "Category": "Grab & Go",
                                    "TransactionMonth": "2021-06-30",
                                    "TotalSales": "130.00",
                                    "MovingThreeMonthAvgSales": "150.000000"
                                },
                                {
                                    "Category": "Grab & Go",
                                    "TransactionMonth": "2021-07-31",
                                    "TotalSales": "160.00",
                                    "MovingThreeMonthAvgSales": "160.000000"
                                },
                                {
                                    "Category": "Grab & Go",
                                    "TransactionMonth": "2021-08-31",
                                    "TotalSales": "20.00",
                                    "MovingThreeMonthAvgSales": "103.333333"
                                },
                                {
                                    "Category": "Grab & Go",
                                    "TransactionMonth": "2021-09-30",
                                    "TotalSales": "70.00",
                                    "MovingThreeMonthAvgSales": "83.333333"
                                },
                                {
                                    "Category": "Grab & Go",
                                    "TransactionMonth": "2021-10-31",
                                    "TotalSales": "170.00",
                                    "MovingThreeMonthAvgSales": "86.666666"
                                },
                                {
                                    "Category": "Grab & Go",
                                    "TransactionMonth": "2021-11-30",
                                    "TotalSales": "290.00",
                                    "MovingThreeMonthAvgSales": "176.666666"
                                },
                                {
                                    "Category": "Grab & Go",
                                    "TransactionMonth": "2021-12-31",
                                    "TotalSales": "300.00",
                                    "MovingThreeMonthAvgSales": "253.333333"
                                },
                                {
                                    "Category": "Grocery",
                                    "TransactionMonth": "2019-02-28",
                                    "TotalSales": "7137.63",
                                    "MovingThreeMonthAvgSales": "7137.630000"
                                },
                                {
                                    "Category": "Grocery",
                                    "TransactionMonth": "2019-03-31",
                                    "TotalSales": "10298.90",
                                    "MovingThreeMonthAvgSales": "8718.265000"
                                },
                                {
                                    "Category": "Grocery",
                                    "TransactionMonth": "2019-04-30",
                                    "TotalSales": "7578.90",
                                    "MovingThreeMonthAvgSales": "8338.476666"
                                },
                                {
                                    "Category": "Grocery",
                                    "TransactionMonth": "2019-05-31",
                                    "TotalSales": "11560.58",
                                    "MovingThreeMonthAvgSales": "9812.793333"
                                },
                                {
                                    "Category": "Grocery",
                                    "TransactionMonth": "2019-06-30",
                                    "TotalSales": "12684.29",
                                    "MovingThreeMonthAvgSales": "10607.923333"
                                },
                                {
                                    "Category": "Grocery",
                                    "TransactionMonth": "2019-07-31",
                                    "TotalSales": "13910.38",
                                    "MovingThreeMonthAvgSales": "12718.416666"
                                },
                                {
                                    "Category": "Grocery",
                                    "TransactionMonth": "2019-08-31",
                                    "TotalSales": "12405.58",
                                    "MovingThreeMonthAvgSales": "13000.083333"
                                },
                                {
                                    "Category": "Grocery",
                                    "TransactionMonth": "2019-09-30",
                                    "TotalSales": "14081.89",
                                    "MovingThreeMonthAvgSales": "13465.950000"
                                },
                                {
                                    "Category": "Grocery",
                                    "TransactionMonth": "2019-10-31",
                                    "TotalSales": "14855.89",
                                    "MovingThreeMonthAvgSales": "13781.120000"
                                },
                                {
                                    "Category": "Grocery",
                                    "TransactionMonth": "2019-11-30",
                                    "TotalSales": "13741.53",
                                    "MovingThreeMonthAvgSales": "14226.436666"
                                },
                                {
                                    "Category": "Grocery",
                                    "TransactionMonth": "2019-12-31",
                                    "TotalSales": "13394.66",
                                    "MovingThreeMonthAvgSales": "13997.360000"
                                },
                                {
                                    "Category": "Grocery",
                                    "TransactionMonth": "2020-01-31",
                                    "TotalSales": "18684.79",
                                    "MovingThreeMonthAvgSales": "15273.660000"
                                },
                                {
                                    "Category": "Grocery",
                                    "TransactionMonth": "2020-02-29",
                                    "TotalSales": "17378.43",
                                    "MovingThreeMonthAvgSales": "16485.960000"
                                },
                                {
                                    "Category": "Grocery",
                                    "TransactionMonth": "2020-03-31",
                                    "TotalSales": "25278.29",
                                    "MovingThreeMonthAvgSales": "20447.170000"
                                },
                                {
                                    "Category": "Grocery",
                                    "TransactionMonth": "2020-04-30",
                                    "TotalSales": "17773.76",
                                    "MovingThreeMonthAvgSales": "20143.493333"
                                },
                                {
                                    "Category": "Grocery",
                                    "TransactionMonth": "2020-05-31",
                                    "TotalSales": "17400.11",
                                    "MovingThreeMonthAvgSales": "20150.720000"
                                },
                                {
                                    "Category": "Grocery",
                                    "TransactionMonth": "2020-06-30",
                                    "TotalSales": "17690.43",
                                    "MovingThreeMonthAvgSales": "17621.433333"
                                },
                                {
                                    "Category": "Grocery",
                                    "TransactionMonth": "2020-07-31",
                                    "TotalSales": "19801.99",
                                    "MovingThreeMonthAvgSales": "18297.510000"
                                },
                                {
                                    "Category": "Grocery",
                                    "TransactionMonth": "2020-08-31",
                                    "TotalSales": "22827.07",
                                    "MovingThreeMonthAvgSales": "20106.496666"
                                },
                                {
                                    "Category": "Grocery",
                                    "TransactionMonth": "2020-09-30",
                                    "TotalSales": "20625.39",
                                    "MovingThreeMonthAvgSales": "21084.816666"
                                },
                                {
                                    "Category": "Grocery",
                                    "TransactionMonth": "2020-10-31",
                                    "TotalSales": "23094.37",
                                    "MovingThreeMonthAvgSales": "22182.276666"
                                },
                                {
                                    "Category": "Grocery",
                                    "TransactionMonth": "2020-11-30",
                                    "TotalSales": "20557.64",
                                    "MovingThreeMonthAvgSales": "21425.800000"
                                },
                                {
                                    "Category": "Grocery",
                                    "TransactionMonth": "2020-12-31",
                                    "TotalSales": "22821.97",
                                    "MovingThreeMonthAvgSales": "22157.993333"
                                },
                                {
                                    "Category": "Grocery",
                                    "TransactionMonth": "2021-01-31",
                                    "TotalSales": "27564.02",
                                    "MovingThreeMonthAvgSales": "23647.876666"
                                },
                                {
                                    "Category": "Grocery",
                                    "TransactionMonth": "2021-02-28",
                                    "TotalSales": "26251.93",
                                    "MovingThreeMonthAvgSales": "25545.973333"
                                },
                                {
                                    "Category": "Grocery",
                                    "TransactionMonth": "2021-03-31",
                                    "TotalSales": "25647.09",
                                    "MovingThreeMonthAvgSales": "26487.680000"
                                },
                                {
                                    "Category": "Grocery",
                                    "TransactionMonth": "2021-04-30",
                                    "TotalSales": "25863.49",
                                    "MovingThreeMonthAvgSales": "25920.836666"
                                },
                                {
                                    "Category": "Grocery",
                                    "TransactionMonth": "2021-05-31",
                                    "TotalSales": "23208.79",
                                    "MovingThreeMonthAvgSales": "24906.456666"
                                },
                                {
                                    "Category": "Grocery",
                                    "TransactionMonth": "2021-06-30",
                                    "TotalSales": "21215.96",
                                    "MovingThreeMonthAvgSales": "23429.413333"
                                },
                                {
                                    "Category": "Grocery",
                                    "TransactionMonth": "2021-07-31",
                                    "TotalSales": "18227.68",
                                    "MovingThreeMonthAvgSales": "20884.143333"
                                },
                                {
                                    "Category": "Grocery",
                                    "TransactionMonth": "2021-08-31",
                                    "TotalSales": "18097.08",
                                    "MovingThreeMonthAvgSales": "19180.240000"
                                },
                                {
                                    "Category": "Grocery",
                                    "TransactionMonth": "2021-09-30",
                                    "TotalSales": "16235.42",
                                    "MovingThreeMonthAvgSales": "17520.060000"
                                },
                                {
                                    "Category": "Grocery",
                                    "TransactionMonth": "2021-10-31",
                                    "TotalSales": "19581.86",
                                    "MovingThreeMonthAvgSales": "17971.453333"
                                },
                                {
                                    "Category": "Grocery",
                                    "TransactionMonth": "2021-11-30",
                                    "TotalSales": "19082.18",
                                    "MovingThreeMonthAvgSales": "18299.820000"
                                },
                                {
                                    "Category": "Grocery",
                                    "TransactionMonth": "2021-12-31",
                                    "TotalSales": "17739.00",
                                    "MovingThreeMonthAvgSales": "18801.013333"
                                },
                                {
                                    "Category": "Holiday Popup",
                                    "TransactionMonth": "2019-12-31",
                                    "TotalSales": "715.00",
                                    "MovingThreeMonthAvgSales": "715.000000"
                                },
                                {
                                    "Category": "Local Love",
                                    "TransactionMonth": "2019-02-28",
                                    "TotalSales": "2016.13",
                                    "MovingThreeMonthAvgSales": "2016.130000"
                                },
                                {
                                    "Category": "Local Love",
                                    "TransactionMonth": "2019-03-31",
                                    "TotalSales": "3604.46",
                                    "MovingThreeMonthAvgSales": "2810.295000"
                                },
                                {
                                    "Category": "Local Love",
                                    "TransactionMonth": "2019-04-30",
                                    "TotalSales": "3503.27",
                                    "MovingThreeMonthAvgSales": "3041.286666"
                                },
                                {
                                    "Category": "Local Love",
                                    "TransactionMonth": "2019-05-31",
                                    "TotalSales": "4444.36",
                                    "MovingThreeMonthAvgSales": "3850.696666"
                                },
                                {
                                    "Category": "Local Love",
                                    "TransactionMonth": "2019-06-30",
                                    "TotalSales": "4146.55",
                                    "MovingThreeMonthAvgSales": "4031.393333"
                                },
                                {
                                    "Category": "Local Love",
                                    "TransactionMonth": "2019-07-31",
                                    "TotalSales": "4065.09",
                                    "MovingThreeMonthAvgSales": "4218.666666"
                                },
                                {
                                    "Category": "Local Love",
                                    "TransactionMonth": "2019-08-31",
                                    "TotalSales": "3588.83",
                                    "MovingThreeMonthAvgSales": "3933.490000"
                                },
                                {
                                    "Category": "Local Love",
                                    "TransactionMonth": "2019-09-30",
                                    "TotalSales": "4321.79",
                                    "MovingThreeMonthAvgSales": "3991.903333"
                                },
                                {
                                    "Category": "Local Love",
                                    "TransactionMonth": "2019-10-31",
                                    "TotalSales": "4619.66",
                                    "MovingThreeMonthAvgSales": "4176.760000"
                                },
                                {
                                    "Category": "Local Love",
                                    "TransactionMonth": "2019-11-30",
                                    "TotalSales": "5032.87",
                                    "MovingThreeMonthAvgSales": "4658.106666"
                                },
                                {
                                    "Category": "Local Love",
                                    "TransactionMonth": "2019-12-31",
                                    "TotalSales": "4512.43",
                                    "MovingThreeMonthAvgSales": "4721.653333"
                                },
                                {
                                    "Category": "Local Love",
                                    "TransactionMonth": "2020-01-31",
                                    "TotalSales": "6009.14",
                                    "MovingThreeMonthAvgSales": "5184.813333"
                                },
                                {
                                    "Category": "Local Love",
                                    "TransactionMonth": "2020-02-29",
                                    "TotalSales": "6028.07",
                                    "MovingThreeMonthAvgSales": "5516.546666"
                                },
                                {
                                    "Category": "Local Love",
                                    "TransactionMonth": "2020-03-31",
                                    "TotalSales": "7256.15",
                                    "MovingThreeMonthAvgSales": "6431.120000"
                                },
                                {
                                    "Category": "Local Love",
                                    "TransactionMonth": "2020-04-30",
                                    "TotalSales": "5799.89",
                                    "MovingThreeMonthAvgSales": "6361.370000"
                                },
                                {
                                    "Category": "Local Love",
                                    "TransactionMonth": "2020-05-31",
                                    "TotalSales": "6478.62",
                                    "MovingThreeMonthAvgSales": "6511.553333"
                                },
                                {
                                    "Category": "Local Love",
                                    "TransactionMonth": "2020-06-30",
                                    "TotalSales": "7390.90",
                                    "MovingThreeMonthAvgSales": "6556.470000"
                                },
                                {
                                    "Category": "Local Love",
                                    "TransactionMonth": "2020-07-31",
                                    "TotalSales": "8303.34",
                                    "MovingThreeMonthAvgSales": "7390.953333"
                                },
                                {
                                    "Category": "Local Love",
                                    "TransactionMonth": "2020-08-31",
                                    "TotalSales": "9176.05",
                                    "MovingThreeMonthAvgSales": "8290.096666"
                                },
                                {
                                    "Category": "Local Love",
                                    "TransactionMonth": "2020-09-30",
                                    "TotalSales": "8669.26",
                                    "MovingThreeMonthAvgSales": "8716.216666"
                                },
                                {
                                    "Category": "Local Love",
                                    "TransactionMonth": "2020-10-31",
                                    "TotalSales": "9332.02",
                                    "MovingThreeMonthAvgSales": "9059.110000"
                                },
                                {
                                    "Category": "Local Love",
                                    "TransactionMonth": "2020-11-30",
                                    "TotalSales": "8339.55",
                                    "MovingThreeMonthAvgSales": "8780.276666"
                                },
                                {
                                    "Category": "Local Love",
                                    "TransactionMonth": "2020-12-31",
                                    "TotalSales": "13628.67",
                                    "MovingThreeMonthAvgSales": "10433.413333"
                                },
                                {
                                    "Category": "Local Love",
                                    "TransactionMonth": "2021-01-31",
                                    "TotalSales": "11333.45",
                                    "MovingThreeMonthAvgSales": "11100.556666"
                                },
                                {
                                    "Category": "Local Love",
                                    "TransactionMonth": "2021-02-28",
                                    "TotalSales": "11582.38",
                                    "MovingThreeMonthAvgSales": "12181.500000"
                                },
                                {
                                    "Category": "Local Love",
                                    "TransactionMonth": "2021-03-31",
                                    "TotalSales": "11233.03",
                                    "MovingThreeMonthAvgSales": "11382.953333"
                                },
                                {
                                    "Category": "Local Love",
                                    "TransactionMonth": "2021-04-30",
                                    "TotalSales": "10800.14",
                                    "MovingThreeMonthAvgSales": "11205.183333"
                                },
                                {
                                    "Category": "Local Love",
                                    "TransactionMonth": "2021-05-31",
                                    "TotalSales": "10414.59",
                                    "MovingThreeMonthAvgSales": "10815.920000"
                                },
                                {
                                    "Category": "Local Love",
                                    "TransactionMonth": "2021-06-30",
                                    "TotalSales": "8871.09",
                                    "MovingThreeMonthAvgSales": "10028.606666"
                                },
                                {
                                    "Category": "Local Love",
                                    "TransactionMonth": "2021-07-31",
                                    "TotalSales": "8327.14",
                                    "MovingThreeMonthAvgSales": "9204.273333"
                                },
                                {
                                    "Category": "Local Love",
                                    "TransactionMonth": "2021-08-31",
                                    "TotalSales": "8117.77",
                                    "MovingThreeMonthAvgSales": "8438.666666"
                                },
                                {
                                    "Category": "Local Love",
                                    "TransactionMonth": "2021-09-30",
                                    "TotalSales": "5512.41",
                                    "MovingThreeMonthAvgSales": "7319.106666"
                                },
                                {
                                    "Category": "Local Love",
                                    "TransactionMonth": "2021-10-31",
                                    "TotalSales": "6876.79",
                                    "MovingThreeMonthAvgSales": "6835.656666"
                                },
                                {
                                    "Category": "Local Love",
                                    "TransactionMonth": "2021-11-30",
                                    "TotalSales": "6359.54",
                                    "MovingThreeMonthAvgSales": "6249.580000"
                                },
                                {
                                    "Category": "Local Love",
                                    "TransactionMonth": "2021-12-31",
                                    "TotalSales": "7926.28",
                                    "MovingThreeMonthAvgSales": "7054.203333"
                                },
                                {
                                    "Category": "Whls_Grocery",
                                    "TransactionMonth": "2019-02-28",
                                    "TotalSales": "4.35",
                                    "MovingThreeMonthAvgSales": "4.350000"
                                },
                                {
                                    "Category": "Whls_Grocery",
                                    "TransactionMonth": "2019-03-31",
                                    "TotalSales": "76.83",
                                    "MovingThreeMonthAvgSales": "40.590000"
                                },
                                {
                                    "Category": "Whls_Grocery",
                                    "TransactionMonth": "2019-04-30",
                                    "TotalSales": "173.86",
                                    "MovingThreeMonthAvgSales": "85.013333"
                                },
                                {
                                    "Category": "Whls_Grocery",
                                    "TransactionMonth": "2019-05-31",
                                    "TotalSales": "426.59",
                                    "MovingThreeMonthAvgSales": "225.760000"
                                },
                                {
                                    "Category": "Whls_Grocery",
                                    "TransactionMonth": "2019-06-30",
                                    "TotalSales": "1904.70",
                                    "MovingThreeMonthAvgSales": "835.050000"
                                },
                                {
                                    "Category": "Whls_Grocery",
                                    "TransactionMonth": "2019-07-31",
                                    "TotalSales": "989.08",
                                    "MovingThreeMonthAvgSales": "1106.790000"
                                },
                                {
                                    "Category": "Whls_Grocery",
                                    "TransactionMonth": "2019-08-31",
                                    "TotalSales": "990.91",
                                    "MovingThreeMonthAvgSales": "1294.896666"
                                },
                                {
                                    "Category": "Whls_Grocery",
                                    "TransactionMonth": "2019-09-30",
                                    "TotalSales": "1611.18",
                                    "MovingThreeMonthAvgSales": "1197.056666"
                                },
                                {
                                    "Category": "Whls_Grocery",
                                    "TransactionMonth": "2019-10-31",
                                    "TotalSales": "1091.12",
                                    "MovingThreeMonthAvgSales": "1231.070000"
                                },
                                {
                                    "Category": "Whls_Grocery",
                                    "TransactionMonth": "2019-11-30",
                                    "TotalSales": "1031.74",
                                    "MovingThreeMonthAvgSales": "1244.680000"
                                },
                                {
                                    "Category": "Whls_Grocery",
                                    "TransactionMonth": "2019-12-31",
                                    "TotalSales": "903.60",
                                    "MovingThreeMonthAvgSales": "1008.820000"
                                },
                                {
                                    "Category": "Whls_Grocery",
                                    "TransactionMonth": "2020-01-31",
                                    "TotalSales": "1245.57",
                                    "MovingThreeMonthAvgSales": "1060.303333"
                                },
                                {
                                    "Category": "Whls_Grocery",
                                    "TransactionMonth": "2020-02-29",
                                    "TotalSales": "747.57",
                                    "MovingThreeMonthAvgSales": "965.580000"
                                },
                                {
                                    "Category": "Whls_Grocery",
                                    "TransactionMonth": "2020-03-31",
                                    "TotalSales": "1101.96",
                                    "MovingThreeMonthAvgSales": "1031.700000"
                                },
                                {
                                    "Category": "Whls_Grocery",
                                    "TransactionMonth": "2020-04-30",
                                    "TotalSales": "318.73",
                                    "MovingThreeMonthAvgSales": "722.753333"
                                },
                                {
                                    "Category": "Whls_Grocery",
                                    "TransactionMonth": "2020-05-31",
                                    "TotalSales": "908.91",
                                    "MovingThreeMonthAvgSales": "776.533333"
                                },
                                {
                                    "Category": "Whls_Grocery",
                                    "TransactionMonth": "2020-06-30",
                                    "TotalSales": "457.57",
                                    "MovingThreeMonthAvgSales": "561.736666"
                                },
                                {
                                    "Category": "Whls_Grocery",
                                    "TransactionMonth": "2020-07-31",
                                    "TotalSales": "957.52",
                                    "MovingThreeMonthAvgSales": "774.666666"
                                },
                                {
                                    "Category": "Whls_Grocery",
                                    "TransactionMonth": "2020-08-31",
                                    "TotalSales": "1055.55",
                                    "MovingThreeMonthAvgSales": "823.546666"
                                },
                                {
                                    "Category": "Whls_Grocery",
                                    "TransactionMonth": "2020-09-30",
                                    "TotalSales": "848.39",
                                    "MovingThreeMonthAvgSales": "953.820000"
                                },
                                {
                                    "Category": "Whls_Grocery",
                                    "TransactionMonth": "2020-10-31",
                                    "TotalSales": "491.82",
                                    "MovingThreeMonthAvgSales": "798.586666"
                                },
                                {
                                    "Category": "Whls_Grocery",
                                    "TransactionMonth": "2020-11-30",
                                    "TotalSales": "356.08",
                                    "MovingThreeMonthAvgSales": "565.430000"
                                },
                                {
                                    "Category": "Whls_Grocery",
                                    "TransactionMonth": "2020-12-31",
                                    "TotalSales": "258.38",
                                    "MovingThreeMonthAvgSales": "368.760000"
                                },
                                {
                                    "Category": "Whls_Grocery",
                                    "TransactionMonth": "2021-01-31",
                                    "TotalSales": "209.84",
                                    "MovingThreeMonthAvgSales": "274.766666"
                                },
                                {
                                    "Category": "Whls_Grocery",
                                    "TransactionMonth": "2021-02-28",
                                    "TotalSales": "567.54",
                                    "MovingThreeMonthAvgSales": "345.253333"
                                },
                                {
                                    "Category": "Whls_Grocery",
                                    "TransactionMonth": "2021-03-31",
                                    "TotalSales": "486.24",
                                    "MovingThreeMonthAvgSales": "421.206666"
                                },
                                {
                                    "Category": "Whls_Grocery",
                                    "TransactionMonth": "2021-04-30",
                                    "TotalSales": "544.24",
                                    "MovingThreeMonthAvgSales": "532.673333"
                                },
                                {
                                    "Category": "Whls_Grocery",
                                    "TransactionMonth": "2021-05-31",
                                    "TotalSales": "619.80",
                                    "MovingThreeMonthAvgSales": "550.093333"
                                },
                                {
                                    "Category": "Whls_Grocery",
                                    "TransactionMonth": "2021-06-30",
                                    "TotalSales": "283.04",
                                    "MovingThreeMonthAvgSales": "482.360000"
                                },
                                {
                                    "Category": "Whls_Grocery",
                                    "TransactionMonth": "2021-07-31",
                                    "TotalSales": "727.51",
                                    "MovingThreeMonthAvgSales": "543.450000"
                                },
                                {
                                    "Category": "Whls_Grocery",
                                    "TransactionMonth": "2021-08-31",
                                    "TotalSales": "187.48",
                                    "MovingThreeMonthAvgSales": "399.343333"
                                },
                                {
                                    "Category": "Whls_Grocery",
                                    "TransactionMonth": "2021-09-30",
                                    "TotalSales": "477.92",
                                    "MovingThreeMonthAvgSales": "464.303333"
                                },
                                {
                                    "Category": "Whls_Grocery",
                                    "TransactionMonth": "2021-10-31",
                                    "TotalSales": "670.86",
                                    "MovingThreeMonthAvgSales": "445.420000"
                                },
                                {
                                    "Category": "Whls_Grocery",
                                    "TransactionMonth": "2021-11-30",
                                    "TotalSales": "445.61",
                                    "MovingThreeMonthAvgSales": "531.463333"
                                },
                                {
                                    "Category": "Whls_Grocery",
                                    "TransactionMonth": "2021-12-31",
                                    "TotalSales": "486.90",
                                    "MovingThreeMonthAvgSales": "534.456666"
                                },
                                {
                                    "Category": "Whls_Selling Supplies",
                                    "TransactionMonth": "2021-08-31",
                                    "TotalSales": "166.47",
                                    "MovingThreeMonthAvgSales": "166.470000"
                                },
                                {
                                    "Category": "Whls_Selling Supplies",
                                    "TransactionMonth": "2021-09-30",
                                    "TotalSales": "80.02",
                                    "MovingThreeMonthAvgSales": "123.245000"
                                }
                            ]
                        },
                        "text/html": "<table><tr><th>Category</th><th>TransactionMonth</th><th>TotalSales</th><th>MovingThreeMonthAvgSales</th></tr><tr><td>Accessories</td><td>2019-02-28</td><td>742.06</td><td>742.060000</td></tr><tr><td>Accessories</td><td>2019-03-31</td><td>752.48</td><td>747.270000</td></tr><tr><td>Accessories</td><td>2019-04-30</td><td>903.54</td><td>799.360000</td></tr><tr><td>Accessories</td><td>2019-05-31</td><td>1094.00</td><td>916.673333</td></tr><tr><td>Accessories</td><td>2019-06-30</td><td>1100.73</td><td>1032.756666</td></tr><tr><td>Accessories</td><td>2019-07-31</td><td>1003.34</td><td>1066.023333</td></tr><tr><td>Accessories</td><td>2019-08-31</td><td>940.90</td><td>1014.990000</td></tr><tr><td>Accessories</td><td>2019-09-30</td><td>1073.68</td><td>1005.973333</td></tr><tr><td>Accessories</td><td>2019-10-31</td><td>1048.93</td><td>1021.170000</td></tr><tr><td>Accessories</td><td>2019-11-30</td><td>978.33</td><td>1033.646666</td></tr><tr><td>Accessories</td><td>2019-12-31</td><td>1116.51</td><td>1047.923333</td></tr><tr><td>Accessories</td><td>2020-01-31</td><td>1175.60</td><td>1090.146666</td></tr><tr><td>Accessories</td><td>2020-02-29</td><td>738.12</td><td>1010.076666</td></tr><tr><td>Accessories</td><td>2020-03-31</td><td>1138.63</td><td>1017.450000</td></tr><tr><td>Accessories</td><td>2020-04-30</td><td>570.15</td><td>815.633333</td></tr><tr><td>Accessories</td><td>2020-05-31</td><td>642.02</td><td>783.600000</td></tr><tr><td>Accessories</td><td>2020-06-30</td><td>630.15</td><td>614.106666</td></tr><tr><td>Accessories</td><td>2020-07-31</td><td>1432.05</td><td>901.406666</td></tr><tr><td>Accessories</td><td>2020-08-31</td><td>1566.48</td><td>1209.560000</td></tr><tr><td>Accessories</td><td>2020-09-30</td><td>1527.68</td><td>1508.736666</td></tr><tr><td>Accessories</td><td>2020-10-31</td><td>1507.44</td><td>1533.866666</td></tr><tr><td>Accessories</td><td>2020-11-30</td><td>1898.25</td><td>1644.456666</td></tr><tr><td>Accessories</td><td>2020-12-31</td><td>2543.22</td><td>1982.970000</td></tr><tr><td>Accessories</td><td>2021-01-31</td><td>2785.38</td><td>2408.950000</td></tr><tr><td>Accessories</td><td>2021-02-28</td><td>2468.48</td><td>2599.026666</td></tr><tr><td>Accessories</td><td>2021-03-31</td><td>1980.07</td><td>2411.310000</td></tr><tr><td>Accessories</td><td>2021-04-30</td><td>2046.72</td><td>2165.090000</td></tr><tr><td>Accessories</td><td>2021-05-31</td><td>1851.93</td><td>1959.573333</td></tr><tr><td>Accessories</td><td>2021-06-30</td><td>1406.68</td><td>1768.443333</td></tr><tr><td>Accessories</td><td>2021-07-31</td><td>1388.45</td><td>1549.020000</td></tr><tr><td>Accessories</td><td>2021-08-31</td><td>1487.14</td><td>1427.423333</td></tr><tr><td>Accessories</td><td>2021-09-30</td><td>1523.85</td><td>1466.480000</td></tr><tr><td>Accessories</td><td>2021-10-31</td><td>1465.52</td><td>1492.170000</td></tr><tr><td>Accessories</td><td>2021-11-30</td><td>1460.29</td><td>1483.220000</td></tr><tr><td>Accessories</td><td>2021-12-31</td><td>2097.21</td><td>1674.340000</td></tr><tr><td>Body Care</td><td>2019-02-28</td><td>2624.92</td><td>2624.920000</td></tr><tr><td>Body Care</td><td>2019-03-31</td><td>2544.82</td><td>2584.870000</td></tr><tr><td>Body Care</td><td>2019-04-30</td><td>2429.24</td><td>2532.993333</td></tr><tr><td>Body Care</td><td>2019-05-31</td><td>3537.36</td><td>2837.140000</td></tr><tr><td>Body Care</td><td>2019-06-30</td><td>3367.33</td><td>3111.310000</td></tr><tr><td>Body Care</td><td>2019-07-31</td><td>3557.08</td><td>3487.256666</td></tr><tr><td>Body Care</td><td>2019-08-31</td><td>3914.50</td><td>3612.970000</td></tr><tr><td>Body Care</td><td>2019-09-30</td><td>3686.71</td><td>3719.430000</td></tr><tr><td>Body Care</td><td>2019-10-31</td><td>3707.63</td><td>3769.613333</td></tr><tr><td>Body Care</td><td>2019-11-30</td><td>4093.80</td><td>3829.380000</td></tr><tr><td>Body Care</td><td>2019-12-31</td><td>3888.16</td><td>3896.530000</td></tr><tr><td>Body Care</td><td>2020-01-31</td><td>5801.42</td><td>4594.460000</td></tr><tr><td>Body Care</td><td>2020-02-29</td><td>4493.73</td><td>4727.770000</td></tr><tr><td>Body Care</td><td>2020-03-31</td><td>4926.80</td><td>5073.983333</td></tr><tr><td>Body Care</td><td>2020-04-30</td><td>4239.50</td><td>4553.343333</td></tr><tr><td>Body Care</td><td>2020-05-31</td><td>4238.19</td><td>4468.163333</td></tr><tr><td>Body Care</td><td>2020-06-30</td><td>4493.05</td><td>4323.580000</td></tr><tr><td>Body Care</td><td>2020-07-31</td><td>5701.65</td><td>4810.963333</td></tr><tr><td>Body Care</td><td>2020-08-31</td><td>6862.75</td><td>5685.816666</td></tr><tr><td>Body Care</td><td>2020-09-30</td><td>6678.22</td><td>6414.206666</td></tr><tr><td>Body Care</td><td>2020-10-31</td><td>6423.07</td><td>6654.680000</td></tr><tr><td>Body Care</td><td>2020-11-30</td><td>6125.61</td><td>6408.966666</td></tr><tr><td>Body Care</td><td>2020-12-31</td><td>6859.50</td><td>6469.393333</td></tr><tr><td>Body Care</td><td>2021-01-31</td><td>6557.27</td><td>6514.126666</td></tr><tr><td>Body Care</td><td>2021-02-28</td><td>6766.08</td><td>6727.616666</td></tr><tr><td>Body Care</td><td>2021-03-31</td><td>6170.15</td><td>6497.833333</td></tr><tr><td>Body Care</td><td>2021-04-30</td><td>6472.60</td><td>6469.610000</td></tr><tr><td>Body Care</td><td>2021-05-31</td><td>6558.58</td><td>6400.443333</td></tr><tr><td>Body Care</td><td>2021-06-30</td><td>6123.15</td><td>6384.776666</td></tr><tr><td>Body Care</td><td>2021-07-31</td><td>6465.81</td><td>6382.513333</td></tr><tr><td>Body Care</td><td>2021-08-31</td><td>6614.70</td><td>6401.220000</td></tr><tr><td>Body Care</td><td>2021-09-30</td><td>4886.87</td><td>5989.126666</td></tr><tr><td>Body Care</td><td>2021-10-31</td><td>5489.42</td><td>5663.663333</td></tr><tr><td>Body Care</td><td>2021-11-30</td><td>4964.23</td><td>5113.506666</td></tr><tr><td>Body Care</td><td>2021-12-31</td><td>4703.29</td><td>5052.313333</td></tr><tr><td>Cleaning Supply</td><td>2019-02-28</td><td>733.40</td><td>733.400000</td></tr><tr><td>Cleaning Supply</td><td>2019-03-31</td><td>1360.54</td><td>1046.970000</td></tr><tr><td>Cleaning Supply</td><td>2019-04-30</td><td>1173.74</td><td>1089.226666</td></tr><tr><td>Cleaning Supply</td><td>2019-05-31</td><td>1233.51</td><td>1255.930000</td></tr><tr><td>Cleaning Supply</td><td>2019-06-30</td><td>1768.14</td><td>1391.796666</td></tr><tr><td>Cleaning Supply</td><td>2019-07-31</td><td>2022.01</td><td>1674.553333</td></tr><tr><td>Cleaning Supply</td><td>2019-08-31</td><td>2428.41</td><td>2072.853333</td></tr><tr><td>Cleaning Supply</td><td>2019-09-30</td><td>2215.92</td><td>2222.113333</td></tr><tr><td>Cleaning Supply</td><td>2019-10-31</td><td>2264.19</td><td>2302.840000</td></tr><tr><td>Cleaning Supply</td><td>2019-11-30</td><td>1663.22</td><td>2047.776666</td></tr><tr><td>Cleaning Supply</td><td>2019-12-31</td><td>2002.12</td><td>1976.510000</td></tr><tr><td>Cleaning Supply</td><td>2020-01-31</td><td>3001.68</td><td>2222.340000</td></tr><tr><td>Cleaning Supply</td><td>2020-02-29</td><td>2642.87</td><td>2548.890000</td></tr><tr><td>Cleaning Supply</td><td>2020-03-31</td><td>2385.58</td><td>2676.710000</td></tr><tr><td>Cleaning Supply</td><td>2020-04-30</td><td>1239.47</td><td>2089.306666</td></tr><tr><td>Cleaning Supply</td><td>2020-05-31</td><td>2593.54</td><td>2072.863333</td></tr><tr><td>Cleaning Supply</td><td>2020-06-30</td><td>2181.28</td><td>2004.763333</td></tr><tr><td>Cleaning Supply</td><td>2020-07-31</td><td>2674.72</td><td>2483.180000</td></tr><tr><td>Cleaning Supply</td><td>2020-08-31</td><td>2940.23</td><td>2598.743333</td></tr><tr><td>Cleaning Supply</td><td>2020-09-30</td><td>3109.56</td><td>2908.170000</td></tr><tr><td>Cleaning Supply</td><td>2020-10-31</td><td>3535.40</td><td>3195.063333</td></tr><tr><td>Cleaning Supply</td><td>2020-11-30</td><td>3261.33</td><td>3302.096666</td></tr><tr><td>Cleaning Supply</td><td>2020-12-31</td><td>3427.78</td><td>3408.170000</td></tr><tr><td>Cleaning Supply</td><td>2021-01-31</td><td>4001.36</td><td>3563.490000</td></tr><tr><td>Cleaning Supply</td><td>2021-02-28</td><td>3959.43</td><td>3796.190000</td></tr><tr><td>Cleaning Supply</td><td>2021-03-31</td><td>3453.71</td><td>3804.833333</td></tr><tr><td>Cleaning Supply</td><td>2021-04-30</td><td>4047.12</td><td>3820.086666</td></tr><tr><td>Cleaning Supply</td><td>2021-05-31</td><td>4106.59</td><td>3869.140000</td></tr><tr><td>Cleaning Supply</td><td>2021-06-30</td><td>4184.75</td><td>4112.820000</td></tr><tr><td>Cleaning Supply</td><td>2021-07-31</td><td>3650.41</td><td>3980.583333</td></tr><tr><td>Cleaning Supply</td><td>2021-08-31</td><td>4190.89</td><td>4008.683333</td></tr><tr><td>Cleaning Supply</td><td>2021-09-30</td><td>3221.26</td><td>3687.520000</td></tr><tr><td>Cleaning Supply</td><td>2021-10-31</td><td>4286.06</td><td>3899.403333</td></tr><tr><td>Cleaning Supply</td><td>2021-11-30</td><td>3769.88</td><td>3759.066666</td></tr><tr><td>Cleaning Supply</td><td>2021-12-31</td><td>3647.90</td><td>3901.280000</td></tr><tr><td>Containers</td><td>2019-02-28</td><td>637.33</td><td>637.330000</td></tr><tr><td>Containers</td><td>2019-03-31</td><td>1156.01</td><td>896.670000</td></tr><tr><td>Containers</td><td>2019-04-30</td><td>660.40</td><td>817.913333</td></tr><tr><td>Containers</td><td>2019-05-31</td><td>852.90</td><td>889.770000</td></tr><tr><td>Containers</td><td>2019-06-30</td><td>1386.14</td><td>966.480000</td></tr><tr><td>Containers</td><td>2019-07-31</td><td>848.64</td><td>1029.226666</td></tr><tr><td>Containers</td><td>2019-08-31</td><td>1093.52</td><td>1109.433333</td></tr><tr><td>Containers</td><td>2019-09-30</td><td>922.43</td><td>954.863333</td></tr><tr><td>Containers</td><td>2019-10-31</td><td>996.35</td><td>1004.100000</td></tr><tr><td>Containers</td><td>2019-11-30</td><td>1030.94</td><td>983.240000</td></tr><tr><td>Containers</td><td>2019-12-31</td><td>2138.31</td><td>1388.533333</td></tr><tr><td>Containers</td><td>2020-01-31</td><td>1307.55</td><td>1492.266666</td></tr><tr><td>Containers</td><td>2020-02-29</td><td>898.61</td><td>1448.156666</td></tr><tr><td>Containers</td><td>2020-03-31</td><td>1159.11</td><td>1121.756666</td></tr><tr><td>Containers</td><td>2020-04-30</td><td>766.65</td><td>941.456666</td></tr><tr><td>Containers</td><td>2020-05-31</td><td>1168.99</td><td>1031.583333</td></tr><tr><td>Containers</td><td>2020-06-30</td><td>645.16</td><td>860.266666</td></tr><tr><td>Containers</td><td>2020-07-31</td><td>1210.43</td><td>1008.193333</td></tr><tr><td>Containers</td><td>2020-08-31</td><td>1149.98</td><td>1001.856666</td></tr><tr><td>Containers</td><td>2020-09-30</td><td>927.84</td><td>1096.083333</td></tr><tr><td>Containers</td><td>2020-10-31</td><td>743.79</td><td>940.536666</td></tr><tr><td>Containers</td><td>2020-11-30</td><td>829.73</td><td>833.786666</td></tr><tr><td>Containers</td><td>2020-12-31</td><td>1355.86</td><td>976.460000</td></tr><tr><td>Containers</td><td>2021-01-31</td><td>997.27</td><td>1060.953333</td></tr><tr><td>Containers</td><td>2021-02-28</td><td>851.27</td><td>1068.133333</td></tr><tr><td>Containers</td><td>2021-03-31</td><td>635.11</td><td>827.883333</td></tr><tr><td>Containers</td><td>2021-04-30</td><td>838.67</td><td>775.016666</td></tr><tr><td>Containers</td><td>2021-05-31</td><td>708.23</td><td>727.336666</td></tr><tr><td>Containers</td><td>2021-06-30</td><td>609.19</td><td>718.696666</td></tr><tr><td>Containers</td><td>2021-07-31</td><td>649.88</td><td>655.766666</td></tr><tr><td>Containers</td><td>2021-08-31</td><td>606.00</td><td>621.690000</td></tr><tr><td>Containers</td><td>2021-09-30</td><td>503.17</td><td>586.350000</td></tr><tr><td>Containers</td><td>2021-10-31</td><td>637.18</td><td>582.116666</td></tr><tr><td>Containers</td><td>2021-11-30</td><td>559.01</td><td>566.453333</td></tr><tr><td>Containers</td><td>2021-12-31</td><td>759.98</td><td>652.056666</td></tr><tr><td>Events</td><td>2019-05-31</td><td>60.00</td><td>60.000000</td></tr><tr><td>Fresh Produce</td><td>2019-02-28</td><td>71.30</td><td>71.300000</td></tr><tr><td>Fresh Produce</td><td>2019-03-31</td><td>56.50</td><td>63.900000</td></tr><tr><td>Fresh Produce</td><td>2019-05-31</td><td>416.55</td><td>181.450000</td></tr><tr><td>Fresh Produce</td><td>2019-06-30</td><td>657.81</td><td>376.953333</td></tr><tr><td>Fresh Produce</td><td>2019-07-31</td><td>632.93</td><td>569.096666</td></tr><tr><td>Fresh Produce</td><td>2019-08-31</td><td>547.56</td><td>612.766666</td></tr><tr><td>Fresh Produce</td><td>2019-09-30</td><td>735.59</td><td>638.693333</td></tr><tr><td>Fresh Produce</td><td>2019-10-31</td><td>598.44</td><td>627.196666</td></tr><tr><td>Fresh Produce</td><td>2019-11-30</td><td>870.51</td><td>734.846666</td></tr><tr><td>Fresh Produce</td><td>2019-12-31</td><td>790.53</td><td>753.160000</td></tr><tr><td>Fresh Produce</td><td>2020-01-31</td><td>614.23</td><td>758.423333</td></tr><tr><td>Fresh Produce</td><td>2020-02-29</td><td>567.50</td><td>657.420000</td></tr><tr><td>Fresh Produce</td><td>2020-03-31</td><td>1024.78</td><td>735.503333</td></tr><tr><td>Fresh Produce</td><td>2020-04-30</td><td>968.89</td><td>853.723333</td></tr><tr><td>Fresh Produce</td><td>2020-05-31</td><td>1421.66</td><td>1138.443333</td></tr><tr><td>Fresh Produce</td><td>2020-06-30</td><td>1442.75</td><td>1277.766666</td></tr><tr><td>Fresh Produce</td><td>2020-07-31</td><td>1522.19</td><td>1462.200000</td></tr><tr><td>Fresh Produce</td><td>2020-08-31</td><td>1888.23</td><td>1617.723333</td></tr><tr><td>Fresh Produce</td><td>2020-09-30</td><td>1521.18</td><td>1643.866666</td></tr><tr><td>Fresh Produce</td><td>2020-10-31</td><td>1175.59</td><td>1528.333333</td></tr><tr><td>Fresh Produce</td><td>2020-11-30</td><td>1233.42</td><td>1310.063333</td></tr><tr><td>Fresh Produce</td><td>2020-12-31</td><td>1304.09</td><td>1237.700000</td></tr><tr><td>Fresh Produce</td><td>2021-01-31</td><td>1341.94</td><td>1293.150000</td></tr><tr><td>Fresh Produce</td><td>2021-02-28</td><td>1185.98</td><td>1277.336666</td></tr><tr><td>Fresh Produce</td><td>2021-03-31</td><td>1220.25</td><td>1249.390000</td></tr><tr><td>Fresh Produce</td><td>2021-04-30</td><td>1312.48</td><td>1239.570000</td></tr><tr><td>Fresh Produce</td><td>2021-05-31</td><td>1262.85</td><td>1265.193333</td></tr><tr><td>Fresh Produce</td><td>2021-06-30</td><td>1102.66</td><td>1225.996666</td></tr><tr><td>Fresh Produce</td><td>2021-07-31</td><td>827.30</td><td>1064.270000</td></tr><tr><td>Fresh Produce</td><td>2021-08-31</td><td>1080.05</td><td>1003.336666</td></tr><tr><td>Fresh Produce</td><td>2021-09-30</td><td>653.43</td><td>853.593333</td></tr><tr><td>Fresh Produce</td><td>2021-10-31</td><td>700.10</td><td>811.193333</td></tr><tr><td>Fresh Produce</td><td>2021-11-30</td><td>448.16</td><td>600.563333</td></tr><tr><td>Fresh Produce</td><td>2021-12-31</td><td>542.99</td><td>563.750000</td></tr><tr><td>Gift Card</td><td>2019-11-30</td><td>235.00</td><td>235.000000</td></tr><tr><td>Gift Card</td><td>2020-02-29</td><td>50.00</td><td>142.500000</td></tr><tr><td>Gift Card</td><td>2020-03-31</td><td>235.00</td><td>173.333333</td></tr><tr><td>Gift Card</td><td>2020-05-31</td><td>233.00</td><td>172.666666</td></tr><tr><td>Gift Card</td><td>2020-06-30</td><td>212.78</td><td>226.926666</td></tr><tr><td>Gift Card</td><td>2020-07-31</td><td>30.00</td><td>158.593333</td></tr><tr><td>Gift Card</td><td>2020-08-31</td><td>129.77</td><td>124.183333</td></tr><tr><td>Gift Card</td><td>2020-09-30</td><td>83.25</td><td>81.006666</td></tr><tr><td>Gift Card</td><td>2020-10-31</td><td>100.00</td><td>104.340000</td></tr><tr><td>Gift Card</td><td>2020-11-30</td><td>167.10</td><td>116.783333</td></tr><tr><td>Gift Card</td><td>2020-12-31</td><td>495.00</td><td>254.033333</td></tr><tr><td>Gift Card</td><td>2021-01-31</td><td>351.95</td><td>338.016666</td></tr><tr><td>Gift Card</td><td>2021-02-28</td><td>248.89</td><td>365.280000</td></tr><tr><td>Gift Card</td><td>2021-03-31</td><td>48.33</td><td>216.390000</td></tr><tr><td>Gift Card</td><td>2021-04-30</td><td>54.35</td><td>117.190000</td></tr><tr><td>Gift Card</td><td>2021-05-31</td><td>265.00</td><td>122.560000</td></tr><tr><td>Gift Card</td><td>2021-06-30</td><td>270.00</td><td>196.450000</td></tr><tr><td>Gift Card</td><td>2021-07-31</td><td>115.00</td><td>216.666666</td></tr><tr><td>Gift Card</td><td>2021-08-31</td><td>225.00</td><td>203.333333</td></tr><tr><td>Gift Card</td><td>2021-09-30</td><td>175.00</td><td>171.666666</td></tr><tr><td>Gift Card</td><td>2021-10-31</td><td>190.00</td><td>196.666666</td></tr><tr><td>Gift Card</td><td>2021-11-30</td><td>115.00</td><td>160.000000</td></tr><tr><td>Gift Card</td><td>2021-12-31</td><td>985.29</td><td>430.096666</td></tr><tr><td>Grab &amp; Go</td><td>2019-02-28</td><td>969.85</td><td>969.850000</td></tr><tr><td>Grab &amp; Go</td><td>2019-03-31</td><td>1047.91</td><td>1008.880000</td></tr><tr><td>Grab &amp; Go</td><td>2019-04-30</td><td>848.82</td><td>955.526666</td></tr><tr><td>Grab &amp; Go</td><td>2019-05-31</td><td>645.78</td><td>847.503333</td></tr><tr><td>Grab &amp; Go</td><td>2019-06-30</td><td>438.68</td><td>644.426666</td></tr><tr><td>Grab &amp; Go</td><td>2019-07-31</td><td>392.17</td><td>492.210000</td></tr><tr><td>Grab &amp; Go</td><td>2019-08-31</td><td>396.75</td><td>409.200000</td></tr><tr><td>Grab &amp; Go</td><td>2019-09-30</td><td>183.62</td><td>324.180000</td></tr><tr><td>Grab &amp; Go</td><td>2019-10-31</td><td>160.87</td><td>247.080000</td></tr><tr><td>Grab &amp; Go</td><td>2019-11-30</td><td>156.94</td><td>167.143333</td></tr><tr><td>Grab &amp; Go</td><td>2019-12-31</td><td>6.58</td><td>108.130000</td></tr><tr><td>Grab &amp; Go</td><td>2020-01-31</td><td>116.80</td><td>93.440000</td></tr><tr><td>Grab &amp; Go</td><td>2020-02-29</td><td>266.85</td><td>130.076666</td></tr><tr><td>Grab &amp; Go</td><td>2020-03-31</td><td>212.04</td><td>198.563333</td></tr><tr><td>Grab &amp; Go</td><td>2020-04-30</td><td>194.37</td><td>224.420000</td></tr><tr><td>Grab &amp; Go</td><td>2020-05-31</td><td>70.68</td><td>159.030000</td></tr><tr><td>Grab &amp; Go</td><td>2020-06-30</td><td>5.89</td><td>90.313333</td></tr><tr><td>Grab &amp; Go</td><td>2020-09-30</td><td>3.49</td><td>26.686666</td></tr><tr><td>Grab &amp; Go</td><td>2020-12-31</td><td>330.00</td><td>113.126666</td></tr><tr><td>Grab &amp; Go</td><td>2021-01-31</td><td>170.00</td><td>167.830000</td></tr><tr><td>Grab &amp; Go</td><td>2021-02-28</td><td>150.00</td><td>216.666666</td></tr><tr><td>Grab &amp; Go</td><td>2021-03-31</td><td>170.00</td><td>163.333333</td></tr><tr><td>Grab &amp; Go</td><td>2021-04-30</td><td>130.00</td><td>150.000000</td></tr><tr><td>Grab &amp; Go</td><td>2021-05-31</td><td>190.00</td><td>163.333333</td></tr><tr><td>Grab &amp; Go</td><td>2021-06-30</td><td>130.00</td><td>150.000000</td></tr><tr><td>Grab &amp; Go</td><td>2021-07-31</td><td>160.00</td><td>160.000000</td></tr><tr><td>Grab &amp; Go</td><td>2021-08-31</td><td>20.00</td><td>103.333333</td></tr><tr><td>Grab &amp; Go</td><td>2021-09-30</td><td>70.00</td><td>83.333333</td></tr><tr><td>Grab &amp; Go</td><td>2021-10-31</td><td>170.00</td><td>86.666666</td></tr><tr><td>Grab &amp; Go</td><td>2021-11-30</td><td>290.00</td><td>176.666666</td></tr><tr><td>Grab &amp; Go</td><td>2021-12-31</td><td>300.00</td><td>253.333333</td></tr><tr><td>Grocery</td><td>2019-02-28</td><td>7137.63</td><td>7137.630000</td></tr><tr><td>Grocery</td><td>2019-03-31</td><td>10298.90</td><td>8718.265000</td></tr><tr><td>Grocery</td><td>2019-04-30</td><td>7578.90</td><td>8338.476666</td></tr><tr><td>Grocery</td><td>2019-05-31</td><td>11560.58</td><td>9812.793333</td></tr><tr><td>Grocery</td><td>2019-06-30</td><td>12684.29</td><td>10607.923333</td></tr><tr><td>Grocery</td><td>2019-07-31</td><td>13910.38</td><td>12718.416666</td></tr><tr><td>Grocery</td><td>2019-08-31</td><td>12405.58</td><td>13000.083333</td></tr><tr><td>Grocery</td><td>2019-09-30</td><td>14081.89</td><td>13465.950000</td></tr><tr><td>Grocery</td><td>2019-10-31</td><td>14855.89</td><td>13781.120000</td></tr><tr><td>Grocery</td><td>2019-11-30</td><td>13741.53</td><td>14226.436666</td></tr><tr><td>Grocery</td><td>2019-12-31</td><td>13394.66</td><td>13997.360000</td></tr><tr><td>Grocery</td><td>2020-01-31</td><td>18684.79</td><td>15273.660000</td></tr><tr><td>Grocery</td><td>2020-02-29</td><td>17378.43</td><td>16485.960000</td></tr><tr><td>Grocery</td><td>2020-03-31</td><td>25278.29</td><td>20447.170000</td></tr><tr><td>Grocery</td><td>2020-04-30</td><td>17773.76</td><td>20143.493333</td></tr><tr><td>Grocery</td><td>2020-05-31</td><td>17400.11</td><td>20150.720000</td></tr><tr><td>Grocery</td><td>2020-06-30</td><td>17690.43</td><td>17621.433333</td></tr><tr><td>Grocery</td><td>2020-07-31</td><td>19801.99</td><td>18297.510000</td></tr><tr><td>Grocery</td><td>2020-08-31</td><td>22827.07</td><td>20106.496666</td></tr><tr><td>Grocery</td><td>2020-09-30</td><td>20625.39</td><td>21084.816666</td></tr><tr><td>Grocery</td><td>2020-10-31</td><td>23094.37</td><td>22182.276666</td></tr><tr><td>Grocery</td><td>2020-11-30</td><td>20557.64</td><td>21425.800000</td></tr><tr><td>Grocery</td><td>2020-12-31</td><td>22821.97</td><td>22157.993333</td></tr><tr><td>Grocery</td><td>2021-01-31</td><td>27564.02</td><td>23647.876666</td></tr><tr><td>Grocery</td><td>2021-02-28</td><td>26251.93</td><td>25545.973333</td></tr><tr><td>Grocery</td><td>2021-03-31</td><td>25647.09</td><td>26487.680000</td></tr><tr><td>Grocery</td><td>2021-04-30</td><td>25863.49</td><td>25920.836666</td></tr><tr><td>Grocery</td><td>2021-05-31</td><td>23208.79</td><td>24906.456666</td></tr><tr><td>Grocery</td><td>2021-06-30</td><td>21215.96</td><td>23429.413333</td></tr><tr><td>Grocery</td><td>2021-07-31</td><td>18227.68</td><td>20884.143333</td></tr><tr><td>Grocery</td><td>2021-08-31</td><td>18097.08</td><td>19180.240000</td></tr><tr><td>Grocery</td><td>2021-09-30</td><td>16235.42</td><td>17520.060000</td></tr><tr><td>Grocery</td><td>2021-10-31</td><td>19581.86</td><td>17971.453333</td></tr><tr><td>Grocery</td><td>2021-11-30</td><td>19082.18</td><td>18299.820000</td></tr><tr><td>Grocery</td><td>2021-12-31</td><td>17739.00</td><td>18801.013333</td></tr><tr><td>Holiday Popup</td><td>2019-12-31</td><td>715.00</td><td>715.000000</td></tr><tr><td>Local Love</td><td>2019-02-28</td><td>2016.13</td><td>2016.130000</td></tr><tr><td>Local Love</td><td>2019-03-31</td><td>3604.46</td><td>2810.295000</td></tr><tr><td>Local Love</td><td>2019-04-30</td><td>3503.27</td><td>3041.286666</td></tr><tr><td>Local Love</td><td>2019-05-31</td><td>4444.36</td><td>3850.696666</td></tr><tr><td>Local Love</td><td>2019-06-30</td><td>4146.55</td><td>4031.393333</td></tr><tr><td>Local Love</td><td>2019-07-31</td><td>4065.09</td><td>4218.666666</td></tr><tr><td>Local Love</td><td>2019-08-31</td><td>3588.83</td><td>3933.490000</td></tr><tr><td>Local Love</td><td>2019-09-30</td><td>4321.79</td><td>3991.903333</td></tr><tr><td>Local Love</td><td>2019-10-31</td><td>4619.66</td><td>4176.760000</td></tr><tr><td>Local Love</td><td>2019-11-30</td><td>5032.87</td><td>4658.106666</td></tr><tr><td>Local Love</td><td>2019-12-31</td><td>4512.43</td><td>4721.653333</td></tr><tr><td>Local Love</td><td>2020-01-31</td><td>6009.14</td><td>5184.813333</td></tr><tr><td>Local Love</td><td>2020-02-29</td><td>6028.07</td><td>5516.546666</td></tr><tr><td>Local Love</td><td>2020-03-31</td><td>7256.15</td><td>6431.120000</td></tr><tr><td>Local Love</td><td>2020-04-30</td><td>5799.89</td><td>6361.370000</td></tr><tr><td>Local Love</td><td>2020-05-31</td><td>6478.62</td><td>6511.553333</td></tr><tr><td>Local Love</td><td>2020-06-30</td><td>7390.90</td><td>6556.470000</td></tr><tr><td>Local Love</td><td>2020-07-31</td><td>8303.34</td><td>7390.953333</td></tr><tr><td>Local Love</td><td>2020-08-31</td><td>9176.05</td><td>8290.096666</td></tr><tr><td>Local Love</td><td>2020-09-30</td><td>8669.26</td><td>8716.216666</td></tr><tr><td>Local Love</td><td>2020-10-31</td><td>9332.02</td><td>9059.110000</td></tr><tr><td>Local Love</td><td>2020-11-30</td><td>8339.55</td><td>8780.276666</td></tr><tr><td>Local Love</td><td>2020-12-31</td><td>13628.67</td><td>10433.413333</td></tr><tr><td>Local Love</td><td>2021-01-31</td><td>11333.45</td><td>11100.556666</td></tr><tr><td>Local Love</td><td>2021-02-28</td><td>11582.38</td><td>12181.500000</td></tr><tr><td>Local Love</td><td>2021-03-31</td><td>11233.03</td><td>11382.953333</td></tr><tr><td>Local Love</td><td>2021-04-30</td><td>10800.14</td><td>11205.183333</td></tr><tr><td>Local Love</td><td>2021-05-31</td><td>10414.59</td><td>10815.920000</td></tr><tr><td>Local Love</td><td>2021-06-30</td><td>8871.09</td><td>10028.606666</td></tr><tr><td>Local Love</td><td>2021-07-31</td><td>8327.14</td><td>9204.273333</td></tr><tr><td>Local Love</td><td>2021-08-31</td><td>8117.77</td><td>8438.666666</td></tr><tr><td>Local Love</td><td>2021-09-30</td><td>5512.41</td><td>7319.106666</td></tr><tr><td>Local Love</td><td>2021-10-31</td><td>6876.79</td><td>6835.656666</td></tr><tr><td>Local Love</td><td>2021-11-30</td><td>6359.54</td><td>6249.580000</td></tr><tr><td>Local Love</td><td>2021-12-31</td><td>7926.28</td><td>7054.203333</td></tr><tr><td>Whls_Grocery</td><td>2019-02-28</td><td>4.35</td><td>4.350000</td></tr><tr><td>Whls_Grocery</td><td>2019-03-31</td><td>76.83</td><td>40.590000</td></tr><tr><td>Whls_Grocery</td><td>2019-04-30</td><td>173.86</td><td>85.013333</td></tr><tr><td>Whls_Grocery</td><td>2019-05-31</td><td>426.59</td><td>225.760000</td></tr><tr><td>Whls_Grocery</td><td>2019-06-30</td><td>1904.70</td><td>835.050000</td></tr><tr><td>Whls_Grocery</td><td>2019-07-31</td><td>989.08</td><td>1106.790000</td></tr><tr><td>Whls_Grocery</td><td>2019-08-31</td><td>990.91</td><td>1294.896666</td></tr><tr><td>Whls_Grocery</td><td>2019-09-30</td><td>1611.18</td><td>1197.056666</td></tr><tr><td>Whls_Grocery</td><td>2019-10-31</td><td>1091.12</td><td>1231.070000</td></tr><tr><td>Whls_Grocery</td><td>2019-11-30</td><td>1031.74</td><td>1244.680000</td></tr><tr><td>Whls_Grocery</td><td>2019-12-31</td><td>903.60</td><td>1008.820000</td></tr><tr><td>Whls_Grocery</td><td>2020-01-31</td><td>1245.57</td><td>1060.303333</td></tr><tr><td>Whls_Grocery</td><td>2020-02-29</td><td>747.57</td><td>965.580000</td></tr><tr><td>Whls_Grocery</td><td>2020-03-31</td><td>1101.96</td><td>1031.700000</td></tr><tr><td>Whls_Grocery</td><td>2020-04-30</td><td>318.73</td><td>722.753333</td></tr><tr><td>Whls_Grocery</td><td>2020-05-31</td><td>908.91</td><td>776.533333</td></tr><tr><td>Whls_Grocery</td><td>2020-06-30</td><td>457.57</td><td>561.736666</td></tr><tr><td>Whls_Grocery</td><td>2020-07-31</td><td>957.52</td><td>774.666666</td></tr><tr><td>Whls_Grocery</td><td>2020-08-31</td><td>1055.55</td><td>823.546666</td></tr><tr><td>Whls_Grocery</td><td>2020-09-30</td><td>848.39</td><td>953.820000</td></tr><tr><td>Whls_Grocery</td><td>2020-10-31</td><td>491.82</td><td>798.586666</td></tr><tr><td>Whls_Grocery</td><td>2020-11-30</td><td>356.08</td><td>565.430000</td></tr><tr><td>Whls_Grocery</td><td>2020-12-31</td><td>258.38</td><td>368.760000</td></tr><tr><td>Whls_Grocery</td><td>2021-01-31</td><td>209.84</td><td>274.766666</td></tr><tr><td>Whls_Grocery</td><td>2021-02-28</td><td>567.54</td><td>345.253333</td></tr><tr><td>Whls_Grocery</td><td>2021-03-31</td><td>486.24</td><td>421.206666</td></tr><tr><td>Whls_Grocery</td><td>2021-04-30</td><td>544.24</td><td>532.673333</td></tr><tr><td>Whls_Grocery</td><td>2021-05-31</td><td>619.80</td><td>550.093333</td></tr><tr><td>Whls_Grocery</td><td>2021-06-30</td><td>283.04</td><td>482.360000</td></tr><tr><td>Whls_Grocery</td><td>2021-07-31</td><td>727.51</td><td>543.450000</td></tr><tr><td>Whls_Grocery</td><td>2021-08-31</td><td>187.48</td><td>399.343333</td></tr><tr><td>Whls_Grocery</td><td>2021-09-30</td><td>477.92</td><td>464.303333</td></tr><tr><td>Whls_Grocery</td><td>2021-10-31</td><td>670.86</td><td>445.420000</td></tr><tr><td>Whls_Grocery</td><td>2021-11-30</td><td>445.61</td><td>531.463333</td></tr><tr><td>Whls_Grocery</td><td>2021-12-31</td><td>486.90</td><td>534.456666</td></tr><tr><td>Whls_Selling Supplies</td><td>2021-08-31</td><td>166.47</td><td>166.470000</td></tr><tr><td>Whls_Selling Supplies</td><td>2021-09-30</td><td>80.02</td><td>123.245000</td></tr></table>"
                    },
                    "metadata": {}
                }
            ],
            "execution_count": 13
        },
        {
            "cell_type": "markdown",
            "source": [
                "## Product Analysis"
            ],
            "metadata": {
                "language": "sql",
                "azdata_cell_guid": "5c2c7b6c-bcb3-4f18-83a3-44b954c5698b"
            },
            "attachments": {}
        },
        {
            "cell_type": "markdown",
            "source": [
                "#### Top Selling Product Categories"
            ],
            "metadata": {
                "language": "sql",
                "azdata_cell_guid": "35fb083f-8015-4c87-a6b4-a5456023702d"
            },
            "attachments": {}
        },
        {
            "cell_type": "code",
            "source": [
                "SELECT TOP (10)\r\n",
                "    c.Category,\r\n",
                "    SUM(l.SaleAmount) AS TotalSales,\r\n",
                "    SUM(l.SaleAmount)/\r\n",
                "        (SELECT SUM(l.SaleAmount)\r\n",
                "            FROM SalesOrderLines AS l) AS PctOfTotal\r\n",
                "        \r\n",
                "\r\n",
                "FROM SalesOrderLines AS l\r\n",
                "    JOIN DimProduct AS p\r\n",
                "    ON l.ProductID = p.ProductID\r\n",
                "    JOIN DimSubcategory AS sc\r\n",
                "    ON p.SubcategoryID = sc.SubcategoryID\r\n",
                "    JOIN DimCategory AS c\r\n",
                "    ON sc.CategoryID = c.CategoryID\r\n",
                "\r\n",
                "GROUP BY c.Category\r\n",
                "ORDER BY SUM(l.SaleAmount) DESC"
            ],
            "metadata": {
                "language": "sql",
                "azdata_cell_guid": "0260f423-f0f1-4758-a174-afc407933073",
                "tags": []
            },
            "outputs": [
                {
                    "output_type": "display_data",
                    "data": {
                        "text/html": "(10 rows affected)"
                    },
                    "metadata": {}
                },
                {
                    "output_type": "display_data",
                    "data": {
                        "text/html": "Total execution time: 00:00:00.142"
                    },
                    "metadata": {}
                },
                {
                    "output_type": "execute_result",
                    "execution_count": 30,
                    "data": {
                        "application/vnd.dataresource+json": {
                            "schema": {
                                "fields": [
                                    {
                                        "name": "Category"
                                    },
                                    {
                                        "name": "TotalSales"
                                    },
                                    {
                                        "name": "PctOfTotal"
                                    }
                                ]
                            },
                            "data": [
                                {
                                    "Category": "Grocery",
                                    "TotalSales": "634298.97",
                                    "PctOfTotal": "0.484641"
                                },
                                {
                                    "Category": "Local Love",
                                    "TotalSales": "247621.71",
                                    "PctOfTotal": "0.189197"
                                },
                                {
                                    "Category": "Body Care",
                                    "TotalSales": "175967.19",
                                    "PctOfTotal": "0.134449"
                                },
                                {
                                    "Category": "Cleaning Supply",
                                    "TotalSales": "98378.00",
                                    "PctOfTotal": "0.075166"
                                },
                                {
                                    "Category": "Accessories",
                                    "TotalSales": "48086.01",
                                    "PctOfTotal": "0.036740"
                                },
                                {
                                    "Category": "Containers",
                                    "TotalSales": "32241.63",
                                    "PctOfTotal": "0.024634"
                                },
                                {
                                    "Category": "Fresh Produce",
                                    "TotalSales": "31740.42",
                                    "PctOfTotal": "0.024251"
                                },
                                {
                                    "Category": "Whls_Grocery",
                                    "TotalSales": "23658.99",
                                    "PctOfTotal": "0.018076"
                                },
                                {
                                    "Category": "Grab & Go",
                                    "TotalSales": "8398.09",
                                    "PctOfTotal": "0.006416"
                                },
                                {
                                    "Category": "Gift Card",
                                    "TotalSales": "5014.71",
                                    "PctOfTotal": "0.003831"
                                }
                            ]
                        },
                        "text/html": "<table><tr><th>Category</th><th>TotalSales</th><th>PctOfTotal</th></tr><tr><td>Grocery</td><td>634298.97</td><td>0.484641</td></tr><tr><td>Local Love</td><td>247621.71</td><td>0.189197</td></tr><tr><td>Body Care</td><td>175967.19</td><td>0.134449</td></tr><tr><td>Cleaning Supply</td><td>98378.00</td><td>0.075166</td></tr><tr><td>Accessories</td><td>48086.01</td><td>0.036740</td></tr><tr><td>Containers</td><td>32241.63</td><td>0.024634</td></tr><tr><td>Fresh Produce</td><td>31740.42</td><td>0.024251</td></tr><tr><td>Whls_Grocery</td><td>23658.99</td><td>0.018076</td></tr><tr><td>Grab &amp; Go</td><td>8398.09</td><td>0.006416</td></tr><tr><td>Gift Card</td><td>5014.71</td><td>0.003831</td></tr></table>"
                    },
                    "metadata": {}
                }
            ],
            "execution_count": 30
        },
        {
            "cell_type": "markdown",
            "source": [
                "### Top Product Subcategories"
            ],
            "metadata": {
                "language": "sql",
                "azdata_cell_guid": "63e717be-1198-413f-8fdd-20ab3cd7bb9b"
            },
            "attachments": {}
        },
        {
            "cell_type": "code",
            "source": [
                "SELECT TOP (10)\r\n",
                "    sc.Subcategory,\r\n",
                "    SUM(l.SaleAmount) AS TotalSales,\r\n",
                "    SUM(l.SaleAmount)/\r\n",
                "        (SELECT SUM(l.SaleAmount)\r\n",
                "            FROM SalesOrderLines AS l) AS PctOfTotal\r\n",
                "\r\n",
                "FROM SalesOrderLines AS l\r\n",
                "    JOIN DimProduct AS p\r\n",
                "    ON l.ProductID = p.ProductID\r\n",
                "    JOIN DimSubcategory AS sc\r\n",
                "    ON p.SubcategoryID = sc.SubcategoryID\r\n",
                "    JOIN DimCategory AS c\r\n",
                "    ON sc.CategoryID = c.CategoryID\r\n",
                "\r\n",
                "GROUP BY sc.Subcategory\r\n",
                "ORDER BY SUM(l.SaleAmount) DESC"
            ],
            "metadata": {
                "language": "sql",
                "azdata_cell_guid": "a9eafc57-ded1-4077-929d-25a6d7bef7bf",
                "tags": []
            },
            "outputs": [
                {
                    "output_type": "display_data",
                    "data": {
                        "text/html": "(10 rows affected)"
                    },
                    "metadata": {}
                },
                {
                    "output_type": "display_data",
                    "data": {
                        "text/html": "Total execution time: 00:00:00.168"
                    },
                    "metadata": {}
                },
                {
                    "output_type": "execute_result",
                    "execution_count": 31,
                    "data": {
                        "application/vnd.dataresource+json": {
                            "schema": {
                                "fields": [
                                    {
                                        "name": "Subcategory"
                                    },
                                    {
                                        "name": "TotalSales"
                                    },
                                    {
                                        "name": "PctOfTotal"
                                    }
                                ]
                            },
                            "data": [
                                {
                                    "Subcategory": "Nuts",
                                    "TotalSales": "99270.89",
                                    "PctOfTotal": "0.075848"
                                },
                                {
                                    "Subcategory": "Body Cleansing",
                                    "TotalSales": "70617.06",
                                    "PctOfTotal": "0.053955"
                                },
                                {
                                    "Subcategory": "Seeds And Grains",
                                    "TotalSales": "69153.42",
                                    "PctOfTotal": "0.052837"
                                },
                                {
                                    "Subcategory": "Oils",
                                    "TotalSales": "68060.55",
                                    "PctOfTotal": "0.052002"
                                },
                                {
                                    "Subcategory": "Laundry Cleaners",
                                    "TotalSales": "54217.30",
                                    "PctOfTotal": "0.041425"
                                },
                                {
                                    "Subcategory": "Sweeteners",
                                    "TotalSales": "46088.03",
                                    "PctOfTotal": "0.035213"
                                },
                                {
                                    "Subcategory": "Dried Fruits",
                                    "TotalSales": "42389.19",
                                    "PctOfTotal": "0.032387"
                                },
                                {
                                    "Subcategory": "Kombucha",
                                    "TotalSales": "41918.87",
                                    "PctOfTotal": "0.032028"
                                },
                                {
                                    "Subcategory": "Baking",
                                    "TotalSales": "41585.91",
                                    "PctOfTotal": "0.031774"
                                },
                                {
                                    "Subcategory": "Hair Care",
                                    "TotalSales": "40704.96",
                                    "PctOfTotal": "0.031100"
                                }
                            ]
                        },
                        "text/html": "<table><tr><th>Subcategory</th><th>TotalSales</th><th>PctOfTotal</th></tr><tr><td>Nuts</td><td>99270.89</td><td>0.075848</td></tr><tr><td>Body Cleansing</td><td>70617.06</td><td>0.053955</td></tr><tr><td>Seeds And Grains</td><td>69153.42</td><td>0.052837</td></tr><tr><td>Oils</td><td>68060.55</td><td>0.052002</td></tr><tr><td>Laundry Cleaners</td><td>54217.30</td><td>0.041425</td></tr><tr><td>Sweeteners</td><td>46088.03</td><td>0.035213</td></tr><tr><td>Dried Fruits</td><td>42389.19</td><td>0.032387</td></tr><tr><td>Kombucha</td><td>41918.87</td><td>0.032028</td></tr><tr><td>Baking</td><td>41585.91</td><td>0.031774</td></tr><tr><td>Hair Care</td><td>40704.96</td><td>0.031100</td></tr></table>"
                    },
                    "metadata": {}
                }
            ],
            "execution_count": 31
        },
        {
            "cell_type": "markdown",
            "source": [
                "### Top Products by Sales Volume"
            ],
            "metadata": {
                "language": "sql",
                "azdata_cell_guid": "3574f7f6-e3ce-4b68-b454-66b873f79e1f"
            },
            "attachments": {}
        },
        {
            "cell_type": "code",
            "source": [
                "SELECT TOP(20)\r\n",
                "    p.ProductName,\r\n",
                "    sc.Subcategory,\r\n",
                "    c.Category,\r\n",
                "    SUM(l.SaleAmount) AS TotalSales,\r\n",
                "    \r\n",
                "    SUM(l.SaleAmount)/\r\n",
                "        (SELECT SUM(l.SaleAmount)\r\n",
                "            FROM SalesOrderLines AS l) AS PctOfTotal\r\n",
                "\r\n",
                "\r\n",
                "FROM SalesOrderLines AS l\r\n",
                "    JOIN DimProduct AS p\r\n",
                "    ON l.ProductID = p.ProductID\r\n",
                "    JOIN DimSubcategory AS sc\r\n",
                "    ON p.SubcategoryID = sc.SubcategoryID\r\n",
                "    JOIN DimCategory AS c\r\n",
                "    ON sc.CategoryID = c.CategoryID\r\n",
                "\r\n",
                "GROUP BY p.ProductName, sc.Subcategory, c.Category\r\n",
                "ORDER BY SUM(l.SaleAmount) DESC    \r\n",
                ""
            ],
            "metadata": {
                "language": "sql",
                "azdata_cell_guid": "b97eabc7-d13a-4f50-9d5c-1ee1c0ac2ad4",
                "tags": []
            },
            "outputs": [
                {
                    "output_type": "display_data",
                    "data": {
                        "text/html": "(20 rows affected)"
                    },
                    "metadata": {}
                },
                {
                    "output_type": "display_data",
                    "data": {
                        "text/html": "Total execution time: 00:00:00.190"
                    },
                    "metadata": {}
                },
                {
                    "output_type": "execute_result",
                    "execution_count": 35,
                    "data": {
                        "application/vnd.dataresource+json": {
                            "schema": {
                                "fields": [
                                    {
                                        "name": "ProductName"
                                    },
                                    {
                                        "name": "Subcategory"
                                    },
                                    {
                                        "name": "Category"
                                    },
                                    {
                                        "name": "TotalSales"
                                    },
                                    {
                                        "name": "PctOfTotal"
                                    }
                                ]
                            },
                            "data": [
                                {
                                    "ProductName": "Olive Oil - Extra Virgin ORG",
                                    "Subcategory": "Oils",
                                    "Category": "Grocery",
                                    "TotalSales": "45039.15",
                                    "PctOfTotal": "0.034412"
                                },
                                {
                                    "ProductName": "Coffee - The Bean Whole",
                                    "Subcategory": "The Bean Whole",
                                    "Category": "Local Love",
                                    "TotalSales": "35283.34",
                                    "PctOfTotal": "0.026958"
                                },
                                {
                                    "ProductName": "CRU Kombucha",
                                    "Subcategory": "Kombucha",
                                    "Category": "Local Love",
                                    "TotalSales": "28571.28",
                                    "PctOfTotal": "0.021830"
                                },
                                {
                                    "ProductName": "Raw Cashews ORG",
                                    "Subcategory": "Nuts",
                                    "Category": "Grocery",
                                    "TotalSales": "23603.48",
                                    "PctOfTotal": "0.018034"
                                },
                                {
                                    "ProductName": "Coffee - Hugo Coffee",
                                    "Subcategory": "Hugo Coffee",
                                    "Category": "Local Love",
                                    "TotalSales": "23451.72",
                                    "PctOfTotal": "0.017918"
                                },
                                {
                                    "ProductName": "Maple Syrup ORG",
                                    "Subcategory": "Sweeteners",
                                    "Category": "Grocery",
                                    "TotalSales": "22980.91",
                                    "PctOfTotal": "0.017558"
                                },
                                {
                                    "ProductName": "Raw Almonds ORG",
                                    "Subcategory": "Nuts",
                                    "Category": "Grocery",
                                    "TotalSales": "20475.71",
                                    "PctOfTotal": "0.015644"
                                },
                                {
                                    "ProductName": "Eggs ORG",
                                    "Subcategory": "Dairy",
                                    "Category": "Grocery",
                                    "TotalSales": "20091.05",
                                    "PctOfTotal": "0.015350"
                                },
                                {
                                    "ProductName": "Sapadilla Hand Soap",
                                    "Subcategory": "Body Cleansing",
                                    "Category": "Body Care",
                                    "TotalSales": "19389.01",
                                    "PctOfTotal": "0.014814"
                                },
                                {
                                    "ProductName": "Milk Honey Yogurt",
                                    "Subcategory": "Milk Honey Yogurt",
                                    "Category": "Local Love",
                                    "TotalSales": "18611.99",
                                    "PctOfTotal": "0.014220"
                                },
                                {
                                    "ProductName": "Dropps Dishwasher Pods",
                                    "Subcategory": "Dishsoaps",
                                    "Category": "Cleaning Supply",
                                    "TotalSales": "18019.85",
                                    "PctOfTotal": "0.013768"
                                },
                                {
                                    "ProductName": "Almond Butter / Diced Almonds",
                                    "Subcategory": "Nuts",
                                    "Category": "Grocery",
                                    "TotalSales": "17860.43",
                                    "PctOfTotal": "0.013646"
                                },
                                {
                                    "ProductName": "EcosPro Laundry Detergent - Magnolia Lily",
                                    "Subcategory": "Laundry Cleaners",
                                    "Category": "Cleaning Supply",
                                    "TotalSales": "17822.27",
                                    "PctOfTotal": "0.013617"
                                },
                                {
                                    "ProductName": "Dried Mango Cheeks ORG",
                                    "Subcategory": "Dried Fruits",
                                    "Category": "Grocery",
                                    "TotalSales": "14801.95",
                                    "PctOfTotal": "0.011309"
                                },
                                {
                                    "ProductName": "Prin Ya Vegan Custard",
                                    "Subcategory": "Desserts",
                                    "Category": "Local Love",
                                    "TotalSales": "13279.56",
                                    "PctOfTotal": "0.010146"
                                },
                                {
                                    "ProductName": "Dropps Laundry Pods",
                                    "Subcategory": "Laundry Cleaners",
                                    "Category": "Cleaning Supply",
                                    "TotalSales": "13093.78",
                                    "PctOfTotal": "0.010004"
                                },
                                {
                                    "ProductName": "Hans Kombucha",
                                    "Subcategory": "Kombucha",
                                    "Category": "Local Love",
                                    "TotalSales": "13048.23",
                                    "PctOfTotal": "0.009969"
                                },
                                {
                                    "ProductName": "Avocado Oil",
                                    "Subcategory": "Oils",
                                    "Category": "Grocery",
                                    "TotalSales": "12889.06",
                                    "PctOfTotal": "0.009848"
                                },
                                {
                                    "ProductName": "Dark Chocolate Chips ALLERGEN FREE ORG",
                                    "Subcategory": "Baking",
                                    "Category": "Grocery",
                                    "TotalSales": "12546.76",
                                    "PctOfTotal": "0.009586"
                                },
                                {
                                    "ProductName": "EcosPro Dish Soap - Hand Washing",
                                    "Subcategory": "Dishsoaps",
                                    "Category": "Cleaning Supply",
                                    "TotalSales": "11517.16",
                                    "PctOfTotal": "0.008799"
                                }
                            ]
                        },
                        "text/html": "<table><tr><th>ProductName</th><th>Subcategory</th><th>Category</th><th>TotalSales</th><th>PctOfTotal</th></tr><tr><td>Olive Oil - Extra Virgin ORG</td><td>Oils</td><td>Grocery</td><td>45039.15</td><td>0.034412</td></tr><tr><td>Coffee - The Bean Whole</td><td>The Bean Whole</td><td>Local Love</td><td>35283.34</td><td>0.026958</td></tr><tr><td>CRU Kombucha</td><td>Kombucha</td><td>Local Love</td><td>28571.28</td><td>0.021830</td></tr><tr><td>Raw Cashews ORG</td><td>Nuts</td><td>Grocery</td><td>23603.48</td><td>0.018034</td></tr><tr><td>Coffee - Hugo Coffee</td><td>Hugo Coffee</td><td>Local Love</td><td>23451.72</td><td>0.017918</td></tr><tr><td>Maple Syrup ORG</td><td>Sweeteners</td><td>Grocery</td><td>22980.91</td><td>0.017558</td></tr><tr><td>Raw Almonds ORG</td><td>Nuts</td><td>Grocery</td><td>20475.71</td><td>0.015644</td></tr><tr><td>Eggs ORG</td><td>Dairy</td><td>Grocery</td><td>20091.05</td><td>0.015350</td></tr><tr><td>Sapadilla Hand Soap</td><td>Body Cleansing</td><td>Body Care</td><td>19389.01</td><td>0.014814</td></tr><tr><td>Milk Honey Yogurt</td><td>Milk Honey Yogurt</td><td>Local Love</td><td>18611.99</td><td>0.014220</td></tr><tr><td>Dropps Dishwasher Pods</td><td>Dishsoaps</td><td>Cleaning Supply</td><td>18019.85</td><td>0.013768</td></tr><tr><td>Almond Butter / Diced Almonds</td><td>Nuts</td><td>Grocery</td><td>17860.43</td><td>0.013646</td></tr><tr><td>EcosPro Laundry Detergent - Magnolia Lily</td><td>Laundry Cleaners</td><td>Cleaning Supply</td><td>17822.27</td><td>0.013617</td></tr><tr><td>Dried Mango Cheeks ORG</td><td>Dried Fruits</td><td>Grocery</td><td>14801.95</td><td>0.011309</td></tr><tr><td>Prin Ya Vegan Custard</td><td>Desserts</td><td>Local Love</td><td>13279.56</td><td>0.010146</td></tr><tr><td>Dropps Laundry Pods</td><td>Laundry Cleaners</td><td>Cleaning Supply</td><td>13093.78</td><td>0.010004</td></tr><tr><td>Hans Kombucha</td><td>Kombucha</td><td>Local Love</td><td>13048.23</td><td>0.009969</td></tr><tr><td>Avocado Oil</td><td>Oils</td><td>Grocery</td><td>12889.06</td><td>0.009848</td></tr><tr><td>Dark Chocolate Chips ALLERGEN FREE ORG</td><td>Baking</td><td>Grocery</td><td>12546.76</td><td>0.009586</td></tr><tr><td>EcosPro Dish Soap - Hand Washing</td><td>Dishsoaps</td><td>Cleaning Supply</td><td>11517.16</td><td>0.008799</td></tr></table>"
                    },
                    "metadata": {}
                }
            ],
            "execution_count": 35
        },
        {
            "cell_type": "markdown",
            "source": [
                "## Average Order Value\n",
                "\n",
                "#### Average Order Value by Month and Moving 3 Month Average (Retail and Wholesale)"
            ],
            "metadata": {
                "language": "sql",
                "azdata_cell_guid": "8979605c-0f14-4420-8e62-5f7449074263"
            },
            "attachments": {}
        },
        {
            "cell_type": "code",
            "source": [
                "SELECT \r\n",
                "    EOMONTH(o.OrderDate) AS Month,\r\n",
                "    COUNT(DISTINCT o.OrderID) AS OrderCount,\r\n",
                "    SUM(l.SaleAmount) AS Amount,\r\n",
                "    SUM(l.SaleAmount) / COUNT(DISTINCT o.OrderID) AS AvgOrderValue,\r\n",
                "    AVG(SUM(l.SaleAmount)/COUNT(DISTINCT o.OrderID)) OVER(\r\n",
                "        ORDER BY EOMONTH(o.OrderDate) -- Order the records by transaction month, ensuring the average is calculated chronologically\r\n",
                "        ROWS BETWEEN 2 PRECEDING and CURRENT ROW -- specifies the range of rows to include in the average as 2 preceeding and current row\r\n",
                "    ) AS MovingThreeMoAvgAOV\r\n",
                "FROM\r\n",
                "    SalesOrderLines AS l\r\n",
                "    JOIN SalesOrders AS o\r\n",
                "    ON l.OrderID = o.OrderID\r\n",
                "\r\n",
                "GROUP BY EOMONTH(o.OrderDate)\r\n",
                "ORDER BY EOMONTH(o.OrderDate)"
            ],
            "metadata": {
                "language": "sql",
                "azdata_cell_guid": "04ad9327-f6bb-48c9-a4a4-71d459870d91",
                "tags": []
            },
            "outputs": [
                {
                    "output_type": "display_data",
                    "data": {
                        "text/html": "(35 rows affected)"
                    },
                    "metadata": {}
                },
                {
                    "output_type": "display_data",
                    "data": {
                        "text/html": "Total execution time: 00:00:00.153"
                    },
                    "metadata": {}
                },
                {
                    "output_type": "execute_result",
                    "execution_count": 12,
                    "data": {
                        "application/vnd.dataresource+json": {
                            "schema": {
                                "fields": [
                                    {
                                        "name": "Month"
                                    },
                                    {
                                        "name": "OrderCount"
                                    },
                                    {
                                        "name": "Amount"
                                    },
                                    {
                                        "name": "AvgOrderValue"
                                    },
                                    {
                                        "name": "MovingThreeMoAvgAOV"
                                    }
                                ]
                            },
                            "data": [
                                {
                                    "Month": "2019-02-28",
                                    "OrderCount": "749",
                                    "Amount": "14964.79",
                                    "AvgOrderValue": "19.979692",
                                    "MovingThreeMoAvgAOV": "19.979692"
                                },
                                {
                                    "Month": "2019-03-31",
                                    "OrderCount": "1003",
                                    "Amount": "20949.45",
                                    "AvgOrderValue": "20.886789",
                                    "MovingThreeMoAvgAOV": "20.433240"
                                },
                                {
                                    "Month": "2019-04-30",
                                    "OrderCount": "899",
                                    "Amount": "17287.15",
                                    "AvgOrderValue": "19.229310",
                                    "MovingThreeMoAvgAOV": "20.031930"
                                },
                                {
                                    "Month": "2019-05-31",
                                    "OrderCount": "1184",
                                    "Amount": "24424.98",
                                    "AvgOrderValue": "20.629206",
                                    "MovingThreeMoAvgAOV": "20.248435"
                                },
                                {
                                    "Month": "2019-06-30",
                                    "OrderCount": "1137",
                                    "Amount": "27454.37",
                                    "AvgOrderValue": "24.146323",
                                    "MovingThreeMoAvgAOV": "21.334946"
                                },
                                {
                                    "Month": "2019-07-31",
                                    "OrderCount": "1120",
                                    "Amount": "27423.94",
                                    "AvgOrderValue": "24.485660",
                                    "MovingThreeMoAvgAOV": "23.087063"
                                },
                                {
                                    "Month": "2019-08-31",
                                    "OrderCount": "1095",
                                    "Amount": "26306.96",
                                    "AvgOrderValue": "24.024621",
                                    "MovingThreeMoAvgAOV": "24.218868"
                                },
                                {
                                    "Month": "2019-09-30",
                                    "OrderCount": "1109",
                                    "Amount": "28842.81",
                                    "AvgOrderValue": "26.007944",
                                    "MovingThreeMoAvgAOV": "24.839408"
                                },
                                {
                                    "Month": "2019-10-31",
                                    "OrderCount": "1135",
                                    "Amount": "29368.16",
                                    "AvgOrderValue": "25.875030",
                                    "MovingThreeMoAvgAOV": "25.302531"
                                },
                                {
                                    "Month": "2019-11-30",
                                    "OrderCount": "1153",
                                    "Amount": "29010.85",
                                    "AvgOrderValue": "25.161188",
                                    "MovingThreeMoAvgAOV": "25.681387"
                                },
                                {
                                    "Month": "2019-12-31",
                                    "OrderCount": "1192",
                                    "Amount": "31315.30",
                                    "AvgOrderValue": "26.271224",
                                    "MovingThreeMoAvgAOV": "25.769147"
                                },
                                {
                                    "Month": "2020-01-31",
                                    "OrderCount": "1452",
                                    "Amount": "37956.78",
                                    "AvgOrderValue": "26.141033",
                                    "MovingThreeMoAvgAOV": "25.857815"
                                },
                                {
                                    "Month": "2020-02-29",
                                    "OrderCount": "1303",
                                    "Amount": "33820.10",
                                    "AvgOrderValue": "25.955564",
                                    "MovingThreeMoAvgAOV": "26.122607"
                                },
                                {
                                    "Month": "2020-03-31",
                                    "OrderCount": "1445",
                                    "Amount": "44724.33",
                                    "AvgOrderValue": "30.951093",
                                    "MovingThreeMoAvgAOV": "27.682563"
                                },
                                {
                                    "Month": "2020-04-30",
                                    "OrderCount": "890",
                                    "Amount": "31871.41",
                                    "AvgOrderValue": "35.810573",
                                    "MovingThreeMoAvgAOV": "30.905743"
                                },
                                {
                                    "Month": "2020-05-31",
                                    "OrderCount": "924",
                                    "Amount": "35155.72",
                                    "AvgOrderValue": "38.047316",
                                    "MovingThreeMoAvgAOV": "34.936327"
                                },
                                {
                                    "Month": "2020-06-30",
                                    "OrderCount": "984",
                                    "Amount": "35149.96",
                                    "AvgOrderValue": "35.721504",
                                    "MovingThreeMoAvgAOV": "36.526464"
                                },
                                {
                                    "Month": "2020-07-31",
                                    "OrderCount": "1143",
                                    "Amount": "41633.89",
                                    "AvgOrderValue": "36.425100",
                                    "MovingThreeMoAvgAOV": "36.731306"
                                },
                                {
                                    "Month": "2020-08-31",
                                    "OrderCount": "1325",
                                    "Amount": "47599.20",
                                    "AvgOrderValue": "35.923924",
                                    "MovingThreeMoAvgAOV": "36.023509"
                                },
                                {
                                    "Month": "2020-09-30",
                                    "OrderCount": "1233",
                                    "Amount": "43994.26",
                                    "AvgOrderValue": "35.680665",
                                    "MovingThreeMoAvgAOV": "36.009896"
                                },
                                {
                                    "Month": "2020-10-31",
                                    "OrderCount": "1292",
                                    "Amount": "46408.37",
                                    "AvgOrderValue": "35.919791",
                                    "MovingThreeMoAvgAOV": "35.841460"
                                },
                                {
                                    "Month": "2020-11-30",
                                    "OrderCount": "1239",
                                    "Amount": "42768.71",
                                    "AvgOrderValue": "34.518732",
                                    "MovingThreeMoAvgAOV": "35.373062"
                                },
                                {
                                    "Month": "2020-12-31",
                                    "OrderCount": "1418",
                                    "Amount": "53039.45",
                                    "AvgOrderValue": "37.404407",
                                    "MovingThreeMoAvgAOV": "35.947643"
                                },
                                {
                                    "Month": "2021-01-31",
                                    "OrderCount": "1561",
                                    "Amount": "55312.48",
                                    "AvgOrderValue": "35.434003",
                                    "MovingThreeMoAvgAOV": "35.785714"
                                },
                                {
                                    "Month": "2021-02-28",
                                    "OrderCount": "1461",
                                    "Amount": "54057.65",
                                    "AvgOrderValue": "37.000444",
                                    "MovingThreeMoAvgAOV": "36.612951"
                                },
                                {
                                    "Month": "2021-03-31",
                                    "OrderCount": "1493",
                                    "Amount": "51043.98",
                                    "AvgOrderValue": "34.188868",
                                    "MovingThreeMoAvgAOV": "35.541105"
                                },
                                {
                                    "Month": "2021-04-30",
                                    "OrderCount": "1396",
                                    "Amount": "52109.81",
                                    "AvgOrderValue": "37.327944",
                                    "MovingThreeMoAvgAOV": "36.172418"
                                },
                                {
                                    "Month": "2021-05-31",
                                    "OrderCount": "1354",
                                    "Amount": "49186.36",
                                    "AvgOrderValue": "36.326706",
                                    "MovingThreeMoAvgAOV": "35.947839"
                                },
                                {
                                    "Month": "2021-06-30",
                                    "OrderCount": "1228",
                                    "Amount": "44196.52",
                                    "AvgOrderValue": "35.990651",
                                    "MovingThreeMoAvgAOV": "36.548433"
                                },
                                {
                                    "Month": "2021-07-31",
                                    "OrderCount": "1212",
                                    "Amount": "40539.18",
                                    "AvgOrderValue": "33.448168",
                                    "MovingThreeMoAvgAOV": "35.255175"
                                },
                                {
                                    "Month": "2021-08-31",
                                    "OrderCount": "1153",
                                    "Amount": "40792.58",
                                    "AvgOrderValue": "35.379514",
                                    "MovingThreeMoAvgAOV": "34.939444"
                                },
                                {
                                    "Month": "2021-09-30",
                                    "OrderCount": "952",
                                    "Amount": "33339.35",
                                    "AvgOrderValue": "35.020325",
                                    "MovingThreeMoAvgAOV": "34.616002"
                                },
                                {
                                    "Month": "2021-10-31",
                                    "OrderCount": "1153",
                                    "Amount": "40067.79",
                                    "AvgOrderValue": "34.750901",
                                    "MovingThreeMoAvgAOV": "35.050246"
                                },
                                {
                                    "Month": "2021-11-30",
                                    "OrderCount": "1030",
                                    "Amount": "37493.90",
                                    "AvgOrderValue": "36.401844",
                                    "MovingThreeMoAvgAOV": "35.391023"
                                },
                                {
                                    "Month": "2021-12-31",
                                    "OrderCount": "1033",
                                    "Amount": "39188.84",
                                    "AvgOrderValue": "37.936921",
                                    "MovingThreeMoAvgAOV": "36.363222"
                                }
                            ]
                        },
                        "text/html": "<table><tr><th>Month</th><th>OrderCount</th><th>Amount</th><th>AvgOrderValue</th><th>MovingThreeMoAvgAOV</th></tr><tr><td>2019-02-28</td><td>749</td><td>14964.79</td><td>19.979692</td><td>19.979692</td></tr><tr><td>2019-03-31</td><td>1003</td><td>20949.45</td><td>20.886789</td><td>20.433240</td></tr><tr><td>2019-04-30</td><td>899</td><td>17287.15</td><td>19.229310</td><td>20.031930</td></tr><tr><td>2019-05-31</td><td>1184</td><td>24424.98</td><td>20.629206</td><td>20.248435</td></tr><tr><td>2019-06-30</td><td>1137</td><td>27454.37</td><td>24.146323</td><td>21.334946</td></tr><tr><td>2019-07-31</td><td>1120</td><td>27423.94</td><td>24.485660</td><td>23.087063</td></tr><tr><td>2019-08-31</td><td>1095</td><td>26306.96</td><td>24.024621</td><td>24.218868</td></tr><tr><td>2019-09-30</td><td>1109</td><td>28842.81</td><td>26.007944</td><td>24.839408</td></tr><tr><td>2019-10-31</td><td>1135</td><td>29368.16</td><td>25.875030</td><td>25.302531</td></tr><tr><td>2019-11-30</td><td>1153</td><td>29010.85</td><td>25.161188</td><td>25.681387</td></tr><tr><td>2019-12-31</td><td>1192</td><td>31315.30</td><td>26.271224</td><td>25.769147</td></tr><tr><td>2020-01-31</td><td>1452</td><td>37956.78</td><td>26.141033</td><td>25.857815</td></tr><tr><td>2020-02-29</td><td>1303</td><td>33820.10</td><td>25.955564</td><td>26.122607</td></tr><tr><td>2020-03-31</td><td>1445</td><td>44724.33</td><td>30.951093</td><td>27.682563</td></tr><tr><td>2020-04-30</td><td>890</td><td>31871.41</td><td>35.810573</td><td>30.905743</td></tr><tr><td>2020-05-31</td><td>924</td><td>35155.72</td><td>38.047316</td><td>34.936327</td></tr><tr><td>2020-06-30</td><td>984</td><td>35149.96</td><td>35.721504</td><td>36.526464</td></tr><tr><td>2020-07-31</td><td>1143</td><td>41633.89</td><td>36.425100</td><td>36.731306</td></tr><tr><td>2020-08-31</td><td>1325</td><td>47599.20</td><td>35.923924</td><td>36.023509</td></tr><tr><td>2020-09-30</td><td>1233</td><td>43994.26</td><td>35.680665</td><td>36.009896</td></tr><tr><td>2020-10-31</td><td>1292</td><td>46408.37</td><td>35.919791</td><td>35.841460</td></tr><tr><td>2020-11-30</td><td>1239</td><td>42768.71</td><td>34.518732</td><td>35.373062</td></tr><tr><td>2020-12-31</td><td>1418</td><td>53039.45</td><td>37.404407</td><td>35.947643</td></tr><tr><td>2021-01-31</td><td>1561</td><td>55312.48</td><td>35.434003</td><td>35.785714</td></tr><tr><td>2021-02-28</td><td>1461</td><td>54057.65</td><td>37.000444</td><td>36.612951</td></tr><tr><td>2021-03-31</td><td>1493</td><td>51043.98</td><td>34.188868</td><td>35.541105</td></tr><tr><td>2021-04-30</td><td>1396</td><td>52109.81</td><td>37.327944</td><td>36.172418</td></tr><tr><td>2021-05-31</td><td>1354</td><td>49186.36</td><td>36.326706</td><td>35.947839</td></tr><tr><td>2021-06-30</td><td>1228</td><td>44196.52</td><td>35.990651</td><td>36.548433</td></tr><tr><td>2021-07-31</td><td>1212</td><td>40539.18</td><td>33.448168</td><td>35.255175</td></tr><tr><td>2021-08-31</td><td>1153</td><td>40792.58</td><td>35.379514</td><td>34.939444</td></tr><tr><td>2021-09-30</td><td>952</td><td>33339.35</td><td>35.020325</td><td>34.616002</td></tr><tr><td>2021-10-31</td><td>1153</td><td>40067.79</td><td>34.750901</td><td>35.050246</td></tr><tr><td>2021-11-30</td><td>1030</td><td>37493.90</td><td>36.401844</td><td>35.391023</td></tr><tr><td>2021-12-31</td><td>1033</td><td>39188.84</td><td>37.936921</td><td>36.363222</td></tr></table>"
                    },
                    "metadata": {}
                }
            ],
            "execution_count": 12
        },
        {
            "cell_type": "markdown",
            "source": [
                "#### Retail AOV and Three Month Moving Average\r\n",
                ""
            ],
            "metadata": {
                "language": "sql",
                "azdata_cell_guid": "f2be39d5-0eb5-44c3-b911-8f2b651f801f"
            },
            "attachments": {}
        },
        {
            "cell_type": "code",
            "source": [
                "SELECT \r\n",
                "    EOMONTH(o.OrderDate) AS Month,\r\n",
                "    COUNT(DISTINCT o.OrderID) AS OrderCount,\r\n",
                "    SUM(l.SaleAmount) AS Amount,\r\n",
                "    SUM(l.SaleAmount) / COUNT(DISTINCT o.OrderID) AS AvgOrderValue,\r\n",
                "    AVG(SUM(l.SaleAmount)/COUNT(DISTINCT o.OrderID)) OVER(\r\n",
                "        ORDER BY EOMONTH(o.OrderDate) -- Order the records by transaction month, ensuring the average is calculated chronologically\r\n",
                "        ROWS BETWEEN 2 PRECEDING and CURRENT ROW -- specifies the range of rows to include in the average as 2 preceeding and current row\r\n",
                "    ) AS MovingThreeMoAvgAOV\r\n",
                "FROM\r\n",
                "    SalesOrderLines AS l\r\n",
                "    JOIN SalesOrders AS o\r\n",
                "    ON l.OrderID = o.OrderID\r\n",
                "    JOIN dimCustomers AS c\r\n",
                "    ON o.CustomerID = c.CustomerID\r\n",
                "\r\n",
                "WHERE c.CustomerType = 'Retail'\r\n",
                "\r\n",
                "GROUP BY EOMONTH(o.OrderDate)\r\n",
                "ORDER BY EOMONTH(o.OrderDate)"
            ],
            "metadata": {
                "language": "sql",
                "azdata_cell_guid": "b495db83-fedd-4d77-9aa0-2112b431dca8",
                "tags": []
            },
            "outputs": [
                {
                    "output_type": "display_data",
                    "data": {
                        "text/html": "(35 rows affected)"
                    },
                    "metadata": {}
                },
                {
                    "output_type": "display_data",
                    "data": {
                        "text/html": "Total execution time: 00:00:00.204"
                    },
                    "metadata": {}
                },
                {
                    "output_type": "execute_result",
                    "execution_count": 47,
                    "data": {
                        "application/vnd.dataresource+json": {
                            "schema": {
                                "fields": [
                                    {
                                        "name": "Month"
                                    },
                                    {
                                        "name": "OrderCount"
                                    },
                                    {
                                        "name": "Amount"
                                    },
                                    {
                                        "name": "AvgOrderValue"
                                    },
                                    {
                                        "name": "MovingThreeMoAvgAOV"
                                    }
                                ]
                            },
                            "data": [
                                {
                                    "Month": "2019-02-28",
                                    "OrderCount": "749",
                                    "Amount": "14964.79",
                                    "AvgOrderValue": "19.979692",
                                    "MovingThreeMoAvgAOV": "19.979692"
                                },
                                {
                                    "Month": "2019-03-31",
                                    "OrderCount": "1000",
                                    "Amount": "20094.08",
                                    "AvgOrderValue": "20.094080",
                                    "MovingThreeMoAvgAOV": "20.036886"
                                },
                                {
                                    "Month": "2019-04-30",
                                    "OrderCount": "896",
                                    "Amount": "16817.66",
                                    "AvgOrderValue": "18.769709",
                                    "MovingThreeMoAvgAOV": "19.614493"
                                },
                                {
                                    "Month": "2019-05-31",
                                    "OrderCount": "1177",
                                    "Amount": "23642.95",
                                    "AvgOrderValue": "20.087468",
                                    "MovingThreeMoAvgAOV": "19.650419"
                                },
                                {
                                    "Month": "2019-06-30",
                                    "OrderCount": "1126",
                                    "Amount": "24337.25",
                                    "AvgOrderValue": "21.613898",
                                    "MovingThreeMoAvgAOV": "20.157025"
                                },
                                {
                                    "Month": "2019-07-31",
                                    "OrderCount": "1107",
                                    "Amount": "23399.75",
                                    "AvgOrderValue": "21.137985",
                                    "MovingThreeMoAvgAOV": "20.946450"
                                },
                                {
                                    "Month": "2019-08-31",
                                    "OrderCount": "1088",
                                    "Amount": "24639.41",
                                    "AvgOrderValue": "22.646516",
                                    "MovingThreeMoAvgAOV": "21.799466"
                                },
                                {
                                    "Month": "2019-09-30",
                                    "OrderCount": "1096",
                                    "Amount": "25514.16",
                                    "AvgOrderValue": "23.279343",
                                    "MovingThreeMoAvgAOV": "22.354614"
                                },
                                {
                                    "Month": "2019-10-31",
                                    "OrderCount": "1126",
                                    "Amount": "27212.48",
                                    "AvgOrderValue": "24.167388",
                                    "MovingThreeMoAvgAOV": "23.364415"
                                },
                                {
                                    "Month": "2019-11-30",
                                    "OrderCount": "1145",
                                    "Amount": "27021.07",
                                    "AvgOrderValue": "23.599187",
                                    "MovingThreeMoAvgAOV": "23.681972"
                                },
                                {
                                    "Month": "2019-12-31",
                                    "OrderCount": "1186",
                                    "Amount": "29766.17",
                                    "AvgOrderValue": "25.097951",
                                    "MovingThreeMoAvgAOV": "24.288175"
                                },
                                {
                                    "Month": "2020-01-31",
                                    "OrderCount": "1446",
                                    "Amount": "35834.15",
                                    "AvgOrderValue": "24.781569",
                                    "MovingThreeMoAvgAOV": "24.492902"
                                },
                                {
                                    "Month": "2020-02-29",
                                    "OrderCount": "1297",
                                    "Amount": "32432.45",
                                    "AvgOrderValue": "25.005744",
                                    "MovingThreeMoAvgAOV": "24.961754"
                                },
                                {
                                    "Month": "2020-03-31",
                                    "OrderCount": "1439",
                                    "Amount": "42190.47",
                                    "AvgOrderValue": "29.319298",
                                    "MovingThreeMoAvgAOV": "26.368870"
                                },
                                {
                                    "Month": "2020-04-30",
                                    "OrderCount": "886",
                                    "Amount": "31068.72",
                                    "AvgOrderValue": "35.066275",
                                    "MovingThreeMoAvgAOV": "29.797105"
                                },
                                {
                                    "Month": "2020-05-31",
                                    "OrderCount": "919",
                                    "Amount": "33495.85",
                                    "AvgOrderValue": "36.448150",
                                    "MovingThreeMoAvgAOV": "33.611241"
                                },
                                {
                                    "Month": "2020-06-30",
                                    "OrderCount": "981",
                                    "Amount": "34187.99",
                                    "AvgOrderValue": "34.850142",
                                    "MovingThreeMoAvgAOV": "35.454855"
                                },
                                {
                                    "Month": "2020-07-31",
                                    "OrderCount": "1134",
                                    "Amount": "39442.68",
                                    "AvgOrderValue": "34.781904",
                                    "MovingThreeMoAvgAOV": "35.360065"
                                },
                                {
                                    "Month": "2020-08-31",
                                    "OrderCount": "1319",
                                    "Amount": "44489.38",
                                    "AvgOrderValue": "33.729628",
                                    "MovingThreeMoAvgAOV": "34.453891"
                                },
                                {
                                    "Month": "2020-09-30",
                                    "OrderCount": "1225",
                                    "Amount": "42453.22",
                                    "AvgOrderValue": "34.655689",
                                    "MovingThreeMoAvgAOV": "34.389073"
                                },
                                {
                                    "Month": "2020-10-31",
                                    "OrderCount": "1289",
                                    "Amount": "45520.96",
                                    "AvgOrderValue": "35.314941",
                                    "MovingThreeMoAvgAOV": "34.566752"
                                },
                                {
                                    "Month": "2020-11-30",
                                    "OrderCount": "1235",
                                    "Amount": "41839.00",
                                    "AvgOrderValue": "33.877732",
                                    "MovingThreeMoAvgAOV": "34.616120"
                                },
                                {
                                    "Month": "2020-12-31",
                                    "OrderCount": "1416",
                                    "Amount": "52164.29",
                                    "AvgOrderValue": "36.839187",
                                    "MovingThreeMoAvgAOV": "35.343953"
                                },
                                {
                                    "Month": "2021-01-31",
                                    "OrderCount": "1559",
                                    "Amount": "54639.57",
                                    "AvgOrderValue": "35.047831",
                                    "MovingThreeMoAvgAOV": "35.254916"
                                },
                                {
                                    "Month": "2021-02-28",
                                    "OrderCount": "1454",
                                    "Amount": "52804.70",
                                    "AvgOrderValue": "36.316850",
                                    "MovingThreeMoAvgAOV": "36.067956"
                                },
                                {
                                    "Month": "2021-03-31",
                                    "OrderCount": "1488",
                                    "Amount": "50034.26",
                                    "AvgOrderValue": "33.625174",
                                    "MovingThreeMoAvgAOV": "34.996618"
                                },
                                {
                                    "Month": "2021-04-30",
                                    "OrderCount": "1390",
                                    "Amount": "50771.58",
                                    "AvgOrderValue": "36.526316",
                                    "MovingThreeMoAvgAOV": "35.489446"
                                },
                                {
                                    "Month": "2021-05-31",
                                    "OrderCount": "1349",
                                    "Amount": "48168.25",
                                    "AvgOrderValue": "35.706634",
                                    "MovingThreeMoAvgAOV": "35.286041"
                                },
                                {
                                    "Month": "2021-06-30",
                                    "OrderCount": "1224",
                                    "Amount": "43477.01",
                                    "AvgOrderValue": "35.520433",
                                    "MovingThreeMoAvgAOV": "35.917794"
                                },
                                {
                                    "Month": "2021-07-31",
                                    "OrderCount": "1205",
                                    "Amount": "39053.58",
                                    "AvgOrderValue": "32.409609",
                                    "MovingThreeMoAvgAOV": "34.545558"
                                },
                                {
                                    "Month": "2021-08-31",
                                    "OrderCount": "1151",
                                    "Amount": "40251.15",
                                    "AvgOrderValue": "34.970590",
                                    "MovingThreeMoAvgAOV": "34.300210"
                                },
                                {
                                    "Month": "2021-09-30",
                                    "OrderCount": "949",
                                    "Amount": "32437.21",
                                    "AvgOrderValue": "34.180410",
                                    "MovingThreeMoAvgAOV": "33.853536"
                                },
                                {
                                    "Month": "2021-10-31",
                                    "OrderCount": "1149",
                                    "Amount": "38340.32",
                                    "AvgOrderValue": "33.368424",
                                    "MovingThreeMoAvgAOV": "34.173141"
                                },
                                {
                                    "Month": "2021-11-30",
                                    "OrderCount": "1027",
                                    "Amount": "36311.91",
                                    "AvgOrderValue": "35.357263",
                                    "MovingThreeMoAvgAOV": "34.302032"
                                },
                                {
                                    "Month": "2021-12-31",
                                    "OrderCount": "1029",
                                    "Amount": "37856.04",
                                    "AvgOrderValue": "36.789154",
                                    "MovingThreeMoAvgAOV": "35.171613"
                                }
                            ]
                        },
                        "text/html": "<table><tr><th>Month</th><th>OrderCount</th><th>Amount</th><th>AvgOrderValue</th><th>MovingThreeMoAvgAOV</th></tr><tr><td>2019-02-28</td><td>749</td><td>14964.79</td><td>19.979692</td><td>19.979692</td></tr><tr><td>2019-03-31</td><td>1000</td><td>20094.08</td><td>20.094080</td><td>20.036886</td></tr><tr><td>2019-04-30</td><td>896</td><td>16817.66</td><td>18.769709</td><td>19.614493</td></tr><tr><td>2019-05-31</td><td>1177</td><td>23642.95</td><td>20.087468</td><td>19.650419</td></tr><tr><td>2019-06-30</td><td>1126</td><td>24337.25</td><td>21.613898</td><td>20.157025</td></tr><tr><td>2019-07-31</td><td>1107</td><td>23399.75</td><td>21.137985</td><td>20.946450</td></tr><tr><td>2019-08-31</td><td>1088</td><td>24639.41</td><td>22.646516</td><td>21.799466</td></tr><tr><td>2019-09-30</td><td>1096</td><td>25514.16</td><td>23.279343</td><td>22.354614</td></tr><tr><td>2019-10-31</td><td>1126</td><td>27212.48</td><td>24.167388</td><td>23.364415</td></tr><tr><td>2019-11-30</td><td>1145</td><td>27021.07</td><td>23.599187</td><td>23.681972</td></tr><tr><td>2019-12-31</td><td>1186</td><td>29766.17</td><td>25.097951</td><td>24.288175</td></tr><tr><td>2020-01-31</td><td>1446</td><td>35834.15</td><td>24.781569</td><td>24.492902</td></tr><tr><td>2020-02-29</td><td>1297</td><td>32432.45</td><td>25.005744</td><td>24.961754</td></tr><tr><td>2020-03-31</td><td>1439</td><td>42190.47</td><td>29.319298</td><td>26.368870</td></tr><tr><td>2020-04-30</td><td>886</td><td>31068.72</td><td>35.066275</td><td>29.797105</td></tr><tr><td>2020-05-31</td><td>919</td><td>33495.85</td><td>36.448150</td><td>33.611241</td></tr><tr><td>2020-06-30</td><td>981</td><td>34187.99</td><td>34.850142</td><td>35.454855</td></tr><tr><td>2020-07-31</td><td>1134</td><td>39442.68</td><td>34.781904</td><td>35.360065</td></tr><tr><td>2020-08-31</td><td>1319</td><td>44489.38</td><td>33.729628</td><td>34.453891</td></tr><tr><td>2020-09-30</td><td>1225</td><td>42453.22</td><td>34.655689</td><td>34.389073</td></tr><tr><td>2020-10-31</td><td>1289</td><td>45520.96</td><td>35.314941</td><td>34.566752</td></tr><tr><td>2020-11-30</td><td>1235</td><td>41839.00</td><td>33.877732</td><td>34.616120</td></tr><tr><td>2020-12-31</td><td>1416</td><td>52164.29</td><td>36.839187</td><td>35.343953</td></tr><tr><td>2021-01-31</td><td>1559</td><td>54639.57</td><td>35.047831</td><td>35.254916</td></tr><tr><td>2021-02-28</td><td>1454</td><td>52804.70</td><td>36.316850</td><td>36.067956</td></tr><tr><td>2021-03-31</td><td>1488</td><td>50034.26</td><td>33.625174</td><td>34.996618</td></tr><tr><td>2021-04-30</td><td>1390</td><td>50771.58</td><td>36.526316</td><td>35.489446</td></tr><tr><td>2021-05-31</td><td>1349</td><td>48168.25</td><td>35.706634</td><td>35.286041</td></tr><tr><td>2021-06-30</td><td>1224</td><td>43477.01</td><td>35.520433</td><td>35.917794</td></tr><tr><td>2021-07-31</td><td>1205</td><td>39053.58</td><td>32.409609</td><td>34.545558</td></tr><tr><td>2021-08-31</td><td>1151</td><td>40251.15</td><td>34.970590</td><td>34.300210</td></tr><tr><td>2021-09-30</td><td>949</td><td>32437.21</td><td>34.180410</td><td>33.853536</td></tr><tr><td>2021-10-31</td><td>1149</td><td>38340.32</td><td>33.368424</td><td>34.173141</td></tr><tr><td>2021-11-30</td><td>1027</td><td>36311.91</td><td>35.357263</td><td>34.302032</td></tr><tr><td>2021-12-31</td><td>1029</td><td>37856.04</td><td>36.789154</td><td>35.171613</td></tr></table>"
                    },
                    "metadata": {}
                }
            ],
            "execution_count": 47
        },
        {
            "cell_type": "markdown",
            "source": [
                "## Customer Analysis"
            ],
            "metadata": {
                "language": "sql",
                "azdata_cell_guid": "7bc6d0c4-3455-4192-b1ad-ecd24e05cc63"
            },
            "attachments": {}
        },
        {
            "cell_type": "markdown",
            "source": [
                "### Compare Retail and Wholesale Sales Statistics\r\n",
                ""
            ],
            "metadata": {
                "language": "sql",
                "azdata_cell_guid": "35264eb2-0be0-42d9-b366-f6f172b06f2e"
            },
            "attachments": {}
        },
        {
            "cell_type": "code",
            "source": [
                "SELECT\r\n",
                "    c.CustomerType,\r\n",
                "    SUM(SaleAmount) AS Sales,\r\n",
                "    SUM(SaleAmount)/\r\n",
                "    (SELECT \r\n",
                "        SUM(SaleAmount)\r\n",
                "        FROM SalesOrderLines) AS PctOfSales, --Use a subquery to calculate total sales and percent of total sales\r\n",
                "    COUNT(DISTINCT o.OrderID) As OrderCount,\r\n",
                "    SUM(SaleAmount) / COUNT(DISTINCT o.OrderID) AS AvgOrderValue,\r\n",
                "    COUNT(DISTINCT o.CustomerID) AS UniqueCustomers\r\n",
                "\r\n",
                "FROM SalesOrderLines AS l\r\n",
                "    JOIN SalesOrders AS o\r\n",
                "    ON l.OrderID = o.OrderID   \r\n",
                "    JOIN dimCustomers AS c\r\n",
                "    ON o.CustomerID = c.CustomerID\r\n",
                "\r\n",
                "GROUP BY c.CustomerType"
            ],
            "metadata": {
                "language": "sql",
                "azdata_cell_guid": "692ba67c-ebbe-4957-a19a-ab4ea8e98b98"
            },
            "outputs": [
                {
                    "output_type": "display_data",
                    "data": {
                        "text/html": "(2 rows affected)"
                    },
                    "metadata": {}
                },
                {
                    "output_type": "display_data",
                    "data": {
                        "text/html": "Total execution time: 00:00:00.256"
                    },
                    "metadata": {}
                },
                {
                    "output_type": "execute_result",
                    "execution_count": 38,
                    "data": {
                        "application/vnd.dataresource+json": {
                            "schema": {
                                "fields": [
                                    {
                                        "name": "CustomerType"
                                    },
                                    {
                                        "name": "Sales"
                                    },
                                    {
                                        "name": "PctOfSales"
                                    },
                                    {
                                        "name": "OrderCount"
                                    },
                                    {
                                        "name": "AvgOrderValue"
                                    },
                                    {
                                        "name": "UniqueCustomers"
                                    }
                                ]
                            },
                            "data": [
                                {
                                    "CustomerType": "Retail",
                                    "Sales": "1256674.51",
                                    "PctOfSales": "0.960173",
                                    "OrderCount": "41256",
                                    "AvgOrderValue": "30.460406",
                                    "UniqueCustomers": "3926"
                                },
                                {
                                    "CustomerType": "Wholesale",
                                    "Sales": "52124.87",
                                    "PctOfSales": "0.039826",
                                    "OrderCount": "194",
                                    "AvgOrderValue": "268.684896",
                                    "UniqueCustomers": "6"
                                }
                            ]
                        },
                        "text/html": "<table><tr><th>CustomerType</th><th>Sales</th><th>PctOfSales</th><th>OrderCount</th><th>AvgOrderValue</th><th>UniqueCustomers</th></tr><tr><td>Retail</td><td>1256674.51</td><td>0.960173</td><td>41256</td><td>30.460406</td><td>3926</td></tr><tr><td>Wholesale</td><td>52124.87</td><td>0.039826</td><td>194</td><td>268.684896</td><td>6</td></tr></table>"
                    },
                    "metadata": {}
                }
            ],
            "execution_count": 38
        },
        {
            "cell_type": "markdown",
            "source": [
                "#### Retail Sales: Known Customers vs Anonymous Sales - CASE Statement and CTE to group by CASE Statement\n",
                "\n",
                "Sales Composition (% of Total), AOV, Unique Customers, Order Count"
            ],
            "metadata": {
                "language": "sql",
                "azdata_cell_guid": "4fb7236c-b34d-4a10-ab08-f85845018af6"
            },
            "attachments": {}
        },
        {
            "cell_type": "code",
            "source": [
                "-- Create a CTE of Sales Transactions, adding a Customer Type using a CASE statement\r\n",
                "WITH CustomerSales AS(\r\n",
                "    SELECT\r\n",
                "        o.CustomerID,\r\n",
                "        \r\n",
                "        CASE \r\n",
                "            WHEN o.CustomerID IS NULL THEN 'Blank'\r\n",
                "            WHEN o.CustomerID = 'Unknown' THEN 'Anonymous'\r\n",
                "            ELSE 'KnownCustomers'\r\n",
                "            END As CustomerType,\r\n",
                "        \r\n",
                "        l.SaleAmount,\r\n",
                "        o.OrderID AS OrderID\r\n",
                "    \r\n",
                "    FROM SalesOrderLines AS l\r\n",
                "        JOIN SalesOrders AS o\r\n",
                "        ON l.OrderID = o.OrderID   \r\n",
                "        JOIN dimCustomers AS c\r\n",
                "        ON o.CustomerID = c.CustomerID\r\n",
                "\r\n",
                "    WHERE c.CustomerType = 'Retail'\r\n",
                ")\r\n",
                "\r\n",
                "-- Create a query subtotaling by the newly assigned Customer Type\r\n",
                "SELECT\r\n",
                "    CustomerType,\r\n",
                "    SUM(SaleAmount) AS Sales,\r\n",
                "    SUM(SaleAmount)/\r\n",
                "    (SELECT \r\n",
                "        SUM(SaleAmount)\r\n",
                "        FROM CustomerSales) AS PctOfSales, --Use a subquery to calculate total sales and percent of total sales\r\n",
                "    COUNT(DISTINCT OrderID) As OrderCount,\r\n",
                "    SUM(SaleAmount) / COUNT(DISTINCT OrderID) AS AvgOrderValue,\r\n",
                "    COUNT(DISTINCT CustomerID) AS UniqueCustomers\r\n",
                "FROM CustomerSales\r\n",
                "GROUP BY CustomerType"
            ],
            "metadata": {
                "language": "sql",
                "azdata_cell_guid": "655d19df-82bf-4b64-961f-5ac58a2be5e0"
            },
            "outputs": [
                {
                    "output_type": "display_data",
                    "data": {
                        "text/html": "(2 rows affected)"
                    },
                    "metadata": {}
                },
                {
                    "output_type": "display_data",
                    "data": {
                        "text/html": "Total execution time: 00:00:00.195"
                    },
                    "metadata": {}
                },
                {
                    "output_type": "execute_result",
                    "execution_count": 48,
                    "data": {
                        "application/vnd.dataresource+json": {
                            "schema": {
                                "fields": [
                                    {
                                        "name": "CustomerType"
                                    },
                                    {
                                        "name": "Sales"
                                    },
                                    {
                                        "name": "PctOfSales"
                                    },
                                    {
                                        "name": "OrderCount"
                                    },
                                    {
                                        "name": "AvgOrderValue"
                                    },
                                    {
                                        "name": "UniqueCustomers"
                                    }
                                ]
                            },
                            "data": [
                                {
                                    "CustomerType": "KnownCustomers",
                                    "Sales": "796844.16",
                                    "PctOfSales": "0.634089",
                                    "OrderCount": "22613",
                                    "AvgOrderValue": "35.238321",
                                    "UniqueCustomers": "3925"
                                },
                                {
                                    "CustomerType": "Anonymous",
                                    "Sales": "459830.35",
                                    "PctOfSales": "0.365910",
                                    "OrderCount": "18643",
                                    "AvgOrderValue": "24.665040",
                                    "UniqueCustomers": "1"
                                }
                            ]
                        },
                        "text/html": "<table><tr><th>CustomerType</th><th>Sales</th><th>PctOfSales</th><th>OrderCount</th><th>AvgOrderValue</th><th>UniqueCustomers</th></tr><tr><td>KnownCustomers</td><td>796844.16</td><td>0.634089</td><td>22613</td><td>35.238321</td><td>3925</td></tr><tr><td>Anonymous</td><td>459830.35</td><td>0.365910</td><td>18643</td><td>24.665040</td><td>1</td></tr></table>"
                    },
                    "metadata": {}
                }
            ],
            "execution_count": 48
        },
        {
            "cell_type": "markdown",
            "source": [
                "#### Mean Purchase Frequency for All Known Retail Customers (with CustomerID)"
            ],
            "metadata": {
                "language": "sql",
                "azdata_cell_guid": "d698ca1e-7b34-4c3d-ba7a-f26195287cf9"
            },
            "attachments": {}
        },
        {
            "cell_type": "code",
            "source": [
                "--Mean Purchase Frequency for All Known Customers (with Customer ID)\r\n",
                "\r\n",
                "WITH PurchaseFrequency AS(\r\n",
                "    SELECT\r\n",
                "    o.CustomerID,\r\n",
                "    COUNT(DISTINCT o.OrderID) TransactionCount,\r\n",
                "    DATEDIFF(Day,MIN(o.OrderDate),MAX(o.OrderDate)) AS ActivePeriod,\r\n",
                "    CASE \r\n",
                "        WHEN DATEDIFF(Day,MIN(o.OrderDate),MAX(o.OrderDate)) = 0 THEN 0\r\n",
                "            ELSE DATEDIFF(Day,MIN(o.OrderDate),MAX(o.OrderDate))/ COUNT(DISTINCT o.OrderID) \r\n",
                "        END AS PurchaseFreqencyDays\r\n",
                "\r\n",
                "FROM SalesOrderLines AS l\r\n",
                "        JOIN SalesOrders AS o\r\n",
                "        ON l.OrderID = o.OrderID   \r\n",
                "        JOIN dimCustomers AS c\r\n",
                "        ON o.CustomerID = c.CustomerID\r\n",
                "WHERE o.CustomerID <> 'Unknown' \r\n",
                "AND  c.CustomerType = 'Retail'\r\n",
                "GROUP BY o.CustomerID\r\n",
                ")\r\n",
                "\r\n",
                "SELECT \r\n",
                "    AVG(PurchaseFreqencyDays) AS MeanPurchaseFrequencyDays,\r\n",
                "    AVG(TransactionCount) AS MeanTransactionCount\r\n",
                "FROM PurchaseFrequency"
            ],
            "metadata": {
                "language": "sql",
                "azdata_cell_guid": "25c1be3b-58f9-4c47-9c42-d4fb9a9b4dd5",
                "tags": []
            },
            "outputs": [
                {
                    "output_type": "display_data",
                    "data": {
                        "text/html": "(1 row affected)"
                    },
                    "metadata": {}
                },
                {
                    "output_type": "display_data",
                    "data": {
                        "text/html": "Total execution time: 00:00:00.128"
                    },
                    "metadata": {}
                },
                {
                    "output_type": "execute_result",
                    "execution_count": 49,
                    "data": {
                        "application/vnd.dataresource+json": {
                            "schema": {
                                "fields": [
                                    {
                                        "name": "MeanPurchaseFrequencyDays"
                                    },
                                    {
                                        "name": "MeanTransactionCount"
                                    }
                                ]
                            },
                            "data": [
                                {
                                    "MeanPurchaseFrequencyDays": "33",
                                    "MeanTransactionCount": "5"
                                }
                            ]
                        },
                        "text/html": "<table><tr><th>MeanPurchaseFrequencyDays</th><th>MeanTransactionCount</th></tr><tr><td>33</td><td>5</td></tr></table>"
                    },
                    "metadata": {}
                }
            ],
            "execution_count": 49
        },
        {
            "cell_type": "markdown",
            "source": [
                "## Day of Week Sales\r\n",
                "#### Avg Transaction Count, Daily Sales and AOV by Day of the Week"
            ],
            "metadata": {
                "language": "sql",
                "azdata_cell_guid": "20f9a6f1-2be0-4ab6-a842-679debc5d113"
            },
            "attachments": {}
        },
        {
            "cell_type": "code",
            "source": [
                "-- Create a CTE of Daily Sales\r\n",
                "WITH Daily AS(\r\n",
                "    SELECT\r\n",
                "        o.OrderDate,\r\n",
                "        DATENAME(WEEKDAY,o.OrderDate) AS DayofWeek,\r\n",
                "        DATEPART(WEEKDAY, o.OrderDate) AS DayNumber,\r\n",
                "        COUNT(DISTINCT o.OrderID) AS DailyTransactions,\r\n",
                "        SUM(l.SaleAmount) AS DailySales,\r\n",
                "        SUM(l.SaleAmount) / COUNT(DISTINCT o.OrderID) AS AvgOrderValue\r\n",
                "    FROM\r\n",
                "        SalesOrderLines AS l\r\n",
                "        JOIN SalesOrders AS o\r\n",
                "        ON l.OrderID = o.OrderID\r\n",
                "\r\n",
                "    GROUP BY o.OrderDate \r\n",
                ")\r\n",
                "\r\n",
                "-- Summarize Sales Data by Day of Week\r\n",
                "SELECT\r\n",
                "    DayofWeek,\r\n",
                "    Sum(DailyTransactions) AS TotalTransactionCount,\r\n",
                "    AVG(DailyTransactions) AS AvgDailyTransactions,\r\n",
                "    Sum(DailySales) AS TotalSales,\r\n",
                "    Avg(DailySales) AS AvgDailySales,\r\n",
                "    SUM(DailySales) / Sum(DailyTransactions) AS AvgOrderValue\r\n",
                "FROM Daily\r\n",
                "GROUP BY DayofWeek, DayNumber\r\n",
                "ORDER BY DayNumber"
            ],
            "metadata": {
                "language": "sql",
                "azdata_cell_guid": "bdd0a8ea-9fce-4ce5-8898-a42b0b8a3dc8",
                "tags": []
            },
            "outputs": [
                {
                    "output_type": "display_data",
                    "data": {
                        "text/html": "(7 rows affected)"
                    },
                    "metadata": {}
                },
                {
                    "output_type": "display_data",
                    "data": {
                        "text/html": "Total execution time: 00:00:00.132"
                    },
                    "metadata": {}
                },
                {
                    "output_type": "execute_result",
                    "execution_count": 25,
                    "data": {
                        "application/vnd.dataresource+json": {
                            "schema": {
                                "fields": [
                                    {
                                        "name": "DayofWeek"
                                    },
                                    {
                                        "name": "TotalTransactionCount"
                                    },
                                    {
                                        "name": "AvgDailyTransactions"
                                    },
                                    {
                                        "name": "TotalSales"
                                    },
                                    {
                                        "name": "AvgDailySales"
                                    },
                                    {
                                        "name": "AvgOrderValue"
                                    }
                                ]
                            },
                            "data": [
                                {
                                    "DayofWeek": "Sunday",
                                    "TotalTransactionCount": "5956",
                                    "AvgDailyTransactions": "40",
                                    "TotalSales": "193385.44",
                                    "AvgDailySales": "1315.547210",
                                    "AvgOrderValue": "32.469012"
                                },
                                {
                                    "DayofWeek": "Monday",
                                    "TotalTransactionCount": "5620",
                                    "AvgDailyTransactions": "38",
                                    "TotalSales": "172123.51",
                                    "AvgDailySales": "1187.058689",
                                    "AvgOrderValue": "30.626959"
                                },
                                {
                                    "DayofWeek": "Tuesday",
                                    "TotalTransactionCount": "5256",
                                    "AvgDailyTransactions": "35",
                                    "TotalSales": "161436.65",
                                    "AvgDailySales": "1083.467449",
                                    "AvgOrderValue": "30.714735"
                                },
                                {
                                    "DayofWeek": "Wednesday",
                                    "TotalTransactionCount": "5046",
                                    "AvgDailyTransactions": "34",
                                    "TotalSales": "149616.23",
                                    "AvgDailySales": "1010.920472",
                                    "AvgOrderValue": "29.650461"
                                },
                                {
                                    "DayofWeek": "Thursday",
                                    "TotalTransactionCount": "4686",
                                    "AvgDailyTransactions": "33",
                                    "TotalSales": "142189.60",
                                    "AvgDailySales": "1022.946762",
                                    "AvgOrderValue": "30.343491"
                                },
                                {
                                    "DayofWeek": "Friday",
                                    "TotalTransactionCount": "5668",
                                    "AvgDailyTransactions": "38",
                                    "TotalSales": "190528.85",
                                    "AvgDailySales": "1304.992123",
                                    "AvgOrderValue": "33.614828"
                                },
                                {
                                    "DayofWeek": "Saturday",
                                    "TotalTransactionCount": "9218",
                                    "AvgDailyTransactions": "61",
                                    "TotalSales": "299519.10",
                                    "AvgDailySales": "2010.195302",
                                    "AvgOrderValue": "32.492850"
                                }
                            ]
                        },
                        "text/html": "<table><tr><th>DayofWeek</th><th>TotalTransactionCount</th><th>AvgDailyTransactions</th><th>TotalSales</th><th>AvgDailySales</th><th>AvgOrderValue</th></tr><tr><td>Sunday</td><td>5956</td><td>40</td><td>193385.44</td><td>1315.547210</td><td>32.469012</td></tr><tr><td>Monday</td><td>5620</td><td>38</td><td>172123.51</td><td>1187.058689</td><td>30.626959</td></tr><tr><td>Tuesday</td><td>5256</td><td>35</td><td>161436.65</td><td>1083.467449</td><td>30.714735</td></tr><tr><td>Wednesday</td><td>5046</td><td>34</td><td>149616.23</td><td>1010.920472</td><td>29.650461</td></tr><tr><td>Thursday</td><td>4686</td><td>33</td><td>142189.60</td><td>1022.946762</td><td>30.343491</td></tr><tr><td>Friday</td><td>5668</td><td>38</td><td>190528.85</td><td>1304.992123</td><td>33.614828</td></tr><tr><td>Saturday</td><td>9218</td><td>61</td><td>299519.10</td><td>2010.195302</td><td>32.492850</td></tr></table>"
                    },
                    "metadata": {}
                }
            ],
            "execution_count": 25
        }
    ]
}