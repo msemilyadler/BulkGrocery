{
    "metadata": {
        "kernelspec": {
            "name": "SQL",
            "display_name": "SQL",
            "language": "sql"
        },
        "language_info": {
            "name": "sql",
            "version": ""
        }
    },
    "nbformat_minor": 2,
    "nbformat": 4,
    "cells": [
        {
            "cell_type": "markdown",
            "source": [
                "# Bulk Grocery Sales Analysis"
            ],
            "metadata": {
                "azdata_cell_guid": "b10aaf00-2423-4f7b-9dba-30b11d05cd4d"
            },
            "attachments": {}
        },
        {
            "cell_type": "markdown",
            "source": [
                "## Sales Summary"
            ],
            "metadata": {
                "azdata_cell_guid": "2ee01da4-3ae6-44c4-9649-3a5498b527df"
            },
            "attachments": {}
        },
        {
            "cell_type": "markdown",
            "source": [
                "### Total Sales, Transactions, Customers, Products"
            ],
            "metadata": {
                "azdata_cell_guid": "5541c945-a1eb-4b96-9187-eaa8a589147f"
            },
            "attachments": {}
        },
        {
            "cell_type": "code",
            "source": [
                "SELECT \r\n",
                "    SUM(l.SaleAmount) AS Sales,\r\n",
                "    COUNT(DISTINCT o.OrderID) AS TransactionCount,\r\n",
                "    COUNT(DISTINCT o.CustomerID) AS KnownCustomerCount,\r\n",
                "    COUNT(DISTINCT l.ProductID) AS UniqueProductCount,\r\n",
                "    COUNT(DISTINCT l.SalesOrderLineID) AS TransactionLineCount\r\n",
                "\r\n",
                "FROM SalesOrderLines AS l\r\n",
                "    JOIN SalesOrders AS o\r\n",
                "    ON l.OrderID = o.OrderID \r\n",
                "\r\n",
                ""
            ],
            "metadata": {
                "azdata_cell_guid": "9c619d75-61fa-47a1-a2ca-a6481145fb97",
                "language": "sql"
            },
            "outputs": [
                {
                    "output_type": "display_data",
                    "data": {
                        "text/html": "(1 row affected)"
                    },
                    "metadata": {}
                },
                {
                    "output_type": "display_data",
                    "data": {
                        "text/html": "Total execution time: 00:00:00.165"
                    },
                    "metadata": {}
                },
                {
                    "output_type": "execute_result",
                    "execution_count": 8,
                    "data": {
                        "application/vnd.dataresource+json": {
                            "schema": {
                                "fields": [
                                    {
                                        "name": "Sales"
                                    },
                                    {
                                        "name": "TransactionCount"
                                    },
                                    {
                                        "name": "KnownCustomerCount"
                                    },
                                    {
                                        "name": "UniqueProductCount"
                                    },
                                    {
                                        "name": "TransactionLineCount"
                                    }
                                ]
                            },
                            "data": [
                                {
                                    "Sales": "1308799.38",
                                    "TransactionCount": "41450",
                                    "KnownCustomerCount": "3932",
                                    "UniqueProductCount": "1006",
                                    "TransactionLineCount": "223151"
                                }
                            ]
                        },
                        "text/html": "<table><tr><th>Sales</th><th>TransactionCount</th><th>KnownCustomerCount</th><th>UniqueProductCount</th><th>TransactionLineCount</th></tr><tr><td>1308799.38</td><td>41450</td><td>3932</td><td>1006</td><td>223151</td></tr></table>"
                    },
                    "metadata": {}
                }
            ],
            "execution_count": 8
        },
        {
            "cell_type": "markdown",
            "source": [
                "### Annual Sales Volume\r\n",
                "#### Total Annual Sales"
            ],
            "metadata": {
                "azdata_cell_guid": "e5336175-a200-4f63-a408-908965d12156"
            },
            "attachments": {}
        },
        {
            "cell_type": "code",
            "source": [
                "SELECT \r\n",
                "    YEAR(o.OrderDate) AS Year, \r\n",
                "    SUM(l.SaleAmount) AS Sales, \r\n",
                "    COUNT(DISTINCT o.OrderID) As TransactionCount,\r\n",
                "    COUNT(DISTINCT o.CustomerID) AS KnownCustomerCount,\r\n",
                "    COUNT(DISTINCT l.ProductID) AS UniqueProductCount\r\n",
                "\r\n",
                "FROM SalesOrderLines AS l\r\n",
                "    JOIN SalesOrders AS o\r\n",
                "    ON l.OrderID = o.OrderID \r\n",
                "\r\n",
                "GROUP BY YEAR(o.OrderDate)\r\n",
                "ORDER BY YEAR(o.OrderDate) "
            ],
            "metadata": {
                "azdata_cell_guid": "0a40a691-15f6-4eff-a3c0-b2cbab6ab9e4",
                "language": "sql",
                "tags": []
            },
            "outputs": [
                {
                    "output_type": "display_data",
                    "data": {
                        "text/html": "(3 rows affected)"
                    },
                    "metadata": {}
                },
                {
                    "output_type": "display_data",
                    "data": {
                        "text/html": "Total execution time: 00:00:00.181"
                    },
                    "metadata": {}
                },
                {
                    "output_type": "execute_result",
                    "execution_count": 11,
                    "data": {
                        "application/vnd.dataresource+json": {
                            "schema": {
                                "fields": [
                                    {
                                        "name": "Year"
                                    },
                                    {
                                        "name": "Sales"
                                    },
                                    {
                                        "name": "TransactionCount"
                                    },
                                    {
                                        "name": "KnownCustomerCount"
                                    },
                                    {
                                        "name": "UniqueProductCount"
                                    }
                                ]
                            },
                            "data": [
                                {
                                    "Year": "2019",
                                    "Sales": "277348.76",
                                    "TransactionCount": "11776",
                                    "KnownCustomerCount": "1704",
                                    "UniqueProductCount": "673"
                                },
                                {
                                    "Year": "2020",
                                    "Sales": "494122.18",
                                    "TransactionCount": "14648",
                                    "KnownCustomerCount": "1769",
                                    "UniqueProductCount": "635"
                                },
                                {
                                    "Year": "2021",
                                    "Sales": "537328.44",
                                    "TransactionCount": "15026",
                                    "KnownCustomerCount": "2137",
                                    "UniqueProductCount": "582"
                                }
                            ]
                        },
                        "text/html": "<table><tr><th>Year</th><th>Sales</th><th>TransactionCount</th><th>KnownCustomerCount</th><th>UniqueProductCount</th></tr><tr><td>2019</td><td>277348.76</td><td>11776</td><td>1704</td><td>673</td></tr><tr><td>2020</td><td>494122.18</td><td>14648</td><td>1769</td><td>635</td></tr><tr><td>2021</td><td>537328.44</td><td>15026</td><td>2137</td><td>582</td></tr></table>"
                    },
                    "metadata": {}
                }
            ],
            "execution_count": 11
        },
        {
            "cell_type": "markdown",
            "source": [
                "### Monthly Sales Trend\r\n",
                "#### Total Monthly Sales and Average Daily Sales by Month"
            ],
            "metadata": {
                "azdata_cell_guid": "c928cb29-e1ad-4c01-bd85-e7a6cffdd64d"
            },
            "attachments": {}
        },
        {
            "cell_type": "code",
            "source": [
                "SELECT \r\n",
                "    EOMONTH(o.OrderDate) AS TransactionMonth, --Use the last day of the month to represent the Month. Since all data is historical do not need to account for midmonth data\r\n",
                "    ROUND(SUM(l.SaleAmount),2) AS Sales, --Sum the Monthly Sales\r\n",
                "    ROUND(SUM(l.SaleAmount)/DAY(EOMONTH(o.OrderDate)),2) AS AvgDailySales, --Total Montly Sales / Number of Days in Month\r\n",
                "    COUNT(DISTINCT o.OrderID) AS TransactionCount\r\n",
                "\r\n",
                "FROM SalesOrderLines AS l\r\n",
                "    JOIN SalesOrders AS o\r\n",
                "    ON l.OrderID = o.OrderID \r\n",
                "\r\n",
                "GROUP BY EOMONTH(o.OrderDate)\r\n",
                "ORDER BY EOMONTH(o.OrderDate)   "
            ],
            "metadata": {
                "language": "sql",
                "azdata_cell_guid": "cf6c9a57-5c2f-495f-b32f-f83185e5fd73",
                "tags": []
            },
            "outputs": [
                {
                    "output_type": "display_data",
                    "data": {
                        "text/html": "(35 rows affected)"
                    },
                    "metadata": {}
                },
                {
                    "output_type": "display_data",
                    "data": {
                        "text/html": "Total execution time: 00:00:00.144"
                    },
                    "metadata": {}
                },
                {
                    "output_type": "execute_result",
                    "execution_count": 13,
                    "data": {
                        "application/vnd.dataresource+json": {
                            "schema": {
                                "fields": [
                                    {
                                        "name": "TransactionMonth"
                                    },
                                    {
                                        "name": "Sales"
                                    },
                                    {
                                        "name": "AvgDailySales"
                                    },
                                    {
                                        "name": "TransactionCount"
                                    }
                                ]
                            },
                            "data": [
                                {
                                    "TransactionMonth": "2019-02-28",
                                    "Sales": "14964.79",
                                    "AvgDailySales": "534.460000",
                                    "TransactionCount": "749"
                                },
                                {
                                    "TransactionMonth": "2019-03-31",
                                    "Sales": "20949.45",
                                    "AvgDailySales": "675.790000",
                                    "TransactionCount": "1003"
                                },
                                {
                                    "TransactionMonth": "2019-04-30",
                                    "Sales": "17287.15",
                                    "AvgDailySales": "576.240000",
                                    "TransactionCount": "899"
                                },
                                {
                                    "TransactionMonth": "2019-05-31",
                                    "Sales": "24424.98",
                                    "AvgDailySales": "787.900000",
                                    "TransactionCount": "1184"
                                },
                                {
                                    "TransactionMonth": "2019-06-30",
                                    "Sales": "27454.37",
                                    "AvgDailySales": "915.150000",
                                    "TransactionCount": "1137"
                                },
                                {
                                    "TransactionMonth": "2019-07-31",
                                    "Sales": "27423.94",
                                    "AvgDailySales": "884.640000",
                                    "TransactionCount": "1120"
                                },
                                {
                                    "TransactionMonth": "2019-08-31",
                                    "Sales": "26306.96",
                                    "AvgDailySales": "848.610000",
                                    "TransactionCount": "1095"
                                },
                                {
                                    "TransactionMonth": "2019-09-30",
                                    "Sales": "28842.81",
                                    "AvgDailySales": "961.430000",
                                    "TransactionCount": "1109"
                                },
                                {
                                    "TransactionMonth": "2019-10-31",
                                    "Sales": "29368.16",
                                    "AvgDailySales": "947.360000",
                                    "TransactionCount": "1135"
                                },
                                {
                                    "TransactionMonth": "2019-11-30",
                                    "Sales": "29010.85",
                                    "AvgDailySales": "967.030000",
                                    "TransactionCount": "1153"
                                },
                                {
                                    "TransactionMonth": "2019-12-31",
                                    "Sales": "31315.30",
                                    "AvgDailySales": "1010.170000",
                                    "TransactionCount": "1192"
                                },
                                {
                                    "TransactionMonth": "2020-01-31",
                                    "Sales": "37956.78",
                                    "AvgDailySales": "1224.410000",
                                    "TransactionCount": "1452"
                                },
                                {
                                    "TransactionMonth": "2020-02-29",
                                    "Sales": "33820.10",
                                    "AvgDailySales": "1166.210000",
                                    "TransactionCount": "1303"
                                },
                                {
                                    "TransactionMonth": "2020-03-31",
                                    "Sales": "44724.33",
                                    "AvgDailySales": "1442.720000",
                                    "TransactionCount": "1445"
                                },
                                {
                                    "TransactionMonth": "2020-04-30",
                                    "Sales": "31871.41",
                                    "AvgDailySales": "1062.380000",
                                    "TransactionCount": "890"
                                },
                                {
                                    "TransactionMonth": "2020-05-31",
                                    "Sales": "35155.72",
                                    "AvgDailySales": "1134.060000",
                                    "TransactionCount": "924"
                                },
                                {
                                    "TransactionMonth": "2020-06-30",
                                    "Sales": "35149.96",
                                    "AvgDailySales": "1171.670000",
                                    "TransactionCount": "984"
                                },
                                {
                                    "TransactionMonth": "2020-07-31",
                                    "Sales": "41633.89",
                                    "AvgDailySales": "1343.030000",
                                    "TransactionCount": "1143"
                                },
                                {
                                    "TransactionMonth": "2020-08-31",
                                    "Sales": "47599.20",
                                    "AvgDailySales": "1535.460000",
                                    "TransactionCount": "1325"
                                },
                                {
                                    "TransactionMonth": "2020-09-30",
                                    "Sales": "43994.26",
                                    "AvgDailySales": "1466.480000",
                                    "TransactionCount": "1233"
                                },
                                {
                                    "TransactionMonth": "2020-10-31",
                                    "Sales": "46408.37",
                                    "AvgDailySales": "1497.040000",
                                    "TransactionCount": "1292"
                                },
                                {
                                    "TransactionMonth": "2020-11-30",
                                    "Sales": "42768.71",
                                    "AvgDailySales": "1425.620000",
                                    "TransactionCount": "1239"
                                },
                                {
                                    "TransactionMonth": "2020-12-31",
                                    "Sales": "53039.45",
                                    "AvgDailySales": "1710.950000",
                                    "TransactionCount": "1418"
                                },
                                {
                                    "TransactionMonth": "2021-01-31",
                                    "Sales": "55312.48",
                                    "AvgDailySales": "1784.270000",
                                    "TransactionCount": "1561"
                                },
                                {
                                    "TransactionMonth": "2021-02-28",
                                    "Sales": "54057.65",
                                    "AvgDailySales": "1930.630000",
                                    "TransactionCount": "1461"
                                },
                                {
                                    "TransactionMonth": "2021-03-31",
                                    "Sales": "51043.98",
                                    "AvgDailySales": "1646.580000",
                                    "TransactionCount": "1493"
                                },
                                {
                                    "TransactionMonth": "2021-04-30",
                                    "Sales": "52109.81",
                                    "AvgDailySales": "1736.990000",
                                    "TransactionCount": "1396"
                                },
                                {
                                    "TransactionMonth": "2021-05-31",
                                    "Sales": "49186.36",
                                    "AvgDailySales": "1586.660000",
                                    "TransactionCount": "1354"
                                },
                                {
                                    "TransactionMonth": "2021-06-30",
                                    "Sales": "44196.52",
                                    "AvgDailySales": "1473.220000",
                                    "TransactionCount": "1228"
                                },
                                {
                                    "TransactionMonth": "2021-07-31",
                                    "Sales": "40539.18",
                                    "AvgDailySales": "1307.720000",
                                    "TransactionCount": "1212"
                                },
                                {
                                    "TransactionMonth": "2021-08-31",
                                    "Sales": "40792.58",
                                    "AvgDailySales": "1315.890000",
                                    "TransactionCount": "1153"
                                },
                                {
                                    "TransactionMonth": "2021-09-30",
                                    "Sales": "33339.35",
                                    "AvgDailySales": "1111.310000",
                                    "TransactionCount": "952"
                                },
                                {
                                    "TransactionMonth": "2021-10-31",
                                    "Sales": "40067.79",
                                    "AvgDailySales": "1292.510000",
                                    "TransactionCount": "1153"
                                },
                                {
                                    "TransactionMonth": "2021-11-30",
                                    "Sales": "37493.90",
                                    "AvgDailySales": "1249.800000",
                                    "TransactionCount": "1030"
                                },
                                {
                                    "TransactionMonth": "2021-12-31",
                                    "Sales": "39188.84",
                                    "AvgDailySales": "1264.160000",
                                    "TransactionCount": "1033"
                                }
                            ]
                        },
                        "text/html": "<table><tr><th>TransactionMonth</th><th>Sales</th><th>AvgDailySales</th><th>TransactionCount</th></tr><tr><td>2019-02-28</td><td>14964.79</td><td>534.460000</td><td>749</td></tr><tr><td>2019-03-31</td><td>20949.45</td><td>675.790000</td><td>1003</td></tr><tr><td>2019-04-30</td><td>17287.15</td><td>576.240000</td><td>899</td></tr><tr><td>2019-05-31</td><td>24424.98</td><td>787.900000</td><td>1184</td></tr><tr><td>2019-06-30</td><td>27454.37</td><td>915.150000</td><td>1137</td></tr><tr><td>2019-07-31</td><td>27423.94</td><td>884.640000</td><td>1120</td></tr><tr><td>2019-08-31</td><td>26306.96</td><td>848.610000</td><td>1095</td></tr><tr><td>2019-09-30</td><td>28842.81</td><td>961.430000</td><td>1109</td></tr><tr><td>2019-10-31</td><td>29368.16</td><td>947.360000</td><td>1135</td></tr><tr><td>2019-11-30</td><td>29010.85</td><td>967.030000</td><td>1153</td></tr><tr><td>2019-12-31</td><td>31315.30</td><td>1010.170000</td><td>1192</td></tr><tr><td>2020-01-31</td><td>37956.78</td><td>1224.410000</td><td>1452</td></tr><tr><td>2020-02-29</td><td>33820.10</td><td>1166.210000</td><td>1303</td></tr><tr><td>2020-03-31</td><td>44724.33</td><td>1442.720000</td><td>1445</td></tr><tr><td>2020-04-30</td><td>31871.41</td><td>1062.380000</td><td>890</td></tr><tr><td>2020-05-31</td><td>35155.72</td><td>1134.060000</td><td>924</td></tr><tr><td>2020-06-30</td><td>35149.96</td><td>1171.670000</td><td>984</td></tr><tr><td>2020-07-31</td><td>41633.89</td><td>1343.030000</td><td>1143</td></tr><tr><td>2020-08-31</td><td>47599.20</td><td>1535.460000</td><td>1325</td></tr><tr><td>2020-09-30</td><td>43994.26</td><td>1466.480000</td><td>1233</td></tr><tr><td>2020-10-31</td><td>46408.37</td><td>1497.040000</td><td>1292</td></tr><tr><td>2020-11-30</td><td>42768.71</td><td>1425.620000</td><td>1239</td></tr><tr><td>2020-12-31</td><td>53039.45</td><td>1710.950000</td><td>1418</td></tr><tr><td>2021-01-31</td><td>55312.48</td><td>1784.270000</td><td>1561</td></tr><tr><td>2021-02-28</td><td>54057.65</td><td>1930.630000</td><td>1461</td></tr><tr><td>2021-03-31</td><td>51043.98</td><td>1646.580000</td><td>1493</td></tr><tr><td>2021-04-30</td><td>52109.81</td><td>1736.990000</td><td>1396</td></tr><tr><td>2021-05-31</td><td>49186.36</td><td>1586.660000</td><td>1354</td></tr><tr><td>2021-06-30</td><td>44196.52</td><td>1473.220000</td><td>1228</td></tr><tr><td>2021-07-31</td><td>40539.18</td><td>1307.720000</td><td>1212</td></tr><tr><td>2021-08-31</td><td>40792.58</td><td>1315.890000</td><td>1153</td></tr><tr><td>2021-09-30</td><td>33339.35</td><td>1111.310000</td><td>952</td></tr><tr><td>2021-10-31</td><td>40067.79</td><td>1292.510000</td><td>1153</td></tr><tr><td>2021-11-30</td><td>37493.90</td><td>1249.800000</td><td>1030</td></tr><tr><td>2021-12-31</td><td>39188.84</td><td>1264.160000</td><td>1033</td></tr></table>"
                    },
                    "metadata": {}
                }
            ],
            "execution_count": 13
        },
        {
            "cell_type": "markdown",
            "source": [
                "#### Top 5 Sales Months"
            ],
            "metadata": {
                "language": "sql",
                "azdata_cell_guid": "0a4369c2-d7d7-433d-bb25-f3eb78ba29f8"
            },
            "attachments": {}
        },
        {
            "cell_type": "code",
            "source": [
                "SELECT TOP(5)\r\n",
                "    EOMONTH(o.OrderDate) AS TransactionMonth, --Use the last day of the month to represent the Month. Since all data is historical do not need to account for midmonth data\r\n",
                "    ROUND(SUM(l.SaleAmount),2) AS MonthlySales, --Sum the Monthly Sales\r\n",
                "    ROUND(SUM(l.SaleAmount)/DAY(EOMONTH(o.OrderDate)),2) AS AvgDailySales -- Total Monthly Sales / Number of Days in month\r\n",
                "\r\n",
                "FROM SalesOrderLines AS l\r\n",
                "    JOIN SalesOrders AS o\r\n",
                "    ON l.OrderID = o.OrderID \r\n",
                "\r\n",
                "GROUP BY EOMONTH(o.OrderDate) --Group by Month\r\n",
                "ORDER BY MonthlySales DESC     "
            ],
            "metadata": {
                "language": "sql",
                "azdata_cell_guid": "b032f682-cb72-498f-aae7-9c897bb48333",
                "tags": []
            },
            "outputs": [
                {
                    "output_type": "display_data",
                    "data": {
                        "text/html": "(5 rows affected)"
                    },
                    "metadata": {}
                },
                {
                    "output_type": "display_data",
                    "data": {
                        "text/html": "Total execution time: 00:00:00.120"
                    },
                    "metadata": {}
                },
                {
                    "output_type": "execute_result",
                    "execution_count": 20,
                    "data": {
                        "application/vnd.dataresource+json": {
                            "schema": {
                                "fields": [
                                    {
                                        "name": "TransactionMonth"
                                    },
                                    {
                                        "name": "MonthlySales"
                                    },
                                    {
                                        "name": "AvgDailySales"
                                    }
                                ]
                            },
                            "data": [
                                {
                                    "TransactionMonth": "2021-01-31",
                                    "MonthlySales": "55312.48",
                                    "AvgDailySales": "1784.270000"
                                },
                                {
                                    "TransactionMonth": "2021-02-28",
                                    "MonthlySales": "54057.65",
                                    "AvgDailySales": "1930.630000"
                                },
                                {
                                    "TransactionMonth": "2020-12-31",
                                    "MonthlySales": "53039.45",
                                    "AvgDailySales": "1710.950000"
                                },
                                {
                                    "TransactionMonth": "2021-04-30",
                                    "MonthlySales": "52109.81",
                                    "AvgDailySales": "1736.990000"
                                },
                                {
                                    "TransactionMonth": "2021-03-31",
                                    "MonthlySales": "51043.98",
                                    "AvgDailySales": "1646.580000"
                                }
                            ]
                        },
                        "text/html": "<table><tr><th>TransactionMonth</th><th>MonthlySales</th><th>AvgDailySales</th></tr><tr><td>2021-01-31</td><td>55312.48</td><td>1784.270000</td></tr><tr><td>2021-02-28</td><td>54057.65</td><td>1930.630000</td></tr><tr><td>2020-12-31</td><td>53039.45</td><td>1710.950000</td></tr><tr><td>2021-04-30</td><td>52109.81</td><td>1736.990000</td></tr><tr><td>2021-03-31</td><td>51043.98</td><td>1646.580000</td></tr></table>"
                    },
                    "metadata": {}
                }
            ],
            "execution_count": 20
        },
        {
            "cell_type": "markdown",
            "source": [
                "#### Monthly Sales - MoM, YoY % Change - Using Window LAG function and CTEs\r\n",
                ""
            ],
            "metadata": {
                "language": "sql",
                "azdata_cell_guid": "262b9ca2-9a6f-4bcf-9926-8b455b5fd098"
            },
            "attachments": {}
        },
        {
            "cell_type": "code",
            "source": [
                "--CTE to create a table of Total Sales by Month \r\n",
                "WITH MonthlySales AS(\r\n",
                "SELECT \r\n",
                "    EOMONTH(o.OrderDate) AS TransactionMonth, --Use the last day of the month to represent the Month. Since all data is historical do not need to account for midmonth data\r\n",
                "    ROUND(SUM(l.SaleAmount),2) AS Sales, --Sum the Monthly Sales\r\n",
                "    ROUND(SUM(l.SaleAmount)/DAY(EOMONTH(o.OrderDate)),2) AS AvgDailySales  --Monthly Sales / number of days in the month\r\n",
                "FROM SalesOrderLines AS l\r\n",
                "    JOIN SalesOrders AS o\r\n",
                "    ON l.OrderID = o.OrderID \r\n",
                "GROUP BY EOMONTH(o.OrderDate)\r\n",
                ")\r\n",
                "\r\n",
                "-- Compare Each Month to the Prior Month, and the Prior Year\r\n",
                "SELECT  \r\n",
                "    TransactionMonth,\r\n",
                "    Sales,\r\n",
                "    \r\n",
                "    -- Monthly Sales Percent Change from Prior Month = Current month sales / Prior month sales - 1 \r\n",
                "    ROUND(Sales/ \r\n",
                "        (LAG(Sales) -- use the LAG Window function with no offset, which defaults to the prior record (offset of 1)\r\n",
                "            OVER ( ORDER BY TransactionMonth))-1,4) -- subtract 1 from the ratio of current/prior month sales to calculate the percentage change\r\n",
                "            AS SalesPctChgPM, \r\n",
                "    \r\n",
                "    \r\n",
                "    -- Monthly Sales % Change from Same Month Prior Year = Current Month/ Lag 12 month Sales -1\r\n",
                "    ROUND(Sales/ \r\n",
                "    (LAG(Sales,12) -- Use the Lag Function with offset of 12 to retrive the prior year sales (assuming continuous sales reported in all months)\r\n",
                "        OVER (ORDER BY TransactionMonth))-1,4) -- subtract 1 from the ratio and round to 4 decimals\r\n",
                "        AS SalesPctChgPY, \r\n",
                "    \r\n",
                "    AvgDailySales,\r\n",
                "    \r\n",
                "    -- Avg Daily Sales % change from Prior Month = Avg Daily Sales Current Month / ADS Prior Month-1 \r\n",
                "    ROUND((AvgDailySales/\r\n",
                "    LAG(AvgDailySales) OVER(ORDER BY TransactionMonth))-1,4) AS AvgDailyPctChgPM,\r\n",
                "\r\n",
                "    -- Avg Daily Sales % change from Prior Year = Avg Daily Sales Current Month / ADS Prior Year-1 \r\n",
                "    -- Assumes sales in all consecutive months\r\n",
                "    ROUND((AvgDailySales/\r\n",
                "    LAG(AvgDailySales,12) OVER(ORDER BY TransactionMonth))-1,4) AS AvgDailyPctChgPY\r\n",
                "\r\n",
                "FROM MonthlySales"
            ],
            "metadata": {
                "language": "sql",
                "azdata_cell_guid": "9bd2722e-119f-487c-88ed-05ba23d1e270",
                "tags": []
            },
            "outputs": [
                {
                    "output_type": "display_data",
                    "data": {
                        "text/html": "(35 rows affected)"
                    },
                    "metadata": {}
                },
                {
                    "output_type": "display_data",
                    "data": {
                        "text/html": "Total execution time: 00:00:00.120"
                    },
                    "metadata": {}
                },
                {
                    "output_type": "execute_result",
                    "execution_count": 21,
                    "data": {
                        "application/vnd.dataresource+json": {
                            "schema": {
                                "fields": [
                                    {
                                        "name": "TransactionMonth"
                                    },
                                    {
                                        "name": "Sales"
                                    },
                                    {
                                        "name": "SalesPctChgPM"
                                    },
                                    {
                                        "name": "SalesPctChgPY"
                                    },
                                    {
                                        "name": "AvgDailySales"
                                    },
                                    {
                                        "name": "AvgDailyPctChgPM"
                                    },
                                    {
                                        "name": "AvgDailyPctChgPY"
                                    }
                                ]
                            },
                            "data": [
                                {
                                    "TransactionMonth": "2019-02-28",
                                    "Sales": "14964.79",
                                    "SalesPctChgPM": "NULL",
                                    "SalesPctChgPY": "NULL",
                                    "AvgDailySales": "534.460000",
                                    "AvgDailyPctChgPM": "NULL",
                                    "AvgDailyPctChgPY": "NULL"
                                },
                                {
                                    "TransactionMonth": "2019-03-31",
                                    "Sales": "20949.45",
                                    "SalesPctChgPM": "0.399900",
                                    "SalesPctChgPY": "NULL",
                                    "AvgDailySales": "675.790000",
                                    "AvgDailyPctChgPM": "0.264400",
                                    "AvgDailyPctChgPY": "NULL"
                                },
                                {
                                    "TransactionMonth": "2019-04-30",
                                    "Sales": "17287.15",
                                    "SalesPctChgPM": "-0.174800",
                                    "SalesPctChgPY": "NULL",
                                    "AvgDailySales": "576.240000",
                                    "AvgDailyPctChgPM": "-0.147300",
                                    "AvgDailyPctChgPY": "NULL"
                                },
                                {
                                    "TransactionMonth": "2019-05-31",
                                    "Sales": "24424.98",
                                    "SalesPctChgPM": "0.412900",
                                    "SalesPctChgPY": "NULL",
                                    "AvgDailySales": "787.900000",
                                    "AvgDailyPctChgPM": "0.367300",
                                    "AvgDailyPctChgPY": "NULL"
                                },
                                {
                                    "TransactionMonth": "2019-06-30",
                                    "Sales": "27454.37",
                                    "SalesPctChgPM": "0.124000",
                                    "SalesPctChgPY": "NULL",
                                    "AvgDailySales": "915.150000",
                                    "AvgDailyPctChgPM": "0.161500",
                                    "AvgDailyPctChgPY": "NULL"
                                },
                                {
                                    "TransactionMonth": "2019-07-31",
                                    "Sales": "27423.94",
                                    "SalesPctChgPM": "-0.001100",
                                    "SalesPctChgPY": "NULL",
                                    "AvgDailySales": "884.640000",
                                    "AvgDailyPctChgPM": "-0.033300",
                                    "AvgDailyPctChgPY": "NULL"
                                },
                                {
                                    "TransactionMonth": "2019-08-31",
                                    "Sales": "26306.96",
                                    "SalesPctChgPM": "-0.040700",
                                    "SalesPctChgPY": "NULL",
                                    "AvgDailySales": "848.610000",
                                    "AvgDailyPctChgPM": "-0.040700",
                                    "AvgDailyPctChgPY": "NULL"
                                },
                                {
                                    "TransactionMonth": "2019-09-30",
                                    "Sales": "28842.81",
                                    "SalesPctChgPM": "0.096400",
                                    "SalesPctChgPY": "NULL",
                                    "AvgDailySales": "961.430000",
                                    "AvgDailyPctChgPM": "0.132900",
                                    "AvgDailyPctChgPY": "NULL"
                                },
                                {
                                    "TransactionMonth": "2019-10-31",
                                    "Sales": "29368.16",
                                    "SalesPctChgPM": "0.018200",
                                    "SalesPctChgPY": "NULL",
                                    "AvgDailySales": "947.360000",
                                    "AvgDailyPctChgPM": "-0.014600",
                                    "AvgDailyPctChgPY": "NULL"
                                },
                                {
                                    "TransactionMonth": "2019-11-30",
                                    "Sales": "29010.85",
                                    "SalesPctChgPM": "-0.012200",
                                    "SalesPctChgPY": "NULL",
                                    "AvgDailySales": "967.030000",
                                    "AvgDailyPctChgPM": "0.020800",
                                    "AvgDailyPctChgPY": "NULL"
                                },
                                {
                                    "TransactionMonth": "2019-12-31",
                                    "Sales": "31315.30",
                                    "SalesPctChgPM": "0.079400",
                                    "SalesPctChgPY": "NULL",
                                    "AvgDailySales": "1010.170000",
                                    "AvgDailyPctChgPM": "0.044600",
                                    "AvgDailyPctChgPY": "NULL"
                                },
                                {
                                    "TransactionMonth": "2020-01-31",
                                    "Sales": "37956.78",
                                    "SalesPctChgPM": "0.212100",
                                    "SalesPctChgPY": "NULL",
                                    "AvgDailySales": "1224.410000",
                                    "AvgDailyPctChgPM": "0.212100",
                                    "AvgDailyPctChgPY": "NULL"
                                },
                                {
                                    "TransactionMonth": "2020-02-29",
                                    "Sales": "33820.10",
                                    "SalesPctChgPM": "-0.109000",
                                    "SalesPctChgPY": "1.260000",
                                    "AvgDailySales": "1166.210000",
                                    "AvgDailyPctChgPM": "-0.047500",
                                    "AvgDailyPctChgPY": "1.182000"
                                },
                                {
                                    "TransactionMonth": "2020-03-31",
                                    "Sales": "44724.33",
                                    "SalesPctChgPM": "0.322400",
                                    "SalesPctChgPY": "1.134900",
                                    "AvgDailySales": "1442.720000",
                                    "AvgDailyPctChgPM": "0.237100",
                                    "AvgDailyPctChgPY": "1.134900"
                                },
                                {
                                    "TransactionMonth": "2020-04-30",
                                    "Sales": "31871.41",
                                    "SalesPctChgPM": "-0.287400",
                                    "SalesPctChgPY": "0.843600",
                                    "AvgDailySales": "1062.380000",
                                    "AvgDailyPctChgPM": "-0.263600",
                                    "AvgDailyPctChgPY": "0.843600"
                                },
                                {
                                    "TransactionMonth": "2020-05-31",
                                    "Sales": "35155.72",
                                    "SalesPctChgPM": "0.103000",
                                    "SalesPctChgPY": "0.439300",
                                    "AvgDailySales": "1134.060000",
                                    "AvgDailyPctChgPM": "0.067500",
                                    "AvgDailyPctChgPY": "0.439300"
                                },
                                {
                                    "TransactionMonth": "2020-06-30",
                                    "Sales": "35149.96",
                                    "SalesPctChgPM": "-0.000200",
                                    "SalesPctChgPY": "0.280300",
                                    "AvgDailySales": "1171.670000",
                                    "AvgDailyPctChgPM": "0.033200",
                                    "AvgDailyPctChgPY": "0.280300"
                                },
                                {
                                    "TransactionMonth": "2020-07-31",
                                    "Sales": "41633.89",
                                    "SalesPctChgPM": "0.184500",
                                    "SalesPctChgPY": "0.518200",
                                    "AvgDailySales": "1343.030000",
                                    "AvgDailyPctChgPM": "0.146300",
                                    "AvgDailyPctChgPY": "0.518200"
                                },
                                {
                                    "TransactionMonth": "2020-08-31",
                                    "Sales": "47599.20",
                                    "SalesPctChgPM": "0.143300",
                                    "SalesPctChgPY": "0.809400",
                                    "AvgDailySales": "1535.460000",
                                    "AvgDailyPctChgPM": "0.143300",
                                    "AvgDailyPctChgPY": "0.809400"
                                },
                                {
                                    "TransactionMonth": "2020-09-30",
                                    "Sales": "43994.26",
                                    "SalesPctChgPM": "-0.075700",
                                    "SalesPctChgPY": "0.525300",
                                    "AvgDailySales": "1466.480000",
                                    "AvgDailyPctChgPM": "-0.044900",
                                    "AvgDailyPctChgPY": "0.525300"
                                },
                                {
                                    "TransactionMonth": "2020-10-31",
                                    "Sales": "46408.37",
                                    "SalesPctChgPM": "0.054900",
                                    "SalesPctChgPY": "0.580200",
                                    "AvgDailySales": "1497.040000",
                                    "AvgDailyPctChgPM": "0.020800",
                                    "AvgDailyPctChgPY": "0.580200"
                                },
                                {
                                    "TransactionMonth": "2020-11-30",
                                    "Sales": "42768.71",
                                    "SalesPctChgPM": "-0.078400",
                                    "SalesPctChgPY": "0.474200",
                                    "AvgDailySales": "1425.620000",
                                    "AvgDailyPctChgPM": "-0.047700",
                                    "AvgDailyPctChgPY": "0.474200"
                                },
                                {
                                    "TransactionMonth": "2020-12-31",
                                    "Sales": "53039.45",
                                    "SalesPctChgPM": "0.240100",
                                    "SalesPctChgPY": "0.693700",
                                    "AvgDailySales": "1710.950000",
                                    "AvgDailyPctChgPM": "0.200100",
                                    "AvgDailyPctChgPY": "0.693700"
                                },
                                {
                                    "TransactionMonth": "2021-01-31",
                                    "Sales": "55312.48",
                                    "SalesPctChgPM": "0.042900",
                                    "SalesPctChgPY": "0.457200",
                                    "AvgDailySales": "1784.270000",
                                    "AvgDailyPctChgPM": "0.042900",
                                    "AvgDailyPctChgPY": "0.457200"
                                },
                                {
                                    "TransactionMonth": "2021-02-28",
                                    "Sales": "54057.65",
                                    "SalesPctChgPM": "-0.022700",
                                    "SalesPctChgPY": "0.598400",
                                    "AvgDailySales": "1930.630000",
                                    "AvgDailyPctChgPM": "0.082000",
                                    "AvgDailyPctChgPY": "0.655500"
                                },
                                {
                                    "TransactionMonth": "2021-03-31",
                                    "Sales": "51043.98",
                                    "SalesPctChgPM": "-0.055800",
                                    "SalesPctChgPY": "0.141300",
                                    "AvgDailySales": "1646.580000",
                                    "AvgDailyPctChgPM": "-0.147100",
                                    "AvgDailyPctChgPY": "0.141300"
                                },
                                {
                                    "TransactionMonth": "2021-04-30",
                                    "Sales": "52109.81",
                                    "SalesPctChgPM": "0.020900",
                                    "SalesPctChgPY": "0.635000",
                                    "AvgDailySales": "1736.990000",
                                    "AvgDailyPctChgPM": "0.054900",
                                    "AvgDailyPctChgPY": "0.635000"
                                },
                                {
                                    "TransactionMonth": "2021-05-31",
                                    "Sales": "49186.36",
                                    "SalesPctChgPM": "-0.056100",
                                    "SalesPctChgPY": "0.399100",
                                    "AvgDailySales": "1586.660000",
                                    "AvgDailyPctChgPM": "-0.086500",
                                    "AvgDailyPctChgPY": "0.399100"
                                },
                                {
                                    "TransactionMonth": "2021-06-30",
                                    "Sales": "44196.52",
                                    "SalesPctChgPM": "-0.101400",
                                    "SalesPctChgPY": "0.257400",
                                    "AvgDailySales": "1473.220000",
                                    "AvgDailyPctChgPM": "-0.071500",
                                    "AvgDailyPctChgPY": "0.257400"
                                },
                                {
                                    "TransactionMonth": "2021-07-31",
                                    "Sales": "40539.18",
                                    "SalesPctChgPM": "-0.082800",
                                    "SalesPctChgPY": "-0.026300",
                                    "AvgDailySales": "1307.720000",
                                    "AvgDailyPctChgPM": "-0.112300",
                                    "AvgDailyPctChgPY": "-0.026300"
                                },
                                {
                                    "TransactionMonth": "2021-08-31",
                                    "Sales": "40792.58",
                                    "SalesPctChgPM": "0.006300",
                                    "SalesPctChgPY": "-0.143000",
                                    "AvgDailySales": "1315.890000",
                                    "AvgDailyPctChgPM": "0.006200",
                                    "AvgDailyPctChgPY": "-0.143000"
                                },
                                {
                                    "TransactionMonth": "2021-09-30",
                                    "Sales": "33339.35",
                                    "SalesPctChgPM": "-0.182700",
                                    "SalesPctChgPY": "-0.242200",
                                    "AvgDailySales": "1111.310000",
                                    "AvgDailyPctChgPM": "-0.155500",
                                    "AvgDailyPctChgPY": "-0.242200"
                                },
                                {
                                    "TransactionMonth": "2021-10-31",
                                    "Sales": "40067.79",
                                    "SalesPctChgPM": "0.201800",
                                    "SalesPctChgPY": "-0.136600",
                                    "AvgDailySales": "1292.510000",
                                    "AvgDailyPctChgPM": "0.163100",
                                    "AvgDailyPctChgPY": "-0.136600"
                                },
                                {
                                    "TransactionMonth": "2021-11-30",
                                    "Sales": "37493.90",
                                    "SalesPctChgPM": "-0.064200",
                                    "SalesPctChgPY": "-0.123300",
                                    "AvgDailySales": "1249.800000",
                                    "AvgDailyPctChgPM": "-0.033000",
                                    "AvgDailyPctChgPY": "-0.123300"
                                },
                                {
                                    "TransactionMonth": "2021-12-31",
                                    "Sales": "39188.84",
                                    "SalesPctChgPM": "0.045200",
                                    "SalesPctChgPY": "-0.261100",
                                    "AvgDailySales": "1264.160000",
                                    "AvgDailyPctChgPM": "0.011500",
                                    "AvgDailyPctChgPY": "-0.261100"
                                }
                            ]
                        },
                        "text/html": "<table><tr><th>TransactionMonth</th><th>Sales</th><th>SalesPctChgPM</th><th>SalesPctChgPY</th><th>AvgDailySales</th><th>AvgDailyPctChgPM</th><th>AvgDailyPctChgPY</th></tr><tr><td>2019-02-28</td><td>14964.79</td><td>NULL</td><td>NULL</td><td>534.460000</td><td>NULL</td><td>NULL</td></tr><tr><td>2019-03-31</td><td>20949.45</td><td>0.399900</td><td>NULL</td><td>675.790000</td><td>0.264400</td><td>NULL</td></tr><tr><td>2019-04-30</td><td>17287.15</td><td>-0.174800</td><td>NULL</td><td>576.240000</td><td>-0.147300</td><td>NULL</td></tr><tr><td>2019-05-31</td><td>24424.98</td><td>0.412900</td><td>NULL</td><td>787.900000</td><td>0.367300</td><td>NULL</td></tr><tr><td>2019-06-30</td><td>27454.37</td><td>0.124000</td><td>NULL</td><td>915.150000</td><td>0.161500</td><td>NULL</td></tr><tr><td>2019-07-31</td><td>27423.94</td><td>-0.001100</td><td>NULL</td><td>884.640000</td><td>-0.033300</td><td>NULL</td></tr><tr><td>2019-08-31</td><td>26306.96</td><td>-0.040700</td><td>NULL</td><td>848.610000</td><td>-0.040700</td><td>NULL</td></tr><tr><td>2019-09-30</td><td>28842.81</td><td>0.096400</td><td>NULL</td><td>961.430000</td><td>0.132900</td><td>NULL</td></tr><tr><td>2019-10-31</td><td>29368.16</td><td>0.018200</td><td>NULL</td><td>947.360000</td><td>-0.014600</td><td>NULL</td></tr><tr><td>2019-11-30</td><td>29010.85</td><td>-0.012200</td><td>NULL</td><td>967.030000</td><td>0.020800</td><td>NULL</td></tr><tr><td>2019-12-31</td><td>31315.30</td><td>0.079400</td><td>NULL</td><td>1010.170000</td><td>0.044600</td><td>NULL</td></tr><tr><td>2020-01-31</td><td>37956.78</td><td>0.212100</td><td>NULL</td><td>1224.410000</td><td>0.212100</td><td>NULL</td></tr><tr><td>2020-02-29</td><td>33820.10</td><td>-0.109000</td><td>1.260000</td><td>1166.210000</td><td>-0.047500</td><td>1.182000</td></tr><tr><td>2020-03-31</td><td>44724.33</td><td>0.322400</td><td>1.134900</td><td>1442.720000</td><td>0.237100</td><td>1.134900</td></tr><tr><td>2020-04-30</td><td>31871.41</td><td>-0.287400</td><td>0.843600</td><td>1062.380000</td><td>-0.263600</td><td>0.843600</td></tr><tr><td>2020-05-31</td><td>35155.72</td><td>0.103000</td><td>0.439300</td><td>1134.060000</td><td>0.067500</td><td>0.439300</td></tr><tr><td>2020-06-30</td><td>35149.96</td><td>-0.000200</td><td>0.280300</td><td>1171.670000</td><td>0.033200</td><td>0.280300</td></tr><tr><td>2020-07-31</td><td>41633.89</td><td>0.184500</td><td>0.518200</td><td>1343.030000</td><td>0.146300</td><td>0.518200</td></tr><tr><td>2020-08-31</td><td>47599.20</td><td>0.143300</td><td>0.809400</td><td>1535.460000</td><td>0.143300</td><td>0.809400</td></tr><tr><td>2020-09-30</td><td>43994.26</td><td>-0.075700</td><td>0.525300</td><td>1466.480000</td><td>-0.044900</td><td>0.525300</td></tr><tr><td>2020-10-31</td><td>46408.37</td><td>0.054900</td><td>0.580200</td><td>1497.040000</td><td>0.020800</td><td>0.580200</td></tr><tr><td>2020-11-30</td><td>42768.71</td><td>-0.078400</td><td>0.474200</td><td>1425.620000</td><td>-0.047700</td><td>0.474200</td></tr><tr><td>2020-12-31</td><td>53039.45</td><td>0.240100</td><td>0.693700</td><td>1710.950000</td><td>0.200100</td><td>0.693700</td></tr><tr><td>2021-01-31</td><td>55312.48</td><td>0.042900</td><td>0.457200</td><td>1784.270000</td><td>0.042900</td><td>0.457200</td></tr><tr><td>2021-02-28</td><td>54057.65</td><td>-0.022700</td><td>0.598400</td><td>1930.630000</td><td>0.082000</td><td>0.655500</td></tr><tr><td>2021-03-31</td><td>51043.98</td><td>-0.055800</td><td>0.141300</td><td>1646.580000</td><td>-0.147100</td><td>0.141300</td></tr><tr><td>2021-04-30</td><td>52109.81</td><td>0.020900</td><td>0.635000</td><td>1736.990000</td><td>0.054900</td><td>0.635000</td></tr><tr><td>2021-05-31</td><td>49186.36</td><td>-0.056100</td><td>0.399100</td><td>1586.660000</td><td>-0.086500</td><td>0.399100</td></tr><tr><td>2021-06-30</td><td>44196.52</td><td>-0.101400</td><td>0.257400</td><td>1473.220000</td><td>-0.071500</td><td>0.257400</td></tr><tr><td>2021-07-31</td><td>40539.18</td><td>-0.082800</td><td>-0.026300</td><td>1307.720000</td><td>-0.112300</td><td>-0.026300</td></tr><tr><td>2021-08-31</td><td>40792.58</td><td>0.006300</td><td>-0.143000</td><td>1315.890000</td><td>0.006200</td><td>-0.143000</td></tr><tr><td>2021-09-30</td><td>33339.35</td><td>-0.182700</td><td>-0.242200</td><td>1111.310000</td><td>-0.155500</td><td>-0.242200</td></tr><tr><td>2021-10-31</td><td>40067.79</td><td>0.201800</td><td>-0.136600</td><td>1292.510000</td><td>0.163100</td><td>-0.136600</td></tr><tr><td>2021-11-30</td><td>37493.90</td><td>-0.064200</td><td>-0.123300</td><td>1249.800000</td><td>-0.033000</td><td>-0.123300</td></tr><tr><td>2021-12-31</td><td>39188.84</td><td>0.045200</td><td>-0.261100</td><td>1264.160000</td><td>0.011500</td><td>-0.261100</td></tr></table>"
                    },
                    "metadata": {}
                }
            ],
            "execution_count": 21
        },
        {
            "cell_type": "markdown",
            "source": [
                "#### Three Month Moving Average Monthly Sales - Using Window Function"
            ],
            "metadata": {
                "language": "sql",
                "azdata_cell_guid": "a1324aaa-c9f9-4ad4-9878-21f4bb648b2b"
            },
            "attachments": {}
        },
        {
            "cell_type": "code",
            "source": [
                "--CTE to create a table of Total Sales by Month and by Product Category\r\n",
                "WITH MonthlySales AS(\r\n",
                "SELECT \r\n",
                "    EOMONTH(o.OrderDate) AS TransactionMonth, --Use the last day of the month to represent the Month. Since all data is historical do not need to account for midmonth data\r\n",
                "    ROUND(SUM(l.SaleAmount),2) AS Sales, --Sum the Monthly Sales\r\n",
                "    ROUND(SUM(l.SaleAmount)/DAY(EOMONTH(o.OrderDate)),2) AS AvgDailySales\r\n",
                "FROM SalesOrderLines AS l\r\n",
                "    JOIN SalesOrders AS o\r\n",
                "    ON l.OrderID = o.OrderID \r\n",
                "GROUP BY EOMONTH(o.OrderDate)\r\n",
                ")\r\n",
                "\r\n",
                "-- Caculate a rolling three month average of sales by category\r\n",
                "SELECT  \r\n",
                "    TransactionMonth,\r\n",
                "    SUM(Sales) TotalSales,    \r\n",
                "    AVG(SUM(Sales)) OVER(\r\n",
                "        ORDER BY TransactionMonth -- Order the records by transaction month, ensuring the average is calculated chronologically\r\n",
                "        ROWS BETWEEN 2 PRECEDING and CURRENT ROW -- specifies the range of rows to include in the average as 2 preceeding and current row\r\n",
                "    ) AS MovingThreeMonthAvgSales,\n",
                "\r\n",
                "FROM MonthlySales\r\n",
                "GROUP BY TransactionMonth\r\n",
                "ORDER BY TransactionMonth"
            ],
            "metadata": {
                "language": "sql",
                "azdata_cell_guid": "12985283-fc73-4639-a080-53fc8d27d5f1"
            },
            "outputs": [
                {
                    "output_type": "display_data",
                    "data": {
                        "text/html": "(35 rows affected)"
                    },
                    "metadata": {}
                },
                {
                    "output_type": "display_data",
                    "data": {
                        "text/html": "Total execution time: 00:00:00.139"
                    },
                    "metadata": {}
                },
                {
                    "output_type": "execute_result",
                    "execution_count": 85,
                    "data": {
                        "application/vnd.dataresource+json": {
                            "schema": {
                                "fields": [
                                    {
                                        "name": "TransactionMonth"
                                    },
                                    {
                                        "name": "TotalSales"
                                    },
                                    {
                                        "name": "MovingThreeMonthAvgSales"
                                    }
                                ]
                            },
                            "data": [
                                {
                                    "TransactionMonth": "2019-02-28",
                                    "TotalSales": "14964.79",
                                    "MovingThreeMonthAvgSales": "14964.790000"
                                },
                                {
                                    "TransactionMonth": "2019-03-31",
                                    "TotalSales": "20949.45",
                                    "MovingThreeMonthAvgSales": "17957.120000"
                                },
                                {
                                    "TransactionMonth": "2019-04-30",
                                    "TotalSales": "17287.15",
                                    "MovingThreeMonthAvgSales": "17733.796666"
                                },
                                {
                                    "TransactionMonth": "2019-05-31",
                                    "TotalSales": "24424.98",
                                    "MovingThreeMonthAvgSales": "20887.193333"
                                },
                                {
                                    "TransactionMonth": "2019-06-30",
                                    "TotalSales": "27454.37",
                                    "MovingThreeMonthAvgSales": "23055.500000"
                                },
                                {
                                    "TransactionMonth": "2019-07-31",
                                    "TotalSales": "27423.94",
                                    "MovingThreeMonthAvgSales": "26434.430000"
                                },
                                {
                                    "TransactionMonth": "2019-08-31",
                                    "TotalSales": "26306.96",
                                    "MovingThreeMonthAvgSales": "27061.756666"
                                },
                                {
                                    "TransactionMonth": "2019-09-30",
                                    "TotalSales": "28842.81",
                                    "MovingThreeMonthAvgSales": "27524.570000"
                                },
                                {
                                    "TransactionMonth": "2019-10-31",
                                    "TotalSales": "29368.16",
                                    "MovingThreeMonthAvgSales": "28172.643333"
                                },
                                {
                                    "TransactionMonth": "2019-11-30",
                                    "TotalSales": "29010.85",
                                    "MovingThreeMonthAvgSales": "29073.940000"
                                },
                                {
                                    "TransactionMonth": "2019-12-31",
                                    "TotalSales": "31315.30",
                                    "MovingThreeMonthAvgSales": "29898.103333"
                                },
                                {
                                    "TransactionMonth": "2020-01-31",
                                    "TotalSales": "37956.78",
                                    "MovingThreeMonthAvgSales": "32760.976666"
                                },
                                {
                                    "TransactionMonth": "2020-02-29",
                                    "TotalSales": "33820.10",
                                    "MovingThreeMonthAvgSales": "34364.060000"
                                },
                                {
                                    "TransactionMonth": "2020-03-31",
                                    "TotalSales": "44724.33",
                                    "MovingThreeMonthAvgSales": "38833.736666"
                                },
                                {
                                    "TransactionMonth": "2020-04-30",
                                    "TotalSales": "31871.41",
                                    "MovingThreeMonthAvgSales": "36805.280000"
                                },
                                {
                                    "TransactionMonth": "2020-05-31",
                                    "TotalSales": "35155.72",
                                    "MovingThreeMonthAvgSales": "37250.486666"
                                },
                                {
                                    "TransactionMonth": "2020-06-30",
                                    "TotalSales": "35149.96",
                                    "MovingThreeMonthAvgSales": "34059.030000"
                                },
                                {
                                    "TransactionMonth": "2020-07-31",
                                    "TotalSales": "41633.89",
                                    "MovingThreeMonthAvgSales": "37313.190000"
                                },
                                {
                                    "TransactionMonth": "2020-08-31",
                                    "TotalSales": "47599.20",
                                    "MovingThreeMonthAvgSales": "41461.016666"
                                },
                                {
                                    "TransactionMonth": "2020-09-30",
                                    "TotalSales": "43994.26",
                                    "MovingThreeMonthAvgSales": "44409.116666"
                                },
                                {
                                    "TransactionMonth": "2020-10-31",
                                    "TotalSales": "46408.37",
                                    "MovingThreeMonthAvgSales": "46000.610000"
                                },
                                {
                                    "TransactionMonth": "2020-11-30",
                                    "TotalSales": "42768.71",
                                    "MovingThreeMonthAvgSales": "44390.446666"
                                },
                                {
                                    "TransactionMonth": "2020-12-31",
                                    "TotalSales": "53039.45",
                                    "MovingThreeMonthAvgSales": "47405.510000"
                                },
                                {
                                    "TransactionMonth": "2021-01-31",
                                    "TotalSales": "55312.48",
                                    "MovingThreeMonthAvgSales": "50373.546666"
                                },
                                {
                                    "TransactionMonth": "2021-02-28",
                                    "TotalSales": "54057.65",
                                    "MovingThreeMonthAvgSales": "54136.526666"
                                },
                                {
                                    "TransactionMonth": "2021-03-31",
                                    "TotalSales": "51043.98",
                                    "MovingThreeMonthAvgSales": "53471.370000"
                                },
                                {
                                    "TransactionMonth": "2021-04-30",
                                    "TotalSales": "52109.81",
                                    "MovingThreeMonthAvgSales": "52403.813333"
                                },
                                {
                                    "TransactionMonth": "2021-05-31",
                                    "TotalSales": "49186.36",
                                    "MovingThreeMonthAvgSales": "50780.050000"
                                },
                                {
                                    "TransactionMonth": "2021-06-30",
                                    "TotalSales": "44196.52",
                                    "MovingThreeMonthAvgSales": "48497.563333"
                                },
                                {
                                    "TransactionMonth": "2021-07-31",
                                    "TotalSales": "40539.18",
                                    "MovingThreeMonthAvgSales": "44640.686666"
                                },
                                {
                                    "TransactionMonth": "2021-08-31",
                                    "TotalSales": "40792.58",
                                    "MovingThreeMonthAvgSales": "41842.760000"
                                },
                                {
                                    "TransactionMonth": "2021-09-30",
                                    "TotalSales": "33339.35",
                                    "MovingThreeMonthAvgSales": "38223.703333"
                                },
                                {
                                    "TransactionMonth": "2021-10-31",
                                    "TotalSales": "40067.79",
                                    "MovingThreeMonthAvgSales": "38066.573333"
                                },
                                {
                                    "TransactionMonth": "2021-11-30",
                                    "TotalSales": "37493.90",
                                    "MovingThreeMonthAvgSales": "36967.013333"
                                },
                                {
                                    "TransactionMonth": "2021-12-31",
                                    "TotalSales": "39188.84",
                                    "MovingThreeMonthAvgSales": "38916.843333"
                                }
                            ]
                        },
                        "text/html": "<table><tr><th>TransactionMonth</th><th>TotalSales</th><th>MovingThreeMonthAvgSales</th></tr><tr><td>2019-02-28</td><td>14964.79</td><td>14964.790000</td></tr><tr><td>2019-03-31</td><td>20949.45</td><td>17957.120000</td></tr><tr><td>2019-04-30</td><td>17287.15</td><td>17733.796666</td></tr><tr><td>2019-05-31</td><td>24424.98</td><td>20887.193333</td></tr><tr><td>2019-06-30</td><td>27454.37</td><td>23055.500000</td></tr><tr><td>2019-07-31</td><td>27423.94</td><td>26434.430000</td></tr><tr><td>2019-08-31</td><td>26306.96</td><td>27061.756666</td></tr><tr><td>2019-09-30</td><td>28842.81</td><td>27524.570000</td></tr><tr><td>2019-10-31</td><td>29368.16</td><td>28172.643333</td></tr><tr><td>2019-11-30</td><td>29010.85</td><td>29073.940000</td></tr><tr><td>2019-12-31</td><td>31315.30</td><td>29898.103333</td></tr><tr><td>2020-01-31</td><td>37956.78</td><td>32760.976666</td></tr><tr><td>2020-02-29</td><td>33820.10</td><td>34364.060000</td></tr><tr><td>2020-03-31</td><td>44724.33</td><td>38833.736666</td></tr><tr><td>2020-04-30</td><td>31871.41</td><td>36805.280000</td></tr><tr><td>2020-05-31</td><td>35155.72</td><td>37250.486666</td></tr><tr><td>2020-06-30</td><td>35149.96</td><td>34059.030000</td></tr><tr><td>2020-07-31</td><td>41633.89</td><td>37313.190000</td></tr><tr><td>2020-08-31</td><td>47599.20</td><td>41461.016666</td></tr><tr><td>2020-09-30</td><td>43994.26</td><td>44409.116666</td></tr><tr><td>2020-10-31</td><td>46408.37</td><td>46000.610000</td></tr><tr><td>2020-11-30</td><td>42768.71</td><td>44390.446666</td></tr><tr><td>2020-12-31</td><td>53039.45</td><td>47405.510000</td></tr><tr><td>2021-01-31</td><td>55312.48</td><td>50373.546666</td></tr><tr><td>2021-02-28</td><td>54057.65</td><td>54136.526666</td></tr><tr><td>2021-03-31</td><td>51043.98</td><td>53471.370000</td></tr><tr><td>2021-04-30</td><td>52109.81</td><td>52403.813333</td></tr><tr><td>2021-05-31</td><td>49186.36</td><td>50780.050000</td></tr><tr><td>2021-06-30</td><td>44196.52</td><td>48497.563333</td></tr><tr><td>2021-07-31</td><td>40539.18</td><td>44640.686666</td></tr><tr><td>2021-08-31</td><td>40792.58</td><td>41842.760000</td></tr><tr><td>2021-09-30</td><td>33339.35</td><td>38223.703333</td></tr><tr><td>2021-10-31</td><td>40067.79</td><td>38066.573333</td></tr><tr><td>2021-11-30</td><td>37493.90</td><td>36967.013333</td></tr><tr><td>2021-12-31</td><td>39188.84</td><td>38916.843333</td></tr></table>"
                    },
                    "metadata": {}
                }
            ],
            "execution_count": 85
        },
        {
            "cell_type": "markdown",
            "source": [
                "#### Three Month Moving Average Monthly Sales by Product Category - Using Window Function with Partition\n",
                "\n",
                "Trailing Three Month Average Sales by Product Category"
            ],
            "metadata": {
                "language": "sql",
                "azdata_cell_guid": "80d02470-2a0f-40e0-9c56-88144f9fa3c6"
            },
            "attachments": {}
        },
        {
            "cell_type": "code",
            "source": [
                "--CTE to create a table of Total Sales by Month and by Product Category\r\n",
                "WITH MonthlySales AS(\r\n",
                "SELECT \r\n",
                "    c.Category AS Category,\r\n",
                "    EOMONTH(o.OrderDate) AS TransactionMonth, --Use the last day of the month to represent the Month. Since all data is historical do not need to account for midmonth data\r\n",
                "    ROUND(SUM(l.SaleAmount),2) AS Sales, --Sum the Monthly Sales\r\n",
                "    ROUND(SUM(l.SaleAmount)/DAY(EOMONTH(o.OrderDate)),2) AS AvgDailySales\r\n",
                "FROM SalesOrderLines AS l\r\n",
                "    JOIN SalesOrders AS o\r\n",
                "    ON l.OrderID = o.OrderID \r\n",
                "    JOIN DimProduct AS p\r\n",
                "    ON l.ProductID = p.ProductID\r\n",
                "    JOIN DimSubcategory AS sc\r\n",
                "    ON p.SubcategoryID = sc.SubcategoryID\r\n",
                "    JOIN DimCategory AS c\r\n",
                "    ON sc.CategoryID = c.CategoryID\r\n",
                "GROUP BY Category, EOMONTH(o.OrderDate)\r\n",
                ")\r\n",
                "\r\n",
                "-- Caculate a rolling three month average of sales by category\r\n",
                "SELECT  \r\n",
                "    Category,\r\n",
                "    TransactionMonth,\r\n",
                "    SUM(Sales) TotalSales,    \r\n",
                "    AVG(SUM(Sales)) OVER(\r\n",
                "        PARTITION BY Category  -- Divide the data by Category - the avg will be calcuated separately for each category\r\n",
                "        ORDER BY TransactionMonth -- Order the records by transaction month, ensuring the average is calculated chronologically\r\n",
                "        ROWS BETWEEN 2 PRECEDING and CURRENT ROW -- specifies the range of rows to include in the average as 2 preceeding and current row\r\n",
                "    ) AS MovingThreeMonthAvgSales\r\n",
                "\r\n",
                "FROM MonthlySales\r\n",
                "GROUP BY\r\n",
                "    Category,\r\n",
                "    TransactionMonth\r\n",
                "ORDER BY Category, TransactionMonth\r\n",
                ""
            ],
            "metadata": {
                "language": "sql",
                "azdata_cell_guid": "c9235ef0-0a7d-44ad-a536-7d6c1076c9c3"
            },
            "outputs": [
                {
                    "output_type": "display_data",
                    "data": {
                        "text/html": "(337 rows affected)"
                    },
                    "metadata": {}
                },
                {
                    "output_type": "display_data",
                    "data": {
                        "text/html": "Total execution time: 00:00:00.179"
                    },
                    "metadata": {}
                },
                {
                    "output_type": "execute_result",
                    "execution_count": 13,
                    "data": {
                        "application/vnd.dataresource+json": {
                            "schema": {
                                "fields": [
                                    {
                                        "name": "Category"
                                    },
                                    {
                                        "name": "TransactionMonth"
                                    },
                                    {
                                        "name": "TotalSales"
                                    },
                                    {
                                        "name": "MovingThreeMonthAvgSales"
                                    }
                                ]
                            },
                            "data": [
                                {
                                    "Category": "Accessories",
                                    "TransactionMonth": "2019-02-28",
                                    "TotalSales": "742.06",
                                    "MovingThreeMonthAvgSales": "742.060000"
                                },
                                {
                                    "Category": "Accessories",
                                    "TransactionMonth": "2019-03-31",
                                    "TotalSales": "752.48",
                                    "MovingThreeMonthAvgSales": "747.270000"
                                },
                                {
                                    "Category": "Accessories",
                                    "TransactionMonth": "2019-04-30",
                                    "TotalSales": "903.54",
                                    "MovingThreeMonthAvgSales": "799.360000"
                                },
                                {
                                    "Category": "Accessories",
                                    "TransactionMonth": "2019-05-31",
                                    "TotalSales": "1094.00",
                                    "MovingThreeMonthAvgSales": "916.673333"
                                },
                                {
                                    "Category": "Accessories",
                                    "TransactionMonth": "2019-06-30",
                                    "TotalSales": "1100.73",
                                    "MovingThreeMonthAvgSales": "1032.756666"
                                },
                                {
                                    "Category": "Accessories",
                                    "TransactionMonth": "2019-07-31",
                                    "TotalSales": "1003.34",
                                    "MovingThreeMonthAvgSales": "1066.023333"
                                },
                                {
                                    "Category": "Accessories",
                                    "TransactionMonth": "2019-08-31",
                                    "TotalSales": "940.90",
                                    "MovingThreeMonthAvgSales": "1014.990000"
                                },
                                {
                                    "Category": "Accessories",
                                    "TransactionMonth": "2019-09-30",
                                    "TotalSales": "1073.68",
                                    "MovingThreeMonthAvgSales": "1005.973333"
                                },
                                {
                                    "Category": "Accessories",
                                    "TransactionMonth": "2019-10-31",
                                    "TotalSales": "1048.93",
                                    "MovingThreeMonthAvgSales": "1021.170000"
                                },
                                {
                                    "Category": "Accessories",
                                    "TransactionMonth": "2019-11-30",
                                    "TotalSales": "978.33",
                                    "MovingThreeMonthAvgSales": "1033.646666"
                                },
                                {
                                    "Category": "Accessories",
                                    "TransactionMonth": "2019-12-31",
                                    "TotalSales": "1116.51",
                                    "MovingThreeMonthAvgSales": "1047.923333"
                                },
                                {
                                    "Category": "Accessories",
                                    "TransactionMonth": "2020-01-31",
                                    "TotalSales": "1175.60",
                                    "MovingThreeMonthAvgSales": "1090.146666"
                                },
                                {
                                    "Category": "Accessories",
                                    "TransactionMonth": "2020-02-29",
                                    "TotalSales": "738.12",
                                    "MovingThreeMonthAvgSales": "1010.076666"
                                },
                                {
                                    "Category": "Accessories",
                                    "TransactionMonth": "2020-03-31",
                                    "TotalSales": "1138.63",
                                    "MovingThreeMonthAvgSales": "1017.450000"
                                },
                                {
                                    "Category": "Accessories",
                                    "TransactionMonth": "2020-04-30",
                                    "TotalSales": "570.15",
                                    "MovingThreeMonthAvgSales": "815.633333"
                                },
                                {
                                    "Category": "Accessories",
                                    "TransactionMonth": "2020-05-31",
                                    "TotalSales": "642.02",
                                    "MovingThreeMonthAvgSales": "783.600000"
                                },
                                {
                                    "Category": "Accessories",
                                    "TransactionMonth": "2020-06-30",
                                    "TotalSales": "630.15",
                                    "MovingThreeMonthAvgSales": "614.106666"
                                },
                                {
                                    "Category": "Accessories",
                                    "TransactionMonth": "2020-07-31",
                                    "TotalSales": "1432.05",
                                    "MovingThreeMonthAvgSales": "901.406666"
                                },
                                {
                                    "Category": "Accessories",
                                    "TransactionMonth": "2020-08-31",
                                    "TotalSales": "1566.48",
                                    "MovingThreeMonthAvgSales": "1209.560000"
                                },
                                {
                                    "Category": "Accessories",
                                    "TransactionMonth": "2020-09-30",
                                    "TotalSales": "1527.68",
                                    "MovingThreeMonthAvgSales": "1508.736666"
                                },
                                {
                                    "Category": "Accessories",
                                    "TransactionMonth": "2020-10-31",
                                    "TotalSales": "1507.44",
                                    "MovingThreeMonthAvgSales": "1533.866666"
                                },
                                {
                                    "Category": "Accessories",
                                    "TransactionMonth": "2020-11-30",
                                    "TotalSales": "1898.25",
                                    "MovingThreeMonthAvgSales": "1644.456666"
                                },
                                {
                                    "Category": "Accessories",
                                    "TransactionMonth": "2020-12-31",
                                    "TotalSales": "2543.22",
                                    "MovingThreeMonthAvgSales": "1982.970000"
                                },
                                {
                                    "Category": "Accessories",
                                    "TransactionMonth": "2021-01-31",
                                    "TotalSales": "2785.38",
                                    "MovingThreeMonthAvgSales": "2408.950000"
                                },
                                {
                                    "Category": "Accessories",
                                    "TransactionMonth": "2021-02-28",
                                    "TotalSales": "2468.48",
                                    "MovingThreeMonthAvgSales": "2599.026666"
                                },
                                {
                                    "Category": "Accessories",
                                    "TransactionMonth": "2021-03-31",
                                    "TotalSales": "1980.07",
                                    "MovingThreeMonthAvgSales": "2411.310000"
                                },
                                {
                                    "Category": "Accessories",
                                    "TransactionMonth": "2021-04-30",
                                    "TotalSales": "2046.72",
                                    "MovingThreeMonthAvgSales": "2165.090000"
                                },
                                {
                                    "Category": "Accessories",
                                    "TransactionMonth": "2021-05-31",
                                    "TotalSales": "1851.93",
                                    "MovingThreeMonthAvgSales": "1959.573333"
                                },
                                {
                                    "Category": "Accessories",
                                    "TransactionMonth": "2021-06-30",
                                    "TotalSales": "1406.68",
                                    "MovingThreeMonthAvgSales": "1768.443333"
                                },
                                {
                                    "Category": "Accessories",
                                    "TransactionMonth": "2021-07-31",
                                    "TotalSales": "1388.45",
                                    "MovingThreeMonthAvgSales": "1549.020000"
                                },
                                {
                                    "Category": "Accessories",
                                    "TransactionMonth": "2021-08-31",
                                    "TotalSales": "1487.14",
                                    "MovingThreeMonthAvgSales": "1427.423333"
                                },
                                {
                                    "Category": "Accessories",
                                    "TransactionMonth": "2021-09-30",
                                    "TotalSales": "1523.85",
                                    "MovingThreeMonthAvgSales": "1466.480000"
                                },
                                {
                                    "Category": "Accessories",
                                    "TransactionMonth": "2021-10-31",
                                    "TotalSales": "1465.52",
                                    "MovingThreeMonthAvgSales": "1492.170000"
                                },
                                {
                                    "Category": "Accessories",
                                    "TransactionMonth": "2021-11-30",
                                    "TotalSales": "1460.29",
                                    "MovingThreeMonthAvgSales": "1483.220000"
                                },
                                {
                                    "Category": "Accessories",
                                    "TransactionMonth": "2021-12-31",
                                    "TotalSales": "2097.21",
                                    "MovingThreeMonthAvgSales": "1674.340000"
                                },
                                {
                                    "Category": "Body Care",
                                    "TransactionMonth": "2019-02-28",
                                    "TotalSales": "2624.92",
                                    "MovingThreeMonthAvgSales": "2624.920000"
                                },
                                {
                                    "Category": "Body Care",
                                    "TransactionMonth": "2019-03-31",
                                    "TotalSales": "2544.82",
                                    "MovingThreeMonthAvgSales": "2584.870000"
                                },
                                {
                                    "Category": "Body Care",
                                    "TransactionMonth": "2019-04-30",
                                    "TotalSales": "2429.24",
                                    "MovingThreeMonthAvgSales": "2532.993333"
                                },
                                {
                                    "Category": "Body Care",
                                    "TransactionMonth": "2019-05-31",
                                    "TotalSales": "3537.36",
                                    "MovingThreeMonthAvgSales": "2837.140000"
                                },
                                {
                                    "Category": "Body Care",
                                    "TransactionMonth": "2019-06-30",
                                    "TotalSales": "3367.33",
                                    "MovingThreeMonthAvgSales": "3111.310000"
                                },
                                {
                                    "Category": "Body Care",
                                    "TransactionMonth": "2019-07-31",
                                    "TotalSales": "3557.08",
                                    "MovingThreeMonthAvgSales": "3487.256666"
                                },
                                {
                                    "Category": "Body Care",
                                    "TransactionMonth": "2019-08-31",
                                    "TotalSales": "3914.50",
                                    "MovingThreeMonthAvgSales": "3612.970000"
                                },
                                {
                                    "Category": "Body Care",
                                    "TransactionMonth": "2019-09-30",
                                    "TotalSales": "3686.71",
                                    "MovingThreeMonthAvgSales": "3719.430000"
                                },
                                {
                                    "Category": "Body Care",
                                    "TransactionMonth": "2019-10-31",
                                    "TotalSales": "3707.63",
                                    "MovingThreeMonthAvgSales": "3769.613333"
                                },
                                {
                                    "Category": "Body Care",
                                    "TransactionMonth": "2019-11-30",
                                    "TotalSales": "4093.80",
                                    "MovingThreeMonthAvgSales": "3829.380000"
                                },
                                {
                                    "Category": "Body Care",
                                    "TransactionMonth": "2019-12-31",
                                    "TotalSales": "3888.16",
                                    "MovingThreeMonthAvgSales": "3896.530000"
                                },
                                {
                                    "Category": "Body Care",
                                    "TransactionMonth": "2020-01-31",
                                    "TotalSales": "5801.42",
                                    "MovingThreeMonthAvgSales": "4594.460000"
                                },
                                {
                                    "Category": "Body Care",
                                    "TransactionMonth": "2020-02-29",
                                    "TotalSales": "4493.73",
                                    "MovingThreeMonthAvgSales": "4727.770000"
                                },
                                {
                                    "Category": "Body Care",
                                    "TransactionMonth": "2020-03-31",
                                    "TotalSales": "4926.80",
                                    "MovingThreeMonthAvgSales": "5073.983333"
                                },
                                {
                                    "Category": "Body Care",
                                    "TransactionMonth": "2020-04-30",
                                    "TotalSales": "4239.50",
                                    "MovingThreeMonthAvgSales": "4553.343333"
                                },
                                {
                                    "Category": "Body Care",
                                    "TransactionMonth": "2020-05-31",
                                    "TotalSales": "4238.19",
                                    "MovingThreeMonthAvgSales": "4468.163333"
                                },
                                {
                                    "Category": "Body Care",
                                    "TransactionMonth": "2020-06-30",
                                    "TotalSales": "4493.05",
                                    "MovingThreeMonthAvgSales": "4323.580000"
                                },
                                {
                                    "Category": "Body Care",
                                    "TransactionMonth": "2020-07-31",
                                    "TotalSales": "5701.65",
                                    "MovingThreeMonthAvgSales": "4810.963333"
                                },
                                {
                                    "Category": "Body Care",
                                    "TransactionMonth": "2020-08-31",
                                    "TotalSales": "6862.75",
                                    "MovingThreeMonthAvgSales": "5685.816666"
                                },
                                {
                                    "Category": "Body Care",
                                    "TransactionMonth": "2020-09-30",
                                    "TotalSales": "6678.22",
                                    "MovingThreeMonthAvgSales": "6414.206666"
                                },
                                {
                                    "Category": "Body Care",
                                    "TransactionMonth": "2020-10-31",
                                    "TotalSales": "6423.07",
                                    "MovingThreeMonthAvgSales": "6654.680000"
                                },
                                {
                                    "Category": "Body Care",
                                    "TransactionMonth": "2020-11-30",
                                    "TotalSales": "6125.61",
                                    "MovingThreeMonthAvgSales": "6408.966666"
                                },
                                {
                                    "Category": "Body Care",
                                    "TransactionMonth": "2020-12-31",
                                    "TotalSales": "6859.50",
                                    "MovingThreeMonthAvgSales": "6469.393333"
                                },
                                {
                                    "Category": "Body Care",
                                    "TransactionMonth": "2021-01-31",
                                    "TotalSales": "6557.27",
                                    "MovingThreeMonthAvgSales": "6514.126666"
                                },
                                {
                                    "Category": "Body Care",
                                    "TransactionMonth": "2021-02-28",
                                    "TotalSales": "6766.08",
                                    "MovingThreeMonthAvgSales": "6727.616666"
                                },
                                {
                                    "Category": "Body Care",
                                    "TransactionMonth": "2021-03-31",
                                    "TotalSales": "6170.15",
                                    "MovingThreeMonthAvgSales": "6497.833333"
                                },
                                {
                                    "Category": "Body Care",
                                    "TransactionMonth": "2021-04-30",
                                    "TotalSales": "6472.60",
                                    "MovingThreeMonthAvgSales": "6469.610000"
                                },
                                {
                                    "Category": "Body Care",
                                    "TransactionMonth": "2021-05-31",
                                    "TotalSales": "6558.58",
                                    "MovingThreeMonthAvgSales": "6400.443333"
                                },
                                {
                                    "Category": "Body Care",
                                    "TransactionMonth": "2021-06-30",
                                    "TotalSales": "6123.15",
                                    "MovingThreeMonthAvgSales": "6384.776666"
                                },
                                {
                                    "Category": "Body Care",
                                    "TransactionMonth": "2021-07-31",
                                    "TotalSales": "6465.81",
                                    "MovingThreeMonthAvgSales": "6382.513333"
                                },
                                {
                                    "Category": "Body Care",
                                    "TransactionMonth": "2021-08-31",
                                    "TotalSales": "6614.70",
                                    "MovingThreeMonthAvgSales": "6401.220000"
                                },
                                {
                                    "Category": "Body Care",
                                    "TransactionMonth": "2021-09-30",
                                    "TotalSales": "4886.87",
                                    "MovingThreeMonthAvgSales": "5989.126666"
                                },
                                {
                                    "Category": "Body Care",
                                    "TransactionMonth": "2021-10-31",
                                    "TotalSales": "5489.42",
                                    "MovingThreeMonthAvgSales": "5663.663333"
                                },
                                {
                                    "Category": "Body Care",
                                    "TransactionMonth": "2021-11-30",
                                    "TotalSales": "4964.23",
                                    "MovingThreeMonthAvgSales": "5113.506666"
                                },
                                {
                                    "Category": "Body Care",
                                    "TransactionMonth": "2021-12-31",
                                    "TotalSales": "4703.29",
                                    "MovingThreeMonthAvgSales": "5052.313333"
                                },
                                {
                                    "Category": "Cleaning Supply",
                                    "TransactionMonth": "2019-02-28",
                                    "TotalSales": "733.40",
                                    "MovingThreeMonthAvgSales": "733.400000"
                                },
                                {
                                    "Category": "Cleaning Supply",
                                    "TransactionMonth": "2019-03-31",
                                    "TotalSales": "1360.54",
                                    "MovingThreeMonthAvgSales": "1046.970000"
                                },
                                {
                                    "Category": "Cleaning Supply",
                                    "TransactionMonth": "2019-04-30",
                                    "TotalSales": "1173.74",
                                    "MovingThreeMonthAvgSales": "1089.226666"
                                },
                                {
                                    "Category": "Cleaning Supply",
                                    "TransactionMonth": "2019-05-31",
                                    "TotalSales": "1233.51",
                                    "MovingThreeMonthAvgSales": "1255.930000"
                                },
                                {
                                    "Category": "Cleaning Supply",
                                    "TransactionMonth": "2019-06-30",
                                    "TotalSales": "1768.14",
                                    "MovingThreeMonthAvgSales": "1391.796666"
                                },
                                {
                                    "Category": "Cleaning Supply",
                                    "TransactionMonth": "2019-07-31",
                                    "TotalSales": "2022.01",
                                    "MovingThreeMonthAvgSales": "1674.553333"
                                },
                                {
                                    "Category": "Cleaning Supply",
                                    "TransactionMonth": "2019-08-31",
                                    "TotalSales": "2428.41",
                                    "MovingThreeMonthAvgSales": "2072.853333"
                                },
                                {
                                    "Category": "Cleaning Supply",
                                    "TransactionMonth": "2019-09-30",
                                    "TotalSales": "2215.92",
                                    "MovingThreeMonthAvgSales": "2222.113333"
                                },
                                {
                                    "Category": "Cleaning Supply",
                                    "TransactionMonth": "2019-10-31",
                                    "TotalSales": "2264.19",
                                    "MovingThreeMonthAvgSales": "2302.840000"
                                },
                                {
                                    "Category": "Cleaning Supply",
                                    "TransactionMonth": "2019-11-30",
                                    "TotalSales": "1663.22",
                                    "MovingThreeMonthAvgSales": "2047.776666"
                                },
                                {
                                    "Category": "Cleaning Supply",
                                    "TransactionMonth": "2019-12-31",
                                    "TotalSales": "2002.12",
                                    "MovingThreeMonthAvgSales": "1976.510000"
                                },
                                {
                                    "Category": "Cleaning Supply",
                                    "TransactionMonth": "2020-01-31",
                                    "TotalSales": "3001.68",
                                    "MovingThreeMonthAvgSales": "2222.340000"
                                },
                                {
                                    "Category": "Cleaning Supply",
                                    "TransactionMonth": "2020-02-29",
                                    "TotalSales": "2642.87",
                                    "MovingThreeMonthAvgSales": "2548.890000"
                                },
                                {
                                    "Category": "Cleaning Supply",
                                    "TransactionMonth": "2020-03-31",
                                    "TotalSales": "2385.58",
                                    "MovingThreeMonthAvgSales": "2676.710000"
                                },
                                {
                                    "Category": "Cleaning Supply",
                                    "TransactionMonth": "2020-04-30",
                                    "TotalSales": "1239.47",
                                    "MovingThreeMonthAvgSales": "2089.306666"
                                },
                                {
                                    "Category": "Cleaning Supply",
                                    "TransactionMonth": "2020-05-31",
                                    "TotalSales": "2593.54",
                                    "MovingThreeMonthAvgSales": "2072.863333"
                                },
                                {
                                    "Category": "Cleaning Supply",
                                    "TransactionMonth": "2020-06-30",
                                    "TotalSales": "2181.28",
                                    "MovingThreeMonthAvgSales": "2004.763333"
                                },
                                {
                                    "Category": "Cleaning Supply",
                                    "TransactionMonth": "2020-07-31",
                                    "TotalSales": "2674.72",
                                    "MovingThreeMonthAvgSales": "2483.180000"
                                },
                                {
                                    "Category": "Cleaning Supply",
                                    "TransactionMonth": "2020-08-31",
                                    "TotalSales": "2940.23",
                                    "MovingThreeMonthAvgSales": "2598.743333"
                                },
                                {
                                    "Category": "Cleaning Supply",
                                    "TransactionMonth": "2020-09-30",
                                    "TotalSales": "3109.56",
                                    "MovingThreeMonthAvgSales": "2908.170000"
                                },
                                {
                                    "Category": "Cleaning Supply",
                                    "TransactionMonth": "2020-10-31",
                                    "TotalSales": "3535.40",
                                    "MovingThreeMonthAvgSales": "3195.063333"
                                },
                                {
                                    "Category": "Cleaning Supply",
                                    "TransactionMonth": "2020-11-30",
                                    "TotalSales": "3261.33",
                                    "MovingThreeMonthAvgSales": "3302.096666"
                                },
                                {
                                    "Category": "Cleaning Supply",
                                    "TransactionMonth": "2020-12-31",
                                    "TotalSales": "3427.78",
                                    "MovingThreeMonthAvgSales": "3408.170000"
                                },
                                {
                                    "Category": "Cleaning Supply",
                                    "TransactionMonth": "2021-01-31",
                                    "TotalSales": "4001.36",
                                    "MovingThreeMonthAvgSales": "3563.490000"
                                },
                                {
                                    "Category": "Cleaning Supply",
                                    "TransactionMonth": "2021-02-28",
                                    "TotalSales": "3959.43",
                                    "MovingThreeMonthAvgSales": "3796.190000"
                                },
                                {
                                    "Category": "Cleaning Supply",
                                    "TransactionMonth": "2021-03-31",
                                    "TotalSales": "3453.71",
                                    "MovingThreeMonthAvgSales": "3804.833333"
                                },
                                {
                                    "Category": "Cleaning Supply",
                                    "TransactionMonth": "2021-04-30",
                                    "TotalSales": "4047.12",
                                    "MovingThreeMonthAvgSales": "3820.086666"
                                },
                                {
                                    "Category": "Cleaning Supply",
                                    "TransactionMonth": "2021-05-31",
                                    "TotalSales": "4106.59",
                                    "MovingThreeMonthAvgSales": "3869.140000"
                                },
                                {
                                    "Category": "Cleaning Supply",
                                    "TransactionMonth": "2021-06-30",
                                    "TotalSales": "4184.75",
                                    "MovingThreeMonthAvgSales": "4112.820000"
                                },
                                {
                                    "Category": "Cleaning Supply",
                                    "TransactionMonth": "2021-07-31",
                                    "TotalSales": "3650.41",
                                    "MovingThreeMonthAvgSales": "3980.583333"
                                },
                                {
                                    "Category": "Cleaning Supply",
                                    "TransactionMonth": "2021-08-31",
                                    "TotalSales": "4190.89",
                                    "MovingThreeMonthAvgSales": "4008.683333"
                                },
                                {
                                    "Category": "Cleaning Supply",
                                    "TransactionMonth": "2021-09-30",
                                    "TotalSales": "3221.26",
                                    "MovingThreeMonthAvgSales": "3687.520000"
                                },
                                {
                                    "Category": "Cleaning Supply",
                                    "TransactionMonth": "2021-10-31",
                                    "TotalSales": "4286.06",
                                    "MovingThreeMonthAvgSales": "3899.403333"
                                },
                                {
                                    "Category": "Cleaning Supply",
                                    "TransactionMonth": "2021-11-30",
                                    "TotalSales": "3769.88",
                                    "MovingThreeMonthAvgSales": "3759.066666"
                                },
                                {
                                    "Category": "Cleaning Supply",
                                    "TransactionMonth": "2021-12-31",
                                    "TotalSales": "3647.90",
                                    "MovingThreeMonthAvgSales": "3901.280000"
                                },
                                {
                                    "Category": "Containers",
                                    "TransactionMonth": "2019-02-28",
                                    "TotalSales": "637.33",
                                    "MovingThreeMonthAvgSales": "637.330000"
                                },
                                {
                                    "Category": "Containers",
                                    "TransactionMonth": "2019-03-31",
                                    "TotalSales": "1156.01",
                                    "MovingThreeMonthAvgSales": "896.670000"
                                },
                                {
                                    "Category": "Containers",
                                    "TransactionMonth": "2019-04-30",
                                    "TotalSales": "660.40",
                                    "MovingThreeMonthAvgSales": "817.913333"
                                },
                                {
                                    "Category": "Containers",
                                    "TransactionMonth": "2019-05-31",
                                    "TotalSales": "852.90",
                                    "MovingThreeMonthAvgSales": "889.770000"
                                },
                                {
                                    "Category": "Containers",
                                    "TransactionMonth": "2019-06-30",
                                    "TotalSales": "1386.14",
                                    "MovingThreeMonthAvgSales": "966.480000"
                                },
                                {
                                    "Category": "Containers",
                                    "TransactionMonth": "2019-07-31",
                                    "TotalSales": "848.64",
                                    "MovingThreeMonthAvgSales": "1029.226666"
                                },
                                {
                                    "Category": "Containers",
                                    "TransactionMonth": "2019-08-31",
                                    "TotalSales": "1093.52",
                                    "MovingThreeMonthAvgSales": "1109.433333"
                                },
                                {
                                    "Category": "Containers",
                                    "TransactionMonth": "2019-09-30",
                                    "TotalSales": "922.43",
                                    "MovingThreeMonthAvgSales": "954.863333"
                                },
                                {
                                    "Category": "Containers",
                                    "TransactionMonth": "2019-10-31",
                                    "TotalSales": "996.35",
                                    "MovingThreeMonthAvgSales": "1004.100000"
                                },
                                {
                                    "Category": "Containers",
                                    "TransactionMonth": "2019-11-30",
                                    "TotalSales": "1030.94",
                                    "MovingThreeMonthAvgSales": "983.240000"
                                },
                                {
                                    "Category": "Containers",
                                    "TransactionMonth": "2019-12-31",
                                    "TotalSales": "2138.31",
                                    "MovingThreeMonthAvgSales": "1388.533333"
                                },
                                {
                                    "Category": "Containers",
                                    "TransactionMonth": "2020-01-31",
                                    "TotalSales": "1307.55",
                                    "MovingThreeMonthAvgSales": "1492.266666"
                                },
                                {
                                    "Category": "Containers",
                                    "TransactionMonth": "2020-02-29",
                                    "TotalSales": "898.61",
                                    "MovingThreeMonthAvgSales": "1448.156666"
                                },
                                {
                                    "Category": "Containers",
                                    "TransactionMonth": "2020-03-31",
                                    "TotalSales": "1159.11",
                                    "MovingThreeMonthAvgSales": "1121.756666"
                                },
                                {
                                    "Category": "Containers",
                                    "TransactionMonth": "2020-04-30",
                                    "TotalSales": "766.65",
                                    "MovingThreeMonthAvgSales": "941.456666"
                                },
                                {
                                    "Category": "Containers",
                                    "TransactionMonth": "2020-05-31",
                                    "TotalSales": "1168.99",
                                    "MovingThreeMonthAvgSales": "1031.583333"
                                },
                                {
                                    "Category": "Containers",
                                    "TransactionMonth": "2020-06-30",
                                    "TotalSales": "645.16",
                                    "MovingThreeMonthAvgSales": "860.266666"
                                },
                                {
                                    "Category": "Containers",
                                    "TransactionMonth": "2020-07-31",
                                    "TotalSales": "1210.43",
                                    "MovingThreeMonthAvgSales": "1008.193333"
                                },
                                {
                                    "Category": "Containers",
                                    "TransactionMonth": "2020-08-31",
                                    "TotalSales": "1149.98",
                                    "MovingThreeMonthAvgSales": "1001.856666"
                                },
                                {
                                    "Category": "Containers",
                                    "TransactionMonth": "2020-09-30",
                                    "TotalSales": "927.84",
                                    "MovingThreeMonthAvgSales": "1096.083333"
                                },
                                {
                                    "Category": "Containers",
                                    "TransactionMonth": "2020-10-31",
                                    "TotalSales": "743.79",
                                    "MovingThreeMonthAvgSales": "940.536666"
                                },
                                {
                                    "Category": "Containers",
                                    "TransactionMonth": "2020-11-30",
                                    "TotalSales": "829.73",
                                    "MovingThreeMonthAvgSales": "833.786666"
                                },
                                {
                                    "Category": "Containers",
                                    "TransactionMonth": "2020-12-31",
                                    "TotalSales": "1355.86",
                                    "MovingThreeMonthAvgSales": "976.460000"
                                },
                                {
                                    "Category": "Containers",
                                    "TransactionMonth": "2021-01-31",
                                    "TotalSales": "997.27",
                                    "MovingThreeMonthAvgSales": "1060.953333"
                                },
                                {
                                    "Category": "Containers",
                                    "TransactionMonth": "2021-02-28",
                                    "TotalSales": "851.27",
                                    "MovingThreeMonthAvgSales": "1068.133333"
                                },
                                {
                                    "Category": "Containers",
                                    "TransactionMonth": "2021-03-31",
                                    "TotalSales": "635.11",
                                    "MovingThreeMonthAvgSales": "827.883333"
                                },
                                {
                                    "Category": "Containers",
                                    "TransactionMonth": "2021-04-30",
                                    "TotalSales": "838.67",
                                    "MovingThreeMonthAvgSales": "775.016666"
                                },
                                {
                                    "Category": "Containers",
                                    "TransactionMonth": "2021-05-31",
                                    "TotalSales": "708.23",
                                    "MovingThreeMonthAvgSales": "727.336666"
                                },
                                {
                                    "Category": "Containers",
                                    "TransactionMonth": "2021-06-30",
                                    "TotalSales": "609.19",
                                    "MovingThreeMonthAvgSales": "718.696666"
                                },
                                {
                                    "Category": "Containers",
                                    "TransactionMonth": "2021-07-31",
                                    "TotalSales": "649.88",
                                    "MovingThreeMonthAvgSales": "655.766666"
                                },
                                {
                                    "Category": "Containers",
                                    "TransactionMonth": "2021-08-31",
                                    "TotalSales": "606.00",
                                    "MovingThreeMonthAvgSales": "621.690000"
                                },
                                {
                                    "Category": "Containers",
                                    "TransactionMonth": "2021-09-30",
                                    "TotalSales": "503.17",
                                    "MovingThreeMonthAvgSales": "586.350000"
                                },
                                {
                                    "Category": "Containers",
                                    "TransactionMonth": "2021-10-31",
                                    "TotalSales": "637.18",
                                    "MovingThreeMonthAvgSales": "582.116666"
                                },
                                {
                                    "Category": "Containers",
                                    "TransactionMonth": "2021-11-30",
                                    "TotalSales": "559.01",
                                    "MovingThreeMonthAvgSales": "566.453333"
                                },
                                {
                                    "Category": "Containers",
                                    "TransactionMonth": "2021-12-31",
                                    "TotalSales": "759.98",
                                    "MovingThreeMonthAvgSales": "652.056666"
                                },
                                {
                                    "Category": "Events",
                                    "TransactionMonth": "2019-05-31",
                                    "TotalSales": "60.00",
                                    "MovingThreeMonthAvgSales": "60.000000"
                                },
                                {
                                    "Category": "Fresh Produce",
                                    "TransactionMonth": "2019-02-28",
                                    "TotalSales": "71.30",
                                    "MovingThreeMonthAvgSales": "71.300000"
                                },
                                {
                                    "Category": "Fresh Produce",
                                    "TransactionMonth": "2019-03-31",
                                    "TotalSales": "56.50",
                                    "MovingThreeMonthAvgSales": "63.900000"
                                },
                                {
                                    "Category": "Fresh Produce",
                                    "TransactionMonth": "2019-05-31",
                                    "TotalSales": "416.55",
                                    "MovingThreeMonthAvgSales": "181.450000"
                                },
                                {
                                    "Category": "Fresh Produce",
                                    "TransactionMonth": "2019-06-30",
                                    "TotalSales": "657.81",
                                    "MovingThreeMonthAvgSales": "376.953333"
                                },
                                {
                                    "Category": "Fresh Produce",
                                    "TransactionMonth": "2019-07-31",
                                    "TotalSales": "632.93",
                                    "MovingThreeMonthAvgSales": "569.096666"
                                },
                                {
                                    "Category": "Fresh Produce",
                                    "TransactionMonth": "2019-08-31",
                                    "TotalSales": "547.56",
                                    "MovingThreeMonthAvgSales": "612.766666"
                                },
                                {
                                    "Category": "Fresh Produce",
                                    "TransactionMonth": "2019-09-30",
                                    "TotalSales": "735.59",
                                    "MovingThreeMonthAvgSales": "638.693333"
                                },
                                {
                                    "Category": "Fresh Produce",
                                    "TransactionMonth": "2019-10-31",
                                    "TotalSales": "598.44",
                                    "MovingThreeMonthAvgSales": "627.196666"
                                },
                                {
                                    "Category": "Fresh Produce",
                                    "TransactionMonth": "2019-11-30",
                                    "TotalSales": "870.51",
                                    "MovingThreeMonthAvgSales": "734.846666"
                                },
                                {
                                    "Category": "Fresh Produce",
                                    "TransactionMonth": "2019-12-31",
                                    "TotalSales": "790.53",
                                    "MovingThreeMonthAvgSales": "753.160000"
                                },
                                {
                                    "Category": "Fresh Produce",
                                    "TransactionMonth": "2020-01-31",
                                    "TotalSales": "614.23",
                                    "MovingThreeMonthAvgSales": "758.423333"
                                },
                                {
                                    "Category": "Fresh Produce",
                                    "TransactionMonth": "2020-02-29",
                                    "TotalSales": "567.50",
                                    "MovingThreeMonthAvgSales": "657.420000"
                                },
                                {
                                    "Category": "Fresh Produce",
                                    "TransactionMonth": "2020-03-31",
                                    "TotalSales": "1024.78",
                                    "MovingThreeMonthAvgSales": "735.503333"
                                },
                                {
                                    "Category": "Fresh Produce",
                                    "TransactionMonth": "2020-04-30",
                                    "TotalSales": "968.89",
                                    "MovingThreeMonthAvgSales": "853.723333"
                                },
                                {
                                    "Category": "Fresh Produce",
                                    "TransactionMonth": "2020-05-31",
                                    "TotalSales": "1421.66",
                                    "MovingThreeMonthAvgSales": "1138.443333"
                                },
                                {
                                    "Category": "Fresh Produce",
                                    "TransactionMonth": "2020-06-30",
                                    "TotalSales": "1442.75",
                                    "MovingThreeMonthAvgSales": "1277.766666"
                                },
                                {
                                    "Category": "Fresh Produce",
                                    "TransactionMonth": "2020-07-31",
                                    "TotalSales": "1522.19",
                                    "MovingThreeMonthAvgSales": "1462.200000"
                                },
                                {
                                    "Category": "Fresh Produce",
                                    "TransactionMonth": "2020-08-31",
                                    "TotalSales": "1888.23",
                                    "MovingThreeMonthAvgSales": "1617.723333"
                                },
                                {
                                    "Category": "Fresh Produce",
                                    "TransactionMonth": "2020-09-30",
                                    "TotalSales": "1521.18",
                                    "MovingThreeMonthAvgSales": "1643.866666"
                                },
                                {
                                    "Category": "Fresh Produce",
                                    "TransactionMonth": "2020-10-31",
                                    "TotalSales": "1175.59",
                                    "MovingThreeMonthAvgSales": "1528.333333"
                                },
                                {
                                    "Category": "Fresh Produce",
                                    "TransactionMonth": "2020-11-30",
                                    "TotalSales": "1233.42",
                                    "MovingThreeMonthAvgSales": "1310.063333"
                                },
                                {
                                    "Category": "Fresh Produce",
                                    "TransactionMonth": "2020-12-31",
                                    "TotalSales": "1304.09",
                                    "MovingThreeMonthAvgSales": "1237.700000"
                                },
                                {
                                    "Category": "Fresh Produce",
                                    "TransactionMonth": "2021-01-31",
                                    "TotalSales": "1341.94",
                                    "MovingThreeMonthAvgSales": "1293.150000"
                                },
                                {
                                    "Category": "Fresh Produce",
                                    "TransactionMonth": "2021-02-28",
                                    "TotalSales": "1185.98",
                                    "MovingThreeMonthAvgSales": "1277.336666"
                                },
                                {
                                    "Category": "Fresh Produce",
                                    "TransactionMonth": "2021-03-31",
                                    "TotalSales": "1220.25",
                                    "MovingThreeMonthAvgSales": "1249.390000"
                                },
                                {
                                    "Category": "Fresh Produce",
                                    "TransactionMonth": "2021-04-30",
                                    "TotalSales": "1312.48",
                                    "MovingThreeMonthAvgSales": "1239.570000"
                                },
                                {
                                    "Category": "Fresh Produce",
                                    "TransactionMonth": "2021-05-31",
                                    "TotalSales": "1262.85",
                                    "MovingThreeMonthAvgSales": "1265.193333"
                                },
                                {
                                    "Category": "Fresh Produce",
                                    "TransactionMonth": "2021-06-30",
                                    "TotalSales": "1102.66",
                                    "MovingThreeMonthAvgSales": "1225.996666"
                                },
                                {
                                    "Category": "Fresh Produce",
                                    "TransactionMonth": "2021-07-31",
                                    "TotalSales": "827.30",
                                    "MovingThreeMonthAvgSales": "1064.270000"
                                },
                                {
                                    "Category": "Fresh Produce",
                                    "TransactionMonth": "2021-08-31",
                                    "TotalSales": "1080.05",
                                    "MovingThreeMonthAvgSales": "1003.336666"
                                },
                                {
                                    "Category": "Fresh Produce",
                                    "TransactionMonth": "2021-09-30",
                                    "TotalSales": "653.43",
                                    "MovingThreeMonthAvgSales": "853.593333"
                                },
                                {
                                    "Category": "Fresh Produce",
                                    "TransactionMonth": "2021-10-31",
                                    "TotalSales": "700.10",
                                    "MovingThreeMonthAvgSales": "811.193333"
                                },
                                {
                                    "Category": "Fresh Produce",
                                    "TransactionMonth": "2021-11-30",
                                    "TotalSales": "448.16",
                                    "MovingThreeMonthAvgSales": "600.563333"
                                },
                                {
                                    "Category": "Fresh Produce",
                                    "TransactionMonth": "2021-12-31",
                                    "TotalSales": "542.99",
                                    "MovingThreeMonthAvgSales": "563.750000"
                                },
                                {
                                    "Category": "Gift Card",
                                    "TransactionMonth": "2019-11-30",
                                    "TotalSales": "235.00",
                                    "MovingThreeMonthAvgSales": "235.000000"
                                },
                                {
                                    "Category": "Gift Card",
                                    "TransactionMonth": "2020-02-29",
                                    "TotalSales": "50.00",
                                    "MovingThreeMonthAvgSales": "142.500000"
                                },
                                {
                                    "Category": "Gift Card",
                                    "TransactionMonth": "2020-03-31",
                                    "TotalSales": "235.00",
                                    "MovingThreeMonthAvgSales": "173.333333"
                                },
                                {
                                    "Category": "Gift Card",
                                    "TransactionMonth": "2020-05-31",
                                    "TotalSales": "233.00",
                                    "MovingThreeMonthAvgSales": "172.666666"
                                },
                                {
                                    "Category": "Gift Card",
                                    "TransactionMonth": "2020-06-30",
                                    "TotalSales": "212.78",
                                    "MovingThreeMonthAvgSales": "226.926666"
                                },
                                {
                                    "Category": "Gift Card",
                                    "TransactionMonth": "2020-07-31",
                                    "TotalSales": "30.00",
                                    "MovingThreeMonthAvgSales": "158.593333"
                                },
                                {
                                    "Category": "Gift Card",
                                    "TransactionMonth": "2020-08-31",
                                    "TotalSales": "129.77",
                                    "MovingThreeMonthAvgSales": "124.183333"
                                },
                                {
                                    "Category": "Gift Card",
                                    "TransactionMonth": "2020-09-30",
                                    "TotalSales": "83.25",
                                    "MovingThreeMonthAvgSales": "81.006666"
                                },
                                {
                                    "Category": "Gift Card",
                                    "TransactionMonth": "2020-10-31",
                                    "TotalSales": "100.00",
                                    "MovingThreeMonthAvgSales": "104.340000"
                                },
                                {
                                    "Category": "Gift Card",
                                    "TransactionMonth": "2020-11-30",
                                    "TotalSales": "167.10",
                                    "MovingThreeMonthAvgSales": "116.783333"
                                },
                                {
                                    "Category": "Gift Card",
                                    "TransactionMonth": "2020-12-31",
                                    "TotalSales": "495.00",
                                    "MovingThreeMonthAvgSales": "254.033333"
                                },
                                {
                                    "Category": "Gift Card",
                                    "TransactionMonth": "2021-01-31",
                                    "TotalSales": "351.95",
                                    "MovingThreeMonthAvgSales": "338.016666"
                                },
                                {
                                    "Category": "Gift Card",
                                    "TransactionMonth": "2021-02-28",
                                    "TotalSales": "248.89",
                                    "MovingThreeMonthAvgSales": "365.280000"
                                },
                                {
                                    "Category": "Gift Card",
                                    "TransactionMonth": "2021-03-31",
                                    "TotalSales": "48.33",
                                    "MovingThreeMonthAvgSales": "216.390000"
                                },
                                {
                                    "Category": "Gift Card",
                                    "TransactionMonth": "2021-04-30",
                                    "TotalSales": "54.35",
                                    "MovingThreeMonthAvgSales": "117.190000"
                                },
                                {
                                    "Category": "Gift Card",
                                    "TransactionMonth": "2021-05-31",
                                    "TotalSales": "265.00",
                                    "MovingThreeMonthAvgSales": "122.560000"
                                },
                                {
                                    "Category": "Gift Card",
                                    "TransactionMonth": "2021-06-30",
                                    "TotalSales": "270.00",
                                    "MovingThreeMonthAvgSales": "196.450000"
                                },
                                {
                                    "Category": "Gift Card",
                                    "TransactionMonth": "2021-07-31",
                                    "TotalSales": "115.00",
                                    "MovingThreeMonthAvgSales": "216.666666"
                                },
                                {
                                    "Category": "Gift Card",
                                    "TransactionMonth": "2021-08-31",
                                    "TotalSales": "225.00",
                                    "MovingThreeMonthAvgSales": "203.333333"
                                },
                                {
                                    "Category": "Gift Card",
                                    "TransactionMonth": "2021-09-30",
                                    "TotalSales": "175.00",
                                    "MovingThreeMonthAvgSales": "171.666666"
                                },
                                {
                                    "Category": "Gift Card",
                                    "TransactionMonth": "2021-10-31",
                                    "TotalSales": "190.00",
                                    "MovingThreeMonthAvgSales": "196.666666"
                                },
                                {
                                    "Category": "Gift Card",
                                    "TransactionMonth": "2021-11-30",
                                    "TotalSales": "115.00",
                                    "MovingThreeMonthAvgSales": "160.000000"
                                },
                                {
                                    "Category": "Gift Card",
                                    "TransactionMonth": "2021-12-31",
                                    "TotalSales": "985.29",
                                    "MovingThreeMonthAvgSales": "430.096666"
                                },
                                {
                                    "Category": "Grab & Go",
                                    "TransactionMonth": "2019-02-28",
                                    "TotalSales": "969.85",
                                    "MovingThreeMonthAvgSales": "969.850000"
                                },
                                {
                                    "Category": "Grab & Go",
                                    "TransactionMonth": "2019-03-31",
                                    "TotalSales": "1047.91",
                                    "MovingThreeMonthAvgSales": "1008.880000"
                                },
                                {
                                    "Category": "Grab & Go",
                                    "TransactionMonth": "2019-04-30",
                                    "TotalSales": "848.82",
                                    "MovingThreeMonthAvgSales": "955.526666"
                                },
                                {
                                    "Category": "Grab & Go",
                                    "TransactionMonth": "2019-05-31",
                                    "TotalSales": "645.78",
                                    "MovingThreeMonthAvgSales": "847.503333"
                                },
                                {
                                    "Category": "Grab & Go",
                                    "TransactionMonth": "2019-06-30",
                                    "TotalSales": "438.68",
                                    "MovingThreeMonthAvgSales": "644.426666"
                                },
                                {
                                    "Category": "Grab & Go",
                                    "TransactionMonth": "2019-07-31",
                                    "TotalSales": "392.17",
                                    "MovingThreeMonthAvgSales": "492.210000"
                                },
                                {
                                    "Category": "Grab & Go",
                                    "TransactionMonth": "2019-08-31",
                                    "TotalSales": "396.75",
                                    "MovingThreeMonthAvgSales": "409.200000"
                                },
                                {
                                    "Category": "Grab & Go",
                                    "TransactionMonth": "2019-09-30",
                                    "TotalSales": "183.62",
                                    "MovingThreeMonthAvgSales": "324.180000"
                                },
                                {
                                    "Category": "Grab & Go",
                                    "TransactionMonth": "2019-10-31",
                                    "TotalSales": "160.87",
                                    "MovingThreeMonthAvgSales": "247.080000"
                                },
                                {
                                    "Category": "Grab & Go",
                                    "TransactionMonth": "2019-11-30",
                                    "TotalSales": "156.94",
                                    "MovingThreeMonthAvgSales": "167.143333"
                                },
                                {
                                    "Category": "Grab & Go",
                                    "TransactionMonth": "2019-12-31",
                                    "TotalSales": "6.58",
                                    "MovingThreeMonthAvgSales": "108.130000"
                                },
                                {
                                    "Category": "Grab & Go",
                                    "TransactionMonth": "2020-01-31",
                                    "TotalSales": "116.80",
                                    "MovingThreeMonthAvgSales": "93.440000"
                                },
                                {
                                    "Category": "Grab & Go",
                                    "TransactionMonth": "2020-02-29",
                                    "TotalSales": "266.85",
                                    "MovingThreeMonthAvgSales": "130.076666"
                                },
                                {
                                    "Category": "Grab & Go",
                                    "TransactionMonth": "2020-03-31",
                                    "TotalSales": "212.04",
                                    "MovingThreeMonthAvgSales": "198.563333"
                                },
                                {
                                    "Category": "Grab & Go",
                                    "TransactionMonth": "2020-04-30",
                                    "TotalSales": "194.37",
                                    "MovingThreeMonthAvgSales": "224.420000"
                                },
                                {
                                    "Category": "Grab & Go",
                                    "TransactionMonth": "2020-05-31",
                                    "TotalSales": "70.68",
                                    "MovingThreeMonthAvgSales": "159.030000"
                                },
                                {
                                    "Category": "Grab & Go",
                                    "TransactionMonth": "2020-06-30",
                                    "TotalSales": "5.89",
                                    "MovingThreeMonthAvgSales": "90.313333"
                                },
                                {
                                    "Category": "Grab & Go",
                                    "TransactionMonth": "2020-09-30",
                                    "TotalSales": "3.49",
                                    "MovingThreeMonthAvgSales": "26.686666"
                                },
                                {
                                    "Category": "Grab & Go",
                                    "TransactionMonth": "2020-12-31",
                                    "TotalSales": "330.00",
                                    "MovingThreeMonthAvgSales": "113.126666"
                                },
                                {
                                    "Category": "Grab & Go",
                                    "TransactionMonth": "2021-01-31",
                                    "TotalSales": "170.00",
                                    "MovingThreeMonthAvgSales": "167.830000"
                                },
                                {
                                    "Category": "Grab & Go",
                                    "TransactionMonth": "2021-02-28",
                                    "TotalSales": "150.00",
                                    "MovingThreeMonthAvgSales": "216.666666"
                                },
                                {
                                    "Category": "Grab & Go",
                                    "TransactionMonth": "2021-03-31",
                                    "TotalSales": "170.00",
                                    "MovingThreeMonthAvgSales": "163.333333"
                                },
                                {
                                    "Category": "Grab & Go",
                                    "TransactionMonth": "2021-04-30",
                                    "TotalSales": "130.00",
                                    "MovingThreeMonthAvgSales": "150.000000"
                                },
                                {
                                    "Category": "Grab & Go",
                                    "TransactionMonth": "2021-05-31",
                                    "TotalSales": "190.00",
                                    "MovingThreeMonthAvgSales": "163.333333"
                                },
                                {
                                    "Category": "Grab & Go",
                                    "TransactionMonth": "2021-06-30",
                                    "TotalSales": "130.00",
                                    "MovingThreeMonthAvgSales": "150.000000"
                                },
                                {
                                    "Category": "Grab & Go",
                                    "TransactionMonth": "2021-07-31",
                                    "TotalSales": "160.00",
                                    "MovingThreeMonthAvgSales": "160.000000"
                                },
                                {
                                    "Category": "Grab & Go",
                                    "TransactionMonth": "2021-08-31",
                                    "TotalSales": "20.00",
                                    "MovingThreeMonthAvgSales": "103.333333"
                                },
                                {
                                    "Category": "Grab & Go",
                                    "TransactionMonth": "2021-09-30",
                                    "TotalSales": "70.00",
                                    "MovingThreeMonthAvgSales": "83.333333"
                                },
                                {
                                    "Category": "Grab & Go",
                                    "TransactionMonth": "2021-10-31",
                                    "TotalSales": "170.00",
                                    "MovingThreeMonthAvgSales": "86.666666"
                                },
                                {
                                    "Category": "Grab & Go",
                                    "TransactionMonth": "2021-11-30",
                                    "TotalSales": "290.00",
                                    "MovingThreeMonthAvgSales": "176.666666"
                                },
                                {
                                    "Category": "Grab & Go",
                                    "TransactionMonth": "2021-12-31",
                                    "TotalSales": "300.00",
                                    "MovingThreeMonthAvgSales": "253.333333"
                                },
                                {
                                    "Category": "Grocery",
                                    "TransactionMonth": "2019-02-28",
                                    "TotalSales": "7137.63",
                                    "MovingThreeMonthAvgSales": "7137.630000"
                                },
                                {
                                    "Category": "Grocery",
                                    "TransactionMonth": "2019-03-31",
                                    "TotalSales": "10298.90",
                                    "MovingThreeMonthAvgSales": "8718.265000"
                                },
                                {
                                    "Category": "Grocery",
                                    "TransactionMonth": "2019-04-30",
                                    "TotalSales": "7578.90",
                                    "MovingThreeMonthAvgSales": "8338.476666"
                                },
                                {
                                    "Category": "Grocery",
                                    "TransactionMonth": "2019-05-31",
                                    "TotalSales": "11560.58",
                                    "MovingThreeMonthAvgSales": "9812.793333"
                                },
                                {
                                    "Category": "Grocery",
                                    "TransactionMonth": "2019-06-30",
                                    "TotalSales": "12684.29",
                                    "MovingThreeMonthAvgSales": "10607.923333"
                                },
                                {
                                    "Category": "Grocery",
                                    "TransactionMonth": "2019-07-31",
                                    "TotalSales": "13910.38",
                                    "MovingThreeMonthAvgSales": "12718.416666"
                                },
                                {
                                    "Category": "Grocery",
                                    "TransactionMonth": "2019-08-31",
                                    "TotalSales": "12405.58",
                                    "MovingThreeMonthAvgSales": "13000.083333"
                                },
                                {
                                    "Category": "Grocery",
                                    "TransactionMonth": "2019-09-30",
                                    "TotalSales": "14081.89",
                                    "MovingThreeMonthAvgSales": "13465.950000"
                                },
                                {
                                    "Category": "Grocery",
                                    "TransactionMonth": "2019-10-31",
                                    "TotalSales": "14855.89",
                                    "MovingThreeMonthAvgSales": "13781.120000"
                                },
                                {
                                    "Category": "Grocery",
                                    "TransactionMonth": "2019-11-30",
                                    "TotalSales": "13741.53",
                                    "MovingThreeMonthAvgSales": "14226.436666"
                                },
                                {
                                    "Category": "Grocery",
                                    "TransactionMonth": "2019-12-31",
                                    "TotalSales": "13394.66",
                                    "MovingThreeMonthAvgSales": "13997.360000"
                                },
                                {
                                    "Category": "Grocery",
                                    "TransactionMonth": "2020-01-31",
                                    "TotalSales": "18684.79",
                                    "MovingThreeMonthAvgSales": "15273.660000"
                                },
                                {
                                    "Category": "Grocery",
                                    "TransactionMonth": "2020-02-29",
                                    "TotalSales": "17378.43",
                                    "MovingThreeMonthAvgSales": "16485.960000"
                                },
                                {
                                    "Category": "Grocery",
                                    "TransactionMonth": "2020-03-31",
                                    "TotalSales": "25278.29",
                                    "MovingThreeMonthAvgSales": "20447.170000"
                                },
                                {
                                    "Category": "Grocery",
                                    "TransactionMonth": "2020-04-30",
                                    "TotalSales": "17773.76",
                                    "MovingThreeMonthAvgSales": "20143.493333"
                                },
                                {
                                    "Category": "Grocery",
                                    "TransactionMonth": "2020-05-31",
                                    "TotalSales": "17400.11",
                                    "MovingThreeMonthAvgSales": "20150.720000"
                                },
                                {
                                    "Category": "Grocery",
                                    "TransactionMonth": "2020-06-30",
                                    "TotalSales": "17690.43",
                                    "MovingThreeMonthAvgSales": "17621.433333"
                                },
                                {
                                    "Category": "Grocery",
                                    "TransactionMonth": "2020-07-31",
                                    "TotalSales": "19801.99",
                                    "MovingThreeMonthAvgSales": "18297.510000"
                                },
                                {
                                    "Category": "Grocery",
                                    "TransactionMonth": "2020-08-31",
                                    "TotalSales": "22827.07",
                                    "MovingThreeMonthAvgSales": "20106.496666"
                                },
                                {
                                    "Category": "Grocery",
                                    "TransactionMonth": "2020-09-30",
                                    "TotalSales": "20625.39",
                                    "MovingThreeMonthAvgSales": "21084.816666"
                                },
                                {
                                    "Category": "Grocery",
                                    "TransactionMonth": "2020-10-31",
                                    "TotalSales": "23094.37",
                                    "MovingThreeMonthAvgSales": "22182.276666"
                                },
                                {
                                    "Category": "Grocery",
                                    "TransactionMonth": "2020-11-30",
                                    "TotalSales": "20557.64",
                                    "MovingThreeMonthAvgSales": "21425.800000"
                                },
                                {
                                    "Category": "Grocery",
                                    "TransactionMonth": "2020-12-31",
                                    "TotalSales": "22821.97",
                                    "MovingThreeMonthAvgSales": "22157.993333"
                                },
                                {
                                    "Category": "Grocery",
                                    "TransactionMonth": "2021-01-31",
                                    "TotalSales": "27564.02",
                                    "MovingThreeMonthAvgSales": "23647.876666"
                                },
                                {
                                    "Category": "Grocery",
                                    "TransactionMonth": "2021-02-28",
                                    "TotalSales": "26251.93",
                                    "MovingThreeMonthAvgSales": "25545.973333"
                                },
                                {
                                    "Category": "Grocery",
                                    "TransactionMonth": "2021-03-31",
                                    "TotalSales": "25647.09",
                                    "MovingThreeMonthAvgSales": "26487.680000"
                                },
                                {
                                    "Category": "Grocery",
                                    "TransactionMonth": "2021-04-30",
                                    "TotalSales": "25863.49",
                                    "MovingThreeMonthAvgSales": "25920.836666"
                                },
                                {
                                    "Category": "Grocery",
                                    "TransactionMonth": "2021-05-31",
                                    "TotalSales": "23208.79",
                                    "MovingThreeMonthAvgSales": "24906.456666"
                                },
                                {
                                    "Category": "Grocery",
                                    "TransactionMonth": "2021-06-30",
                                    "TotalSales": "21215.96",
                                    "MovingThreeMonthAvgSales": "23429.413333"
                                },
                                {
                                    "Category": "Grocery",
                                    "TransactionMonth": "2021-07-31",
                                    "TotalSales": "18227.68",
                                    "MovingThreeMonthAvgSales": "20884.143333"
                                },
                                {
                                    "Category": "Grocery",
                                    "TransactionMonth": "2021-08-31",
                                    "TotalSales": "18097.08",
                                    "MovingThreeMonthAvgSales": "19180.240000"
                                },
                                {
                                    "Category": "Grocery",
                                    "TransactionMonth": "2021-09-30",
                                    "TotalSales": "16235.42",
                                    "MovingThreeMonthAvgSales": "17520.060000"
                                },
                                {
                                    "Category": "Grocery",
                                    "TransactionMonth": "2021-10-31",
                                    "TotalSales": "19581.86",
                                    "MovingThreeMonthAvgSales": "17971.453333"
                                },
                                {
                                    "Category": "Grocery",
                                    "TransactionMonth": "2021-11-30",
                                    "TotalSales": "19082.18",
                                    "MovingThreeMonthAvgSales": "18299.820000"
                                },
                                {
                                    "Category": "Grocery",
                                    "TransactionMonth": "2021-12-31",
                                    "TotalSales": "17739.00",
                                    "MovingThreeMonthAvgSales": "18801.013333"
                                },
                                {
                                    "Category": "Holiday Popup",
                                    "TransactionMonth": "2019-12-31",
                                    "TotalSales": "715.00",
                                    "MovingThreeMonthAvgSales": "715.000000"
                                },
                                {
                                    "Category": "Local Love",
                                    "TransactionMonth": "2019-02-28",
                                    "TotalSales": "2016.13",
                                    "MovingThreeMonthAvgSales": "2016.130000"
                                },
                                {
                                    "Category": "Local Love",
                                    "TransactionMonth": "2019-03-31",
                                    "TotalSales": "3604.46",
                                    "MovingThreeMonthAvgSales": "2810.295000"
                                },
                                {
                                    "Category": "Local Love",
                                    "TransactionMonth": "2019-04-30",
                                    "TotalSales": "3503.27",
                                    "MovingThreeMonthAvgSales": "3041.286666"
                                },
                                {
                                    "Category": "Local Love",
                                    "TransactionMonth": "2019-05-31",
                                    "TotalSales": "4444.36",
                                    "MovingThreeMonthAvgSales": "3850.696666"
                                },
                                {
                                    "Category": "Local Love",
                                    "TransactionMonth": "2019-06-30",
                                    "TotalSales": "4146.55",
                                    "MovingThreeMonthAvgSales": "4031.393333"
                                },
                                {
                                    "Category": "Local Love",
                                    "TransactionMonth": "2019-07-31",
                                    "TotalSales": "4065.09",
                                    "MovingThreeMonthAvgSales": "4218.666666"
                                },
                                {
                                    "Category": "Local Love",
                                    "TransactionMonth": "2019-08-31",
                                    "TotalSales": "3588.83",
                                    "MovingThreeMonthAvgSales": "3933.490000"
                                },
                                {
                                    "Category": "Local Love",
                                    "TransactionMonth": "2019-09-30",
                                    "TotalSales": "4321.79",
                                    "MovingThreeMonthAvgSales": "3991.903333"
                                },
                                {
                                    "Category": "Local Love",
                                    "TransactionMonth": "2019-10-31",
                                    "TotalSales": "4619.66",
                                    "MovingThreeMonthAvgSales": "4176.760000"
                                },
                                {
                                    "Category": "Local Love",
                                    "TransactionMonth": "2019-11-30",
                                    "TotalSales": "5032.87",
                                    "MovingThreeMonthAvgSales": "4658.106666"
                                },
                                {
                                    "Category": "Local Love",
                                    "TransactionMonth": "2019-12-31",
                                    "TotalSales": "4512.43",
                                    "MovingThreeMonthAvgSales": "4721.653333"
                                },
                                {
                                    "Category": "Local Love",
                                    "TransactionMonth": "2020-01-31",
                                    "TotalSales": "6009.14",
                                    "MovingThreeMonthAvgSales": "5184.813333"
                                },
                                {
                                    "Category": "Local Love",
                                    "TransactionMonth": "2020-02-29",
                                    "TotalSales": "6028.07",
                                    "MovingThreeMonthAvgSales": "5516.546666"
                                },
                                {
                                    "Category": "Local Love",
                                    "TransactionMonth": "2020-03-31",
                                    "TotalSales": "7256.15",
                                    "MovingThreeMonthAvgSales": "6431.120000"
                                },
                                {
                                    "Category": "Local Love",
                                    "TransactionMonth": "2020-04-30",
                                    "TotalSales": "5799.89",
                                    "MovingThreeMonthAvgSales": "6361.370000"
                                },
                                {
                                    "Category": "Local Love",
                                    "TransactionMonth": "2020-05-31",
                                    "TotalSales": "6478.62",
                                    "MovingThreeMonthAvgSales": "6511.553333"
                                },
                                {
                                    "Category": "Local Love",
                                    "TransactionMonth": "2020-06-30",
                                    "TotalSales": "7390.90",
                                    "MovingThreeMonthAvgSales": "6556.470000"
                                },
                                {
                                    "Category": "Local Love",
                                    "TransactionMonth": "2020-07-31",
                                    "TotalSales": "8303.34",
                                    "MovingThreeMonthAvgSales": "7390.953333"
                                },
                                {
                                    "Category": "Local Love",
                                    "TransactionMonth": "2020-08-31",
                                    "TotalSales": "9176.05",
                                    "MovingThreeMonthAvgSales": "8290.096666"
                                },
                                {
                                    "Category": "Local Love",
                                    "TransactionMonth": "2020-09-30",
                                    "TotalSales": "8669.26",
                                    "MovingThreeMonthAvgSales": "8716.216666"
                                },
                                {
                                    "Category": "Local Love",
                                    "TransactionMonth": "2020-10-31",
                                    "TotalSales": "9332.02",
                                    "MovingThreeMonthAvgSales": "9059.110000"
                                },
                                {
                                    "Category": "Local Love",
                                    "TransactionMonth": "2020-11-30",
                                    "TotalSales": "8339.55",
                                    "MovingThreeMonthAvgSales": "8780.276666"
                                },
                                {
                                    "Category": "Local Love",
                                    "TransactionMonth": "2020-12-31",
                                    "TotalSales": "13628.67",
                                    "MovingThreeMonthAvgSales": "10433.413333"
                                },
                                {
                                    "Category": "Local Love",
                                    "TransactionMonth": "2021-01-31",
                                    "TotalSales": "11333.45",
                                    "MovingThreeMonthAvgSales": "11100.556666"
                                },
                                {
                                    "Category": "Local Love",
                                    "TransactionMonth": "2021-02-28",
                                    "TotalSales": "11582.38",
                                    "MovingThreeMonthAvgSales": "12181.500000"
                                },
                                {
                                    "Category": "Local Love",
                                    "TransactionMonth": "2021-03-31",
                                    "TotalSales": "11233.03",
                                    "MovingThreeMonthAvgSales": "11382.953333"
                                },
                                {
                                    "Category": "Local Love",
                                    "TransactionMonth": "2021-04-30",
                                    "TotalSales": "10800.14",
                                    "MovingThreeMonthAvgSales": "11205.183333"
                                },
                                {
                                    "Category": "Local Love",
                                    "TransactionMonth": "2021-05-31",
                                    "TotalSales": "10414.59",
                                    "MovingThreeMonthAvgSales": "10815.920000"
                                },
                                {
                                    "Category": "Local Love",
                                    "TransactionMonth": "2021-06-30",
                                    "TotalSales": "8871.09",
                                    "MovingThreeMonthAvgSales": "10028.606666"
                                },
                                {
                                    "Category": "Local Love",
                                    "TransactionMonth": "2021-07-31",
                                    "TotalSales": "8327.14",
                                    "MovingThreeMonthAvgSales": "9204.273333"
                                },
                                {
                                    "Category": "Local Love",
                                    "TransactionMonth": "2021-08-31",
                                    "TotalSales": "8117.77",
                                    "MovingThreeMonthAvgSales": "8438.666666"
                                },
                                {
                                    "Category": "Local Love",
                                    "TransactionMonth": "2021-09-30",
                                    "TotalSales": "5512.41",
                                    "MovingThreeMonthAvgSales": "7319.106666"
                                },
                                {
                                    "Category": "Local Love",
                                    "TransactionMonth": "2021-10-31",
                                    "TotalSales": "6876.79",
                                    "MovingThreeMonthAvgSales": "6835.656666"
                                },
                                {
                                    "Category": "Local Love",
                                    "TransactionMonth": "2021-11-30",
                                    "TotalSales": "6359.54",
                                    "MovingThreeMonthAvgSales": "6249.580000"
                                },
                                {
                                    "Category": "Local Love",
                                    "TransactionMonth": "2021-12-31",
                                    "TotalSales": "7926.28",
                                    "MovingThreeMonthAvgSales": "7054.203333"
                                },
                                {
                                    "Category": "Whls_Grocery",
                                    "TransactionMonth": "2019-02-28",
                                    "TotalSales": "4.35",
                                    "MovingThreeMonthAvgSales": "4.350000"
                                },
                                {
                                    "Category": "Whls_Grocery",
                                    "TransactionMonth": "2019-03-31",
                                    "TotalSales": "76.83",
                                    "MovingThreeMonthAvgSales": "40.590000"
                                },
                                {
                                    "Category": "Whls_Grocery",
                                    "TransactionMonth": "2019-04-30",
                                    "TotalSales": "173.86",
                                    "MovingThreeMonthAvgSales": "85.013333"
                                },
                                {
                                    "Category": "Whls_Grocery",
                                    "TransactionMonth": "2019-05-31",
                                    "TotalSales": "426.59",
                                    "MovingThreeMonthAvgSales": "225.760000"
                                },
                                {
                                    "Category": "Whls_Grocery",
                                    "TransactionMonth": "2019-06-30",
                                    "TotalSales": "1904.70",
                                    "MovingThreeMonthAvgSales": "835.050000"
                                },
                                {
                                    "Category": "Whls_Grocery",
                                    "TransactionMonth": "2019-07-31",
                                    "TotalSales": "989.08",
                                    "MovingThreeMonthAvgSales": "1106.790000"
                                },
                                {
                                    "Category": "Whls_Grocery",
                                    "TransactionMonth": "2019-08-31",
                                    "TotalSales": "990.91",
                                    "MovingThreeMonthAvgSales": "1294.896666"
                                },
                                {
                                    "Category": "Whls_Grocery",
                                    "TransactionMonth": "2019-09-30",
                                    "TotalSales": "1611.18",
                                    "MovingThreeMonthAvgSales": "1197.056666"
                                },
                                {
                                    "Category": "Whls_Grocery",
                                    "TransactionMonth": "2019-10-31",
                                    "TotalSales": "1091.12",
                                    "MovingThreeMonthAvgSales": "1231.070000"
                                },
                                {
                                    "Category": "Whls_Grocery",
                                    "TransactionMonth": "2019-11-30",
                                    "TotalSales": "1031.74",
                                    "MovingThreeMonthAvgSales": "1244.680000"
                                },
                                {
                                    "Category": "Whls_Grocery",
                                    "TransactionMonth": "2019-12-31",
                                    "TotalSales": "903.60",
                                    "MovingThreeMonthAvgSales": "1008.820000"
                                },
                                {
                                    "Category": "Whls_Grocery",
                                    "TransactionMonth": "2020-01-31",
                                    "TotalSales": "1245.57",
                                    "MovingThreeMonthAvgSales": "1060.303333"
                                },
                                {
                                    "Category": "Whls_Grocery",
                                    "TransactionMonth": "2020-02-29",
                                    "TotalSales": "747.57",
                                    "MovingThreeMonthAvgSales": "965.580000"
                                },
                                {
                                    "Category": "Whls_Grocery",
                                    "TransactionMonth": "2020-03-31",
                                    "TotalSales": "1101.96",
                                    "MovingThreeMonthAvgSales": "1031.700000"
                                },
                                {
                                    "Category": "Whls_Grocery",
                                    "TransactionMonth": "2020-04-30",
                                    "TotalSales": "318.73",
                                    "MovingThreeMonthAvgSales": "722.753333"
                                },
                                {
                                    "Category": "Whls_Grocery",
                                    "TransactionMonth": "2020-05-31",
                                    "TotalSales": "908.91",
                                    "MovingThreeMonthAvgSales": "776.533333"
                                },
                                {
                                    "Category": "Whls_Grocery",
                                    "TransactionMonth": "2020-06-30",
                                    "TotalSales": "457.57",
                                    "MovingThreeMonthAvgSales": "561.736666"
                                },
                                {
                                    "Category": "Whls_Grocery",
                                    "TransactionMonth": "2020-07-31",
                                    "TotalSales": "957.52",
                                    "MovingThreeMonthAvgSales": "774.666666"
                                },
                                {
                                    "Category": "Whls_Grocery",
                                    "TransactionMonth": "2020-08-31",
                                    "TotalSales": "1055.55",
                                    "MovingThreeMonthAvgSales": "823.546666"
                                },
                                {
                                    "Category": "Whls_Grocery",
                                    "TransactionMonth": "2020-09-30",
                                    "TotalSales": "848.39",
                                    "MovingThreeMonthAvgSales": "953.820000"
                                },
                                {
                                    "Category": "Whls_Grocery",
                                    "TransactionMonth": "2020-10-31",
                                    "TotalSales": "491.82",
                                    "MovingThreeMonthAvgSales": "798.586666"
                                },
                                {
                                    "Category": "Whls_Grocery",
                                    "TransactionMonth": "2020-11-30",
                                    "TotalSales": "356.08",
                                    "MovingThreeMonthAvgSales": "565.430000"
                                },
                                {
                                    "Category": "Whls_Grocery",
                                    "TransactionMonth": "2020-12-31",
                                    "TotalSales": "258.38",
                                    "MovingThreeMonthAvgSales": "368.760000"
                                },
                                {
                                    "Category": "Whls_Grocery",
                                    "TransactionMonth": "2021-01-31",
                                    "TotalSales": "209.84",
                                    "MovingThreeMonthAvgSales": "274.766666"
                                },
                                {
                                    "Category": "Whls_Grocery",
                                    "TransactionMonth": "2021-02-28",
                                    "TotalSales": "567.54",
                                    "MovingThreeMonthAvgSales": "345.253333"
                                },
                                {
                                    "Category": "Whls_Grocery",
                                    "TransactionMonth": "2021-03-31",
                                    "TotalSales": "486.24",
                                    "MovingThreeMonthAvgSales": "421.206666"
                                },
                                {
                                    "Category": "Whls_Grocery",
                                    "TransactionMonth": "2021-04-30",
                                    "TotalSales": "544.24",
                                    "MovingThreeMonthAvgSales": "532.673333"
                                },
                                {
                                    "Category": "Whls_Grocery",
                                    "TransactionMonth": "2021-05-31",
                                    "TotalSales": "619.80",
                                    "MovingThreeMonthAvgSales": "550.093333"
                                },
                                {
                                    "Category": "Whls_Grocery",
                                    "TransactionMonth": "2021-06-30",
                                    "TotalSales": "283.04",
                                    "MovingThreeMonthAvgSales": "482.360000"
                                },
                                {
                                    "Category": "Whls_Grocery",
                                    "TransactionMonth": "2021-07-31",
                                    "TotalSales": "727.51",
                                    "MovingThreeMonthAvgSales": "543.450000"
                                },
                                {
                                    "Category": "Whls_Grocery",
                                    "TransactionMonth": "2021-08-31",
                                    "TotalSales": "187.48",
                                    "MovingThreeMonthAvgSales": "399.343333"
                                },
                                {
                                    "Category": "Whls_Grocery",
                                    "TransactionMonth": "2021-09-30",
                                    "TotalSales": "477.92",
                                    "MovingThreeMonthAvgSales": "464.303333"
                                },
                                {
                                    "Category": "Whls_Grocery",
                                    "TransactionMonth": "2021-10-31",
                                    "TotalSales": "670.86",
                                    "MovingThreeMonthAvgSales": "445.420000"
                                },
                                {
                                    "Category": "Whls_Grocery",
                                    "TransactionMonth": "2021-11-30",
                                    "TotalSales": "445.61",
                                    "MovingThreeMonthAvgSales": "531.463333"
                                },
                                {
                                    "Category": "Whls_Grocery",
                                    "TransactionMonth": "2021-12-31",
                                    "TotalSales": "486.90",
                                    "MovingThreeMonthAvgSales": "534.456666"
                                },
                                {
                                    "Category": "Whls_Selling Supplies",
                                    "TransactionMonth": "2021-08-31",
                                    "TotalSales": "166.47",
                                    "MovingThreeMonthAvgSales": "166.470000"
                                },
                                {
                                    "Category": "Whls_Selling Supplies",
                                    "TransactionMonth": "2021-09-30",
                                    "TotalSales": "80.02",
                                    "MovingThreeMonthAvgSales": "123.245000"
                                }
                            ]
                        },
                        "text/html": "<table><tr><th>Category</th><th>TransactionMonth</th><th>TotalSales</th><th>MovingThreeMonthAvgSales</th></tr><tr><td>Accessories</td><td>2019-02-28</td><td>742.06</td><td>742.060000</td></tr><tr><td>Accessories</td><td>2019-03-31</td><td>752.48</td><td>747.270000</td></tr><tr><td>Accessories</td><td>2019-04-30</td><td>903.54</td><td>799.360000</td></tr><tr><td>Accessories</td><td>2019-05-31</td><td>1094.00</td><td>916.673333</td></tr><tr><td>Accessories</td><td>2019-06-30</td><td>1100.73</td><td>1032.756666</td></tr><tr><td>Accessories</td><td>2019-07-31</td><td>1003.34</td><td>1066.023333</td></tr><tr><td>Accessories</td><td>2019-08-31</td><td>940.90</td><td>1014.990000</td></tr><tr><td>Accessories</td><td>2019-09-30</td><td>1073.68</td><td>1005.973333</td></tr><tr><td>Accessories</td><td>2019-10-31</td><td>1048.93</td><td>1021.170000</td></tr><tr><td>Accessories</td><td>2019-11-30</td><td>978.33</td><td>1033.646666</td></tr><tr><td>Accessories</td><td>2019-12-31</td><td>1116.51</td><td>1047.923333</td></tr><tr><td>Accessories</td><td>2020-01-31</td><td>1175.60</td><td>1090.146666</td></tr><tr><td>Accessories</td><td>2020-02-29</td><td>738.12</td><td>1010.076666</td></tr><tr><td>Accessories</td><td>2020-03-31</td><td>1138.63</td><td>1017.450000</td></tr><tr><td>Accessories</td><td>2020-04-30</td><td>570.15</td><td>815.633333</td></tr><tr><td>Accessories</td><td>2020-05-31</td><td>642.02</td><td>783.600000</td></tr><tr><td>Accessories</td><td>2020-06-30</td><td>630.15</td><td>614.106666</td></tr><tr><td>Accessories</td><td>2020-07-31</td><td>1432.05</td><td>901.406666</td></tr><tr><td>Accessories</td><td>2020-08-31</td><td>1566.48</td><td>1209.560000</td></tr><tr><td>Accessories</td><td>2020-09-30</td><td>1527.68</td><td>1508.736666</td></tr><tr><td>Accessories</td><td>2020-10-31</td><td>1507.44</td><td>1533.866666</td></tr><tr><td>Accessories</td><td>2020-11-30</td><td>1898.25</td><td>1644.456666</td></tr><tr><td>Accessories</td><td>2020-12-31</td><td>2543.22</td><td>1982.970000</td></tr><tr><td>Accessories</td><td>2021-01-31</td><td>2785.38</td><td>2408.950000</td></tr><tr><td>Accessories</td><td>2021-02-28</td><td>2468.48</td><td>2599.026666</td></tr><tr><td>Accessories</td><td>2021-03-31</td><td>1980.07</td><td>2411.310000</td></tr><tr><td>Accessories</td><td>2021-04-30</td><td>2046.72</td><td>2165.090000</td></tr><tr><td>Accessories</td><td>2021-05-31</td><td>1851.93</td><td>1959.573333</td></tr><tr><td>Accessories</td><td>2021-06-30</td><td>1406.68</td><td>1768.443333</td></tr><tr><td>Accessories</td><td>2021-07-31</td><td>1388.45</td><td>1549.020000</td></tr><tr><td>Accessories</td><td>2021-08-31</td><td>1487.14</td><td>1427.423333</td></tr><tr><td>Accessories</td><td>2021-09-30</td><td>1523.85</td><td>1466.480000</td></tr><tr><td>Accessories</td><td>2021-10-31</td><td>1465.52</td><td>1492.170000</td></tr><tr><td>Accessories</td><td>2021-11-30</td><td>1460.29</td><td>1483.220000</td></tr><tr><td>Accessories</td><td>2021-12-31</td><td>2097.21</td><td>1674.340000</td></tr><tr><td>Body Care</td><td>2019-02-28</td><td>2624.92</td><td>2624.920000</td></tr><tr><td>Body Care</td><td>2019-03-31</td><td>2544.82</td><td>2584.870000</td></tr><tr><td>Body Care</td><td>2019-04-30</td><td>2429.24</td><td>2532.993333</td></tr><tr><td>Body Care</td><td>2019-05-31</td><td>3537.36</td><td>2837.140000</td></tr><tr><td>Body Care</td><td>2019-06-30</td><td>3367.33</td><td>3111.310000</td></tr><tr><td>Body Care</td><td>2019-07-31</td><td>3557.08</td><td>3487.256666</td></tr><tr><td>Body Care</td><td>2019-08-31</td><td>3914.50</td><td>3612.970000</td></tr><tr><td>Body Care</td><td>2019-09-30</td><td>3686.71</td><td>3719.430000</td></tr><tr><td>Body Care</td><td>2019-10-31</td><td>3707.63</td><td>3769.613333</td></tr><tr><td>Body Care</td><td>2019-11-30</td><td>4093.80</td><td>3829.380000</td></tr><tr><td>Body Care</td><td>2019-12-31</td><td>3888.16</td><td>3896.530000</td></tr><tr><td>Body Care</td><td>2020-01-31</td><td>5801.42</td><td>4594.460000</td></tr><tr><td>Body Care</td><td>2020-02-29</td><td>4493.73</td><td>4727.770000</td></tr><tr><td>Body Care</td><td>2020-03-31</td><td>4926.80</td><td>5073.983333</td></tr><tr><td>Body Care</td><td>2020-04-30</td><td>4239.50</td><td>4553.343333</td></tr><tr><td>Body Care</td><td>2020-05-31</td><td>4238.19</td><td>4468.163333</td></tr><tr><td>Body Care</td><td>2020-06-30</td><td>4493.05</td><td>4323.580000</td></tr><tr><td>Body Care</td><td>2020-07-31</td><td>5701.65</td><td>4810.963333</td></tr><tr><td>Body Care</td><td>2020-08-31</td><td>6862.75</td><td>5685.816666</td></tr><tr><td>Body Care</td><td>2020-09-30</td><td>6678.22</td><td>6414.206666</td></tr><tr><td>Body Care</td><td>2020-10-31</td><td>6423.07</td><td>6654.680000</td></tr><tr><td>Body Care</td><td>2020-11-30</td><td>6125.61</td><td>6408.966666</td></tr><tr><td>Body Care</td><td>2020-12-31</td><td>6859.50</td><td>6469.393333</td></tr><tr><td>Body Care</td><td>2021-01-31</td><td>6557.27</td><td>6514.126666</td></tr><tr><td>Body Care</td><td>2021-02-28</td><td>6766.08</td><td>6727.616666</td></tr><tr><td>Body Care</td><td>2021-03-31</td><td>6170.15</td><td>6497.833333</td></tr><tr><td>Body Care</td><td>2021-04-30</td><td>6472.60</td><td>6469.610000</td></tr><tr><td>Body Care</td><td>2021-05-31</td><td>6558.58</td><td>6400.443333</td></tr><tr><td>Body Care</td><td>2021-06-30</td><td>6123.15</td><td>6384.776666</td></tr><tr><td>Body Care</td><td>2021-07-31</td><td>6465.81</td><td>6382.513333</td></tr><tr><td>Body Care</td><td>2021-08-31</td><td>6614.70</td><td>6401.220000</td></tr><tr><td>Body Care</td><td>2021-09-30</td><td>4886.87</td><td>5989.126666</td></tr><tr><td>Body Care</td><td>2021-10-31</td><td>5489.42</td><td>5663.663333</td></tr><tr><td>Body Care</td><td>2021-11-30</td><td>4964.23</td><td>5113.506666</td></tr><tr><td>Body Care</td><td>2021-12-31</td><td>4703.29</td><td>5052.313333</td></tr><tr><td>Cleaning Supply</td><td>2019-02-28</td><td>733.40</td><td>733.400000</td></tr><tr><td>Cleaning Supply</td><td>2019-03-31</td><td>1360.54</td><td>1046.970000</td></tr><tr><td>Cleaning Supply</td><td>2019-04-30</td><td>1173.74</td><td>1089.226666</td></tr><tr><td>Cleaning Supply</td><td>2019-05-31</td><td>1233.51</td><td>1255.930000</td></tr><tr><td>Cleaning Supply</td><td>2019-06-30</td><td>1768.14</td><td>1391.796666</td></tr><tr><td>Cleaning Supply</td><td>2019-07-31</td><td>2022.01</td><td>1674.553333</td></tr><tr><td>Cleaning Supply</td><td>2019-08-31</td><td>2428.41</td><td>2072.853333</td></tr><tr><td>Cleaning Supply</td><td>2019-09-30</td><td>2215.92</td><td>2222.113333</td></tr><tr><td>Cleaning Supply</td><td>2019-10-31</td><td>2264.19</td><td>2302.840000</td></tr><tr><td>Cleaning Supply</td><td>2019-11-30</td><td>1663.22</td><td>2047.776666</td></tr><tr><td>Cleaning Supply</td><td>2019-12-31</td><td>2002.12</td><td>1976.510000</td></tr><tr><td>Cleaning Supply</td><td>2020-01-31</td><td>3001.68</td><td>2222.340000</td></tr><tr><td>Cleaning Supply</td><td>2020-02-29</td><td>2642.87</td><td>2548.890000</td></tr><tr><td>Cleaning Supply</td><td>2020-03-31</td><td>2385.58</td><td>2676.710000</td></tr><tr><td>Cleaning Supply</td><td>2020-04-30</td><td>1239.47</td><td>2089.306666</td></tr><tr><td>Cleaning Supply</td><td>2020-05-31</td><td>2593.54</td><td>2072.863333</td></tr><tr><td>Cleaning Supply</td><td>2020-06-30</td><td>2181.28</td><td>2004.763333</td></tr><tr><td>Cleaning Supply</td><td>2020-07-31</td><td>2674.72</td><td>2483.180000</td></tr><tr><td>Cleaning Supply</td><td>2020-08-31</td><td>2940.23</td><td>2598.743333</td></tr><tr><td>Cleaning Supply</td><td>2020-09-30</td><td>3109.56</td><td>2908.170000</td></tr><tr><td>Cleaning Supply</td><td>2020-10-31</td><td>3535.40</td><td>3195.063333</td></tr><tr><td>Cleaning Supply</td><td>2020-11-30</td><td>3261.33</td><td>3302.096666</td></tr><tr><td>Cleaning Supply</td><td>2020-12-31</td><td>3427.78</td><td>3408.170000</td></tr><tr><td>Cleaning Supply</td><td>2021-01-31</td><td>4001.36</td><td>3563.490000</td></tr><tr><td>Cleaning Supply</td><td>2021-02-28</td><td>3959.43</td><td>3796.190000</td></tr><tr><td>Cleaning Supply</td><td>2021-03-31</td><td>3453.71</td><td>3804.833333</td></tr><tr><td>Cleaning Supply</td><td>2021-04-30</td><td>4047.12</td><td>3820.086666</td></tr><tr><td>Cleaning Supply</td><td>2021-05-31</td><td>4106.59</td><td>3869.140000</td></tr><tr><td>Cleaning Supply</td><td>2021-06-30</td><td>4184.75</td><td>4112.820000</td></tr><tr><td>Cleaning Supply</td><td>2021-07-31</td><td>3650.41</td><td>3980.583333</td></tr><tr><td>Cleaning Supply</td><td>2021-08-31</td><td>4190.89</td><td>4008.683333</td></tr><tr><td>Cleaning Supply</td><td>2021-09-30</td><td>3221.26</td><td>3687.520000</td></tr><tr><td>Cleaning Supply</td><td>2021-10-31</td><td>4286.06</td><td>3899.403333</td></tr><tr><td>Cleaning Supply</td><td>2021-11-30</td><td>3769.88</td><td>3759.066666</td></tr><tr><td>Cleaning Supply</td><td>2021-12-31</td><td>3647.90</td><td>3901.280000</td></tr><tr><td>Containers</td><td>2019-02-28</td><td>637.33</td><td>637.330000</td></tr><tr><td>Containers</td><td>2019-03-31</td><td>1156.01</td><td>896.670000</td></tr><tr><td>Containers</td><td>2019-04-30</td><td>660.40</td><td>817.913333</td></tr><tr><td>Containers</td><td>2019-05-31</td><td>852.90</td><td>889.770000</td></tr><tr><td>Containers</td><td>2019-06-30</td><td>1386.14</td><td>966.480000</td></tr><tr><td>Containers</td><td>2019-07-31</td><td>848.64</td><td>1029.226666</td></tr><tr><td>Containers</td><td>2019-08-31</td><td>1093.52</td><td>1109.433333</td></tr><tr><td>Containers</td><td>2019-09-30</td><td>922.43</td><td>954.863333</td></tr><tr><td>Containers</td><td>2019-10-31</td><td>996.35</td><td>1004.100000</td></tr><tr><td>Containers</td><td>2019-11-30</td><td>1030.94</td><td>983.240000</td></tr><tr><td>Containers</td><td>2019-12-31</td><td>2138.31</td><td>1388.533333</td></tr><tr><td>Containers</td><td>2020-01-31</td><td>1307.55</td><td>1492.266666</td></tr><tr><td>Containers</td><td>2020-02-29</td><td>898.61</td><td>1448.156666</td></tr><tr><td>Containers</td><td>2020-03-31</td><td>1159.11</td><td>1121.756666</td></tr><tr><td>Containers</td><td>2020-04-30</td><td>766.65</td><td>941.456666</td></tr><tr><td>Containers</td><td>2020-05-31</td><td>1168.99</td><td>1031.583333</td></tr><tr><td>Containers</td><td>2020-06-30</td><td>645.16</td><td>860.266666</td></tr><tr><td>Containers</td><td>2020-07-31</td><td>1210.43</td><td>1008.193333</td></tr><tr><td>Containers</td><td>2020-08-31</td><td>1149.98</td><td>1001.856666</td></tr><tr><td>Containers</td><td>2020-09-30</td><td>927.84</td><td>1096.083333</td></tr><tr><td>Containers</td><td>2020-10-31</td><td>743.79</td><td>940.536666</td></tr><tr><td>Containers</td><td>2020-11-30</td><td>829.73</td><td>833.786666</td></tr><tr><td>Containers</td><td>2020-12-31</td><td>1355.86</td><td>976.460000</td></tr><tr><td>Containers</td><td>2021-01-31</td><td>997.27</td><td>1060.953333</td></tr><tr><td>Containers</td><td>2021-02-28</td><td>851.27</td><td>1068.133333</td></tr><tr><td>Containers</td><td>2021-03-31</td><td>635.11</td><td>827.883333</td></tr><tr><td>Containers</td><td>2021-04-30</td><td>838.67</td><td>775.016666</td></tr><tr><td>Containers</td><td>2021-05-31</td><td>708.23</td><td>727.336666</td></tr><tr><td>Containers</td><td>2021-06-30</td><td>609.19</td><td>718.696666</td></tr><tr><td>Containers</td><td>2021-07-31</td><td>649.88</td><td>655.766666</td></tr><tr><td>Containers</td><td>2021-08-31</td><td>606.00</td><td>621.690000</td></tr><tr><td>Containers</td><td>2021-09-30</td><td>503.17</td><td>586.350000</td></tr><tr><td>Containers</td><td>2021-10-31</td><td>637.18</td><td>582.116666</td></tr><tr><td>Containers</td><td>2021-11-30</td><td>559.01</td><td>566.453333</td></tr><tr><td>Containers</td><td>2021-12-31</td><td>759.98</td><td>652.056666</td></tr><tr><td>Events</td><td>2019-05-31</td><td>60.00</td><td>60.000000</td></tr><tr><td>Fresh Produce</td><td>2019-02-28</td><td>71.30</td><td>71.300000</td></tr><tr><td>Fresh Produce</td><td>2019-03-31</td><td>56.50</td><td>63.900000</td></tr><tr><td>Fresh Produce</td><td>2019-05-31</td><td>416.55</td><td>181.450000</td></tr><tr><td>Fresh Produce</td><td>2019-06-30</td><td>657.81</td><td>376.953333</td></tr><tr><td>Fresh Produce</td><td>2019-07-31</td><td>632.93</td><td>569.096666</td></tr><tr><td>Fresh Produce</td><td>2019-08-31</td><td>547.56</td><td>612.766666</td></tr><tr><td>Fresh Produce</td><td>2019-09-30</td><td>735.59</td><td>638.693333</td></tr><tr><td>Fresh Produce</td><td>2019-10-31</td><td>598.44</td><td>627.196666</td></tr><tr><td>Fresh Produce</td><td>2019-11-30</td><td>870.51</td><td>734.846666</td></tr><tr><td>Fresh Produce</td><td>2019-12-31</td><td>790.53</td><td>753.160000</td></tr><tr><td>Fresh Produce</td><td>2020-01-31</td><td>614.23</td><td>758.423333</td></tr><tr><td>Fresh Produce</td><td>2020-02-29</td><td>567.50</td><td>657.420000</td></tr><tr><td>Fresh Produce</td><td>2020-03-31</td><td>1024.78</td><td>735.503333</td></tr><tr><td>Fresh Produce</td><td>2020-04-30</td><td>968.89</td><td>853.723333</td></tr><tr><td>Fresh Produce</td><td>2020-05-31</td><td>1421.66</td><td>1138.443333</td></tr><tr><td>Fresh Produce</td><td>2020-06-30</td><td>1442.75</td><td>1277.766666</td></tr><tr><td>Fresh Produce</td><td>2020-07-31</td><td>1522.19</td><td>1462.200000</td></tr><tr><td>Fresh Produce</td><td>2020-08-31</td><td>1888.23</td><td>1617.723333</td></tr><tr><td>Fresh Produce</td><td>2020-09-30</td><td>1521.18</td><td>1643.866666</td></tr><tr><td>Fresh Produce</td><td>2020-10-31</td><td>1175.59</td><td>1528.333333</td></tr><tr><td>Fresh Produce</td><td>2020-11-30</td><td>1233.42</td><td>1310.063333</td></tr><tr><td>Fresh Produce</td><td>2020-12-31</td><td>1304.09</td><td>1237.700000</td></tr><tr><td>Fresh Produce</td><td>2021-01-31</td><td>1341.94</td><td>1293.150000</td></tr><tr><td>Fresh Produce</td><td>2021-02-28</td><td>1185.98</td><td>1277.336666</td></tr><tr><td>Fresh Produce</td><td>2021-03-31</td><td>1220.25</td><td>1249.390000</td></tr><tr><td>Fresh Produce</td><td>2021-04-30</td><td>1312.48</td><td>1239.570000</td></tr><tr><td>Fresh Produce</td><td>2021-05-31</td><td>1262.85</td><td>1265.193333</td></tr><tr><td>Fresh Produce</td><td>2021-06-30</td><td>1102.66</td><td>1225.996666</td></tr><tr><td>Fresh Produce</td><td>2021-07-31</td><td>827.30</td><td>1064.270000</td></tr><tr><td>Fresh Produce</td><td>2021-08-31</td><td>1080.05</td><td>1003.336666</td></tr><tr><td>Fresh Produce</td><td>2021-09-30</td><td>653.43</td><td>853.593333</td></tr><tr><td>Fresh Produce</td><td>2021-10-31</td><td>700.10</td><td>811.193333</td></tr><tr><td>Fresh Produce</td><td>2021-11-30</td><td>448.16</td><td>600.563333</td></tr><tr><td>Fresh Produce</td><td>2021-12-31</td><td>542.99</td><td>563.750000</td></tr><tr><td>Gift Card</td><td>2019-11-30</td><td>235.00</td><td>235.000000</td></tr><tr><td>Gift Card</td><td>2020-02-29</td><td>50.00</td><td>142.500000</td></tr><tr><td>Gift Card</td><td>2020-03-31</td><td>235.00</td><td>173.333333</td></tr><tr><td>Gift Card</td><td>2020-05-31</td><td>233.00</td><td>172.666666</td></tr><tr><td>Gift Card</td><td>2020-06-30</td><td>212.78</td><td>226.926666</td></tr><tr><td>Gift Card</td><td>2020-07-31</td><td>30.00</td><td>158.593333</td></tr><tr><td>Gift Card</td><td>2020-08-31</td><td>129.77</td><td>124.183333</td></tr><tr><td>Gift Card</td><td>2020-09-30</td><td>83.25</td><td>81.006666</td></tr><tr><td>Gift Card</td><td>2020-10-31</td><td>100.00</td><td>104.340000</td></tr><tr><td>Gift Card</td><td>2020-11-30</td><td>167.10</td><td>116.783333</td></tr><tr><td>Gift Card</td><td>2020-12-31</td><td>495.00</td><td>254.033333</td></tr><tr><td>Gift Card</td><td>2021-01-31</td><td>351.95</td><td>338.016666</td></tr><tr><td>Gift Card</td><td>2021-02-28</td><td>248.89</td><td>365.280000</td></tr><tr><td>Gift Card</td><td>2021-03-31</td><td>48.33</td><td>216.390000</td></tr><tr><td>Gift Card</td><td>2021-04-30</td><td>54.35</td><td>117.190000</td></tr><tr><td>Gift Card</td><td>2021-05-31</td><td>265.00</td><td>122.560000</td></tr><tr><td>Gift Card</td><td>2021-06-30</td><td>270.00</td><td>196.450000</td></tr><tr><td>Gift Card</td><td>2021-07-31</td><td>115.00</td><td>216.666666</td></tr><tr><td>Gift Card</td><td>2021-08-31</td><td>225.00</td><td>203.333333</td></tr><tr><td>Gift Card</td><td>2021-09-30</td><td>175.00</td><td>171.666666</td></tr><tr><td>Gift Card</td><td>2021-10-31</td><td>190.00</td><td>196.666666</td></tr><tr><td>Gift Card</td><td>2021-11-30</td><td>115.00</td><td>160.000000</td></tr><tr><td>Gift Card</td><td>2021-12-31</td><td>985.29</td><td>430.096666</td></tr><tr><td>Grab &amp; Go</td><td>2019-02-28</td><td>969.85</td><td>969.850000</td></tr><tr><td>Grab &amp; Go</td><td>2019-03-31</td><td>1047.91</td><td>1008.880000</td></tr><tr><td>Grab &amp; Go</td><td>2019-04-30</td><td>848.82</td><td>955.526666</td></tr><tr><td>Grab &amp; Go</td><td>2019-05-31</td><td>645.78</td><td>847.503333</td></tr><tr><td>Grab &amp; Go</td><td>2019-06-30</td><td>438.68</td><td>644.426666</td></tr><tr><td>Grab &amp; Go</td><td>2019-07-31</td><td>392.17</td><td>492.210000</td></tr><tr><td>Grab &amp; Go</td><td>2019-08-31</td><td>396.75</td><td>409.200000</td></tr><tr><td>Grab &amp; Go</td><td>2019-09-30</td><td>183.62</td><td>324.180000</td></tr><tr><td>Grab &amp; Go</td><td>2019-10-31</td><td>160.87</td><td>247.080000</td></tr><tr><td>Grab &amp; Go</td><td>2019-11-30</td><td>156.94</td><td>167.143333</td></tr><tr><td>Grab &amp; Go</td><td>2019-12-31</td><td>6.58</td><td>108.130000</td></tr><tr><td>Grab &amp; Go</td><td>2020-01-31</td><td>116.80</td><td>93.440000</td></tr><tr><td>Grab &amp; Go</td><td>2020-02-29</td><td>266.85</td><td>130.076666</td></tr><tr><td>Grab &amp; Go</td><td>2020-03-31</td><td>212.04</td><td>198.563333</td></tr><tr><td>Grab &amp; Go</td><td>2020-04-30</td><td>194.37</td><td>224.420000</td></tr><tr><td>Grab &amp; Go</td><td>2020-05-31</td><td>70.68</td><td>159.030000</td></tr><tr><td>Grab &amp; Go</td><td>2020-06-30</td><td>5.89</td><td>90.313333</td></tr><tr><td>Grab &amp; Go</td><td>2020-09-30</td><td>3.49</td><td>26.686666</td></tr><tr><td>Grab &amp; Go</td><td>2020-12-31</td><td>330.00</td><td>113.126666</td></tr><tr><td>Grab &amp; Go</td><td>2021-01-31</td><td>170.00</td><td>167.830000</td></tr><tr><td>Grab &amp; Go</td><td>2021-02-28</td><td>150.00</td><td>216.666666</td></tr><tr><td>Grab &amp; Go</td><td>2021-03-31</td><td>170.00</td><td>163.333333</td></tr><tr><td>Grab &amp; Go</td><td>2021-04-30</td><td>130.00</td><td>150.000000</td></tr><tr><td>Grab &amp; Go</td><td>2021-05-31</td><td>190.00</td><td>163.333333</td></tr><tr><td>Grab &amp; Go</td><td>2021-06-30</td><td>130.00</td><td>150.000000</td></tr><tr><td>Grab &amp; Go</td><td>2021-07-31</td><td>160.00</td><td>160.000000</td></tr><tr><td>Grab &amp; Go</td><td>2021-08-31</td><td>20.00</td><td>103.333333</td></tr><tr><td>Grab &amp; Go</td><td>2021-09-30</td><td>70.00</td><td>83.333333</td></tr><tr><td>Grab &amp; Go</td><td>2021-10-31</td><td>170.00</td><td>86.666666</td></tr><tr><td>Grab &amp; Go</td><td>2021-11-30</td><td>290.00</td><td>176.666666</td></tr><tr><td>Grab &amp; Go</td><td>2021-12-31</td><td>300.00</td><td>253.333333</td></tr><tr><td>Grocery</td><td>2019-02-28</td><td>7137.63</td><td>7137.630000</td></tr><tr><td>Grocery</td><td>2019-03-31</td><td>10298.90</td><td>8718.265000</td></tr><tr><td>Grocery</td><td>2019-04-30</td><td>7578.90</td><td>8338.476666</td></tr><tr><td>Grocery</td><td>2019-05-31</td><td>11560.58</td><td>9812.793333</td></tr><tr><td>Grocery</td><td>2019-06-30</td><td>12684.29</td><td>10607.923333</td></tr><tr><td>Grocery</td><td>2019-07-31</td><td>13910.38</td><td>12718.416666</td></tr><tr><td>Grocery</td><td>2019-08-31</td><td>12405.58</td><td>13000.083333</td></tr><tr><td>Grocery</td><td>2019-09-30</td><td>14081.89</td><td>13465.950000</td></tr><tr><td>Grocery</td><td>2019-10-31</td><td>14855.89</td><td>13781.120000</td></tr><tr><td>Grocery</td><td>2019-11-30</td><td>13741.53</td><td>14226.436666</td></tr><tr><td>Grocery</td><td>2019-12-31</td><td>13394.66</td><td>13997.360000</td></tr><tr><td>Grocery</td><td>2020-01-31</td><td>18684.79</td><td>15273.660000</td></tr><tr><td>Grocery</td><td>2020-02-29</td><td>17378.43</td><td>16485.960000</td></tr><tr><td>Grocery</td><td>2020-03-31</td><td>25278.29</td><td>20447.170000</td></tr><tr><td>Grocery</td><td>2020-04-30</td><td>17773.76</td><td>20143.493333</td></tr><tr><td>Grocery</td><td>2020-05-31</td><td>17400.11</td><td>20150.720000</td></tr><tr><td>Grocery</td><td>2020-06-30</td><td>17690.43</td><td>17621.433333</td></tr><tr><td>Grocery</td><td>2020-07-31</td><td>19801.99</td><td>18297.510000</td></tr><tr><td>Grocery</td><td>2020-08-31</td><td>22827.07</td><td>20106.496666</td></tr><tr><td>Grocery</td><td>2020-09-30</td><td>20625.39</td><td>21084.816666</td></tr><tr><td>Grocery</td><td>2020-10-31</td><td>23094.37</td><td>22182.276666</td></tr><tr><td>Grocery</td><td>2020-11-30</td><td>20557.64</td><td>21425.800000</td></tr><tr><td>Grocery</td><td>2020-12-31</td><td>22821.97</td><td>22157.993333</td></tr><tr><td>Grocery</td><td>2021-01-31</td><td>27564.02</td><td>23647.876666</td></tr><tr><td>Grocery</td><td>2021-02-28</td><td>26251.93</td><td>25545.973333</td></tr><tr><td>Grocery</td><td>2021-03-31</td><td>25647.09</td><td>26487.680000</td></tr><tr><td>Grocery</td><td>2021-04-30</td><td>25863.49</td><td>25920.836666</td></tr><tr><td>Grocery</td><td>2021-05-31</td><td>23208.79</td><td>24906.456666</td></tr><tr><td>Grocery</td><td>2021-06-30</td><td>21215.96</td><td>23429.413333</td></tr><tr><td>Grocery</td><td>2021-07-31</td><td>18227.68</td><td>20884.143333</td></tr><tr><td>Grocery</td><td>2021-08-31</td><td>18097.08</td><td>19180.240000</td></tr><tr><td>Grocery</td><td>2021-09-30</td><td>16235.42</td><td>17520.060000</td></tr><tr><td>Grocery</td><td>2021-10-31</td><td>19581.86</td><td>17971.453333</td></tr><tr><td>Grocery</td><td>2021-11-30</td><td>19082.18</td><td>18299.820000</td></tr><tr><td>Grocery</td><td>2021-12-31</td><td>17739.00</td><td>18801.013333</td></tr><tr><td>Holiday Popup</td><td>2019-12-31</td><td>715.00</td><td>715.000000</td></tr><tr><td>Local Love</td><td>2019-02-28</td><td>2016.13</td><td>2016.130000</td></tr><tr><td>Local Love</td><td>2019-03-31</td><td>3604.46</td><td>2810.295000</td></tr><tr><td>Local Love</td><td>2019-04-30</td><td>3503.27</td><td>3041.286666</td></tr><tr><td>Local Love</td><td>2019-05-31</td><td>4444.36</td><td>3850.696666</td></tr><tr><td>Local Love</td><td>2019-06-30</td><td>4146.55</td><td>4031.393333</td></tr><tr><td>Local Love</td><td>2019-07-31</td><td>4065.09</td><td>4218.666666</td></tr><tr><td>Local Love</td><td>2019-08-31</td><td>3588.83</td><td>3933.490000</td></tr><tr><td>Local Love</td><td>2019-09-30</td><td>4321.79</td><td>3991.903333</td></tr><tr><td>Local Love</td><td>2019-10-31</td><td>4619.66</td><td>4176.760000</td></tr><tr><td>Local Love</td><td>2019-11-30</td><td>5032.87</td><td>4658.106666</td></tr><tr><td>Local Love</td><td>2019-12-31</td><td>4512.43</td><td>4721.653333</td></tr><tr><td>Local Love</td><td>2020-01-31</td><td>6009.14</td><td>5184.813333</td></tr><tr><td>Local Love</td><td>2020-02-29</td><td>6028.07</td><td>5516.546666</td></tr><tr><td>Local Love</td><td>2020-03-31</td><td>7256.15</td><td>6431.120000</td></tr><tr><td>Local Love</td><td>2020-04-30</td><td>5799.89</td><td>6361.370000</td></tr><tr><td>Local Love</td><td>2020-05-31</td><td>6478.62</td><td>6511.553333</td></tr><tr><td>Local Love</td><td>2020-06-30</td><td>7390.90</td><td>6556.470000</td></tr><tr><td>Local Love</td><td>2020-07-31</td><td>8303.34</td><td>7390.953333</td></tr><tr><td>Local Love</td><td>2020-08-31</td><td>9176.05</td><td>8290.096666</td></tr><tr><td>Local Love</td><td>2020-09-30</td><td>8669.26</td><td>8716.216666</td></tr><tr><td>Local Love</td><td>2020-10-31</td><td>9332.02</td><td>9059.110000</td></tr><tr><td>Local Love</td><td>2020-11-30</td><td>8339.55</td><td>8780.276666</td></tr><tr><td>Local Love</td><td>2020-12-31</td><td>13628.67</td><td>10433.413333</td></tr><tr><td>Local Love</td><td>2021-01-31</td><td>11333.45</td><td>11100.556666</td></tr><tr><td>Local Love</td><td>2021-02-28</td><td>11582.38</td><td>12181.500000</td></tr><tr><td>Local Love</td><td>2021-03-31</td><td>11233.03</td><td>11382.953333</td></tr><tr><td>Local Love</td><td>2021-04-30</td><td>10800.14</td><td>11205.183333</td></tr><tr><td>Local Love</td><td>2021-05-31</td><td>10414.59</td><td>10815.920000</td></tr><tr><td>Local Love</td><td>2021-06-30</td><td>8871.09</td><td>10028.606666</td></tr><tr><td>Local Love</td><td>2021-07-31</td><td>8327.14</td><td>9204.273333</td></tr><tr><td>Local Love</td><td>2021-08-31</td><td>8117.77</td><td>8438.666666</td></tr><tr><td>Local Love</td><td>2021-09-30</td><td>5512.41</td><td>7319.106666</td></tr><tr><td>Local Love</td><td>2021-10-31</td><td>6876.79</td><td>6835.656666</td></tr><tr><td>Local Love</td><td>2021-11-30</td><td>6359.54</td><td>6249.580000</td></tr><tr><td>Local Love</td><td>2021-12-31</td><td>7926.28</td><td>7054.203333</td></tr><tr><td>Whls_Grocery</td><td>2019-02-28</td><td>4.35</td><td>4.350000</td></tr><tr><td>Whls_Grocery</td><td>2019-03-31</td><td>76.83</td><td>40.590000</td></tr><tr><td>Whls_Grocery</td><td>2019-04-30</td><td>173.86</td><td>85.013333</td></tr><tr><td>Whls_Grocery</td><td>2019-05-31</td><td>426.59</td><td>225.760000</td></tr><tr><td>Whls_Grocery</td><td>2019-06-30</td><td>1904.70</td><td>835.050000</td></tr><tr><td>Whls_Grocery</td><td>2019-07-31</td><td>989.08</td><td>1106.790000</td></tr><tr><td>Whls_Grocery</td><td>2019-08-31</td><td>990.91</td><td>1294.896666</td></tr><tr><td>Whls_Grocery</td><td>2019-09-30</td><td>1611.18</td><td>1197.056666</td></tr><tr><td>Whls_Grocery</td><td>2019-10-31</td><td>1091.12</td><td>1231.070000</td></tr><tr><td>Whls_Grocery</td><td>2019-11-30</td><td>1031.74</td><td>1244.680000</td></tr><tr><td>Whls_Grocery</td><td>2019-12-31</td><td>903.60</td><td>1008.820000</td></tr><tr><td>Whls_Grocery</td><td>2020-01-31</td><td>1245.57</td><td>1060.303333</td></tr><tr><td>Whls_Grocery</td><td>2020-02-29</td><td>747.57</td><td>965.580000</td></tr><tr><td>Whls_Grocery</td><td>2020-03-31</td><td>1101.96</td><td>1031.700000</td></tr><tr><td>Whls_Grocery</td><td>2020-04-30</td><td>318.73</td><td>722.753333</td></tr><tr><td>Whls_Grocery</td><td>2020-05-31</td><td>908.91</td><td>776.533333</td></tr><tr><td>Whls_Grocery</td><td>2020-06-30</td><td>457.57</td><td>561.736666</td></tr><tr><td>Whls_Grocery</td><td>2020-07-31</td><td>957.52</td><td>774.666666</td></tr><tr><td>Whls_Grocery</td><td>2020-08-31</td><td>1055.55</td><td>823.546666</td></tr><tr><td>Whls_Grocery</td><td>2020-09-30</td><td>848.39</td><td>953.820000</td></tr><tr><td>Whls_Grocery</td><td>2020-10-31</td><td>491.82</td><td>798.586666</td></tr><tr><td>Whls_Grocery</td><td>2020-11-30</td><td>356.08</td><td>565.430000</td></tr><tr><td>Whls_Grocery</td><td>2020-12-31</td><td>258.38</td><td>368.760000</td></tr><tr><td>Whls_Grocery</td><td>2021-01-31</td><td>209.84</td><td>274.766666</td></tr><tr><td>Whls_Grocery</td><td>2021-02-28</td><td>567.54</td><td>345.253333</td></tr><tr><td>Whls_Grocery</td><td>2021-03-31</td><td>486.24</td><td>421.206666</td></tr><tr><td>Whls_Grocery</td><td>2021-04-30</td><td>544.24</td><td>532.673333</td></tr><tr><td>Whls_Grocery</td><td>2021-05-31</td><td>619.80</td><td>550.093333</td></tr><tr><td>Whls_Grocery</td><td>2021-06-30</td><td>283.04</td><td>482.360000</td></tr><tr><td>Whls_Grocery</td><td>2021-07-31</td><td>727.51</td><td>543.450000</td></tr><tr><td>Whls_Grocery</td><td>2021-08-31</td><td>187.48</td><td>399.343333</td></tr><tr><td>Whls_Grocery</td><td>2021-09-30</td><td>477.92</td><td>464.303333</td></tr><tr><td>Whls_Grocery</td><td>2021-10-31</td><td>670.86</td><td>445.420000</td></tr><tr><td>Whls_Grocery</td><td>2021-11-30</td><td>445.61</td><td>531.463333</td></tr><tr><td>Whls_Grocery</td><td>2021-12-31</td><td>486.90</td><td>534.456666</td></tr><tr><td>Whls_Selling Supplies</td><td>2021-08-31</td><td>166.47</td><td>166.470000</td></tr><tr><td>Whls_Selling Supplies</td><td>2021-09-30</td><td>80.02</td><td>123.245000</td></tr></table>"
                    },
                    "metadata": {}
                }
            ],
            "execution_count": 13
        },
        {
            "cell_type": "markdown",
            "source": [
                "## Product Analysis"
            ],
            "metadata": {
                "language": "sql",
                "azdata_cell_guid": "5c2c7b6c-bcb3-4f18-83a3-44b954c5698b"
            },
            "attachments": {}
        },
        {
            "cell_type": "markdown",
            "source": [
                "#### Top Selling Product Categories and % of Total Revenue"
            ],
            "metadata": {
                "language": "sql",
                "azdata_cell_guid": "35fb083f-8015-4c87-a6b4-a5456023702d"
            },
            "attachments": {}
        },
        {
            "cell_type": "code",
            "source": [
                "SELECT TOP (10)\r\n",
                "    c.Category,\r\n",
                "    SUM(l.SaleAmount) AS TotalSales,\r\n",
                "    SUM(l.SaleAmount)/\r\n",
                "        (SELECT SUM(l.SaleAmount)\r\n",
                "            FROM SalesOrderLines AS l) AS PctOfTotal\r\n",
                "        \r\n",
                "FROM SalesOrderLines AS l\r\n",
                "    JOIN DimProduct AS p\r\n",
                "    ON l.ProductID = p.ProductID\r\n",
                "    JOIN DimSubcategory AS sc\r\n",
                "    ON p.SubcategoryID = sc.SubcategoryID\r\n",
                "    JOIN DimCategory AS c\r\n",
                "    ON sc.CategoryID = c.CategoryID\r\n",
                "\r\n",
                "GROUP BY c.Category\r\n",
                "ORDER BY SUM(l.SaleAmount) DESC"
            ],
            "metadata": {
                "language": "sql",
                "azdata_cell_guid": "0260f423-f0f1-4758-a174-afc407933073",
                "tags": []
            },
            "outputs": [
                {
                    "output_type": "display_data",
                    "data": {
                        "text/html": "(10 rows affected)"
                    },
                    "metadata": {}
                },
                {
                    "output_type": "display_data",
                    "data": {
                        "text/html": "Total execution time: 00:00:00.588"
                    },
                    "metadata": {}
                },
                {
                    "output_type": "execute_result",
                    "metadata": {},
                    "execution_count": 23,
                    "data": {
                        "application/vnd.dataresource+json": {
                            "schema": {
                                "fields": [
                                    {
                                        "name": "Category"
                                    },
                                    {
                                        "name": "TotalSales"
                                    },
                                    {
                                        "name": "PctOfTotal"
                                    }
                                ]
                            },
                            "data": [
                                {
                                    "Category": "Grocery",
                                    "TotalSales": "605584.67",
                                    "PctOfTotal": "0.462702"
                                },
                                {
                                    "Category": "Local Love",
                                    "TotalSales": "247621.71",
                                    "PctOfTotal": "0.189197"
                                },
                                {
                                    "Category": "Body Care",
                                    "TotalSales": "175967.19",
                                    "PctOfTotal": "0.134449"
                                },
                                {
                                    "Category": "Cleaning Supply",
                                    "TotalSales": "98378.00",
                                    "PctOfTotal": "0.075166"
                                },
                                {
                                    "Category": "Whls_Grocery",
                                    "TotalSales": "54745.46",
                                    "PctOfTotal": "0.041828"
                                },
                                {
                                    "Category": "Accessories",
                                    "TotalSales": "48086.01",
                                    "PctOfTotal": "0.036740"
                                },
                                {
                                    "Category": "Containers",
                                    "TotalSales": "32241.63",
                                    "PctOfTotal": "0.024634"
                                },
                                {
                                    "Category": "Fresh Produce",
                                    "TotalSales": "31740.42",
                                    "PctOfTotal": "0.024251"
                                },
                                {
                                    "Category": "Grab & Go",
                                    "TotalSales": "8398.09",
                                    "PctOfTotal": "0.006416"
                                },
                                {
                                    "Category": "Gift Card",
                                    "TotalSales": "5014.71",
                                    "PctOfTotal": "0.003831"
                                }
                            ]
                        },
                        "text/html": [
                            "<table>",
                            "<tr><th>Category</th><th>TotalSales</th><th>PctOfTotal</th></tr>",
                            "<tr><td>Grocery</td><td>605584.67</td><td>0.462702</td></tr>",
                            "<tr><td>Local Love</td><td>247621.71</td><td>0.189197</td></tr>",
                            "<tr><td>Body Care</td><td>175967.19</td><td>0.134449</td></tr>",
                            "<tr><td>Cleaning Supply</td><td>98378.00</td><td>0.075166</td></tr>",
                            "<tr><td>Whls_Grocery</td><td>54745.46</td><td>0.041828</td></tr>",
                            "<tr><td>Accessories</td><td>48086.01</td><td>0.036740</td></tr>",
                            "<tr><td>Containers</td><td>32241.63</td><td>0.024634</td></tr>",
                            "<tr><td>Fresh Produce</td><td>31740.42</td><td>0.024251</td></tr>",
                            "<tr><td>Grab &amp; Go</td><td>8398.09</td><td>0.006416</td></tr>",
                            "<tr><td>Gift Card</td><td>5014.71</td><td>0.003831</td></tr>",
                            "</table>"
                        ]
                    }
                }
            ],
            "execution_count": 23
        },
        {
            "cell_type": "markdown",
            "source": [
                "#### Top Selling Product Subcategories and % of Total Revenue"
            ],
            "metadata": {
                "language": "sql",
                "azdata_cell_guid": "63e717be-1198-413f-8fdd-20ab3cd7bb9b"
            },
            "attachments": {}
        },
        {
            "cell_type": "code",
            "source": [
                "SELECT TOP (10)\r\n",
                "    sc.Subcategory,\r\n",
                "    c.Category,\r\n",
                "    SUM(l.SaleAmount) AS TotalSales,\r\n",
                "    SUM(l.SaleAmount)/\r\n",
                "        (SELECT SUM(l.SaleAmount)\r\n",
                "            FROM SalesOrderLines AS l) AS PctOfTotal\r\n",
                "\r\n",
                "FROM SalesOrderLines AS l\r\n",
                "    JOIN DimProduct AS p\r\n",
                "    ON l.ProductID = p.ProductID\r\n",
                "    JOIN DimSubcategory AS sc\r\n",
                "    ON p.SubcategoryID = sc.SubcategoryID\r\n",
                "    JOIN DimCategory AS c\r\n",
                "    ON sc.CategoryID = c.CategoryID\r\n",
                "\r\n",
                "GROUP BY sc.Subcategory, c.Category\r\n",
                "ORDER BY SUM(l.SaleAmount) DESC"
            ],
            "metadata": {
                "language": "sql",
                "azdata_cell_guid": "a9eafc57-ded1-4077-929d-25a6d7bef7bf",
                "tags": []
            },
            "outputs": [
                {
                    "output_type": "display_data",
                    "data": {
                        "text/html": "(10 rows affected)"
                    },
                    "metadata": {}
                },
                {
                    "output_type": "display_data",
                    "data": {
                        "text/html": "Total execution time: 00:00:00.160"
                    },
                    "metadata": {}
                },
                {
                    "output_type": "execute_result",
                    "metadata": {},
                    "execution_count": 25,
                    "data": {
                        "application/vnd.dataresource+json": {
                            "schema": {
                                "fields": [
                                    {
                                        "name": "Subcategory"
                                    },
                                    {
                                        "name": "Category"
                                    },
                                    {
                                        "name": "TotalSales"
                                    },
                                    {
                                        "name": "PctOfTotal"
                                    }
                                ]
                            },
                            "data": [
                                {
                                    "Subcategory": "Nuts",
                                    "Category": "Grocery",
                                    "TotalSales": "98596.61",
                                    "PctOfTotal": "0.075333"
                                },
                                {
                                    "Subcategory": "Body Cleansing",
                                    "Category": "Body Care",
                                    "TotalSales": "70617.06",
                                    "PctOfTotal": "0.053955"
                                },
                                {
                                    "Subcategory": "Seeds And Grains",
                                    "Category": "Grocery",
                                    "TotalSales": "67660.29",
                                    "PctOfTotal": "0.051696"
                                },
                                {
                                    "Subcategory": "Oils",
                                    "Category": "Grocery",
                                    "TotalSales": "66665.40",
                                    "PctOfTotal": "0.050936"
                                },
                                {
                                    "Subcategory": "Laundry Cleaners",
                                    "Category": "Cleaning Supply",
                                    "TotalSales": "54217.30",
                                    "PctOfTotal": "0.041425"
                                },
                                {
                                    "Subcategory": "Dried Fruits",
                                    "Category": "Grocery",
                                    "TotalSales": "42389.19",
                                    "PctOfTotal": "0.032387"
                                },
                                {
                                    "Subcategory": "Sweeteners",
                                    "Category": "Grocery",
                                    "TotalSales": "42159.78",
                                    "PctOfTotal": "0.032212"
                                },
                                {
                                    "Subcategory": "Kombucha",
                                    "Category": "Local Love",
                                    "TotalSales": "41918.87",
                                    "PctOfTotal": "0.032028"
                                },
                                {
                                    "Subcategory": "Hair Care",
                                    "Category": "Body Care",
                                    "TotalSales": "40704.96",
                                    "PctOfTotal": "0.031100"
                                },
                                {
                                    "Subcategory": "Dairy",
                                    "Category": "Grocery",
                                    "TotalSales": "39807.90",
                                    "PctOfTotal": "0.030415"
                                }
                            ]
                        },
                        "text/html": [
                            "<table>",
                            "<tr><th>Subcategory</th><th>Category</th><th>TotalSales</th><th>PctOfTotal</th></tr>",
                            "<tr><td>Nuts</td><td>Grocery</td><td>98596.61</td><td>0.075333</td></tr>",
                            "<tr><td>Body Cleansing</td><td>Body Care</td><td>70617.06</td><td>0.053955</td></tr>",
                            "<tr><td>Seeds And Grains</td><td>Grocery</td><td>67660.29</td><td>0.051696</td></tr>",
                            "<tr><td>Oils</td><td>Grocery</td><td>66665.40</td><td>0.050936</td></tr>",
                            "<tr><td>Laundry Cleaners</td><td>Cleaning Supply</td><td>54217.30</td><td>0.041425</td></tr>",
                            "<tr><td>Dried Fruits</td><td>Grocery</td><td>42389.19</td><td>0.032387</td></tr>",
                            "<tr><td>Sweeteners</td><td>Grocery</td><td>42159.78</td><td>0.032212</td></tr>",
                            "<tr><td>Kombucha</td><td>Local Love</td><td>41918.87</td><td>0.032028</td></tr>",
                            "<tr><td>Hair Care</td><td>Body Care</td><td>40704.96</td><td>0.031100</td></tr>",
                            "<tr><td>Dairy</td><td>Grocery</td><td>39807.90</td><td>0.030415</td></tr>",
                            "</table>"
                        ]
                    }
                }
            ],
            "execution_count": 25
        },
        {
            "cell_type": "markdown",
            "source": [
                "#### Top Selling Products and % of Total Revenue"
            ],
            "metadata": {
                "language": "sql",
                "azdata_cell_guid": "3574f7f6-e3ce-4b68-b454-66b873f79e1f"
            },
            "attachments": {}
        },
        {
            "cell_type": "code",
            "source": [
                "SELECT TOP(20)\r\n",
                "    p.ProductName,\r\n",
                "    sc.Subcategory,\r\n",
                "    c.Category,\r\n",
                "    SUM(l.SaleAmount) AS TotalSales,\r\n",
                "    \r\n",
                "    SUM(l.SaleAmount)/\r\n",
                "        (SELECT SUM(l.SaleAmount)\r\n",
                "            FROM SalesOrderLines AS l) AS PctOfTotal\r\n",
                "\r\n",
                "\r\n",
                "FROM SalesOrderLines AS l\r\n",
                "    JOIN DimProduct AS p\r\n",
                "    ON l.ProductID = p.ProductID\r\n",
                "    JOIN DimSubcategory AS sc\r\n",
                "    ON p.SubcategoryID = sc.SubcategoryID\r\n",
                "    JOIN DimCategory AS c\r\n",
                "    ON sc.CategoryID = c.CategoryID\r\n",
                "\r\n",
                "GROUP BY p.ProductName, sc.Subcategory, c.Category\r\n",
                "ORDER BY SUM(l.SaleAmount) DESC    \r\n",
                ""
            ],
            "metadata": {
                "language": "sql",
                "azdata_cell_guid": "b97eabc7-d13a-4f50-9d5c-1ee1c0ac2ad4",
                "tags": []
            },
            "outputs": [
                {
                    "output_type": "display_data",
                    "data": {
                        "text/html": "(20 rows affected)"
                    },
                    "metadata": {}
                },
                {
                    "output_type": "display_data",
                    "data": {
                        "text/html": "Total execution time: 00:00:00.163"
                    },
                    "metadata": {}
                },
                {
                    "output_type": "execute_result",
                    "metadata": {},
                    "execution_count": 26,
                    "data": {
                        "application/vnd.dataresource+json": {
                            "schema": {
                                "fields": [
                                    {
                                        "name": "ProductName"
                                    },
                                    {
                                        "name": "Subcategory"
                                    },
                                    {
                                        "name": "Category"
                                    },
                                    {
                                        "name": "TotalSales"
                                    },
                                    {
                                        "name": "PctOfTotal"
                                    }
                                ]
                            },
                            "data": [
                                {
                                    "ProductName": "Olive Oil - Extra Virgin ORG",
                                    "Subcategory": "Oils",
                                    "Category": "Grocery",
                                    "TotalSales": "45039.15",
                                    "PctOfTotal": "0.034412"
                                },
                                {
                                    "ProductName": "Coffee - The Bean Whole",
                                    "Subcategory": "The Bean Whole",
                                    "Category": "Local Love",
                                    "TotalSales": "35283.34",
                                    "PctOfTotal": "0.026958"
                                },
                                {
                                    "ProductName": "CRU Kombucha",
                                    "Subcategory": "Kombucha",
                                    "Category": "Local Love",
                                    "TotalSales": "28571.28",
                                    "PctOfTotal": "0.021830"
                                },
                                {
                                    "ProductName": "Raw Cashews ORG",
                                    "Subcategory": "Nuts",
                                    "Category": "Grocery",
                                    "TotalSales": "23603.48",
                                    "PctOfTotal": "0.018034"
                                },
                                {
                                    "ProductName": "Coffee - Hugo Coffee",
                                    "Subcategory": "Hugo Coffee",
                                    "Category": "Local Love",
                                    "TotalSales": "23451.72",
                                    "PctOfTotal": "0.017918"
                                },
                                {
                                    "ProductName": "Maple Syrup ORG",
                                    "Subcategory": "Sweeteners",
                                    "Category": "Grocery",
                                    "TotalSales": "22980.91",
                                    "PctOfTotal": "0.017558"
                                },
                                {
                                    "ProductName": "Raw Almonds ORG",
                                    "Subcategory": "Nuts",
                                    "Category": "Grocery",
                                    "TotalSales": "20475.71",
                                    "PctOfTotal": "0.015644"
                                },
                                {
                                    "ProductName": "Eggs ORG",
                                    "Subcategory": "Dairy",
                                    "Category": "Grocery",
                                    "TotalSales": "20091.05",
                                    "PctOfTotal": "0.015350"
                                },
                                {
                                    "ProductName": "Sapadilla Hand Soap",
                                    "Subcategory": "Body Cleansing",
                                    "Category": "Body Care",
                                    "TotalSales": "19389.01",
                                    "PctOfTotal": "0.014814"
                                },
                                {
                                    "ProductName": "Milk Honey Yogurt",
                                    "Subcategory": "Milk Honey Yogurt",
                                    "Category": "Local Love",
                                    "TotalSales": "18611.99",
                                    "PctOfTotal": "0.014220"
                                },
                                {
                                    "ProductName": "Dropps Dishwasher Pods",
                                    "Subcategory": "Dishsoaps",
                                    "Category": "Cleaning Supply",
                                    "TotalSales": "18019.85",
                                    "PctOfTotal": "0.013768"
                                },
                                {
                                    "ProductName": "Almond Butter / Diced Almonds",
                                    "Subcategory": "Nuts",
                                    "Category": "Grocery",
                                    "TotalSales": "17860.43",
                                    "PctOfTotal": "0.013646"
                                },
                                {
                                    "ProductName": "EcosPro Laundry Detergent - Magnolia Lily",
                                    "Subcategory": "Laundry Cleaners",
                                    "Category": "Cleaning Supply",
                                    "TotalSales": "17822.27",
                                    "PctOfTotal": "0.013617"
                                },
                                {
                                    "ProductName": "WHLS- Lightlife Sausage - Case of 12",
                                    "Subcategory": "Meat Alternatives",
                                    "Category": "Whls_Grocery",
                                    "TotalSales": "17087.42",
                                    "PctOfTotal": "0.013055"
                                },
                                {
                                    "ProductName": "Dried Mango Cheeks ORG",
                                    "Subcategory": "Dried Fruits",
                                    "Category": "Grocery",
                                    "TotalSales": "14801.95",
                                    "PctOfTotal": "0.011309"
                                },
                                {
                                    "ProductName": "Prin Ya Vegan Custard",
                                    "Subcategory": "Desserts",
                                    "Category": "Local Love",
                                    "TotalSales": "13279.56",
                                    "PctOfTotal": "0.010146"
                                },
                                {
                                    "ProductName": "Dropps Laundry Pods",
                                    "Subcategory": "Laundry Cleaners",
                                    "Category": "Cleaning Supply",
                                    "TotalSales": "13093.78",
                                    "PctOfTotal": "0.010004"
                                },
                                {
                                    "ProductName": "Hans Kombucha",
                                    "Subcategory": "Kombucha",
                                    "Category": "Local Love",
                                    "TotalSales": "13048.23",
                                    "PctOfTotal": "0.009969"
                                },
                                {
                                    "ProductName": "Avocado Oil",
                                    "Subcategory": "Oils",
                                    "Category": "Grocery",
                                    "TotalSales": "12889.06",
                                    "PctOfTotal": "0.009848"
                                },
                                {
                                    "ProductName": "Dark Chocolate Chips ALLERGEN FREE ORG",
                                    "Subcategory": "Baking",
                                    "Category": "Grocery",
                                    "TotalSales": "12546.76",
                                    "PctOfTotal": "0.009586"
                                }
                            ]
                        },
                        "text/html": [
                            "<table>",
                            "<tr><th>ProductName</th><th>Subcategory</th><th>Category</th><th>TotalSales</th><th>PctOfTotal</th></tr>",
                            "<tr><td>Olive Oil - Extra Virgin ORG</td><td>Oils</td><td>Grocery</td><td>45039.15</td><td>0.034412</td></tr>",
                            "<tr><td>Coffee - The Bean Whole</td><td>The Bean Whole</td><td>Local Love</td><td>35283.34</td><td>0.026958</td></tr>",
                            "<tr><td>CRU Kombucha</td><td>Kombucha</td><td>Local Love</td><td>28571.28</td><td>0.021830</td></tr>",
                            "<tr><td>Raw Cashews ORG</td><td>Nuts</td><td>Grocery</td><td>23603.48</td><td>0.018034</td></tr>",
                            "<tr><td>Coffee - Hugo Coffee</td><td>Hugo Coffee</td><td>Local Love</td><td>23451.72</td><td>0.017918</td></tr>",
                            "<tr><td>Maple Syrup ORG</td><td>Sweeteners</td><td>Grocery</td><td>22980.91</td><td>0.017558</td></tr>",
                            "<tr><td>Raw Almonds ORG</td><td>Nuts</td><td>Grocery</td><td>20475.71</td><td>0.015644</td></tr>",
                            "<tr><td>Eggs ORG</td><td>Dairy</td><td>Grocery</td><td>20091.05</td><td>0.015350</td></tr>",
                            "<tr><td>Sapadilla Hand Soap</td><td>Body Cleansing</td><td>Body Care</td><td>19389.01</td><td>0.014814</td></tr>",
                            "<tr><td>Milk Honey Yogurt</td><td>Milk Honey Yogurt</td><td>Local Love</td><td>18611.99</td><td>0.014220</td></tr>",
                            "<tr><td>Dropps Dishwasher Pods</td><td>Dishsoaps</td><td>Cleaning Supply</td><td>18019.85</td><td>0.013768</td></tr>",
                            "<tr><td>Almond Butter / Diced Almonds</td><td>Nuts</td><td>Grocery</td><td>17860.43</td><td>0.013646</td></tr>",
                            "<tr><td>EcosPro Laundry Detergent - Magnolia Lily</td><td>Laundry Cleaners</td><td>Cleaning Supply</td><td>17822.27</td><td>0.013617</td></tr>",
                            "<tr><td>WHLS- Lightlife Sausage - Case of 12</td><td>Meat Alternatives</td><td>Whls_Grocery</td><td>17087.42</td><td>0.013055</td></tr>",
                            "<tr><td>Dried Mango Cheeks ORG</td><td>Dried Fruits</td><td>Grocery</td><td>14801.95</td><td>0.011309</td></tr>",
                            "<tr><td>Prin Ya Vegan Custard</td><td>Desserts</td><td>Local Love</td><td>13279.56</td><td>0.010146</td></tr>",
                            "<tr><td>Dropps Laundry Pods</td><td>Laundry Cleaners</td><td>Cleaning Supply</td><td>13093.78</td><td>0.010004</td></tr>",
                            "<tr><td>Hans Kombucha</td><td>Kombucha</td><td>Local Love</td><td>13048.23</td><td>0.009969</td></tr>",
                            "<tr><td>Avocado Oil</td><td>Oils</td><td>Grocery</td><td>12889.06</td><td>0.009848</td></tr>",
                            "<tr><td>Dark Chocolate Chips ALLERGEN FREE ORG</td><td>Baking</td><td>Grocery</td><td>12546.76</td><td>0.009586</td></tr>",
                            "</table>"
                        ]
                    }
                }
            ],
            "execution_count": 26
        },
        {
            "cell_type": "markdown",
            "source": [
                "#### Top Selling Products by Pounds Sold"
            ],
            "metadata": {
                "language": "sql",
                "azdata_cell_guid": "d861007e-2e18-4f8c-a638-95a5cc5a424c"
            },
            "attachments": {}
        },
        {
            "cell_type": "code",
            "source": [
                "SELECT \r\n",
                "    sc.Subcategory,\r\n",
                "    c.Category,\r\n",
                "    p.ProductID,\r\n",
                "    p.ProductName,\r\n",
                "    SUM(l.PoundsSold) AS PoundsSold\r\n",
                "\r\n",
                "FROM SalesOrderLines AS l\r\n",
                "    JOIN DimProduct AS p\r\n",
                "    ON l.ProductID = p.ProductID\r\n",
                "    JOIN DimSubcategory AS sc\r\n",
                "    ON p.SubcategoryID = sc.SubcategoryID\r\n",
                "    JOIN DimCategory AS c\r\n",
                "    ON sc.CategoryID = c.CategoryID\r\n",
                "\r\n",
                "WHERE p.PricingType = 'PerPound'\r\n",
                "\r\n",
                "GROUP BY sc.Subcategory, c.Category, p.ProductID, p.ProductName\r\n",
                "ORDER BY PoundsSold DESC"
            ],
            "metadata": {
                "language": "sql",
                "azdata_cell_guid": "aece9d0c-9c3c-42a3-a718-eb533be95d1e"
            },
            "outputs": [
                {
                    "output_type": "display_data",
                    "data": {
                        "text/html": "(335 rows affected)"
                    },
                    "metadata": {}
                },
                {
                    "output_type": "display_data",
                    "data": {
                        "text/html": "Total execution time: 00:00:00.129"
                    },
                    "metadata": {}
                },
                {
                    "output_type": "execute_result",
                    "metadata": {},
                    "execution_count": 33,
                    "data": {
                        "application/vnd.dataresource+json": {
                            "schema": {
                                "fields": [
                                    {
                                        "name": "Subcategory"
                                    },
                                    {
                                        "name": "Category"
                                    },
                                    {
                                        "name": "ProductID"
                                    },
                                    {
                                        "name": "ProductName"
                                    },
                                    {
                                        "name": "PoundsSold"
                                    }
                                ]
                            },
                            "data": [
                                {
                                    "Subcategory": "Vinegars",
                                    "Category": "Grocery",
                                    "ProductID": "5",
                                    "ProductName": "White Vinegar - 10% acidity (Cleaning)",
                                    "PoundsSold": "5800.2368"
                                },
                                {
                                    "Subcategory": "Laundry Cleaners",
                                    "Category": "Cleaning Supply",
                                    "ProductID": "88",
                                    "ProductName": "EcosPro Laundry Detergent - Free & Clear",
                                    "PoundsSold": "5048.9640"
                                },
                                {
                                    "Subcategory": "Seeds And Grains",
                                    "Category": "Grocery",
                                    "ProductID": "56",
                                    "ProductName": "Brown Rice ORG",
                                    "PoundsSold": "3104.8088"
                                },
                                {
                                    "Subcategory": "Nuts",
                                    "Category": "Grocery",
                                    "ProductID": "200",
                                    "ProductName": "Almond Butter / Diced Almonds",
                                    "PoundsSold": "2356.2550"
                                },
                                {
                                    "Subcategory": "Seeds And Grains",
                                    "Category": "Grocery",
                                    "ProductID": "36",
                                    "ProductName": "White Rice, Long Grain CONV",
                                    "PoundsSold": "2305.8752"
                                },
                                {
                                    "Subcategory": "Seeds And Grains",
                                    "Category": "Grocery",
                                    "ProductID": "105",
                                    "ProductName": "Quinoa ORG",
                                    "PoundsSold": "1688.5798"
                                },
                                {
                                    "Subcategory": "Beans And Legumes",
                                    "Category": "Grocery",
                                    "ProductID": "80",
                                    "ProductName": "Black Turtle Beans ORG",
                                    "PoundsSold": "1651.7766"
                                },
                                {
                                    "Subcategory": "Cereals",
                                    "Category": "Grocery",
                                    "ProductID": "734",
                                    "ProductName": "French Vanilla Granola",
                                    "PoundsSold": "1591.4087"
                                },
                                {
                                    "Subcategory": "Laundry Cleaners",
                                    "Category": "Cleaning Supply",
                                    "ProductID": "4",
                                    "ProductName": "Dropps Laundry Pods",
                                    "PoundsSold": "1260.2290"
                                },
                                {
                                    "Subcategory": "Salts",
                                    "Category": "Grocery",
                                    "ProductID": "117",
                                    "ProductName": "Real Salt - Sea Salt",
                                    "PoundsSold": "937.8087"
                                },
                                {
                                    "Subcategory": "Seeds And Grains",
                                    "Category": "Grocery",
                                    "ProductID": "41",
                                    "ProductName": "Steel Cut Oats ORG",
                                    "PoundsSold": "886.2246"
                                },
                                {
                                    "Subcategory": "Cereals",
                                    "Category": "Grocery",
                                    "ProductID": "779",
                                    "ProductName": "Pumpkin Flax Granola ORG",
                                    "PoundsSold": "870.2701"
                                },
                                {
                                    "Subcategory": "Body Cleansing",
                                    "Category": "Body Care",
                                    "ProductID": "180",
                                    "ProductName": "Dr Bronners Castile Soap - Peppermint",
                                    "PoundsSold": "633.1968"
                                },
                                {
                                    "Subcategory": "Seeds And Grains",
                                    "Category": "Grocery",
                                    "ProductID": "835",
                                    "ProductName": "Wild Rice Blend",
                                    "PoundsSold": "600.0689"
                                },
                                {
                                    "Subcategory": "Condiments",
                                    "Category": "Grocery",
                                    "ProductID": "206",
                                    "ProductName": "Nutritional Yeast",
                                    "PoundsSold": "598.4711"
                                },
                                {
                                    "Subcategory": "Dried Fruits",
                                    "Category": "Grocery",
                                    "ProductID": "146",
                                    "ProductName": "Dried Cranberries",
                                    "PoundsSold": "552.8843"
                                },
                                {
                                    "Subcategory": "Seeds And Grains",
                                    "Category": "Grocery",
                                    "ProductID": "115",
                                    "ProductName": "Raw Pumpkin Seeds ORG",
                                    "PoundsSold": "504.5319"
                                },
                                {
                                    "Subcategory": "Candy",
                                    "Category": "Grocery",
                                    "ProductID": "242",
                                    "ProductName": "Gummy Delish Fish ORG",
                                    "PoundsSold": "486.2871"
                                },
                                {
                                    "Subcategory": "Baking",
                                    "Category": "Grocery",
                                    "ProductID": "186",
                                    "ProductName": "Semi Sweet Chocolate Chips - MINI",
                                    "PoundsSold": "482.4039"
                                },
                                {
                                    "Subcategory": "Seeds And Grains",
                                    "Category": "Grocery",
                                    "ProductID": "1088",
                                    "ProductName": "Basmati Rice - Sustainably Grown",
                                    "PoundsSold": "481.7866"
                                },
                                {
                                    "Subcategory": "Produce",
                                    "Category": "Fresh Produce",
                                    "ProductID": "868",
                                    "ProductName": "Onion, Sweet  Yellow, ORG",
                                    "PoundsSold": "456.5166"
                                },
                                {
                                    "Subcategory": "Flours",
                                    "Category": "Grocery",
                                    "ProductID": "137",
                                    "ProductName": "Pamela's GF Baking Mix",
                                    "PoundsSold": "444.8213"
                                },
                                {
                                    "Subcategory": "Flours",
                                    "Category": "Grocery",
                                    "ProductID": "82",
                                    "ProductName": "Bobs GF All Purpose Flour",
                                    "PoundsSold": "443.3842"
                                },
                                {
                                    "Subcategory": "Hair Care",
                                    "Category": "Body Care",
                                    "ProductID": "210",
                                    "ProductName": "Giovanni Shampoo - 50/50",
                                    "PoundsSold": "438.8823"
                                },
                                {
                                    "Subcategory": "Hair Care",
                                    "Category": "Body Care",
                                    "ProductID": "212",
                                    "ProductName": "Giovanni Conditioner - 50/50",
                                    "PoundsSold": "429.5294"
                                },
                                {
                                    "Subcategory": "Flours",
                                    "Category": "Grocery",
                                    "ProductID": "715",
                                    "ProductName": "Vital Wheat Gluten",
                                    "PoundsSold": "382.5892"
                                },
                                {
                                    "Subcategory": "Sweeteners",
                                    "Category": "Grocery",
                                    "ProductID": "47",
                                    "ProductName": "Raw Demerara Sugar",
                                    "PoundsSold": "381.8764"
                                },
                                {
                                    "Subcategory": "Baking",
                                    "Category": "Grocery",
                                    "ProductID": "773",
                                    "ProductName": "Milk Chocolate Chips",
                                    "PoundsSold": "380.5945"
                                },
                                {
                                    "Subcategory": "Dried Fruits",
                                    "Category": "Grocery",
                                    "ProductID": "231",
                                    "ProductName": "Dried Cherries",
                                    "PoundsSold": "341.2477"
                                },
                                {
                                    "Subcategory": "Seeds And Grains",
                                    "Category": "Grocery",
                                    "ProductID": "834",
                                    "ProductName": "Farro ORG",
                                    "PoundsSold": "334.6461"
                                },
                                {
                                    "Subcategory": "Sweeteners",
                                    "Category": "Grocery",
                                    "ProductID": "132",
                                    "ProductName": "Coconut Sugar ORG",
                                    "PoundsSold": "332.1512"
                                },
                                {
                                    "Subcategory": "Seeds And Grains",
                                    "Category": "Grocery",
                                    "ProductID": "988",
                                    "ProductName": "Hemp Seeds",
                                    "PoundsSold": "287.1618"
                                },
                                {
                                    "Subcategory": "Flours",
                                    "Category": "Grocery",
                                    "ProductID": "157",
                                    "ProductName": "Almond Flour GF",
                                    "PoundsSold": "284.8904"
                                },
                                {
                                    "Subcategory": "Salts",
                                    "Category": "Grocery",
                                    "ProductID": "753",
                                    "ProductName": "Himalayan Pink Salt",
                                    "PoundsSold": "280.4907"
                                },
                                {
                                    "Subcategory": "Produce",
                                    "Category": "Fresh Produce",
                                    "ProductID": "718",
                                    "ProductName": "Spinach, Local From SLC Top Crops",
                                    "PoundsSold": "276.0737"
                                },
                                {
                                    "Subcategory": "Beans And Legumes",
                                    "Category": "Grocery",
                                    "ProductID": "539",
                                    "ProductName": "Bob's Red Mill 13 Bean Soup",
                                    "PoundsSold": "240.2320"
                                },
                                {
                                    "Subcategory": "Produce",
                                    "Category": "Fresh Produce",
                                    "ProductID": "1037",
                                    "ProductName": "Spaghetti Squash, CONV",
                                    "PoundsSold": "231.8285"
                                },
                                {
                                    "Subcategory": "Salsa del Diablo",
                                    "Category": "Local Love",
                                    "ProductID": "928",
                                    "ProductName": "Salsa del Diablo Pumpkin & A Pepper",
                                    "PoundsSold": "228.2602"
                                },
                                {
                                    "Subcategory": "Baking",
                                    "Category": "Grocery",
                                    "ProductID": "395",
                                    "ProductName": "Cocoa Powder 10-12%",
                                    "PoundsSold": "226.2970"
                                },
                                {
                                    "Subcategory": "Dried Fruits",
                                    "Category": "Grocery",
                                    "ProductID": "122",
                                    "ProductName": "Coconut Chips ORG",
                                    "PoundsSold": "219.5573"
                                },
                                {
                                    "Subcategory": "Nuts",
                                    "Category": "Grocery",
                                    "ProductID": "1096",
                                    "ProductName": "Raw Walnuts ORG",
                                    "PoundsSold": "212.0434"
                                },
                                {
                                    "Subcategory": "Olio Skin",
                                    "Category": "Local Love",
                                    "ProductID": "568",
                                    "ProductName": "Olio Dish Bar",
                                    "PoundsSold": "210.3921"
                                },
                                {
                                    "Subcategory": "Sweeteners",
                                    "Category": "Grocery",
                                    "ProductID": "125",
                                    "ProductName": "Agave ORG",
                                    "PoundsSold": "209.9754"
                                },
                                {
                                    "Subcategory": "Dried Fruits",
                                    "Category": "Grocery",
                                    "ProductID": "120",
                                    "ProductName": "Ginger - Crystallized",
                                    "PoundsSold": "201.6055"
                                },
                                {
                                    "Subcategory": "Hair Care",
                                    "Category": "Body Care",
                                    "ProductID": "830",
                                    "ProductName": "Giovanni Shampoo - Tea Tree Triple Treat",
                                    "PoundsSold": "197.8396"
                                },
                                {
                                    "Subcategory": "Produce",
                                    "Category": "Fresh Produce",
                                    "ProductID": "915",
                                    "ProductName": "Acorn Squash, ORG",
                                    "PoundsSold": "197.0407"
                                },
                                {
                                    "Subcategory": "Produce",
                                    "Category": "Fresh Produce",
                                    "ProductID": "916",
                                    "ProductName": "Acorn Squash",
                                    "PoundsSold": "191.9630"
                                },
                                {
                                    "Subcategory": "Olio Skin",
                                    "Category": "Local Love",
                                    "ProductID": "313",
                                    "ProductName": "Olio - Any",
                                    "PoundsSold": "182.5098"
                                },
                                {
                                    "Subcategory": "Balms, Oils And Butters",
                                    "Category": "Body Care",
                                    "ProductID": "118",
                                    "ProductName": "Shea Butter",
                                    "PoundsSold": "179.3460"
                                },
                                {
                                    "Subcategory": "Produce",
                                    "Category": "Fresh Produce",
                                    "ProductID": "951",
                                    "ProductName": "Spaghetti Squash, ORG",
                                    "PoundsSold": "175.9443"
                                },
                                {
                                    "Subcategory": "Hair Care",
                                    "Category": "Body Care",
                                    "ProductID": "831",
                                    "ProductName": "Giovanni Conditioner - Tea Tree Triple Treat",
                                    "PoundsSold": "174.5823"
                                },
                                {
                                    "Subcategory": "Produce",
                                    "Category": "Fresh Produce",
                                    "ProductID": "901",
                                    "ProductName": "Yukon Gold CONV",
                                    "PoundsSold": "171.5461"
                                },
                                {
                                    "Subcategory": "Herbs And Spices",
                                    "Category": "Grocery",
                                    "ProductID": "646",
                                    "ProductName": "Black Peppercorns",
                                    "PoundsSold": "171.3499"
                                },
                                {
                                    "Subcategory": "Seeds And Grains",
                                    "Category": "Grocery",
                                    "ProductID": "1089",
                                    "ProductName": "Short Grain Sushi Rice - Sustainably Grown",
                                    "PoundsSold": "170.2267"
                                },
                                {
                                    "Subcategory": "Baking",
                                    "Category": "Grocery",
                                    "ProductID": "173",
                                    "ProductName": "Baking Powder",
                                    "PoundsSold": "162.3118"
                                },
                                {
                                    "Subcategory": "Nuts",
                                    "Category": "Grocery",
                                    "ProductID": "999",
                                    "ProductName": "Pecans - Roasted ORG",
                                    "PoundsSold": "159.5186"
                                },
                                {
                                    "Subcategory": "Pastas",
                                    "Category": "Grocery",
                                    "ProductID": "48",
                                    "ProductName": "Pasta - Penne Rigate",
                                    "PoundsSold": "158.9417"
                                },
                                {
                                    "Subcategory": "Herbs And Spices",
                                    "Category": "Grocery",
                                    "ProductID": "287",
                                    "ProductName": "Garlic Powder ORG",
                                    "PoundsSold": "158.5807"
                                },
                                {
                                    "Subcategory": "Snacks",
                                    "Category": "Grocery",
                                    "ProductID": "871",
                                    "ProductName": "Sesame Sticks, whole wheat, salted",
                                    "PoundsSold": "153.8700"
                                },
                                {
                                    "Subcategory": "Seeds And Grains",
                                    "Category": "Grocery",
                                    "ProductID": "777",
                                    "ProductName": "Oats - Quick Rolled Oats ORG",
                                    "PoundsSold": "152.6798"
                                },
                                {
                                    "Subcategory": "Produce",
                                    "Category": "Fresh Produce",
                                    "ProductID": "1092",
                                    "ProductName": "Navel Oranges",
                                    "PoundsSold": "150.0451"
                                },
                                {
                                    "Subcategory": "Seeds And Grains",
                                    "Category": "Grocery",
                                    "ProductID": "1078",
                                    "ProductName": "Couscous ORG",
                                    "PoundsSold": "149.6409"
                                },
                                {
                                    "Subcategory": "Meat Alternative",
                                    "Category": "Grocery",
                                    "ProductID": "85",
                                    "ProductName": "TVP - Bobs Red Mill",
                                    "PoundsSold": "149.0358"
                                },
                                {
                                    "Subcategory": "Meat Alternatives",
                                    "Category": "Whls_Grocery",
                                    "ProductID": "86",
                                    "ProductName": "TVP - Bobs Red Mill",
                                    "PoundsSold": "149.0358"
                                },
                                {
                                    "Subcategory": "Balms, Oils And Butters",
                                    "Category": "Body Care",
                                    "ProductID": "236",
                                    "ProductName": "Sweet Almond Oil",
                                    "PoundsSold": "145.4927"
                                },
                                {
                                    "Subcategory": "Body Cleansing",
                                    "Category": "Body Care",
                                    "ProductID": "875",
                                    "ProductName": "Shikai Shower Gel - Coconut",
                                    "PoundsSold": "143.5742"
                                },
                                {
                                    "Subcategory": "Produce",
                                    "Category": "Fresh Produce",
                                    "ProductID": "1018",
                                    "ProductName": "Mixed Spring Greens, LOCAL",
                                    "PoundsSold": "141.8002"
                                },
                                {
                                    "Subcategory": "Seeds And Grains",
                                    "Category": "Grocery",
                                    "ProductID": "90",
                                    "ProductName": "Flax Seed MEAL ORG",
                                    "PoundsSold": "134.6793"
                                },
                                {
                                    "Subcategory": "Cereals",
                                    "Category": "Grocery",
                                    "ProductID": "130",
                                    "ProductName": "Granola French Vanilla ORG",
                                    "PoundsSold": "134.3919"
                                },
                                {
                                    "Subcategory": "Salts",
                                    "Category": "Grocery",
                                    "ProductID": "590",
                                    "ProductName": "Sea Salt - Extra Fine",
                                    "PoundsSold": "131.5000"
                                },
                                {
                                    "Subcategory": "Seeds And Grains",
                                    "Category": "Grocery",
                                    "ProductID": "104",
                                    "ProductName": "Quinoa - White Organic",
                                    "PoundsSold": "126.6787"
                                },
                                {
                                    "Subcategory": "Herbs And Spices",
                                    "Category": "Grocery",
                                    "ProductID": "273",
                                    "ProductName": "Cumin - Ground ORG",
                                    "PoundsSold": "126.5241"
                                },
                                {
                                    "Subcategory": "Seeds And Grains",
                                    "Category": "Grocery",
                                    "ProductID": "1061",
                                    "ProductName": "Roasted & Salted Sunflower Seeds ORG",
                                    "PoundsSold": "124.1295"
                                },
                                {
                                    "Subcategory": "Seeds And Grains",
                                    "Category": "Grocery",
                                    "ProductID": "102",
                                    "ProductName": "White Sesame Seeds",
                                    "PoundsSold": "119.7354"
                                },
                                {
                                    "Subcategory": "Baking",
                                    "Category": "Grocery",
                                    "ProductID": "171",
                                    "ProductName": "Cornstarch ORG",
                                    "PoundsSold": "119.2165"
                                },
                                {
                                    "Subcategory": "Dental Care",
                                    "Category": "Body Care",
                                    "ProductID": "818",
                                    "ProductName": "Unpaste Toothpaste BULK",
                                    "PoundsSold": "116.5496"
                                },
                                {
                                    "Subcategory": "Produce",
                                    "Category": "Fresh Produce",
                                    "ProductID": "641",
                                    "ProductName": "Squash Zucchini ORG",
                                    "PoundsSold": "116.5473"
                                },
                                {
                                    "Subcategory": "Candy",
                                    "Category": "Grocery",
                                    "ProductID": "582",
                                    "ProductName": "Mini Peanut Butter Cups - Milk Chocolate",
                                    "PoundsSold": "116.4767"
                                },
                                {
                                    "Subcategory": "Produce",
                                    "Category": "Fresh Produce",
                                    "ProductID": "632",
                                    "ProductName": "Snap Peas ORG",
                                    "PoundsSold": "113.7268"
                                },
                                {
                                    "Subcategory": "Snacks",
                                    "Category": "Grocery",
                                    "ProductID": "541",
                                    "ProductName": "Lillys Cookies, Black and Whites",
                                    "PoundsSold": "110.0479"
                                },
                                {
                                    "Subcategory": "Body Salts",
                                    "Category": "Body Care",
                                    "ProductID": "124",
                                    "ProductName": "Dead Sea Salt",
                                    "PoundsSold": "108.4034"
                                },
                                {
                                    "Subcategory": "Olio Skin",
                                    "Category": "Local Love",
                                    "ProductID": "311",
                                    "ProductName": "Olio Facial Bar",
                                    "PoundsSold": "108.3202"
                                },
                                {
                                    "Subcategory": "Herbs And Spices",
                                    "Category": "Grocery",
                                    "ProductID": "266",
                                    "ProductName": "No Chicken Veggie Broth",
                                    "PoundsSold": "108.1320"
                                },
                                {
                                    "Subcategory": "Seeds And Grains",
                                    "Category": "Grocery",
                                    "ProductID": "1042",
                                    "ProductName": "Flax Meal",
                                    "PoundsSold": "105.4618"
                                },
                                {
                                    "Subcategory": "Facial Care",
                                    "Category": "Body Care",
                                    "ProductID": "748",
                                    "ProductName": "Rosehip & Hibiscus Facial Cream",
                                    "PoundsSold": "104.2020"
                                },
                                {
                                    "Subcategory": "Body Cleansing",
                                    "Category": "Body Care",
                                    "ProductID": "192",
                                    "ProductName": "ShiKai Shower Gel Pomegranate",
                                    "PoundsSold": "101.2798"
                                },
                                {
                                    "Subcategory": "Teas",
                                    "Category": "Grocery",
                                    "ProductID": "310",
                                    "ProductName": "Chai Tea ORG",
                                    "PoundsSold": "97.8396"
                                },
                                {
                                    "Subcategory": "Body Cleansing",
                                    "Category": "Body Care",
                                    "ProductID": "164",
                                    "ProductName": "EO Hand Soap Unscented",
                                    "PoundsSold": "94.2818"
                                },
                                {
                                    "Subcategory": "Baking",
                                    "Category": "Grocery",
                                    "ProductID": "127",
                                    "ProductName": "Chocolate Chips Mini Milk",
                                    "PoundsSold": "91.4725"
                                },
                                {
                                    "Subcategory": "Oils",
                                    "Category": "Grocery",
                                    "ProductID": "187",
                                    "ProductName": "Olive Oil, Napa Xtra Virgin ORG",
                                    "PoundsSold": "90.5543"
                                },
                                {
                                    "Subcategory": "Herbs And Spices",
                                    "Category": "Grocery",
                                    "ProductID": "260",
                                    "ProductName": "Ground Black Pepper",
                                    "PoundsSold": "88.0304"
                                },
                                {
                                    "Subcategory": "Baking",
                                    "Category": "Grocery",
                                    "ProductID": "581",
                                    "ProductName": "White Chocolate Chips",
                                    "PoundsSold": "87.9221"
                                },
                                {
                                    "Subcategory": "Raw Ingredients",
                                    "Category": "Body Care",
                                    "ProductID": "27",
                                    "ProductName": "Bentonite Clay",
                                    "PoundsSold": "87.2777"
                                },
                                {
                                    "Subcategory": "Facial Care",
                                    "Category": "Body Care",
                                    "ProductID": "749",
                                    "ProductName": "Sea Mineral Facial Toner",
                                    "PoundsSold": "85.4292"
                                },
                                {
                                    "Subcategory": "Baking",
                                    "Category": "Grocery",
                                    "ProductID": "185",
                                    "ProductName": "Dry Active Yeast",
                                    "PoundsSold": "81.4576"
                                },
                                {
                                    "Subcategory": "Teas",
                                    "Category": "Grocery",
                                    "ProductID": "300",
                                    "ProductName": "English Breakfast Tea ORG",
                                    "PoundsSold": "80.0816"
                                },
                                {
                                    "Subcategory": "Oils",
                                    "Category": "Grocery",
                                    "ProductID": "519",
                                    "ProductName": "Avocado Oil Expeller Pressed",
                                    "PoundsSold": "77.4543"
                                },
                                {
                                    "Subcategory": "Beans And Legumes",
                                    "Category": "Grocery",
                                    "ProductID": "38",
                                    "ProductName": "Split Peas Yellow",
                                    "PoundsSold": "76.2449"
                                },
                                {
                                    "Subcategory": "Teas",
                                    "Category": "Grocery",
                                    "ProductID": "307",
                                    "ProductName": "Gunpowder Green Tea ORG",
                                    "PoundsSold": "74.7804"
                                },
                                {
                                    "Subcategory": "Lotions",
                                    "Category": "Body Care",
                                    "ProductID": "202",
                                    "ProductName": "ShiKai Lotion - Coconut",
                                    "PoundsSold": "73.5035"
                                },
                                {
                                    "Subcategory": "Dried Fruits",
                                    "Category": "Grocery",
                                    "ProductID": "1109",
                                    "ProductName": "Dried Mango Cheeks CONV",
                                    "PoundsSold": "72.4778"
                                },
                                {
                                    "Subcategory": "Pastas",
                                    "Category": "Grocery",
                                    "ProductID": "647",
                                    "ProductName": "Whole Wheat Rotini Pasta",
                                    "PoundsSold": "72.2649"
                                },
                                {
                                    "Subcategory": "Teas",
                                    "Category": "Grocery",
                                    "ProductID": "316",
                                    "ProductName": "Earl Grey Tea ORG",
                                    "PoundsSold": "70.0312"
                                },
                                {
                                    "Subcategory": "Dried Fruits",
                                    "Category": "Grocery",
                                    "ProductID": "605",
                                    "ProductName": "Dried Goji Berries ORG",
                                    "PoundsSold": "69.5433"
                                },
                                {
                                    "Subcategory": "Hair Care",
                                    "Category": "Body Care",
                                    "ProductID": "199",
                                    "ProductName": "EO Conditioner Rose Geranium",
                                    "PoundsSold": "69.1196"
                                },
                                {
                                    "Subcategory": "Dried Fruits",
                                    "Category": "Grocery",
                                    "ProductID": "111",
                                    "ProductName": "Coconut Medium Flake ORG",
                                    "PoundsSold": "66.5324"
                                },
                                {
                                    "Subcategory": "Herbs And Spices",
                                    "Category": "Grocery",
                                    "ProductID": "230",
                                    "ProductName": "Onion Powder ORG",
                                    "PoundsSold": "64.2284"
                                },
                                {
                                    "Subcategory": "Herbs And Spices",
                                    "Category": "Grocery",
                                    "ProductID": "213",
                                    "ProductName": "Garlic Salt ORG",
                                    "PoundsSold": "63.8564"
                                },
                                {
                                    "Subcategory": "Snacks",
                                    "Category": "Grocery",
                                    "ProductID": "857",
                                    "ProductName": "Lillys Raspberry Hamantashen",
                                    "PoundsSold": "59.0856"
                                },
                                {
                                    "Subcategory": "Salts",
                                    "Category": "Grocery",
                                    "ProductID": "243",
                                    "ProductName": "Himalayan Pink Salt",
                                    "PoundsSold": "58.8380"
                                },
                                {
                                    "Subcategory": "Dishsoaps",
                                    "Category": "Cleaning Supply",
                                    "ProductID": "692",
                                    "ProductName": "Biokleen Automatic Dish Gel",
                                    "PoundsSold": "58.7738"
                                },
                                {
                                    "Subcategory": "Baking",
                                    "Category": "Grocery",
                                    "ProductID": "89",
                                    "ProductName": "Arrowroot Powder",
                                    "PoundsSold": "56.5190"
                                },
                                {
                                    "Subcategory": "Other Cleaners",
                                    "Category": "Cleaning Supply",
                                    "ProductID": "839",
                                    "ProductName": "Melioria Scrub BULK",
                                    "PoundsSold": "56.0520"
                                },
                                {
                                    "Subcategory": "Produce",
                                    "Category": "Fresh Produce",
                                    "ProductID": "984",
                                    "ProductName": "Brussel Sprouts ORG",
                                    "PoundsSold": "55.5596"
                                },
                                {
                                    "Subcategory": "Herbs And Spices",
                                    "Category": "Grocery",
                                    "ProductID": "234",
                                    "ProductName": "Korintji Cinnamon",
                                    "PoundsSold": "53.7050"
                                },
                                {
                                    "Subcategory": "Herbs And Spices",
                                    "Category": "Grocery",
                                    "ProductID": "252",
                                    "ProductName": "Turmeric ORG",
                                    "PoundsSold": "51.7684"
                                },
                                {
                                    "Subcategory": "Teas",
                                    "Category": "Grocery",
                                    "ProductID": "298",
                                    "ProductName": "Chai - Indian Spice Tea",
                                    "PoundsSold": "51.0329"
                                },
                                {
                                    "Subcategory": "Seeds and Grains",
                                    "Category": "Whls_Grocery",
                                    "ProductID": "55",
                                    "ProductName": "Z_VOID: WHLS- raw O sunflower seeds by the lb",
                                    "PoundsSold": "50.9096"
                                },
                                {
                                    "Subcategory": "Herbs And Spices",
                                    "Category": "Grocery",
                                    "ProductID": "547",
                                    "ProductName": "Mild Curry Powder",
                                    "PoundsSold": "50.7350"
                                },
                                {
                                    "Subcategory": "Produce",
                                    "Category": "Fresh Produce",
                                    "ProductID": "977",
                                    "ProductName": "Ginger Root ORG",
                                    "PoundsSold": "50.6126"
                                },
                                {
                                    "Subcategory": "Seeds And Grains",
                                    "Category": "Grocery",
                                    "ProductID": "548",
                                    "ProductName": "Black Sesame Seeds ORG",
                                    "PoundsSold": "50.1554"
                                },
                                {
                                    "Subcategory": "Hair Care",
                                    "Category": "Body Care",
                                    "ProductID": "745",
                                    "ProductName": "Dry Shampoo",
                                    "PoundsSold": "49.3212"
                                },
                                {
                                    "Subcategory": "Condiments",
                                    "Category": "Whls_Grocery",
                                    "ProductID": "693",
                                    "ProductName": "WHLS-  Vegenaise 5 GAL",
                                    "PoundsSold": "48.1569"
                                },
                                {
                                    "Subcategory": "Produce",
                                    "Category": "Fresh Produce",
                                    "ProductID": "856",
                                    "ProductName": "Red Potatoes, conventional",
                                    "PoundsSold": "47.0516"
                                },
                                {
                                    "Subcategory": "Pastas",
                                    "Category": "Grocery",
                                    "ProductID": "1116",
                                    "ProductName": "Macaroni, Elbow pasta ORG",
                                    "PoundsSold": "46.1197"
                                },
                                {
                                    "Subcategory": "Olio Skin",
                                    "Category": "Local Love",
                                    "ProductID": "315",
                                    "ProductName": "Olio Deodorant Bar",
                                    "PoundsSold": "45.5361"
                                },
                                {
                                    "Subcategory": "Body Cleansing",
                                    "Category": "Body Care",
                                    "ProductID": "820",
                                    "ProductName": "Equalizer Creme Facial Cleanser",
                                    "PoundsSold": "44.9914"
                                },
                                {
                                    "Subcategory": "Multi Purpose",
                                    "Category": "Cleaning Supply",
                                    "ProductID": "114",
                                    "ProductName": "Biokleen BAC-OUT",
                                    "PoundsSold": "43.9333"
                                },
                                {
                                    "Subcategory": "Snacks",
                                    "Category": "Grocery",
                                    "ProductID": "982",
                                    "ProductName": "Chocolate Covered Pretzels",
                                    "PoundsSold": "43.2758"
                                },
                                {
                                    "Subcategory": "Herbs And Spices",
                                    "Category": "Grocery",
                                    "ProductID": "985",
                                    "ProductName": "Chili Powder ORG",
                                    "PoundsSold": "43.0541"
                                },
                                {
                                    "Subcategory": "Sweeteners",
                                    "Category": "Grocery",
                                    "ProductID": "500",
                                    "ProductName": "Agave - Wholesome Blue Raw",
                                    "PoundsSold": "42.3818"
                                },
                                {
                                    "Subcategory": "Balms, Oils And Butters",
                                    "Category": "Body Care",
                                    "ProductID": "208",
                                    "ProductName": "Apricot Kernel Oil",
                                    "PoundsSold": "41.3847"
                                },
                                {
                                    "Subcategory": "Seeds And Grains",
                                    "Category": "Grocery",
                                    "ProductID": "897",
                                    "ProductName": "Millet - ORG",
                                    "PoundsSold": "40.6077"
                                },
                                {
                                    "Subcategory": "Olio Skin",
                                    "Category": "Local Love",
                                    "ProductID": "869",
                                    "ProductName": "Olio Shave Bar",
                                    "PoundsSold": "39.7763"
                                },
                                {
                                    "Subcategory": "Produce",
                                    "Category": "Fresh Produce",
                                    "ProductID": "1083",
                                    "ProductName": "Pears, D'Anjou, ORG",
                                    "PoundsSold": "38.8826"
                                },
                                {
                                    "Subcategory": "Beans And Legumes",
                                    "Category": "Grocery",
                                    "ProductID": "772",
                                    "ProductName": "Lentils Red CONV",
                                    "PoundsSold": "37.4827"
                                },
                                {
                                    "Subcategory": "Teas",
                                    "Category": "Grocery",
                                    "ProductID": "308",
                                    "ProductName": "Relaxing Blend Tea ORG",
                                    "PoundsSold": "37.0052"
                                },
                                {
                                    "Subcategory": "Lotions",
                                    "Category": "Body Care",
                                    "ProductID": "203",
                                    "ProductName": "Shikai Lotion Pomegranate",
                                    "PoundsSold": "36.6913"
                                },
                                {
                                    "Subcategory": "Herbs And Spices",
                                    "Category": "Grocery",
                                    "ProductID": "224",
                                    "ProductName": "Red Chili Pepper Flakes ORG",
                                    "PoundsSold": "36.6908"
                                },
                                {
                                    "Subcategory": "Produce",
                                    "Category": "Fresh Produce",
                                    "ProductID": "731",
                                    "ProductName": "Squash LOCAL",
                                    "PoundsSold": "36.4688"
                                },
                                {
                                    "Subcategory": "Other Cleaners",
                                    "Category": "Cleaning Supply",
                                    "ProductID": "594",
                                    "ProductName": "EcosPro Lavender Glass Cleaner, Concentrate",
                                    "PoundsSold": "36.0764"
                                },
                                {
                                    "Subcategory": "Teas",
                                    "Category": "Grocery",
                                    "ProductID": "289",
                                    "ProductName": "Rooibos Tea ORG",
                                    "PoundsSold": "35.4336"
                                },
                                {
                                    "Subcategory": "Herbs And Spices",
                                    "Category": "Grocery",
                                    "ProductID": "233",
                                    "ProductName": "Cayenne Powder ORG",
                                    "PoundsSold": "35.4206"
                                },
                                {
                                    "Subcategory": "Baking",
                                    "Category": "Grocery",
                                    "ProductID": "1074",
                                    "ProductName": "Cocoa Powder 22-24% Dutch Processed",
                                    "PoundsSold": "34.7705"
                                },
                                {
                                    "Subcategory": "Flours",
                                    "Category": "Grocery",
                                    "ProductID": "488",
                                    "ProductName": "All Purpose Unbleached Flour ORG",
                                    "PoundsSold": "34.2346"
                                },
                                {
                                    "Subcategory": "Vinegars",
                                    "Category": "Grocery",
                                    "ProductID": "1090",
                                    "ProductName": "Red Wine Vinegar BULK ORG",
                                    "PoundsSold": "33.8158"
                                },
                                {
                                    "Subcategory": "Sweet Hazel",
                                    "Category": "Local Love",
                                    "ProductID": "1030",
                                    "ProductName": "Toffee, vegan by Sweet Hazel, LOCAL",
                                    "PoundsSold": "33.0200"
                                },
                                {
                                    "Subcategory": "Teas",
                                    "Category": "Grocery",
                                    "ProductID": "295",
                                    "ProductName": "Peppermint Tea ORG",
                                    "PoundsSold": "32.9230"
                                },
                                {
                                    "Subcategory": "Herbs And Spices",
                                    "Category": "Grocery",
                                    "ProductID": "270",
                                    "ProductName": "Ginger Ground ORG",
                                    "PoundsSold": "32.7707"
                                },
                                {
                                    "Subcategory": "Kombucha",
                                    "Category": "Local Love",
                                    "ProductID": "472",
                                    "ProductName": "Cru Kombucha, Blood Orange Cranberry",
                                    "PoundsSold": "29.0456"
                                },
                                {
                                    "Subcategory": "Nuts",
                                    "Category": "Grocery",
                                    "ProductID": "645",
                                    "ProductName": "Peanuts Dry Roasted CONV",
                                    "PoundsSold": "29.0351"
                                },
                                {
                                    "Subcategory": "Herbs And Spices",
                                    "Category": "Grocery",
                                    "ProductID": "237",
                                    "ProductName": "Poppy Seed ORG",
                                    "PoundsSold": "28.9471"
                                },
                                {
                                    "Subcategory": "Meal Prep - Fruits + Veggies",
                                    "Category": "Grab & Go",
                                    "ProductID": "521",
                                    "ProductName": "Veggie Mix 24 oz",
                                    "PoundsSold": "28.7746"
                                },
                                {
                                    "Subcategory": "Body Cleansing",
                                    "Category": "Body Care",
                                    "ProductID": "892",
                                    "ProductName": "Hand Sanitizer Liquid, Bac-D",
                                    "PoundsSold": "28.6860"
                                },
                                {
                                    "Subcategory": "Teas",
                                    "Category": "Grocery",
                                    "ProductID": "263",
                                    "ProductName": "Yerba Mate Tea - Guayaki ORG",
                                    "PoundsSold": "28.1686"
                                },
                                {
                                    "Subcategory": "Herbs And Spices",
                                    "Category": "Grocery",
                                    "ProductID": "291",
                                    "ProductName": "Smoked Paprika ORG",
                                    "PoundsSold": "27.5214"
                                },
                                {
                                    "Subcategory": "Herbs And Spices",
                                    "Category": "Grocery",
                                    "ProductID": "726",
                                    "ProductName": "Chili Powder",
                                    "PoundsSold": "27.4348"
                                },
                                {
                                    "Subcategory": "Herbs And Spices",
                                    "Category": "Grocery",
                                    "ProductID": "392",
                                    "ProductName": "Smoked Paprika",
                                    "PoundsSold": "27.0643"
                                },
                                {
                                    "Subcategory": "Balms, Oils And Butters",
                                    "Category": "Body Care",
                                    "ProductID": "950",
                                    "ProductName": "Routine Deodorant BULK",
                                    "PoundsSold": "26.6941"
                                },
                                {
                                    "Subcategory": "Sweet Hazel",
                                    "Category": "Local Love",
                                    "ProductID": "1028",
                                    "ProductName": "Peppermint Bark, vegan by Sweet Hazel",
                                    "PoundsSold": "26.4000"
                                },
                                {
                                    "Subcategory": "Produce",
                                    "Category": "Fresh Produce",
                                    "ProductID": "876",
                                    "ProductName": "Tomatoes,  ORG",
                                    "PoundsSold": "26.3672"
                                },
                                {
                                    "Subcategory": "Herbs And Spices",
                                    "Category": "Grocery",
                                    "ProductID": "309",
                                    "ProductName": "Ceylon Cinnamon ORG",
                                    "PoundsSold": "25.6755"
                                },
                                {
                                    "Subcategory": "Dental Care",
                                    "Category": "Body Care",
                                    "ProductID": "1068",
                                    "ProductName": "Ruut Goods Toothpaste BULK",
                                    "PoundsSold": "25.1394"
                                },
                                {
                                    "Subcategory": "Balms, Oils And Butters",
                                    "Category": "Body Care",
                                    "ProductID": "95",
                                    "ProductName": "Vegetable Glycerin",
                                    "PoundsSold": "24.5992"
                                },
                                {
                                    "Subcategory": "Seeds And Grains",
                                    "Category": "Grocery",
                                    "ProductID": "959",
                                    "ProductName": "Popcorn - Red, White and Blue ORG",
                                    "PoundsSold": "24.4404"
                                },
                                {
                                    "Subcategory": "Herbs And Spices",
                                    "Category": "Grocery",
                                    "ProductID": "265",
                                    "ProductName": "Oregano",
                                    "PoundsSold": "24.3330"
                                },
                                {
                                    "Subcategory": "Raw Ingredients",
                                    "Category": "Body Care",
                                    "ProductID": "262",
                                    "ProductName": "French Green Clay",
                                    "PoundsSold": "23.7288"
                                },
                                {
                                    "Subcategory": "Produce",
                                    "Category": "Fresh Produce",
                                    "ProductID": "865",
                                    "ProductName": "Squash Yellow Conventional",
                                    "PoundsSold": "23.6962"
                                },
                                {
                                    "Subcategory": "Herbs And Spices",
                                    "Category": "Grocery",
                                    "ProductID": "992",
                                    "ProductName": "Cinnamon Korintji, ORG",
                                    "PoundsSold": "23.5307"
                                },
                                {
                                    "Subcategory": "Herbs And Spices",
                                    "Category": "Grocery",
                                    "ProductID": "677",
                                    "ProductName": "Taco Seasoning",
                                    "PoundsSold": "23.1088"
                                },
                                {
                                    "Subcategory": "Beans And Legumes",
                                    "Category": "Grocery",
                                    "ProductID": "1031",
                                    "ProductName": "Small Red Chili Beans ORG",
                                    "PoundsSold": "22.4452"
                                },
                                {
                                    "Subcategory": "Hair Care",
                                    "Category": "Body Care",
                                    "ProductID": "211",
                                    "ProductName": "Giovanni Shampoo Smooth as Silk",
                                    "PoundsSold": "22.4190"
                                },
                                {
                                    "Subcategory": "Herbs And Spices",
                                    "Category": "Grocery",
                                    "ProductID": "751",
                                    "ProductName": "Minced Dried Onion",
                                    "PoundsSold": "22.2889"
                                },
                                {
                                    "Subcategory": "Flours",
                                    "Category": "Whls_Grocery",
                                    "ProductID": "643",
                                    "ProductName": "WHLS- Vital Wheat Gluten",
                                    "PoundsSold": "22.2342"
                                },
                                {
                                    "Subcategory": "Herbs And Spices",
                                    "Category": "Grocery",
                                    "ProductID": "393",
                                    "ProductName": "Paprika Powder",
                                    "PoundsSold": "22.0821"
                                },
                                {
                                    "Subcategory": "Hair Care",
                                    "Category": "Body Care",
                                    "ProductID": "528",
                                    "ProductName": "Giovanni Conditioner Smooth as Silk",
                                    "PoundsSold": "21.8279"
                                },
                                {
                                    "Subcategory": "Produce",
                                    "Category": "Fresh Produce",
                                    "ProductID": "906",
                                    "ProductName": "Summer Crisp Lettuce",
                                    "PoundsSold": "21.3225"
                                },
                                {
                                    "Subcategory": "Herbs And Spices",
                                    "Category": "Grocery",
                                    "ProductID": "249",
                                    "ProductName": "Onion Powder, Conv.",
                                    "PoundsSold": "21.2031"
                                },
                                {
                                    "Subcategory": "Herbs And Spices",
                                    "Category": "Grocery",
                                    "ProductID": "277",
                                    "ProductName": "Italian Seasoning",
                                    "PoundsSold": "21.0579"
                                },
                                {
                                    "Subcategory": "Herbs And Spices",
                                    "Category": "Grocery",
                                    "ProductID": "247",
                                    "ProductName": "Mustard Seed - Whole ORG",
                                    "PoundsSold": "20.2827"
                                },
                                {
                                    "Subcategory": "Nut Butters",
                                    "Category": "Grocery",
                                    "ProductID": "144",
                                    "ProductName": "Peanut Butter - natural",
                                    "PoundsSold": "19.9545"
                                },
                                {
                                    "Subcategory": "Candy",
                                    "Category": "Grocery",
                                    "ProductID": "158",
                                    "ProductName": "Mini Marshmallows, Chocolate Covered",
                                    "PoundsSold": "19.7240"
                                },
                                {
                                    "Subcategory": "Nuts",
                                    "Category": "Grocery",
                                    "ProductID": "499",
                                    "ProductName": "Almonds Cocoa Dusted ORG",
                                    "PoundsSold": "19.1962"
                                },
                                {
                                    "Subcategory": "Produce",
                                    "Category": "Fresh Produce",
                                    "ProductID": "702",
                                    "ProductName": "Cut Watermelon",
                                    "PoundsSold": "19.0394"
                                },
                                {
                                    "Subcategory": "Produce",
                                    "Category": "Fresh Produce",
                                    "ProductID": "706",
                                    "ProductName": "Cut Butternut Squash",
                                    "PoundsSold": "18.8409"
                                },
                                {
                                    "Subcategory": "Produce",
                                    "Category": "Fresh Produce",
                                    "ProductID": "611",
                                    "ProductName": "Cucumbers",
                                    "PoundsSold": "18.2726"
                                },
                                {
                                    "Subcategory": "Teas",
                                    "Category": "Grocery",
                                    "ProductID": "958",
                                    "ProductName": "Indian Spice Chai Tea ORG",
                                    "PoundsSold": "18.1929"
                                },
                                {
                                    "Subcategory": "Herbs And Spices",
                                    "Category": "Grocery",
                                    "ProductID": "275",
                                    "ProductName": "Basil ORG",
                                    "PoundsSold": "17.5464"
                                },
                                {
                                    "Subcategory": "Pastas",
                                    "Category": "Grocery",
                                    "ProductID": "648",
                                    "ProductName": "Whole Wheat Spaghetti Pasta",
                                    "PoundsSold": "17.4103"
                                },
                                {
                                    "Subcategory": "Herbs And Spices",
                                    "Category": "Grocery",
                                    "ProductID": "312",
                                    "ProductName": "Garam Masala ORG",
                                    "PoundsSold": "17.3348"
                                },
                                {
                                    "Subcategory": "Herbs And Spices",
                                    "Category": "Grocery",
                                    "ProductID": "286",
                                    "ProductName": "Paprika ORG",
                                    "PoundsSold": "17.3100"
                                },
                                {
                                    "Subcategory": "Herbs And Spices",
                                    "Category": "Grocery",
                                    "ProductID": "550",
                                    "ProductName": "Thyme ORG",
                                    "PoundsSold": "16.5487"
                                },
                                {
                                    "Subcategory": "Meal Prep - Fruits + Veggies",
                                    "Category": "Grab & Go",
                                    "ProductID": "466",
                                    "ProductName": "Berries, 1pt Jar",
                                    "PoundsSold": "16.4769"
                                },
                                {
                                    "Subcategory": "Produce",
                                    "Category": "Fresh Produce",
                                    "ProductID": "612",
                                    "ProductName": "Green Beans ORG",
                                    "PoundsSold": "15.8075"
                                },
                                {
                                    "Subcategory": "Sweet Hazel",
                                    "Category": "Local Love",
                                    "ProductID": "1029",
                                    "ProductName": "Peanut Brittle, vegan by Sweet Hazel, LOCAL",
                                    "PoundsSold": "15.7800"
                                },
                                {
                                    "Subcategory": "Herbs And Spices",
                                    "Category": "Grocery",
                                    "ProductID": "329",
                                    "ProductName": "Nutmeg - Ground",
                                    "PoundsSold": "15.2123"
                                },
                                {
                                    "Subcategory": "Herbs And Spices",
                                    "Category": "Grocery",
                                    "ProductID": "990",
                                    "ProductName": "Garlic Powder, CONV",
                                    "PoundsSold": "14.9669"
                                },
                                {
                                    "Subcategory": "Herbs And Spices",
                                    "Category": "Grocery",
                                    "ProductID": "330",
                                    "ProductName": "Cardamom",
                                    "PoundsSold": "14.8918"
                                },
                                {
                                    "Subcategory": "Drool",
                                    "Category": "Local Love",
                                    "ProductID": "1045",
                                    "ProductName": "Dog Biscuit, Drool BULK",
                                    "PoundsSold": "14.8233"
                                },
                                {
                                    "Subcategory": "Condiments",
                                    "Category": "Grocery",
                                    "ProductID": "583",
                                    "ProductName": "Earth Balance Buttery Spread",
                                    "PoundsSold": "14.4482"
                                },
                                {
                                    "Subcategory": "Herbs And Spices",
                                    "Category": "Grocery",
                                    "ProductID": "744",
                                    "ProductName": "Cumin Seed ORG",
                                    "PoundsSold": "13.6915"
                                },
                                {
                                    "Subcategory": "Produce",
                                    "Category": "Fresh Produce",
                                    "ProductID": "709",
                                    "ProductName": "Cut Organic Zucchini Noodles",
                                    "PoundsSold": "13.2445"
                                },
                                {
                                    "Subcategory": "Baking",
                                    "Category": "Grocery",
                                    "ProductID": "864",
                                    "ProductName": "Yeast Instant",
                                    "PoundsSold": "13.1663"
                                },
                                {
                                    "Subcategory": "Herbs And Spices",
                                    "Category": "Grocery",
                                    "ProductID": "269",
                                    "ProductName": "Chicory Root ORG",
                                    "PoundsSold": "12.8775"
                                },
                                {
                                    "Subcategory": "Herbs And Spices",
                                    "Category": "Grocery",
                                    "ProductID": "306",
                                    "ProductName": "Vindaloo Curry ORG",
                                    "PoundsSold": "12.8200"
                                },
                                {
                                    "Subcategory": "Coffee",
                                    "Category": "Grocery",
                                    "ProductID": "486",
                                    "ProductName": "Coffee Peruvian",
                                    "PoundsSold": "12.7592"
                                },
                                {
                                    "Subcategory": "Meal Prep - Fruits + Veggies",
                                    "Category": "Grab & Go",
                                    "ProductID": "462",
                                    "ProductName": "Broccoli, 1pt Jar",
                                    "PoundsSold": "12.6363"
                                },
                                {
                                    "Subcategory": "Dairy Alternatives",
                                    "Category": "Whls_Grocery",
                                    "ProductID": "540",
                                    "ProductName": "WHLS- Chao Slices - Case of 12",
                                    "PoundsSold": "12.5056"
                                },
                                {
                                    "Subcategory": "Herbs And Spices",
                                    "Category": "Grocery",
                                    "ProductID": "217",
                                    "ProductName": "Mustard - Ground ORG",
                                    "PoundsSold": "12.5021"
                                },
                                {
                                    "Subcategory": "Drool",
                                    "Category": "Local Love",
                                    "ProductID": "1048",
                                    "ProductName": "Dog Biscuit, Mini M’ Bones, BULK, Drool",
                                    "PoundsSold": "12.4621"
                                },
                                {
                                    "Subcategory": "Laundry Cleaners",
                                    "Category": "Cleaning Supply",
                                    "ProductID": "816",
                                    "ProductName": "Charlie's Soap Laundry Liquid",
                                    "PoundsSold": "12.3505"
                                },
                                {
                                    "Subcategory": "Herbs And Spices",
                                    "Category": "Grocery",
                                    "ProductID": "1002",
                                    "ProductName": "Cinnamon Sticks ORG",
                                    "PoundsSold": "12.3083"
                                },
                                {
                                    "Subcategory": "Coffee",
                                    "Category": "Grocery",
                                    "ProductID": "281",
                                    "ProductName": "Coffee Papua New Guinea",
                                    "PoundsSold": "11.6799"
                                },
                                {
                                    "Subcategory": "Herbs And Spices",
                                    "Category": "Grocery",
                                    "ProductID": "991",
                                    "ProductName": "Garam Masala CONV",
                                    "PoundsSold": "11.0003"
                                },
                                {
                                    "Subcategory": "Produce",
                                    "Category": "Fresh Produce",
                                    "ProductID": "1019",
                                    "ProductName": "Sunflower Sprouts, LOCAL",
                                    "PoundsSold": "10.6200"
                                },
                                {
                                    "Subcategory": "Herbs And Spices",
                                    "Category": "Grocery",
                                    "ProductID": "735",
                                    "ProductName": "Pumpkin Spice",
                                    "PoundsSold": "10.4118"
                                },
                                {
                                    "Subcategory": "Raw Ingredients",
                                    "Category": "Body Care",
                                    "ProductID": "216",
                                    "ProductName": "Emulsifying Wax",
                                    "PoundsSold": "10.3895"
                                },
                                {
                                    "Subcategory": "Herbs And Spices",
                                    "Category": "Grocery",
                                    "ProductID": "949",
                                    "ProductName": "Taco Seasoning  ORG",
                                    "PoundsSold": "10.3660"
                                },
                                {
                                    "Subcategory": "Multi Purpose",
                                    "Category": "Cleaning Supply",
                                    "ProductID": "485",
                                    "ProductName": "Biokleen all purpose cleaner",
                                    "PoundsSold": "10.2706"
                                },
                                {
                                    "Subcategory": "Herbs And Spices",
                                    "Category": "Grocery",
                                    "ProductID": "319",
                                    "ProductName": "Cloves - Whole",
                                    "PoundsSold": "10.2094"
                                },
                                {
                                    "Subcategory": "Herbs And Spices",
                                    "Category": "Grocery",
                                    "ProductID": "246",
                                    "ProductName": "Coriander Whole ORG",
                                    "PoundsSold": "10.0051"
                                },
                                {
                                    "Subcategory": "Fruits",
                                    "Category": "Whls_Grocery",
                                    "ProductID": "757",
                                    "ProductName": "Banana Chips (Swt)",
                                    "PoundsSold": "9.8909"
                                },
                                {
                                    "Subcategory": "Sweeteners",
                                    "Category": "Grocery",
                                    "ProductID": "52",
                                    "ProductName": "Sugar - Brown LIGHT ORG",
                                    "PoundsSold": "9.7500"
                                },
                                {
                                    "Subcategory": "Baking",
                                    "Category": "Grocery",
                                    "ProductID": "147",
                                    "ProductName": "Chocolate Chips Milk Guittard",
                                    "PoundsSold": "9.6315"
                                },
                                {
                                    "Subcategory": "Herbs And Spices",
                                    "Category": "Grocery",
                                    "ProductID": "1104",
                                    "ProductName": "Red Chili Pepper Flakes",
                                    "PoundsSold": "9.4416"
                                },
                                {
                                    "Subcategory": "Other Cleaners",
                                    "Category": "Cleaning Supply",
                                    "ProductID": "840",
                                    "ProductName": "Melioria all-purpose Flakes  BULK",
                                    "PoundsSold": "9.3414"
                                },
                                {
                                    "Subcategory": "Produce",
                                    "Category": "Fresh Produce",
                                    "ProductID": "714",
                                    "ProductName": "Cut Pineapple",
                                    "PoundsSold": "8.9700"
                                },
                                {
                                    "Subcategory": "Herbs And Spices",
                                    "Category": "Grocery",
                                    "ProductID": "290",
                                    "ProductName": "Star Anise Select Whole",
                                    "PoundsSold": "8.9633"
                                },
                                {
                                    "Subcategory": "Coffee",
                                    "Category": "Grocery",
                                    "ProductID": "283",
                                    "ProductName": "Coffee Honduran ORG",
                                    "PoundsSold": "8.8505"
                                },
                                {
                                    "Subcategory": "Produce",
                                    "Category": "Fresh Produce",
                                    "ProductID": "732",
                                    "ProductName": "Pluot LOCAL",
                                    "PoundsSold": "8.7487"
                                },
                                {
                                    "Subcategory": "Herbs And Spices",
                                    "Category": "Grocery",
                                    "ProductID": "301",
                                    "ProductName": "Bay Leaf ORG",
                                    "PoundsSold": "8.5793"
                                },
                                {
                                    "Subcategory": "Herbs And Spices",
                                    "Category": "Grocery",
                                    "ProductID": "326",
                                    "ProductName": "Cloves - Ground ORG",
                                    "PoundsSold": "8.3100"
                                },
                                {
                                    "Subcategory": "Hair Care",
                                    "Category": "Body Care",
                                    "ProductID": "669",
                                    "ProductName": "Shikai Shampoo Everyday",
                                    "PoundsSold": "8.2987"
                                },
                                {
                                    "Subcategory": "Herbs And Spices",
                                    "Category": "Grocery",
                                    "ProductID": "276",
                                    "ProductName": "Rosemary Leaf ORG",
                                    "PoundsSold": "8.2978"
                                },
                                {
                                    "Subcategory": "Herbs And Spices",
                                    "Category": "Grocery",
                                    "ProductID": "167",
                                    "ProductName": "Chili Powder Salt Free",
                                    "PoundsSold": "8.2137"
                                },
                                {
                                    "Subcategory": "Herbs And Spices",
                                    "Category": "Grocery",
                                    "ProductID": "302",
                                    "ProductName": "Nutmeg - Whole",
                                    "PoundsSold": "8.1693"
                                },
                                {
                                    "Subcategory": "Flours",
                                    "Category": "Grocery",
                                    "ProductID": "854",
                                    "ProductName": "Coconut Flour, ORG",
                                    "PoundsSold": "7.7584"
                                },
                                {
                                    "Subcategory": "Herbs And Spices",
                                    "Category": "Grocery",
                                    "ProductID": "293",
                                    "ProductName": "Black Peppercorns ORG",
                                    "PoundsSold": "7.7361"
                                },
                                {
                                    "Subcategory": "Lotions",
                                    "Category": "Body Care",
                                    "ProductID": "1101",
                                    "ProductName": "All Good Sunscreen BULK",
                                    "PoundsSold": "7.6453"
                                },
                                {
                                    "Subcategory": "Coffee",
                                    "Category": "Grocery",
                                    "ProductID": "279",
                                    "ProductName": "Coffee Mexican ORG",
                                    "PoundsSold": "7.4907"
                                },
                                {
                                    "Subcategory": "Produce",
                                    "Category": "Fresh Produce",
                                    "ProductID": "721",
                                    "ProductName": "Cut Sweet Potatos, ORG",
                                    "PoundsSold": "7.2598"
                                },
                                {
                                    "Subcategory": "Herbs And Spices",
                                    "Category": "Grocery",
                                    "ProductID": "268",
                                    "ProductName": "Curry Powder ORG",
                                    "PoundsSold": "6.9253"
                                },
                                {
                                    "Subcategory": "Meal Prep - Fruits + Veggies",
                                    "Category": "Grab & Go",
                                    "ProductID": "522",
                                    "ProductName": "Brussel Sprouts, 24  oz jar",
                                    "PoundsSold": "6.8869"
                                },
                                {
                                    "Subcategory": "Meal Prep - Fruits + Veggies",
                                    "Category": "Grab & Go",
                                    "ProductID": "532",
                                    "ProductName": "Salad Dressing: Balsamic Vinaigrette, 1pt Jar",
                                    "PoundsSold": "6.7398"
                                },
                                {
                                    "Subcategory": "Seeds And Grains",
                                    "Category": "Grocery",
                                    "ProductID": "549",
                                    "ProductName": "Sesame Seeds - White Hulled ORG",
                                    "PoundsSold": "6.6654"
                                },
                                {
                                    "Subcategory": "Herbs And Spices",
                                    "Category": "Grocery",
                                    "ProductID": "258",
                                    "ProductName": "Cinnamon Sticks",
                                    "PoundsSold": "6.6562"
                                },
                                {
                                    "Subcategory": "Herbs And Spices",
                                    "Category": "Grocery",
                                    "ProductID": "303",
                                    "ProductName": "Allspice ORG",
                                    "PoundsSold": "6.4511"
                                },
                                {
                                    "Subcategory": "Herbs And Spices",
                                    "Category": "Grocery",
                                    "ProductID": "974",
                                    "ProductName": "Rosemary Leaf",
                                    "PoundsSold": "6.3950"
                                },
                                {
                                    "Subcategory": "Baking",
                                    "Category": "Grocery",
                                    "ProductID": "1127",
                                    "ProductName": "Maple Toasted Coconut Chips ORG",
                                    "PoundsSold": "6.1628"
                                },
                                {
                                    "Subcategory": "Dental Care",
                                    "Category": "Body Care",
                                    "ProductID": "1069",
                                    "ProductName": "Ruut Goods Mouthwash BULK",
                                    "PoundsSold": "6.1400"
                                },
                                {
                                    "Subcategory": "Teas",
                                    "Category": "Grocery",
                                    "ProductID": "615",
                                    "ProductName": "Greenthread Herbs Tea Blends (any variety)",
                                    "PoundsSold": "6.0733"
                                },
                                {
                                    "Subcategory": "Herbs And Spices",
                                    "Category": "Grocery",
                                    "ProductID": "248",
                                    "ProductName": "Dill Seed ORG",
                                    "PoundsSold": "6.0026"
                                },
                                {
                                    "Subcategory": "Essential Oils",
                                    "Category": "Body Care",
                                    "ProductID": "415",
                                    "ProductName": "Essential Oil, Wintergreen Dropper",
                                    "PoundsSold": "6.0000"
                                },
                                {
                                    "Subcategory": "Herbs And Spices",
                                    "Category": "Grocery",
                                    "ProductID": "220",
                                    "ProductName": "Mustard Seed Brown ORG",
                                    "PoundsSold": "5.8782"
                                },
                                {
                                    "Subcategory": "Herbs And Spices",
                                    "Category": "Grocery",
                                    "ProductID": "292",
                                    "ProductName": "Sage ORG",
                                    "PoundsSold": "5.7100"
                                },
                                {
                                    "Subcategory": "Teas",
                                    "Category": "Grocery",
                                    "ProductID": "975",
                                    "ProductName": "Luscious Licorice Tea, ORG",
                                    "PoundsSold": "5.4808"
                                },
                                {
                                    "Subcategory": "Herbs And Spices",
                                    "Category": "Grocery",
                                    "ProductID": "1084",
                                    "ProductName": "Ginger, ground",
                                    "PoundsSold": "5.4342"
                                },
                                {
                                    "Subcategory": "Herbs And Spices",
                                    "Category": "Grocery",
                                    "ProductID": "1075",
                                    "ProductName": "Lemon Pepper ORG",
                                    "PoundsSold": "5.4100"
                                },
                                {
                                    "Subcategory": "Herbs And Spices",
                                    "Category": "Grocery",
                                    "ProductID": "520",
                                    "ProductName": "Caraway Seed ORG",
                                    "PoundsSold": "5.0080"
                                },
                                {
                                    "Subcategory": "Seeds And Grains",
                                    "Category": "Grocery",
                                    "ProductID": "68",
                                    "ProductName": "Rice - Golden Rose Brown ORG",
                                    "PoundsSold": "4.9816"
                                },
                                {
                                    "Subcategory": "Meal Prep - Fruits + Veggies",
                                    "Category": "Grab & Go",
                                    "ProductID": "465",
                                    "ProductName": "Blueberries, 1pt Jar",
                                    "PoundsSold": "4.9355"
                                },
                                {
                                    "Subcategory": "Herbs And Spices",
                                    "Category": "Grocery",
                                    "ProductID": "322",
                                    "ProductName": "Dill Weed ORG",
                                    "PoundsSold": "4.8607"
                                },
                                {
                                    "Subcategory": "Drool",
                                    "Category": "Local Love",
                                    "ProductID": "1050",
                                    "ProductName": "Dog Biscuit Bundle, Steak & Potato",
                                    "PoundsSold": "4.8584"
                                },
                                {
                                    "Subcategory": "Herbs And Spices",
                                    "Category": "Grocery",
                                    "ProductID": "903",
                                    "ProductName": "Fennel Seed",
                                    "PoundsSold": "4.8274"
                                },
                                {
                                    "Subcategory": "Herbs And Spices",
                                    "Category": "Grocery",
                                    "ProductID": "713",
                                    "ProductName": "Coriander - Whole",
                                    "PoundsSold": "4.7906"
                                },
                                {
                                    "Subcategory": "Herbs And Spices",
                                    "Category": "Grocery",
                                    "ProductID": "261",
                                    "ProductName": "Celery Seed ORG",
                                    "PoundsSold": "4.7258"
                                },
                                {
                                    "Subcategory": "Teas",
                                    "Category": "Grocery",
                                    "ProductID": "294",
                                    "ProductName": "Chai - Black Tea Ground",
                                    "PoundsSold": "4.6501"
                                },
                                {
                                    "Subcategory": "Produce",
                                    "Category": "Fresh Produce",
                                    "ProductID": "956",
                                    "ProductName": "Cucumber, LOCAL",
                                    "PoundsSold": "4.4695"
                                },
                                {
                                    "Subcategory": "Vinegars",
                                    "Category": "Grocery",
                                    "ProductID": "155",
                                    "ProductName": "Balsamic  Vinegar - Spectrum",
                                    "PoundsSold": "4.4400"
                                },
                                {
                                    "Subcategory": "Meal Prep - Fruits + Veggies",
                                    "Category": "Grab & Go",
                                    "ProductID": "483",
                                    "ProductName": "Tropical Cut Fruit, 1qt Jar",
                                    "PoundsSold": "4.4131"
                                },
                                {
                                    "Subcategory": "Laundry Cleaners",
                                    "Category": "Cleaning Supply",
                                    "ProductID": "323",
                                    "ProductName": "Eco Nuts laundry cleaner",
                                    "PoundsSold": "4.3102"
                                },
                                {
                                    "Subcategory": "Essential Oils",
                                    "Category": "Body Care",
                                    "ProductID": "344",
                                    "ProductName": "Essential oil, Tea tree floz inventory unit",
                                    "PoundsSold": "4.2445"
                                },
                                {
                                    "Subcategory": "Flours",
                                    "Category": "Grocery",
                                    "ProductID": "22",
                                    "ProductName": "Whole Wheat Pastry Flour ORG",
                                    "PoundsSold": "4.1017"
                                },
                                {
                                    "Subcategory": "Balms, Oils And Butters",
                                    "Category": "Body Care",
                                    "ProductID": "1113",
                                    "ProductName": "Jojoba oil, expeller pressed",
                                    "PoundsSold": "3.9990"
                                },
                                {
                                    "Subcategory": "Herbs And Spices",
                                    "Category": "Grocery",
                                    "ProductID": "1005",
                                    "ProductName": "Star Anise ORG",
                                    "PoundsSold": "3.9862"
                                },
                                {
                                    "Subcategory": "Produce",
                                    "Category": "Fresh Produce",
                                    "ProductID": "957",
                                    "ProductName": "Celery, Cut Stalks ORG",
                                    "PoundsSold": "3.8980"
                                },
                                {
                                    "Subcategory": "Oils",
                                    "Category": "Whls_Grocery",
                                    "ProductID": "360",
                                    "ProductName": "WHLS- Coconut Oil ORG - 36.5lb Pail Aunt Pattys",
                                    "PoundsSold": "3.8780"
                                },
                                {
                                    "Subcategory": "Kings Peak Coffee",
                                    "Category": "Local Love",
                                    "ProductID": "1133",
                                    "ProductName": "Kings Peak Coffee DECAFFINATED",
                                    "PoundsSold": "3.6098"
                                },
                                {
                                    "Subcategory": "Seeds And Grains",
                                    "Category": "Grocery",
                                    "ProductID": "91",
                                    "ProductName": "Quinoa - Red ORG",
                                    "PoundsSold": "3.4291"
                                },
                                {
                                    "Subcategory": "Herbs And Spices",
                                    "Category": "Grocery",
                                    "ProductID": "317",
                                    "ProductName": "Cayenne Powder, CONV",
                                    "PoundsSold": "3.3938"
                                },
                                {
                                    "Subcategory": "Meal Prep - Fruits + Veggies",
                                    "Category": "Grab & Go",
                                    "ProductID": "533",
                                    "ProductName": "Salad Dressing: Tahini, 1pt Jar",
                                    "PoundsSold": "3.3699"
                                },
                                {
                                    "Subcategory": "Herbs And Spices",
                                    "Category": "Grocery",
                                    "ProductID": "1033",
                                    "ProductName": "Dill Weed",
                                    "PoundsSold": "3.2000"
                                },
                                {
                                    "Subcategory": "Produce",
                                    "Category": "Fresh Produce",
                                    "ProductID": "631",
                                    "ProductName": "Basil Fresh ORG",
                                    "PoundsSold": "3.1586"
                                },
                                {
                                    "Subcategory": "Essential Oils",
                                    "Category": "Body Care",
                                    "ProductID": "430",
                                    "ProductName": "Essential Oil, Himalayan Cedar Dropper",
                                    "PoundsSold": "3.0000"
                                },
                                {
                                    "Subcategory": "Meal Prep - Fruits + Veggies",
                                    "Category": "Grab & Go",
                                    "ProductID": "529",
                                    "ProductName": "Rainbow Chard, 1Qt jar",
                                    "PoundsSold": "2.9478"
                                },
                                {
                                    "Subcategory": "Produce",
                                    "Category": "Fresh Produce",
                                    "ProductID": "1118",
                                    "ProductName": "White and Purple Bell Peppers, LOCAL",
                                    "PoundsSold": "2.8314"
                                },
                                {
                                    "Subcategory": "Teas",
                                    "Category": "Grocery",
                                    "ProductID": "271",
                                    "ProductName": "Hibiscus - Cut and Sifted",
                                    "PoundsSold": "2.8302"
                                },
                                {
                                    "Subcategory": "Herbs And Spices",
                                    "Category": "Grocery",
                                    "ProductID": "1105",
                                    "ProductName": "Nutmeg - Ground ORG",
                                    "PoundsSold": "2.8000"
                                },
                                {
                                    "Subcategory": "Flours",
                                    "Category": "Whls_Grocery",
                                    "ProductID": "676",
                                    "ProductName": "WHLS- Oat Flour 50lb Bag",
                                    "PoundsSold": "2.5341"
                                },
                                {
                                    "Subcategory": "Hair Care",
                                    "Category": "Body Care",
                                    "ProductID": "166",
                                    "ProductName": "Shikai Conditioner Everyday",
                                    "PoundsSold": "2.0973"
                                },
                                {
                                    "Subcategory": "Baking",
                                    "Category": "Whls_Grocery",
                                    "ProductID": "1110",
                                    "ProductName": "WHLS- Citric Acid 50 LB",
                                    "PoundsSold": "2.0000"
                                },
                                {
                                    "Subcategory": "Jugs",
                                    "Category": "Containers",
                                    "ProductID": "116",
                                    "ProductName": "Clear medium growler w cap",
                                    "PoundsSold": "2.0000"
                                },
                                {
                                    "Subcategory": "Essential Oils",
                                    "Category": "Body Care",
                                    "ProductID": "420",
                                    "ProductName": "Essential Oil, Lemon Dropper",
                                    "PoundsSold": "2.0000"
                                },
                                {
                                    "Subcategory": "Kitchen Accessories",
                                    "Category": "Accessories",
                                    "ProductID": "849",
                                    "ProductName": "Silicone Bag, Large",
                                    "PoundsSold": "2.0000"
                                },
                                {
                                    "Subcategory": "Kitchen Accessories",
                                    "Category": "Accessories",
                                    "ProductID": "848",
                                    "ProductName": "Silicone Bag, Small",
                                    "PoundsSold": "2.0000"
                                },
                                {
                                    "Subcategory": "Seeds and Grains",
                                    "Category": "Whls_Grocery",
                                    "ProductID": "961",
                                    "ProductName": "WHLS- Quinoa White ORG 25lb bag",
                                    "PoundsSold": "2.0000"
                                },
                                {
                                    "Subcategory": "Herbs And Spices",
                                    "Category": "Grocery",
                                    "ProductID": "1099",
                                    "ProductName": "Fennel Seed ORG",
                                    "PoundsSold": "1.9828"
                                },
                                {
                                    "Subcategory": "Herbs And Spices",
                                    "Category": "Grocery",
                                    "ProductID": "986",
                                    "ProductName": "Thyme, dried CONV",
                                    "PoundsSold": "1.9397"
                                },
                                {
                                    "Subcategory": "Laundry Cleaners",
                                    "Category": "Cleaning Supply",
                                    "ProductID": "28",
                                    "ProductName": "laundry powder, Tough Guy",
                                    "PoundsSold": "1.8981"
                                },
                                {
                                    "Subcategory": "Salts",
                                    "Category": "Whls_Grocery",
                                    "ProductID": "962",
                                    "ProductName": "WHLS- Real Salt, 25lb Bag",
                                    "PoundsSold": "1.8284"
                                },
                                {
                                    "Subcategory": "Dishsoaps",
                                    "Category": "Cleaning Supply",
                                    "ProductID": "817",
                                    "ProductName": "Biokleen Automatic Dish Powder",
                                    "PoundsSold": "1.8092"
                                },
                                {
                                    "Subcategory": "Herbs And Spices",
                                    "Category": "Grocery",
                                    "ProductID": "318",
                                    "ProductName": "Herbs de Provence ORG",
                                    "PoundsSold": "1.7597"
                                },
                                {
                                    "Subcategory": "Essential Oils",
                                    "Category": "Body Care",
                                    "ProductID": "743",
                                    "ProductName": "Essential Oil, Eucalyptus 6floz",
                                    "PoundsSold": "1.7114"
                                },
                                {
                                    "Subcategory": "Herbs And Spices",
                                    "Category": "Grocery",
                                    "ProductID": "254",
                                    "ProductName": "Five Spice Powder",
                                    "PoundsSold": "1.6784"
                                },
                                {
                                    "Subcategory": "Herbs And Spices",
                                    "Category": "Grocery",
                                    "ProductID": "207",
                                    "ProductName": "Mustard Seed Yellow ORG",
                                    "PoundsSold": "1.5096"
                                },
                                {
                                    "Subcategory": "Meal Prep - Fruits + Veggies",
                                    "Category": "Grab & Go",
                                    "ProductID": "530",
                                    "ProductName": "Purple Cabbage, 1qt Jar",
                                    "PoundsSold": "1.4739"
                                },
                                {
                                    "Subcategory": "Produce",
                                    "Category": "Fresh Produce",
                                    "ProductID": "701",
                                    "ProductName": "Cut Cellery, ORG",
                                    "PoundsSold": "1.4091"
                                },
                                {
                                    "Subcategory": "Meal Prep - Fruits + Veggies",
                                    "Category": "Grab & Go",
                                    "ProductID": "503",
                                    "ProductName": "Chopped celery onion, garlic pint jar",
                                    "PoundsSold": "1.2339"
                                },
                                {
                                    "Subcategory": "Herbs And Spices",
                                    "Category": "Grocery",
                                    "ProductID": "314",
                                    "ProductName": "Pumpkin Spice ORG",
                                    "PoundsSold": "1.2205"
                                },
                                {
                                    "Subcategory": "Teas",
                                    "Category": "Grocery",
                                    "ProductID": "518",
                                    "ProductName": "Holy Basil Tea",
                                    "PoundsSold": "1.2108"
                                },
                                {
                                    "Subcategory": "Teas",
                                    "Category": "Grocery",
                                    "ProductID": "517",
                                    "ProductName": "Immunity Tea",
                                    "PoundsSold": "1.1504"
                                },
                                {
                                    "Subcategory": "Produce",
                                    "Category": "Fresh Produce",
                                    "ProductID": "1117",
                                    "ProductName": "Braising Mix, LOCAL",
                                    "PoundsSold": "1.1496"
                                },
                                {
                                    "Subcategory": "Seeds And Grains",
                                    "Category": "Grocery",
                                    "ProductID": "222",
                                    "ProductName": "Sesame Seeds - Black ORG",
                                    "PoundsSold": "1.1417"
                                },
                                {
                                    "Subcategory": "Baking",
                                    "Category": "Whls_Grocery",
                                    "ProductID": "544",
                                    "ProductName": "WHLS- Vanilla ORG - 1 GAL Jug",
                                    "PoundsSold": "1.0992"
                                },
                                {
                                    "Subcategory": "Flours",
                                    "Category": "Grocery",
                                    "ProductID": "969",
                                    "ProductName": "VOID",
                                    "PoundsSold": "0.9805"
                                },
                                {
                                    "Subcategory": "Herbs And Spices",
                                    "Category": "Grocery",
                                    "ProductID": "1122",
                                    "ProductName": "Parsley, ORG",
                                    "PoundsSold": "0.9579"
                                },
                                {
                                    "Subcategory": "Herbs And Spices",
                                    "Category": "Grocery",
                                    "ProductID": "828",
                                    "ProductName": "Mustard Seed, yellow, ORG",
                                    "PoundsSold": "0.8798"
                                },
                                {
                                    "Subcategory": "Teas",
                                    "Category": "Grocery",
                                    "ProductID": "516",
                                    "ProductName": "Purple Rain Tea",
                                    "PoundsSold": "0.8705"
                                },
                                {
                                    "Subcategory": "Essential Oils",
                                    "Category": "Body Care",
                                    "ProductID": "439",
                                    "ProductName": "Essential Oil, Tea Tree 6floz",
                                    "PoundsSold": "0.8681"
                                },
                                {
                                    "Subcategory": "Essential Oils",
                                    "Category": "Body Care",
                                    "ProductID": "739",
                                    "ProductName": "Essential Oil, Eucalyptus 4floz",
                                    "PoundsSold": "0.8557"
                                },
                                {
                                    "Subcategory": "Teas",
                                    "Category": "Grocery",
                                    "ProductID": "267",
                                    "ProductName": "Gunpowder Mint Green",
                                    "PoundsSold": "0.8207"
                                },
                                {
                                    "Subcategory": "Teas",
                                    "Category": "Grocery",
                                    "ProductID": "339",
                                    "ProductName": "Pu 'erh ORG Tea",
                                    "PoundsSold": "0.8000"
                                },
                                {
                                    "Subcategory": "Teas",
                                    "Category": "Grocery",
                                    "ProductID": "1125",
                                    "ProductName": "Earl Grey Tea DECAF",
                                    "PoundsSold": "0.6895"
                                },
                                {
                                    "Subcategory": "Produce",
                                    "Category": "Fresh Produce",
                                    "ProductID": "754",
                                    "ProductName": "Lemongrass Fresh",
                                    "PoundsSold": "0.5700"
                                },
                                {
                                    "Subcategory": "Flours",
                                    "Category": "Whls_Grocery",
                                    "ProductID": "229",
                                    "ProductName": "WHLS- Almond Meal ORG",
                                    "PoundsSold": "0.5301"
                                },
                                {
                                    "Subcategory": "Produce",
                                    "Category": "Fresh Produce",
                                    "ProductID": "698",
                                    "ProductName": "Yellow Wax Beans ORG",
                                    "PoundsSold": "0.4387"
                                },
                                {
                                    "Subcategory": "Coffee",
                                    "Category": "Grocery",
                                    "ProductID": "284",
                                    "ProductName": "Coffee Burundi Fair Trade",
                                    "PoundsSold": "0.3902"
                                },
                                {
                                    "Subcategory": "Herbs And Spices",
                                    "Category": "Grocery",
                                    "ProductID": "993",
                                    "ProductName": "Cloves - Whole ORG",
                                    "PoundsSold": "0.3400"
                                },
                                {
                                    "Subcategory": "Baking",
                                    "Category": "Grocery",
                                    "ProductID": "338",
                                    "ProductName": "Vanilla ORG",
                                    "PoundsSold": "0.1800"
                                },
                                {
                                    "Subcategory": "Herbs And Spices",
                                    "Category": "Grocery",
                                    "ProductID": "716",
                                    "ProductName": "Cardamom Decorticated",
                                    "PoundsSold": "0.1197"
                                },
                                {
                                    "Subcategory": "Teas",
                                    "Category": "Grocery",
                                    "ProductID": "600",
                                    "ProductName": "Tulsi Ginger Rose",
                                    "PoundsSold": "0.1102"
                                },
                                {
                                    "Subcategory": "Herbs And Spices",
                                    "Category": "Grocery",
                                    "ProductID": "542",
                                    "ProductName": "(INACTIVE) Smoked Paprika ORG",
                                    "PoundsSold": "0.1001"
                                },
                                {
                                    "Subcategory": "Herbs And Spices",
                                    "Category": "Grocery",
                                    "ProductID": "1137",
                                    "ProductName": "Orange Peel, ORG",
                                    "PoundsSold": "0.0896"
                                },
                                {
                                    "Subcategory": "Herbs And Spices",
                                    "Category": "Grocery",
                                    "ProductID": "1138",
                                    "ProductName": "Lemon Peel, ORG",
                                    "PoundsSold": "0.0397"
                                },
                                {
                                    "Subcategory": "Coffee",
                                    "Category": "Grocery",
                                    "ProductID": "282",
                                    "ProductName": "Coffee Guatemalan Tikal",
                                    "PoundsSold": "0.0202"
                                }
                            ]
                        },
                        "text/html": [
                            "<table>",
                            "<tr><th>Subcategory</th><th>Category</th><th>ProductID</th><th>ProductName</th><th>PoundsSold</th></tr>",
                            "<tr><td>Vinegars</td><td>Grocery</td><td>5</td><td>White Vinegar - 10% acidity (Cleaning)</td><td>5800.2368</td></tr>",
                            "<tr><td>Laundry Cleaners</td><td>Cleaning Supply</td><td>88</td><td>EcosPro Laundry Detergent - Free &amp; Clear</td><td>5048.9640</td></tr>",
                            "<tr><td>Seeds And Grains</td><td>Grocery</td><td>56</td><td>Brown Rice ORG</td><td>3104.8088</td></tr>",
                            "<tr><td>Nuts</td><td>Grocery</td><td>200</td><td>Almond Butter / Diced Almonds</td><td>2356.2550</td></tr>",
                            "<tr><td>Seeds And Grains</td><td>Grocery</td><td>36</td><td>White Rice, Long Grain CONV</td><td>2305.8752</td></tr>",
                            "<tr><td>Seeds And Grains</td><td>Grocery</td><td>105</td><td>Quinoa ORG</td><td>1688.5798</td></tr>",
                            "<tr><td>Beans And Legumes</td><td>Grocery</td><td>80</td><td>Black Turtle Beans ORG</td><td>1651.7766</td></tr>",
                            "<tr><td>Cereals</td><td>Grocery</td><td>734</td><td>French Vanilla Granola</td><td>1591.4087</td></tr>",
                            "<tr><td>Laundry Cleaners</td><td>Cleaning Supply</td><td>4</td><td>Dropps Laundry Pods</td><td>1260.2290</td></tr>",
                            "<tr><td>Salts</td><td>Grocery</td><td>117</td><td>Real Salt - Sea Salt</td><td>937.8087</td></tr>",
                            "<tr><td>Seeds And Grains</td><td>Grocery</td><td>41</td><td>Steel Cut Oats ORG</td><td>886.2246</td></tr>",
                            "<tr><td>Cereals</td><td>Grocery</td><td>779</td><td>Pumpkin Flax Granola ORG</td><td>870.2701</td></tr>",
                            "<tr><td>Body Cleansing</td><td>Body Care</td><td>180</td><td>Dr Bronners Castile Soap - Peppermint</td><td>633.1968</td></tr>",
                            "<tr><td>Seeds And Grains</td><td>Grocery</td><td>835</td><td>Wild Rice Blend</td><td>600.0689</td></tr>",
                            "<tr><td>Condiments</td><td>Grocery</td><td>206</td><td>Nutritional Yeast</td><td>598.4711</td></tr>",
                            "<tr><td>Dried Fruits</td><td>Grocery</td><td>146</td><td>Dried Cranberries</td><td>552.8843</td></tr>",
                            "<tr><td>Seeds And Grains</td><td>Grocery</td><td>115</td><td>Raw Pumpkin Seeds ORG</td><td>504.5319</td></tr>",
                            "<tr><td>Candy</td><td>Grocery</td><td>242</td><td>Gummy Delish Fish ORG</td><td>486.2871</td></tr>",
                            "<tr><td>Baking</td><td>Grocery</td><td>186</td><td>Semi Sweet Chocolate Chips - MINI</td><td>482.4039</td></tr>",
                            "<tr><td>Seeds And Grains</td><td>Grocery</td><td>1088</td><td>Basmati Rice - Sustainably Grown</td><td>481.7866</td></tr>",
                            "<tr><td>Produce</td><td>Fresh Produce</td><td>868</td><td>Onion, Sweet  Yellow, ORG</td><td>456.5166</td></tr>",
                            "<tr><td>Flours</td><td>Grocery</td><td>137</td><td>Pamela&#39;s GF Baking Mix</td><td>444.8213</td></tr>",
                            "<tr><td>Flours</td><td>Grocery</td><td>82</td><td>Bobs GF All Purpose Flour</td><td>443.3842</td></tr>",
                            "<tr><td>Hair Care</td><td>Body Care</td><td>210</td><td>Giovanni Shampoo - 50/50</td><td>438.8823</td></tr>",
                            "<tr><td>Hair Care</td><td>Body Care</td><td>212</td><td>Giovanni Conditioner - 50/50</td><td>429.5294</td></tr>",
                            "<tr><td>Flours</td><td>Grocery</td><td>715</td><td>Vital Wheat Gluten</td><td>382.5892</td></tr>",
                            "<tr><td>Sweeteners</td><td>Grocery</td><td>47</td><td>Raw Demerara Sugar</td><td>381.8764</td></tr>",
                            "<tr><td>Baking</td><td>Grocery</td><td>773</td><td>Milk Chocolate Chips</td><td>380.5945</td></tr>",
                            "<tr><td>Dried Fruits</td><td>Grocery</td><td>231</td><td>Dried Cherries</td><td>341.2477</td></tr>",
                            "<tr><td>Seeds And Grains</td><td>Grocery</td><td>834</td><td>Farro ORG</td><td>334.6461</td></tr>",
                            "<tr><td>Sweeteners</td><td>Grocery</td><td>132</td><td>Coconut Sugar ORG</td><td>332.1512</td></tr>",
                            "<tr><td>Seeds And Grains</td><td>Grocery</td><td>988</td><td>Hemp Seeds</td><td>287.1618</td></tr>",
                            "<tr><td>Flours</td><td>Grocery</td><td>157</td><td>Almond Flour GF</td><td>284.8904</td></tr>",
                            "<tr><td>Salts</td><td>Grocery</td><td>753</td><td>Himalayan Pink Salt</td><td>280.4907</td></tr>",
                            "<tr><td>Produce</td><td>Fresh Produce</td><td>718</td><td>Spinach, Local From SLC Top Crops</td><td>276.0737</td></tr>",
                            "<tr><td>Beans And Legumes</td><td>Grocery</td><td>539</td><td>Bob&#39;s Red Mill 13 Bean Soup</td><td>240.2320</td></tr>",
                            "<tr><td>Produce</td><td>Fresh Produce</td><td>1037</td><td>Spaghetti Squash, CONV</td><td>231.8285</td></tr>",
                            "<tr><td>Salsa del Diablo</td><td>Local Love</td><td>928</td><td>Salsa del Diablo Pumpkin &amp; A Pepper</td><td>228.2602</td></tr>",
                            "<tr><td>Baking</td><td>Grocery</td><td>395</td><td>Cocoa Powder 10-12%</td><td>226.2970</td></tr>",
                            "<tr><td>Dried Fruits</td><td>Grocery</td><td>122</td><td>Coconut Chips ORG</td><td>219.5573</td></tr>",
                            "<tr><td>Nuts</td><td>Grocery</td><td>1096</td><td>Raw Walnuts ORG</td><td>212.0434</td></tr>",
                            "<tr><td>Olio Skin</td><td>Local Love</td><td>568</td><td>Olio Dish Bar</td><td>210.3921</td></tr>",
                            "<tr><td>Sweeteners</td><td>Grocery</td><td>125</td><td>Agave ORG</td><td>209.9754</td></tr>",
                            "<tr><td>Dried Fruits</td><td>Grocery</td><td>120</td><td>Ginger - Crystallized</td><td>201.6055</td></tr>",
                            "<tr><td>Hair Care</td><td>Body Care</td><td>830</td><td>Giovanni Shampoo - Tea Tree Triple Treat</td><td>197.8396</td></tr>",
                            "<tr><td>Produce</td><td>Fresh Produce</td><td>915</td><td>Acorn Squash, ORG</td><td>197.0407</td></tr>",
                            "<tr><td>Produce</td><td>Fresh Produce</td><td>916</td><td>Acorn Squash</td><td>191.9630</td></tr>",
                            "<tr><td>Olio Skin</td><td>Local Love</td><td>313</td><td>Olio - Any</td><td>182.5098</td></tr>",
                            "<tr><td>Balms, Oils And Butters</td><td>Body Care</td><td>118</td><td>Shea Butter</td><td>179.3460</td></tr>",
                            "<tr><td>Produce</td><td>Fresh Produce</td><td>951</td><td>Spaghetti Squash, ORG</td><td>175.9443</td></tr>",
                            "<tr><td>Hair Care</td><td>Body Care</td><td>831</td><td>Giovanni Conditioner - Tea Tree Triple Treat</td><td>174.5823</td></tr>",
                            "<tr><td>Produce</td><td>Fresh Produce</td><td>901</td><td>Yukon Gold CONV</td><td>171.5461</td></tr>",
                            "<tr><td>Herbs And Spices</td><td>Grocery</td><td>646</td><td>Black Peppercorns</td><td>171.3499</td></tr>",
                            "<tr><td>Seeds And Grains</td><td>Grocery</td><td>1089</td><td>Short Grain Sushi Rice - Sustainably Grown</td><td>170.2267</td></tr>",
                            "<tr><td>Baking</td><td>Grocery</td><td>173</td><td>Baking Powder</td><td>162.3118</td></tr>",
                            "<tr><td>Nuts</td><td>Grocery</td><td>999</td><td>Pecans - Roasted ORG</td><td>159.5186</td></tr>",
                            "<tr><td>Pastas</td><td>Grocery</td><td>48</td><td>Pasta - Penne Rigate</td><td>158.9417</td></tr>",
                            "<tr><td>Herbs And Spices</td><td>Grocery</td><td>287</td><td>Garlic Powder ORG</td><td>158.5807</td></tr>",
                            "<tr><td>Snacks</td><td>Grocery</td><td>871</td><td>Sesame Sticks, whole wheat, salted</td><td>153.8700</td></tr>",
                            "<tr><td>Seeds And Grains</td><td>Grocery</td><td>777</td><td>Oats - Quick Rolled Oats ORG</td><td>152.6798</td></tr>",
                            "<tr><td>Produce</td><td>Fresh Produce</td><td>1092</td><td>Navel Oranges</td><td>150.0451</td></tr>",
                            "<tr><td>Seeds And Grains</td><td>Grocery</td><td>1078</td><td>Couscous ORG</td><td>149.6409</td></tr>",
                            "<tr><td>Meat Alternative</td><td>Grocery</td><td>85</td><td>TVP - Bobs Red Mill</td><td>149.0358</td></tr>",
                            "<tr><td>Meat Alternatives</td><td>Whls_Grocery</td><td>86</td><td>TVP - Bobs Red Mill</td><td>149.0358</td></tr>",
                            "<tr><td>Balms, Oils And Butters</td><td>Body Care</td><td>236</td><td>Sweet Almond Oil</td><td>145.4927</td></tr>",
                            "<tr><td>Body Cleansing</td><td>Body Care</td><td>875</td><td>Shikai Shower Gel - Coconut</td><td>143.5742</td></tr>",
                            "<tr><td>Produce</td><td>Fresh Produce</td><td>1018</td><td>Mixed Spring Greens, LOCAL</td><td>141.8002</td></tr>",
                            "<tr><td>Seeds And Grains</td><td>Grocery</td><td>90</td><td>Flax Seed MEAL ORG</td><td>134.6793</td></tr>",
                            "<tr><td>Cereals</td><td>Grocery</td><td>130</td><td>Granola French Vanilla ORG</td><td>134.3919</td></tr>",
                            "<tr><td>Salts</td><td>Grocery</td><td>590</td><td>Sea Salt - Extra Fine</td><td>131.5000</td></tr>",
                            "<tr><td>Seeds And Grains</td><td>Grocery</td><td>104</td><td>Quinoa - White Organic</td><td>126.6787</td></tr>",
                            "<tr><td>Herbs And Spices</td><td>Grocery</td><td>273</td><td>Cumin - Ground ORG</td><td>126.5241</td></tr>",
                            "<tr><td>Seeds And Grains</td><td>Grocery</td><td>1061</td><td>Roasted &amp; Salted Sunflower Seeds ORG</td><td>124.1295</td></tr>",
                            "<tr><td>Seeds And Grains</td><td>Grocery</td><td>102</td><td>White Sesame Seeds</td><td>119.7354</td></tr>",
                            "<tr><td>Baking</td><td>Grocery</td><td>171</td><td>Cornstarch ORG</td><td>119.2165</td></tr>",
                            "<tr><td>Dental Care</td><td>Body Care</td><td>818</td><td>Unpaste Toothpaste BULK</td><td>116.5496</td></tr>",
                            "<tr><td>Produce</td><td>Fresh Produce</td><td>641</td><td>Squash Zucchini ORG</td><td>116.5473</td></tr>",
                            "<tr><td>Candy</td><td>Grocery</td><td>582</td><td>Mini Peanut Butter Cups - Milk Chocolate</td><td>116.4767</td></tr>",
                            "<tr><td>Produce</td><td>Fresh Produce</td><td>632</td><td>Snap Peas ORG</td><td>113.7268</td></tr>",
                            "<tr><td>Snacks</td><td>Grocery</td><td>541</td><td>Lillys Cookies, Black and Whites</td><td>110.0479</td></tr>",
                            "<tr><td>Body Salts</td><td>Body Care</td><td>124</td><td>Dead Sea Salt</td><td>108.4034</td></tr>",
                            "<tr><td>Olio Skin</td><td>Local Love</td><td>311</td><td>Olio Facial Bar</td><td>108.3202</td></tr>",
                            "<tr><td>Herbs And Spices</td><td>Grocery</td><td>266</td><td>No Chicken Veggie Broth</td><td>108.1320</td></tr>",
                            "<tr><td>Seeds And Grains</td><td>Grocery</td><td>1042</td><td>Flax Meal</td><td>105.4618</td></tr>",
                            "<tr><td>Facial Care</td><td>Body Care</td><td>748</td><td>Rosehip &amp; Hibiscus Facial Cream</td><td>104.2020</td></tr>",
                            "<tr><td>Body Cleansing</td><td>Body Care</td><td>192</td><td>ShiKai Shower Gel Pomegranate</td><td>101.2798</td></tr>",
                            "<tr><td>Teas</td><td>Grocery</td><td>310</td><td>Chai Tea ORG</td><td>97.8396</td></tr>",
                            "<tr><td>Body Cleansing</td><td>Body Care</td><td>164</td><td>EO Hand Soap Unscented</td><td>94.2818</td></tr>",
                            "<tr><td>Baking</td><td>Grocery</td><td>127</td><td>Chocolate Chips Mini Milk</td><td>91.4725</td></tr>",
                            "<tr><td>Oils</td><td>Grocery</td><td>187</td><td>Olive Oil, Napa Xtra Virgin ORG</td><td>90.5543</td></tr>",
                            "<tr><td>Herbs And Spices</td><td>Grocery</td><td>260</td><td>Ground Black Pepper</td><td>88.0304</td></tr>",
                            "<tr><td>Baking</td><td>Grocery</td><td>581</td><td>White Chocolate Chips</td><td>87.9221</td></tr>",
                            "<tr><td>Raw Ingredients</td><td>Body Care</td><td>27</td><td>Bentonite Clay</td><td>87.2777</td></tr>",
                            "<tr><td>Facial Care</td><td>Body Care</td><td>749</td><td>Sea Mineral Facial Toner</td><td>85.4292</td></tr>",
                            "<tr><td>Baking</td><td>Grocery</td><td>185</td><td>Dry Active Yeast</td><td>81.4576</td></tr>",
                            "<tr><td>Teas</td><td>Grocery</td><td>300</td><td>English Breakfast Tea ORG</td><td>80.0816</td></tr>",
                            "<tr><td>Oils</td><td>Grocery</td><td>519</td><td>Avocado Oil Expeller Pressed</td><td>77.4543</td></tr>",
                            "<tr><td>Beans And Legumes</td><td>Grocery</td><td>38</td><td>Split Peas Yellow</td><td>76.2449</td></tr>",
                            "<tr><td>Teas</td><td>Grocery</td><td>307</td><td>Gunpowder Green Tea ORG</td><td>74.7804</td></tr>",
                            "<tr><td>Lotions</td><td>Body Care</td><td>202</td><td>ShiKai Lotion - Coconut</td><td>73.5035</td></tr>",
                            "<tr><td>Dried Fruits</td><td>Grocery</td><td>1109</td><td>Dried Mango Cheeks CONV</td><td>72.4778</td></tr>",
                            "<tr><td>Pastas</td><td>Grocery</td><td>647</td><td>Whole Wheat Rotini Pasta</td><td>72.2649</td></tr>",
                            "<tr><td>Teas</td><td>Grocery</td><td>316</td><td>Earl Grey Tea ORG</td><td>70.0312</td></tr>",
                            "<tr><td>Dried Fruits</td><td>Grocery</td><td>605</td><td>Dried Goji Berries ORG</td><td>69.5433</td></tr>",
                            "<tr><td>Hair Care</td><td>Body Care</td><td>199</td><td>EO Conditioner Rose Geranium</td><td>69.1196</td></tr>",
                            "<tr><td>Dried Fruits</td><td>Grocery</td><td>111</td><td>Coconut Medium Flake ORG</td><td>66.5324</td></tr>",
                            "<tr><td>Herbs And Spices</td><td>Grocery</td><td>230</td><td>Onion Powder ORG</td><td>64.2284</td></tr>",
                            "<tr><td>Herbs And Spices</td><td>Grocery</td><td>213</td><td>Garlic Salt ORG</td><td>63.8564</td></tr>",
                            "<tr><td>Snacks</td><td>Grocery</td><td>857</td><td>Lillys Raspberry Hamantashen</td><td>59.0856</td></tr>",
                            "<tr><td>Salts</td><td>Grocery</td><td>243</td><td>Himalayan Pink Salt</td><td>58.8380</td></tr>",
                            "<tr><td>Dishsoaps</td><td>Cleaning Supply</td><td>692</td><td>Biokleen Automatic Dish Gel</td><td>58.7738</td></tr>",
                            "<tr><td>Baking</td><td>Grocery</td><td>89</td><td>Arrowroot Powder</td><td>56.5190</td></tr>",
                            "<tr><td>Other Cleaners</td><td>Cleaning Supply</td><td>839</td><td>Melioria Scrub BULK</td><td>56.0520</td></tr>",
                            "<tr><td>Produce</td><td>Fresh Produce</td><td>984</td><td>Brussel Sprouts ORG</td><td>55.5596</td></tr>",
                            "<tr><td>Herbs And Spices</td><td>Grocery</td><td>234</td><td>Korintji Cinnamon</td><td>53.7050</td></tr>",
                            "<tr><td>Herbs And Spices</td><td>Grocery</td><td>252</td><td>Turmeric ORG</td><td>51.7684</td></tr>",
                            "<tr><td>Teas</td><td>Grocery</td><td>298</td><td>Chai - Indian Spice Tea</td><td>51.0329</td></tr>",
                            "<tr><td>Seeds and Grains</td><td>Whls_Grocery</td><td>55</td><td>Z_VOID: WHLS- raw O sunflower seeds by the lb</td><td>50.9096</td></tr>",
                            "<tr><td>Herbs And Spices</td><td>Grocery</td><td>547</td><td>Mild Curry Powder</td><td>50.7350</td></tr>",
                            "<tr><td>Produce</td><td>Fresh Produce</td><td>977</td><td>Ginger Root ORG</td><td>50.6126</td></tr>",
                            "<tr><td>Seeds And Grains</td><td>Grocery</td><td>548</td><td>Black Sesame Seeds ORG</td><td>50.1554</td></tr>",
                            "<tr><td>Hair Care</td><td>Body Care</td><td>745</td><td>Dry Shampoo</td><td>49.3212</td></tr>",
                            "<tr><td>Condiments</td><td>Whls_Grocery</td><td>693</td><td>WHLS-  Vegenaise 5 GAL</td><td>48.1569</td></tr>",
                            "<tr><td>Produce</td><td>Fresh Produce</td><td>856</td><td>Red Potatoes, conventional</td><td>47.0516</td></tr>",
                            "<tr><td>Pastas</td><td>Grocery</td><td>1116</td><td>Macaroni, Elbow pasta ORG</td><td>46.1197</td></tr>",
                            "<tr><td>Olio Skin</td><td>Local Love</td><td>315</td><td>Olio Deodorant Bar</td><td>45.5361</td></tr>",
                            "<tr><td>Body Cleansing</td><td>Body Care</td><td>820</td><td>Equalizer Creme Facial Cleanser</td><td>44.9914</td></tr>",
                            "<tr><td>Multi Purpose</td><td>Cleaning Supply</td><td>114</td><td>Biokleen BAC-OUT</td><td>43.9333</td></tr>",
                            "<tr><td>Snacks</td><td>Grocery</td><td>982</td><td>Chocolate Covered Pretzels</td><td>43.2758</td></tr>",
                            "<tr><td>Herbs And Spices</td><td>Grocery</td><td>985</td><td>Chili Powder ORG</td><td>43.0541</td></tr>",
                            "<tr><td>Sweeteners</td><td>Grocery</td><td>500</td><td>Agave - Wholesome Blue Raw</td><td>42.3818</td></tr>",
                            "<tr><td>Balms, Oils And Butters</td><td>Body Care</td><td>208</td><td>Apricot Kernel Oil</td><td>41.3847</td></tr>",
                            "<tr><td>Seeds And Grains</td><td>Grocery</td><td>897</td><td>Millet - ORG</td><td>40.6077</td></tr>",
                            "<tr><td>Olio Skin</td><td>Local Love</td><td>869</td><td>Olio Shave Bar</td><td>39.7763</td></tr>",
                            "<tr><td>Produce</td><td>Fresh Produce</td><td>1083</td><td>Pears, D&#39;Anjou, ORG</td><td>38.8826</td></tr>",
                            "<tr><td>Beans And Legumes</td><td>Grocery</td><td>772</td><td>Lentils Red CONV</td><td>37.4827</td></tr>",
                            "<tr><td>Teas</td><td>Grocery</td><td>308</td><td>Relaxing Blend Tea ORG</td><td>37.0052</td></tr>",
                            "<tr><td>Lotions</td><td>Body Care</td><td>203</td><td>Shikai Lotion Pomegranate</td><td>36.6913</td></tr>",
                            "<tr><td>Herbs And Spices</td><td>Grocery</td><td>224</td><td>Red Chili Pepper Flakes ORG</td><td>36.6908</td></tr>",
                            "<tr><td>Produce</td><td>Fresh Produce</td><td>731</td><td>Squash LOCAL</td><td>36.4688</td></tr>",
                            "<tr><td>Other Cleaners</td><td>Cleaning Supply</td><td>594</td><td>EcosPro Lavender Glass Cleaner, Concentrate</td><td>36.0764</td></tr>",
                            "<tr><td>Teas</td><td>Grocery</td><td>289</td><td>Rooibos Tea ORG</td><td>35.4336</td></tr>",
                            "<tr><td>Herbs And Spices</td><td>Grocery</td><td>233</td><td>Cayenne Powder ORG</td><td>35.4206</td></tr>",
                            "<tr><td>Baking</td><td>Grocery</td><td>1074</td><td>Cocoa Powder 22-24% Dutch Processed</td><td>34.7705</td></tr>",
                            "<tr><td>Flours</td><td>Grocery</td><td>488</td><td>All Purpose Unbleached Flour ORG</td><td>34.2346</td></tr>",
                            "<tr><td>Vinegars</td><td>Grocery</td><td>1090</td><td>Red Wine Vinegar BULK ORG</td><td>33.8158</td></tr>",
                            "<tr><td>Sweet Hazel</td><td>Local Love</td><td>1030</td><td>Toffee, vegan by Sweet Hazel, LOCAL</td><td>33.0200</td></tr>",
                            "<tr><td>Teas</td><td>Grocery</td><td>295</td><td>Peppermint Tea ORG</td><td>32.9230</td></tr>",
                            "<tr><td>Herbs And Spices</td><td>Grocery</td><td>270</td><td>Ginger Ground ORG</td><td>32.7707</td></tr>",
                            "<tr><td>Kombucha</td><td>Local Love</td><td>472</td><td>Cru Kombucha, Blood Orange Cranberry</td><td>29.0456</td></tr>",
                            "<tr><td>Nuts</td><td>Grocery</td><td>645</td><td>Peanuts Dry Roasted CONV</td><td>29.0351</td></tr>",
                            "<tr><td>Herbs And Spices</td><td>Grocery</td><td>237</td><td>Poppy Seed ORG</td><td>28.9471</td></tr>",
                            "<tr><td>Meal Prep - Fruits + Veggies</td><td>Grab &amp; Go</td><td>521</td><td>Veggie Mix 24 oz</td><td>28.7746</td></tr>",
                            "<tr><td>Body Cleansing</td><td>Body Care</td><td>892</td><td>Hand Sanitizer Liquid, Bac-D</td><td>28.6860</td></tr>",
                            "<tr><td>Teas</td><td>Grocery</td><td>263</td><td>Yerba Mate Tea - Guayaki ORG</td><td>28.1686</td></tr>",
                            "<tr><td>Herbs And Spices</td><td>Grocery</td><td>291</td><td>Smoked Paprika ORG</td><td>27.5214</td></tr>",
                            "<tr><td>Herbs And Spices</td><td>Grocery</td><td>726</td><td>Chili Powder</td><td>27.4348</td></tr>",
                            "<tr><td>Herbs And Spices</td><td>Grocery</td><td>392</td><td>Smoked Paprika</td><td>27.0643</td></tr>",
                            "<tr><td>Balms, Oils And Butters</td><td>Body Care</td><td>950</td><td>Routine Deodorant BULK</td><td>26.6941</td></tr>",
                            "<tr><td>Sweet Hazel</td><td>Local Love</td><td>1028</td><td>Peppermint Bark, vegan by Sweet Hazel</td><td>26.4000</td></tr>",
                            "<tr><td>Produce</td><td>Fresh Produce</td><td>876</td><td>Tomatoes,  ORG</td><td>26.3672</td></tr>",
                            "<tr><td>Herbs And Spices</td><td>Grocery</td><td>309</td><td>Ceylon Cinnamon ORG</td><td>25.6755</td></tr>",
                            "<tr><td>Dental Care</td><td>Body Care</td><td>1068</td><td>Ruut Goods Toothpaste BULK</td><td>25.1394</td></tr>",
                            "<tr><td>Balms, Oils And Butters</td><td>Body Care</td><td>95</td><td>Vegetable Glycerin</td><td>24.5992</td></tr>",
                            "<tr><td>Seeds And Grains</td><td>Grocery</td><td>959</td><td>Popcorn - Red, White and Blue ORG</td><td>24.4404</td></tr>",
                            "<tr><td>Herbs And Spices</td><td>Grocery</td><td>265</td><td>Oregano</td><td>24.3330</td></tr>",
                            "<tr><td>Raw Ingredients</td><td>Body Care</td><td>262</td><td>French Green Clay</td><td>23.7288</td></tr>",
                            "<tr><td>Produce</td><td>Fresh Produce</td><td>865</td><td>Squash Yellow Conventional</td><td>23.6962</td></tr>",
                            "<tr><td>Herbs And Spices</td><td>Grocery</td><td>992</td><td>Cinnamon Korintji, ORG</td><td>23.5307</td></tr>",
                            "<tr><td>Herbs And Spices</td><td>Grocery</td><td>677</td><td>Taco Seasoning</td><td>23.1088</td></tr>",
                            "<tr><td>Beans And Legumes</td><td>Grocery</td><td>1031</td><td>Small Red Chili Beans ORG</td><td>22.4452</td></tr>",
                            "<tr><td>Hair Care</td><td>Body Care</td><td>211</td><td>Giovanni Shampoo Smooth as Silk</td><td>22.4190</td></tr>",
                            "<tr><td>Herbs And Spices</td><td>Grocery</td><td>751</td><td>Minced Dried Onion</td><td>22.2889</td></tr>",
                            "<tr><td>Flours</td><td>Whls_Grocery</td><td>643</td><td>WHLS- Vital Wheat Gluten</td><td>22.2342</td></tr>",
                            "<tr><td>Herbs And Spices</td><td>Grocery</td><td>393</td><td>Paprika Powder</td><td>22.0821</td></tr>",
                            "<tr><td>Hair Care</td><td>Body Care</td><td>528</td><td>Giovanni Conditioner Smooth as Silk</td><td>21.8279</td></tr>",
                            "<tr><td>Produce</td><td>Fresh Produce</td><td>906</td><td>Summer Crisp Lettuce</td><td>21.3225</td></tr>",
                            "<tr><td>Herbs And Spices</td><td>Grocery</td><td>249</td><td>Onion Powder, Conv.</td><td>21.2031</td></tr>",
                            "<tr><td>Herbs And Spices</td><td>Grocery</td><td>277</td><td>Italian Seasoning</td><td>21.0579</td></tr>",
                            "<tr><td>Herbs And Spices</td><td>Grocery</td><td>247</td><td>Mustard Seed - Whole ORG</td><td>20.2827</td></tr>",
                            "<tr><td>Nut Butters</td><td>Grocery</td><td>144</td><td>Peanut Butter - natural</td><td>19.9545</td></tr>",
                            "<tr><td>Candy</td><td>Grocery</td><td>158</td><td>Mini Marshmallows, Chocolate Covered</td><td>19.7240</td></tr>",
                            "<tr><td>Nuts</td><td>Grocery</td><td>499</td><td>Almonds Cocoa Dusted ORG</td><td>19.1962</td></tr>",
                            "<tr><td>Produce</td><td>Fresh Produce</td><td>702</td><td>Cut Watermelon</td><td>19.0394</td></tr>",
                            "<tr><td>Produce</td><td>Fresh Produce</td><td>706</td><td>Cut Butternut Squash</td><td>18.8409</td></tr>",
                            "<tr><td>Produce</td><td>Fresh Produce</td><td>611</td><td>Cucumbers</td><td>18.2726</td></tr>",
                            "<tr><td>Teas</td><td>Grocery</td><td>958</td><td>Indian Spice Chai Tea ORG</td><td>18.1929</td></tr>",
                            "<tr><td>Herbs And Spices</td><td>Grocery</td><td>275</td><td>Basil ORG</td><td>17.5464</td></tr>",
                            "<tr><td>Pastas</td><td>Grocery</td><td>648</td><td>Whole Wheat Spaghetti Pasta</td><td>17.4103</td></tr>",
                            "<tr><td>Herbs And Spices</td><td>Grocery</td><td>312</td><td>Garam Masala ORG</td><td>17.3348</td></tr>",
                            "<tr><td>Herbs And Spices</td><td>Grocery</td><td>286</td><td>Paprika ORG</td><td>17.3100</td></tr>",
                            "<tr><td>Herbs And Spices</td><td>Grocery</td><td>550</td><td>Thyme ORG</td><td>16.5487</td></tr>",
                            "<tr><td>Meal Prep - Fruits + Veggies</td><td>Grab &amp; Go</td><td>466</td><td>Berries, 1pt Jar</td><td>16.4769</td></tr>",
                            "<tr><td>Produce</td><td>Fresh Produce</td><td>612</td><td>Green Beans ORG</td><td>15.8075</td></tr>",
                            "<tr><td>Sweet Hazel</td><td>Local Love</td><td>1029</td><td>Peanut Brittle, vegan by Sweet Hazel, LOCAL</td><td>15.7800</td></tr>",
                            "<tr><td>Herbs And Spices</td><td>Grocery</td><td>329</td><td>Nutmeg - Ground</td><td>15.2123</td></tr>",
                            "<tr><td>Herbs And Spices</td><td>Grocery</td><td>990</td><td>Garlic Powder, CONV</td><td>14.9669</td></tr>",
                            "<tr><td>Herbs And Spices</td><td>Grocery</td><td>330</td><td>Cardamom</td><td>14.8918</td></tr>",
                            "<tr><td>Drool</td><td>Local Love</td><td>1045</td><td>Dog Biscuit, Drool BULK</td><td>14.8233</td></tr>",
                            "<tr><td>Condiments</td><td>Grocery</td><td>583</td><td>Earth Balance Buttery Spread</td><td>14.4482</td></tr>",
                            "<tr><td>Herbs And Spices</td><td>Grocery</td><td>744</td><td>Cumin Seed ORG</td><td>13.6915</td></tr>",
                            "<tr><td>Produce</td><td>Fresh Produce</td><td>709</td><td>Cut Organic Zucchini Noodles</td><td>13.2445</td></tr>",
                            "<tr><td>Baking</td><td>Grocery</td><td>864</td><td>Yeast Instant</td><td>13.1663</td></tr>",
                            "<tr><td>Herbs And Spices</td><td>Grocery</td><td>269</td><td>Chicory Root ORG</td><td>12.8775</td></tr>",
                            "<tr><td>Herbs And Spices</td><td>Grocery</td><td>306</td><td>Vindaloo Curry ORG</td><td>12.8200</td></tr>",
                            "<tr><td>Coffee</td><td>Grocery</td><td>486</td><td>Coffee Peruvian</td><td>12.7592</td></tr>",
                            "<tr><td>Meal Prep - Fruits + Veggies</td><td>Grab &amp; Go</td><td>462</td><td>Broccoli, 1pt Jar</td><td>12.6363</td></tr>",
                            "<tr><td>Dairy Alternatives</td><td>Whls_Grocery</td><td>540</td><td>WHLS- Chao Slices - Case of 12</td><td>12.5056</td></tr>",
                            "<tr><td>Herbs And Spices</td><td>Grocery</td><td>217</td><td>Mustard - Ground ORG</td><td>12.5021</td></tr>",
                            "<tr><td>Drool</td><td>Local Love</td><td>1048</td><td>Dog Biscuit, Mini M’ Bones, BULK, Drool</td><td>12.4621</td></tr>",
                            "<tr><td>Laundry Cleaners</td><td>Cleaning Supply</td><td>816</td><td>Charlie&#39;s Soap Laundry Liquid</td><td>12.3505</td></tr>",
                            "<tr><td>Herbs And Spices</td><td>Grocery</td><td>1002</td><td>Cinnamon Sticks ORG</td><td>12.3083</td></tr>",
                            "<tr><td>Coffee</td><td>Grocery</td><td>281</td><td>Coffee Papua New Guinea</td><td>11.6799</td></tr>",
                            "<tr><td>Herbs And Spices</td><td>Grocery</td><td>991</td><td>Garam Masala CONV</td><td>11.0003</td></tr>",
                            "<tr><td>Produce</td><td>Fresh Produce</td><td>1019</td><td>Sunflower Sprouts, LOCAL</td><td>10.6200</td></tr>",
                            "<tr><td>Herbs And Spices</td><td>Grocery</td><td>735</td><td>Pumpkin Spice</td><td>10.4118</td></tr>",
                            "<tr><td>Raw Ingredients</td><td>Body Care</td><td>216</td><td>Emulsifying Wax</td><td>10.3895</td></tr>",
                            "<tr><td>Herbs And Spices</td><td>Grocery</td><td>949</td><td>Taco Seasoning  ORG</td><td>10.3660</td></tr>",
                            "<tr><td>Multi Purpose</td><td>Cleaning Supply</td><td>485</td><td>Biokleen all purpose cleaner</td><td>10.2706</td></tr>",
                            "<tr><td>Herbs And Spices</td><td>Grocery</td><td>319</td><td>Cloves - Whole</td><td>10.2094</td></tr>",
                            "<tr><td>Herbs And Spices</td><td>Grocery</td><td>246</td><td>Coriander Whole ORG</td><td>10.0051</td></tr>",
                            "<tr><td>Fruits</td><td>Whls_Grocery</td><td>757</td><td>Banana Chips (Swt)</td><td>9.8909</td></tr>",
                            "<tr><td>Sweeteners</td><td>Grocery</td><td>52</td><td>Sugar - Brown LIGHT ORG</td><td>9.7500</td></tr>",
                            "<tr><td>Baking</td><td>Grocery</td><td>147</td><td>Chocolate Chips Milk Guittard</td><td>9.6315</td></tr>",
                            "<tr><td>Herbs And Spices</td><td>Grocery</td><td>1104</td><td>Red Chili Pepper Flakes</td><td>9.4416</td></tr>",
                            "<tr><td>Other Cleaners</td><td>Cleaning Supply</td><td>840</td><td>Melioria all-purpose Flakes  BULK</td><td>9.3414</td></tr>",
                            "<tr><td>Produce</td><td>Fresh Produce</td><td>714</td><td>Cut Pineapple</td><td>8.9700</td></tr>",
                            "<tr><td>Herbs And Spices</td><td>Grocery</td><td>290</td><td>Star Anise Select Whole</td><td>8.9633</td></tr>",
                            "<tr><td>Coffee</td><td>Grocery</td><td>283</td><td>Coffee Honduran ORG</td><td>8.8505</td></tr>",
                            "<tr><td>Produce</td><td>Fresh Produce</td><td>732</td><td>Pluot LOCAL</td><td>8.7487</td></tr>",
                            "<tr><td>Herbs And Spices</td><td>Grocery</td><td>301</td><td>Bay Leaf ORG</td><td>8.5793</td></tr>",
                            "<tr><td>Herbs And Spices</td><td>Grocery</td><td>326</td><td>Cloves - Ground ORG</td><td>8.3100</td></tr>",
                            "<tr><td>Hair Care</td><td>Body Care</td><td>669</td><td>Shikai Shampoo Everyday</td><td>8.2987</td></tr>",
                            "<tr><td>Herbs And Spices</td><td>Grocery</td><td>276</td><td>Rosemary Leaf ORG</td><td>8.2978</td></tr>",
                            "<tr><td>Herbs And Spices</td><td>Grocery</td><td>167</td><td>Chili Powder Salt Free</td><td>8.2137</td></tr>",
                            "<tr><td>Herbs And Spices</td><td>Grocery</td><td>302</td><td>Nutmeg - Whole</td><td>8.1693</td></tr>",
                            "<tr><td>Flours</td><td>Grocery</td><td>854</td><td>Coconut Flour, ORG</td><td>7.7584</td></tr>",
                            "<tr><td>Herbs And Spices</td><td>Grocery</td><td>293</td><td>Black Peppercorns ORG</td><td>7.7361</td></tr>",
                            "<tr><td>Lotions</td><td>Body Care</td><td>1101</td><td>All Good Sunscreen BULK</td><td>7.6453</td></tr>",
                            "<tr><td>Coffee</td><td>Grocery</td><td>279</td><td>Coffee Mexican ORG</td><td>7.4907</td></tr>",
                            "<tr><td>Produce</td><td>Fresh Produce</td><td>721</td><td>Cut Sweet Potatos, ORG</td><td>7.2598</td></tr>",
                            "<tr><td>Herbs And Spices</td><td>Grocery</td><td>268</td><td>Curry Powder ORG</td><td>6.9253</td></tr>",
                            "<tr><td>Meal Prep - Fruits + Veggies</td><td>Grab &amp; Go</td><td>522</td><td>Brussel Sprouts, 24  oz jar</td><td>6.8869</td></tr>",
                            "<tr><td>Meal Prep - Fruits + Veggies</td><td>Grab &amp; Go</td><td>532</td><td>Salad Dressing: Balsamic Vinaigrette, 1pt Jar</td><td>6.7398</td></tr>",
                            "<tr><td>Seeds And Grains</td><td>Grocery</td><td>549</td><td>Sesame Seeds - White Hulled ORG</td><td>6.6654</td></tr>",
                            "<tr><td>Herbs And Spices</td><td>Grocery</td><td>258</td><td>Cinnamon Sticks</td><td>6.6562</td></tr>",
                            "<tr><td>Herbs And Spices</td><td>Grocery</td><td>303</td><td>Allspice ORG</td><td>6.4511</td></tr>",
                            "<tr><td>Herbs And Spices</td><td>Grocery</td><td>974</td><td>Rosemary Leaf</td><td>6.3950</td></tr>",
                            "<tr><td>Baking</td><td>Grocery</td><td>1127</td><td>Maple Toasted Coconut Chips ORG</td><td>6.1628</td></tr>",
                            "<tr><td>Dental Care</td><td>Body Care</td><td>1069</td><td>Ruut Goods Mouthwash BULK</td><td>6.1400</td></tr>",
                            "<tr><td>Teas</td><td>Grocery</td><td>615</td><td>Greenthread Herbs Tea Blends (any variety)</td><td>6.0733</td></tr>",
                            "<tr><td>Herbs And Spices</td><td>Grocery</td><td>248</td><td>Dill Seed ORG</td><td>6.0026</td></tr>",
                            "<tr><td>Essential Oils</td><td>Body Care</td><td>415</td><td>Essential Oil, Wintergreen Dropper</td><td>6.0000</td></tr>",
                            "<tr><td>Herbs And Spices</td><td>Grocery</td><td>220</td><td>Mustard Seed Brown ORG</td><td>5.8782</td></tr>",
                            "<tr><td>Herbs And Spices</td><td>Grocery</td><td>292</td><td>Sage ORG</td><td>5.7100</td></tr>",
                            "<tr><td>Teas</td><td>Grocery</td><td>975</td><td>Luscious Licorice Tea, ORG</td><td>5.4808</td></tr>",
                            "<tr><td>Herbs And Spices</td><td>Grocery</td><td>1084</td><td>Ginger, ground</td><td>5.4342</td></tr>",
                            "<tr><td>Herbs And Spices</td><td>Grocery</td><td>1075</td><td>Lemon Pepper ORG</td><td>5.4100</td></tr>",
                            "<tr><td>Herbs And Spices</td><td>Grocery</td><td>520</td><td>Caraway Seed ORG</td><td>5.0080</td></tr>",
                            "<tr><td>Seeds And Grains</td><td>Grocery</td><td>68</td><td>Rice - Golden Rose Brown ORG</td><td>4.9816</td></tr>",
                            "<tr><td>Meal Prep - Fruits + Veggies</td><td>Grab &amp; Go</td><td>465</td><td>Blueberries, 1pt Jar</td><td>4.9355</td></tr>",
                            "<tr><td>Herbs And Spices</td><td>Grocery</td><td>322</td><td>Dill Weed ORG</td><td>4.8607</td></tr>",
                            "<tr><td>Drool</td><td>Local Love</td><td>1050</td><td>Dog Biscuit Bundle, Steak &amp; Potato</td><td>4.8584</td></tr>",
                            "<tr><td>Herbs And Spices</td><td>Grocery</td><td>903</td><td>Fennel Seed</td><td>4.8274</td></tr>",
                            "<tr><td>Herbs And Spices</td><td>Grocery</td><td>713</td><td>Coriander - Whole</td><td>4.7906</td></tr>",
                            "<tr><td>Herbs And Spices</td><td>Grocery</td><td>261</td><td>Celery Seed ORG</td><td>4.7258</td></tr>",
                            "<tr><td>Teas</td><td>Grocery</td><td>294</td><td>Chai - Black Tea Ground</td><td>4.6501</td></tr>",
                            "<tr><td>Produce</td><td>Fresh Produce</td><td>956</td><td>Cucumber, LOCAL</td><td>4.4695</td></tr>",
                            "<tr><td>Vinegars</td><td>Grocery</td><td>155</td><td>Balsamic  Vinegar - Spectrum</td><td>4.4400</td></tr>",
                            "<tr><td>Meal Prep - Fruits + Veggies</td><td>Grab &amp; Go</td><td>483</td><td>Tropical Cut Fruit, 1qt Jar</td><td>4.4131</td></tr>",
                            "<tr><td>Laundry Cleaners</td><td>Cleaning Supply</td><td>323</td><td>Eco Nuts laundry cleaner</td><td>4.3102</td></tr>",
                            "<tr><td>Essential Oils</td><td>Body Care</td><td>344</td><td>Essential oil, Tea tree floz inventory unit</td><td>4.2445</td></tr>",
                            "<tr><td>Flours</td><td>Grocery</td><td>22</td><td>Whole Wheat Pastry Flour ORG</td><td>4.1017</td></tr>",
                            "<tr><td>Balms, Oils And Butters</td><td>Body Care</td><td>1113</td><td>Jojoba oil, expeller pressed</td><td>3.9990</td></tr>",
                            "<tr><td>Herbs And Spices</td><td>Grocery</td><td>1005</td><td>Star Anise ORG</td><td>3.9862</td></tr>",
                            "<tr><td>Produce</td><td>Fresh Produce</td><td>957</td><td>Celery, Cut Stalks ORG</td><td>3.8980</td></tr>",
                            "<tr><td>Oils</td><td>Whls_Grocery</td><td>360</td><td>WHLS- Coconut Oil ORG - 36.5lb Pail Aunt Pattys</td><td>3.8780</td></tr>",
                            "<tr><td>Kings Peak Coffee</td><td>Local Love</td><td>1133</td><td>Kings Peak Coffee DECAFFINATED</td><td>3.6098</td></tr>",
                            "<tr><td>Seeds And Grains</td><td>Grocery</td><td>91</td><td>Quinoa - Red ORG</td><td>3.4291</td></tr>",
                            "<tr><td>Herbs And Spices</td><td>Grocery</td><td>317</td><td>Cayenne Powder, CONV</td><td>3.3938</td></tr>",
                            "<tr><td>Meal Prep - Fruits + Veggies</td><td>Grab &amp; Go</td><td>533</td><td>Salad Dressing: Tahini, 1pt Jar</td><td>3.3699</td></tr>",
                            "<tr><td>Herbs And Spices</td><td>Grocery</td><td>1033</td><td>Dill Weed</td><td>3.2000</td></tr>",
                            "<tr><td>Produce</td><td>Fresh Produce</td><td>631</td><td>Basil Fresh ORG</td><td>3.1586</td></tr>",
                            "<tr><td>Essential Oils</td><td>Body Care</td><td>430</td><td>Essential Oil, Himalayan Cedar Dropper</td><td>3.0000</td></tr>",
                            "<tr><td>Meal Prep - Fruits + Veggies</td><td>Grab &amp; Go</td><td>529</td><td>Rainbow Chard, 1Qt jar</td><td>2.9478</td></tr>",
                            "<tr><td>Produce</td><td>Fresh Produce</td><td>1118</td><td>White and Purple Bell Peppers, LOCAL</td><td>2.8314</td></tr>",
                            "<tr><td>Teas</td><td>Grocery</td><td>271</td><td>Hibiscus - Cut and Sifted</td><td>2.8302</td></tr>",
                            "<tr><td>Herbs And Spices</td><td>Grocery</td><td>1105</td><td>Nutmeg - Ground ORG</td><td>2.8000</td></tr>",
                            "<tr><td>Flours</td><td>Whls_Grocery</td><td>676</td><td>WHLS- Oat Flour 50lb Bag</td><td>2.5341</td></tr>",
                            "<tr><td>Hair Care</td><td>Body Care</td><td>166</td><td>Shikai Conditioner Everyday</td><td>2.0973</td></tr>",
                            "<tr><td>Baking</td><td>Whls_Grocery</td><td>1110</td><td>WHLS- Citric Acid 50 LB</td><td>2.0000</td></tr>",
                            "<tr><td>Jugs</td><td>Containers</td><td>116</td><td>Clear medium growler w cap</td><td>2.0000</td></tr>",
                            "<tr><td>Essential Oils</td><td>Body Care</td><td>420</td><td>Essential Oil, Lemon Dropper</td><td>2.0000</td></tr>",
                            "<tr><td>Kitchen Accessories</td><td>Accessories</td><td>849</td><td>Silicone Bag, Large</td><td>2.0000</td></tr>",
                            "<tr><td>Kitchen Accessories</td><td>Accessories</td><td>848</td><td>Silicone Bag, Small</td><td>2.0000</td></tr>",
                            "<tr><td>Seeds and Grains</td><td>Whls_Grocery</td><td>961</td><td>WHLS- Quinoa White ORG 25lb bag</td><td>2.0000</td></tr>",
                            "<tr><td>Herbs And Spices</td><td>Grocery</td><td>1099</td><td>Fennel Seed ORG</td><td>1.9828</td></tr>",
                            "<tr><td>Herbs And Spices</td><td>Grocery</td><td>986</td><td>Thyme, dried CONV</td><td>1.9397</td></tr>",
                            "<tr><td>Laundry Cleaners</td><td>Cleaning Supply</td><td>28</td><td>laundry powder, Tough Guy</td><td>1.8981</td></tr>",
                            "<tr><td>Salts</td><td>Whls_Grocery</td><td>962</td><td>WHLS- Real Salt, 25lb Bag</td><td>1.8284</td></tr>",
                            "<tr><td>Dishsoaps</td><td>Cleaning Supply</td><td>817</td><td>Biokleen Automatic Dish Powder</td><td>1.8092</td></tr>",
                            "<tr><td>Herbs And Spices</td><td>Grocery</td><td>318</td><td>Herbs de Provence ORG</td><td>1.7597</td></tr>",
                            "<tr><td>Essential Oils</td><td>Body Care</td><td>743</td><td>Essential Oil, Eucalyptus 6floz</td><td>1.7114</td></tr>",
                            "<tr><td>Herbs And Spices</td><td>Grocery</td><td>254</td><td>Five Spice Powder</td><td>1.6784</td></tr>",
                            "<tr><td>Herbs And Spices</td><td>Grocery</td><td>207</td><td>Mustard Seed Yellow ORG</td><td>1.5096</td></tr>",
                            "<tr><td>Meal Prep - Fruits + Veggies</td><td>Grab &amp; Go</td><td>530</td><td>Purple Cabbage, 1qt Jar</td><td>1.4739</td></tr>",
                            "<tr><td>Produce</td><td>Fresh Produce</td><td>701</td><td>Cut Cellery, ORG</td><td>1.4091</td></tr>",
                            "<tr><td>Meal Prep - Fruits + Veggies</td><td>Grab &amp; Go</td><td>503</td><td>Chopped celery onion, garlic pint jar</td><td>1.2339</td></tr>",
                            "<tr><td>Herbs And Spices</td><td>Grocery</td><td>314</td><td>Pumpkin Spice ORG</td><td>1.2205</td></tr>",
                            "<tr><td>Teas</td><td>Grocery</td><td>518</td><td>Holy Basil Tea</td><td>1.2108</td></tr>",
                            "<tr><td>Teas</td><td>Grocery</td><td>517</td><td>Immunity Tea</td><td>1.1504</td></tr>",
                            "<tr><td>Produce</td><td>Fresh Produce</td><td>1117</td><td>Braising Mix, LOCAL</td><td>1.1496</td></tr>",
                            "<tr><td>Seeds And Grains</td><td>Grocery</td><td>222</td><td>Sesame Seeds - Black ORG</td><td>1.1417</td></tr>",
                            "<tr><td>Baking</td><td>Whls_Grocery</td><td>544</td><td>WHLS- Vanilla ORG - 1 GAL Jug</td><td>1.0992</td></tr>",
                            "<tr><td>Flours</td><td>Grocery</td><td>969</td><td>VOID</td><td>0.9805</td></tr>",
                            "<tr><td>Herbs And Spices</td><td>Grocery</td><td>1122</td><td>Parsley, ORG</td><td>0.9579</td></tr>",
                            "<tr><td>Herbs And Spices</td><td>Grocery</td><td>828</td><td>Mustard Seed, yellow, ORG</td><td>0.8798</td></tr>",
                            "<tr><td>Teas</td><td>Grocery</td><td>516</td><td>Purple Rain Tea</td><td>0.8705</td></tr>",
                            "<tr><td>Essential Oils</td><td>Body Care</td><td>439</td><td>Essential Oil, Tea Tree 6floz</td><td>0.8681</td></tr>",
                            "<tr><td>Essential Oils</td><td>Body Care</td><td>739</td><td>Essential Oil, Eucalyptus 4floz</td><td>0.8557</td></tr>",
                            "<tr><td>Teas</td><td>Grocery</td><td>267</td><td>Gunpowder Mint Green</td><td>0.8207</td></tr>",
                            "<tr><td>Teas</td><td>Grocery</td><td>339</td><td>Pu &#39;erh ORG Tea</td><td>0.8000</td></tr>",
                            "<tr><td>Teas</td><td>Grocery</td><td>1125</td><td>Earl Grey Tea DECAF</td><td>0.6895</td></tr>",
                            "<tr><td>Produce</td><td>Fresh Produce</td><td>754</td><td>Lemongrass Fresh</td><td>0.5700</td></tr>",
                            "<tr><td>Flours</td><td>Whls_Grocery</td><td>229</td><td>WHLS- Almond Meal ORG</td><td>0.5301</td></tr>",
                            "<tr><td>Produce</td><td>Fresh Produce</td><td>698</td><td>Yellow Wax Beans ORG</td><td>0.4387</td></tr>",
                            "<tr><td>Coffee</td><td>Grocery</td><td>284</td><td>Coffee Burundi Fair Trade</td><td>0.3902</td></tr>",
                            "<tr><td>Herbs And Spices</td><td>Grocery</td><td>993</td><td>Cloves - Whole ORG</td><td>0.3400</td></tr>",
                            "<tr><td>Baking</td><td>Grocery</td><td>338</td><td>Vanilla ORG</td><td>0.1800</td></tr>",
                            "<tr><td>Herbs And Spices</td><td>Grocery</td><td>716</td><td>Cardamom Decorticated</td><td>0.1197</td></tr>",
                            "<tr><td>Teas</td><td>Grocery</td><td>600</td><td>Tulsi Ginger Rose</td><td>0.1102</td></tr>",
                            "<tr><td>Herbs And Spices</td><td>Grocery</td><td>542</td><td>(INACTIVE) Smoked Paprika ORG</td><td>0.1001</td></tr>",
                            "<tr><td>Herbs And Spices</td><td>Grocery</td><td>1137</td><td>Orange Peel, ORG</td><td>0.0896</td></tr>",
                            "<tr><td>Herbs And Spices</td><td>Grocery</td><td>1138</td><td>Lemon Peel, ORG</td><td>0.0397</td></tr>",
                            "<tr><td>Coffee</td><td>Grocery</td><td>282</td><td>Coffee Guatemalan Tikal</td><td>0.0202</td></tr>",
                            "</table>"
                        ]
                    }
                }
            ],
            "execution_count": 33
        },
        {
            "cell_type": "markdown",
            "source": [
                "## Average Order Value\n",
                "\n",
                "#### Average Order Value by Month and Moving 3 Month Average (Includes Retail and Wholesale)"
            ],
            "metadata": {
                "language": "sql",
                "azdata_cell_guid": "8979605c-0f14-4420-8e62-5f7449074263"
            },
            "attachments": {}
        },
        {
            "cell_type": "code",
            "source": [
                "SELECT \r\n",
                "    EOMONTH(o.OrderDate) AS Month,\r\n",
                "    COUNT(DISTINCT o.OrderID) AS OrderCount,\r\n",
                "    SUM(l.SaleAmount) AS Amount,\r\n",
                "    SUM(l.SaleAmount) / COUNT(DISTINCT o.OrderID) AS AvgOrderValue,\r\n",
                "    AVG(SUM(l.SaleAmount)/COUNT(DISTINCT o.OrderID)) OVER(\r\n",
                "        ORDER BY EOMONTH(o.OrderDate) -- Order the records by transaction month, ensuring the average is calculated chronologically\r\n",
                "        ROWS BETWEEN 2 PRECEDING and CURRENT ROW -- specifies the range of rows to include in the average as 2 preceeding and current row\r\n",
                "    ) AS MovingThreeMoAvgAOV\r\n",
                "FROM\r\n",
                "    SalesOrderLines AS l\r\n",
                "    JOIN SalesOrders AS o\r\n",
                "    ON l.OrderID = o.OrderID\r\n",
                "\r\n",
                "GROUP BY EOMONTH(o.OrderDate)\r\n",
                "ORDER BY EOMONTH(o.OrderDate)"
            ],
            "metadata": {
                "language": "sql",
                "azdata_cell_guid": "04ad9327-f6bb-48c9-a4a4-71d459870d91",
                "tags": []
            },
            "outputs": [
                {
                    "output_type": "display_data",
                    "data": {
                        "text/html": "(35 rows affected)"
                    },
                    "metadata": {}
                },
                {
                    "output_type": "display_data",
                    "data": {
                        "text/html": "Total execution time: 00:00:00.153"
                    },
                    "metadata": {}
                },
                {
                    "output_type": "execute_result",
                    "execution_count": 12,
                    "data": {
                        "application/vnd.dataresource+json": {
                            "schema": {
                                "fields": [
                                    {
                                        "name": "Month"
                                    },
                                    {
                                        "name": "OrderCount"
                                    },
                                    {
                                        "name": "Amount"
                                    },
                                    {
                                        "name": "AvgOrderValue"
                                    },
                                    {
                                        "name": "MovingThreeMoAvgAOV"
                                    }
                                ]
                            },
                            "data": [
                                {
                                    "Month": "2019-02-28",
                                    "OrderCount": "749",
                                    "Amount": "14964.79",
                                    "AvgOrderValue": "19.979692",
                                    "MovingThreeMoAvgAOV": "19.979692"
                                },
                                {
                                    "Month": "2019-03-31",
                                    "OrderCount": "1003",
                                    "Amount": "20949.45",
                                    "AvgOrderValue": "20.886789",
                                    "MovingThreeMoAvgAOV": "20.433240"
                                },
                                {
                                    "Month": "2019-04-30",
                                    "OrderCount": "899",
                                    "Amount": "17287.15",
                                    "AvgOrderValue": "19.229310",
                                    "MovingThreeMoAvgAOV": "20.031930"
                                },
                                {
                                    "Month": "2019-05-31",
                                    "OrderCount": "1184",
                                    "Amount": "24424.98",
                                    "AvgOrderValue": "20.629206",
                                    "MovingThreeMoAvgAOV": "20.248435"
                                },
                                {
                                    "Month": "2019-06-30",
                                    "OrderCount": "1137",
                                    "Amount": "27454.37",
                                    "AvgOrderValue": "24.146323",
                                    "MovingThreeMoAvgAOV": "21.334946"
                                },
                                {
                                    "Month": "2019-07-31",
                                    "OrderCount": "1120",
                                    "Amount": "27423.94",
                                    "AvgOrderValue": "24.485660",
                                    "MovingThreeMoAvgAOV": "23.087063"
                                },
                                {
                                    "Month": "2019-08-31",
                                    "OrderCount": "1095",
                                    "Amount": "26306.96",
                                    "AvgOrderValue": "24.024621",
                                    "MovingThreeMoAvgAOV": "24.218868"
                                },
                                {
                                    "Month": "2019-09-30",
                                    "OrderCount": "1109",
                                    "Amount": "28842.81",
                                    "AvgOrderValue": "26.007944",
                                    "MovingThreeMoAvgAOV": "24.839408"
                                },
                                {
                                    "Month": "2019-10-31",
                                    "OrderCount": "1135",
                                    "Amount": "29368.16",
                                    "AvgOrderValue": "25.875030",
                                    "MovingThreeMoAvgAOV": "25.302531"
                                },
                                {
                                    "Month": "2019-11-30",
                                    "OrderCount": "1153",
                                    "Amount": "29010.85",
                                    "AvgOrderValue": "25.161188",
                                    "MovingThreeMoAvgAOV": "25.681387"
                                },
                                {
                                    "Month": "2019-12-31",
                                    "OrderCount": "1192",
                                    "Amount": "31315.30",
                                    "AvgOrderValue": "26.271224",
                                    "MovingThreeMoAvgAOV": "25.769147"
                                },
                                {
                                    "Month": "2020-01-31",
                                    "OrderCount": "1452",
                                    "Amount": "37956.78",
                                    "AvgOrderValue": "26.141033",
                                    "MovingThreeMoAvgAOV": "25.857815"
                                },
                                {
                                    "Month": "2020-02-29",
                                    "OrderCount": "1303",
                                    "Amount": "33820.10",
                                    "AvgOrderValue": "25.955564",
                                    "MovingThreeMoAvgAOV": "26.122607"
                                },
                                {
                                    "Month": "2020-03-31",
                                    "OrderCount": "1445",
                                    "Amount": "44724.33",
                                    "AvgOrderValue": "30.951093",
                                    "MovingThreeMoAvgAOV": "27.682563"
                                },
                                {
                                    "Month": "2020-04-30",
                                    "OrderCount": "890",
                                    "Amount": "31871.41",
                                    "AvgOrderValue": "35.810573",
                                    "MovingThreeMoAvgAOV": "30.905743"
                                },
                                {
                                    "Month": "2020-05-31",
                                    "OrderCount": "924",
                                    "Amount": "35155.72",
                                    "AvgOrderValue": "38.047316",
                                    "MovingThreeMoAvgAOV": "34.936327"
                                },
                                {
                                    "Month": "2020-06-30",
                                    "OrderCount": "984",
                                    "Amount": "35149.96",
                                    "AvgOrderValue": "35.721504",
                                    "MovingThreeMoAvgAOV": "36.526464"
                                },
                                {
                                    "Month": "2020-07-31",
                                    "OrderCount": "1143",
                                    "Amount": "41633.89",
                                    "AvgOrderValue": "36.425100",
                                    "MovingThreeMoAvgAOV": "36.731306"
                                },
                                {
                                    "Month": "2020-08-31",
                                    "OrderCount": "1325",
                                    "Amount": "47599.20",
                                    "AvgOrderValue": "35.923924",
                                    "MovingThreeMoAvgAOV": "36.023509"
                                },
                                {
                                    "Month": "2020-09-30",
                                    "OrderCount": "1233",
                                    "Amount": "43994.26",
                                    "AvgOrderValue": "35.680665",
                                    "MovingThreeMoAvgAOV": "36.009896"
                                },
                                {
                                    "Month": "2020-10-31",
                                    "OrderCount": "1292",
                                    "Amount": "46408.37",
                                    "AvgOrderValue": "35.919791",
                                    "MovingThreeMoAvgAOV": "35.841460"
                                },
                                {
                                    "Month": "2020-11-30",
                                    "OrderCount": "1239",
                                    "Amount": "42768.71",
                                    "AvgOrderValue": "34.518732",
                                    "MovingThreeMoAvgAOV": "35.373062"
                                },
                                {
                                    "Month": "2020-12-31",
                                    "OrderCount": "1418",
                                    "Amount": "53039.45",
                                    "AvgOrderValue": "37.404407",
                                    "MovingThreeMoAvgAOV": "35.947643"
                                },
                                {
                                    "Month": "2021-01-31",
                                    "OrderCount": "1561",
                                    "Amount": "55312.48",
                                    "AvgOrderValue": "35.434003",
                                    "MovingThreeMoAvgAOV": "35.785714"
                                },
                                {
                                    "Month": "2021-02-28",
                                    "OrderCount": "1461",
                                    "Amount": "54057.65",
                                    "AvgOrderValue": "37.000444",
                                    "MovingThreeMoAvgAOV": "36.612951"
                                },
                                {
                                    "Month": "2021-03-31",
                                    "OrderCount": "1493",
                                    "Amount": "51043.98",
                                    "AvgOrderValue": "34.188868",
                                    "MovingThreeMoAvgAOV": "35.541105"
                                },
                                {
                                    "Month": "2021-04-30",
                                    "OrderCount": "1396",
                                    "Amount": "52109.81",
                                    "AvgOrderValue": "37.327944",
                                    "MovingThreeMoAvgAOV": "36.172418"
                                },
                                {
                                    "Month": "2021-05-31",
                                    "OrderCount": "1354",
                                    "Amount": "49186.36",
                                    "AvgOrderValue": "36.326706",
                                    "MovingThreeMoAvgAOV": "35.947839"
                                },
                                {
                                    "Month": "2021-06-30",
                                    "OrderCount": "1228",
                                    "Amount": "44196.52",
                                    "AvgOrderValue": "35.990651",
                                    "MovingThreeMoAvgAOV": "36.548433"
                                },
                                {
                                    "Month": "2021-07-31",
                                    "OrderCount": "1212",
                                    "Amount": "40539.18",
                                    "AvgOrderValue": "33.448168",
                                    "MovingThreeMoAvgAOV": "35.255175"
                                },
                                {
                                    "Month": "2021-08-31",
                                    "OrderCount": "1153",
                                    "Amount": "40792.58",
                                    "AvgOrderValue": "35.379514",
                                    "MovingThreeMoAvgAOV": "34.939444"
                                },
                                {
                                    "Month": "2021-09-30",
                                    "OrderCount": "952",
                                    "Amount": "33339.35",
                                    "AvgOrderValue": "35.020325",
                                    "MovingThreeMoAvgAOV": "34.616002"
                                },
                                {
                                    "Month": "2021-10-31",
                                    "OrderCount": "1153",
                                    "Amount": "40067.79",
                                    "AvgOrderValue": "34.750901",
                                    "MovingThreeMoAvgAOV": "35.050246"
                                },
                                {
                                    "Month": "2021-11-30",
                                    "OrderCount": "1030",
                                    "Amount": "37493.90",
                                    "AvgOrderValue": "36.401844",
                                    "MovingThreeMoAvgAOV": "35.391023"
                                },
                                {
                                    "Month": "2021-12-31",
                                    "OrderCount": "1033",
                                    "Amount": "39188.84",
                                    "AvgOrderValue": "37.936921",
                                    "MovingThreeMoAvgAOV": "36.363222"
                                }
                            ]
                        },
                        "text/html": "<table><tr><th>Month</th><th>OrderCount</th><th>Amount</th><th>AvgOrderValue</th><th>MovingThreeMoAvgAOV</th></tr><tr><td>2019-02-28</td><td>749</td><td>14964.79</td><td>19.979692</td><td>19.979692</td></tr><tr><td>2019-03-31</td><td>1003</td><td>20949.45</td><td>20.886789</td><td>20.433240</td></tr><tr><td>2019-04-30</td><td>899</td><td>17287.15</td><td>19.229310</td><td>20.031930</td></tr><tr><td>2019-05-31</td><td>1184</td><td>24424.98</td><td>20.629206</td><td>20.248435</td></tr><tr><td>2019-06-30</td><td>1137</td><td>27454.37</td><td>24.146323</td><td>21.334946</td></tr><tr><td>2019-07-31</td><td>1120</td><td>27423.94</td><td>24.485660</td><td>23.087063</td></tr><tr><td>2019-08-31</td><td>1095</td><td>26306.96</td><td>24.024621</td><td>24.218868</td></tr><tr><td>2019-09-30</td><td>1109</td><td>28842.81</td><td>26.007944</td><td>24.839408</td></tr><tr><td>2019-10-31</td><td>1135</td><td>29368.16</td><td>25.875030</td><td>25.302531</td></tr><tr><td>2019-11-30</td><td>1153</td><td>29010.85</td><td>25.161188</td><td>25.681387</td></tr><tr><td>2019-12-31</td><td>1192</td><td>31315.30</td><td>26.271224</td><td>25.769147</td></tr><tr><td>2020-01-31</td><td>1452</td><td>37956.78</td><td>26.141033</td><td>25.857815</td></tr><tr><td>2020-02-29</td><td>1303</td><td>33820.10</td><td>25.955564</td><td>26.122607</td></tr><tr><td>2020-03-31</td><td>1445</td><td>44724.33</td><td>30.951093</td><td>27.682563</td></tr><tr><td>2020-04-30</td><td>890</td><td>31871.41</td><td>35.810573</td><td>30.905743</td></tr><tr><td>2020-05-31</td><td>924</td><td>35155.72</td><td>38.047316</td><td>34.936327</td></tr><tr><td>2020-06-30</td><td>984</td><td>35149.96</td><td>35.721504</td><td>36.526464</td></tr><tr><td>2020-07-31</td><td>1143</td><td>41633.89</td><td>36.425100</td><td>36.731306</td></tr><tr><td>2020-08-31</td><td>1325</td><td>47599.20</td><td>35.923924</td><td>36.023509</td></tr><tr><td>2020-09-30</td><td>1233</td><td>43994.26</td><td>35.680665</td><td>36.009896</td></tr><tr><td>2020-10-31</td><td>1292</td><td>46408.37</td><td>35.919791</td><td>35.841460</td></tr><tr><td>2020-11-30</td><td>1239</td><td>42768.71</td><td>34.518732</td><td>35.373062</td></tr><tr><td>2020-12-31</td><td>1418</td><td>53039.45</td><td>37.404407</td><td>35.947643</td></tr><tr><td>2021-01-31</td><td>1561</td><td>55312.48</td><td>35.434003</td><td>35.785714</td></tr><tr><td>2021-02-28</td><td>1461</td><td>54057.65</td><td>37.000444</td><td>36.612951</td></tr><tr><td>2021-03-31</td><td>1493</td><td>51043.98</td><td>34.188868</td><td>35.541105</td></tr><tr><td>2021-04-30</td><td>1396</td><td>52109.81</td><td>37.327944</td><td>36.172418</td></tr><tr><td>2021-05-31</td><td>1354</td><td>49186.36</td><td>36.326706</td><td>35.947839</td></tr><tr><td>2021-06-30</td><td>1228</td><td>44196.52</td><td>35.990651</td><td>36.548433</td></tr><tr><td>2021-07-31</td><td>1212</td><td>40539.18</td><td>33.448168</td><td>35.255175</td></tr><tr><td>2021-08-31</td><td>1153</td><td>40792.58</td><td>35.379514</td><td>34.939444</td></tr><tr><td>2021-09-30</td><td>952</td><td>33339.35</td><td>35.020325</td><td>34.616002</td></tr><tr><td>2021-10-31</td><td>1153</td><td>40067.79</td><td>34.750901</td><td>35.050246</td></tr><tr><td>2021-11-30</td><td>1030</td><td>37493.90</td><td>36.401844</td><td>35.391023</td></tr><tr><td>2021-12-31</td><td>1033</td><td>39188.84</td><td>37.936921</td><td>36.363222</td></tr></table>"
                    },
                    "metadata": {}
                }
            ],
            "execution_count": 12
        },
        {
            "cell_type": "markdown",
            "source": [
                "#### Retail AOV and Three Month Moving Average\r\n",
                ""
            ],
            "metadata": {
                "language": "sql",
                "azdata_cell_guid": "f2be39d5-0eb5-44c3-b911-8f2b651f801f"
            },
            "attachments": {}
        },
        {
            "cell_type": "code",
            "source": [
                "SELECT \r\n",
                "    EOMONTH(o.OrderDate) AS Month,\r\n",
                "    COUNT(DISTINCT o.OrderID) AS OrderCount,\r\n",
                "    SUM(l.SaleAmount) AS Amount,\r\n",
                "    SUM(l.SaleAmount) / COUNT(DISTINCT o.OrderID) AS AvgOrderValue,\r\n",
                "    AVG(SUM(l.SaleAmount)/COUNT(DISTINCT o.OrderID)) OVER(\r\n",
                "        ORDER BY EOMONTH(o.OrderDate) -- Order the records by transaction month, ensuring the average is calculated chronologically\r\n",
                "        ROWS BETWEEN 2 PRECEDING and CURRENT ROW -- specifies the range of rows to include in the average as 2 preceeding and current row\r\n",
                "    ) AS MovingThreeMoAvgAOV\r\n",
                "FROM\r\n",
                "    SalesOrderLines AS l\r\n",
                "    JOIN SalesOrders AS o\r\n",
                "    ON l.OrderID = o.OrderID\r\n",
                "    JOIN dimCustomers AS c\r\n",
                "    ON o.CustomerID = c.CustomerID\r\n",
                "\r\n",
                "WHERE c.CustomerType = 'Retail'\r\n",
                "\r\n",
                "GROUP BY EOMONTH(o.OrderDate)\r\n",
                "ORDER BY EOMONTH(o.OrderDate)"
            ],
            "metadata": {
                "language": "sql",
                "azdata_cell_guid": "b495db83-fedd-4d77-9aa0-2112b431dca8",
                "tags": []
            },
            "outputs": [
                {
                    "output_type": "display_data",
                    "data": {
                        "text/html": "(35 rows affected)"
                    },
                    "metadata": {}
                },
                {
                    "output_type": "display_data",
                    "data": {
                        "text/html": "Total execution time: 00:00:00.204"
                    },
                    "metadata": {}
                },
                {
                    "output_type": "execute_result",
                    "execution_count": 47,
                    "data": {
                        "application/vnd.dataresource+json": {
                            "schema": {
                                "fields": [
                                    {
                                        "name": "Month"
                                    },
                                    {
                                        "name": "OrderCount"
                                    },
                                    {
                                        "name": "Amount"
                                    },
                                    {
                                        "name": "AvgOrderValue"
                                    },
                                    {
                                        "name": "MovingThreeMoAvgAOV"
                                    }
                                ]
                            },
                            "data": [
                                {
                                    "Month": "2019-02-28",
                                    "OrderCount": "749",
                                    "Amount": "14964.79",
                                    "AvgOrderValue": "19.979692",
                                    "MovingThreeMoAvgAOV": "19.979692"
                                },
                                {
                                    "Month": "2019-03-31",
                                    "OrderCount": "1000",
                                    "Amount": "20094.08",
                                    "AvgOrderValue": "20.094080",
                                    "MovingThreeMoAvgAOV": "20.036886"
                                },
                                {
                                    "Month": "2019-04-30",
                                    "OrderCount": "896",
                                    "Amount": "16817.66",
                                    "AvgOrderValue": "18.769709",
                                    "MovingThreeMoAvgAOV": "19.614493"
                                },
                                {
                                    "Month": "2019-05-31",
                                    "OrderCount": "1177",
                                    "Amount": "23642.95",
                                    "AvgOrderValue": "20.087468",
                                    "MovingThreeMoAvgAOV": "19.650419"
                                },
                                {
                                    "Month": "2019-06-30",
                                    "OrderCount": "1126",
                                    "Amount": "24337.25",
                                    "AvgOrderValue": "21.613898",
                                    "MovingThreeMoAvgAOV": "20.157025"
                                },
                                {
                                    "Month": "2019-07-31",
                                    "OrderCount": "1107",
                                    "Amount": "23399.75",
                                    "AvgOrderValue": "21.137985",
                                    "MovingThreeMoAvgAOV": "20.946450"
                                },
                                {
                                    "Month": "2019-08-31",
                                    "OrderCount": "1088",
                                    "Amount": "24639.41",
                                    "AvgOrderValue": "22.646516",
                                    "MovingThreeMoAvgAOV": "21.799466"
                                },
                                {
                                    "Month": "2019-09-30",
                                    "OrderCount": "1096",
                                    "Amount": "25514.16",
                                    "AvgOrderValue": "23.279343",
                                    "MovingThreeMoAvgAOV": "22.354614"
                                },
                                {
                                    "Month": "2019-10-31",
                                    "OrderCount": "1126",
                                    "Amount": "27212.48",
                                    "AvgOrderValue": "24.167388",
                                    "MovingThreeMoAvgAOV": "23.364415"
                                },
                                {
                                    "Month": "2019-11-30",
                                    "OrderCount": "1145",
                                    "Amount": "27021.07",
                                    "AvgOrderValue": "23.599187",
                                    "MovingThreeMoAvgAOV": "23.681972"
                                },
                                {
                                    "Month": "2019-12-31",
                                    "OrderCount": "1186",
                                    "Amount": "29766.17",
                                    "AvgOrderValue": "25.097951",
                                    "MovingThreeMoAvgAOV": "24.288175"
                                },
                                {
                                    "Month": "2020-01-31",
                                    "OrderCount": "1446",
                                    "Amount": "35834.15",
                                    "AvgOrderValue": "24.781569",
                                    "MovingThreeMoAvgAOV": "24.492902"
                                },
                                {
                                    "Month": "2020-02-29",
                                    "OrderCount": "1297",
                                    "Amount": "32432.45",
                                    "AvgOrderValue": "25.005744",
                                    "MovingThreeMoAvgAOV": "24.961754"
                                },
                                {
                                    "Month": "2020-03-31",
                                    "OrderCount": "1439",
                                    "Amount": "42190.47",
                                    "AvgOrderValue": "29.319298",
                                    "MovingThreeMoAvgAOV": "26.368870"
                                },
                                {
                                    "Month": "2020-04-30",
                                    "OrderCount": "886",
                                    "Amount": "31068.72",
                                    "AvgOrderValue": "35.066275",
                                    "MovingThreeMoAvgAOV": "29.797105"
                                },
                                {
                                    "Month": "2020-05-31",
                                    "OrderCount": "919",
                                    "Amount": "33495.85",
                                    "AvgOrderValue": "36.448150",
                                    "MovingThreeMoAvgAOV": "33.611241"
                                },
                                {
                                    "Month": "2020-06-30",
                                    "OrderCount": "981",
                                    "Amount": "34187.99",
                                    "AvgOrderValue": "34.850142",
                                    "MovingThreeMoAvgAOV": "35.454855"
                                },
                                {
                                    "Month": "2020-07-31",
                                    "OrderCount": "1134",
                                    "Amount": "39442.68",
                                    "AvgOrderValue": "34.781904",
                                    "MovingThreeMoAvgAOV": "35.360065"
                                },
                                {
                                    "Month": "2020-08-31",
                                    "OrderCount": "1319",
                                    "Amount": "44489.38",
                                    "AvgOrderValue": "33.729628",
                                    "MovingThreeMoAvgAOV": "34.453891"
                                },
                                {
                                    "Month": "2020-09-30",
                                    "OrderCount": "1225",
                                    "Amount": "42453.22",
                                    "AvgOrderValue": "34.655689",
                                    "MovingThreeMoAvgAOV": "34.389073"
                                },
                                {
                                    "Month": "2020-10-31",
                                    "OrderCount": "1289",
                                    "Amount": "45520.96",
                                    "AvgOrderValue": "35.314941",
                                    "MovingThreeMoAvgAOV": "34.566752"
                                },
                                {
                                    "Month": "2020-11-30",
                                    "OrderCount": "1235",
                                    "Amount": "41839.00",
                                    "AvgOrderValue": "33.877732",
                                    "MovingThreeMoAvgAOV": "34.616120"
                                },
                                {
                                    "Month": "2020-12-31",
                                    "OrderCount": "1416",
                                    "Amount": "52164.29",
                                    "AvgOrderValue": "36.839187",
                                    "MovingThreeMoAvgAOV": "35.343953"
                                },
                                {
                                    "Month": "2021-01-31",
                                    "OrderCount": "1559",
                                    "Amount": "54639.57",
                                    "AvgOrderValue": "35.047831",
                                    "MovingThreeMoAvgAOV": "35.254916"
                                },
                                {
                                    "Month": "2021-02-28",
                                    "OrderCount": "1454",
                                    "Amount": "52804.70",
                                    "AvgOrderValue": "36.316850",
                                    "MovingThreeMoAvgAOV": "36.067956"
                                },
                                {
                                    "Month": "2021-03-31",
                                    "OrderCount": "1488",
                                    "Amount": "50034.26",
                                    "AvgOrderValue": "33.625174",
                                    "MovingThreeMoAvgAOV": "34.996618"
                                },
                                {
                                    "Month": "2021-04-30",
                                    "OrderCount": "1390",
                                    "Amount": "50771.58",
                                    "AvgOrderValue": "36.526316",
                                    "MovingThreeMoAvgAOV": "35.489446"
                                },
                                {
                                    "Month": "2021-05-31",
                                    "OrderCount": "1349",
                                    "Amount": "48168.25",
                                    "AvgOrderValue": "35.706634",
                                    "MovingThreeMoAvgAOV": "35.286041"
                                },
                                {
                                    "Month": "2021-06-30",
                                    "OrderCount": "1224",
                                    "Amount": "43477.01",
                                    "AvgOrderValue": "35.520433",
                                    "MovingThreeMoAvgAOV": "35.917794"
                                },
                                {
                                    "Month": "2021-07-31",
                                    "OrderCount": "1205",
                                    "Amount": "39053.58",
                                    "AvgOrderValue": "32.409609",
                                    "MovingThreeMoAvgAOV": "34.545558"
                                },
                                {
                                    "Month": "2021-08-31",
                                    "OrderCount": "1151",
                                    "Amount": "40251.15",
                                    "AvgOrderValue": "34.970590",
                                    "MovingThreeMoAvgAOV": "34.300210"
                                },
                                {
                                    "Month": "2021-09-30",
                                    "OrderCount": "949",
                                    "Amount": "32437.21",
                                    "AvgOrderValue": "34.180410",
                                    "MovingThreeMoAvgAOV": "33.853536"
                                },
                                {
                                    "Month": "2021-10-31",
                                    "OrderCount": "1149",
                                    "Amount": "38340.32",
                                    "AvgOrderValue": "33.368424",
                                    "MovingThreeMoAvgAOV": "34.173141"
                                },
                                {
                                    "Month": "2021-11-30",
                                    "OrderCount": "1027",
                                    "Amount": "36311.91",
                                    "AvgOrderValue": "35.357263",
                                    "MovingThreeMoAvgAOV": "34.302032"
                                },
                                {
                                    "Month": "2021-12-31",
                                    "OrderCount": "1029",
                                    "Amount": "37856.04",
                                    "AvgOrderValue": "36.789154",
                                    "MovingThreeMoAvgAOV": "35.171613"
                                }
                            ]
                        },
                        "text/html": "<table><tr><th>Month</th><th>OrderCount</th><th>Amount</th><th>AvgOrderValue</th><th>MovingThreeMoAvgAOV</th></tr><tr><td>2019-02-28</td><td>749</td><td>14964.79</td><td>19.979692</td><td>19.979692</td></tr><tr><td>2019-03-31</td><td>1000</td><td>20094.08</td><td>20.094080</td><td>20.036886</td></tr><tr><td>2019-04-30</td><td>896</td><td>16817.66</td><td>18.769709</td><td>19.614493</td></tr><tr><td>2019-05-31</td><td>1177</td><td>23642.95</td><td>20.087468</td><td>19.650419</td></tr><tr><td>2019-06-30</td><td>1126</td><td>24337.25</td><td>21.613898</td><td>20.157025</td></tr><tr><td>2019-07-31</td><td>1107</td><td>23399.75</td><td>21.137985</td><td>20.946450</td></tr><tr><td>2019-08-31</td><td>1088</td><td>24639.41</td><td>22.646516</td><td>21.799466</td></tr><tr><td>2019-09-30</td><td>1096</td><td>25514.16</td><td>23.279343</td><td>22.354614</td></tr><tr><td>2019-10-31</td><td>1126</td><td>27212.48</td><td>24.167388</td><td>23.364415</td></tr><tr><td>2019-11-30</td><td>1145</td><td>27021.07</td><td>23.599187</td><td>23.681972</td></tr><tr><td>2019-12-31</td><td>1186</td><td>29766.17</td><td>25.097951</td><td>24.288175</td></tr><tr><td>2020-01-31</td><td>1446</td><td>35834.15</td><td>24.781569</td><td>24.492902</td></tr><tr><td>2020-02-29</td><td>1297</td><td>32432.45</td><td>25.005744</td><td>24.961754</td></tr><tr><td>2020-03-31</td><td>1439</td><td>42190.47</td><td>29.319298</td><td>26.368870</td></tr><tr><td>2020-04-30</td><td>886</td><td>31068.72</td><td>35.066275</td><td>29.797105</td></tr><tr><td>2020-05-31</td><td>919</td><td>33495.85</td><td>36.448150</td><td>33.611241</td></tr><tr><td>2020-06-30</td><td>981</td><td>34187.99</td><td>34.850142</td><td>35.454855</td></tr><tr><td>2020-07-31</td><td>1134</td><td>39442.68</td><td>34.781904</td><td>35.360065</td></tr><tr><td>2020-08-31</td><td>1319</td><td>44489.38</td><td>33.729628</td><td>34.453891</td></tr><tr><td>2020-09-30</td><td>1225</td><td>42453.22</td><td>34.655689</td><td>34.389073</td></tr><tr><td>2020-10-31</td><td>1289</td><td>45520.96</td><td>35.314941</td><td>34.566752</td></tr><tr><td>2020-11-30</td><td>1235</td><td>41839.00</td><td>33.877732</td><td>34.616120</td></tr><tr><td>2020-12-31</td><td>1416</td><td>52164.29</td><td>36.839187</td><td>35.343953</td></tr><tr><td>2021-01-31</td><td>1559</td><td>54639.57</td><td>35.047831</td><td>35.254916</td></tr><tr><td>2021-02-28</td><td>1454</td><td>52804.70</td><td>36.316850</td><td>36.067956</td></tr><tr><td>2021-03-31</td><td>1488</td><td>50034.26</td><td>33.625174</td><td>34.996618</td></tr><tr><td>2021-04-30</td><td>1390</td><td>50771.58</td><td>36.526316</td><td>35.489446</td></tr><tr><td>2021-05-31</td><td>1349</td><td>48168.25</td><td>35.706634</td><td>35.286041</td></tr><tr><td>2021-06-30</td><td>1224</td><td>43477.01</td><td>35.520433</td><td>35.917794</td></tr><tr><td>2021-07-31</td><td>1205</td><td>39053.58</td><td>32.409609</td><td>34.545558</td></tr><tr><td>2021-08-31</td><td>1151</td><td>40251.15</td><td>34.970590</td><td>34.300210</td></tr><tr><td>2021-09-30</td><td>949</td><td>32437.21</td><td>34.180410</td><td>33.853536</td></tr><tr><td>2021-10-31</td><td>1149</td><td>38340.32</td><td>33.368424</td><td>34.173141</td></tr><tr><td>2021-11-30</td><td>1027</td><td>36311.91</td><td>35.357263</td><td>34.302032</td></tr><tr><td>2021-12-31</td><td>1029</td><td>37856.04</td><td>36.789154</td><td>35.171613</td></tr></table>"
                    },
                    "metadata": {}
                }
            ],
            "execution_count": 47
        },
        {
            "cell_type": "markdown",
            "source": [
                "## Customer Analysis"
            ],
            "metadata": {
                "language": "sql",
                "azdata_cell_guid": "7bc6d0c4-3455-4192-b1ad-ecd24e05cc63"
            },
            "attachments": {}
        },
        {
            "cell_type": "markdown",
            "source": [
                "#### Compare Retail and Wholesale Sales Statistics\r\n",
                ""
            ],
            "metadata": {
                "language": "sql",
                "azdata_cell_guid": "35264eb2-0be0-42d9-b366-f6f172b06f2e"
            },
            "attachments": {}
        },
        {
            "cell_type": "code",
            "source": [
                "SELECT\r\n",
                "    c.CustomerType,\r\n",
                "    SUM(SaleAmount) AS Sales,\r\n",
                "    SUM(SaleAmount)/\r\n",
                "    (SELECT \r\n",
                "        SUM(SaleAmount)\r\n",
                "        FROM SalesOrderLines) AS PctOfSales, --Use a subquery to calculate total sales and percent of total sales\r\n",
                "    COUNT(DISTINCT o.OrderID) As TransactionCount,\r\n",
                "    SUM(SaleAmount) / COUNT(DISTINCT o.OrderID) AS AvgOrderValue,\r\n",
                "    COUNT(DISTINCT o.CustomerID) AS UniqueCustomers\r\n",
                "\r\n",
                "FROM SalesOrderLines AS l\r\n",
                "    JOIN SalesOrders AS o\r\n",
                "    ON l.OrderID = o.OrderID   \r\n",
                "    JOIN dimCustomers AS c\r\n",
                "    ON o.CustomerID = c.CustomerID\r\n",
                "\r\n",
                "GROUP BY c.CustomerType"
            ],
            "metadata": {
                "language": "sql",
                "azdata_cell_guid": "692ba67c-ebbe-4957-a19a-ab4ea8e98b98"
            },
            "outputs": [
                {
                    "output_type": "display_data",
                    "data": {
                        "text/html": "(2 rows affected)"
                    },
                    "metadata": {}
                },
                {
                    "output_type": "display_data",
                    "data": {
                        "text/html": "Total execution time: 00:00:00.174"
                    },
                    "metadata": {}
                },
                {
                    "output_type": "execute_result",
                    "metadata": {},
                    "execution_count": 35,
                    "data": {
                        "application/vnd.dataresource+json": {
                            "schema": {
                                "fields": [
                                    {
                                        "name": "CustomerType"
                                    },
                                    {
                                        "name": "Sales"
                                    },
                                    {
                                        "name": "PctOfSales"
                                    },
                                    {
                                        "name": "TransactionCount"
                                    },
                                    {
                                        "name": "AvgOrderValue"
                                    },
                                    {
                                        "name": "UniqueCustomers"
                                    }
                                ]
                            },
                            "data": [
                                {
                                    "CustomerType": "Retail",
                                    "Sales": "1251542.46",
                                    "PctOfSales": "0.956252",
                                    "TransactionCount": "41220",
                                    "AvgOrderValue": "30.362505",
                                    "UniqueCustomers": "3917"
                                },
                                {
                                    "CustomerType": "Wholesale",
                                    "Sales": "57256.92",
                                    "PctOfSales": "0.043747",
                                    "TransactionCount": "230",
                                    "AvgOrderValue": "248.943130",
                                    "UniqueCustomers": "15"
                                }
                            ]
                        },
                        "text/html": [
                            "<table>",
                            "<tr><th>CustomerType</th><th>Sales</th><th>PctOfSales</th><th>TransactionCount</th><th>AvgOrderValue</th><th>UniqueCustomers</th></tr>",
                            "<tr><td>Retail</td><td>1251542.46</td><td>0.956252</td><td>41220</td><td>30.362505</td><td>3917</td></tr>",
                            "<tr><td>Wholesale</td><td>57256.92</td><td>0.043747</td><td>230</td><td>248.943130</td><td>15</td></tr>",
                            "</table>"
                        ]
                    }
                }
            ],
            "execution_count": 35
        },
        {
            "cell_type": "markdown",
            "source": [
                "#### Retail Sales: Known Customers vs Anonymous Sales - CASE Statement and CTE to group by CASE Statement\n",
                "\n",
                "Sales Composition (% of Total), AOV, Unique Customers, Order Count"
            ],
            "metadata": {
                "language": "sql",
                "azdata_cell_guid": "4fb7236c-b34d-4a10-ab08-f85845018af6"
            },
            "attachments": {}
        },
        {
            "cell_type": "code",
            "source": [
                "-- Create a CTE of Sales Transactions, adding a Customer Type using a CASE statement\r\n",
                "WITH CustomerSales AS(\r\n",
                "    SELECT\r\n",
                "        o.CustomerID,\r\n",
                "        \r\n",
                "        CASE \r\n",
                "            WHEN o.CustomerID IS NULL THEN 'Blank'\r\n",
                "            WHEN o.CustomerID = 'Unknown' THEN 'Anonymous'\r\n",
                "            ELSE 'KnownCustomers'\r\n",
                "            END As CustomerType,\r\n",
                "        \r\n",
                "        l.SaleAmount,\r\n",
                "        o.OrderID AS OrderID\r\n",
                "    \r\n",
                "    FROM SalesOrderLines AS l\r\n",
                "        JOIN SalesOrders AS o\r\n",
                "        ON l.OrderID = o.OrderID   \r\n",
                "        JOIN dimCustomers AS c\r\n",
                "        ON o.CustomerID = c.CustomerID\r\n",
                "\r\n",
                "    WHERE c.CustomerType = 'Retail'\r\n",
                ")\r\n",
                "\r\n",
                "-- Create a query subtotaling by the newly assigned Customer Type\r\n",
                "SELECT\r\n",
                "    CustomerType,\r\n",
                "    SUM(SaleAmount) AS Sales,\r\n",
                "    SUM(SaleAmount)/\r\n",
                "    (SELECT \r\n",
                "        SUM(SaleAmount)\r\n",
                "        FROM CustomerSales) AS PctOfSales, --Use a subquery to calculate total sales and percent of total sales\r\n",
                "    COUNT(DISTINCT OrderID) As OrderCount,\r\n",
                "    SUM(SaleAmount) / COUNT(DISTINCT OrderID) AS AvgOrderValue,\r\n",
                "    COUNT(DISTINCT CustomerID) AS UniqueCustomers\r\n",
                "FROM CustomerSales\r\n",
                "GROUP BY CustomerType"
            ],
            "metadata": {
                "language": "sql",
                "azdata_cell_guid": "655d19df-82bf-4b64-961f-5ac58a2be5e0"
            },
            "outputs": [
                {
                    "output_type": "display_data",
                    "data": {
                        "text/html": "(2 rows affected)"
                    },
                    "metadata": {}
                },
                {
                    "output_type": "display_data",
                    "data": {
                        "text/html": "Total execution time: 00:00:00.237"
                    },
                    "metadata": {}
                },
                {
                    "output_type": "execute_result",
                    "metadata": {},
                    "execution_count": 36,
                    "data": {
                        "application/vnd.dataresource+json": {
                            "schema": {
                                "fields": [
                                    {
                                        "name": "CustomerType"
                                    },
                                    {
                                        "name": "Sales"
                                    },
                                    {
                                        "name": "PctOfSales"
                                    },
                                    {
                                        "name": "OrderCount"
                                    },
                                    {
                                        "name": "AvgOrderValue"
                                    },
                                    {
                                        "name": "UniqueCustomers"
                                    }
                                ]
                            },
                            "data": [
                                {
                                    "CustomerType": "KnownCustomers",
                                    "Sales": "791712.11",
                                    "PctOfSales": "0.632589",
                                    "OrderCount": "22577",
                                    "AvgOrderValue": "35.067197",
                                    "UniqueCustomers": "3916"
                                },
                                {
                                    "CustomerType": "Anonymous",
                                    "Sales": "459830.35",
                                    "PctOfSales": "0.367410",
                                    "OrderCount": "18643",
                                    "AvgOrderValue": "24.665040",
                                    "UniqueCustomers": "1"
                                }
                            ]
                        },
                        "text/html": [
                            "<table>",
                            "<tr><th>CustomerType</th><th>Sales</th><th>PctOfSales</th><th>OrderCount</th><th>AvgOrderValue</th><th>UniqueCustomers</th></tr>",
                            "<tr><td>KnownCustomers</td><td>791712.11</td><td>0.632589</td><td>22577</td><td>35.067197</td><td>3916</td></tr>",
                            "<tr><td>Anonymous</td><td>459830.35</td><td>0.367410</td><td>18643</td><td>24.665040</td><td>1</td></tr>",
                            "</table>"
                        ]
                    }
                }
            ],
            "execution_count": 36
        },
        {
            "cell_type": "markdown",
            "source": [
                "#### Mean Purchase Frequency for All Known Retail Customers (with CustomerID)"
            ],
            "metadata": {
                "language": "sql",
                "azdata_cell_guid": "d698ca1e-7b34-4c3d-ba7a-f26195287cf9"
            },
            "attachments": {}
        },
        {
            "cell_type": "code",
            "source": [
                "--Mean Purchase Frequency for All Known Customers (with Customer ID)\r\n",
                "\r\n",
                "-- Create a CTE grouped by Customer ID, that calculates the active period (days between first and last purchase), \r\n",
                "-- and divides that by the number of transactions in the period to determine the purchase frequency for each known customer ID\r\n",
                "WITH PurchaseFrequency AS(\r\n",
                "    SELECT\r\n",
                "    o.CustomerID,\r\n",
                "    COUNT(DISTINCT o.OrderID) TransactionCount,\r\n",
                "    DATEDIFF(Day,MIN(o.OrderDate),MAX(o.OrderDate)) AS ActivePeriod,\r\n",
                "    CASE \r\n",
                "        WHEN DATEDIFF(Day,MIN(o.OrderDate),MAX(o.OrderDate)) = 0 THEN 0\r\n",
                "            ELSE DATEDIFF(Day,MIN(o.OrderDate),MAX(o.OrderDate))/ COUNT(DISTINCT o.OrderID) \r\n",
                "        END AS PurchaseFreqencyDays\r\n",
                "\r\n",
                "FROM SalesOrderLines AS l\r\n",
                "        JOIN SalesOrders AS o\r\n",
                "        ON l.OrderID = o.OrderID   \r\n",
                "        JOIN dimCustomers AS c\r\n",
                "        ON o.CustomerID = c.CustomerID\r\n",
                "WHERE o.CustomerID <> 'Unknown' \r\n",
                "AND  c.CustomerType = 'Retail'\r\n",
                "GROUP BY o.CustomerID\r\n",
                ")\r\n",
                "\r\n",
                "-- From the CTE above, average the Purchase Frequency to determine the average for all known customers\r\n",
                "SELECT \r\n",
                "    AVG(PurchaseFreqencyDays) AS MeanPurchaseFrequencyDays,\r\n",
                "    AVG(TransactionCount) AS MeanTransactionCount\r\n",
                "FROM PurchaseFrequency"
            ],
            "metadata": {
                "language": "sql",
                "azdata_cell_guid": "25c1be3b-58f9-4c47-9c42-d4fb9a9b4dd5",
                "tags": []
            },
            "outputs": [
                {
                    "output_type": "display_data",
                    "data": {
                        "text/html": "(1 row affected)"
                    },
                    "metadata": {}
                },
                {
                    "output_type": "display_data",
                    "data": {
                        "text/html": "Total execution time: 00:00:00.158"
                    },
                    "metadata": {}
                },
                {
                    "output_type": "execute_result",
                    "metadata": {},
                    "execution_count": 37,
                    "data": {
                        "application/vnd.dataresource+json": {
                            "schema": {
                                "fields": [
                                    {
                                        "name": "MeanPurchaseFrequencyDays"
                                    },
                                    {
                                        "name": "MeanTransactionCount"
                                    }
                                ]
                            },
                            "data": [
                                {
                                    "MeanPurchaseFrequencyDays": "33",
                                    "MeanTransactionCount": "5"
                                }
                            ]
                        },
                        "text/html": [
                            "<table>",
                            "<tr><th>MeanPurchaseFrequencyDays</th><th>MeanTransactionCount</th></tr>",
                            "<tr><td>33</td><td>5</td></tr>",
                            "</table>"
                        ]
                    }
                }
            ],
            "execution_count": 37
        },
        {
            "cell_type": "markdown",
            "source": [
                "## Day of Week Sales\n",
                "\n",
                "#### Avg Transaction Count, Daily Sales and AOV by Day of the Week - Retails Sales"
            ],
            "metadata": {
                "language": "sql",
                "azdata_cell_guid": "20f9a6f1-2be0-4ab6-a842-679debc5d113"
            },
            "attachments": {}
        },
        {
            "cell_type": "code",
            "source": [
                "-- Create a CTE of Daily Sales\r\n",
                "WITH Daily AS(\r\n",
                "    SELECT\r\n",
                "        o.OrderDate,\r\n",
                "        DATENAME(WEEKDAY,o.OrderDate) AS DayofWeek,\r\n",
                "        DATEPART(WEEKDAY, o.OrderDate) AS DayNumber,\r\n",
                "        COUNT(DISTINCT o.OrderID) AS DailyTransactions,\r\n",
                "        SUM(l.SaleAmount) AS DailySales,\r\n",
                "        SUM(l.SaleAmount) / COUNT(DISTINCT o.OrderID) AS AvgOrderValue\r\n",
                "    FROM\r\n",
                "        SalesOrderLines AS l\r\n",
                "        JOIN SalesOrders AS o\r\n",
                "        ON l.OrderID = o.OrderID\r\n",
                "        JOIN DimCustomers AS c\r\n",
                "        ON o.CustomerID = c.CustomerID\r\n",
                "\r\n",
                "    WHERE c.CustomerType = 'Retail'\r\n",
                "    \r\n",
                "    GROUP BY o.OrderDate \r\n",
                ")\r\n",
                "\r\n",
                "-- Summarize Sales Data by Day of Week\r\n",
                "SELECT\r\n",
                "    DayofWeek,\r\n",
                "    Sum(DailyTransactions) AS TotalTransactionCount,\r\n",
                "    AVG(DailyTransactions) AS AvgDailyTransactions,\r\n",
                "    Sum(DailySales) AS TotalSales,\r\n",
                "    Avg(DailySales) AS AvgDailySales,\r\n",
                "    SUM(DailySales) / Sum(DailyTransactions) AS AvgOrderValue\r\n",
                "FROM Daily\r\n",
                "GROUP BY DayofWeek, DayNumber\r\n",
                "ORDER BY DayNumber"
            ],
            "metadata": {
                "language": "sql",
                "azdata_cell_guid": "bdd0a8ea-9fce-4ce5-8898-a42b0b8a3dc8",
                "tags": []
            },
            "outputs": [
                {
                    "output_type": "display_data",
                    "data": {
                        "text/html": "(7 rows affected)"
                    },
                    "metadata": {}
                },
                {
                    "output_type": "display_data",
                    "data": {
                        "text/html": "Total execution time: 00:00:00.159"
                    },
                    "metadata": {}
                },
                {
                    "output_type": "execute_result",
                    "metadata": {},
                    "execution_count": 39,
                    "data": {
                        "application/vnd.dataresource+json": {
                            "schema": {
                                "fields": [
                                    {
                                        "name": "DayofWeek"
                                    },
                                    {
                                        "name": "TotalTransactionCount"
                                    },
                                    {
                                        "name": "AvgDailyTransactions"
                                    },
                                    {
                                        "name": "TotalSales"
                                    },
                                    {
                                        "name": "AvgDailySales"
                                    },
                                    {
                                        "name": "AvgOrderValue"
                                    }
                                ]
                            },
                            "data": [
                                {
                                    "DayofWeek": "Sunday",
                                    "TotalTransactionCount": "5941",
                                    "AvgDailyTransactions": "40",
                                    "TotalSales": "189939.19",
                                    "AvgDailySales": "1292.103333",
                                    "AvgOrderValue": "31.970912"
                                },
                                {
                                    "DayofWeek": "Monday",
                                    "TotalTransactionCount": "5588",
                                    "AvgDailyTransactions": "38",
                                    "TotalSales": "165201.91",
                                    "AvgDailySales": "1139.323517",
                                    "AvgOrderValue": "29.563691"
                                },
                                {
                                    "DayofWeek": "Tuesday",
                                    "TotalTransactionCount": "5228",
                                    "AvgDailyTransactions": "35",
                                    "TotalSales": "154732.23",
                                    "AvgDailySales": "1038.471342",
                                    "AvgOrderValue": "29.596830"
                                },
                                {
                                    "DayofWeek": "Wednesday",
                                    "TotalTransactionCount": "5020",
                                    "AvgDailyTransactions": "33",
                                    "TotalSales": "145338.16",
                                    "AvgDailySales": "982.014594",
                                    "AvgOrderValue": "28.951824"
                                },
                                {
                                    "DayofWeek": "Thursday",
                                    "TotalTransactionCount": "4655",
                                    "AvgDailyTransactions": "33",
                                    "TotalSales": "134008.38",
                                    "AvgDailySales": "964.089064",
                                    "AvgOrderValue": "28.788051"
                                },
                                {
                                    "DayofWeek": "Friday",
                                    "TotalTransactionCount": "5616",
                                    "AvgDailyTransactions": "38",
                                    "TotalSales": "175745.27",
                                    "AvgDailySales": "1203.734726",
                                    "AvgOrderValue": "31.293673"
                                },
                                {
                                    "DayofWeek": "Saturday",
                                    "TotalTransactionCount": "9172",
                                    "AvgDailyTransactions": "61",
                                    "TotalSales": "286577.32",
                                    "AvgDailySales": "1923.337718",
                                    "AvgOrderValue": "31.244801"
                                }
                            ]
                        },
                        "text/html": [
                            "<table>",
                            "<tr><th>DayofWeek</th><th>TotalTransactionCount</th><th>AvgDailyTransactions</th><th>TotalSales</th><th>AvgDailySales</th><th>AvgOrderValue</th></tr>",
                            "<tr><td>Sunday</td><td>5941</td><td>40</td><td>189939.19</td><td>1292.103333</td><td>31.970912</td></tr>",
                            "<tr><td>Monday</td><td>5588</td><td>38</td><td>165201.91</td><td>1139.323517</td><td>29.563691</td></tr>",
                            "<tr><td>Tuesday</td><td>5228</td><td>35</td><td>154732.23</td><td>1038.471342</td><td>29.596830</td></tr>",
                            "<tr><td>Wednesday</td><td>5020</td><td>33</td><td>145338.16</td><td>982.014594</td><td>28.951824</td></tr>",
                            "<tr><td>Thursday</td><td>4655</td><td>33</td><td>134008.38</td><td>964.089064</td><td>28.788051</td></tr>",
                            "<tr><td>Friday</td><td>5616</td><td>38</td><td>175745.27</td><td>1203.734726</td><td>31.293673</td></tr>",
                            "<tr><td>Saturday</td><td>9172</td><td>61</td><td>286577.32</td><td>1923.337718</td><td>31.244801</td></tr>",
                            "</table>"
                        ]
                    }
                }
            ],
            "execution_count": 39
        }
    ]
}