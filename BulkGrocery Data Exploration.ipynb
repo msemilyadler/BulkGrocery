{
    "metadata": {
        "kernelspec": {
            "name": "SQL",
            "display_name": "SQL",
            "language": "sql"
        },
        "language_info": {
            "name": "sql",
            "version": ""
        }
    },
    "nbformat_minor": 2,
    "nbformat": 4,
    "cells": [
        {
            "cell_type": "markdown",
            "source": [
                "# Bulk Grocery Sales Analysis"
            ],
            "metadata": {
                "azdata_cell_guid": "b10aaf00-2423-4f7b-9dba-30b11d05cd4d"
            },
            "attachments": {}
        },
        {
            "cell_type": "markdown",
            "source": [
                "## Sales Summary"
            ],
            "metadata": {
                "azdata_cell_guid": "2ee01da4-3ae6-44c4-9649-3a5498b527df"
            },
            "attachments": {}
        },
        {
            "cell_type": "markdown",
            "source": [
                "### Annual Sales Volume\n",
                "\n",
                "#### Total Annual Sales, Pounds Sold, Transactions Counts, Customer and Product Counts"
            ],
            "metadata": {
                "azdata_cell_guid": "e5336175-a200-4f63-a408-908965d12156"
            },
            "attachments": {}
        },
        {
            "cell_type": "code",
            "source": [
                "SELECT \r\n",
                "    YEAR(o.OrderDate) AS Year, \r\n",
                "    SUM(l.SaleAmount) AS Sales,\r\n",
                "    SUM(l.PoundsSold) AS Pounds, \r\n",
                "    COUNT(DISTINCT o.OrderID) As TransactionCount,\r\n",
                "    COUNT(DISTINCT o.CustomerID) AS KnownCustomerCount,\r\n",
                "    COUNT(DISTINCT l.ProductID) AS UniqueProductCount,\r\n",
                "    COUNT(DISTINCT l.SalesOrderLineID) AS TransactionLineCount,\r\n",
                "    SUM(l.SaleAmount)/ COUNT(DISTINCT o.OrderID) AS AvgOrderValue\r\n",
                "\r\n",
                "FROM SalesOrderLines AS l\r\n",
                "    JOIN SalesOrders AS o\r\n",
                "    ON l.OrderID = o.OrderID \r\n",
                "\r\n",
                "GROUP BY ROLLUP (YEAR(o.OrderDate))\r\n",
                "ORDER BY YEAR(o.OrderDate) "
            ],
            "metadata": {
                "azdata_cell_guid": "0a40a691-15f6-4eff-a3c0-b2cbab6ab9e4",
                "language": "sql",
                "tags": []
            },
            "outputs": [
                {
                    "output_type": "display_data",
                    "data": {
                        "text/html": "(4 rows affected)"
                    },
                    "metadata": {}
                },
                {
                    "output_type": "display_data",
                    "data": {
                        "text/html": "Total execution time: 00:00:01.875"
                    },
                    "metadata": {}
                },
                {
                    "output_type": "execute_result",
                    "metadata": {},
                    "execution_count": 10,
                    "data": {
                        "application/vnd.dataresource+json": {
                            "schema": {
                                "fields": [
                                    {
                                        "name": "Year"
                                    },
                                    {
                                        "name": "Sales"
                                    },
                                    {
                                        "name": "Pounds"
                                    },
                                    {
                                        "name": "TransactionCount"
                                    },
                                    {
                                        "name": "KnownCustomerCount"
                                    },
                                    {
                                        "name": "UniqueProductCount"
                                    },
                                    {
                                        "name": "TransactionLineCount"
                                    },
                                    {
                                        "name": "AvgOrderValue"
                                    }
                                ]
                            },
                            "data": [
                                {
                                    "Year": "NULL",
                                    "Sales": "1308799.38",
                                    "Pounds": "200821.7646",
                                    "TransactionCount": "41450",
                                    "KnownCustomerCount": "3932",
                                    "UniqueProductCount": "1006",
                                    "TransactionLineCount": "223151",
                                    "AvgOrderValue": "31.575377"
                                },
                                {
                                    "Year": "2019",
                                    "Sales": "277348.76",
                                    "Pounds": "37539.4033",
                                    "TransactionCount": "11776",
                                    "KnownCustomerCount": "1704",
                                    "UniqueProductCount": "673",
                                    "TransactionLineCount": "52856",
                                    "AvgOrderValue": "23.552034"
                                },
                                {
                                    "Year": "2020",
                                    "Sales": "494122.18",
                                    "Pounds": "76139.6552",
                                    "TransactionCount": "14648",
                                    "KnownCustomerCount": "1769",
                                    "UniqueProductCount": "635",
                                    "TransactionLineCount": "83723",
                                    "AvgOrderValue": "33.733081"
                                },
                                {
                                    "Year": "2021",
                                    "Sales": "537328.44",
                                    "Pounds": "87142.7061",
                                    "TransactionCount": "15026",
                                    "KnownCustomerCount": "2137",
                                    "UniqueProductCount": "582",
                                    "TransactionLineCount": "86572",
                                    "AvgOrderValue": "35.759912"
                                }
                            ]
                        },
                        "text/html": [
                            "<table>",
                            "<tr><th>Year</th><th>Sales</th><th>Pounds</th><th>TransactionCount</th><th>KnownCustomerCount</th><th>UniqueProductCount</th><th>TransactionLineCount</th><th>AvgOrderValue</th></tr>",
                            "<tr><td>NULL</td><td>1308799.38</td><td>200821.7646</td><td>41450</td><td>3932</td><td>1006</td><td>223151</td><td>31.575377</td></tr>",
                            "<tr><td>2019</td><td>277348.76</td><td>37539.4033</td><td>11776</td><td>1704</td><td>673</td><td>52856</td><td>23.552034</td></tr>",
                            "<tr><td>2020</td><td>494122.18</td><td>76139.6552</td><td>14648</td><td>1769</td><td>635</td><td>83723</td><td>33.733081</td></tr>",
                            "<tr><td>2021</td><td>537328.44</td><td>87142.7061</td><td>15026</td><td>2137</td><td>582</td><td>86572</td><td>35.759912</td></tr>",
                            "</table>"
                        ]
                    }
                }
            ],
            "execution_count": 10
        },
        {
            "cell_type": "markdown",
            "source": [
                "#### Sales Per Square Foot"
            ],
            "metadata": {
                "language": "sql",
                "azdata_cell_guid": "873dd46d-76f5-41f4-890c-9f50a36b56c6"
            },
            "attachments": {}
        },
        {
            "cell_type": "code",
            "source": [
                "-- AnnualizedSales per square foot\r\n",
                "\r\n",
                "\r\n",
                "SELECT \r\n",
                "    o.LocationID,\r\n",
                "    YEAR(o.OrderDate) AS Year,\r\n",
                "    SUM(l.SaleAmount) AS Sales,\r\n",
                "    DATEDIFF(Day,MIN(o.OrderDate), MAX(o.OrderDate))+1 AS DaysInPeriod,\r\n",
                "\r\n",
                "    -- calculate annualized sales by dividing sales by number of days in period and multiplying by 365\r\n",
                "    SUM(l.SaleAmount)/(DATEDIFF(Day,MIN(o.OrderDate), MAX(o.OrderDate))+1 )*365 AS AnnualizedSales,\r\n",
                "\r\n",
                "    MAX(dl.Sqft) AS Sqft,\r\n",
                "\r\n",
                "    -- Divide Annualized Sales by Location SqFt\r\n",
                "    SUM(l.SaleAmount)/(DATEDIFF(Day,MIN(o.OrderDate), MAX(o.OrderDate))+1 )*365 / MAX(dl.Sqft) AS SalesPerSqft\r\n",
                "\r\n",
                "FROM SalesOrderLines AS l\r\n",
                "    JOIN SalesOrders AS o\r\n",
                "    ON l.OrderID = o.OrderID\r\n",
                "    JOIN DimLocation as dl\r\n",
                "    ON o.LocationID = dl.LocationID\r\n",
                "\r\n",
                "GROUP BY o.LocationID, YEAR(o.OrderDate)\r\n",
                "ORDER BY Year, LocationID"
            ],
            "metadata": {
                "language": "sql",
                "azdata_cell_guid": "37fdbae0-ffb6-4d61-8516-c20ddd5c99bb"
            },
            "outputs": [
                {
                    "output_type": "display_data",
                    "data": {
                        "text/html": "(4 rows affected)"
                    },
                    "metadata": {}
                },
                {
                    "output_type": "display_data",
                    "data": {
                        "text/html": "Total execution time: 00:00:00.723"
                    },
                    "metadata": {}
                },
                {
                    "output_type": "execute_result",
                    "execution_count": 25,
                    "data": {
                        "application/vnd.dataresource+json": {
                            "schema": {
                                "fields": [
                                    {
                                        "name": "LocationID"
                                    },
                                    {
                                        "name": "Year"
                                    },
                                    {
                                        "name": "Sales"
                                    },
                                    {
                                        "name": "DaysInPeriod"
                                    },
                                    {
                                        "name": "AnnualizedSales"
                                    },
                                    {
                                        "name": "Sqft"
                                    },
                                    {
                                        "name": "SalesPerSqft"
                                    }
                                ]
                            },
                            "data": [
                                {
                                    "LocationID": "1",
                                    "Year": "2019",
                                    "Sales": "277348.76",
                                    "DaysInPeriod": "331",
                                    "AnnualizedSales": "305837.756265",
                                    "Sqft": "800",
                                    "SalesPerSqft": "382.297195"
                                },
                                {
                                    "LocationID": "1",
                                    "Year": "2020",
                                    "Sales": "494122.18",
                                    "DaysInPeriod": "366",
                                    "AnnualizedSales": "492772.119365",
                                    "Sqft": "800",
                                    "SalesPerSqft": "615.965149"
                                },
                                {
                                    "LocationID": "1",
                                    "Year": "2021",
                                    "Sales": "411605.55",
                                    "DaysInPeriod": "261",
                                    "AnnualizedSales": "575616.956670",
                                    "Sqft": "800",
                                    "SalesPerSqft": "719.521195"
                                },
                                {
                                    "LocationID": "2",
                                    "Year": "2021",
                                    "Sales": "125722.89",
                                    "DaysInPeriod": "100",
                                    "AnnualizedSales": "458888.548500",
                                    "Sqft": "1200",
                                    "SalesPerSqft": "382.407123"
                                }
                            ]
                        },
                        "text/html": "<table><tr><th>LocationID</th><th>Year</th><th>Sales</th><th>DaysInPeriod</th><th>AnnualizedSales</th><th>Sqft</th><th>SalesPerSqft</th></tr><tr><td>1</td><td>2019</td><td>277348.76</td><td>331</td><td>305837.756265</td><td>800</td><td>382.297195</td></tr><tr><td>1</td><td>2020</td><td>494122.18</td><td>366</td><td>492772.119365</td><td>800</td><td>615.965149</td></tr><tr><td>1</td><td>2021</td><td>411605.55</td><td>261</td><td>575616.956670</td><td>800</td><td>719.521195</td></tr><tr><td>2</td><td>2021</td><td>125722.89</td><td>100</td><td>458888.548500</td><td>1200</td><td>382.407123</td></tr></table>"
                    },
                    "metadata": {}
                }
            ],
            "execution_count": 25
        },
        {
            "cell_type": "markdown",
            "source": [
                "### Monthly Sales Trend\r\n",
                "#### Total Monthly Sales and Average Daily Sales by Month"
            ],
            "metadata": {
                "azdata_cell_guid": "c928cb29-e1ad-4c01-bd85-e7a6cffdd64d"
            },
            "attachments": {}
        },
        {
            "cell_type": "code",
            "source": [
                "SELECT \r\n",
                "    EOMONTH(o.OrderDate) AS TransactionMonth, --Use the last day of the month to represent the Month. Since all data is historical do not need to account for midmonth data\r\n",
                "    ROUND(SUM(l.SaleAmount),2) AS Sales, --Sum the Monthly Sales\r\n",
                "    ROUND(SUM(l.SaleAmount)/DAY(EOMONTH(o.OrderDate)),2) AS AvgDailySales, --Total Montly Sales / Number of Days in Month\r\n",
                "    COUNT(DISTINCT o.OrderID) AS TransactionCount,\r\n",
                "    SUM(l.PoundsSold) AS Pounds\r\n",
                "\r\n",
                "FROM SalesOrderLines AS l\r\n",
                "    JOIN SalesOrders AS o\r\n",
                "    ON l.OrderID = o.OrderID \r\n",
                "\r\n",
                "GROUP BY EOMONTH(o.OrderDate)\r\n",
                "ORDER BY EOMONTH(o.OrderDate)   "
            ],
            "metadata": {
                "language": "sql",
                "azdata_cell_guid": "cf6c9a57-5c2f-495f-b32f-f83185e5fd73",
                "tags": []
            },
            "outputs": [
                {
                    "output_type": "display_data",
                    "data": {
                        "text/html": "(35 rows affected)"
                    },
                    "metadata": {}
                },
                {
                    "output_type": "display_data",
                    "data": {
                        "text/html": "Total execution time: 00:00:00.513"
                    },
                    "metadata": {}
                },
                {
                    "output_type": "execute_result",
                    "execution_count": 4,
                    "data": {
                        "application/vnd.dataresource+json": {
                            "schema": {
                                "fields": [
                                    {
                                        "name": "TransactionMonth"
                                    },
                                    {
                                        "name": "Sales"
                                    },
                                    {
                                        "name": "AvgDailySales"
                                    },
                                    {
                                        "name": "TransactionCount"
                                    },
                                    {
                                        "name": "Pounds"
                                    }
                                ]
                            },
                            "data": [
                                {
                                    "TransactionMonth": "2019-02-28",
                                    "Sales": "14964.79",
                                    "AvgDailySales": "534.460000",
                                    "TransactionCount": "749",
                                    "Pounds": "2085.1035"
                                },
                                {
                                    "TransactionMonth": "2019-03-31",
                                    "Sales": "20949.45",
                                    "AvgDailySales": "675.790000",
                                    "TransactionCount": "1003",
                                    "Pounds": "2907.3225"
                                },
                                {
                                    "TransactionMonth": "2019-04-30",
                                    "Sales": "17287.15",
                                    "AvgDailySales": "576.240000",
                                    "TransactionCount": "899",
                                    "Pounds": "2314.4868"
                                },
                                {
                                    "TransactionMonth": "2019-05-31",
                                    "Sales": "24424.98",
                                    "AvgDailySales": "787.900000",
                                    "TransactionCount": "1184",
                                    "Pounds": "3272.4228"
                                },
                                {
                                    "TransactionMonth": "2019-06-30",
                                    "Sales": "27454.37",
                                    "AvgDailySales": "915.150000",
                                    "TransactionCount": "1137",
                                    "Pounds": "3571.0753"
                                },
                                {
                                    "TransactionMonth": "2019-07-31",
                                    "Sales": "27423.94",
                                    "AvgDailySales": "884.640000",
                                    "TransactionCount": "1120",
                                    "Pounds": "3702.0144"
                                },
                                {
                                    "TransactionMonth": "2019-08-31",
                                    "Sales": "26306.96",
                                    "AvgDailySales": "848.610000",
                                    "TransactionCount": "1095",
                                    "Pounds": "3793.7712"
                                },
                                {
                                    "TransactionMonth": "2019-09-30",
                                    "Sales": "28842.81",
                                    "AvgDailySales": "961.430000",
                                    "TransactionCount": "1109",
                                    "Pounds": "3928.8019"
                                },
                                {
                                    "TransactionMonth": "2019-10-31",
                                    "Sales": "29368.16",
                                    "AvgDailySales": "947.360000",
                                    "TransactionCount": "1135",
                                    "Pounds": "4065.9887"
                                },
                                {
                                    "TransactionMonth": "2019-11-30",
                                    "Sales": "29010.85",
                                    "AvgDailySales": "967.030000",
                                    "TransactionCount": "1153",
                                    "Pounds": "3831.1585"
                                },
                                {
                                    "TransactionMonth": "2019-12-31",
                                    "Sales": "31315.30",
                                    "AvgDailySales": "1010.170000",
                                    "TransactionCount": "1192",
                                    "Pounds": "4067.2577"
                                },
                                {
                                    "TransactionMonth": "2020-01-31",
                                    "Sales": "37956.78",
                                    "AvgDailySales": "1224.410000",
                                    "TransactionCount": "1452",
                                    "Pounds": "5729.5900"
                                },
                                {
                                    "TransactionMonth": "2020-02-29",
                                    "Sales": "33820.10",
                                    "AvgDailySales": "1166.210000",
                                    "TransactionCount": "1303",
                                    "Pounds": "5132.3829"
                                },
                                {
                                    "TransactionMonth": "2020-03-31",
                                    "Sales": "44724.33",
                                    "AvgDailySales": "1442.720000",
                                    "TransactionCount": "1445",
                                    "Pounds": "8124.4418"
                                },
                                {
                                    "TransactionMonth": "2020-04-30",
                                    "Sales": "31871.41",
                                    "AvgDailySales": "1062.380000",
                                    "TransactionCount": "890",
                                    "Pounds": "5280.4747"
                                },
                                {
                                    "TransactionMonth": "2020-05-31",
                                    "Sales": "35155.72",
                                    "AvgDailySales": "1134.060000",
                                    "TransactionCount": "924",
                                    "Pounds": "5564.7978"
                                },
                                {
                                    "TransactionMonth": "2020-06-30",
                                    "Sales": "35149.96",
                                    "AvgDailySales": "1171.670000",
                                    "TransactionCount": "984",
                                    "Pounds": "5579.1771"
                                },
                                {
                                    "TransactionMonth": "2020-07-31",
                                    "Sales": "41633.89",
                                    "AvgDailySales": "1343.030000",
                                    "TransactionCount": "1143",
                                    "Pounds": "5943.6093"
                                },
                                {
                                    "TransactionMonth": "2020-08-31",
                                    "Sales": "47599.20",
                                    "AvgDailySales": "1535.460000",
                                    "TransactionCount": "1325",
                                    "Pounds": "6698.9209"
                                },
                                {
                                    "TransactionMonth": "2020-09-30",
                                    "Sales": "43994.26",
                                    "AvgDailySales": "1466.480000",
                                    "TransactionCount": "1233",
                                    "Pounds": "6519.6938"
                                },
                                {
                                    "TransactionMonth": "2020-10-31",
                                    "Sales": "46408.37",
                                    "AvgDailySales": "1497.040000",
                                    "TransactionCount": "1292",
                                    "Pounds": "7252.5614"
                                },
                                {
                                    "TransactionMonth": "2020-11-30",
                                    "Sales": "42768.71",
                                    "AvgDailySales": "1425.620000",
                                    "TransactionCount": "1239",
                                    "Pounds": "6509.4685"
                                },
                                {
                                    "TransactionMonth": "2020-12-31",
                                    "Sales": "53039.45",
                                    "AvgDailySales": "1710.950000",
                                    "TransactionCount": "1418",
                                    "Pounds": "7804.5370"
                                },
                                {
                                    "TransactionMonth": "2021-01-31",
                                    "Sales": "55312.48",
                                    "AvgDailySales": "1784.270000",
                                    "TransactionCount": "1561",
                                    "Pounds": "8689.0318"
                                },
                                {
                                    "TransactionMonth": "2021-02-28",
                                    "Sales": "54057.65",
                                    "AvgDailySales": "1930.630000",
                                    "TransactionCount": "1461",
                                    "Pounds": "8144.9407"
                                },
                                {
                                    "TransactionMonth": "2021-03-31",
                                    "Sales": "51043.98",
                                    "AvgDailySales": "1646.580000",
                                    "TransactionCount": "1493",
                                    "Pounds": "8132.8748"
                                },
                                {
                                    "TransactionMonth": "2021-04-30",
                                    "Sales": "52109.81",
                                    "AvgDailySales": "1736.990000",
                                    "TransactionCount": "1396",
                                    "Pounds": "8093.9544"
                                },
                                {
                                    "TransactionMonth": "2021-05-31",
                                    "Sales": "49186.36",
                                    "AvgDailySales": "1586.660000",
                                    "TransactionCount": "1354",
                                    "Pounds": "8289.6089"
                                },
                                {
                                    "TransactionMonth": "2021-06-30",
                                    "Sales": "44196.52",
                                    "AvgDailySales": "1473.220000",
                                    "TransactionCount": "1228",
                                    "Pounds": "7570.6051"
                                },
                                {
                                    "TransactionMonth": "2021-07-31",
                                    "Sales": "40539.18",
                                    "AvgDailySales": "1307.720000",
                                    "TransactionCount": "1212",
                                    "Pounds": "6810.7150"
                                },
                                {
                                    "TransactionMonth": "2021-08-31",
                                    "Sales": "40792.58",
                                    "AvgDailySales": "1315.890000",
                                    "TransactionCount": "1153",
                                    "Pounds": "6636.6789"
                                },
                                {
                                    "TransactionMonth": "2021-09-30",
                                    "Sales": "33339.35",
                                    "AvgDailySales": "1111.310000",
                                    "TransactionCount": "952",
                                    "Pounds": "5796.2815"
                                },
                                {
                                    "TransactionMonth": "2021-10-31",
                                    "Sales": "40067.79",
                                    "AvgDailySales": "1292.510000",
                                    "TransactionCount": "1153",
                                    "Pounds": "6915.6957"
                                },
                                {
                                    "TransactionMonth": "2021-11-30",
                                    "Sales": "37493.90",
                                    "AvgDailySales": "1249.800000",
                                    "TransactionCount": "1030",
                                    "Pounds": "6250.5012"
                                },
                                {
                                    "TransactionMonth": "2021-12-31",
                                    "Sales": "39188.84",
                                    "AvgDailySales": "1264.160000",
                                    "TransactionCount": "1033",
                                    "Pounds": "5811.8181"
                                }
                            ]
                        },
                        "text/html": "<table><tr><th>TransactionMonth</th><th>Sales</th><th>AvgDailySales</th><th>TransactionCount</th><th>Pounds</th></tr><tr><td>2019-02-28</td><td>14964.79</td><td>534.460000</td><td>749</td><td>2085.1035</td></tr><tr><td>2019-03-31</td><td>20949.45</td><td>675.790000</td><td>1003</td><td>2907.3225</td></tr><tr><td>2019-04-30</td><td>17287.15</td><td>576.240000</td><td>899</td><td>2314.4868</td></tr><tr><td>2019-05-31</td><td>24424.98</td><td>787.900000</td><td>1184</td><td>3272.4228</td></tr><tr><td>2019-06-30</td><td>27454.37</td><td>915.150000</td><td>1137</td><td>3571.0753</td></tr><tr><td>2019-07-31</td><td>27423.94</td><td>884.640000</td><td>1120</td><td>3702.0144</td></tr><tr><td>2019-08-31</td><td>26306.96</td><td>848.610000</td><td>1095</td><td>3793.7712</td></tr><tr><td>2019-09-30</td><td>28842.81</td><td>961.430000</td><td>1109</td><td>3928.8019</td></tr><tr><td>2019-10-31</td><td>29368.16</td><td>947.360000</td><td>1135</td><td>4065.9887</td></tr><tr><td>2019-11-30</td><td>29010.85</td><td>967.030000</td><td>1153</td><td>3831.1585</td></tr><tr><td>2019-12-31</td><td>31315.30</td><td>1010.170000</td><td>1192</td><td>4067.2577</td></tr><tr><td>2020-01-31</td><td>37956.78</td><td>1224.410000</td><td>1452</td><td>5729.5900</td></tr><tr><td>2020-02-29</td><td>33820.10</td><td>1166.210000</td><td>1303</td><td>5132.3829</td></tr><tr><td>2020-03-31</td><td>44724.33</td><td>1442.720000</td><td>1445</td><td>8124.4418</td></tr><tr><td>2020-04-30</td><td>31871.41</td><td>1062.380000</td><td>890</td><td>5280.4747</td></tr><tr><td>2020-05-31</td><td>35155.72</td><td>1134.060000</td><td>924</td><td>5564.7978</td></tr><tr><td>2020-06-30</td><td>35149.96</td><td>1171.670000</td><td>984</td><td>5579.1771</td></tr><tr><td>2020-07-31</td><td>41633.89</td><td>1343.030000</td><td>1143</td><td>5943.6093</td></tr><tr><td>2020-08-31</td><td>47599.20</td><td>1535.460000</td><td>1325</td><td>6698.9209</td></tr><tr><td>2020-09-30</td><td>43994.26</td><td>1466.480000</td><td>1233</td><td>6519.6938</td></tr><tr><td>2020-10-31</td><td>46408.37</td><td>1497.040000</td><td>1292</td><td>7252.5614</td></tr><tr><td>2020-11-30</td><td>42768.71</td><td>1425.620000</td><td>1239</td><td>6509.4685</td></tr><tr><td>2020-12-31</td><td>53039.45</td><td>1710.950000</td><td>1418</td><td>7804.5370</td></tr><tr><td>2021-01-31</td><td>55312.48</td><td>1784.270000</td><td>1561</td><td>8689.0318</td></tr><tr><td>2021-02-28</td><td>54057.65</td><td>1930.630000</td><td>1461</td><td>8144.9407</td></tr><tr><td>2021-03-31</td><td>51043.98</td><td>1646.580000</td><td>1493</td><td>8132.8748</td></tr><tr><td>2021-04-30</td><td>52109.81</td><td>1736.990000</td><td>1396</td><td>8093.9544</td></tr><tr><td>2021-05-31</td><td>49186.36</td><td>1586.660000</td><td>1354</td><td>8289.6089</td></tr><tr><td>2021-06-30</td><td>44196.52</td><td>1473.220000</td><td>1228</td><td>7570.6051</td></tr><tr><td>2021-07-31</td><td>40539.18</td><td>1307.720000</td><td>1212</td><td>6810.7150</td></tr><tr><td>2021-08-31</td><td>40792.58</td><td>1315.890000</td><td>1153</td><td>6636.6789</td></tr><tr><td>2021-09-30</td><td>33339.35</td><td>1111.310000</td><td>952</td><td>5796.2815</td></tr><tr><td>2021-10-31</td><td>40067.79</td><td>1292.510000</td><td>1153</td><td>6915.6957</td></tr><tr><td>2021-11-30</td><td>37493.90</td><td>1249.800000</td><td>1030</td><td>6250.5012</td></tr><tr><td>2021-12-31</td><td>39188.84</td><td>1264.160000</td><td>1033</td><td>5811.8181</td></tr></table>"
                    },
                    "metadata": {}
                }
            ],
            "execution_count": 4
        },
        {
            "cell_type": "markdown",
            "source": [
                "#### Top 5 Sales Months by Revenue"
            ],
            "metadata": {
                "language": "sql",
                "azdata_cell_guid": "0a4369c2-d7d7-433d-bb25-f3eb78ba29f8"
            },
            "attachments": {}
        },
        {
            "cell_type": "code",
            "source": [
                "SELECT TOP(5)\r\n",
                "    EOMONTH(o.OrderDate) AS TransactionMonth, --Use the last day of the month to represent the Month. Since all data is historical do not need to account for midmonth data\r\n",
                "    ROUND(SUM(l.SaleAmount),2) AS MonthlySales, --Sum the Monthly Sales\r\n",
                "    ROUND(SUM(l.SaleAmount)/DAY(EOMONTH(o.OrderDate)),2) AS AvgDailySales -- Total Monthly Sales / Number of Days in month\r\n",
                "\r\n",
                "FROM SalesOrderLines AS l\r\n",
                "    JOIN SalesOrders AS o\r\n",
                "    ON l.OrderID = o.OrderID \r\n",
                "\r\n",
                "GROUP BY EOMONTH(o.OrderDate) --Group by Month\r\n",
                "ORDER BY MonthlySales DESC     "
            ],
            "metadata": {
                "language": "sql",
                "azdata_cell_guid": "b032f682-cb72-498f-aae7-9c897bb48333",
                "tags": []
            },
            "outputs": [
                {
                    "output_type": "display_data",
                    "data": {
                        "text/html": "(5 rows affected)"
                    },
                    "metadata": {}
                },
                {
                    "output_type": "display_data",
                    "data": {
                        "text/html": "Total execution time: 00:00:00.425"
                    },
                    "metadata": {}
                },
                {
                    "output_type": "execute_result",
                    "execution_count": 27,
                    "data": {
                        "application/vnd.dataresource+json": {
                            "schema": {
                                "fields": [
                                    {
                                        "name": "TransactionMonth"
                                    },
                                    {
                                        "name": "MonthlySales"
                                    },
                                    {
                                        "name": "AvgDailySales"
                                    }
                                ]
                            },
                            "data": [
                                {
                                    "TransactionMonth": "2021-01-31",
                                    "MonthlySales": "55312.48",
                                    "AvgDailySales": "1784.270000"
                                },
                                {
                                    "TransactionMonth": "2021-02-28",
                                    "MonthlySales": "54057.65",
                                    "AvgDailySales": "1930.630000"
                                },
                                {
                                    "TransactionMonth": "2020-12-31",
                                    "MonthlySales": "53039.45",
                                    "AvgDailySales": "1710.950000"
                                },
                                {
                                    "TransactionMonth": "2021-04-30",
                                    "MonthlySales": "52109.81",
                                    "AvgDailySales": "1736.990000"
                                },
                                {
                                    "TransactionMonth": "2021-03-31",
                                    "MonthlySales": "51043.98",
                                    "AvgDailySales": "1646.580000"
                                }
                            ]
                        },
                        "text/html": "<table><tr><th>TransactionMonth</th><th>MonthlySales</th><th>AvgDailySales</th></tr><tr><td>2021-01-31</td><td>55312.48</td><td>1784.270000</td></tr><tr><td>2021-02-28</td><td>54057.65</td><td>1930.630000</td></tr><tr><td>2020-12-31</td><td>53039.45</td><td>1710.950000</td></tr><tr><td>2021-04-30</td><td>52109.81</td><td>1736.990000</td></tr><tr><td>2021-03-31</td><td>51043.98</td><td>1646.580000</td></tr></table>"
                    },
                    "metadata": {}
                }
            ],
            "execution_count": 27
        },
        {
            "cell_type": "markdown",
            "source": [
                "#### Monthly Sales - MoM, YoY % Change - Using Window LAG function and CTEs\r\n",
                ""
            ],
            "metadata": {
                "language": "sql",
                "azdata_cell_guid": "262b9ca2-9a6f-4bcf-9926-8b455b5fd098"
            },
            "attachments": {}
        },
        {
            "cell_type": "code",
            "source": [
                "--CTE to create a table of Total Sales by Month \r\n",
                "WITH MonthlySales AS(\r\n",
                "SELECT \r\n",
                "    EOMONTH(o.OrderDate) AS TransactionMonth, --Use the last day of the month to represent the Month. Since all data is historical do not need to account for midmonth data\r\n",
                "    ROUND(SUM(l.SaleAmount),2) AS Sales, --Sum the Monthly Sales\r\n",
                "    ROUND(SUM(l.SaleAmount)/DAY(EOMONTH(o.OrderDate)),2) AS AvgDailySales  --Monthly Sales / number of days in the month\r\n",
                "FROM SalesOrderLines AS l\r\n",
                "    JOIN SalesOrders AS o\r\n",
                "    ON l.OrderID = o.OrderID \r\n",
                "GROUP BY EOMONTH(o.OrderDate)\r\n",
                ")\r\n",
                "\r\n",
                "-- Compare Each Month to the Prior Month, and the Prior Year\r\n",
                "SELECT  \r\n",
                "    TransactionMonth,\r\n",
                "    Sales,\r\n",
                "    \r\n",
                "    -- Monthly Sales Percent Change from Prior Month = Current month sales / Prior month sales - 1 \r\n",
                "    ROUND(Sales/ \r\n",
                "        (LAG(Sales) -- use the LAG Window function with no offset, which defaults to the prior record (offset of 1)\r\n",
                "            OVER ( ORDER BY TransactionMonth))-1,4) -- subtract 1 from the ratio of current/prior month sales to calculate the percentage change\r\n",
                "            AS SalesPctChgMoM, \r\n",
                "    \r\n",
                "    \r\n",
                "    -- Monthly Sales % Change from Same Month Prior Year = Current Month/ Lag 12 month Sales -1\r\n",
                "    ROUND(Sales/ \r\n",
                "    (LAG(Sales,12) -- Use the Lag Function with offset of 12 to retrive the prior year sales (assuming continuous sales reported in all months)\r\n",
                "        OVER (ORDER BY TransactionMonth))-1,4) -- subtract 1 from the ratio and round to 4 decimals\r\n",
                "        AS SalesPctChgYoY, \r\n",
                "    \r\n",
                "    AvgDailySales,\r\n",
                "    \r\n",
                "    -- Avg Daily Sales % change from Prior Month = Avg Daily Sales Current Month / ADS Prior Month-1 \r\n",
                "    ROUND((AvgDailySales/\r\n",
                "    LAG(AvgDailySales) OVER(ORDER BY TransactionMonth))-1,4) AS AvgDailyPctChgMoM,\r\n",
                "\r\n",
                "    -- Avg Daily Sales % change from Prior Year = Avg Daily Sales Current Month / ADS Prior Year-1 \r\n",
                "    -- Assumes sales in all consecutive months\r\n",
                "    ROUND((AvgDailySales/\r\n",
                "    LAG(AvgDailySales,12) OVER(ORDER BY TransactionMonth))-1,4) AS AvgDailyPctChgYoY\r\n",
                "\r\n",
                "FROM MonthlySales"
            ],
            "metadata": {
                "language": "sql",
                "azdata_cell_guid": "9bd2722e-119f-487c-88ed-05ba23d1e270",
                "tags": []
            },
            "outputs": [
                {
                    "output_type": "display_data",
                    "data": {
                        "text/html": "(35 rows affected)"
                    },
                    "metadata": {}
                },
                {
                    "output_type": "display_data",
                    "data": {
                        "text/html": "Total execution time: 00:00:00.284"
                    },
                    "metadata": {}
                },
                {
                    "output_type": "execute_result",
                    "execution_count": 28,
                    "data": {
                        "application/vnd.dataresource+json": {
                            "schema": {
                                "fields": [
                                    {
                                        "name": "TransactionMonth"
                                    },
                                    {
                                        "name": "Sales"
                                    },
                                    {
                                        "name": "SalesPctChgMoM"
                                    },
                                    {
                                        "name": "SalesPctChgYoY"
                                    },
                                    {
                                        "name": "AvgDailySales"
                                    },
                                    {
                                        "name": "AvgDailyPctChgMoM"
                                    },
                                    {
                                        "name": "AvgDailyPctChgYoY"
                                    }
                                ]
                            },
                            "data": [
                                {
                                    "TransactionMonth": "2019-02-28",
                                    "Sales": "14964.79",
                                    "SalesPctChgMoM": "NULL",
                                    "SalesPctChgYoY": "NULL",
                                    "AvgDailySales": "534.460000",
                                    "AvgDailyPctChgMoM": "NULL",
                                    "AvgDailyPctChgYoY": "NULL"
                                },
                                {
                                    "TransactionMonth": "2019-03-31",
                                    "Sales": "20949.45",
                                    "SalesPctChgMoM": "0.399900",
                                    "SalesPctChgYoY": "NULL",
                                    "AvgDailySales": "675.790000",
                                    "AvgDailyPctChgMoM": "0.264400",
                                    "AvgDailyPctChgYoY": "NULL"
                                },
                                {
                                    "TransactionMonth": "2019-04-30",
                                    "Sales": "17287.15",
                                    "SalesPctChgMoM": "-0.174800",
                                    "SalesPctChgYoY": "NULL",
                                    "AvgDailySales": "576.240000",
                                    "AvgDailyPctChgMoM": "-0.147300",
                                    "AvgDailyPctChgYoY": "NULL"
                                },
                                {
                                    "TransactionMonth": "2019-05-31",
                                    "Sales": "24424.98",
                                    "SalesPctChgMoM": "0.412900",
                                    "SalesPctChgYoY": "NULL",
                                    "AvgDailySales": "787.900000",
                                    "AvgDailyPctChgMoM": "0.367300",
                                    "AvgDailyPctChgYoY": "NULL"
                                },
                                {
                                    "TransactionMonth": "2019-06-30",
                                    "Sales": "27454.37",
                                    "SalesPctChgMoM": "0.124000",
                                    "SalesPctChgYoY": "NULL",
                                    "AvgDailySales": "915.150000",
                                    "AvgDailyPctChgMoM": "0.161500",
                                    "AvgDailyPctChgYoY": "NULL"
                                },
                                {
                                    "TransactionMonth": "2019-07-31",
                                    "Sales": "27423.94",
                                    "SalesPctChgMoM": "-0.001100",
                                    "SalesPctChgYoY": "NULL",
                                    "AvgDailySales": "884.640000",
                                    "AvgDailyPctChgMoM": "-0.033300",
                                    "AvgDailyPctChgYoY": "NULL"
                                },
                                {
                                    "TransactionMonth": "2019-08-31",
                                    "Sales": "26306.96",
                                    "SalesPctChgMoM": "-0.040700",
                                    "SalesPctChgYoY": "NULL",
                                    "AvgDailySales": "848.610000",
                                    "AvgDailyPctChgMoM": "-0.040700",
                                    "AvgDailyPctChgYoY": "NULL"
                                },
                                {
                                    "TransactionMonth": "2019-09-30",
                                    "Sales": "28842.81",
                                    "SalesPctChgMoM": "0.096400",
                                    "SalesPctChgYoY": "NULL",
                                    "AvgDailySales": "961.430000",
                                    "AvgDailyPctChgMoM": "0.132900",
                                    "AvgDailyPctChgYoY": "NULL"
                                },
                                {
                                    "TransactionMonth": "2019-10-31",
                                    "Sales": "29368.16",
                                    "SalesPctChgMoM": "0.018200",
                                    "SalesPctChgYoY": "NULL",
                                    "AvgDailySales": "947.360000",
                                    "AvgDailyPctChgMoM": "-0.014600",
                                    "AvgDailyPctChgYoY": "NULL"
                                },
                                {
                                    "TransactionMonth": "2019-11-30",
                                    "Sales": "29010.85",
                                    "SalesPctChgMoM": "-0.012200",
                                    "SalesPctChgYoY": "NULL",
                                    "AvgDailySales": "967.030000",
                                    "AvgDailyPctChgMoM": "0.020800",
                                    "AvgDailyPctChgYoY": "NULL"
                                },
                                {
                                    "TransactionMonth": "2019-12-31",
                                    "Sales": "31315.30",
                                    "SalesPctChgMoM": "0.079400",
                                    "SalesPctChgYoY": "NULL",
                                    "AvgDailySales": "1010.170000",
                                    "AvgDailyPctChgMoM": "0.044600",
                                    "AvgDailyPctChgYoY": "NULL"
                                },
                                {
                                    "TransactionMonth": "2020-01-31",
                                    "Sales": "37956.78",
                                    "SalesPctChgMoM": "0.212100",
                                    "SalesPctChgYoY": "NULL",
                                    "AvgDailySales": "1224.410000",
                                    "AvgDailyPctChgMoM": "0.212100",
                                    "AvgDailyPctChgYoY": "NULL"
                                },
                                {
                                    "TransactionMonth": "2020-02-29",
                                    "Sales": "33820.10",
                                    "SalesPctChgMoM": "-0.109000",
                                    "SalesPctChgYoY": "1.260000",
                                    "AvgDailySales": "1166.210000",
                                    "AvgDailyPctChgMoM": "-0.047500",
                                    "AvgDailyPctChgYoY": "1.182000"
                                },
                                {
                                    "TransactionMonth": "2020-03-31",
                                    "Sales": "44724.33",
                                    "SalesPctChgMoM": "0.322400",
                                    "SalesPctChgYoY": "1.134900",
                                    "AvgDailySales": "1442.720000",
                                    "AvgDailyPctChgMoM": "0.237100",
                                    "AvgDailyPctChgYoY": "1.134900"
                                },
                                {
                                    "TransactionMonth": "2020-04-30",
                                    "Sales": "31871.41",
                                    "SalesPctChgMoM": "-0.287400",
                                    "SalesPctChgYoY": "0.843600",
                                    "AvgDailySales": "1062.380000",
                                    "AvgDailyPctChgMoM": "-0.263600",
                                    "AvgDailyPctChgYoY": "0.843600"
                                },
                                {
                                    "TransactionMonth": "2020-05-31",
                                    "Sales": "35155.72",
                                    "SalesPctChgMoM": "0.103000",
                                    "SalesPctChgYoY": "0.439300",
                                    "AvgDailySales": "1134.060000",
                                    "AvgDailyPctChgMoM": "0.067500",
                                    "AvgDailyPctChgYoY": "0.439300"
                                },
                                {
                                    "TransactionMonth": "2020-06-30",
                                    "Sales": "35149.96",
                                    "SalesPctChgMoM": "-0.000200",
                                    "SalesPctChgYoY": "0.280300",
                                    "AvgDailySales": "1171.670000",
                                    "AvgDailyPctChgMoM": "0.033200",
                                    "AvgDailyPctChgYoY": "0.280300"
                                },
                                {
                                    "TransactionMonth": "2020-07-31",
                                    "Sales": "41633.89",
                                    "SalesPctChgMoM": "0.184500",
                                    "SalesPctChgYoY": "0.518200",
                                    "AvgDailySales": "1343.030000",
                                    "AvgDailyPctChgMoM": "0.146300",
                                    "AvgDailyPctChgYoY": "0.518200"
                                },
                                {
                                    "TransactionMonth": "2020-08-31",
                                    "Sales": "47599.20",
                                    "SalesPctChgMoM": "0.143300",
                                    "SalesPctChgYoY": "0.809400",
                                    "AvgDailySales": "1535.460000",
                                    "AvgDailyPctChgMoM": "0.143300",
                                    "AvgDailyPctChgYoY": "0.809400"
                                },
                                {
                                    "TransactionMonth": "2020-09-30",
                                    "Sales": "43994.26",
                                    "SalesPctChgMoM": "-0.075700",
                                    "SalesPctChgYoY": "0.525300",
                                    "AvgDailySales": "1466.480000",
                                    "AvgDailyPctChgMoM": "-0.044900",
                                    "AvgDailyPctChgYoY": "0.525300"
                                },
                                {
                                    "TransactionMonth": "2020-10-31",
                                    "Sales": "46408.37",
                                    "SalesPctChgMoM": "0.054900",
                                    "SalesPctChgYoY": "0.580200",
                                    "AvgDailySales": "1497.040000",
                                    "AvgDailyPctChgMoM": "0.020800",
                                    "AvgDailyPctChgYoY": "0.580200"
                                },
                                {
                                    "TransactionMonth": "2020-11-30",
                                    "Sales": "42768.71",
                                    "SalesPctChgMoM": "-0.078400",
                                    "SalesPctChgYoY": "0.474200",
                                    "AvgDailySales": "1425.620000",
                                    "AvgDailyPctChgMoM": "-0.047700",
                                    "AvgDailyPctChgYoY": "0.474200"
                                },
                                {
                                    "TransactionMonth": "2020-12-31",
                                    "Sales": "53039.45",
                                    "SalesPctChgMoM": "0.240100",
                                    "SalesPctChgYoY": "0.693700",
                                    "AvgDailySales": "1710.950000",
                                    "AvgDailyPctChgMoM": "0.200100",
                                    "AvgDailyPctChgYoY": "0.693700"
                                },
                                {
                                    "TransactionMonth": "2021-01-31",
                                    "Sales": "55312.48",
                                    "SalesPctChgMoM": "0.042900",
                                    "SalesPctChgYoY": "0.457200",
                                    "AvgDailySales": "1784.270000",
                                    "AvgDailyPctChgMoM": "0.042900",
                                    "AvgDailyPctChgYoY": "0.457200"
                                },
                                {
                                    "TransactionMonth": "2021-02-28",
                                    "Sales": "54057.65",
                                    "SalesPctChgMoM": "-0.022700",
                                    "SalesPctChgYoY": "0.598400",
                                    "AvgDailySales": "1930.630000",
                                    "AvgDailyPctChgMoM": "0.082000",
                                    "AvgDailyPctChgYoY": "0.655500"
                                },
                                {
                                    "TransactionMonth": "2021-03-31",
                                    "Sales": "51043.98",
                                    "SalesPctChgMoM": "-0.055800",
                                    "SalesPctChgYoY": "0.141300",
                                    "AvgDailySales": "1646.580000",
                                    "AvgDailyPctChgMoM": "-0.147100",
                                    "AvgDailyPctChgYoY": "0.141300"
                                },
                                {
                                    "TransactionMonth": "2021-04-30",
                                    "Sales": "52109.81",
                                    "SalesPctChgMoM": "0.020900",
                                    "SalesPctChgYoY": "0.635000",
                                    "AvgDailySales": "1736.990000",
                                    "AvgDailyPctChgMoM": "0.054900",
                                    "AvgDailyPctChgYoY": "0.635000"
                                },
                                {
                                    "TransactionMonth": "2021-05-31",
                                    "Sales": "49186.36",
                                    "SalesPctChgMoM": "-0.056100",
                                    "SalesPctChgYoY": "0.399100",
                                    "AvgDailySales": "1586.660000",
                                    "AvgDailyPctChgMoM": "-0.086500",
                                    "AvgDailyPctChgYoY": "0.399100"
                                },
                                {
                                    "TransactionMonth": "2021-06-30",
                                    "Sales": "44196.52",
                                    "SalesPctChgMoM": "-0.101400",
                                    "SalesPctChgYoY": "0.257400",
                                    "AvgDailySales": "1473.220000",
                                    "AvgDailyPctChgMoM": "-0.071500",
                                    "AvgDailyPctChgYoY": "0.257400"
                                },
                                {
                                    "TransactionMonth": "2021-07-31",
                                    "Sales": "40539.18",
                                    "SalesPctChgMoM": "-0.082800",
                                    "SalesPctChgYoY": "-0.026300",
                                    "AvgDailySales": "1307.720000",
                                    "AvgDailyPctChgMoM": "-0.112300",
                                    "AvgDailyPctChgYoY": "-0.026300"
                                },
                                {
                                    "TransactionMonth": "2021-08-31",
                                    "Sales": "40792.58",
                                    "SalesPctChgMoM": "0.006300",
                                    "SalesPctChgYoY": "-0.143000",
                                    "AvgDailySales": "1315.890000",
                                    "AvgDailyPctChgMoM": "0.006200",
                                    "AvgDailyPctChgYoY": "-0.143000"
                                },
                                {
                                    "TransactionMonth": "2021-09-30",
                                    "Sales": "33339.35",
                                    "SalesPctChgMoM": "-0.182700",
                                    "SalesPctChgYoY": "-0.242200",
                                    "AvgDailySales": "1111.310000",
                                    "AvgDailyPctChgMoM": "-0.155500",
                                    "AvgDailyPctChgYoY": "-0.242200"
                                },
                                {
                                    "TransactionMonth": "2021-10-31",
                                    "Sales": "40067.79",
                                    "SalesPctChgMoM": "0.201800",
                                    "SalesPctChgYoY": "-0.136600",
                                    "AvgDailySales": "1292.510000",
                                    "AvgDailyPctChgMoM": "0.163100",
                                    "AvgDailyPctChgYoY": "-0.136600"
                                },
                                {
                                    "TransactionMonth": "2021-11-30",
                                    "Sales": "37493.90",
                                    "SalesPctChgMoM": "-0.064200",
                                    "SalesPctChgYoY": "-0.123300",
                                    "AvgDailySales": "1249.800000",
                                    "AvgDailyPctChgMoM": "-0.033000",
                                    "AvgDailyPctChgYoY": "-0.123300"
                                },
                                {
                                    "TransactionMonth": "2021-12-31",
                                    "Sales": "39188.84",
                                    "SalesPctChgMoM": "0.045200",
                                    "SalesPctChgYoY": "-0.261100",
                                    "AvgDailySales": "1264.160000",
                                    "AvgDailyPctChgMoM": "0.011500",
                                    "AvgDailyPctChgYoY": "-0.261100"
                                }
                            ]
                        },
                        "text/html": "<table><tr><th>TransactionMonth</th><th>Sales</th><th>SalesPctChgMoM</th><th>SalesPctChgYoY</th><th>AvgDailySales</th><th>AvgDailyPctChgMoM</th><th>AvgDailyPctChgYoY</th></tr><tr><td>2019-02-28</td><td>14964.79</td><td>NULL</td><td>NULL</td><td>534.460000</td><td>NULL</td><td>NULL</td></tr><tr><td>2019-03-31</td><td>20949.45</td><td>0.399900</td><td>NULL</td><td>675.790000</td><td>0.264400</td><td>NULL</td></tr><tr><td>2019-04-30</td><td>17287.15</td><td>-0.174800</td><td>NULL</td><td>576.240000</td><td>-0.147300</td><td>NULL</td></tr><tr><td>2019-05-31</td><td>24424.98</td><td>0.412900</td><td>NULL</td><td>787.900000</td><td>0.367300</td><td>NULL</td></tr><tr><td>2019-06-30</td><td>27454.37</td><td>0.124000</td><td>NULL</td><td>915.150000</td><td>0.161500</td><td>NULL</td></tr><tr><td>2019-07-31</td><td>27423.94</td><td>-0.001100</td><td>NULL</td><td>884.640000</td><td>-0.033300</td><td>NULL</td></tr><tr><td>2019-08-31</td><td>26306.96</td><td>-0.040700</td><td>NULL</td><td>848.610000</td><td>-0.040700</td><td>NULL</td></tr><tr><td>2019-09-30</td><td>28842.81</td><td>0.096400</td><td>NULL</td><td>961.430000</td><td>0.132900</td><td>NULL</td></tr><tr><td>2019-10-31</td><td>29368.16</td><td>0.018200</td><td>NULL</td><td>947.360000</td><td>-0.014600</td><td>NULL</td></tr><tr><td>2019-11-30</td><td>29010.85</td><td>-0.012200</td><td>NULL</td><td>967.030000</td><td>0.020800</td><td>NULL</td></tr><tr><td>2019-12-31</td><td>31315.30</td><td>0.079400</td><td>NULL</td><td>1010.170000</td><td>0.044600</td><td>NULL</td></tr><tr><td>2020-01-31</td><td>37956.78</td><td>0.212100</td><td>NULL</td><td>1224.410000</td><td>0.212100</td><td>NULL</td></tr><tr><td>2020-02-29</td><td>33820.10</td><td>-0.109000</td><td>1.260000</td><td>1166.210000</td><td>-0.047500</td><td>1.182000</td></tr><tr><td>2020-03-31</td><td>44724.33</td><td>0.322400</td><td>1.134900</td><td>1442.720000</td><td>0.237100</td><td>1.134900</td></tr><tr><td>2020-04-30</td><td>31871.41</td><td>-0.287400</td><td>0.843600</td><td>1062.380000</td><td>-0.263600</td><td>0.843600</td></tr><tr><td>2020-05-31</td><td>35155.72</td><td>0.103000</td><td>0.439300</td><td>1134.060000</td><td>0.067500</td><td>0.439300</td></tr><tr><td>2020-06-30</td><td>35149.96</td><td>-0.000200</td><td>0.280300</td><td>1171.670000</td><td>0.033200</td><td>0.280300</td></tr><tr><td>2020-07-31</td><td>41633.89</td><td>0.184500</td><td>0.518200</td><td>1343.030000</td><td>0.146300</td><td>0.518200</td></tr><tr><td>2020-08-31</td><td>47599.20</td><td>0.143300</td><td>0.809400</td><td>1535.460000</td><td>0.143300</td><td>0.809400</td></tr><tr><td>2020-09-30</td><td>43994.26</td><td>-0.075700</td><td>0.525300</td><td>1466.480000</td><td>-0.044900</td><td>0.525300</td></tr><tr><td>2020-10-31</td><td>46408.37</td><td>0.054900</td><td>0.580200</td><td>1497.040000</td><td>0.020800</td><td>0.580200</td></tr><tr><td>2020-11-30</td><td>42768.71</td><td>-0.078400</td><td>0.474200</td><td>1425.620000</td><td>-0.047700</td><td>0.474200</td></tr><tr><td>2020-12-31</td><td>53039.45</td><td>0.240100</td><td>0.693700</td><td>1710.950000</td><td>0.200100</td><td>0.693700</td></tr><tr><td>2021-01-31</td><td>55312.48</td><td>0.042900</td><td>0.457200</td><td>1784.270000</td><td>0.042900</td><td>0.457200</td></tr><tr><td>2021-02-28</td><td>54057.65</td><td>-0.022700</td><td>0.598400</td><td>1930.630000</td><td>0.082000</td><td>0.655500</td></tr><tr><td>2021-03-31</td><td>51043.98</td><td>-0.055800</td><td>0.141300</td><td>1646.580000</td><td>-0.147100</td><td>0.141300</td></tr><tr><td>2021-04-30</td><td>52109.81</td><td>0.020900</td><td>0.635000</td><td>1736.990000</td><td>0.054900</td><td>0.635000</td></tr><tr><td>2021-05-31</td><td>49186.36</td><td>-0.056100</td><td>0.399100</td><td>1586.660000</td><td>-0.086500</td><td>0.399100</td></tr><tr><td>2021-06-30</td><td>44196.52</td><td>-0.101400</td><td>0.257400</td><td>1473.220000</td><td>-0.071500</td><td>0.257400</td></tr><tr><td>2021-07-31</td><td>40539.18</td><td>-0.082800</td><td>-0.026300</td><td>1307.720000</td><td>-0.112300</td><td>-0.026300</td></tr><tr><td>2021-08-31</td><td>40792.58</td><td>0.006300</td><td>-0.143000</td><td>1315.890000</td><td>0.006200</td><td>-0.143000</td></tr><tr><td>2021-09-30</td><td>33339.35</td><td>-0.182700</td><td>-0.242200</td><td>1111.310000</td><td>-0.155500</td><td>-0.242200</td></tr><tr><td>2021-10-31</td><td>40067.79</td><td>0.201800</td><td>-0.136600</td><td>1292.510000</td><td>0.163100</td><td>-0.136600</td></tr><tr><td>2021-11-30</td><td>37493.90</td><td>-0.064200</td><td>-0.123300</td><td>1249.800000</td><td>-0.033000</td><td>-0.123300</td></tr><tr><td>2021-12-31</td><td>39188.84</td><td>0.045200</td><td>-0.261100</td><td>1264.160000</td><td>0.011500</td><td>-0.261100</td></tr></table>"
                    },
                    "metadata": {}
                }
            ],
            "execution_count": 28
        },
        {
            "cell_type": "markdown",
            "source": [
                "#### Three Month Moving Average Monthly Sales - Using Window Function"
            ],
            "metadata": {
                "language": "sql",
                "azdata_cell_guid": "a1324aaa-c9f9-4ad4-9878-21f4bb648b2b"
            },
            "attachments": {}
        },
        {
            "cell_type": "code",
            "source": [
                "--CTE to create a table of Total Sales by Month and by Product Category\r\n",
                "WITH MonthlySales AS(\r\n",
                "SELECT \r\n",
                "    EOMONTH(o.OrderDate) AS TransactionMonth, --Use the last day of the month to represent the Month. Since all data is historical do not need to account for midmonth data\r\n",
                "    ROUND(SUM(l.SaleAmount),2) AS Sales, --Sum the Monthly Sales\r\n",
                "    ROUND(SUM(l.SaleAmount)/DAY(EOMONTH(o.OrderDate)),2) AS AvgDailySales\r\n",
                "FROM SalesOrderLines AS l\r\n",
                "    JOIN SalesOrders AS o\r\n",
                "    ON l.OrderID = o.OrderID \r\n",
                "GROUP BY EOMONTH(o.OrderDate)\r\n",
                ")\r\n",
                "\r\n",
                "-- Caculate a rolling three month average of sales by category\r\n",
                "SELECT  \r\n",
                "    TransactionMonth,\r\n",
                "    SUM(Sales) TotalSales,    \r\n",
                "    AVG(SUM(Sales)) OVER(\r\n",
                "        ORDER BY TransactionMonth -- Order the records by transaction month, ensuring the average is calculated chronologically\r\n",
                "        ROWS BETWEEN 2 PRECEDING and CURRENT ROW -- specifies the range of rows to include in the average as 2 preceeding and current row\r\n",
                "    ) AS MovingThreeMonthAvgSales\r\n",
                "\r\n",
                "FROM MonthlySales\r\n",
                "GROUP BY TransactionMonth\r\n",
                "ORDER BY TransactionMonth"
            ],
            "metadata": {
                "language": "sql",
                "azdata_cell_guid": "12985283-fc73-4639-a080-53fc8d27d5f1"
            },
            "outputs": [
                {
                    "output_type": "display_data",
                    "data": {
                        "text/html": "(35 rows affected)"
                    },
                    "metadata": {}
                },
                {
                    "output_type": "display_data",
                    "data": {
                        "text/html": "Total execution time: 00:00:00.275"
                    },
                    "metadata": {}
                },
                {
                    "output_type": "execute_result",
                    "execution_count": 7,
                    "data": {
                        "application/vnd.dataresource+json": {
                            "schema": {
                                "fields": [
                                    {
                                        "name": "TransactionMonth"
                                    },
                                    {
                                        "name": "TotalSales"
                                    },
                                    {
                                        "name": "MovingThreeMonthAvgSales"
                                    }
                                ]
                            },
                            "data": [
                                {
                                    "TransactionMonth": "2019-02-28",
                                    "TotalSales": "14964.79",
                                    "MovingThreeMonthAvgSales": "14964.790000"
                                },
                                {
                                    "TransactionMonth": "2019-03-31",
                                    "TotalSales": "20949.45",
                                    "MovingThreeMonthAvgSales": "17957.120000"
                                },
                                {
                                    "TransactionMonth": "2019-04-30",
                                    "TotalSales": "17287.15",
                                    "MovingThreeMonthAvgSales": "17733.796666"
                                },
                                {
                                    "TransactionMonth": "2019-05-31",
                                    "TotalSales": "24424.98",
                                    "MovingThreeMonthAvgSales": "20887.193333"
                                },
                                {
                                    "TransactionMonth": "2019-06-30",
                                    "TotalSales": "27454.37",
                                    "MovingThreeMonthAvgSales": "23055.500000"
                                },
                                {
                                    "TransactionMonth": "2019-07-31",
                                    "TotalSales": "27423.94",
                                    "MovingThreeMonthAvgSales": "26434.430000"
                                },
                                {
                                    "TransactionMonth": "2019-08-31",
                                    "TotalSales": "26306.96",
                                    "MovingThreeMonthAvgSales": "27061.756666"
                                },
                                {
                                    "TransactionMonth": "2019-09-30",
                                    "TotalSales": "28842.81",
                                    "MovingThreeMonthAvgSales": "27524.570000"
                                },
                                {
                                    "TransactionMonth": "2019-10-31",
                                    "TotalSales": "29368.16",
                                    "MovingThreeMonthAvgSales": "28172.643333"
                                },
                                {
                                    "TransactionMonth": "2019-11-30",
                                    "TotalSales": "29010.85",
                                    "MovingThreeMonthAvgSales": "29073.940000"
                                },
                                {
                                    "TransactionMonth": "2019-12-31",
                                    "TotalSales": "31315.30",
                                    "MovingThreeMonthAvgSales": "29898.103333"
                                },
                                {
                                    "TransactionMonth": "2020-01-31",
                                    "TotalSales": "37956.78",
                                    "MovingThreeMonthAvgSales": "32760.976666"
                                },
                                {
                                    "TransactionMonth": "2020-02-29",
                                    "TotalSales": "33820.10",
                                    "MovingThreeMonthAvgSales": "34364.060000"
                                },
                                {
                                    "TransactionMonth": "2020-03-31",
                                    "TotalSales": "44724.33",
                                    "MovingThreeMonthAvgSales": "38833.736666"
                                },
                                {
                                    "TransactionMonth": "2020-04-30",
                                    "TotalSales": "31871.41",
                                    "MovingThreeMonthAvgSales": "36805.280000"
                                },
                                {
                                    "TransactionMonth": "2020-05-31",
                                    "TotalSales": "35155.72",
                                    "MovingThreeMonthAvgSales": "37250.486666"
                                },
                                {
                                    "TransactionMonth": "2020-06-30",
                                    "TotalSales": "35149.96",
                                    "MovingThreeMonthAvgSales": "34059.030000"
                                },
                                {
                                    "TransactionMonth": "2020-07-31",
                                    "TotalSales": "41633.89",
                                    "MovingThreeMonthAvgSales": "37313.190000"
                                },
                                {
                                    "TransactionMonth": "2020-08-31",
                                    "TotalSales": "47599.20",
                                    "MovingThreeMonthAvgSales": "41461.016666"
                                },
                                {
                                    "TransactionMonth": "2020-09-30",
                                    "TotalSales": "43994.26",
                                    "MovingThreeMonthAvgSales": "44409.116666"
                                },
                                {
                                    "TransactionMonth": "2020-10-31",
                                    "TotalSales": "46408.37",
                                    "MovingThreeMonthAvgSales": "46000.610000"
                                },
                                {
                                    "TransactionMonth": "2020-11-30",
                                    "TotalSales": "42768.71",
                                    "MovingThreeMonthAvgSales": "44390.446666"
                                },
                                {
                                    "TransactionMonth": "2020-12-31",
                                    "TotalSales": "53039.45",
                                    "MovingThreeMonthAvgSales": "47405.510000"
                                },
                                {
                                    "TransactionMonth": "2021-01-31",
                                    "TotalSales": "55312.48",
                                    "MovingThreeMonthAvgSales": "50373.546666"
                                },
                                {
                                    "TransactionMonth": "2021-02-28",
                                    "TotalSales": "54057.65",
                                    "MovingThreeMonthAvgSales": "54136.526666"
                                },
                                {
                                    "TransactionMonth": "2021-03-31",
                                    "TotalSales": "51043.98",
                                    "MovingThreeMonthAvgSales": "53471.370000"
                                },
                                {
                                    "TransactionMonth": "2021-04-30",
                                    "TotalSales": "52109.81",
                                    "MovingThreeMonthAvgSales": "52403.813333"
                                },
                                {
                                    "TransactionMonth": "2021-05-31",
                                    "TotalSales": "49186.36",
                                    "MovingThreeMonthAvgSales": "50780.050000"
                                },
                                {
                                    "TransactionMonth": "2021-06-30",
                                    "TotalSales": "44196.52",
                                    "MovingThreeMonthAvgSales": "48497.563333"
                                },
                                {
                                    "TransactionMonth": "2021-07-31",
                                    "TotalSales": "40539.18",
                                    "MovingThreeMonthAvgSales": "44640.686666"
                                },
                                {
                                    "TransactionMonth": "2021-08-31",
                                    "TotalSales": "40792.58",
                                    "MovingThreeMonthAvgSales": "41842.760000"
                                },
                                {
                                    "TransactionMonth": "2021-09-30",
                                    "TotalSales": "33339.35",
                                    "MovingThreeMonthAvgSales": "38223.703333"
                                },
                                {
                                    "TransactionMonth": "2021-10-31",
                                    "TotalSales": "40067.79",
                                    "MovingThreeMonthAvgSales": "38066.573333"
                                },
                                {
                                    "TransactionMonth": "2021-11-30",
                                    "TotalSales": "37493.90",
                                    "MovingThreeMonthAvgSales": "36967.013333"
                                },
                                {
                                    "TransactionMonth": "2021-12-31",
                                    "TotalSales": "39188.84",
                                    "MovingThreeMonthAvgSales": "38916.843333"
                                }
                            ]
                        },
                        "text/html": "<table><tr><th>TransactionMonth</th><th>TotalSales</th><th>MovingThreeMonthAvgSales</th></tr><tr><td>2019-02-28</td><td>14964.79</td><td>14964.790000</td></tr><tr><td>2019-03-31</td><td>20949.45</td><td>17957.120000</td></tr><tr><td>2019-04-30</td><td>17287.15</td><td>17733.796666</td></tr><tr><td>2019-05-31</td><td>24424.98</td><td>20887.193333</td></tr><tr><td>2019-06-30</td><td>27454.37</td><td>23055.500000</td></tr><tr><td>2019-07-31</td><td>27423.94</td><td>26434.430000</td></tr><tr><td>2019-08-31</td><td>26306.96</td><td>27061.756666</td></tr><tr><td>2019-09-30</td><td>28842.81</td><td>27524.570000</td></tr><tr><td>2019-10-31</td><td>29368.16</td><td>28172.643333</td></tr><tr><td>2019-11-30</td><td>29010.85</td><td>29073.940000</td></tr><tr><td>2019-12-31</td><td>31315.30</td><td>29898.103333</td></tr><tr><td>2020-01-31</td><td>37956.78</td><td>32760.976666</td></tr><tr><td>2020-02-29</td><td>33820.10</td><td>34364.060000</td></tr><tr><td>2020-03-31</td><td>44724.33</td><td>38833.736666</td></tr><tr><td>2020-04-30</td><td>31871.41</td><td>36805.280000</td></tr><tr><td>2020-05-31</td><td>35155.72</td><td>37250.486666</td></tr><tr><td>2020-06-30</td><td>35149.96</td><td>34059.030000</td></tr><tr><td>2020-07-31</td><td>41633.89</td><td>37313.190000</td></tr><tr><td>2020-08-31</td><td>47599.20</td><td>41461.016666</td></tr><tr><td>2020-09-30</td><td>43994.26</td><td>44409.116666</td></tr><tr><td>2020-10-31</td><td>46408.37</td><td>46000.610000</td></tr><tr><td>2020-11-30</td><td>42768.71</td><td>44390.446666</td></tr><tr><td>2020-12-31</td><td>53039.45</td><td>47405.510000</td></tr><tr><td>2021-01-31</td><td>55312.48</td><td>50373.546666</td></tr><tr><td>2021-02-28</td><td>54057.65</td><td>54136.526666</td></tr><tr><td>2021-03-31</td><td>51043.98</td><td>53471.370000</td></tr><tr><td>2021-04-30</td><td>52109.81</td><td>52403.813333</td></tr><tr><td>2021-05-31</td><td>49186.36</td><td>50780.050000</td></tr><tr><td>2021-06-30</td><td>44196.52</td><td>48497.563333</td></tr><tr><td>2021-07-31</td><td>40539.18</td><td>44640.686666</td></tr><tr><td>2021-08-31</td><td>40792.58</td><td>41842.760000</td></tr><tr><td>2021-09-30</td><td>33339.35</td><td>38223.703333</td></tr><tr><td>2021-10-31</td><td>40067.79</td><td>38066.573333</td></tr><tr><td>2021-11-30</td><td>37493.90</td><td>36967.013333</td></tr><tr><td>2021-12-31</td><td>39188.84</td><td>38916.843333</td></tr></table>"
                    },
                    "metadata": {}
                }
            ],
            "execution_count": 7
        },
        {
            "cell_type": "markdown",
            "source": [
                "#### Three Month Moving Average Monthly Sales by Product Category - Using Window Function with Partition\n",
                "\n",
                "Trailing Three Month Average Sales by Product Category"
            ],
            "metadata": {
                "language": "sql",
                "azdata_cell_guid": "80d02470-2a0f-40e0-9c56-88144f9fa3c6"
            },
            "attachments": {}
        },
        {
            "cell_type": "code",
            "source": [
                "--CTE to create a table of Total Sales by Month and by Product Category\r\n",
                "WITH MonthlySales AS(\r\n",
                "SELECT \r\n",
                "    c.Category AS Category,\r\n",
                "    EOMONTH(o.OrderDate) AS TransactionMonth, --Use the last day of the month to represent the Month. Since all data is historical do not need to account for midmonth data\r\n",
                "    ROUND(SUM(l.SaleAmount),2) AS Sales, --Sum the Monthly Sales\r\n",
                "    ROUND(SUM(l.SaleAmount)/DAY(EOMONTH(o.OrderDate)),2) AS AvgDailySales\r\n",
                "FROM SalesOrderLines AS l\r\n",
                "    JOIN SalesOrders AS o\r\n",
                "    ON l.OrderID = o.OrderID \r\n",
                "    JOIN DimProducts AS p\r\n",
                "    ON l.ProductID = p.ProductID\r\n",
                "    JOIN DimSubcategories AS sc\r\n",
                "    ON p.SubcategoryID = sc.SubcategoryID\r\n",
                "    JOIN DimCategories AS c\r\n",
                "    ON sc.CategoryID = c.CategoryID\r\n",
                "GROUP BY Category, EOMONTH(o.OrderDate)\r\n",
                ")\r\n",
                "\r\n",
                "-- Caculate a rolling three month average of sales by category\r\n",
                "SELECT  \r\n",
                "    Category,\r\n",
                "    TransactionMonth,\r\n",
                "    SUM(Sales) TotalSales,    \r\n",
                "    AVG(SUM(Sales)) OVER(\r\n",
                "        PARTITION BY Category  -- Divide the data by Category - the avg will be calcuated separately for each category\r\n",
                "        ORDER BY TransactionMonth -- Order the records by transaction month, ensuring the average is calculated chronologically\r\n",
                "        ROWS BETWEEN 2 PRECEDING and CURRENT ROW -- specifies the range of rows to include in the average as 2 preceeding and current row\r\n",
                "    ) AS MovingThreeMonthAvgSales\r\n",
                "\r\n",
                "FROM MonthlySales\r\n",
                "GROUP BY\r\n",
                "    Category,\r\n",
                "    TransactionMonth\r\n",
                "ORDER BY Category, TransactionMonth\r\n",
                ""
            ],
            "metadata": {
                "language": "sql",
                "azdata_cell_guid": "c9235ef0-0a7d-44ad-a536-7d6c1076c9c3"
            },
            "outputs": [
                {
                    "output_type": "display_data",
                    "data": {
                        "text/html": "(337 rows affected)"
                    },
                    "metadata": {}
                },
                {
                    "output_type": "display_data",
                    "data": {
                        "text/html": "Total execution time: 00:00:00.288"
                    },
                    "metadata": {}
                },
                {
                    "output_type": "execute_result",
                    "execution_count": 8,
                    "data": {
                        "application/vnd.dataresource+json": {
                            "schema": {
                                "fields": [
                                    {
                                        "name": "Category"
                                    },
                                    {
                                        "name": "TransactionMonth"
                                    },
                                    {
                                        "name": "TotalSales"
                                    },
                                    {
                                        "name": "MovingThreeMonthAvgSales"
                                    }
                                ]
                            },
                            "data": [
                                {
                                    "Category": "Accessories",
                                    "TransactionMonth": "2019-02-28",
                                    "TotalSales": "742.06",
                                    "MovingThreeMonthAvgSales": "742.060000"
                                },
                                {
                                    "Category": "Accessories",
                                    "TransactionMonth": "2019-03-31",
                                    "TotalSales": "752.48",
                                    "MovingThreeMonthAvgSales": "747.270000"
                                },
                                {
                                    "Category": "Accessories",
                                    "TransactionMonth": "2019-04-30",
                                    "TotalSales": "903.54",
                                    "MovingThreeMonthAvgSales": "799.360000"
                                },
                                {
                                    "Category": "Accessories",
                                    "TransactionMonth": "2019-05-31",
                                    "TotalSales": "1094.00",
                                    "MovingThreeMonthAvgSales": "916.673333"
                                },
                                {
                                    "Category": "Accessories",
                                    "TransactionMonth": "2019-06-30",
                                    "TotalSales": "1100.73",
                                    "MovingThreeMonthAvgSales": "1032.756666"
                                },
                                {
                                    "Category": "Accessories",
                                    "TransactionMonth": "2019-07-31",
                                    "TotalSales": "1003.34",
                                    "MovingThreeMonthAvgSales": "1066.023333"
                                },
                                {
                                    "Category": "Accessories",
                                    "TransactionMonth": "2019-08-31",
                                    "TotalSales": "940.90",
                                    "MovingThreeMonthAvgSales": "1014.990000"
                                },
                                {
                                    "Category": "Accessories",
                                    "TransactionMonth": "2019-09-30",
                                    "TotalSales": "1073.68",
                                    "MovingThreeMonthAvgSales": "1005.973333"
                                },
                                {
                                    "Category": "Accessories",
                                    "TransactionMonth": "2019-10-31",
                                    "TotalSales": "1048.93",
                                    "MovingThreeMonthAvgSales": "1021.170000"
                                },
                                {
                                    "Category": "Accessories",
                                    "TransactionMonth": "2019-11-30",
                                    "TotalSales": "978.33",
                                    "MovingThreeMonthAvgSales": "1033.646666"
                                },
                                {
                                    "Category": "Accessories",
                                    "TransactionMonth": "2019-12-31",
                                    "TotalSales": "1116.51",
                                    "MovingThreeMonthAvgSales": "1047.923333"
                                },
                                {
                                    "Category": "Accessories",
                                    "TransactionMonth": "2020-01-31",
                                    "TotalSales": "1175.60",
                                    "MovingThreeMonthAvgSales": "1090.146666"
                                },
                                {
                                    "Category": "Accessories",
                                    "TransactionMonth": "2020-02-29",
                                    "TotalSales": "738.12",
                                    "MovingThreeMonthAvgSales": "1010.076666"
                                },
                                {
                                    "Category": "Accessories",
                                    "TransactionMonth": "2020-03-31",
                                    "TotalSales": "1138.63",
                                    "MovingThreeMonthAvgSales": "1017.450000"
                                },
                                {
                                    "Category": "Accessories",
                                    "TransactionMonth": "2020-04-30",
                                    "TotalSales": "570.15",
                                    "MovingThreeMonthAvgSales": "815.633333"
                                },
                                {
                                    "Category": "Accessories",
                                    "TransactionMonth": "2020-05-31",
                                    "TotalSales": "642.02",
                                    "MovingThreeMonthAvgSales": "783.600000"
                                },
                                {
                                    "Category": "Accessories",
                                    "TransactionMonth": "2020-06-30",
                                    "TotalSales": "630.15",
                                    "MovingThreeMonthAvgSales": "614.106666"
                                },
                                {
                                    "Category": "Accessories",
                                    "TransactionMonth": "2020-07-31",
                                    "TotalSales": "1432.05",
                                    "MovingThreeMonthAvgSales": "901.406666"
                                },
                                {
                                    "Category": "Accessories",
                                    "TransactionMonth": "2020-08-31",
                                    "TotalSales": "1566.48",
                                    "MovingThreeMonthAvgSales": "1209.560000"
                                },
                                {
                                    "Category": "Accessories",
                                    "TransactionMonth": "2020-09-30",
                                    "TotalSales": "1527.68",
                                    "MovingThreeMonthAvgSales": "1508.736666"
                                },
                                {
                                    "Category": "Accessories",
                                    "TransactionMonth": "2020-10-31",
                                    "TotalSales": "1507.44",
                                    "MovingThreeMonthAvgSales": "1533.866666"
                                },
                                {
                                    "Category": "Accessories",
                                    "TransactionMonth": "2020-11-30",
                                    "TotalSales": "1898.25",
                                    "MovingThreeMonthAvgSales": "1644.456666"
                                },
                                {
                                    "Category": "Accessories",
                                    "TransactionMonth": "2020-12-31",
                                    "TotalSales": "2543.22",
                                    "MovingThreeMonthAvgSales": "1982.970000"
                                },
                                {
                                    "Category": "Accessories",
                                    "TransactionMonth": "2021-01-31",
                                    "TotalSales": "2785.38",
                                    "MovingThreeMonthAvgSales": "2408.950000"
                                },
                                {
                                    "Category": "Accessories",
                                    "TransactionMonth": "2021-02-28",
                                    "TotalSales": "2468.48",
                                    "MovingThreeMonthAvgSales": "2599.026666"
                                },
                                {
                                    "Category": "Accessories",
                                    "TransactionMonth": "2021-03-31",
                                    "TotalSales": "1980.07",
                                    "MovingThreeMonthAvgSales": "2411.310000"
                                },
                                {
                                    "Category": "Accessories",
                                    "TransactionMonth": "2021-04-30",
                                    "TotalSales": "2046.72",
                                    "MovingThreeMonthAvgSales": "2165.090000"
                                },
                                {
                                    "Category": "Accessories",
                                    "TransactionMonth": "2021-05-31",
                                    "TotalSales": "1851.93",
                                    "MovingThreeMonthAvgSales": "1959.573333"
                                },
                                {
                                    "Category": "Accessories",
                                    "TransactionMonth": "2021-06-30",
                                    "TotalSales": "1406.68",
                                    "MovingThreeMonthAvgSales": "1768.443333"
                                },
                                {
                                    "Category": "Accessories",
                                    "TransactionMonth": "2021-07-31",
                                    "TotalSales": "1388.45",
                                    "MovingThreeMonthAvgSales": "1549.020000"
                                },
                                {
                                    "Category": "Accessories",
                                    "TransactionMonth": "2021-08-31",
                                    "TotalSales": "1487.14",
                                    "MovingThreeMonthAvgSales": "1427.423333"
                                },
                                {
                                    "Category": "Accessories",
                                    "TransactionMonth": "2021-09-30",
                                    "TotalSales": "1523.85",
                                    "MovingThreeMonthAvgSales": "1466.480000"
                                },
                                {
                                    "Category": "Accessories",
                                    "TransactionMonth": "2021-10-31",
                                    "TotalSales": "1465.52",
                                    "MovingThreeMonthAvgSales": "1492.170000"
                                },
                                {
                                    "Category": "Accessories",
                                    "TransactionMonth": "2021-11-30",
                                    "TotalSales": "1460.29",
                                    "MovingThreeMonthAvgSales": "1483.220000"
                                },
                                {
                                    "Category": "Accessories",
                                    "TransactionMonth": "2021-12-31",
                                    "TotalSales": "2097.21",
                                    "MovingThreeMonthAvgSales": "1674.340000"
                                },
                                {
                                    "Category": "Body Care",
                                    "TransactionMonth": "2019-02-28",
                                    "TotalSales": "2624.92",
                                    "MovingThreeMonthAvgSales": "2624.920000"
                                },
                                {
                                    "Category": "Body Care",
                                    "TransactionMonth": "2019-03-31",
                                    "TotalSales": "2544.82",
                                    "MovingThreeMonthAvgSales": "2584.870000"
                                },
                                {
                                    "Category": "Body Care",
                                    "TransactionMonth": "2019-04-30",
                                    "TotalSales": "2429.24",
                                    "MovingThreeMonthAvgSales": "2532.993333"
                                },
                                {
                                    "Category": "Body Care",
                                    "TransactionMonth": "2019-05-31",
                                    "TotalSales": "3537.36",
                                    "MovingThreeMonthAvgSales": "2837.140000"
                                },
                                {
                                    "Category": "Body Care",
                                    "TransactionMonth": "2019-06-30",
                                    "TotalSales": "3367.33",
                                    "MovingThreeMonthAvgSales": "3111.310000"
                                },
                                {
                                    "Category": "Body Care",
                                    "TransactionMonth": "2019-07-31",
                                    "TotalSales": "3557.08",
                                    "MovingThreeMonthAvgSales": "3487.256666"
                                },
                                {
                                    "Category": "Body Care",
                                    "TransactionMonth": "2019-08-31",
                                    "TotalSales": "3914.50",
                                    "MovingThreeMonthAvgSales": "3612.970000"
                                },
                                {
                                    "Category": "Body Care",
                                    "TransactionMonth": "2019-09-30",
                                    "TotalSales": "3686.71",
                                    "MovingThreeMonthAvgSales": "3719.430000"
                                },
                                {
                                    "Category": "Body Care",
                                    "TransactionMonth": "2019-10-31",
                                    "TotalSales": "3707.63",
                                    "MovingThreeMonthAvgSales": "3769.613333"
                                },
                                {
                                    "Category": "Body Care",
                                    "TransactionMonth": "2019-11-30",
                                    "TotalSales": "4093.80",
                                    "MovingThreeMonthAvgSales": "3829.380000"
                                },
                                {
                                    "Category": "Body Care",
                                    "TransactionMonth": "2019-12-31",
                                    "TotalSales": "3888.16",
                                    "MovingThreeMonthAvgSales": "3896.530000"
                                },
                                {
                                    "Category": "Body Care",
                                    "TransactionMonth": "2020-01-31",
                                    "TotalSales": "5801.42",
                                    "MovingThreeMonthAvgSales": "4594.460000"
                                },
                                {
                                    "Category": "Body Care",
                                    "TransactionMonth": "2020-02-29",
                                    "TotalSales": "4493.73",
                                    "MovingThreeMonthAvgSales": "4727.770000"
                                },
                                {
                                    "Category": "Body Care",
                                    "TransactionMonth": "2020-03-31",
                                    "TotalSales": "4926.80",
                                    "MovingThreeMonthAvgSales": "5073.983333"
                                },
                                {
                                    "Category": "Body Care",
                                    "TransactionMonth": "2020-04-30",
                                    "TotalSales": "4239.50",
                                    "MovingThreeMonthAvgSales": "4553.343333"
                                },
                                {
                                    "Category": "Body Care",
                                    "TransactionMonth": "2020-05-31",
                                    "TotalSales": "4238.19",
                                    "MovingThreeMonthAvgSales": "4468.163333"
                                },
                                {
                                    "Category": "Body Care",
                                    "TransactionMonth": "2020-06-30",
                                    "TotalSales": "4493.05",
                                    "MovingThreeMonthAvgSales": "4323.580000"
                                },
                                {
                                    "Category": "Body Care",
                                    "TransactionMonth": "2020-07-31",
                                    "TotalSales": "5701.65",
                                    "MovingThreeMonthAvgSales": "4810.963333"
                                },
                                {
                                    "Category": "Body Care",
                                    "TransactionMonth": "2020-08-31",
                                    "TotalSales": "6862.75",
                                    "MovingThreeMonthAvgSales": "5685.816666"
                                },
                                {
                                    "Category": "Body Care",
                                    "TransactionMonth": "2020-09-30",
                                    "TotalSales": "6678.22",
                                    "MovingThreeMonthAvgSales": "6414.206666"
                                },
                                {
                                    "Category": "Body Care",
                                    "TransactionMonth": "2020-10-31",
                                    "TotalSales": "6423.07",
                                    "MovingThreeMonthAvgSales": "6654.680000"
                                },
                                {
                                    "Category": "Body Care",
                                    "TransactionMonth": "2020-11-30",
                                    "TotalSales": "6125.61",
                                    "MovingThreeMonthAvgSales": "6408.966666"
                                },
                                {
                                    "Category": "Body Care",
                                    "TransactionMonth": "2020-12-31",
                                    "TotalSales": "6859.50",
                                    "MovingThreeMonthAvgSales": "6469.393333"
                                },
                                {
                                    "Category": "Body Care",
                                    "TransactionMonth": "2021-01-31",
                                    "TotalSales": "6557.27",
                                    "MovingThreeMonthAvgSales": "6514.126666"
                                },
                                {
                                    "Category": "Body Care",
                                    "TransactionMonth": "2021-02-28",
                                    "TotalSales": "6766.08",
                                    "MovingThreeMonthAvgSales": "6727.616666"
                                },
                                {
                                    "Category": "Body Care",
                                    "TransactionMonth": "2021-03-31",
                                    "TotalSales": "6170.15",
                                    "MovingThreeMonthAvgSales": "6497.833333"
                                },
                                {
                                    "Category": "Body Care",
                                    "TransactionMonth": "2021-04-30",
                                    "TotalSales": "6472.60",
                                    "MovingThreeMonthAvgSales": "6469.610000"
                                },
                                {
                                    "Category": "Body Care",
                                    "TransactionMonth": "2021-05-31",
                                    "TotalSales": "6558.58",
                                    "MovingThreeMonthAvgSales": "6400.443333"
                                },
                                {
                                    "Category": "Body Care",
                                    "TransactionMonth": "2021-06-30",
                                    "TotalSales": "6123.15",
                                    "MovingThreeMonthAvgSales": "6384.776666"
                                },
                                {
                                    "Category": "Body Care",
                                    "TransactionMonth": "2021-07-31",
                                    "TotalSales": "6465.81",
                                    "MovingThreeMonthAvgSales": "6382.513333"
                                },
                                {
                                    "Category": "Body Care",
                                    "TransactionMonth": "2021-08-31",
                                    "TotalSales": "6614.70",
                                    "MovingThreeMonthAvgSales": "6401.220000"
                                },
                                {
                                    "Category": "Body Care",
                                    "TransactionMonth": "2021-09-30",
                                    "TotalSales": "4886.87",
                                    "MovingThreeMonthAvgSales": "5989.126666"
                                },
                                {
                                    "Category": "Body Care",
                                    "TransactionMonth": "2021-10-31",
                                    "TotalSales": "5489.42",
                                    "MovingThreeMonthAvgSales": "5663.663333"
                                },
                                {
                                    "Category": "Body Care",
                                    "TransactionMonth": "2021-11-30",
                                    "TotalSales": "4964.23",
                                    "MovingThreeMonthAvgSales": "5113.506666"
                                },
                                {
                                    "Category": "Body Care",
                                    "TransactionMonth": "2021-12-31",
                                    "TotalSales": "4703.29",
                                    "MovingThreeMonthAvgSales": "5052.313333"
                                },
                                {
                                    "Category": "Cleaning Supply",
                                    "TransactionMonth": "2019-02-28",
                                    "TotalSales": "743.04",
                                    "MovingThreeMonthAvgSales": "743.040000"
                                },
                                {
                                    "Category": "Cleaning Supply",
                                    "TransactionMonth": "2019-03-31",
                                    "TotalSales": "1360.54",
                                    "MovingThreeMonthAvgSales": "1051.790000"
                                },
                                {
                                    "Category": "Cleaning Supply",
                                    "TransactionMonth": "2019-04-30",
                                    "TotalSales": "1173.74",
                                    "MovingThreeMonthAvgSales": "1092.440000"
                                },
                                {
                                    "Category": "Cleaning Supply",
                                    "TransactionMonth": "2019-05-31",
                                    "TotalSales": "1233.51",
                                    "MovingThreeMonthAvgSales": "1255.930000"
                                },
                                {
                                    "Category": "Cleaning Supply",
                                    "TransactionMonth": "2019-06-30",
                                    "TotalSales": "1768.14",
                                    "MovingThreeMonthAvgSales": "1391.796666"
                                },
                                {
                                    "Category": "Cleaning Supply",
                                    "TransactionMonth": "2019-07-31",
                                    "TotalSales": "2022.01",
                                    "MovingThreeMonthAvgSales": "1674.553333"
                                },
                                {
                                    "Category": "Cleaning Supply",
                                    "TransactionMonth": "2019-08-31",
                                    "TotalSales": "2428.41",
                                    "MovingThreeMonthAvgSales": "2072.853333"
                                },
                                {
                                    "Category": "Cleaning Supply",
                                    "TransactionMonth": "2019-09-30",
                                    "TotalSales": "2215.92",
                                    "MovingThreeMonthAvgSales": "2222.113333"
                                },
                                {
                                    "Category": "Cleaning Supply",
                                    "TransactionMonth": "2019-10-31",
                                    "TotalSales": "2264.19",
                                    "MovingThreeMonthAvgSales": "2302.840000"
                                },
                                {
                                    "Category": "Cleaning Supply",
                                    "TransactionMonth": "2019-11-30",
                                    "TotalSales": "1663.22",
                                    "MovingThreeMonthAvgSales": "2047.776666"
                                },
                                {
                                    "Category": "Cleaning Supply",
                                    "TransactionMonth": "2019-12-31",
                                    "TotalSales": "2037.05",
                                    "MovingThreeMonthAvgSales": "1988.153333"
                                },
                                {
                                    "Category": "Cleaning Supply",
                                    "TransactionMonth": "2020-01-31",
                                    "TotalSales": "3202.50",
                                    "MovingThreeMonthAvgSales": "2300.923333"
                                },
                                {
                                    "Category": "Cleaning Supply",
                                    "TransactionMonth": "2020-02-29",
                                    "TotalSales": "2841.19",
                                    "MovingThreeMonthAvgSales": "2693.580000"
                                },
                                {
                                    "Category": "Cleaning Supply",
                                    "TransactionMonth": "2020-03-31",
                                    "TotalSales": "2605.57",
                                    "MovingThreeMonthAvgSales": "2883.086666"
                                },
                                {
                                    "Category": "Cleaning Supply",
                                    "TransactionMonth": "2020-04-30",
                                    "TotalSales": "1394.76",
                                    "MovingThreeMonthAvgSales": "2280.506666"
                                },
                                {
                                    "Category": "Cleaning Supply",
                                    "TransactionMonth": "2020-05-31",
                                    "TotalSales": "2770.05",
                                    "MovingThreeMonthAvgSales": "2256.793333"
                                },
                                {
                                    "Category": "Cleaning Supply",
                                    "TransactionMonth": "2020-06-30",
                                    "TotalSales": "2368.09",
                                    "MovingThreeMonthAvgSales": "2177.633333"
                                },
                                {
                                    "Category": "Cleaning Supply",
                                    "TransactionMonth": "2020-07-31",
                                    "TotalSales": "2819.13",
                                    "MovingThreeMonthAvgSales": "2652.423333"
                                },
                                {
                                    "Category": "Cleaning Supply",
                                    "TransactionMonth": "2020-08-31",
                                    "TotalSales": "3122.89",
                                    "MovingThreeMonthAvgSales": "2770.036666"
                                },
                                {
                                    "Category": "Cleaning Supply",
                                    "TransactionMonth": "2020-09-30",
                                    "TotalSales": "3254.34",
                                    "MovingThreeMonthAvgSales": "3065.453333"
                                },
                                {
                                    "Category": "Cleaning Supply",
                                    "TransactionMonth": "2020-10-31",
                                    "TotalSales": "3695.30",
                                    "MovingThreeMonthAvgSales": "3357.510000"
                                },
                                {
                                    "Category": "Cleaning Supply",
                                    "TransactionMonth": "2020-11-30",
                                    "TotalSales": "3356.84",
                                    "MovingThreeMonthAvgSales": "3435.493333"
                                },
                                {
                                    "Category": "Cleaning Supply",
                                    "TransactionMonth": "2020-12-31",
                                    "TotalSales": "3627.95",
                                    "MovingThreeMonthAvgSales": "3560.030000"
                                },
                                {
                                    "Category": "Cleaning Supply",
                                    "TransactionMonth": "2021-01-31",
                                    "TotalSales": "4216.49",
                                    "MovingThreeMonthAvgSales": "3733.760000"
                                },
                                {
                                    "Category": "Cleaning Supply",
                                    "TransactionMonth": "2021-02-28",
                                    "TotalSales": "4127.99",
                                    "MovingThreeMonthAvgSales": "3990.810000"
                                },
                                {
                                    "Category": "Cleaning Supply",
                                    "TransactionMonth": "2021-03-31",
                                    "TotalSales": "3608.50",
                                    "MovingThreeMonthAvgSales": "3984.326666"
                                },
                                {
                                    "Category": "Cleaning Supply",
                                    "TransactionMonth": "2021-04-30",
                                    "TotalSales": "4084.15",
                                    "MovingThreeMonthAvgSales": "3940.213333"
                                },
                                {
                                    "Category": "Cleaning Supply",
                                    "TransactionMonth": "2021-05-31",
                                    "TotalSales": "4386.27",
                                    "MovingThreeMonthAvgSales": "4026.306666"
                                },
                                {
                                    "Category": "Cleaning Supply",
                                    "TransactionMonth": "2021-06-30",
                                    "TotalSales": "4381.73",
                                    "MovingThreeMonthAvgSales": "4284.050000"
                                },
                                {
                                    "Category": "Cleaning Supply",
                                    "TransactionMonth": "2021-07-31",
                                    "TotalSales": "3819.36",
                                    "MovingThreeMonthAvgSales": "4195.786666"
                                },
                                {
                                    "Category": "Cleaning Supply",
                                    "TransactionMonth": "2021-08-31",
                                    "TotalSales": "4190.89",
                                    "MovingThreeMonthAvgSales": "4130.660000"
                                },
                                {
                                    "Category": "Cleaning Supply",
                                    "TransactionMonth": "2021-09-30",
                                    "TotalSales": "3500.73",
                                    "MovingThreeMonthAvgSales": "3836.993333"
                                },
                                {
                                    "Category": "Cleaning Supply",
                                    "TransactionMonth": "2021-10-31",
                                    "TotalSales": "4525.46",
                                    "MovingThreeMonthAvgSales": "4072.360000"
                                },
                                {
                                    "Category": "Cleaning Supply",
                                    "TransactionMonth": "2021-11-30",
                                    "TotalSales": "3920.86",
                                    "MovingThreeMonthAvgSales": "3982.350000"
                                },
                                {
                                    "Category": "Cleaning Supply",
                                    "TransactionMonth": "2021-12-31",
                                    "TotalSales": "3823.36",
                                    "MovingThreeMonthAvgSales": "4089.893333"
                                },
                                {
                                    "Category": "Containers",
                                    "TransactionMonth": "2019-02-28",
                                    "TotalSales": "637.33",
                                    "MovingThreeMonthAvgSales": "637.330000"
                                },
                                {
                                    "Category": "Containers",
                                    "TransactionMonth": "2019-03-31",
                                    "TotalSales": "1156.01",
                                    "MovingThreeMonthAvgSales": "896.670000"
                                },
                                {
                                    "Category": "Containers",
                                    "TransactionMonth": "2019-04-30",
                                    "TotalSales": "660.40",
                                    "MovingThreeMonthAvgSales": "817.913333"
                                },
                                {
                                    "Category": "Containers",
                                    "TransactionMonth": "2019-05-31",
                                    "TotalSales": "852.90",
                                    "MovingThreeMonthAvgSales": "889.770000"
                                },
                                {
                                    "Category": "Containers",
                                    "TransactionMonth": "2019-06-30",
                                    "TotalSales": "1386.14",
                                    "MovingThreeMonthAvgSales": "966.480000"
                                },
                                {
                                    "Category": "Containers",
                                    "TransactionMonth": "2019-07-31",
                                    "TotalSales": "848.64",
                                    "MovingThreeMonthAvgSales": "1029.226666"
                                },
                                {
                                    "Category": "Containers",
                                    "TransactionMonth": "2019-08-31",
                                    "TotalSales": "1093.52",
                                    "MovingThreeMonthAvgSales": "1109.433333"
                                },
                                {
                                    "Category": "Containers",
                                    "TransactionMonth": "2019-09-30",
                                    "TotalSales": "922.43",
                                    "MovingThreeMonthAvgSales": "954.863333"
                                },
                                {
                                    "Category": "Containers",
                                    "TransactionMonth": "2019-10-31",
                                    "TotalSales": "996.35",
                                    "MovingThreeMonthAvgSales": "1004.100000"
                                },
                                {
                                    "Category": "Containers",
                                    "TransactionMonth": "2019-11-30",
                                    "TotalSales": "1030.94",
                                    "MovingThreeMonthAvgSales": "983.240000"
                                },
                                {
                                    "Category": "Containers",
                                    "TransactionMonth": "2019-12-31",
                                    "TotalSales": "2138.31",
                                    "MovingThreeMonthAvgSales": "1388.533333"
                                },
                                {
                                    "Category": "Containers",
                                    "TransactionMonth": "2020-01-31",
                                    "TotalSales": "1307.55",
                                    "MovingThreeMonthAvgSales": "1492.266666"
                                },
                                {
                                    "Category": "Containers",
                                    "TransactionMonth": "2020-02-29",
                                    "TotalSales": "898.61",
                                    "MovingThreeMonthAvgSales": "1448.156666"
                                },
                                {
                                    "Category": "Containers",
                                    "TransactionMonth": "2020-03-31",
                                    "TotalSales": "1159.11",
                                    "MovingThreeMonthAvgSales": "1121.756666"
                                },
                                {
                                    "Category": "Containers",
                                    "TransactionMonth": "2020-04-30",
                                    "TotalSales": "766.65",
                                    "MovingThreeMonthAvgSales": "941.456666"
                                },
                                {
                                    "Category": "Containers",
                                    "TransactionMonth": "2020-05-31",
                                    "TotalSales": "1168.99",
                                    "MovingThreeMonthAvgSales": "1031.583333"
                                },
                                {
                                    "Category": "Containers",
                                    "TransactionMonth": "2020-06-30",
                                    "TotalSales": "645.16",
                                    "MovingThreeMonthAvgSales": "860.266666"
                                },
                                {
                                    "Category": "Containers",
                                    "TransactionMonth": "2020-07-31",
                                    "TotalSales": "1210.43",
                                    "MovingThreeMonthAvgSales": "1008.193333"
                                },
                                {
                                    "Category": "Containers",
                                    "TransactionMonth": "2020-08-31",
                                    "TotalSales": "1149.98",
                                    "MovingThreeMonthAvgSales": "1001.856666"
                                },
                                {
                                    "Category": "Containers",
                                    "TransactionMonth": "2020-09-30",
                                    "TotalSales": "927.84",
                                    "MovingThreeMonthAvgSales": "1096.083333"
                                },
                                {
                                    "Category": "Containers",
                                    "TransactionMonth": "2020-10-31",
                                    "TotalSales": "743.79",
                                    "MovingThreeMonthAvgSales": "940.536666"
                                },
                                {
                                    "Category": "Containers",
                                    "TransactionMonth": "2020-11-30",
                                    "TotalSales": "829.73",
                                    "MovingThreeMonthAvgSales": "833.786666"
                                },
                                {
                                    "Category": "Containers",
                                    "TransactionMonth": "2020-12-31",
                                    "TotalSales": "1355.86",
                                    "MovingThreeMonthAvgSales": "976.460000"
                                },
                                {
                                    "Category": "Containers",
                                    "TransactionMonth": "2021-01-31",
                                    "TotalSales": "997.27",
                                    "MovingThreeMonthAvgSales": "1060.953333"
                                },
                                {
                                    "Category": "Containers",
                                    "TransactionMonth": "2021-02-28",
                                    "TotalSales": "851.27",
                                    "MovingThreeMonthAvgSales": "1068.133333"
                                },
                                {
                                    "Category": "Containers",
                                    "TransactionMonth": "2021-03-31",
                                    "TotalSales": "635.11",
                                    "MovingThreeMonthAvgSales": "827.883333"
                                },
                                {
                                    "Category": "Containers",
                                    "TransactionMonth": "2021-04-30",
                                    "TotalSales": "838.67",
                                    "MovingThreeMonthAvgSales": "775.016666"
                                },
                                {
                                    "Category": "Containers",
                                    "TransactionMonth": "2021-05-31",
                                    "TotalSales": "708.23",
                                    "MovingThreeMonthAvgSales": "727.336666"
                                },
                                {
                                    "Category": "Containers",
                                    "TransactionMonth": "2021-06-30",
                                    "TotalSales": "609.19",
                                    "MovingThreeMonthAvgSales": "718.696666"
                                },
                                {
                                    "Category": "Containers",
                                    "TransactionMonth": "2021-07-31",
                                    "TotalSales": "649.88",
                                    "MovingThreeMonthAvgSales": "655.766666"
                                },
                                {
                                    "Category": "Containers",
                                    "TransactionMonth": "2021-08-31",
                                    "TotalSales": "606.00",
                                    "MovingThreeMonthAvgSales": "621.690000"
                                },
                                {
                                    "Category": "Containers",
                                    "TransactionMonth": "2021-09-30",
                                    "TotalSales": "503.17",
                                    "MovingThreeMonthAvgSales": "586.350000"
                                },
                                {
                                    "Category": "Containers",
                                    "TransactionMonth": "2021-10-31",
                                    "TotalSales": "637.18",
                                    "MovingThreeMonthAvgSales": "582.116666"
                                },
                                {
                                    "Category": "Containers",
                                    "TransactionMonth": "2021-11-30",
                                    "TotalSales": "559.01",
                                    "MovingThreeMonthAvgSales": "566.453333"
                                },
                                {
                                    "Category": "Containers",
                                    "TransactionMonth": "2021-12-31",
                                    "TotalSales": "759.98",
                                    "MovingThreeMonthAvgSales": "652.056666"
                                },
                                {
                                    "Category": "Events",
                                    "TransactionMonth": "2019-05-31",
                                    "TotalSales": "60.00",
                                    "MovingThreeMonthAvgSales": "60.000000"
                                },
                                {
                                    "Category": "Fresh Produce",
                                    "TransactionMonth": "2019-02-28",
                                    "TotalSales": "71.30",
                                    "MovingThreeMonthAvgSales": "71.300000"
                                },
                                {
                                    "Category": "Fresh Produce",
                                    "TransactionMonth": "2019-03-31",
                                    "TotalSales": "56.50",
                                    "MovingThreeMonthAvgSales": "63.900000"
                                },
                                {
                                    "Category": "Fresh Produce",
                                    "TransactionMonth": "2019-05-31",
                                    "TotalSales": "416.55",
                                    "MovingThreeMonthAvgSales": "181.450000"
                                },
                                {
                                    "Category": "Fresh Produce",
                                    "TransactionMonth": "2019-06-30",
                                    "TotalSales": "657.81",
                                    "MovingThreeMonthAvgSales": "376.953333"
                                },
                                {
                                    "Category": "Fresh Produce",
                                    "TransactionMonth": "2019-07-31",
                                    "TotalSales": "632.93",
                                    "MovingThreeMonthAvgSales": "569.096666"
                                },
                                {
                                    "Category": "Fresh Produce",
                                    "TransactionMonth": "2019-08-31",
                                    "TotalSales": "547.56",
                                    "MovingThreeMonthAvgSales": "612.766666"
                                },
                                {
                                    "Category": "Fresh Produce",
                                    "TransactionMonth": "2019-09-30",
                                    "TotalSales": "735.59",
                                    "MovingThreeMonthAvgSales": "638.693333"
                                },
                                {
                                    "Category": "Fresh Produce",
                                    "TransactionMonth": "2019-10-31",
                                    "TotalSales": "598.44",
                                    "MovingThreeMonthAvgSales": "627.196666"
                                },
                                {
                                    "Category": "Fresh Produce",
                                    "TransactionMonth": "2019-11-30",
                                    "TotalSales": "870.51",
                                    "MovingThreeMonthAvgSales": "734.846666"
                                },
                                {
                                    "Category": "Fresh Produce",
                                    "TransactionMonth": "2019-12-31",
                                    "TotalSales": "790.53",
                                    "MovingThreeMonthAvgSales": "753.160000"
                                },
                                {
                                    "Category": "Fresh Produce",
                                    "TransactionMonth": "2020-01-31",
                                    "TotalSales": "614.23",
                                    "MovingThreeMonthAvgSales": "758.423333"
                                },
                                {
                                    "Category": "Fresh Produce",
                                    "TransactionMonth": "2020-02-29",
                                    "TotalSales": "567.50",
                                    "MovingThreeMonthAvgSales": "657.420000"
                                },
                                {
                                    "Category": "Fresh Produce",
                                    "TransactionMonth": "2020-03-31",
                                    "TotalSales": "1024.78",
                                    "MovingThreeMonthAvgSales": "735.503333"
                                },
                                {
                                    "Category": "Fresh Produce",
                                    "TransactionMonth": "2020-04-30",
                                    "TotalSales": "968.89",
                                    "MovingThreeMonthAvgSales": "853.723333"
                                },
                                {
                                    "Category": "Fresh Produce",
                                    "TransactionMonth": "2020-05-31",
                                    "TotalSales": "1421.66",
                                    "MovingThreeMonthAvgSales": "1138.443333"
                                },
                                {
                                    "Category": "Fresh Produce",
                                    "TransactionMonth": "2020-06-30",
                                    "TotalSales": "1442.75",
                                    "MovingThreeMonthAvgSales": "1277.766666"
                                },
                                {
                                    "Category": "Fresh Produce",
                                    "TransactionMonth": "2020-07-31",
                                    "TotalSales": "1522.19",
                                    "MovingThreeMonthAvgSales": "1462.200000"
                                },
                                {
                                    "Category": "Fresh Produce",
                                    "TransactionMonth": "2020-08-31",
                                    "TotalSales": "1888.23",
                                    "MovingThreeMonthAvgSales": "1617.723333"
                                },
                                {
                                    "Category": "Fresh Produce",
                                    "TransactionMonth": "2020-09-30",
                                    "TotalSales": "1521.18",
                                    "MovingThreeMonthAvgSales": "1643.866666"
                                },
                                {
                                    "Category": "Fresh Produce",
                                    "TransactionMonth": "2020-10-31",
                                    "TotalSales": "1175.59",
                                    "MovingThreeMonthAvgSales": "1528.333333"
                                },
                                {
                                    "Category": "Fresh Produce",
                                    "TransactionMonth": "2020-11-30",
                                    "TotalSales": "1233.42",
                                    "MovingThreeMonthAvgSales": "1310.063333"
                                },
                                {
                                    "Category": "Fresh Produce",
                                    "TransactionMonth": "2020-12-31",
                                    "TotalSales": "1304.09",
                                    "MovingThreeMonthAvgSales": "1237.700000"
                                },
                                {
                                    "Category": "Fresh Produce",
                                    "TransactionMonth": "2021-01-31",
                                    "TotalSales": "1341.94",
                                    "MovingThreeMonthAvgSales": "1293.150000"
                                },
                                {
                                    "Category": "Fresh Produce",
                                    "TransactionMonth": "2021-02-28",
                                    "TotalSales": "1185.98",
                                    "MovingThreeMonthAvgSales": "1277.336666"
                                },
                                {
                                    "Category": "Fresh Produce",
                                    "TransactionMonth": "2021-03-31",
                                    "TotalSales": "1220.25",
                                    "MovingThreeMonthAvgSales": "1249.390000"
                                },
                                {
                                    "Category": "Fresh Produce",
                                    "TransactionMonth": "2021-04-30",
                                    "TotalSales": "1312.48",
                                    "MovingThreeMonthAvgSales": "1239.570000"
                                },
                                {
                                    "Category": "Fresh Produce",
                                    "TransactionMonth": "2021-05-31",
                                    "TotalSales": "1262.85",
                                    "MovingThreeMonthAvgSales": "1265.193333"
                                },
                                {
                                    "Category": "Fresh Produce",
                                    "TransactionMonth": "2021-06-30",
                                    "TotalSales": "1102.66",
                                    "MovingThreeMonthAvgSales": "1225.996666"
                                },
                                {
                                    "Category": "Fresh Produce",
                                    "TransactionMonth": "2021-07-31",
                                    "TotalSales": "827.30",
                                    "MovingThreeMonthAvgSales": "1064.270000"
                                },
                                {
                                    "Category": "Fresh Produce",
                                    "TransactionMonth": "2021-08-31",
                                    "TotalSales": "1080.05",
                                    "MovingThreeMonthAvgSales": "1003.336666"
                                },
                                {
                                    "Category": "Fresh Produce",
                                    "TransactionMonth": "2021-09-30",
                                    "TotalSales": "653.43",
                                    "MovingThreeMonthAvgSales": "853.593333"
                                },
                                {
                                    "Category": "Fresh Produce",
                                    "TransactionMonth": "2021-10-31",
                                    "TotalSales": "700.10",
                                    "MovingThreeMonthAvgSales": "811.193333"
                                },
                                {
                                    "Category": "Fresh Produce",
                                    "TransactionMonth": "2021-11-30",
                                    "TotalSales": "448.16",
                                    "MovingThreeMonthAvgSales": "600.563333"
                                },
                                {
                                    "Category": "Fresh Produce",
                                    "TransactionMonth": "2021-12-31",
                                    "TotalSales": "542.99",
                                    "MovingThreeMonthAvgSales": "563.750000"
                                },
                                {
                                    "Category": "Gift Card",
                                    "TransactionMonth": "2019-11-30",
                                    "TotalSales": "235.00",
                                    "MovingThreeMonthAvgSales": "235.000000"
                                },
                                {
                                    "Category": "Gift Card",
                                    "TransactionMonth": "2020-02-29",
                                    "TotalSales": "50.00",
                                    "MovingThreeMonthAvgSales": "142.500000"
                                },
                                {
                                    "Category": "Gift Card",
                                    "TransactionMonth": "2020-03-31",
                                    "TotalSales": "235.00",
                                    "MovingThreeMonthAvgSales": "173.333333"
                                },
                                {
                                    "Category": "Gift Card",
                                    "TransactionMonth": "2020-05-31",
                                    "TotalSales": "233.00",
                                    "MovingThreeMonthAvgSales": "172.666666"
                                },
                                {
                                    "Category": "Gift Card",
                                    "TransactionMonth": "2020-06-30",
                                    "TotalSales": "212.78",
                                    "MovingThreeMonthAvgSales": "226.926666"
                                },
                                {
                                    "Category": "Gift Card",
                                    "TransactionMonth": "2020-07-31",
                                    "TotalSales": "30.00",
                                    "MovingThreeMonthAvgSales": "158.593333"
                                },
                                {
                                    "Category": "Gift Card",
                                    "TransactionMonth": "2020-08-31",
                                    "TotalSales": "129.77",
                                    "MovingThreeMonthAvgSales": "124.183333"
                                },
                                {
                                    "Category": "Gift Card",
                                    "TransactionMonth": "2020-09-30",
                                    "TotalSales": "83.25",
                                    "MovingThreeMonthAvgSales": "81.006666"
                                },
                                {
                                    "Category": "Gift Card",
                                    "TransactionMonth": "2020-10-31",
                                    "TotalSales": "100.00",
                                    "MovingThreeMonthAvgSales": "104.340000"
                                },
                                {
                                    "Category": "Gift Card",
                                    "TransactionMonth": "2020-11-30",
                                    "TotalSales": "167.10",
                                    "MovingThreeMonthAvgSales": "116.783333"
                                },
                                {
                                    "Category": "Gift Card",
                                    "TransactionMonth": "2020-12-31",
                                    "TotalSales": "495.00",
                                    "MovingThreeMonthAvgSales": "254.033333"
                                },
                                {
                                    "Category": "Gift Card",
                                    "TransactionMonth": "2021-01-31",
                                    "TotalSales": "351.95",
                                    "MovingThreeMonthAvgSales": "338.016666"
                                },
                                {
                                    "Category": "Gift Card",
                                    "TransactionMonth": "2021-02-28",
                                    "TotalSales": "248.89",
                                    "MovingThreeMonthAvgSales": "365.280000"
                                },
                                {
                                    "Category": "Gift Card",
                                    "TransactionMonth": "2021-03-31",
                                    "TotalSales": "48.33",
                                    "MovingThreeMonthAvgSales": "216.390000"
                                },
                                {
                                    "Category": "Gift Card",
                                    "TransactionMonth": "2021-04-30",
                                    "TotalSales": "54.35",
                                    "MovingThreeMonthAvgSales": "117.190000"
                                },
                                {
                                    "Category": "Gift Card",
                                    "TransactionMonth": "2021-05-31",
                                    "TotalSales": "265.00",
                                    "MovingThreeMonthAvgSales": "122.560000"
                                },
                                {
                                    "Category": "Gift Card",
                                    "TransactionMonth": "2021-06-30",
                                    "TotalSales": "270.00",
                                    "MovingThreeMonthAvgSales": "196.450000"
                                },
                                {
                                    "Category": "Gift Card",
                                    "TransactionMonth": "2021-07-31",
                                    "TotalSales": "115.00",
                                    "MovingThreeMonthAvgSales": "216.666666"
                                },
                                {
                                    "Category": "Gift Card",
                                    "TransactionMonth": "2021-08-31",
                                    "TotalSales": "225.00",
                                    "MovingThreeMonthAvgSales": "203.333333"
                                },
                                {
                                    "Category": "Gift Card",
                                    "TransactionMonth": "2021-09-30",
                                    "TotalSales": "175.00",
                                    "MovingThreeMonthAvgSales": "171.666666"
                                },
                                {
                                    "Category": "Gift Card",
                                    "TransactionMonth": "2021-10-31",
                                    "TotalSales": "190.00",
                                    "MovingThreeMonthAvgSales": "196.666666"
                                },
                                {
                                    "Category": "Gift Card",
                                    "TransactionMonth": "2021-11-30",
                                    "TotalSales": "115.00",
                                    "MovingThreeMonthAvgSales": "160.000000"
                                },
                                {
                                    "Category": "Gift Card",
                                    "TransactionMonth": "2021-12-31",
                                    "TotalSales": "985.29",
                                    "MovingThreeMonthAvgSales": "430.096666"
                                },
                                {
                                    "Category": "Grab & Go",
                                    "TransactionMonth": "2019-02-28",
                                    "TotalSales": "969.85",
                                    "MovingThreeMonthAvgSales": "969.850000"
                                },
                                {
                                    "Category": "Grab & Go",
                                    "TransactionMonth": "2019-03-31",
                                    "TotalSales": "1047.91",
                                    "MovingThreeMonthAvgSales": "1008.880000"
                                },
                                {
                                    "Category": "Grab & Go",
                                    "TransactionMonth": "2019-04-30",
                                    "TotalSales": "848.82",
                                    "MovingThreeMonthAvgSales": "955.526666"
                                },
                                {
                                    "Category": "Grab & Go",
                                    "TransactionMonth": "2019-05-31",
                                    "TotalSales": "645.78",
                                    "MovingThreeMonthAvgSales": "847.503333"
                                },
                                {
                                    "Category": "Grab & Go",
                                    "TransactionMonth": "2019-06-30",
                                    "TotalSales": "438.68",
                                    "MovingThreeMonthAvgSales": "644.426666"
                                },
                                {
                                    "Category": "Grab & Go",
                                    "TransactionMonth": "2019-07-31",
                                    "TotalSales": "392.17",
                                    "MovingThreeMonthAvgSales": "492.210000"
                                },
                                {
                                    "Category": "Grab & Go",
                                    "TransactionMonth": "2019-08-31",
                                    "TotalSales": "396.75",
                                    "MovingThreeMonthAvgSales": "409.200000"
                                },
                                {
                                    "Category": "Grab & Go",
                                    "TransactionMonth": "2019-09-30",
                                    "TotalSales": "183.62",
                                    "MovingThreeMonthAvgSales": "324.180000"
                                },
                                {
                                    "Category": "Grab & Go",
                                    "TransactionMonth": "2019-10-31",
                                    "TotalSales": "160.87",
                                    "MovingThreeMonthAvgSales": "247.080000"
                                },
                                {
                                    "Category": "Grab & Go",
                                    "TransactionMonth": "2019-11-30",
                                    "TotalSales": "156.94",
                                    "MovingThreeMonthAvgSales": "167.143333"
                                },
                                {
                                    "Category": "Grab & Go",
                                    "TransactionMonth": "2019-12-31",
                                    "TotalSales": "6.58",
                                    "MovingThreeMonthAvgSales": "108.130000"
                                },
                                {
                                    "Category": "Grab & Go",
                                    "TransactionMonth": "2020-01-31",
                                    "TotalSales": "116.80",
                                    "MovingThreeMonthAvgSales": "93.440000"
                                },
                                {
                                    "Category": "Grab & Go",
                                    "TransactionMonth": "2020-02-29",
                                    "TotalSales": "266.85",
                                    "MovingThreeMonthAvgSales": "130.076666"
                                },
                                {
                                    "Category": "Grab & Go",
                                    "TransactionMonth": "2020-03-31",
                                    "TotalSales": "212.04",
                                    "MovingThreeMonthAvgSales": "198.563333"
                                },
                                {
                                    "Category": "Grab & Go",
                                    "TransactionMonth": "2020-04-30",
                                    "TotalSales": "194.37",
                                    "MovingThreeMonthAvgSales": "224.420000"
                                },
                                {
                                    "Category": "Grab & Go",
                                    "TransactionMonth": "2020-05-31",
                                    "TotalSales": "70.68",
                                    "MovingThreeMonthAvgSales": "159.030000"
                                },
                                {
                                    "Category": "Grab & Go",
                                    "TransactionMonth": "2020-06-30",
                                    "TotalSales": "5.89",
                                    "MovingThreeMonthAvgSales": "90.313333"
                                },
                                {
                                    "Category": "Grab & Go",
                                    "TransactionMonth": "2020-09-30",
                                    "TotalSales": "3.49",
                                    "MovingThreeMonthAvgSales": "26.686666"
                                },
                                {
                                    "Category": "Grab & Go",
                                    "TransactionMonth": "2020-12-31",
                                    "TotalSales": "330.00",
                                    "MovingThreeMonthAvgSales": "113.126666"
                                },
                                {
                                    "Category": "Grab & Go",
                                    "TransactionMonth": "2021-01-31",
                                    "TotalSales": "170.00",
                                    "MovingThreeMonthAvgSales": "167.830000"
                                },
                                {
                                    "Category": "Grab & Go",
                                    "TransactionMonth": "2021-02-28",
                                    "TotalSales": "150.00",
                                    "MovingThreeMonthAvgSales": "216.666666"
                                },
                                {
                                    "Category": "Grab & Go",
                                    "TransactionMonth": "2021-03-31",
                                    "TotalSales": "170.00",
                                    "MovingThreeMonthAvgSales": "163.333333"
                                },
                                {
                                    "Category": "Grab & Go",
                                    "TransactionMonth": "2021-04-30",
                                    "TotalSales": "130.00",
                                    "MovingThreeMonthAvgSales": "150.000000"
                                },
                                {
                                    "Category": "Grab & Go",
                                    "TransactionMonth": "2021-05-31",
                                    "TotalSales": "190.00",
                                    "MovingThreeMonthAvgSales": "163.333333"
                                },
                                {
                                    "Category": "Grab & Go",
                                    "TransactionMonth": "2021-06-30",
                                    "TotalSales": "130.00",
                                    "MovingThreeMonthAvgSales": "150.000000"
                                },
                                {
                                    "Category": "Grab & Go",
                                    "TransactionMonth": "2021-07-31",
                                    "TotalSales": "160.00",
                                    "MovingThreeMonthAvgSales": "160.000000"
                                },
                                {
                                    "Category": "Grab & Go",
                                    "TransactionMonth": "2021-08-31",
                                    "TotalSales": "20.00",
                                    "MovingThreeMonthAvgSales": "103.333333"
                                },
                                {
                                    "Category": "Grab & Go",
                                    "TransactionMonth": "2021-09-30",
                                    "TotalSales": "70.00",
                                    "MovingThreeMonthAvgSales": "83.333333"
                                },
                                {
                                    "Category": "Grab & Go",
                                    "TransactionMonth": "2021-10-31",
                                    "TotalSales": "170.00",
                                    "MovingThreeMonthAvgSales": "86.666666"
                                },
                                {
                                    "Category": "Grab & Go",
                                    "TransactionMonth": "2021-11-30",
                                    "TotalSales": "290.00",
                                    "MovingThreeMonthAvgSales": "176.666666"
                                },
                                {
                                    "Category": "Grab & Go",
                                    "TransactionMonth": "2021-12-31",
                                    "TotalSales": "300.00",
                                    "MovingThreeMonthAvgSales": "253.333333"
                                },
                                {
                                    "Category": "Grocery",
                                    "TransactionMonth": "2019-02-28",
                                    "TotalSales": "7022.09",
                                    "MovingThreeMonthAvgSales": "7022.090000"
                                },
                                {
                                    "Category": "Grocery",
                                    "TransactionMonth": "2019-03-31",
                                    "TotalSales": "9651.72",
                                    "MovingThreeMonthAvgSales": "8336.905000"
                                },
                                {
                                    "Category": "Grocery",
                                    "TransactionMonth": "2019-04-30",
                                    "TotalSales": "7351.95",
                                    "MovingThreeMonthAvgSales": "8008.586666"
                                },
                                {
                                    "Category": "Grocery",
                                    "TransactionMonth": "2019-05-31",
                                    "TotalSales": "11444.63",
                                    "MovingThreeMonthAvgSales": "9482.766666"
                                },
                                {
                                    "Category": "Grocery",
                                    "TransactionMonth": "2019-06-30",
                                    "TotalSales": "11608.64",
                                    "MovingThreeMonthAvgSales": "10135.073333"
                                },
                                {
                                    "Category": "Grocery",
                                    "TransactionMonth": "2019-07-31",
                                    "TotalSales": "12046.66",
                                    "MovingThreeMonthAvgSales": "11699.976666"
                                },
                                {
                                    "Category": "Grocery",
                                    "TransactionMonth": "2019-08-31",
                                    "TotalSales": "11712.82",
                                    "MovingThreeMonthAvgSales": "11789.373333"
                                },
                                {
                                    "Category": "Grocery",
                                    "TransactionMonth": "2019-09-30",
                                    "TotalSales": "12391.25",
                                    "MovingThreeMonthAvgSales": "12050.243333"
                                },
                                {
                                    "Category": "Grocery",
                                    "TransactionMonth": "2019-10-31",
                                    "TotalSales": "13053.58",
                                    "MovingThreeMonthAvgSales": "12385.883333"
                                },
                                {
                                    "Category": "Grocery",
                                    "TransactionMonth": "2019-11-30",
                                    "TotalSales": "12989.01",
                                    "MovingThreeMonthAvgSales": "12811.280000"
                                },
                                {
                                    "Category": "Grocery",
                                    "TransactionMonth": "2019-12-31",
                                    "TotalSales": "14680.62",
                                    "MovingThreeMonthAvgSales": "13574.403333"
                                },
                                {
                                    "Category": "Grocery",
                                    "TransactionMonth": "2020-01-31",
                                    "TotalSales": "17644.35",
                                    "MovingThreeMonthAvgSales": "15104.660000"
                                },
                                {
                                    "Category": "Grocery",
                                    "TransactionMonth": "2020-02-29",
                                    "TotalSales": "15931.29",
                                    "MovingThreeMonthAvgSales": "16085.420000"
                                },
                                {
                                    "Category": "Grocery",
                                    "TransactionMonth": "2020-03-31",
                                    "TotalSales": "23646.41",
                                    "MovingThreeMonthAvgSales": "19074.016666"
                                },
                                {
                                    "Category": "Grocery",
                                    "TransactionMonth": "2020-04-30",
                                    "TotalSales": "17246.70",
                                    "MovingThreeMonthAvgSales": "18941.466666"
                                },
                                {
                                    "Category": "Grocery",
                                    "TransactionMonth": "2020-05-31",
                                    "TotalSales": "16442.13",
                                    "MovingThreeMonthAvgSales": "19111.746666"
                                },
                                {
                                    "Category": "Grocery",
                                    "TransactionMonth": "2020-06-30",
                                    "TotalSales": "16992.14",
                                    "MovingThreeMonthAvgSales": "16893.656666"
                                },
                                {
                                    "Category": "Grocery",
                                    "TransactionMonth": "2020-07-31",
                                    "TotalSales": "18415.17",
                                    "MovingThreeMonthAvgSales": "17283.146666"
                                },
                                {
                                    "Category": "Grocery",
                                    "TransactionMonth": "2020-08-31",
                                    "TotalSales": "20436.31",
                                    "MovingThreeMonthAvgSales": "18614.540000"
                                },
                                {
                                    "Category": "Grocery",
                                    "TransactionMonth": "2020-09-30",
                                    "TotalSales": "19431.01",
                                    "MovingThreeMonthAvgSales": "19427.496666"
                                },
                                {
                                    "Category": "Grocery",
                                    "TransactionMonth": "2020-10-31",
                                    "TotalSales": "22111.67",
                                    "MovingThreeMonthAvgSales": "20659.663333"
                                },
                                {
                                    "Category": "Grocery",
                                    "TransactionMonth": "2020-11-30",
                                    "TotalSales": "19866.85",
                                    "MovingThreeMonthAvgSales": "20469.843333"
                                },
                                {
                                    "Category": "Grocery",
                                    "TransactionMonth": "2020-12-31",
                                    "TotalSales": "21918.91",
                                    "MovingThreeMonthAvgSales": "21299.143333"
                                },
                                {
                                    "Category": "Grocery",
                                    "TransactionMonth": "2021-01-31",
                                    "TotalSales": "26797.69",
                                    "MovingThreeMonthAvgSales": "22861.150000"
                                },
                                {
                                    "Category": "Grocery",
                                    "TransactionMonth": "2021-02-28",
                                    "TotalSales": "25228.28",
                                    "MovingThreeMonthAvgSales": "24648.293333"
                                },
                                {
                                    "Category": "Grocery",
                                    "TransactionMonth": "2021-03-31",
                                    "TotalSales": "24731.22",
                                    "MovingThreeMonthAvgSales": "25585.730000"
                                },
                                {
                                    "Category": "Grocery",
                                    "TransactionMonth": "2021-04-30",
                                    "TotalSales": "24633.43",
                                    "MovingThreeMonthAvgSales": "24864.310000"
                                },
                                {
                                    "Category": "Grocery",
                                    "TransactionMonth": "2021-05-31",
                                    "TotalSales": "22357.29",
                                    "MovingThreeMonthAvgSales": "23907.313333"
                                },
                                {
                                    "Category": "Grocery",
                                    "TransactionMonth": "2021-06-30",
                                    "TotalSales": "20627.91",
                                    "MovingThreeMonthAvgSales": "22539.543333"
                                },
                                {
                                    "Category": "Grocery",
                                    "TransactionMonth": "2021-07-31",
                                    "TotalSales": "16927.03",
                                    "MovingThreeMonthAvgSales": "19970.743333"
                                },
                                {
                                    "Category": "Grocery",
                                    "TransactionMonth": "2021-08-31",
                                    "TotalSales": "17909.60",
                                    "MovingThreeMonthAvgSales": "18488.180000"
                                },
                                {
                                    "Category": "Grocery",
                                    "TransactionMonth": "2021-09-30",
                                    "TotalSales": "15148.18",
                                    "MovingThreeMonthAvgSales": "16661.603333"
                                },
                                {
                                    "Category": "Grocery",
                                    "TransactionMonth": "2021-10-31",
                                    "TotalSales": "18285.85",
                                    "MovingThreeMonthAvgSales": "17114.543333"
                                },
                                {
                                    "Category": "Grocery",
                                    "TransactionMonth": "2021-11-30",
                                    "TotalSales": "18174.62",
                                    "MovingThreeMonthAvgSales": "17202.883333"
                                },
                                {
                                    "Category": "Grocery",
                                    "TransactionMonth": "2021-12-31",
                                    "TotalSales": "16551.49",
                                    "MovingThreeMonthAvgSales": "17670.653333"
                                },
                                {
                                    "Category": "Holiday Popup",
                                    "TransactionMonth": "2019-12-31",
                                    "TotalSales": "715.00",
                                    "MovingThreeMonthAvgSales": "715.000000"
                                },
                                {
                                    "Category": "Local Love",
                                    "TransactionMonth": "2019-02-28",
                                    "TotalSales": "2016.13",
                                    "MovingThreeMonthAvgSales": "2016.130000"
                                },
                                {
                                    "Category": "Local Love",
                                    "TransactionMonth": "2019-03-31",
                                    "TotalSales": "3604.46",
                                    "MovingThreeMonthAvgSales": "2810.295000"
                                },
                                {
                                    "Category": "Local Love",
                                    "TransactionMonth": "2019-04-30",
                                    "TotalSales": "3503.27",
                                    "MovingThreeMonthAvgSales": "3041.286666"
                                },
                                {
                                    "Category": "Local Love",
                                    "TransactionMonth": "2019-05-31",
                                    "TotalSales": "4444.36",
                                    "MovingThreeMonthAvgSales": "3850.696666"
                                },
                                {
                                    "Category": "Local Love",
                                    "TransactionMonth": "2019-06-30",
                                    "TotalSales": "4146.55",
                                    "MovingThreeMonthAvgSales": "4031.393333"
                                },
                                {
                                    "Category": "Local Love",
                                    "TransactionMonth": "2019-07-31",
                                    "TotalSales": "4065.09",
                                    "MovingThreeMonthAvgSales": "4218.666666"
                                },
                                {
                                    "Category": "Local Love",
                                    "TransactionMonth": "2019-08-31",
                                    "TotalSales": "3588.83",
                                    "MovingThreeMonthAvgSales": "3933.490000"
                                },
                                {
                                    "Category": "Local Love",
                                    "TransactionMonth": "2019-09-30",
                                    "TotalSales": "4321.79",
                                    "MovingThreeMonthAvgSales": "3991.903333"
                                },
                                {
                                    "Category": "Local Love",
                                    "TransactionMonth": "2019-10-31",
                                    "TotalSales": "4619.66",
                                    "MovingThreeMonthAvgSales": "4176.760000"
                                },
                                {
                                    "Category": "Local Love",
                                    "TransactionMonth": "2019-11-30",
                                    "TotalSales": "5032.87",
                                    "MovingThreeMonthAvgSales": "4658.106666"
                                },
                                {
                                    "Category": "Local Love",
                                    "TransactionMonth": "2019-12-31",
                                    "TotalSales": "4512.43",
                                    "MovingThreeMonthAvgSales": "4721.653333"
                                },
                                {
                                    "Category": "Local Love",
                                    "TransactionMonth": "2020-01-31",
                                    "TotalSales": "6009.14",
                                    "MovingThreeMonthAvgSales": "5184.813333"
                                },
                                {
                                    "Category": "Local Love",
                                    "TransactionMonth": "2020-02-29",
                                    "TotalSales": "6028.07",
                                    "MovingThreeMonthAvgSales": "5516.546666"
                                },
                                {
                                    "Category": "Local Love",
                                    "TransactionMonth": "2020-03-31",
                                    "TotalSales": "7256.15",
                                    "MovingThreeMonthAvgSales": "6431.120000"
                                },
                                {
                                    "Category": "Local Love",
                                    "TransactionMonth": "2020-04-30",
                                    "TotalSales": "5799.89",
                                    "MovingThreeMonthAvgSales": "6361.370000"
                                },
                                {
                                    "Category": "Local Love",
                                    "TransactionMonth": "2020-05-31",
                                    "TotalSales": "6478.62",
                                    "MovingThreeMonthAvgSales": "6511.553333"
                                },
                                {
                                    "Category": "Local Love",
                                    "TransactionMonth": "2020-06-30",
                                    "TotalSales": "7390.90",
                                    "MovingThreeMonthAvgSales": "6556.470000"
                                },
                                {
                                    "Category": "Local Love",
                                    "TransactionMonth": "2020-07-31",
                                    "TotalSales": "8303.34",
                                    "MovingThreeMonthAvgSales": "7390.953333"
                                },
                                {
                                    "Category": "Local Love",
                                    "TransactionMonth": "2020-08-31",
                                    "TotalSales": "9176.05",
                                    "MovingThreeMonthAvgSales": "8290.096666"
                                },
                                {
                                    "Category": "Local Love",
                                    "TransactionMonth": "2020-09-30",
                                    "TotalSales": "8669.26",
                                    "MovingThreeMonthAvgSales": "8716.216666"
                                },
                                {
                                    "Category": "Local Love",
                                    "TransactionMonth": "2020-10-31",
                                    "TotalSales": "9332.02",
                                    "MovingThreeMonthAvgSales": "9059.110000"
                                },
                                {
                                    "Category": "Local Love",
                                    "TransactionMonth": "2020-11-30",
                                    "TotalSales": "8339.55",
                                    "MovingThreeMonthAvgSales": "8780.276666"
                                },
                                {
                                    "Category": "Local Love",
                                    "TransactionMonth": "2020-12-31",
                                    "TotalSales": "13628.67",
                                    "MovingThreeMonthAvgSales": "10433.413333"
                                },
                                {
                                    "Category": "Local Love",
                                    "TransactionMonth": "2021-01-31",
                                    "TotalSales": "11333.45",
                                    "MovingThreeMonthAvgSales": "11100.556666"
                                },
                                {
                                    "Category": "Local Love",
                                    "TransactionMonth": "2021-02-28",
                                    "TotalSales": "11582.38",
                                    "MovingThreeMonthAvgSales": "12181.500000"
                                },
                                {
                                    "Category": "Local Love",
                                    "TransactionMonth": "2021-03-31",
                                    "TotalSales": "11233.03",
                                    "MovingThreeMonthAvgSales": "11382.953333"
                                },
                                {
                                    "Category": "Local Love",
                                    "TransactionMonth": "2021-04-30",
                                    "TotalSales": "10800.14",
                                    "MovingThreeMonthAvgSales": "11205.183333"
                                },
                                {
                                    "Category": "Local Love",
                                    "TransactionMonth": "2021-05-31",
                                    "TotalSales": "10414.59",
                                    "MovingThreeMonthAvgSales": "10815.920000"
                                },
                                {
                                    "Category": "Local Love",
                                    "TransactionMonth": "2021-06-30",
                                    "TotalSales": "8871.09",
                                    "MovingThreeMonthAvgSales": "10028.606666"
                                },
                                {
                                    "Category": "Local Love",
                                    "TransactionMonth": "2021-07-31",
                                    "TotalSales": "8327.14",
                                    "MovingThreeMonthAvgSales": "9204.273333"
                                },
                                {
                                    "Category": "Local Love",
                                    "TransactionMonth": "2021-08-31",
                                    "TotalSales": "8117.77",
                                    "MovingThreeMonthAvgSales": "8438.666666"
                                },
                                {
                                    "Category": "Local Love",
                                    "TransactionMonth": "2021-09-30",
                                    "TotalSales": "5512.41",
                                    "MovingThreeMonthAvgSales": "7319.106666"
                                },
                                {
                                    "Category": "Local Love",
                                    "TransactionMonth": "2021-10-31",
                                    "TotalSales": "6876.79",
                                    "MovingThreeMonthAvgSales": "6835.656666"
                                },
                                {
                                    "Category": "Local Love",
                                    "TransactionMonth": "2021-11-30",
                                    "TotalSales": "6359.54",
                                    "MovingThreeMonthAvgSales": "6249.580000"
                                },
                                {
                                    "Category": "Local Love",
                                    "TransactionMonth": "2021-12-31",
                                    "TotalSales": "7926.28",
                                    "MovingThreeMonthAvgSales": "7054.203333"
                                },
                                {
                                    "Category": "Whls_Grocery",
                                    "TransactionMonth": "2019-02-28",
                                    "TotalSales": "138.07",
                                    "MovingThreeMonthAvgSales": "138.070000"
                                },
                                {
                                    "Category": "Whls_Grocery",
                                    "TransactionMonth": "2019-03-31",
                                    "TotalSales": "775.01",
                                    "MovingThreeMonthAvgSales": "456.540000"
                                },
                                {
                                    "Category": "Whls_Grocery",
                                    "TransactionMonth": "2019-04-30",
                                    "TotalSales": "416.19",
                                    "MovingThreeMonthAvgSales": "443.090000"
                                },
                                {
                                    "Category": "Whls_Grocery",
                                    "TransactionMonth": "2019-05-31",
                                    "TotalSales": "695.89",
                                    "MovingThreeMonthAvgSales": "629.030000"
                                },
                                {
                                    "Category": "Whls_Grocery",
                                    "TransactionMonth": "2019-06-30",
                                    "TotalSales": "2980.35",
                                    "MovingThreeMonthAvgSales": "1364.143333"
                                },
                                {
                                    "Category": "Whls_Grocery",
                                    "TransactionMonth": "2019-07-31",
                                    "TotalSales": "2856.02",
                                    "MovingThreeMonthAvgSales": "2177.420000"
                                },
                                {
                                    "Category": "Whls_Grocery",
                                    "TransactionMonth": "2019-08-31",
                                    "TotalSales": "1683.67",
                                    "MovingThreeMonthAvgSales": "2506.680000"
                                },
                                {
                                    "Category": "Whls_Grocery",
                                    "TransactionMonth": "2019-09-30",
                                    "TotalSales": "3311.82",
                                    "MovingThreeMonthAvgSales": "2617.170000"
                                },
                                {
                                    "Category": "Whls_Grocery",
                                    "TransactionMonth": "2019-10-31",
                                    "TotalSales": "2918.51",
                                    "MovingThreeMonthAvgSales": "2638.000000"
                                },
                                {
                                    "Category": "Whls_Grocery",
                                    "TransactionMonth": "2019-11-30",
                                    "TotalSales": "1960.23",
                                    "MovingThreeMonthAvgSales": "2730.186666"
                                },
                                {
                                    "Category": "Whls_Grocery",
                                    "TransactionMonth": "2019-12-31",
                                    "TotalSales": "1430.11",
                                    "MovingThreeMonthAvgSales": "2102.950000"
                                },
                                {
                                    "Category": "Whls_Grocery",
                                    "TransactionMonth": "2020-01-31",
                                    "TotalSales": "2085.19",
                                    "MovingThreeMonthAvgSales": "1825.176666"
                                },
                                {
                                    "Category": "Whls_Grocery",
                                    "TransactionMonth": "2020-02-29",
                                    "TotalSales": "2004.74",
                                    "MovingThreeMonthAvgSales": "1840.013333"
                                },
                                {
                                    "Category": "Whls_Grocery",
                                    "TransactionMonth": "2020-03-31",
                                    "TotalSales": "2519.84",
                                    "MovingThreeMonthAvgSales": "2203.256666"
                                },
                                {
                                    "Category": "Whls_Grocery",
                                    "TransactionMonth": "2020-04-30",
                                    "TotalSales": "690.50",
                                    "MovingThreeMonthAvgSales": "1738.360000"
                                },
                                {
                                    "Category": "Whls_Grocery",
                                    "TransactionMonth": "2020-05-31",
                                    "TotalSales": "1690.38",
                                    "MovingThreeMonthAvgSales": "1633.573333"
                                },
                                {
                                    "Category": "Whls_Grocery",
                                    "TransactionMonth": "2020-06-30",
                                    "TotalSales": "969.05",
                                    "MovingThreeMonthAvgSales": "1116.643333"
                                },
                                {
                                    "Category": "Whls_Grocery",
                                    "TransactionMonth": "2020-07-31",
                                    "TotalSales": "2199.93",
                                    "MovingThreeMonthAvgSales": "1619.786666"
                                },
                                {
                                    "Category": "Whls_Grocery",
                                    "TransactionMonth": "2020-08-31",
                                    "TotalSales": "3266.74",
                                    "MovingThreeMonthAvgSales": "2145.240000"
                                },
                                {
                                    "Category": "Whls_Grocery",
                                    "TransactionMonth": "2020-09-30",
                                    "TotalSales": "1897.99",
                                    "MovingThreeMonthAvgSales": "2454.886666"
                                },
                                {
                                    "Category": "Whls_Grocery",
                                    "TransactionMonth": "2020-10-31",
                                    "TotalSales": "1319.49",
                                    "MovingThreeMonthAvgSales": "2161.406666"
                                },
                                {
                                    "Category": "Whls_Grocery",
                                    "TransactionMonth": "2020-11-30",
                                    "TotalSales": "951.36",
                                    "MovingThreeMonthAvgSales": "1389.613333"
                                },
                                {
                                    "Category": "Whls_Grocery",
                                    "TransactionMonth": "2020-12-31",
                                    "TotalSales": "976.25",
                                    "MovingThreeMonthAvgSales": "1082.366666"
                                },
                                {
                                    "Category": "Whls_Grocery",
                                    "TransactionMonth": "2021-01-31",
                                    "TotalSales": "761.04",
                                    "MovingThreeMonthAvgSales": "896.216666"
                                },
                                {
                                    "Category": "Whls_Grocery",
                                    "TransactionMonth": "2021-02-28",
                                    "TotalSales": "1448.30",
                                    "MovingThreeMonthAvgSales": "1061.863333"
                                },
                                {
                                    "Category": "Whls_Grocery",
                                    "TransactionMonth": "2021-03-31",
                                    "TotalSales": "1247.32",
                                    "MovingThreeMonthAvgSales": "1152.220000"
                                },
                                {
                                    "Category": "Whls_Grocery",
                                    "TransactionMonth": "2021-04-30",
                                    "TotalSales": "1737.27",
                                    "MovingThreeMonthAvgSales": "1477.630000"
                                },
                                {
                                    "Category": "Whls_Grocery",
                                    "TransactionMonth": "2021-05-31",
                                    "TotalSales": "1191.62",
                                    "MovingThreeMonthAvgSales": "1392.070000"
                                },
                                {
                                    "Category": "Whls_Grocery",
                                    "TransactionMonth": "2021-06-30",
                                    "TotalSales": "674.11",
                                    "MovingThreeMonthAvgSales": "1201.000000"
                                },
                                {
                                    "Category": "Whls_Grocery",
                                    "TransactionMonth": "2021-07-31",
                                    "TotalSales": "1859.21",
                                    "MovingThreeMonthAvgSales": "1241.646666"
                                },
                                {
                                    "Category": "Whls_Grocery",
                                    "TransactionMonth": "2021-08-31",
                                    "TotalSales": "374.96",
                                    "MovingThreeMonthAvgSales": "969.426666"
                                },
                                {
                                    "Category": "Whls_Grocery",
                                    "TransactionMonth": "2021-09-30",
                                    "TotalSales": "1285.69",
                                    "MovingThreeMonthAvgSales": "1173.286666"
                                },
                                {
                                    "Category": "Whls_Grocery",
                                    "TransactionMonth": "2021-10-31",
                                    "TotalSales": "1727.47",
                                    "MovingThreeMonthAvgSales": "1129.373333"
                                },
                                {
                                    "Category": "Whls_Grocery",
                                    "TransactionMonth": "2021-11-30",
                                    "TotalSales": "1202.19",
                                    "MovingThreeMonthAvgSales": "1405.116666"
                                },
                                {
                                    "Category": "Whls_Grocery",
                                    "TransactionMonth": "2021-12-31",
                                    "TotalSales": "1498.95",
                                    "MovingThreeMonthAvgSales": "1476.203333"
                                },
                                {
                                    "Category": "Whls_Selling Supplies",
                                    "TransactionMonth": "2021-08-31",
                                    "TotalSales": "166.47",
                                    "MovingThreeMonthAvgSales": "166.470000"
                                },
                                {
                                    "Category": "Whls_Selling Supplies",
                                    "TransactionMonth": "2021-09-30",
                                    "TotalSales": "80.02",
                                    "MovingThreeMonthAvgSales": "123.245000"
                                }
                            ]
                        },
                        "text/html": "<table><tr><th>Category</th><th>TransactionMonth</th><th>TotalSales</th><th>MovingThreeMonthAvgSales</th></tr><tr><td>Accessories</td><td>2019-02-28</td><td>742.06</td><td>742.060000</td></tr><tr><td>Accessories</td><td>2019-03-31</td><td>752.48</td><td>747.270000</td></tr><tr><td>Accessories</td><td>2019-04-30</td><td>903.54</td><td>799.360000</td></tr><tr><td>Accessories</td><td>2019-05-31</td><td>1094.00</td><td>916.673333</td></tr><tr><td>Accessories</td><td>2019-06-30</td><td>1100.73</td><td>1032.756666</td></tr><tr><td>Accessories</td><td>2019-07-31</td><td>1003.34</td><td>1066.023333</td></tr><tr><td>Accessories</td><td>2019-08-31</td><td>940.90</td><td>1014.990000</td></tr><tr><td>Accessories</td><td>2019-09-30</td><td>1073.68</td><td>1005.973333</td></tr><tr><td>Accessories</td><td>2019-10-31</td><td>1048.93</td><td>1021.170000</td></tr><tr><td>Accessories</td><td>2019-11-30</td><td>978.33</td><td>1033.646666</td></tr><tr><td>Accessories</td><td>2019-12-31</td><td>1116.51</td><td>1047.923333</td></tr><tr><td>Accessories</td><td>2020-01-31</td><td>1175.60</td><td>1090.146666</td></tr><tr><td>Accessories</td><td>2020-02-29</td><td>738.12</td><td>1010.076666</td></tr><tr><td>Accessories</td><td>2020-03-31</td><td>1138.63</td><td>1017.450000</td></tr><tr><td>Accessories</td><td>2020-04-30</td><td>570.15</td><td>815.633333</td></tr><tr><td>Accessories</td><td>2020-05-31</td><td>642.02</td><td>783.600000</td></tr><tr><td>Accessories</td><td>2020-06-30</td><td>630.15</td><td>614.106666</td></tr><tr><td>Accessories</td><td>2020-07-31</td><td>1432.05</td><td>901.406666</td></tr><tr><td>Accessories</td><td>2020-08-31</td><td>1566.48</td><td>1209.560000</td></tr><tr><td>Accessories</td><td>2020-09-30</td><td>1527.68</td><td>1508.736666</td></tr><tr><td>Accessories</td><td>2020-10-31</td><td>1507.44</td><td>1533.866666</td></tr><tr><td>Accessories</td><td>2020-11-30</td><td>1898.25</td><td>1644.456666</td></tr><tr><td>Accessories</td><td>2020-12-31</td><td>2543.22</td><td>1982.970000</td></tr><tr><td>Accessories</td><td>2021-01-31</td><td>2785.38</td><td>2408.950000</td></tr><tr><td>Accessories</td><td>2021-02-28</td><td>2468.48</td><td>2599.026666</td></tr><tr><td>Accessories</td><td>2021-03-31</td><td>1980.07</td><td>2411.310000</td></tr><tr><td>Accessories</td><td>2021-04-30</td><td>2046.72</td><td>2165.090000</td></tr><tr><td>Accessories</td><td>2021-05-31</td><td>1851.93</td><td>1959.573333</td></tr><tr><td>Accessories</td><td>2021-06-30</td><td>1406.68</td><td>1768.443333</td></tr><tr><td>Accessories</td><td>2021-07-31</td><td>1388.45</td><td>1549.020000</td></tr><tr><td>Accessories</td><td>2021-08-31</td><td>1487.14</td><td>1427.423333</td></tr><tr><td>Accessories</td><td>2021-09-30</td><td>1523.85</td><td>1466.480000</td></tr><tr><td>Accessories</td><td>2021-10-31</td><td>1465.52</td><td>1492.170000</td></tr><tr><td>Accessories</td><td>2021-11-30</td><td>1460.29</td><td>1483.220000</td></tr><tr><td>Accessories</td><td>2021-12-31</td><td>2097.21</td><td>1674.340000</td></tr><tr><td>Body Care</td><td>2019-02-28</td><td>2624.92</td><td>2624.920000</td></tr><tr><td>Body Care</td><td>2019-03-31</td><td>2544.82</td><td>2584.870000</td></tr><tr><td>Body Care</td><td>2019-04-30</td><td>2429.24</td><td>2532.993333</td></tr><tr><td>Body Care</td><td>2019-05-31</td><td>3537.36</td><td>2837.140000</td></tr><tr><td>Body Care</td><td>2019-06-30</td><td>3367.33</td><td>3111.310000</td></tr><tr><td>Body Care</td><td>2019-07-31</td><td>3557.08</td><td>3487.256666</td></tr><tr><td>Body Care</td><td>2019-08-31</td><td>3914.50</td><td>3612.970000</td></tr><tr><td>Body Care</td><td>2019-09-30</td><td>3686.71</td><td>3719.430000</td></tr><tr><td>Body Care</td><td>2019-10-31</td><td>3707.63</td><td>3769.613333</td></tr><tr><td>Body Care</td><td>2019-11-30</td><td>4093.80</td><td>3829.380000</td></tr><tr><td>Body Care</td><td>2019-12-31</td><td>3888.16</td><td>3896.530000</td></tr><tr><td>Body Care</td><td>2020-01-31</td><td>5801.42</td><td>4594.460000</td></tr><tr><td>Body Care</td><td>2020-02-29</td><td>4493.73</td><td>4727.770000</td></tr><tr><td>Body Care</td><td>2020-03-31</td><td>4926.80</td><td>5073.983333</td></tr><tr><td>Body Care</td><td>2020-04-30</td><td>4239.50</td><td>4553.343333</td></tr><tr><td>Body Care</td><td>2020-05-31</td><td>4238.19</td><td>4468.163333</td></tr><tr><td>Body Care</td><td>2020-06-30</td><td>4493.05</td><td>4323.580000</td></tr><tr><td>Body Care</td><td>2020-07-31</td><td>5701.65</td><td>4810.963333</td></tr><tr><td>Body Care</td><td>2020-08-31</td><td>6862.75</td><td>5685.816666</td></tr><tr><td>Body Care</td><td>2020-09-30</td><td>6678.22</td><td>6414.206666</td></tr><tr><td>Body Care</td><td>2020-10-31</td><td>6423.07</td><td>6654.680000</td></tr><tr><td>Body Care</td><td>2020-11-30</td><td>6125.61</td><td>6408.966666</td></tr><tr><td>Body Care</td><td>2020-12-31</td><td>6859.50</td><td>6469.393333</td></tr><tr><td>Body Care</td><td>2021-01-31</td><td>6557.27</td><td>6514.126666</td></tr><tr><td>Body Care</td><td>2021-02-28</td><td>6766.08</td><td>6727.616666</td></tr><tr><td>Body Care</td><td>2021-03-31</td><td>6170.15</td><td>6497.833333</td></tr><tr><td>Body Care</td><td>2021-04-30</td><td>6472.60</td><td>6469.610000</td></tr><tr><td>Body Care</td><td>2021-05-31</td><td>6558.58</td><td>6400.443333</td></tr><tr><td>Body Care</td><td>2021-06-30</td><td>6123.15</td><td>6384.776666</td></tr><tr><td>Body Care</td><td>2021-07-31</td><td>6465.81</td><td>6382.513333</td></tr><tr><td>Body Care</td><td>2021-08-31</td><td>6614.70</td><td>6401.220000</td></tr><tr><td>Body Care</td><td>2021-09-30</td><td>4886.87</td><td>5989.126666</td></tr><tr><td>Body Care</td><td>2021-10-31</td><td>5489.42</td><td>5663.663333</td></tr><tr><td>Body Care</td><td>2021-11-30</td><td>4964.23</td><td>5113.506666</td></tr><tr><td>Body Care</td><td>2021-12-31</td><td>4703.29</td><td>5052.313333</td></tr><tr><td>Cleaning Supply</td><td>2019-02-28</td><td>743.04</td><td>743.040000</td></tr><tr><td>Cleaning Supply</td><td>2019-03-31</td><td>1360.54</td><td>1051.790000</td></tr><tr><td>Cleaning Supply</td><td>2019-04-30</td><td>1173.74</td><td>1092.440000</td></tr><tr><td>Cleaning Supply</td><td>2019-05-31</td><td>1233.51</td><td>1255.930000</td></tr><tr><td>Cleaning Supply</td><td>2019-06-30</td><td>1768.14</td><td>1391.796666</td></tr><tr><td>Cleaning Supply</td><td>2019-07-31</td><td>2022.01</td><td>1674.553333</td></tr><tr><td>Cleaning Supply</td><td>2019-08-31</td><td>2428.41</td><td>2072.853333</td></tr><tr><td>Cleaning Supply</td><td>2019-09-30</td><td>2215.92</td><td>2222.113333</td></tr><tr><td>Cleaning Supply</td><td>2019-10-31</td><td>2264.19</td><td>2302.840000</td></tr><tr><td>Cleaning Supply</td><td>2019-11-30</td><td>1663.22</td><td>2047.776666</td></tr><tr><td>Cleaning Supply</td><td>2019-12-31</td><td>2037.05</td><td>1988.153333</td></tr><tr><td>Cleaning Supply</td><td>2020-01-31</td><td>3202.50</td><td>2300.923333</td></tr><tr><td>Cleaning Supply</td><td>2020-02-29</td><td>2841.19</td><td>2693.580000</td></tr><tr><td>Cleaning Supply</td><td>2020-03-31</td><td>2605.57</td><td>2883.086666</td></tr><tr><td>Cleaning Supply</td><td>2020-04-30</td><td>1394.76</td><td>2280.506666</td></tr><tr><td>Cleaning Supply</td><td>2020-05-31</td><td>2770.05</td><td>2256.793333</td></tr><tr><td>Cleaning Supply</td><td>2020-06-30</td><td>2368.09</td><td>2177.633333</td></tr><tr><td>Cleaning Supply</td><td>2020-07-31</td><td>2819.13</td><td>2652.423333</td></tr><tr><td>Cleaning Supply</td><td>2020-08-31</td><td>3122.89</td><td>2770.036666</td></tr><tr><td>Cleaning Supply</td><td>2020-09-30</td><td>3254.34</td><td>3065.453333</td></tr><tr><td>Cleaning Supply</td><td>2020-10-31</td><td>3695.30</td><td>3357.510000</td></tr><tr><td>Cleaning Supply</td><td>2020-11-30</td><td>3356.84</td><td>3435.493333</td></tr><tr><td>Cleaning Supply</td><td>2020-12-31</td><td>3627.95</td><td>3560.030000</td></tr><tr><td>Cleaning Supply</td><td>2021-01-31</td><td>4216.49</td><td>3733.760000</td></tr><tr><td>Cleaning Supply</td><td>2021-02-28</td><td>4127.99</td><td>3990.810000</td></tr><tr><td>Cleaning Supply</td><td>2021-03-31</td><td>3608.50</td><td>3984.326666</td></tr><tr><td>Cleaning Supply</td><td>2021-04-30</td><td>4084.15</td><td>3940.213333</td></tr><tr><td>Cleaning Supply</td><td>2021-05-31</td><td>4386.27</td><td>4026.306666</td></tr><tr><td>Cleaning Supply</td><td>2021-06-30</td><td>4381.73</td><td>4284.050000</td></tr><tr><td>Cleaning Supply</td><td>2021-07-31</td><td>3819.36</td><td>4195.786666</td></tr><tr><td>Cleaning Supply</td><td>2021-08-31</td><td>4190.89</td><td>4130.660000</td></tr><tr><td>Cleaning Supply</td><td>2021-09-30</td><td>3500.73</td><td>3836.993333</td></tr><tr><td>Cleaning Supply</td><td>2021-10-31</td><td>4525.46</td><td>4072.360000</td></tr><tr><td>Cleaning Supply</td><td>2021-11-30</td><td>3920.86</td><td>3982.350000</td></tr><tr><td>Cleaning Supply</td><td>2021-12-31</td><td>3823.36</td><td>4089.893333</td></tr><tr><td>Containers</td><td>2019-02-28</td><td>637.33</td><td>637.330000</td></tr><tr><td>Containers</td><td>2019-03-31</td><td>1156.01</td><td>896.670000</td></tr><tr><td>Containers</td><td>2019-04-30</td><td>660.40</td><td>817.913333</td></tr><tr><td>Containers</td><td>2019-05-31</td><td>852.90</td><td>889.770000</td></tr><tr><td>Containers</td><td>2019-06-30</td><td>1386.14</td><td>966.480000</td></tr><tr><td>Containers</td><td>2019-07-31</td><td>848.64</td><td>1029.226666</td></tr><tr><td>Containers</td><td>2019-08-31</td><td>1093.52</td><td>1109.433333</td></tr><tr><td>Containers</td><td>2019-09-30</td><td>922.43</td><td>954.863333</td></tr><tr><td>Containers</td><td>2019-10-31</td><td>996.35</td><td>1004.100000</td></tr><tr><td>Containers</td><td>2019-11-30</td><td>1030.94</td><td>983.240000</td></tr><tr><td>Containers</td><td>2019-12-31</td><td>2138.31</td><td>1388.533333</td></tr><tr><td>Containers</td><td>2020-01-31</td><td>1307.55</td><td>1492.266666</td></tr><tr><td>Containers</td><td>2020-02-29</td><td>898.61</td><td>1448.156666</td></tr><tr><td>Containers</td><td>2020-03-31</td><td>1159.11</td><td>1121.756666</td></tr><tr><td>Containers</td><td>2020-04-30</td><td>766.65</td><td>941.456666</td></tr><tr><td>Containers</td><td>2020-05-31</td><td>1168.99</td><td>1031.583333</td></tr><tr><td>Containers</td><td>2020-06-30</td><td>645.16</td><td>860.266666</td></tr><tr><td>Containers</td><td>2020-07-31</td><td>1210.43</td><td>1008.193333</td></tr><tr><td>Containers</td><td>2020-08-31</td><td>1149.98</td><td>1001.856666</td></tr><tr><td>Containers</td><td>2020-09-30</td><td>927.84</td><td>1096.083333</td></tr><tr><td>Containers</td><td>2020-10-31</td><td>743.79</td><td>940.536666</td></tr><tr><td>Containers</td><td>2020-11-30</td><td>829.73</td><td>833.786666</td></tr><tr><td>Containers</td><td>2020-12-31</td><td>1355.86</td><td>976.460000</td></tr><tr><td>Containers</td><td>2021-01-31</td><td>997.27</td><td>1060.953333</td></tr><tr><td>Containers</td><td>2021-02-28</td><td>851.27</td><td>1068.133333</td></tr><tr><td>Containers</td><td>2021-03-31</td><td>635.11</td><td>827.883333</td></tr><tr><td>Containers</td><td>2021-04-30</td><td>838.67</td><td>775.016666</td></tr><tr><td>Containers</td><td>2021-05-31</td><td>708.23</td><td>727.336666</td></tr><tr><td>Containers</td><td>2021-06-30</td><td>609.19</td><td>718.696666</td></tr><tr><td>Containers</td><td>2021-07-31</td><td>649.88</td><td>655.766666</td></tr><tr><td>Containers</td><td>2021-08-31</td><td>606.00</td><td>621.690000</td></tr><tr><td>Containers</td><td>2021-09-30</td><td>503.17</td><td>586.350000</td></tr><tr><td>Containers</td><td>2021-10-31</td><td>637.18</td><td>582.116666</td></tr><tr><td>Containers</td><td>2021-11-30</td><td>559.01</td><td>566.453333</td></tr><tr><td>Containers</td><td>2021-12-31</td><td>759.98</td><td>652.056666</td></tr><tr><td>Events</td><td>2019-05-31</td><td>60.00</td><td>60.000000</td></tr><tr><td>Fresh Produce</td><td>2019-02-28</td><td>71.30</td><td>71.300000</td></tr><tr><td>Fresh Produce</td><td>2019-03-31</td><td>56.50</td><td>63.900000</td></tr><tr><td>Fresh Produce</td><td>2019-05-31</td><td>416.55</td><td>181.450000</td></tr><tr><td>Fresh Produce</td><td>2019-06-30</td><td>657.81</td><td>376.953333</td></tr><tr><td>Fresh Produce</td><td>2019-07-31</td><td>632.93</td><td>569.096666</td></tr><tr><td>Fresh Produce</td><td>2019-08-31</td><td>547.56</td><td>612.766666</td></tr><tr><td>Fresh Produce</td><td>2019-09-30</td><td>735.59</td><td>638.693333</td></tr><tr><td>Fresh Produce</td><td>2019-10-31</td><td>598.44</td><td>627.196666</td></tr><tr><td>Fresh Produce</td><td>2019-11-30</td><td>870.51</td><td>734.846666</td></tr><tr><td>Fresh Produce</td><td>2019-12-31</td><td>790.53</td><td>753.160000</td></tr><tr><td>Fresh Produce</td><td>2020-01-31</td><td>614.23</td><td>758.423333</td></tr><tr><td>Fresh Produce</td><td>2020-02-29</td><td>567.50</td><td>657.420000</td></tr><tr><td>Fresh Produce</td><td>2020-03-31</td><td>1024.78</td><td>735.503333</td></tr><tr><td>Fresh Produce</td><td>2020-04-30</td><td>968.89</td><td>853.723333</td></tr><tr><td>Fresh Produce</td><td>2020-05-31</td><td>1421.66</td><td>1138.443333</td></tr><tr><td>Fresh Produce</td><td>2020-06-30</td><td>1442.75</td><td>1277.766666</td></tr><tr><td>Fresh Produce</td><td>2020-07-31</td><td>1522.19</td><td>1462.200000</td></tr><tr><td>Fresh Produce</td><td>2020-08-31</td><td>1888.23</td><td>1617.723333</td></tr><tr><td>Fresh Produce</td><td>2020-09-30</td><td>1521.18</td><td>1643.866666</td></tr><tr><td>Fresh Produce</td><td>2020-10-31</td><td>1175.59</td><td>1528.333333</td></tr><tr><td>Fresh Produce</td><td>2020-11-30</td><td>1233.42</td><td>1310.063333</td></tr><tr><td>Fresh Produce</td><td>2020-12-31</td><td>1304.09</td><td>1237.700000</td></tr><tr><td>Fresh Produce</td><td>2021-01-31</td><td>1341.94</td><td>1293.150000</td></tr><tr><td>Fresh Produce</td><td>2021-02-28</td><td>1185.98</td><td>1277.336666</td></tr><tr><td>Fresh Produce</td><td>2021-03-31</td><td>1220.25</td><td>1249.390000</td></tr><tr><td>Fresh Produce</td><td>2021-04-30</td><td>1312.48</td><td>1239.570000</td></tr><tr><td>Fresh Produce</td><td>2021-05-31</td><td>1262.85</td><td>1265.193333</td></tr><tr><td>Fresh Produce</td><td>2021-06-30</td><td>1102.66</td><td>1225.996666</td></tr><tr><td>Fresh Produce</td><td>2021-07-31</td><td>827.30</td><td>1064.270000</td></tr><tr><td>Fresh Produce</td><td>2021-08-31</td><td>1080.05</td><td>1003.336666</td></tr><tr><td>Fresh Produce</td><td>2021-09-30</td><td>653.43</td><td>853.593333</td></tr><tr><td>Fresh Produce</td><td>2021-10-31</td><td>700.10</td><td>811.193333</td></tr><tr><td>Fresh Produce</td><td>2021-11-30</td><td>448.16</td><td>600.563333</td></tr><tr><td>Fresh Produce</td><td>2021-12-31</td><td>542.99</td><td>563.750000</td></tr><tr><td>Gift Card</td><td>2019-11-30</td><td>235.00</td><td>235.000000</td></tr><tr><td>Gift Card</td><td>2020-02-29</td><td>50.00</td><td>142.500000</td></tr><tr><td>Gift Card</td><td>2020-03-31</td><td>235.00</td><td>173.333333</td></tr><tr><td>Gift Card</td><td>2020-05-31</td><td>233.00</td><td>172.666666</td></tr><tr><td>Gift Card</td><td>2020-06-30</td><td>212.78</td><td>226.926666</td></tr><tr><td>Gift Card</td><td>2020-07-31</td><td>30.00</td><td>158.593333</td></tr><tr><td>Gift Card</td><td>2020-08-31</td><td>129.77</td><td>124.183333</td></tr><tr><td>Gift Card</td><td>2020-09-30</td><td>83.25</td><td>81.006666</td></tr><tr><td>Gift Card</td><td>2020-10-31</td><td>100.00</td><td>104.340000</td></tr><tr><td>Gift Card</td><td>2020-11-30</td><td>167.10</td><td>116.783333</td></tr><tr><td>Gift Card</td><td>2020-12-31</td><td>495.00</td><td>254.033333</td></tr><tr><td>Gift Card</td><td>2021-01-31</td><td>351.95</td><td>338.016666</td></tr><tr><td>Gift Card</td><td>2021-02-28</td><td>248.89</td><td>365.280000</td></tr><tr><td>Gift Card</td><td>2021-03-31</td><td>48.33</td><td>216.390000</td></tr><tr><td>Gift Card</td><td>2021-04-30</td><td>54.35</td><td>117.190000</td></tr><tr><td>Gift Card</td><td>2021-05-31</td><td>265.00</td><td>122.560000</td></tr><tr><td>Gift Card</td><td>2021-06-30</td><td>270.00</td><td>196.450000</td></tr><tr><td>Gift Card</td><td>2021-07-31</td><td>115.00</td><td>216.666666</td></tr><tr><td>Gift Card</td><td>2021-08-31</td><td>225.00</td><td>203.333333</td></tr><tr><td>Gift Card</td><td>2021-09-30</td><td>175.00</td><td>171.666666</td></tr><tr><td>Gift Card</td><td>2021-10-31</td><td>190.00</td><td>196.666666</td></tr><tr><td>Gift Card</td><td>2021-11-30</td><td>115.00</td><td>160.000000</td></tr><tr><td>Gift Card</td><td>2021-12-31</td><td>985.29</td><td>430.096666</td></tr><tr><td>Grab &amp; Go</td><td>2019-02-28</td><td>969.85</td><td>969.850000</td></tr><tr><td>Grab &amp; Go</td><td>2019-03-31</td><td>1047.91</td><td>1008.880000</td></tr><tr><td>Grab &amp; Go</td><td>2019-04-30</td><td>848.82</td><td>955.526666</td></tr><tr><td>Grab &amp; Go</td><td>2019-05-31</td><td>645.78</td><td>847.503333</td></tr><tr><td>Grab &amp; Go</td><td>2019-06-30</td><td>438.68</td><td>644.426666</td></tr><tr><td>Grab &amp; Go</td><td>2019-07-31</td><td>392.17</td><td>492.210000</td></tr><tr><td>Grab &amp; Go</td><td>2019-08-31</td><td>396.75</td><td>409.200000</td></tr><tr><td>Grab &amp; Go</td><td>2019-09-30</td><td>183.62</td><td>324.180000</td></tr><tr><td>Grab &amp; Go</td><td>2019-10-31</td><td>160.87</td><td>247.080000</td></tr><tr><td>Grab &amp; Go</td><td>2019-11-30</td><td>156.94</td><td>167.143333</td></tr><tr><td>Grab &amp; Go</td><td>2019-12-31</td><td>6.58</td><td>108.130000</td></tr><tr><td>Grab &amp; Go</td><td>2020-01-31</td><td>116.80</td><td>93.440000</td></tr><tr><td>Grab &amp; Go</td><td>2020-02-29</td><td>266.85</td><td>130.076666</td></tr><tr><td>Grab &amp; Go</td><td>2020-03-31</td><td>212.04</td><td>198.563333</td></tr><tr><td>Grab &amp; Go</td><td>2020-04-30</td><td>194.37</td><td>224.420000</td></tr><tr><td>Grab &amp; Go</td><td>2020-05-31</td><td>70.68</td><td>159.030000</td></tr><tr><td>Grab &amp; Go</td><td>2020-06-30</td><td>5.89</td><td>90.313333</td></tr><tr><td>Grab &amp; Go</td><td>2020-09-30</td><td>3.49</td><td>26.686666</td></tr><tr><td>Grab &amp; Go</td><td>2020-12-31</td><td>330.00</td><td>113.126666</td></tr><tr><td>Grab &amp; Go</td><td>2021-01-31</td><td>170.00</td><td>167.830000</td></tr><tr><td>Grab &amp; Go</td><td>2021-02-28</td><td>150.00</td><td>216.666666</td></tr><tr><td>Grab &amp; Go</td><td>2021-03-31</td><td>170.00</td><td>163.333333</td></tr><tr><td>Grab &amp; Go</td><td>2021-04-30</td><td>130.00</td><td>150.000000</td></tr><tr><td>Grab &amp; Go</td><td>2021-05-31</td><td>190.00</td><td>163.333333</td></tr><tr><td>Grab &amp; Go</td><td>2021-06-30</td><td>130.00</td><td>150.000000</td></tr><tr><td>Grab &amp; Go</td><td>2021-07-31</td><td>160.00</td><td>160.000000</td></tr><tr><td>Grab &amp; Go</td><td>2021-08-31</td><td>20.00</td><td>103.333333</td></tr><tr><td>Grab &amp; Go</td><td>2021-09-30</td><td>70.00</td><td>83.333333</td></tr><tr><td>Grab &amp; Go</td><td>2021-10-31</td><td>170.00</td><td>86.666666</td></tr><tr><td>Grab &amp; Go</td><td>2021-11-30</td><td>290.00</td><td>176.666666</td></tr><tr><td>Grab &amp; Go</td><td>2021-12-31</td><td>300.00</td><td>253.333333</td></tr><tr><td>Grocery</td><td>2019-02-28</td><td>7022.09</td><td>7022.090000</td></tr><tr><td>Grocery</td><td>2019-03-31</td><td>9651.72</td><td>8336.905000</td></tr><tr><td>Grocery</td><td>2019-04-30</td><td>7351.95</td><td>8008.586666</td></tr><tr><td>Grocery</td><td>2019-05-31</td><td>11444.63</td><td>9482.766666</td></tr><tr><td>Grocery</td><td>2019-06-30</td><td>11608.64</td><td>10135.073333</td></tr><tr><td>Grocery</td><td>2019-07-31</td><td>12046.66</td><td>11699.976666</td></tr><tr><td>Grocery</td><td>2019-08-31</td><td>11712.82</td><td>11789.373333</td></tr><tr><td>Grocery</td><td>2019-09-30</td><td>12391.25</td><td>12050.243333</td></tr><tr><td>Grocery</td><td>2019-10-31</td><td>13053.58</td><td>12385.883333</td></tr><tr><td>Grocery</td><td>2019-11-30</td><td>12989.01</td><td>12811.280000</td></tr><tr><td>Grocery</td><td>2019-12-31</td><td>14680.62</td><td>13574.403333</td></tr><tr><td>Grocery</td><td>2020-01-31</td><td>17644.35</td><td>15104.660000</td></tr><tr><td>Grocery</td><td>2020-02-29</td><td>15931.29</td><td>16085.420000</td></tr><tr><td>Grocery</td><td>2020-03-31</td><td>23646.41</td><td>19074.016666</td></tr><tr><td>Grocery</td><td>2020-04-30</td><td>17246.70</td><td>18941.466666</td></tr><tr><td>Grocery</td><td>2020-05-31</td><td>16442.13</td><td>19111.746666</td></tr><tr><td>Grocery</td><td>2020-06-30</td><td>16992.14</td><td>16893.656666</td></tr><tr><td>Grocery</td><td>2020-07-31</td><td>18415.17</td><td>17283.146666</td></tr><tr><td>Grocery</td><td>2020-08-31</td><td>20436.31</td><td>18614.540000</td></tr><tr><td>Grocery</td><td>2020-09-30</td><td>19431.01</td><td>19427.496666</td></tr><tr><td>Grocery</td><td>2020-10-31</td><td>22111.67</td><td>20659.663333</td></tr><tr><td>Grocery</td><td>2020-11-30</td><td>19866.85</td><td>20469.843333</td></tr><tr><td>Grocery</td><td>2020-12-31</td><td>21918.91</td><td>21299.143333</td></tr><tr><td>Grocery</td><td>2021-01-31</td><td>26797.69</td><td>22861.150000</td></tr><tr><td>Grocery</td><td>2021-02-28</td><td>25228.28</td><td>24648.293333</td></tr><tr><td>Grocery</td><td>2021-03-31</td><td>24731.22</td><td>25585.730000</td></tr><tr><td>Grocery</td><td>2021-04-30</td><td>24633.43</td><td>24864.310000</td></tr><tr><td>Grocery</td><td>2021-05-31</td><td>22357.29</td><td>23907.313333</td></tr><tr><td>Grocery</td><td>2021-06-30</td><td>20627.91</td><td>22539.543333</td></tr><tr><td>Grocery</td><td>2021-07-31</td><td>16927.03</td><td>19970.743333</td></tr><tr><td>Grocery</td><td>2021-08-31</td><td>17909.60</td><td>18488.180000</td></tr><tr><td>Grocery</td><td>2021-09-30</td><td>15148.18</td><td>16661.603333</td></tr><tr><td>Grocery</td><td>2021-10-31</td><td>18285.85</td><td>17114.543333</td></tr><tr><td>Grocery</td><td>2021-11-30</td><td>18174.62</td><td>17202.883333</td></tr><tr><td>Grocery</td><td>2021-12-31</td><td>16551.49</td><td>17670.653333</td></tr><tr><td>Holiday Popup</td><td>2019-12-31</td><td>715.00</td><td>715.000000</td></tr><tr><td>Local Love</td><td>2019-02-28</td><td>2016.13</td><td>2016.130000</td></tr><tr><td>Local Love</td><td>2019-03-31</td><td>3604.46</td><td>2810.295000</td></tr><tr><td>Local Love</td><td>2019-04-30</td><td>3503.27</td><td>3041.286666</td></tr><tr><td>Local Love</td><td>2019-05-31</td><td>4444.36</td><td>3850.696666</td></tr><tr><td>Local Love</td><td>2019-06-30</td><td>4146.55</td><td>4031.393333</td></tr><tr><td>Local Love</td><td>2019-07-31</td><td>4065.09</td><td>4218.666666</td></tr><tr><td>Local Love</td><td>2019-08-31</td><td>3588.83</td><td>3933.490000</td></tr><tr><td>Local Love</td><td>2019-09-30</td><td>4321.79</td><td>3991.903333</td></tr><tr><td>Local Love</td><td>2019-10-31</td><td>4619.66</td><td>4176.760000</td></tr><tr><td>Local Love</td><td>2019-11-30</td><td>5032.87</td><td>4658.106666</td></tr><tr><td>Local Love</td><td>2019-12-31</td><td>4512.43</td><td>4721.653333</td></tr><tr><td>Local Love</td><td>2020-01-31</td><td>6009.14</td><td>5184.813333</td></tr><tr><td>Local Love</td><td>2020-02-29</td><td>6028.07</td><td>5516.546666</td></tr><tr><td>Local Love</td><td>2020-03-31</td><td>7256.15</td><td>6431.120000</td></tr><tr><td>Local Love</td><td>2020-04-30</td><td>5799.89</td><td>6361.370000</td></tr><tr><td>Local Love</td><td>2020-05-31</td><td>6478.62</td><td>6511.553333</td></tr><tr><td>Local Love</td><td>2020-06-30</td><td>7390.90</td><td>6556.470000</td></tr><tr><td>Local Love</td><td>2020-07-31</td><td>8303.34</td><td>7390.953333</td></tr><tr><td>Local Love</td><td>2020-08-31</td><td>9176.05</td><td>8290.096666</td></tr><tr><td>Local Love</td><td>2020-09-30</td><td>8669.26</td><td>8716.216666</td></tr><tr><td>Local Love</td><td>2020-10-31</td><td>9332.02</td><td>9059.110000</td></tr><tr><td>Local Love</td><td>2020-11-30</td><td>8339.55</td><td>8780.276666</td></tr><tr><td>Local Love</td><td>2020-12-31</td><td>13628.67</td><td>10433.413333</td></tr><tr><td>Local Love</td><td>2021-01-31</td><td>11333.45</td><td>11100.556666</td></tr><tr><td>Local Love</td><td>2021-02-28</td><td>11582.38</td><td>12181.500000</td></tr><tr><td>Local Love</td><td>2021-03-31</td><td>11233.03</td><td>11382.953333</td></tr><tr><td>Local Love</td><td>2021-04-30</td><td>10800.14</td><td>11205.183333</td></tr><tr><td>Local Love</td><td>2021-05-31</td><td>10414.59</td><td>10815.920000</td></tr><tr><td>Local Love</td><td>2021-06-30</td><td>8871.09</td><td>10028.606666</td></tr><tr><td>Local Love</td><td>2021-07-31</td><td>8327.14</td><td>9204.273333</td></tr><tr><td>Local Love</td><td>2021-08-31</td><td>8117.77</td><td>8438.666666</td></tr><tr><td>Local Love</td><td>2021-09-30</td><td>5512.41</td><td>7319.106666</td></tr><tr><td>Local Love</td><td>2021-10-31</td><td>6876.79</td><td>6835.656666</td></tr><tr><td>Local Love</td><td>2021-11-30</td><td>6359.54</td><td>6249.580000</td></tr><tr><td>Local Love</td><td>2021-12-31</td><td>7926.28</td><td>7054.203333</td></tr><tr><td>Whls_Grocery</td><td>2019-02-28</td><td>138.07</td><td>138.070000</td></tr><tr><td>Whls_Grocery</td><td>2019-03-31</td><td>775.01</td><td>456.540000</td></tr><tr><td>Whls_Grocery</td><td>2019-04-30</td><td>416.19</td><td>443.090000</td></tr><tr><td>Whls_Grocery</td><td>2019-05-31</td><td>695.89</td><td>629.030000</td></tr><tr><td>Whls_Grocery</td><td>2019-06-30</td><td>2980.35</td><td>1364.143333</td></tr><tr><td>Whls_Grocery</td><td>2019-07-31</td><td>2856.02</td><td>2177.420000</td></tr><tr><td>Whls_Grocery</td><td>2019-08-31</td><td>1683.67</td><td>2506.680000</td></tr><tr><td>Whls_Grocery</td><td>2019-09-30</td><td>3311.82</td><td>2617.170000</td></tr><tr><td>Whls_Grocery</td><td>2019-10-31</td><td>2918.51</td><td>2638.000000</td></tr><tr><td>Whls_Grocery</td><td>2019-11-30</td><td>1960.23</td><td>2730.186666</td></tr><tr><td>Whls_Grocery</td><td>2019-12-31</td><td>1430.11</td><td>2102.950000</td></tr><tr><td>Whls_Grocery</td><td>2020-01-31</td><td>2085.19</td><td>1825.176666</td></tr><tr><td>Whls_Grocery</td><td>2020-02-29</td><td>2004.74</td><td>1840.013333</td></tr><tr><td>Whls_Grocery</td><td>2020-03-31</td><td>2519.84</td><td>2203.256666</td></tr><tr><td>Whls_Grocery</td><td>2020-04-30</td><td>690.50</td><td>1738.360000</td></tr><tr><td>Whls_Grocery</td><td>2020-05-31</td><td>1690.38</td><td>1633.573333</td></tr><tr><td>Whls_Grocery</td><td>2020-06-30</td><td>969.05</td><td>1116.643333</td></tr><tr><td>Whls_Grocery</td><td>2020-07-31</td><td>2199.93</td><td>1619.786666</td></tr><tr><td>Whls_Grocery</td><td>2020-08-31</td><td>3266.74</td><td>2145.240000</td></tr><tr><td>Whls_Grocery</td><td>2020-09-30</td><td>1897.99</td><td>2454.886666</td></tr><tr><td>Whls_Grocery</td><td>2020-10-31</td><td>1319.49</td><td>2161.406666</td></tr><tr><td>Whls_Grocery</td><td>2020-11-30</td><td>951.36</td><td>1389.613333</td></tr><tr><td>Whls_Grocery</td><td>2020-12-31</td><td>976.25</td><td>1082.366666</td></tr><tr><td>Whls_Grocery</td><td>2021-01-31</td><td>761.04</td><td>896.216666</td></tr><tr><td>Whls_Grocery</td><td>2021-02-28</td><td>1448.30</td><td>1061.863333</td></tr><tr><td>Whls_Grocery</td><td>2021-03-31</td><td>1247.32</td><td>1152.220000</td></tr><tr><td>Whls_Grocery</td><td>2021-04-30</td><td>1737.27</td><td>1477.630000</td></tr><tr><td>Whls_Grocery</td><td>2021-05-31</td><td>1191.62</td><td>1392.070000</td></tr><tr><td>Whls_Grocery</td><td>2021-06-30</td><td>674.11</td><td>1201.000000</td></tr><tr><td>Whls_Grocery</td><td>2021-07-31</td><td>1859.21</td><td>1241.646666</td></tr><tr><td>Whls_Grocery</td><td>2021-08-31</td><td>374.96</td><td>969.426666</td></tr><tr><td>Whls_Grocery</td><td>2021-09-30</td><td>1285.69</td><td>1173.286666</td></tr><tr><td>Whls_Grocery</td><td>2021-10-31</td><td>1727.47</td><td>1129.373333</td></tr><tr><td>Whls_Grocery</td><td>2021-11-30</td><td>1202.19</td><td>1405.116666</td></tr><tr><td>Whls_Grocery</td><td>2021-12-31</td><td>1498.95</td><td>1476.203333</td></tr><tr><td>Whls_Selling Supplies</td><td>2021-08-31</td><td>166.47</td><td>166.470000</td></tr><tr><td>Whls_Selling Supplies</td><td>2021-09-30</td><td>80.02</td><td>123.245000</td></tr></table>"
                    },
                    "metadata": {}
                }
            ],
            "execution_count": 8
        },
        {
            "cell_type": "markdown",
            "source": [
                "## Product Analysis"
            ],
            "metadata": {
                "language": "sql",
                "azdata_cell_guid": "5c2c7b6c-bcb3-4f18-83a3-44b954c5698b"
            },
            "attachments": {}
        },
        {
            "cell_type": "markdown",
            "source": [
                "#### Top Selling Product Categories and % of Total Revenue"
            ],
            "metadata": {
                "language": "sql",
                "azdata_cell_guid": "35fb083f-8015-4c87-a6b4-a5456023702d"
            },
            "attachments": {}
        },
        {
            "cell_type": "code",
            "source": [
                "SELECT TOP (10)\r\n",
                "    c.Category,\r\n",
                "    SUM(l.SaleAmount) AS TotalSales,\r\n",
                "    SUM(l.SaleAmount)/\r\n",
                "        (SELECT SUM(l.SaleAmount)\r\n",
                "            FROM SalesOrderLines AS l) AS PctOfTotal,\r\n",
                "    SUM(l.PoundsSold) AS Pounds\r\n",
                "        \r\n",
                "FROM SalesOrderLines AS l\r\n",
                "    JOIN DimProducts AS p\r\n",
                "    ON l.ProductID = p.ProductID\r\n",
                "    JOIN DimSubcategories AS sc\r\n",
                "    ON p.SubcategoryID = sc.SubcategoryID\r\n",
                "    JOIN DimCategories AS c\r\n",
                "    ON sc.CategoryID = c.CategoryID\r\n",
                "\r\n",
                "GROUP BY c.Category\r\n",
                "ORDER BY SUM(l.SaleAmount) DESC"
            ],
            "metadata": {
                "language": "sql",
                "azdata_cell_guid": "0260f423-f0f1-4758-a174-afc407933073",
                "tags": []
            },
            "outputs": [
                {
                    "output_type": "display_data",
                    "data": {
                        "text/html": "(10 rows affected)"
                    },
                    "metadata": {}
                },
                {
                    "output_type": "display_data",
                    "data": {
                        "text/html": "Total execution time: 00:00:00.318"
                    },
                    "metadata": {}
                },
                {
                    "output_type": "execute_result",
                    "execution_count": 9,
                    "data": {
                        "application/vnd.dataresource+json": {
                            "schema": {
                                "fields": [
                                    {
                                        "name": "Category"
                                    },
                                    {
                                        "name": "TotalSales"
                                    },
                                    {
                                        "name": "PctOfTotal"
                                    },
                                    {
                                        "name": "Pounds"
                                    }
                                ]
                            },
                            "data": [
                                {
                                    "Category": "Grocery",
                                    "TotalSales": "601408.50",
                                    "PctOfTotal": "0.459511",
                                    "Pounds": "113692.8352"
                                },
                                {
                                    "Category": "Local Love",
                                    "TotalSales": "247621.71",
                                    "PctOfTotal": "0.189197",
                                    "Pounds": "22297.8726"
                                },
                                {
                                    "Category": "Body Care",
                                    "TotalSales": "175967.19",
                                    "PctOfTotal": "0.134449",
                                    "Pounds": "18400.5515"
                                },
                                {
                                    "Category": "Cleaning Supply",
                                    "TotalSales": "102554.17",
                                    "PctOfTotal": "0.078357",
                                    "Pounds": "34619.2360"
                                },
                                {
                                    "Category": "Whls_Grocery",
                                    "TotalSales": "54745.46",
                                    "PctOfTotal": "0.041828",
                                    "Pounds": "158.9267"
                                },
                                {
                                    "Category": "Accessories",
                                    "TotalSales": "48086.01",
                                    "PctOfTotal": "0.036740",
                                    "Pounds": "0.0000"
                                },
                                {
                                    "Category": "Containers",
                                    "TotalSales": "32241.63",
                                    "PctOfTotal": "0.024634",
                                    "Pounds": "0.0000"
                                },
                                {
                                    "Category": "Fresh Produce",
                                    "TotalSales": "31740.42",
                                    "PctOfTotal": "0.024251",
                                    "Pounds": "11591.3426"
                                },
                                {
                                    "Category": "Grab & Go",
                                    "TotalSales": "8398.09",
                                    "PctOfTotal": "0.006416",
                                    "Pounds": "0.0000"
                                },
                                {
                                    "Category": "Gift Card",
                                    "TotalSales": "5014.71",
                                    "PctOfTotal": "0.003831",
                                    "Pounds": "0.0000"
                                }
                            ]
                        },
                        "text/html": "<table><tr><th>Category</th><th>TotalSales</th><th>PctOfTotal</th><th>Pounds</th></tr><tr><td>Grocery</td><td>601408.50</td><td>0.459511</td><td>113692.8352</td></tr><tr><td>Local Love</td><td>247621.71</td><td>0.189197</td><td>22297.8726</td></tr><tr><td>Body Care</td><td>175967.19</td><td>0.134449</td><td>18400.5515</td></tr><tr><td>Cleaning Supply</td><td>102554.17</td><td>0.078357</td><td>34619.2360</td></tr><tr><td>Whls_Grocery</td><td>54745.46</td><td>0.041828</td><td>158.9267</td></tr><tr><td>Accessories</td><td>48086.01</td><td>0.036740</td><td>0.0000</td></tr><tr><td>Containers</td><td>32241.63</td><td>0.024634</td><td>0.0000</td></tr><tr><td>Fresh Produce</td><td>31740.42</td><td>0.024251</td><td>11591.3426</td></tr><tr><td>Grab &amp; Go</td><td>8398.09</td><td>0.006416</td><td>0.0000</td></tr><tr><td>Gift Card</td><td>5014.71</td><td>0.003831</td><td>0.0000</td></tr></table>"
                    },
                    "metadata": {}
                }
            ],
            "execution_count": 9
        },
        {
            "cell_type": "markdown",
            "source": [
                "#### Top Selling Product Subcategories and % of Total Revenue"
            ],
            "metadata": {
                "language": "sql",
                "azdata_cell_guid": "63e717be-1198-413f-8fdd-20ab3cd7bb9b"
            },
            "attachments": {}
        },
        {
            "cell_type": "code",
            "source": [
                "SELECT TOP (10)\r\n",
                "    sc.Subcategory,\r\n",
                "    c.Category,\r\n",
                "    SUM(l.SaleAmount) AS TotalSales,\r\n",
                "    SUM(l.SaleAmount)/\r\n",
                "        (SELECT SUM(l.SaleAmount)\r\n",
                "            FROM SalesOrderLines AS l) AS PctOfTotal,\r\n",
                "    SUM(l.PoundsSold) AS PoundsSold\r\n",
                "\r\n",
                "FROM SalesOrderLines AS l\r\n",
                "    JOIN DimProducts AS p\r\n",
                "    ON l.ProductID = p.ProductID\r\n",
                "    JOIN DimSubcategories AS sc\r\n",
                "    ON p.SubcategoryID = sc.SubcategoryID\r\n",
                "    JOIN DimCategories AS c\r\n",
                "    ON sc.CategoryID = c.CategoryID\r\n",
                "\r\n",
                "GROUP BY sc.Subcategory, c.Category\r\n",
                "ORDER BY SUM(l.SaleAmount) DESC"
            ],
            "metadata": {
                "language": "sql",
                "azdata_cell_guid": "a9eafc57-ded1-4077-929d-25a6d7bef7bf",
                "tags": []
            },
            "outputs": [
                {
                    "output_type": "display_data",
                    "data": {
                        "text/html": "(10 rows affected)"
                    },
                    "metadata": {}
                },
                {
                    "output_type": "display_data",
                    "data": {
                        "text/html": "Total execution time: 00:00:00.265"
                    },
                    "metadata": {}
                },
                {
                    "output_type": "execute_result",
                    "execution_count": 30,
                    "data": {
                        "application/vnd.dataresource+json": {
                            "schema": {
                                "fields": [
                                    {
                                        "name": "Subcategory"
                                    },
                                    {
                                        "name": "Category"
                                    },
                                    {
                                        "name": "TotalSales"
                                    },
                                    {
                                        "name": "PctOfTotal"
                                    },
                                    {
                                        "name": "PoundsSold"
                                    }
                                ]
                            },
                            "data": [
                                {
                                    "Subcategory": "Nuts",
                                    "Category": "Grocery",
                                    "TotalSales": "98596.61",
                                    "PctOfTotal": "0.075333",
                                    "PoundsSold": "10184.2660"
                                },
                                {
                                    "Subcategory": "Body Cleansing",
                                    "Category": "Body Care",
                                    "TotalSales": "70617.06",
                                    "PctOfTotal": "0.053955",
                                    "PoundsSold": "9056.6701"
                                },
                                {
                                    "Subcategory": "Seeds And Grains",
                                    "Category": "Grocery",
                                    "TotalSales": "67660.29",
                                    "PctOfTotal": "0.051696",
                                    "PoundsSold": "22878.4230"
                                },
                                {
                                    "Subcategory": "Oils",
                                    "Category": "Grocery",
                                    "TotalSales": "66665.40",
                                    "PctOfTotal": "0.050936",
                                    "PoundsSold": "9088.6121"
                                },
                                {
                                    "Subcategory": "Laundry Cleaners",
                                    "Category": "Cleaning Supply",
                                    "TotalSales": "54217.30",
                                    "PctOfTotal": "0.041425",
                                    "PoundsSold": "15378.9517"
                                },
                                {
                                    "Subcategory": "Dried Fruits",
                                    "Category": "Grocery",
                                    "TotalSales": "42389.19",
                                    "PctOfTotal": "0.032387",
                                    "PoundsSold": "4954.7091"
                                },
                                {
                                    "Subcategory": "Sweeteners",
                                    "Category": "Grocery",
                                    "TotalSales": "42159.78",
                                    "PctOfTotal": "0.032212",
                                    "PoundsSold": "10885.4690"
                                },
                                {
                                    "Subcategory": "Kombucha",
                                    "Category": "Local Love",
                                    "TotalSales": "41918.87",
                                    "PctOfTotal": "0.032028",
                                    "PoundsSold": "9299.1563"
                                },
                                {
                                    "Subcategory": "Hair Care",
                                    "Category": "Body Care",
                                    "TotalSales": "40704.96",
                                    "PctOfTotal": "0.031100",
                                    "PoundsSold": "4818.4105"
                                },
                                {
                                    "Subcategory": "Dairy",
                                    "Category": "Grocery",
                                    "TotalSales": "39807.90",
                                    "PctOfTotal": "0.030415",
                                    "PoundsSold": "290.0458"
                                }
                            ]
                        },
                        "text/html": "<table><tr><th>Subcategory</th><th>Category</th><th>TotalSales</th><th>PctOfTotal</th><th>PoundsSold</th></tr><tr><td>Nuts</td><td>Grocery</td><td>98596.61</td><td>0.075333</td><td>10184.2660</td></tr><tr><td>Body Cleansing</td><td>Body Care</td><td>70617.06</td><td>0.053955</td><td>9056.6701</td></tr><tr><td>Seeds And Grains</td><td>Grocery</td><td>67660.29</td><td>0.051696</td><td>22878.4230</td></tr><tr><td>Oils</td><td>Grocery</td><td>66665.40</td><td>0.050936</td><td>9088.6121</td></tr><tr><td>Laundry Cleaners</td><td>Cleaning Supply</td><td>54217.30</td><td>0.041425</td><td>15378.9517</td></tr><tr><td>Dried Fruits</td><td>Grocery</td><td>42389.19</td><td>0.032387</td><td>4954.7091</td></tr><tr><td>Sweeteners</td><td>Grocery</td><td>42159.78</td><td>0.032212</td><td>10885.4690</td></tr><tr><td>Kombucha</td><td>Local Love</td><td>41918.87</td><td>0.032028</td><td>9299.1563</td></tr><tr><td>Hair Care</td><td>Body Care</td><td>40704.96</td><td>0.031100</td><td>4818.4105</td></tr><tr><td>Dairy</td><td>Grocery</td><td>39807.90</td><td>0.030415</td><td>290.0458</td></tr></table>"
                    },
                    "metadata": {}
                }
            ],
            "execution_count": 30
        },
        {
            "cell_type": "markdown",
            "source": [
                "#### Top Selling Products and % of Total Revenue"
            ],
            "metadata": {
                "language": "sql",
                "azdata_cell_guid": "3574f7f6-e3ce-4b68-b454-66b873f79e1f"
            },
            "attachments": {}
        },
        {
            "cell_type": "code",
            "source": [
                "SELECT TOP(20)\r\n",
                "    p.ProductName,\r\n",
                "    sc.Subcategory,\r\n",
                "    c.Category,\r\n",
                "    SUM(l.SaleAmount) AS TotalSales,\r\n",
                "    \r\n",
                "    SUM(l.SaleAmount)/\r\n",
                "        (SELECT SUM(l.SaleAmount)\r\n",
                "            FROM SalesOrderLines AS l) AS PctOfTotal,\r\n",
                "\r\n",
                "            \r\n",
                "    SUM(l.PoundsSold) AS PoundsSold\r\n",
                "\r\n",
                "FROM SalesOrderLines AS l\r\n",
                "    JOIN DimProducts AS p\r\n",
                "    ON l.ProductID = p.ProductID\r\n",
                "    JOIN DimSubcategories AS sc\r\n",
                "    ON p.SubcategoryID = sc.SubcategoryID\r\n",
                "    JOIN DimCategories AS c\r\n",
                "    ON sc.CategoryID = c.CategoryID\r\n",
                "\r\n",
                "GROUP BY p.ProductName, sc.Subcategory, c.Category\r\n",
                "ORDER BY SUM(l.SaleAmount) DESC    \r\n",
                ""
            ],
            "metadata": {
                "language": "sql",
                "azdata_cell_guid": "b97eabc7-d13a-4f50-9d5c-1ee1c0ac2ad4",
                "tags": []
            },
            "outputs": [
                {
                    "output_type": "display_data",
                    "data": {
                        "text/html": "(20 rows affected)"
                    },
                    "metadata": {}
                },
                {
                    "output_type": "display_data",
                    "data": {
                        "text/html": "Total execution time: 00:00:00.299"
                    },
                    "metadata": {}
                },
                {
                    "output_type": "execute_result",
                    "execution_count": 31,
                    "data": {
                        "application/vnd.dataresource+json": {
                            "schema": {
                                "fields": [
                                    {
                                        "name": "ProductName"
                                    },
                                    {
                                        "name": "Subcategory"
                                    },
                                    {
                                        "name": "Category"
                                    },
                                    {
                                        "name": "TotalSales"
                                    },
                                    {
                                        "name": "PctOfTotal"
                                    },
                                    {
                                        "name": "PoundsSold"
                                    }
                                ]
                            },
                            "data": [
                                {
                                    "ProductName": "Olive Oil - Extra Virgin ORG",
                                    "Subcategory": "Oils",
                                    "Category": "Grocery",
                                    "TotalSales": "45039.15",
                                    "PctOfTotal": "0.034412",
                                    "PoundsSold": "6536.8858"
                                },
                                {
                                    "ProductName": "Coffee - The Bean Whole",
                                    "Subcategory": "The Bean Whole",
                                    "Category": "Local Love",
                                    "TotalSales": "35283.34",
                                    "PctOfTotal": "0.026958",
                                    "PoundsSold": "2220.4735"
                                },
                                {
                                    "ProductName": "CRU Kombucha",
                                    "Subcategory": "Kombucha",
                                    "Category": "Local Love",
                                    "TotalSales": "28571.28",
                                    "PctOfTotal": "0.021830",
                                    "PoundsSold": "6613.7230"
                                },
                                {
                                    "ProductName": "Raw Cashews ORG",
                                    "Subcategory": "Nuts",
                                    "Category": "Grocery",
                                    "TotalSales": "23603.48",
                                    "PctOfTotal": "0.018034",
                                    "PoundsSold": "2109.3352"
                                },
                                {
                                    "ProductName": "Coffee - Hugo Coffee",
                                    "Subcategory": "Hugo Coffee",
                                    "Category": "Local Love",
                                    "TotalSales": "23451.72",
                                    "PctOfTotal": "0.017918",
                                    "PoundsSold": "1688.3915"
                                },
                                {
                                    "ProductName": "Maple Syrup ORG",
                                    "Subcategory": "Sweeteners",
                                    "Category": "Grocery",
                                    "TotalSales": "22980.91",
                                    "PctOfTotal": "0.017558",
                                    "PoundsSold": "2233.3252"
                                },
                                {
                                    "ProductName": "Raw Almonds ORG",
                                    "Subcategory": "Nuts",
                                    "Category": "Grocery",
                                    "TotalSales": "20475.71",
                                    "PctOfTotal": "0.015644",
                                    "PoundsSold": "1675.5883"
                                },
                                {
                                    "ProductName": "Eggs ORG",
                                    "Subcategory": "Dairy",
                                    "Category": "Grocery",
                                    "TotalSales": "20091.05",
                                    "PctOfTotal": "0.015350",
                                    "PoundsSold": "0.0000"
                                },
                                {
                                    "ProductName": "Sapadilla Hand Soap",
                                    "Subcategory": "Body Cleansing",
                                    "Category": "Body Care",
                                    "TotalSales": "19389.01",
                                    "PctOfTotal": "0.014814",
                                    "PoundsSold": "3188.9807"
                                },
                                {
                                    "ProductName": "Milk Honey Yogurt",
                                    "Subcategory": "Milk Honey Yogurt",
                                    "Category": "Local Love",
                                    "TotalSales": "18611.99",
                                    "PctOfTotal": "0.014220",
                                    "PoundsSold": "3159.9311"
                                },
                                {
                                    "ProductName": "Dropps Dishwasher Pods",
                                    "Subcategory": "Dishsoaps",
                                    "Category": "Cleaning Supply",
                                    "TotalSales": "18019.85",
                                    "PctOfTotal": "0.013768",
                                    "PoundsSold": "1696.7912"
                                },
                                {
                                    "ProductName": "Almond Butter / Diced Almonds",
                                    "Subcategory": "Nuts",
                                    "Category": "Grocery",
                                    "TotalSales": "17860.43",
                                    "PctOfTotal": "0.013646",
                                    "PoundsSold": "2356.2550"
                                },
                                {
                                    "ProductName": "EcosPro Laundry Detergent - Magnolia Lily",
                                    "Subcategory": "Laundry Cleaners",
                                    "Category": "Cleaning Supply",
                                    "TotalSales": "17822.27",
                                    "PctOfTotal": "0.013617",
                                    "PoundsSold": "7921.0077"
                                },
                                {
                                    "ProductName": "WHLS- Lightlife Sausage - Case of 12",
                                    "Subcategory": "Meat Alternatives",
                                    "Category": "Whls_Grocery",
                                    "TotalSales": "17087.42",
                                    "PctOfTotal": "0.013055",
                                    "PoundsSold": "0.0000"
                                },
                                {
                                    "ProductName": "Dried Mango Cheeks ORG",
                                    "Subcategory": "Dried Fruits",
                                    "Category": "Grocery",
                                    "TotalSales": "14801.95",
                                    "PctOfTotal": "0.011309",
                                    "PoundsSold": "1217.2658"
                                },
                                {
                                    "ProductName": "Prin Ya Vegan Custard",
                                    "Subcategory": "Desserts",
                                    "Category": "Local Love",
                                    "TotalSales": "13279.56",
                                    "PctOfTotal": "0.010146",
                                    "PoundsSold": "0.0000"
                                },
                                {
                                    "ProductName": "Dropps Laundry Pods",
                                    "Subcategory": "Laundry Cleaners",
                                    "Category": "Cleaning Supply",
                                    "TotalSales": "13093.78",
                                    "PctOfTotal": "0.010004",
                                    "PoundsSold": "1260.2290"
                                },
                                {
                                    "ProductName": "Hans Kombucha",
                                    "Subcategory": "Kombucha",
                                    "Category": "Local Love",
                                    "TotalSales": "13048.23",
                                    "PctOfTotal": "0.009969",
                                    "PoundsSold": "2609.6460"
                                },
                                {
                                    "ProductName": "Avocado Oil",
                                    "Subcategory": "Oils",
                                    "Category": "Grocery",
                                    "TotalSales": "12889.06",
                                    "PctOfTotal": "0.009848",
                                    "PoundsSold": "1660.9611"
                                },
                                {
                                    "ProductName": "Dark Chocolate Chips ALLERGEN FREE ORG",
                                    "Subcategory": "Baking",
                                    "Category": "Grocery",
                                    "TotalSales": "12546.76",
                                    "PctOfTotal": "0.009586",
                                    "PoundsSold": "1408.1624"
                                }
                            ]
                        },
                        "text/html": "<table><tr><th>ProductName</th><th>Subcategory</th><th>Category</th><th>TotalSales</th><th>PctOfTotal</th><th>PoundsSold</th></tr><tr><td>Olive Oil - Extra Virgin ORG</td><td>Oils</td><td>Grocery</td><td>45039.15</td><td>0.034412</td><td>6536.8858</td></tr><tr><td>Coffee - The Bean Whole</td><td>The Bean Whole</td><td>Local Love</td><td>35283.34</td><td>0.026958</td><td>2220.4735</td></tr><tr><td>CRU Kombucha</td><td>Kombucha</td><td>Local Love</td><td>28571.28</td><td>0.021830</td><td>6613.7230</td></tr><tr><td>Raw Cashews ORG</td><td>Nuts</td><td>Grocery</td><td>23603.48</td><td>0.018034</td><td>2109.3352</td></tr><tr><td>Coffee - Hugo Coffee</td><td>Hugo Coffee</td><td>Local Love</td><td>23451.72</td><td>0.017918</td><td>1688.3915</td></tr><tr><td>Maple Syrup ORG</td><td>Sweeteners</td><td>Grocery</td><td>22980.91</td><td>0.017558</td><td>2233.3252</td></tr><tr><td>Raw Almonds ORG</td><td>Nuts</td><td>Grocery</td><td>20475.71</td><td>0.015644</td><td>1675.5883</td></tr><tr><td>Eggs ORG</td><td>Dairy</td><td>Grocery</td><td>20091.05</td><td>0.015350</td><td>0.0000</td></tr><tr><td>Sapadilla Hand Soap</td><td>Body Cleansing</td><td>Body Care</td><td>19389.01</td><td>0.014814</td><td>3188.9807</td></tr><tr><td>Milk Honey Yogurt</td><td>Milk Honey Yogurt</td><td>Local Love</td><td>18611.99</td><td>0.014220</td><td>3159.9311</td></tr><tr><td>Dropps Dishwasher Pods</td><td>Dishsoaps</td><td>Cleaning Supply</td><td>18019.85</td><td>0.013768</td><td>1696.7912</td></tr><tr><td>Almond Butter / Diced Almonds</td><td>Nuts</td><td>Grocery</td><td>17860.43</td><td>0.013646</td><td>2356.2550</td></tr><tr><td>EcosPro Laundry Detergent - Magnolia Lily</td><td>Laundry Cleaners</td><td>Cleaning Supply</td><td>17822.27</td><td>0.013617</td><td>7921.0077</td></tr><tr><td>WHLS- Lightlife Sausage - Case of 12</td><td>Meat Alternatives</td><td>Whls_Grocery</td><td>17087.42</td><td>0.013055</td><td>0.0000</td></tr><tr><td>Dried Mango Cheeks ORG</td><td>Dried Fruits</td><td>Grocery</td><td>14801.95</td><td>0.011309</td><td>1217.2658</td></tr><tr><td>Prin Ya Vegan Custard</td><td>Desserts</td><td>Local Love</td><td>13279.56</td><td>0.010146</td><td>0.0000</td></tr><tr><td>Dropps Laundry Pods</td><td>Laundry Cleaners</td><td>Cleaning Supply</td><td>13093.78</td><td>0.010004</td><td>1260.2290</td></tr><tr><td>Hans Kombucha</td><td>Kombucha</td><td>Local Love</td><td>13048.23</td><td>0.009969</td><td>2609.6460</td></tr><tr><td>Avocado Oil</td><td>Oils</td><td>Grocery</td><td>12889.06</td><td>0.009848</td><td>1660.9611</td></tr><tr><td>Dark Chocolate Chips ALLERGEN FREE ORG</td><td>Baking</td><td>Grocery</td><td>12546.76</td><td>0.009586</td><td>1408.1624</td></tr></table>"
                    },
                    "metadata": {}
                }
            ],
            "execution_count": 31
        },
        {
            "cell_type": "markdown",
            "source": [
                "#### Top Selling Products by Pounds Sold"
            ],
            "metadata": {
                "language": "sql",
                "azdata_cell_guid": "d861007e-2e18-4f8c-a638-95a5cc5a424c"
            },
            "attachments": {}
        },
        {
            "cell_type": "code",
            "source": [
                "SELECT \r\n",
                "    sc.Subcategory,\r\n",
                "    c.Category,\r\n",
                "    p.ProductID,\r\n",
                "    p.ProductName,\r\n",
                "    SUM(l.PoundsSold) AS PoundsSold\r\n",
                "\r\n",
                "FROM SalesOrderLines AS l\r\n",
                "    JOIN DimProducts AS p\r\n",
                "    ON l.ProductID = p.ProductID\r\n",
                "    JOIN DimSubcategories AS sc\r\n",
                "    ON p.SubcategoryID = sc.SubcategoryID\r\n",
                "    JOIN DimCategories AS c\r\n",
                "    ON sc.CategoryID = c.CategoryID\r\n",
                "\r\n",
                "WHERE p.PricingType = 'PerPound'\r\n",
                "\r\n",
                "GROUP BY sc.Subcategory, c.Category, p.ProductID, p.ProductName\r\n",
                "ORDER BY PoundsSold DESC"
            ],
            "metadata": {
                "language": "sql",
                "azdata_cell_guid": "aece9d0c-9c3c-42a3-a718-eb533be95d1e"
            },
            "outputs": [
                {
                    "output_type": "display_data",
                    "data": {
                        "text/html": "(580 rows affected)"
                    },
                    "metadata": {}
                },
                {
                    "output_type": "display_data",
                    "data": {
                        "text/html": "Total execution time: 00:00:00.125"
                    },
                    "metadata": {}
                },
                {
                    "output_type": "execute_result",
                    "execution_count": 12,
                    "data": {
                        "application/vnd.dataresource+json": {
                            "schema": {
                                "fields": [
                                    {
                                        "name": "Subcategory"
                                    },
                                    {
                                        "name": "Category"
                                    },
                                    {
                                        "name": "ProductID"
                                    },
                                    {
                                        "name": "ProductName"
                                    },
                                    {
                                        "name": "PoundsSold"
                                    }
                                ]
                            },
                            "data": [
                                {
                                    "Subcategory": "Laundry Cleaners",
                                    "Category": "Cleaning Supply",
                                    "ProductID": "76",
                                    "ProductName": "EcosPro Laundry Detergent - Magnolia Lily",
                                    "PoundsSold": "7921.0077"
                                },
                                {
                                    "Subcategory": "Kombucha",
                                    "Category": "Local Love",
                                    "ProductID": "110",
                                    "ProductName": "CRU Kombucha",
                                    "PoundsSold": "6613.7230"
                                },
                                {
                                    "Subcategory": "Oils",
                                    "Category": "Grocery",
                                    "ProductID": "149",
                                    "ProductName": "Olive Oil - Extra Virgin ORG",
                                    "PoundsSold": "6536.8858"
                                },
                                {
                                    "Subcategory": "Sweeteners",
                                    "Category": "Grocery",
                                    "ProductID": "42",
                                    "ProductName": "Cane Sugar ORG",
                                    "PoundsSold": "6311.1972"
                                },
                                {
                                    "Subcategory": "Dishsoaps",
                                    "Category": "Cleaning Supply",
                                    "ProductID": "78",
                                    "ProductName": "EcosPro Dish Soap - Hand Washing",
                                    "PoundsSold": "5998.5351"
                                },
                                {
                                    "Subcategory": "Multi Purpose",
                                    "Category": "Cleaning Supply",
                                    "ProductID": "5",
                                    "ProductName": "White Vinegar - 10% acidity (Cleaning)",
                                    "PoundsSold": "5800.2368"
                                },
                                {
                                    "Subcategory": "Laundry Cleaners",
                                    "Category": "Cleaning Supply",
                                    "ProductID": "88",
                                    "ProductName": "EcosPro Laundry Detergent - Free & Clear",
                                    "PoundsSold": "5048.9640"
                                },
                                {
                                    "Subcategory": "Seeds And Grains",
                                    "Category": "Grocery",
                                    "ProductID": "39",
                                    "ProductName": "Rolled Oats ORG",
                                    "PoundsSold": "4660.0017"
                                },
                                {
                                    "Subcategory": "Other Cleaners",
                                    "Category": "Cleaning Supply",
                                    "ProductID": "1064",
                                    "ProductName": "Cleaner Bombs - Toilet - Cat - Etc",
                                    "PoundsSold": "3723.0000"
                                },
                                {
                                    "Subcategory": "Body Cleansing",
                                    "Category": "Body Care",
                                    "ProductID": "862",
                                    "ProductName": "Sapadilla Hand Soap",
                                    "PoundsSold": "3188.9807"
                                },
                                {
                                    "Subcategory": "Candy",
                                    "Category": "Grocery",
                                    "ProductID": "1026",
                                    "ProductName": "PB Cups - Sweet Hazel",
                                    "PoundsSold": "3166.6250"
                                },
                                {
                                    "Subcategory": "Milk Honey Yogurt",
                                    "Category": "Local Love",
                                    "ProductID": "730",
                                    "ProductName": "Milk Honey Yogurt",
                                    "PoundsSold": "3159.9311"
                                },
                                {
                                    "Subcategory": "Seeds And Grains",
                                    "Category": "Grocery",
                                    "ProductID": "56",
                                    "ProductName": "Brown Rice ORG",
                                    "PoundsSold": "3104.8088"
                                },
                                {
                                    "Subcategory": "Flours",
                                    "Category": "Grocery",
                                    "ProductID": "26",
                                    "ProductName": "Artisan White Flour ORG",
                                    "PoundsSold": "2861.6958"
                                },
                                {
                                    "Subcategory": "Kombucha",
                                    "Category": "Local Love",
                                    "ProductID": "399",
                                    "ProductName": "Hans Kombucha",
                                    "PoundsSold": "2609.6460"
                                },
                                {
                                    "Subcategory": "Candy",
                                    "Category": "Grocery",
                                    "ProductID": "1025",
                                    "ProductName": "Crunchies - Sweet Hazel",
                                    "PoundsSold": "2529.9036"
                                },
                                {
                                    "Subcategory": "Flours",
                                    "Category": "Grocery",
                                    "ProductID": "384",
                                    "ProductName": "Whole Wheat Flour ORG",
                                    "PoundsSold": "2459.1558"
                                },
                                {
                                    "Subcategory": "Nuts",
                                    "Category": "Grocery",
                                    "ProductID": "200",
                                    "ProductName": "Almond Butter / Diced Almonds",
                                    "PoundsSold": "2356.2550"
                                },
                                {
                                    "Subcategory": "Seeds And Grains",
                                    "Category": "Grocery",
                                    "ProductID": "36",
                                    "ProductName": "White Rice, Long Grain CONV",
                                    "PoundsSold": "2305.8752"
                                },
                                {
                                    "Subcategory": "Flours",
                                    "Category": "Grocery",
                                    "ProductID": "953",
                                    "ProductName": "All Purpose Unbleached Flour Beehive ORG",
                                    "PoundsSold": "2259.7985"
                                },
                                {
                                    "Subcategory": "Vinegars",
                                    "Category": "Grocery",
                                    "ProductID": "920",
                                    "ProductName": "White Vinegar - 5% acidity",
                                    "PoundsSold": "2257.1599"
                                },
                                {
                                    "Subcategory": "Sweeteners",
                                    "Category": "Grocery",
                                    "ProductID": "184",
                                    "ProductName": "Maple Syrup ORG",
                                    "PoundsSold": "2233.3252"
                                },
                                {
                                    "Subcategory": "The Bean Whole",
                                    "Category": "Local Love",
                                    "ProductID": "534",
                                    "ProductName": "Coffee - The Bean Whole",
                                    "PoundsSold": "2220.4735"
                                },
                                {
                                    "Subcategory": "Nuts",
                                    "Category": "Grocery",
                                    "ProductID": "264",
                                    "ProductName": "Raw Cashews ORG",
                                    "PoundsSold": "2109.3352"
                                },
                                {
                                    "Subcategory": "Seeds And Grains",
                                    "Category": "Grocery",
                                    "ProductID": "57",
                                    "ProductName": "Popcorn ORG",
                                    "PoundsSold": "1963.5223"
                                },
                                {
                                    "Subcategory": "Beans And Legumes",
                                    "Category": "Grocery",
                                    "ProductID": "77",
                                    "ProductName": "Garbanzo Beans / Chickpeas ORG",
                                    "PoundsSold": "1730.8584"
                                },
                                {
                                    "Subcategory": "Dishsoaps",
                                    "Category": "Cleaning Supply",
                                    "ProductID": "3",
                                    "ProductName": "Dropps Dishwasher Pods",
                                    "PoundsSold": "1696.7912"
                                },
                                {
                                    "Subcategory": "Seeds And Grains",
                                    "Category": "Grocery",
                                    "ProductID": "105",
                                    "ProductName": "Quinoa ORG",
                                    "PoundsSold": "1688.5798"
                                },
                                {
                                    "Subcategory": "Hugo Coffee",
                                    "Category": "Local Love",
                                    "ProductID": "842",
                                    "ProductName": "Coffee - Hugo Coffee",
                                    "PoundsSold": "1688.3915"
                                },
                                {
                                    "Subcategory": "Nuts",
                                    "Category": "Grocery",
                                    "ProductID": "259",
                                    "ProductName": "Raw Almonds ORG",
                                    "PoundsSold": "1675.5883"
                                },
                                {
                                    "Subcategory": "Oils",
                                    "Category": "Grocery",
                                    "ProductID": "361",
                                    "ProductName": "Avocado Oil",
                                    "PoundsSold": "1660.9611"
                                },
                                {
                                    "Subcategory": "Beans And Legumes",
                                    "Category": "Grocery",
                                    "ProductID": "80",
                                    "ProductName": "Black Turtle Beans ORG",
                                    "PoundsSold": "1651.7766"
                                },
                                {
                                    "Subcategory": "Baking",
                                    "Category": "Grocery",
                                    "ProductID": "17",
                                    "ProductName": "Baking Soda",
                                    "PoundsSold": "1606.8413"
                                },
                                {
                                    "Subcategory": "Cereals",
                                    "Category": "Grocery",
                                    "ProductID": "734",
                                    "ProductName": "French Vanilla Granola",
                                    "PoundsSold": "1591.4087"
                                },
                                {
                                    "Subcategory": "Multi Purpose",
                                    "Category": "Cleaning Supply",
                                    "ProductID": "156",
                                    "ProductName": "Dr Bronners Sal Suds All Purpose Cleaner",
                                    "PoundsSold": "1479.9768"
                                },
                                {
                                    "Subcategory": "Produce",
                                    "Category": "Fresh Produce",
                                    "ProductID": "635",
                                    "ProductName": "Garnet Yams ORG",
                                    "PoundsSold": "1423.3343"
                                },
                                {
                                    "Subcategory": "Baking",
                                    "Category": "Grocery",
                                    "ProductID": "194",
                                    "ProductName": "Dark Chocolate Chips ALLERGEN FREE ORG",
                                    "PoundsSold": "1408.1624"
                                },
                                {
                                    "Subcategory": "Beans And Legumes",
                                    "Category": "Grocery",
                                    "ProductID": "81",
                                    "ProductName": "Red Lentils ORG",
                                    "PoundsSold": "1385.8373"
                                },
                                {
                                    "Subcategory": "Seeds And Grains",
                                    "Category": "Grocery",
                                    "ProductID": "70",
                                    "ProductName": "Oats - Rolled CONV",
                                    "PoundsSold": "1366.0003"
                                },
                                {
                                    "Subcategory": "Pastas",
                                    "Category": "Grocery",
                                    "ProductID": "49",
                                    "ProductName": "Rotini / Rotelli Pasta ORG",
                                    "PoundsSold": "1363.7607"
                                },
                                {
                                    "Subcategory": "Sweeteners",
                                    "Category": "Grocery",
                                    "ProductID": "139",
                                    "ProductName": "Honey ORG",
                                    "PoundsSold": "1352.8118"
                                },
                                {
                                    "Subcategory": "Laundry Cleaners",
                                    "Category": "Cleaning Supply",
                                    "ProductID": "4",
                                    "ProductName": "Dropps Laundry Pods",
                                    "PoundsSold": "1260.2290"
                                },
                                {
                                    "Subcategory": "Nuts",
                                    "Category": "Grocery",
                                    "ProductID": "135",
                                    "ProductName": "Peanuts - Dry Roasted ORG",
                                    "PoundsSold": "1259.3451"
                                },
                                {
                                    "Subcategory": "Dried Fruits",
                                    "Category": "Grocery",
                                    "ProductID": "256",
                                    "ProductName": "Dried Mango Cheeks ORG",
                                    "PoundsSold": "1217.2658"
                                },
                                {
                                    "Subcategory": "Salsa del Diablo",
                                    "Category": "Local Love",
                                    "ProductID": "719",
                                    "ProductName": "Salsa del Diablo Special Reserve",
                                    "PoundsSold": "1212.8302"
                                },
                                {
                                    "Subcategory": "Dried Fruits",
                                    "Category": "Grocery",
                                    "ProductID": "205",
                                    "ProductName": "Dates - Medjool ORG",
                                    "PoundsSold": "1183.1299"
                                },
                                {
                                    "Subcategory": "Produce",
                                    "Category": "Fresh Produce",
                                    "ProductID": "629",
                                    "ProductName": "Carrots ORG",
                                    "PoundsSold": "1161.4777"
                                },
                                {
                                    "Subcategory": "Beans And Legumes",
                                    "Category": "Grocery",
                                    "ProductID": "75",
                                    "ProductName": "Green Lentils ORG",
                                    "PoundsSold": "1130.9505"
                                },
                                {
                                    "Subcategory": "Candy",
                                    "Category": "Grocery",
                                    "ProductID": "513",
                                    "ProductName": "Gummy Cubs - Albanese",
                                    "PoundsSold": "1077.5065"
                                },
                                {
                                    "Subcategory": "Flours",
                                    "Category": "Grocery",
                                    "ProductID": "853",
                                    "ProductName": "All-purpose Flour",
                                    "PoundsSold": "1052.3777"
                                },
                                {
                                    "Subcategory": "Pastas",
                                    "Category": "Grocery",
                                    "ProductID": "134",
                                    "ProductName": "Penne Pasta ORG",
                                    "PoundsSold": "1025.9688"
                                },
                                {
                                    "Subcategory": "Baking",
                                    "Category": "Grocery",
                                    "ProductID": "832",
                                    "ProductName": "Semi Sweet Chocolate Chips",
                                    "PoundsSold": "1020.9473"
                                },
                                {
                                    "Subcategory": "Body Cleansing",
                                    "Category": "Body Care",
                                    "ProductID": "163",
                                    "ProductName": "EO Hand Soap - Lemon Eucalyptus",
                                    "PoundsSold": "1020.7026"
                                },
                                {
                                    "Subcategory": "Dried Fruits",
                                    "Category": "Grocery",
                                    "ProductID": "108",
                                    "ProductName": "Raisins ORG",
                                    "PoundsSold": "993.8343"
                                },
                                {
                                    "Subcategory": "Baking",
                                    "Category": "Grocery",
                                    "ProductID": "822",
                                    "ProductName": "Rolled Oats - GF",
                                    "PoundsSold": "948.1190"
                                },
                                {
                                    "Subcategory": "Salts",
                                    "Category": "Grocery",
                                    "ProductID": "117",
                                    "ProductName": "Real Salt - Sea Salt",
                                    "PoundsSold": "937.8087"
                                },
                                {
                                    "Subcategory": "Seeds And Grains",
                                    "Category": "Grocery",
                                    "ProductID": "498",
                                    "ProductName": "Long Grain White Rice ORG",
                                    "PoundsSold": "893.3353"
                                },
                                {
                                    "Subcategory": "Seeds And Grains",
                                    "Category": "Grocery",
                                    "ProductID": "41",
                                    "ProductName": "Steel Cut Oats ORG",
                                    "PoundsSold": "886.2246"
                                },
                                {
                                    "Subcategory": "Produce",
                                    "Category": "Fresh Produce",
                                    "ProductID": "867",
                                    "ProductName": "Red Potato ORG",
                                    "PoundsSold": "877.0775"
                                },
                                {
                                    "Subcategory": "Cereals",
                                    "Category": "Grocery",
                                    "ProductID": "779",
                                    "ProductName": "Pumpkin Flax Granola ORG",
                                    "PoundsSold": "870.2701"
                                },
                                {
                                    "Subcategory": "Body Salts",
                                    "Category": "Body Care",
                                    "ProductID": "45",
                                    "ProductName": "Epsom Salt",
                                    "PoundsSold": "850.3426"
                                },
                                {
                                    "Subcategory": "Nuts",
                                    "Category": "Grocery",
                                    "ProductID": "241",
                                    "ProductName": "Walnut Pieces Conv",
                                    "PoundsSold": "844.8467"
                                },
                                {
                                    "Subcategory": "Seeds And Grains",
                                    "Category": "Grocery",
                                    "ProductID": "128",
                                    "ProductName": "Chia Seeds ORG",
                                    "PoundsSold": "843.7480"
                                },
                                {
                                    "Subcategory": "Condiments",
                                    "Category": "Grocery",
                                    "ProductID": "138",
                                    "ProductName": "Tamari GF ORG",
                                    "PoundsSold": "842.4345"
                                },
                                {
                                    "Subcategory": "Produce",
                                    "Category": "Fresh Produce",
                                    "ProductID": "826",
                                    "ProductName": "Apples Gala, conventional",
                                    "PoundsSold": "824.0000"
                                },
                                {
                                    "Subcategory": "Salsa del Diablo",
                                    "Category": "Local Love",
                                    "ProductID": "727",
                                    "ProductName": "Salsa del Diablo Cashew Dream",
                                    "PoundsSold": "814.1478"
                                },
                                {
                                    "Subcategory": "Hair Care",
                                    "Category": "Body Care",
                                    "ProductID": "198",
                                    "ProductName": "EO Shampoo - Grapefruit Mint",
                                    "PoundsSold": "810.6678"
                                },
                                {
                                    "Subcategory": "Pastas",
                                    "Category": "Grocery",
                                    "ProductID": "168",
                                    "ProductName": "Supergrain Pasta GF",
                                    "PoundsSold": "801.6885"
                                },
                                {
                                    "Subcategory": "Laundry Cleaners",
                                    "Category": "Cleaning Supply",
                                    "ProductID": "955",
                                    "ProductName": "Meliora Laundry Powder BULK",
                                    "PoundsSold": "791.4186"
                                },
                                {
                                    "Subcategory": "Pastas",
                                    "Category": "Grocery",
                                    "ProductID": "699",
                                    "ProductName": "Sea Shell Pasta ORG",
                                    "PoundsSold": "783.1516"
                                },
                                {
                                    "Subcategory": "Hair Care",
                                    "Category": "Body Care",
                                    "ProductID": "197",
                                    "ProductName": "EO Conditioner - Grapefruit Mint",
                                    "PoundsSold": "762.7624"
                                },
                                {
                                    "Subcategory": "Lotions",
                                    "Category": "Body Care",
                                    "ProductID": "172",
                                    "ProductName": "Alba Botanica Lotion - Unscented",
                                    "PoundsSold": "731.3501"
                                },
                                {
                                    "Subcategory": "Oils",
                                    "Category": "Grocery",
                                    "ProductID": "170",
                                    "ProductName": "Coconut Oil - Unrefined ORG",
                                    "PoundsSold": "708.7566"
                                },
                                {
                                    "Subcategory": "Produce",
                                    "Category": "Fresh Produce",
                                    "ProductID": "634",
                                    "ProductName": "Onion, White",
                                    "PoundsSold": "657.6665"
                                },
                                {
                                    "Subcategory": "Vinegars",
                                    "Category": "Grocery",
                                    "ProductID": "100",
                                    "ProductName": "Apple Cider Vinegar Bragg's ORG",
                                    "PoundsSold": "654.2609"
                                },
                                {
                                    "Subcategory": "Seeds And Grains",
                                    "Category": "Grocery",
                                    "ProductID": "87",
                                    "ProductName": "Rice - White Basmati ORG",
                                    "PoundsSold": "643.5381"
                                },
                                {
                                    "Subcategory": "Vinegars",
                                    "Category": "Grocery",
                                    "ProductID": "921",
                                    "ProductName": "Apple Cider Vinegar ORG",
                                    "PoundsSold": "642.1840"
                                },
                                {
                                    "Subcategory": "Body Cleansing",
                                    "Category": "Body Care",
                                    "ProductID": "180",
                                    "ProductName": "Dr Bronners Castile Soap - Peppermint",
                                    "PoundsSold": "633.1968"
                                },
                                {
                                    "Subcategory": "Body Cleansing",
                                    "Category": "Body Care",
                                    "ProductID": "189",
                                    "ProductName": "Dr Bronners Castile Soap - Lavender",
                                    "PoundsSold": "622.6769"
                                },
                                {
                                    "Subcategory": "Yummy Yami",
                                    "Category": "Local Love",
                                    "ProductID": "887",
                                    "ProductName": "Arepa VEGAN",
                                    "PoundsSold": "617.0000"
                                },
                                {
                                    "Subcategory": "Seeds And Grains",
                                    "Category": "Grocery",
                                    "ProductID": "835",
                                    "ProductName": "Wild Rice Blend",
                                    "PoundsSold": "600.0689"
                                },
                                {
                                    "Subcategory": "Condiments",
                                    "Category": "Grocery",
                                    "ProductID": "206",
                                    "ProductName": "Nutritional Yeast",
                                    "PoundsSold": "598.4711"
                                },
                                {
                                    "Subcategory": "Vinegars",
                                    "Category": "Grocery",
                                    "ProductID": "140",
                                    "ProductName": "Balsamic Vinegar ORG",
                                    "PoundsSold": "590.3695"
                                },
                                {
                                    "Subcategory": "Snacks",
                                    "Category": "Grocery",
                                    "ProductID": "218",
                                    "ProductName": "Chunks Of Energy - Cacao & Goji",
                                    "PoundsSold": "586.0157"
                                },
                                {
                                    "Subcategory": "Nuts",
                                    "Category": "Grocery",
                                    "ProductID": "672",
                                    "ProductName": "Chocolate & Sea Salt Almonds",
                                    "PoundsSold": "577.3337"
                                },
                                {
                                    "Subcategory": "Candy",
                                    "Category": "Grocery",
                                    "ProductID": "96",
                                    "ProductName": "Gummy Worms - Albanese",
                                    "PoundsSold": "556.1865"
                                },
                                {
                                    "Subcategory": "Produce",
                                    "Category": "Fresh Produce",
                                    "ProductID": "877",
                                    "ProductName": "Strawberry Box ORG",
                                    "PoundsSold": "553.4332"
                                },
                                {
                                    "Subcategory": "Dried Fruits",
                                    "Category": "Grocery",
                                    "ProductID": "146",
                                    "ProductName": "Dried Cranberries",
                                    "PoundsSold": "552.8843"
                                },
                                {
                                    "Subcategory": "Produce",
                                    "Category": "Fresh Produce",
                                    "ProductID": "827",
                                    "ProductName": "Mushrooms - White",
                                    "PoundsSold": "526.7711"
                                },
                                {
                                    "Subcategory": "Condiments",
                                    "Category": "Grocery",
                                    "ProductID": "84",
                                    "ProductName": "Soy Sauce - Kikkoman ORG",
                                    "PoundsSold": "525.2770"
                                },
                                {
                                    "Subcategory": "Salsa del Diablo",
                                    "Category": "Local Love",
                                    "ProductID": "720",
                                    "ProductName": "Salsa del Diablo Cilantro Jalapeño Pesto",
                                    "PoundsSold": "514.8119"
                                },
                                {
                                    "Subcategory": "Seeds And Grains",
                                    "Category": "Grocery",
                                    "ProductID": "115",
                                    "ProductName": "Raw Pumpkin Seeds ORG",
                                    "PoundsSold": "504.5319"
                                },
                                {
                                    "Subcategory": "Candy",
                                    "Category": "Grocery",
                                    "ProductID": "242",
                                    "ProductName": "Gummy Delish Fish ORG",
                                    "PoundsSold": "486.2871"
                                },
                                {
                                    "Subcategory": "Baking",
                                    "Category": "Grocery",
                                    "ProductID": "186",
                                    "ProductName": "Semi Sweet Chocolate Chips - MINI",
                                    "PoundsSold": "482.4039"
                                },
                                {
                                    "Subcategory": "Seeds And Grains",
                                    "Category": "Grocery",
                                    "ProductID": "1088",
                                    "ProductName": "Basmati Rice - Sustainably Grown",
                                    "PoundsSold": "481.7866"
                                },
                                {
                                    "Subcategory": "Snacks",
                                    "Category": "Grocery",
                                    "ProductID": "371",
                                    "ProductName": "Corn Chips w/ Flax Seed",
                                    "PoundsSold": "481.5591"
                                },
                                {
                                    "Subcategory": "Nuts",
                                    "Category": "Grocery",
                                    "ProductID": "223",
                                    "ProductName": "Cinnamon Roasted Almonds",
                                    "PoundsSold": "471.4970"
                                },
                                {
                                    "Subcategory": "Body Cleansing",
                                    "Category": "Body Care",
                                    "ProductID": "191",
                                    "ProductName": "Dr Bronners Castile Soap - Baby Unscented",
                                    "PoundsSold": "470.4703"
                                },
                                {
                                    "Subcategory": "Body Cleansing",
                                    "Category": "Body Care",
                                    "ProductID": "559",
                                    "ProductName": "EO Hand Soap Lavender",
                                    "PoundsSold": "459.0563"
                                },
                                {
                                    "Subcategory": "Produce",
                                    "Category": "Fresh Produce",
                                    "ProductID": "868",
                                    "ProductName": "Onion, Sweet  Yellow, ORG",
                                    "PoundsSold": "456.5166"
                                },
                                {
                                    "Subcategory": "Flours",
                                    "Category": "Grocery",
                                    "ProductID": "137",
                                    "ProductName": "Pamela's GF Baking Mix",
                                    "PoundsSold": "444.8213"
                                },
                                {
                                    "Subcategory": "Flours",
                                    "Category": "Grocery",
                                    "ProductID": "82",
                                    "ProductName": "Bobs GF All Purpose Flour",
                                    "PoundsSold": "443.3842"
                                },
                                {
                                    "Subcategory": "Hair Care",
                                    "Category": "Body Care",
                                    "ProductID": "210",
                                    "ProductName": "Giovanni Shampoo - 50/50",
                                    "PoundsSold": "438.8823"
                                },
                                {
                                    "Subcategory": "Hair Care",
                                    "Category": "Body Care",
                                    "ProductID": "212",
                                    "ProductName": "Giovanni Conditioner - 50/50",
                                    "PoundsSold": "429.5294"
                                },
                                {
                                    "Subcategory": "Hair Care",
                                    "Category": "Body Care",
                                    "ProductID": "179",
                                    "ProductName": "Shikai Shampoo - Tea Tree",
                                    "PoundsSold": "425.7287"
                                },
                                {
                                    "Subcategory": "Seeds And Grains",
                                    "Category": "Grocery",
                                    "ProductID": "72",
                                    "ProductName": "Sunflower Seeds - Roasted Salted",
                                    "PoundsSold": "419.7352"
                                },
                                {
                                    "Subcategory": "Pastas",
                                    "Category": "Grocery",
                                    "ProductID": "560",
                                    "ProductName": "Orzo Pasta",
                                    "PoundsSold": "399.6539"
                                },
                                {
                                    "Subcategory": "Flours",
                                    "Category": "Grocery",
                                    "ProductID": "715",
                                    "ProductName": "Vital Wheat Gluten",
                                    "PoundsSold": "382.5892"
                                },
                                {
                                    "Subcategory": "Sweeteners",
                                    "Category": "Grocery",
                                    "ProductID": "47",
                                    "ProductName": "Raw Demerara Sugar",
                                    "PoundsSold": "381.8764"
                                },
                                {
                                    "Subcategory": "Baking",
                                    "Category": "Grocery",
                                    "ProductID": "773",
                                    "ProductName": "Milk Chocolate Chips",
                                    "PoundsSold": "380.5945"
                                },
                                {
                                    "Subcategory": "Produce",
                                    "Category": "Fresh Produce",
                                    "ProductID": "927",
                                    "ProductName": "Avocados, Hass Conventional",
                                    "PoundsSold": "376.4604"
                                },
                                {
                                    "Subcategory": "Beans And Legumes",
                                    "Category": "Grocery",
                                    "ProductID": "851",
                                    "ProductName": "Kidney Beans ORG",
                                    "PoundsSold": "366.9039"
                                },
                                {
                                    "Subcategory": "Body Cleansing",
                                    "Category": "Body Care",
                                    "ProductID": "193",
                                    "ProductName": "Shikai Shower Gel - Yuzu",
                                    "PoundsSold": "361.3535"
                                },
                                {
                                    "Subcategory": "Anas Beeswax",
                                    "Category": "Local Love",
                                    "ProductID": "272",
                                    "ProductName": "Ana's Beeswax Wrap",
                                    "PoundsSold": "352.0000"
                                },
                                {
                                    "Subcategory": "Body Cleansing",
                                    "Category": "Body Care",
                                    "ProductID": "746",
                                    "ProductName": "Aloe & Glycerin Bodywash & Shampoo",
                                    "PoundsSold": "351.3594"
                                },
                                {
                                    "Subcategory": "Dried Fruits",
                                    "Category": "Grocery",
                                    "ProductID": "231",
                                    "ProductName": "Dried Cherries",
                                    "PoundsSold": "341.2477"
                                },
                                {
                                    "Subcategory": "Seeds And Grains",
                                    "Category": "Grocery",
                                    "ProductID": "834",
                                    "ProductName": "Farro ORG",
                                    "PoundsSold": "334.6461"
                                },
                                {
                                    "Subcategory": "Sweeteners",
                                    "Category": "Grocery",
                                    "ProductID": "132",
                                    "ProductName": "Coconut Sugar ORG",
                                    "PoundsSold": "332.1512"
                                },
                                {
                                    "Subcategory": "Hair Care",
                                    "Category": "Body Care",
                                    "ProductID": "176",
                                    "ProductName": "Earth Science Conditioner - Unscented",
                                    "PoundsSold": "322.9700"
                                },
                                {
                                    "Subcategory": "Body Cleansing",
                                    "Category": "Body Care",
                                    "ProductID": "190",
                                    "ProductName": "Dr Bronners Castile Soap - Eucalyptus",
                                    "PoundsSold": "318.1867"
                                },
                                {
                                    "Subcategory": "Hair Care",
                                    "Category": "Body Care",
                                    "ProductID": "178",
                                    "ProductName": "Shikai Conditioner - Tea Tree",
                                    "PoundsSold": "317.8518"
                                },
                                {
                                    "Subcategory": "Hair Care",
                                    "Category": "Body Care",
                                    "ProductID": "175",
                                    "ProductName": "Earth Science Shampoo - Unscented",
                                    "PoundsSold": "316.2330"
                                },
                                {
                                    "Subcategory": "Pastas",
                                    "Category": "Grocery",
                                    "ProductID": "981",
                                    "ProductName": "Pad Thai Noodles GF ORG",
                                    "PoundsSold": "307.7773"
                                },
                                {
                                    "Subcategory": "Hair Care",
                                    "Category": "Body Care",
                                    "ProductID": "750",
                                    "ProductName": "Mango Deep Conditioner",
                                    "PoundsSold": "304.7058"
                                },
                                {
                                    "Subcategory": "Sauces",
                                    "Category": "Grocery",
                                    "ProductID": "940",
                                    "ProductName": "Coconut Milk ORG",
                                    "PoundsSold": "299.0000"
                                },
                                {
                                    "Subcategory": "Desserts",
                                    "Category": "Local Love",
                                    "ProductID": "452",
                                    "ProductName": "Dessert Hummus - 4oz SML Any Flavor",
                                    "PoundsSold": "296.0000"
                                },
                                {
                                    "Subcategory": "Produce",
                                    "Category": "Fresh Produce",
                                    "ProductID": "470",
                                    "ProductName": "Butterhead Lettuce",
                                    "PoundsSold": "295.2206"
                                },
                                {
                                    "Subcategory": "Seeds And Grains",
                                    "Category": "Grocery",
                                    "ProductID": "93",
                                    "ProductName": "Flax Seed ORG",
                                    "PoundsSold": "289.4291"
                                },
                                {
                                    "Subcategory": "Nuts",
                                    "Category": "Grocery",
                                    "ProductID": "285",
                                    "ProductName": "Sliced Almonds",
                                    "PoundsSold": "287.3565"
                                },
                                {
                                    "Subcategory": "Seeds And Grains",
                                    "Category": "Grocery",
                                    "ProductID": "988",
                                    "ProductName": "Hemp Seeds",
                                    "PoundsSold": "287.1618"
                                },
                                {
                                    "Subcategory": "Flours",
                                    "Category": "Grocery",
                                    "ProductID": "157",
                                    "ProductName": "Almond Flour GF",
                                    "PoundsSold": "284.8904"
                                },
                                {
                                    "Subcategory": "Body Cleansing",
                                    "Category": "Body Care",
                                    "ProductID": "824",
                                    "ProductName": "Lavender Bodywash and Shampoo",
                                    "PoundsSold": "284.1583"
                                },
                                {
                                    "Subcategory": "Salts",
                                    "Category": "Grocery",
                                    "ProductID": "753",
                                    "ProductName": "Himalayan Pink Salt",
                                    "PoundsSold": "280.4907"
                                },
                                {
                                    "Subcategory": "Laundry Cleaners",
                                    "Category": "Cleaning Supply",
                                    "ProductID": "966",
                                    "ProductName": "Meliora Oxygen Brightener BULK",
                                    "PoundsSold": "278.7125"
                                },
                                {
                                    "Subcategory": "Produce",
                                    "Category": "Fresh Produce",
                                    "ProductID": "718",
                                    "ProductName": "Spinach, Local From SLC Top Crops",
                                    "PoundsSold": "276.0737"
                                },
                                {
                                    "Subcategory": "Produce",
                                    "Category": "Fresh Produce",
                                    "ProductID": "948",
                                    "ProductName": "Tomato, Heirloom, LOCAL",
                                    "PoundsSold": "251.4787"
                                },
                                {
                                    "Subcategory": "Lotions",
                                    "Category": "Body Care",
                                    "ProductID": "678",
                                    "ProductName": "Earth Science Lotion - Unscented",
                                    "PoundsSold": "246.2015"
                                },
                                {
                                    "Subcategory": "Beans And Legumes",
                                    "Category": "Grocery",
                                    "ProductID": "539",
                                    "ProductName": "Bob's Red Mill 13 Bean Soup",
                                    "PoundsSold": "240.2320"
                                },
                                {
                                    "Subcategory": "Beans And Legumes",
                                    "Category": "Grocery",
                                    "ProductID": "852",
                                    "ProductName": "Green Split Peas",
                                    "PoundsSold": "237.4772"
                                },
                                {
                                    "Subcategory": "Lotions",
                                    "Category": "Body Care",
                                    "ProductID": "204",
                                    "ProductName": "Shikai Lotion - Yuzu",
                                    "PoundsSold": "235.5625"
                                },
                                {
                                    "Subcategory": "Produce",
                                    "Category": "Fresh Produce",
                                    "ProductID": "1037",
                                    "ProductName": "Spaghetti Squash, CONV",
                                    "PoundsSold": "231.8285"
                                },
                                {
                                    "Subcategory": "Salsa del Diablo",
                                    "Category": "Local Love",
                                    "ProductID": "928",
                                    "ProductName": "Salsa del Diablo Pumpkin & A Pepper",
                                    "PoundsSold": "228.2602"
                                },
                                {
                                    "Subcategory": "Z-Misc",
                                    "Category": "Grocery",
                                    "ProductID": "94",
                                    "ProductName": "Citric Acid",
                                    "PoundsSold": "227.3044"
                                },
                                {
                                    "Subcategory": "Baking",
                                    "Category": "Grocery",
                                    "ProductID": "395",
                                    "ProductName": "Cocoa Powder 10-12%",
                                    "PoundsSold": "226.2970"
                                },
                                {
                                    "Subcategory": "Dairy",
                                    "Category": "Grocery",
                                    "ProductID": "385",
                                    "ProductName": "Eggs 6ct Grade A Large ORG",
                                    "PoundsSold": "224.3042"
                                },
                                {
                                    "Subcategory": "Dried Fruits",
                                    "Category": "Grocery",
                                    "ProductID": "122",
                                    "ProductName": "Coconut Chips ORG",
                                    "PoundsSold": "219.5573"
                                },
                                {
                                    "Subcategory": "Body Cleansing",
                                    "Category": "Body Care",
                                    "ProductID": "819",
                                    "ProductName": "Lavender Shampoo & Body Wash",
                                    "PoundsSold": "212.1570"
                                },
                                {
                                    "Subcategory": "Nuts",
                                    "Category": "Grocery",
                                    "ProductID": "1096",
                                    "ProductName": "Raw Walnuts ORG",
                                    "PoundsSold": "212.0434"
                                },
                                {
                                    "Subcategory": "Olio Skin",
                                    "Category": "Local Love",
                                    "ProductID": "568",
                                    "ProductName": "Olio Dish Bar",
                                    "PoundsSold": "210.3921"
                                },
                                {
                                    "Subcategory": "Sweeteners",
                                    "Category": "Grocery",
                                    "ProductID": "125",
                                    "ProductName": "Agave ORG",
                                    "PoundsSold": "209.9754"
                                },
                                {
                                    "Subcategory": "Body Cleansing",
                                    "Category": "Body Care",
                                    "ProductID": "682",
                                    "ProductName": "Dr Bronners Castile Soap - Tea Tree",
                                    "PoundsSold": "208.0018"
                                },
                                {
                                    "Subcategory": "Flours",
                                    "Category": "Grocery",
                                    "ProductID": "833",
                                    "ProductName": "Cornmeal, ORG yellow medium grind",
                                    "PoundsSold": "204.5382"
                                },
                                {
                                    "Subcategory": "Cereals",
                                    "Category": "Grocery",
                                    "ProductID": "394",
                                    "ProductName": "Granola Coconut Almond",
                                    "PoundsSold": "203.3451"
                                },
                                {
                                    "Subcategory": "Dried Fruits",
                                    "Category": "Grocery",
                                    "ProductID": "120",
                                    "ProductName": "Ginger - Crystallized",
                                    "PoundsSold": "201.6055"
                                },
                                {
                                    "Subcategory": "Beans And Legumes",
                                    "Category": "Grocery",
                                    "ProductID": "1044",
                                    "ProductName": "Pinto Beans",
                                    "PoundsSold": "200.9571"
                                },
                                {
                                    "Subcategory": "Salsa del Diablo",
                                    "Category": "Local Love",
                                    "ProductID": "1073",
                                    "ProductName": "Salsa del Diablo Pico Lima",
                                    "PoundsSold": "199.1024"
                                },
                                {
                                    "Subcategory": "Hair Care",
                                    "Category": "Body Care",
                                    "ProductID": "830",
                                    "ProductName": "Giovanni Shampoo - Tea Tree Triple Treat",
                                    "PoundsSold": "197.8396"
                                },
                                {
                                    "Subcategory": "Produce",
                                    "Category": "Fresh Produce",
                                    "ProductID": "915",
                                    "ProductName": "Acorn Squash, ORG",
                                    "PoundsSold": "197.0407"
                                },
                                {
                                    "Subcategory": "Seeds And Grains",
                                    "Category": "Grocery",
                                    "ProductID": "509",
                                    "ProductName": "Hemp Seeds ORG",
                                    "PoundsSold": "195.5247"
                                },
                                {
                                    "Subcategory": "Raw Ingredients",
                                    "Category": "Body Care",
                                    "ProductID": "225",
                                    "ProductName": "Beeswax",
                                    "PoundsSold": "194.0796"
                                },
                                {
                                    "Subcategory": "Produce",
                                    "Category": "Fresh Produce",
                                    "ProductID": "916",
                                    "ProductName": "Acorn Squash",
                                    "PoundsSold": "191.9630"
                                },
                                {
                                    "Subcategory": "Produce",
                                    "Category": "Fresh Produce",
                                    "ProductID": "1032",
                                    "ProductName": "Navel Orange ORG",
                                    "PoundsSold": "190.6666"
                                },
                                {
                                    "Subcategory": "Lotions",
                                    "Category": "Body Care",
                                    "ProductID": "893",
                                    "ProductName": "EO Lotion - French Lavender",
                                    "PoundsSold": "188.4023"
                                },
                                {
                                    "Subcategory": "Snacks",
                                    "Category": "Grocery",
                                    "ProductID": "882",
                                    "ProductName": "Pretzels, Peanut Butter",
                                    "PoundsSold": "184.3057"
                                },
                                {
                                    "Subcategory": "Sweet Hazel",
                                    "Category": "Local Love",
                                    "ProductID": "1027",
                                    "ProductName": "Cocoa Bombs, vegan by Sweet Hazel",
                                    "PoundsSold": "184.0000"
                                },
                                {
                                    "Subcategory": "Other Cleaners",
                                    "Category": "Cleaning Supply",
                                    "ProductID": "593",
                                    "ProductName": "EcosPro Floor Cleaner Concentrate",
                                    "PoundsSold": "183.3912"
                                },
                                {
                                    "Subcategory": "Olio Skin",
                                    "Category": "Local Love",
                                    "ProductID": "313",
                                    "ProductName": "Olio - Any",
                                    "PoundsSold": "182.5098"
                                },
                                {
                                    "Subcategory": "Balms, Oils And Butters",
                                    "Category": "Body Care",
                                    "ProductID": "118",
                                    "ProductName": "Shea Butter",
                                    "PoundsSold": "179.3460"
                                },
                                {
                                    "Subcategory": "Produce",
                                    "Category": "Fresh Produce",
                                    "ProductID": "636",
                                    "ProductName": "Onion, Yellow sweet, ORG",
                                    "PoundsSold": "178.9938"
                                },
                                {
                                    "Subcategory": "Nuts",
                                    "Category": "Grocery",
                                    "ProductID": "1043",
                                    "ProductName": "Salt & Pepper Cashews ORG",
                                    "PoundsSold": "178.9152"
                                },
                                {
                                    "Subcategory": "Baking",
                                    "Category": "Grocery",
                                    "ProductID": "705",
                                    "ProductName": "Vanilla Extract",
                                    "PoundsSold": "178.0362"
                                },
                                {
                                    "Subcategory": "Body Cleansing",
                                    "Category": "Body Care",
                                    "ProductID": "511",
                                    "ProductName": "ShiKai Shower Gel - Vanilla",
                                    "PoundsSold": "177.6277"
                                },
                                {
                                    "Subcategory": "Produce",
                                    "Category": "Fresh Produce",
                                    "ProductID": "951",
                                    "ProductName": "Spaghetti Squash, ORG",
                                    "PoundsSold": "175.9443"
                                },
                                {
                                    "Subcategory": "Hair Care",
                                    "Category": "Body Care",
                                    "ProductID": "831",
                                    "ProductName": "Giovanni Conditioner - Tea Tree Triple Treat",
                                    "PoundsSold": "174.5823"
                                },
                                {
                                    "Subcategory": "Baking",
                                    "Category": "Grocery",
                                    "ProductID": "239",
                                    "ProductName": "Cacao Nibs ORG",
                                    "PoundsSold": "174.3423"
                                },
                                {
                                    "Subcategory": "Produce",
                                    "Category": "Fresh Produce",
                                    "ProductID": "901",
                                    "ProductName": "Yukon Gold CONV",
                                    "PoundsSold": "171.5461"
                                },
                                {
                                    "Subcategory": "Herbs And Spices",
                                    "Category": "Grocery",
                                    "ProductID": "646",
                                    "ProductName": "Black Peppercorns",
                                    "PoundsSold": "171.3499"
                                },
                                {
                                    "Subcategory": "Produce",
                                    "Category": "Fresh Produce",
                                    "ProductID": "866",
                                    "ProductName": "Peach, Small ORG",
                                    "PoundsSold": "170.7866"
                                },
                                {
                                    "Subcategory": "Seeds And Grains",
                                    "Category": "Grocery",
                                    "ProductID": "1089",
                                    "ProductName": "Short Grain Sushi Rice - Sustainably Grown",
                                    "PoundsSold": "170.2267"
                                },
                                {
                                    "Subcategory": "Body Cleansing",
                                    "Category": "Body Care",
                                    "ProductID": "177",
                                    "ProductName": "EO Shower Gel Lavender",
                                    "PoundsSold": "166.6896"
                                },
                                {
                                    "Subcategory": "Seeds And Grains",
                                    "Category": "Grocery",
                                    "ProductID": "870",
                                    "ProductName": "Roasted & Salted Pumpkin Seeds",
                                    "PoundsSold": "165.7140"
                                },
                                {
                                    "Subcategory": "Produce",
                                    "Category": "Fresh Produce",
                                    "ProductID": "860",
                                    "ProductName": "Avocados, Hass ORG",
                                    "PoundsSold": "164.0000"
                                },
                                {
                                    "Subcategory": "Facial Care",
                                    "Category": "Body Care",
                                    "ProductID": "703",
                                    "ProductName": "Witch Hazel",
                                    "PoundsSold": "163.8339"
                                },
                                {
                                    "Subcategory": "Baking",
                                    "Category": "Grocery",
                                    "ProductID": "173",
                                    "ProductName": "Baking Powder",
                                    "PoundsSold": "162.3118"
                                },
                                {
                                    "Subcategory": "Snackavist",
                                    "Category": "Local Love",
                                    "ProductID": "1079",
                                    "ProductName": "Brownie Mix, GF, Snacktivist",
                                    "PoundsSold": "160.6251"
                                },
                                {
                                    "Subcategory": "Produce",
                                    "Category": "Fresh Produce",
                                    "ProductID": "844",
                                    "ProductName": "Yams, US, conventional",
                                    "PoundsSold": "159.8796"
                                },
                                {
                                    "Subcategory": "Nuts",
                                    "Category": "Grocery",
                                    "ProductID": "999",
                                    "ProductName": "Pecans - Roasted ORG",
                                    "PoundsSold": "159.5186"
                                },
                                {
                                    "Subcategory": "Pastas",
                                    "Category": "Grocery",
                                    "ProductID": "48",
                                    "ProductName": "Pasta - Penne Rigate",
                                    "PoundsSold": "158.9417"
                                },
                                {
                                    "Subcategory": "Herbs And Spices",
                                    "Category": "Grocery",
                                    "ProductID": "287",
                                    "ProductName": "Garlic Powder ORG",
                                    "PoundsSold": "158.5807"
                                },
                                {
                                    "Subcategory": "Sauces",
                                    "Category": "Grocery",
                                    "ProductID": "939",
                                    "ProductName": "Coconut Milk - Lite ORG",
                                    "PoundsSold": "155.0000"
                                },
                                {
                                    "Subcategory": "Olio Skin",
                                    "Category": "Local Love",
                                    "ProductID": "946",
                                    "ProductName": "Olio Deodorant Tube",
                                    "PoundsSold": "154.0000"
                                },
                                {
                                    "Subcategory": "Snacks",
                                    "Category": "Grocery",
                                    "ProductID": "871",
                                    "ProductName": "Sesame Sticks, whole wheat, salted",
                                    "PoundsSold": "153.8700"
                                },
                                {
                                    "Subcategory": "Seeds And Grains",
                                    "Category": "Grocery",
                                    "ProductID": "777",
                                    "ProductName": "Oats - Quick Rolled Oats ORG",
                                    "PoundsSold": "152.6798"
                                },
                                {
                                    "Subcategory": "Produce",
                                    "Category": "Fresh Produce",
                                    "ProductID": "1092",
                                    "ProductName": "Navel Oranges",
                                    "PoundsSold": "150.0451"
                                },
                                {
                                    "Subcategory": "Seeds And Grains",
                                    "Category": "Grocery",
                                    "ProductID": "1078",
                                    "ProductName": "Couscous ORG",
                                    "PoundsSold": "149.6409"
                                },
                                {
                                    "Subcategory": "Meat Alternative",
                                    "Category": "Grocery",
                                    "ProductID": "85",
                                    "ProductName": "TVP - Bobs Red Mill",
                                    "PoundsSold": "149.0358"
                                },
                                {
                                    "Subcategory": "Meat Alternatives",
                                    "Category": "Whls_Grocery",
                                    "ProductID": "86",
                                    "ProductName": "TVP - Bobs Red Mill",
                                    "PoundsSold": "149.0358"
                                },
                                {
                                    "Subcategory": "Lotions",
                                    "Category": "Body Care",
                                    "ProductID": "512",
                                    "ProductName": "Shikai Lotion - Vanilla",
                                    "PoundsSold": "148.5814"
                                },
                                {
                                    "Subcategory": "Balms, Oils And Butters",
                                    "Category": "Body Care",
                                    "ProductID": "236",
                                    "ProductName": "Sweet Almond Oil",
                                    "PoundsSold": "145.4927"
                                },
                                {
                                    "Subcategory": "Body Cleansing",
                                    "Category": "Body Care",
                                    "ProductID": "875",
                                    "ProductName": "Shikai Shower Gel - Coconut",
                                    "PoundsSold": "143.5742"
                                },
                                {
                                    "Subcategory": "Hair Care",
                                    "Category": "Body Care",
                                    "ProductID": "165",
                                    "ProductName": "ShiKai Shampoo - Color Care",
                                    "PoundsSold": "143.5737"
                                },
                                {
                                    "Subcategory": "Produce",
                                    "Category": "Fresh Produce",
                                    "ProductID": "1018",
                                    "ProductName": "Mixed Spring Greens, LOCAL",
                                    "PoundsSold": "141.8002"
                                },
                                {
                                    "Subcategory": "Sauces",
                                    "Category": "Grocery",
                                    "ProductID": "923",
                                    "ProductName": "Vegan Mayo - Vegenaise",
                                    "PoundsSold": "139.0000"
                                },
                                {
                                    "Subcategory": "Sauces",
                                    "Category": "Grocery",
                                    "ProductID": "931",
                                    "ProductName": "Crushed Tomato - Fire Roasted ORG",
                                    "PoundsSold": "136.0000"
                                },
                                {
                                    "Subcategory": "Seeds And Grains",
                                    "Category": "Grocery",
                                    "ProductID": "90",
                                    "ProductName": "Flax Seed MEAL ORG",
                                    "PoundsSold": "134.6793"
                                },
                                {
                                    "Subcategory": "Cereals",
                                    "Category": "Grocery",
                                    "ProductID": "130",
                                    "ProductName": "Granola French Vanilla ORG",
                                    "PoundsSold": "134.3919"
                                },
                                {
                                    "Subcategory": "Sauces",
                                    "Category": "Grocery",
                                    "ProductID": "941",
                                    "ProductName": "Refried Beans ORG",
                                    "PoundsSold": "133.0000"
                                },
                                {
                                    "Subcategory": "Salts",
                                    "Category": "Grocery",
                                    "ProductID": "590",
                                    "ProductName": "Sea Salt - Extra Fine",
                                    "PoundsSold": "131.5000"
                                },
                                {
                                    "Subcategory": "Candy",
                                    "Category": "Grocery",
                                    "ProductID": "1098",
                                    "ProductName": "Cookie Dough Jar - Sweet Hazel",
                                    "PoundsSold": "131.0000"
                                },
                                {
                                    "Subcategory": "Body Cleansing",
                                    "Category": "Body Care",
                                    "ProductID": "861",
                                    "ProductName": "Hand Sanitizer Gel",
                                    "PoundsSold": "130.2393"
                                },
                                {
                                    "Subcategory": "Facial Care",
                                    "Category": "Body Care",
                                    "ProductID": "747",
                                    "ProductName": "Aloe Facial Cleanser",
                                    "PoundsSold": "130.0313"
                                },
                                {
                                    "Subcategory": "Sauces",
                                    "Category": "Grocery",
                                    "ProductID": "909",
                                    "ProductName": "Vegan Ranch - Follow Your Heart",
                                    "PoundsSold": "129.0000"
                                },
                                {
                                    "Subcategory": "Seeds And Grains",
                                    "Category": "Grocery",
                                    "ProductID": "104",
                                    "ProductName": "Quinoa - White Organic",
                                    "PoundsSold": "126.6787"
                                },
                                {
                                    "Subcategory": "Herbs And Spices",
                                    "Category": "Grocery",
                                    "ProductID": "273",
                                    "ProductName": "Cumin - Ground ORG",
                                    "PoundsSold": "126.5241"
                                },
                                {
                                    "Subcategory": "Sauces",
                                    "Category": "Grocery",
                                    "ProductID": "910",
                                    "ProductName": "Pesto - Delallo",
                                    "PoundsSold": "125.0000"
                                },
                                {
                                    "Subcategory": "Seeds And Grains",
                                    "Category": "Grocery",
                                    "ProductID": "1061",
                                    "ProductName": "Roasted & Salted Sunflower Seeds ORG",
                                    "PoundsSold": "124.1295"
                                },
                                {
                                    "Subcategory": "Seeds And Grains",
                                    "Category": "Grocery",
                                    "ProductID": "102",
                                    "ProductName": "White Sesame Seeds",
                                    "PoundsSold": "119.7354"
                                },
                                {
                                    "Subcategory": "Baking",
                                    "Category": "Grocery",
                                    "ProductID": "171",
                                    "ProductName": "Cornstarch ORG",
                                    "PoundsSold": "119.2165"
                                },
                                {
                                    "Subcategory": "Produce",
                                    "Category": "Fresh Produce",
                                    "ProductID": "900",
                                    "ProductName": "Lemon, ORG",
                                    "PoundsSold": "117.0000"
                                },
                                {
                                    "Subcategory": "Dental Care",
                                    "Category": "Body Care",
                                    "ProductID": "818",
                                    "ProductName": "Unpaste Toothpaste BULK",
                                    "PoundsSold": "116.5496"
                                },
                                {
                                    "Subcategory": "Produce",
                                    "Category": "Fresh Produce",
                                    "ProductID": "641",
                                    "ProductName": "Squash Zucchini ORG",
                                    "PoundsSold": "116.5473"
                                },
                                {
                                    "Subcategory": "Candy",
                                    "Category": "Grocery",
                                    "ProductID": "582",
                                    "ProductName": "Mini Peanut Butter Cups - Milk Chocolate",
                                    "PoundsSold": "116.4767"
                                },
                                {
                                    "Subcategory": "Life Giving Foods",
                                    "Category": "Local Love",
                                    "ProductID": "1076",
                                    "ProductName": "Sauerkraut",
                                    "PoundsSold": "115.6493"
                                },
                                {
                                    "Subcategory": "Snackavist",
                                    "Category": "Local Love",
                                    "ProductID": "1080",
                                    "ProductName": "Falafel Mix GF, Snacktivist",
                                    "PoundsSold": "115.4055"
                                },
                                {
                                    "Subcategory": "Produce",
                                    "Category": "Fresh Produce",
                                    "ProductID": "640",
                                    "ProductName": "Mushrooms Crimini ORG",
                                    "PoundsSold": "113.9576"
                                },
                                {
                                    "Subcategory": "Produce",
                                    "Category": "Fresh Produce",
                                    "ProductID": "632",
                                    "ProductName": "Snap Peas ORG",
                                    "PoundsSold": "113.7268"
                                },
                                {
                                    "Subcategory": "Teas",
                                    "Category": "Grocery",
                                    "ProductID": "131",
                                    "ProductName": "Chai - Concentrate Bhakti",
                                    "PoundsSold": "112.1061"
                                },
                                {
                                    "Subcategory": "Snacks",
                                    "Category": "Grocery",
                                    "ProductID": "541",
                                    "ProductName": "Lillys Cookies, Black and Whites",
                                    "PoundsSold": "110.0479"
                                },
                                {
                                    "Subcategory": "Body Salts",
                                    "Category": "Body Care",
                                    "ProductID": "124",
                                    "ProductName": "Dead Sea Salt",
                                    "PoundsSold": "108.4034"
                                },
                                {
                                    "Subcategory": "Olio Skin",
                                    "Category": "Local Love",
                                    "ProductID": "311",
                                    "ProductName": "Olio Facial Bar",
                                    "PoundsSold": "108.3202"
                                },
                                {
                                    "Subcategory": "Herbs And Spices",
                                    "Category": "Grocery",
                                    "ProductID": "266",
                                    "ProductName": "No Chicken Veggie Broth",
                                    "PoundsSold": "108.1320"
                                },
                                {
                                    "Subcategory": "Produce",
                                    "Category": "Fresh Produce",
                                    "ProductID": "628",
                                    "ProductName": "Lemons ORG",
                                    "PoundsSold": "107.2147"
                                },
                                {
                                    "Subcategory": "Seeds And Grains",
                                    "Category": "Grocery",
                                    "ProductID": "1042",
                                    "ProductName": "Flax Meal",
                                    "PoundsSold": "105.4618"
                                },
                                {
                                    "Subcategory": "Produce",
                                    "Category": "Fresh Produce",
                                    "ProductID": "979",
                                    "ProductName": "Blood Oranges",
                                    "PoundsSold": "104.3530"
                                },
                                {
                                    "Subcategory": "Facial Care",
                                    "Category": "Body Care",
                                    "ProductID": "748",
                                    "ProductName": "Rosehip & Hibiscus Facial Cream",
                                    "PoundsSold": "104.2020"
                                },
                                {
                                    "Subcategory": "Sauces",
                                    "Category": "Grocery",
                                    "ProductID": "935",
                                    "ProductName": "Pasta Sauce - Tomato Basil ORG",
                                    "PoundsSold": "103.3264"
                                },
                                {
                                    "Subcategory": "Produce",
                                    "Category": "Fresh Produce",
                                    "ProductID": "872",
                                    "ProductName": "Lettuce, Gem LOCAL",
                                    "PoundsSold": "103.1436"
                                },
                                {
                                    "Subcategory": "Body Cleansing",
                                    "Category": "Body Care",
                                    "ProductID": "192",
                                    "ProductName": "ShiKai Shower Gel Pomegranate",
                                    "PoundsSold": "101.2798"
                                },
                                {
                                    "Subcategory": "Salsa del Diablo",
                                    "Category": "Local Love",
                                    "ProductID": "978",
                                    "ProductName": "Salsa del Diablo Hot Sauce",
                                    "PoundsSold": "98.5416"
                                },
                                {
                                    "Subcategory": "Teas",
                                    "Category": "Grocery",
                                    "ProductID": "310",
                                    "ProductName": "Chai Tea ORG",
                                    "PoundsSold": "97.8396"
                                },
                                {
                                    "Subcategory": "Produce",
                                    "Category": "Fresh Produce",
                                    "ProductID": "883",
                                    "ProductName": "Grapefruit, LRG",
                                    "PoundsSold": "97.0861"
                                },
                                {
                                    "Subcategory": "Sauces",
                                    "Category": "Grocery",
                                    "ProductID": "942",
                                    "ProductName": "Stoneground Mustard ORG",
                                    "PoundsSold": "96.0000"
                                },
                                {
                                    "Subcategory": "Body Cleansing",
                                    "Category": "Body Care",
                                    "ProductID": "164",
                                    "ProductName": "EO Hand Soap Unscented",
                                    "PoundsSold": "94.2818"
                                },
                                {
                                    "Subcategory": "Herbs And Spices",
                                    "Category": "Grocery",
                                    "ProductID": "998",
                                    "ProductName": "No Chicken Veggie Broth ORG",
                                    "PoundsSold": "93.0739"
                                },
                                {
                                    "Subcategory": "Cereals",
                                    "Category": "Grocery",
                                    "ProductID": "232",
                                    "ProductName": "Granola Bee's Knees ORG",
                                    "PoundsSold": "92.5946"
                                },
                                {
                                    "Subcategory": "Raw Ingredients",
                                    "Category": "Body Care",
                                    "ProductID": "244",
                                    "ProductName": "Cocoa Butter",
                                    "PoundsSold": "92.3633"
                                },
                                {
                                    "Subcategory": "Dental Care",
                                    "Category": "Body Care",
                                    "ProductID": "1081",
                                    "ProductName": "Floss Container - Georganics",
                                    "PoundsSold": "92.0000"
                                },
                                {
                                    "Subcategory": "Baking",
                                    "Category": "Grocery",
                                    "ProductID": "127",
                                    "ProductName": "Chocolate Chips Mini Milk",
                                    "PoundsSold": "91.4725"
                                },
                                {
                                    "Subcategory": "Produce",
                                    "Category": "Fresh Produce",
                                    "ProductID": "1086",
                                    "ProductName": "Apples, Granny Smith, CONV",
                                    "PoundsSold": "91.3050"
                                },
                                {
                                    "Subcategory": "Oils",
                                    "Category": "Grocery",
                                    "ProductID": "187",
                                    "ProductName": "Olive Oil, Napa Xtra Virgin ORG",
                                    "PoundsSold": "90.5543"
                                },
                                {
                                    "Subcategory": "Raw Ingredients",
                                    "Category": "Body Care",
                                    "ProductID": "712",
                                    "ProductName": "Grapeseed Oil",
                                    "PoundsSold": "89.8570"
                                },
                                {
                                    "Subcategory": "Sauces",
                                    "Category": "Grocery",
                                    "ProductID": "944",
                                    "ProductName": "Dijon Mustard ORG",
                                    "PoundsSold": "89.0000"
                                },
                                {
                                    "Subcategory": "Herbs And Spices",
                                    "Category": "Grocery",
                                    "ProductID": "260",
                                    "ProductName": "Ground Black Pepper",
                                    "PoundsSold": "88.0304"
                                },
                                {
                                    "Subcategory": "Baking",
                                    "Category": "Grocery",
                                    "ProductID": "581",
                                    "ProductName": "White Chocolate Chips",
                                    "PoundsSold": "87.9221"
                                },
                                {
                                    "Subcategory": "Raw Ingredients",
                                    "Category": "Body Care",
                                    "ProductID": "27",
                                    "ProductName": "Bentonite Clay",
                                    "PoundsSold": "87.2777"
                                },
                                {
                                    "Subcategory": "Sauces",
                                    "Category": "Grocery",
                                    "ProductID": "933",
                                    "ProductName": "Pasta Sauce - Marinara ORG",
                                    "PoundsSold": "86.2167"
                                },
                                {
                                    "Subcategory": "Facial Care",
                                    "Category": "Body Care",
                                    "ProductID": "749",
                                    "ProductName": "Sea Mineral Facial Toner",
                                    "PoundsSold": "85.4292"
                                },
                                {
                                    "Subcategory": "Dental Care",
                                    "Category": "Body Care",
                                    "ProductID": "1082",
                                    "ProductName": "Floss Refills - Georganics",
                                    "PoundsSold": "83.0000"
                                },
                                {
                                    "Subcategory": "Sauces",
                                    "Category": "Grocery",
                                    "ProductID": "934",
                                    "ProductName": "Pasta Sauce - Portobello ORG",
                                    "PoundsSold": "82.2618"
                                },
                                {
                                    "Subcategory": "Baking",
                                    "Category": "Grocery",
                                    "ProductID": "185",
                                    "ProductName": "Dry Active Yeast",
                                    "PoundsSold": "81.4576"
                                },
                                {
                                    "Subcategory": "Other Cleaners",
                                    "Category": "Cleaning Supply",
                                    "ProductID": "1094",
                                    "ProductName": "Meliora All Purpose Cleaner Tabs",
                                    "PoundsSold": "81.0000"
                                },
                                {
                                    "Subcategory": "Teas",
                                    "Category": "Grocery",
                                    "ProductID": "300",
                                    "ProductName": "English Breakfast Tea ORG",
                                    "PoundsSold": "80.0816"
                                },
                                {
                                    "Subcategory": "Sauces",
                                    "Category": "Grocery",
                                    "ProductID": "932",
                                    "ProductName": "Tomato Sauce ORG",
                                    "PoundsSold": "79.0000"
                                },
                                {
                                    "Subcategory": "Oils",
                                    "Category": "Grocery",
                                    "ProductID": "519",
                                    "ProductName": "Avocado Oil Expeller Pressed",
                                    "PoundsSold": "77.4543"
                                },
                                {
                                    "Subcategory": "Beans And Legumes",
                                    "Category": "Grocery",
                                    "ProductID": "38",
                                    "ProductName": "Split Peas Yellow",
                                    "PoundsSold": "76.2449"
                                },
                                {
                                    "Subcategory": "Teas",
                                    "Category": "Grocery",
                                    "ProductID": "307",
                                    "ProductName": "Gunpowder Green Tea ORG",
                                    "PoundsSold": "74.7804"
                                },
                                {
                                    "Subcategory": "Lotions",
                                    "Category": "Body Care",
                                    "ProductID": "202",
                                    "ProductName": "ShiKai Lotion - Coconut",
                                    "PoundsSold": "73.5035"
                                },
                                {
                                    "Subcategory": "Dried Fruits",
                                    "Category": "Grocery",
                                    "ProductID": "1109",
                                    "ProductName": "Dried Mango Cheeks CONV",
                                    "PoundsSold": "72.4778"
                                },
                                {
                                    "Subcategory": "Pastas",
                                    "Category": "Grocery",
                                    "ProductID": "647",
                                    "ProductName": "Whole Wheat Rotini Pasta",
                                    "PoundsSold": "72.2649"
                                },
                                {
                                    "Subcategory": "Teas",
                                    "Category": "Grocery",
                                    "ProductID": "316",
                                    "ProductName": "Earl Grey Tea ORG",
                                    "PoundsSold": "70.0312"
                                },
                                {
                                    "Subcategory": "Dried Fruits",
                                    "Category": "Grocery",
                                    "ProductID": "605",
                                    "ProductName": "Dried Goji Berries ORG",
                                    "PoundsSold": "69.5433"
                                },
                                {
                                    "Subcategory": "Hair Care",
                                    "Category": "Body Care",
                                    "ProductID": "199",
                                    "ProductName": "EO Conditioner Rose Geranium",
                                    "PoundsSold": "69.1196"
                                },
                                {
                                    "Subcategory": "Sauces",
                                    "Category": "Grocery",
                                    "ProductID": "912",
                                    "ProductName": "Peanut Butter - MaraNatha ORG",
                                    "PoundsSold": "68.0000"
                                },
                                {
                                    "Subcategory": "Dried Fruits",
                                    "Category": "Grocery",
                                    "ProductID": "111",
                                    "ProductName": "Coconut Medium Flake ORG",
                                    "PoundsSold": "66.5324"
                                },
                                {
                                    "Subcategory": "Sauces",
                                    "Category": "Grocery",
                                    "ProductID": "1003",
                                    "ProductName": "Pasta Sauce - Roasted Garlic ORG",
                                    "PoundsSold": "66.0179"
                                },
                                {
                                    "Subcategory": "Sauces",
                                    "Category": "Grocery",
                                    "ProductID": "938",
                                    "ProductName": "Green Olives",
                                    "PoundsSold": "65.0000"
                                },
                                {
                                    "Subcategory": "Herbs And Spices",
                                    "Category": "Grocery",
                                    "ProductID": "230",
                                    "ProductName": "Onion Powder ORG",
                                    "PoundsSold": "64.2284"
                                },
                                {
                                    "Subcategory": "Herbs And Spices",
                                    "Category": "Grocery",
                                    "ProductID": "213",
                                    "ProductName": "Garlic Salt ORG",
                                    "PoundsSold": "63.8564"
                                },
                                {
                                    "Subcategory": "Produce",
                                    "Category": "Fresh Produce",
                                    "ProductID": "997",
                                    "ProductName": "Brussel Sprouts, CONV",
                                    "PoundsSold": "63.0108"
                                },
                                {
                                    "Subcategory": "Vinegars",
                                    "Category": "Grocery",
                                    "ProductID": "92",
                                    "ProductName": "Apple Cider Vinegar Aunt Pattys ORG",
                                    "PoundsSold": "62.3309"
                                },
                                {
                                    "Subcategory": "Other Cleaners",
                                    "Category": "Cleaning Supply",
                                    "ProductID": "841",
                                    "ProductName": "EcosPro Glass Cleaner Concentrate",
                                    "PoundsSold": "61.0965"
                                },
                                {
                                    "Subcategory": "Sauces",
                                    "Category": "Grocery",
                                    "ProductID": "913",
                                    "ProductName": "Peanut Butter - MaraNatha",
                                    "PoundsSold": "60.0000"
                                },
                                {
                                    "Subcategory": "Salsa del Diablo",
                                    "Category": "Local Love",
                                    "ProductID": "1107",
                                    "ProductName": "Salsa del Diablo Tomatillo GUACAMOLE",
                                    "PoundsSold": "59.9342"
                                },
                                {
                                    "Subcategory": "Snacks",
                                    "Category": "Grocery",
                                    "ProductID": "857",
                                    "ProductName": "Lillys Raspberry Hamantashen",
                                    "PoundsSold": "59.0856"
                                },
                                {
                                    "Subcategory": "Salts",
                                    "Category": "Grocery",
                                    "ProductID": "243",
                                    "ProductName": "Himalayan Pink Salt",
                                    "PoundsSold": "58.8380"
                                },
                                {
                                    "Subcategory": "Dishsoaps",
                                    "Category": "Cleaning Supply",
                                    "ProductID": "692",
                                    "ProductName": "Biokleen Automatic Dish Gel",
                                    "PoundsSold": "58.7738"
                                },
                                {
                                    "Subcategory": "Baking",
                                    "Category": "Grocery",
                                    "ProductID": "89",
                                    "ProductName": "Arrowroot Powder",
                                    "PoundsSold": "56.5190"
                                },
                                {
                                    "Subcategory": "Other Cleaners",
                                    "Category": "Cleaning Supply",
                                    "ProductID": "839",
                                    "ProductName": "Melioria Scrub BULK",
                                    "PoundsSold": "56.0520"
                                },
                                {
                                    "Subcategory": "Salts",
                                    "Category": "Grocery",
                                    "ProductID": "145",
                                    "ProductName": "Grey Celtic Sea Salt",
                                    "PoundsSold": "55.9999"
                                },
                                {
                                    "Subcategory": "Produce",
                                    "Category": "Fresh Produce",
                                    "ProductID": "984",
                                    "ProductName": "Brussel Sprouts ORG",
                                    "PoundsSold": "55.5596"
                                },
                                {
                                    "Subcategory": "Herbs And Spices",
                                    "Category": "Grocery",
                                    "ProductID": "234",
                                    "ProductName": "Korintji Cinnamon",
                                    "PoundsSold": "53.7050"
                                },
                                {
                                    "Subcategory": "Laundry Cleaners",
                                    "Category": "Cleaning Supply",
                                    "ProductID": "837",
                                    "ProductName": "Meliora BULK laundry soap",
                                    "PoundsSold": "53.0611"
                                },
                                {
                                    "Subcategory": "Herbs And Spices",
                                    "Category": "Grocery",
                                    "ProductID": "252",
                                    "ProductName": "Turmeric ORG",
                                    "PoundsSold": "51.7684"
                                },
                                {
                                    "Subcategory": "Candy",
                                    "Category": "Grocery",
                                    "ProductID": "960",
                                    "ProductName": "Gummy  Sours",
                                    "PoundsSold": "51.5184"
                                },
                                {
                                    "Subcategory": "Teas",
                                    "Category": "Grocery",
                                    "ProductID": "298",
                                    "ProductName": "Chai - Indian Spice Tea",
                                    "PoundsSold": "51.0329"
                                },
                                {
                                    "Subcategory": "Herbs And Spices",
                                    "Category": "Grocery",
                                    "ProductID": "547",
                                    "ProductName": "Mild Curry Powder",
                                    "PoundsSold": "50.7350"
                                },
                                {
                                    "Subcategory": "Produce",
                                    "Category": "Fresh Produce",
                                    "ProductID": "977",
                                    "ProductName": "Ginger Root ORG",
                                    "PoundsSold": "50.6126"
                                },
                                {
                                    "Subcategory": "Seeds And Grains",
                                    "Category": "Grocery",
                                    "ProductID": "548",
                                    "ProductName": "Black Sesame Seeds ORG",
                                    "PoundsSold": "50.1554"
                                },
                                {
                                    "Subcategory": "Raw Ingredients",
                                    "Category": "Body Care",
                                    "ProductID": "843",
                                    "ProductName": "Aloe Gel",
                                    "PoundsSold": "49.8904"
                                },
                                {
                                    "Subcategory": "Hair Care",
                                    "Category": "Body Care",
                                    "ProductID": "745",
                                    "ProductName": "Dry Shampoo",
                                    "PoundsSold": "49.3212"
                                },
                                {
                                    "Subcategory": "Sauces",
                                    "Category": "Grocery",
                                    "ProductID": "1004",
                                    "ProductName": "Crushed Tomato - Basil ORG",
                                    "PoundsSold": "49.0000"
                                },
                                {
                                    "Subcategory": "Snackavist",
                                    "Category": "Local Love",
                                    "ProductID": "1097",
                                    "ProductName": "Focaccia Mix GF, Snacktivist",
                                    "PoundsSold": "48.9723"
                                },
                                {
                                    "Subcategory": "Produce",
                                    "Category": "Fresh Produce",
                                    "ProductID": "856",
                                    "ProductName": "Red Potatoes, conventional",
                                    "PoundsSold": "47.0516"
                                },
                                {
                                    "Subcategory": "Pastas",
                                    "Category": "Grocery",
                                    "ProductID": "1116",
                                    "ProductName": "Macaroni, Elbow pasta ORG",
                                    "PoundsSold": "46.1197"
                                },
                                {
                                    "Subcategory": "Baking",
                                    "Category": "Grocery",
                                    "ProductID": "209",
                                    "ProductName": "Raw Cacao Powder ORG",
                                    "PoundsSold": "45.8134"
                                },
                                {
                                    "Subcategory": "Olio Skin",
                                    "Category": "Local Love",
                                    "ProductID": "315",
                                    "ProductName": "Olio Deodorant Bar",
                                    "PoundsSold": "45.5361"
                                },
                                {
                                    "Subcategory": "Sauces",
                                    "Category": "Grocery",
                                    "ProductID": "908",
                                    "ProductName": "Red Wine Vinegar BOTTLED - Napa Valley Naturals",
                                    "PoundsSold": "45.0000"
                                },
                                {
                                    "Subcategory": "Sauces",
                                    "Category": "Grocery",
                                    "ProductID": "919",
                                    "ProductName": "Mayo - Spectrum",
                                    "PoundsSold": "45.0000"
                                },
                                {
                                    "Subcategory": "Body Cleansing",
                                    "Category": "Body Care",
                                    "ProductID": "820",
                                    "ProductName": "Equalizer Creme Facial Cleanser",
                                    "PoundsSold": "44.9914"
                                },
                                {
                                    "Subcategory": "Multi Purpose",
                                    "Category": "Cleaning Supply",
                                    "ProductID": "114",
                                    "ProductName": "Biokleen BAC-OUT",
                                    "PoundsSold": "43.9333"
                                },
                                {
                                    "Subcategory": "Facial Care",
                                    "Category": "Body Care",
                                    "ProductID": "228",
                                    "ProductName": "Witch Hazel Org",
                                    "PoundsSold": "43.5816"
                                },
                                {
                                    "Subcategory": "Raw Ingredients",
                                    "Category": "Body Care",
                                    "ProductID": "106",
                                    "ProductName": "Castor Oil",
                                    "PoundsSold": "43.5733"
                                },
                                {
                                    "Subcategory": "Teas",
                                    "Category": "Grocery",
                                    "ProductID": "299",
                                    "ProductName": "Luscious Licorice Tea",
                                    "PoundsSold": "43.4173"
                                },
                                {
                                    "Subcategory": "Snacks",
                                    "Category": "Grocery",
                                    "ProductID": "982",
                                    "ProductName": "Chocolate Covered Pretzels",
                                    "PoundsSold": "43.2758"
                                },
                                {
                                    "Subcategory": "Herbs And Spices",
                                    "Category": "Grocery",
                                    "ProductID": "985",
                                    "ProductName": "Chili Powder ORG",
                                    "PoundsSold": "43.0541"
                                },
                                {
                                    "Subcategory": "Sweeteners",
                                    "Category": "Grocery",
                                    "ProductID": "500",
                                    "ProductName": "Agave - Wholesome Blue Raw",
                                    "PoundsSold": "42.3818"
                                },
                                {
                                    "Subcategory": "Balms, Oils And Butters",
                                    "Category": "Body Care",
                                    "ProductID": "208",
                                    "ProductName": "Apricot Kernel Oil",
                                    "PoundsSold": "41.3847"
                                },
                                {
                                    "Subcategory": "Seeds And Grains",
                                    "Category": "Grocery",
                                    "ProductID": "897",
                                    "ProductName": "Millet - ORG",
                                    "PoundsSold": "40.6077"
                                },
                                {
                                    "Subcategory": "Produce",
                                    "Category": "Fresh Produce",
                                    "ProductID": "1071",
                                    "ProductName": "Mandarin w/ Stem&Leaf ORG",
                                    "PoundsSold": "40.5499"
                                },
                                {
                                    "Subcategory": "Olio Skin",
                                    "Category": "Local Love",
                                    "ProductID": "869",
                                    "ProductName": "Olio Shave Bar",
                                    "PoundsSold": "39.7763"
                                },
                                {
                                    "Subcategory": "Body Cleansing",
                                    "Category": "Body Care",
                                    "ProductID": "945",
                                    "ProductName": "Sunscreen, Lahaina Organics",
                                    "PoundsSold": "39.0000"
                                },
                                {
                                    "Subcategory": "Produce",
                                    "Category": "Fresh Produce",
                                    "ProductID": "1083",
                                    "ProductName": "Pears, D'Anjou, ORG",
                                    "PoundsSold": "38.8826"
                                },
                                {
                                    "Subcategory": "Sauces",
                                    "Category": "Grocery",
                                    "ProductID": "937",
                                    "ProductName": "VOID",
                                    "PoundsSold": "38.0000"
                                },
                                {
                                    "Subcategory": "Sauces",
                                    "Category": "Grocery",
                                    "ProductID": "943",
                                    "ProductName": "Yellow Mustard ORG",
                                    "PoundsSold": "38.0000"
                                },
                                {
                                    "Subcategory": "Beans And Legumes",
                                    "Category": "Grocery",
                                    "ProductID": "772",
                                    "ProductName": "Lentils Red CONV",
                                    "PoundsSold": "37.4827"
                                },
                                {
                                    "Subcategory": "Produce",
                                    "Category": "Fresh Produce",
                                    "ProductID": "688",
                                    "ProductName": "Mangos, LRG Conv.",
                                    "PoundsSold": "37.0586"
                                },
                                {
                                    "Subcategory": "Teas",
                                    "Category": "Grocery",
                                    "ProductID": "308",
                                    "ProductName": "Relaxing Blend Tea ORG",
                                    "PoundsSold": "37.0052"
                                },
                                {
                                    "Subcategory": "Lotions",
                                    "Category": "Body Care",
                                    "ProductID": "203",
                                    "ProductName": "Shikai Lotion Pomegranate",
                                    "PoundsSold": "36.6913"
                                },
                                {
                                    "Subcategory": "Herbs And Spices",
                                    "Category": "Grocery",
                                    "ProductID": "224",
                                    "ProductName": "Red Chili Pepper Flakes ORG",
                                    "PoundsSold": "36.6908"
                                },
                                {
                                    "Subcategory": "Produce",
                                    "Category": "Fresh Produce",
                                    "ProductID": "731",
                                    "ProductName": "Squash LOCAL",
                                    "PoundsSold": "36.4688"
                                },
                                {
                                    "Subcategory": "Kombucha",
                                    "Category": "Local Love",
                                    "ProductID": "473",
                                    "ProductName": "Cru Kombucha, Ginger Pear",
                                    "PoundsSold": "36.2607"
                                },
                                {
                                    "Subcategory": "Dairy",
                                    "Category": "Grocery",
                                    "ProductID": "620",
                                    "ProductName": "Morning Fresh Half Gal Whole Milk",
                                    "PoundsSold": "36.2458"
                                },
                                {
                                    "Subcategory": "Other Cleaners",
                                    "Category": "Cleaning Supply",
                                    "ProductID": "594",
                                    "ProductName": "EcosPro Lavender Glass Cleaner, Concentrate",
                                    "PoundsSold": "36.0764"
                                },
                                {
                                    "Subcategory": "Teas",
                                    "Category": "Grocery",
                                    "ProductID": "289",
                                    "ProductName": "Rooibos Tea ORG",
                                    "PoundsSold": "35.4336"
                                },
                                {
                                    "Subcategory": "Herbs And Spices",
                                    "Category": "Grocery",
                                    "ProductID": "233",
                                    "ProductName": "Cayenne Powder ORG",
                                    "PoundsSold": "35.4206"
                                },
                                {
                                    "Subcategory": "Sauces",
                                    "Category": "Grocery",
                                    "ProductID": "911",
                                    "ProductName": "Creamed Coconut - Glory Bee",
                                    "PoundsSold": "35.0000"
                                },
                                {
                                    "Subcategory": "Baking",
                                    "Category": "Grocery",
                                    "ProductID": "1074",
                                    "ProductName": "Cocoa Powder 22-24% Dutch Processed",
                                    "PoundsSold": "34.7705"
                                },
                                {
                                    "Subcategory": "Flours",
                                    "Category": "Grocery",
                                    "ProductID": "450",
                                    "ProductName": "White Flour ORG (Sprouts)",
                                    "PoundsSold": "34.3441"
                                },
                                {
                                    "Subcategory": "Flours",
                                    "Category": "Grocery",
                                    "ProductID": "488",
                                    "ProductName": "All Purpose Unbleached Flour ORG",
                                    "PoundsSold": "34.2346"
                                },
                                {
                                    "Subcategory": "Vinegars",
                                    "Category": "Grocery",
                                    "ProductID": "1090",
                                    "ProductName": "Red Wine Vinegar BULK ORG",
                                    "PoundsSold": "33.8158"
                                },
                                {
                                    "Subcategory": "Sweet Hazel",
                                    "Category": "Local Love",
                                    "ProductID": "1030",
                                    "ProductName": "Toffee, vegan by Sweet Hazel, LOCAL",
                                    "PoundsSold": "33.0200"
                                },
                                {
                                    "Subcategory": "Teas",
                                    "Category": "Grocery",
                                    "ProductID": "295",
                                    "ProductName": "Peppermint Tea ORG",
                                    "PoundsSold": "32.9230"
                                },
                                {
                                    "Subcategory": "Herbs And Spices",
                                    "Category": "Grocery",
                                    "ProductID": "270",
                                    "ProductName": "Ginger Ground ORG",
                                    "PoundsSold": "32.7707"
                                },
                                {
                                    "Subcategory": "Seeds And Grains",
                                    "Category": "Grocery",
                                    "ProductID": "894",
                                    "ProductName": "Oats - Quick OatsGF",
                                    "PoundsSold": "29.5372"
                                },
                                {
                                    "Subcategory": "Dairy",
                                    "Category": "Grocery",
                                    "ProductID": "621",
                                    "ProductName": "Morning Qrt Chocolate Whl Milk",
                                    "PoundsSold": "29.4958"
                                },
                                {
                                    "Subcategory": "Dried Fruits",
                                    "Category": "Grocery",
                                    "ProductID": "1095",
                                    "ProductName": "Date Rolls Coconut, ORG",
                                    "PoundsSold": "29.1590"
                                },
                                {
                                    "Subcategory": "Kombucha",
                                    "Category": "Local Love",
                                    "ProductID": "472",
                                    "ProductName": "Cru Kombucha, Blood Orange Cranberry",
                                    "PoundsSold": "29.0456"
                                },
                                {
                                    "Subcategory": "Nuts",
                                    "Category": "Grocery",
                                    "ProductID": "645",
                                    "ProductName": "Peanuts Dry Roasted CONV",
                                    "PoundsSold": "29.0351"
                                },
                                {
                                    "Subcategory": "Herbs And Spices",
                                    "Category": "Grocery",
                                    "ProductID": "237",
                                    "ProductName": "Poppy Seed ORG",
                                    "PoundsSold": "28.9471"
                                },
                                {
                                    "Subcategory": "Body Cleansing",
                                    "Category": "Body Care",
                                    "ProductID": "892",
                                    "ProductName": "Hand Sanitizer Liquid, Bac-D",
                                    "PoundsSold": "28.6860"
                                },
                                {
                                    "Subcategory": "Teas",
                                    "Category": "Grocery",
                                    "ProductID": "263",
                                    "ProductName": "Yerba Mate Tea - Guayaki ORG",
                                    "PoundsSold": "28.1686"
                                },
                                {
                                    "Subcategory": "Herbs And Spices",
                                    "Category": "Grocery",
                                    "ProductID": "291",
                                    "ProductName": "Smoked Paprika ORG",
                                    "PoundsSold": "27.5214"
                                },
                                {
                                    "Subcategory": "Herbs And Spices",
                                    "Category": "Grocery",
                                    "ProductID": "726",
                                    "ProductName": "Chili Powder",
                                    "PoundsSold": "27.4348"
                                },
                                {
                                    "Subcategory": "Herbs And Spices",
                                    "Category": "Grocery",
                                    "ProductID": "392",
                                    "ProductName": "Smoked Paprika",
                                    "PoundsSold": "27.0643"
                                },
                                {
                                    "Subcategory": "Balms, Oils And Butters",
                                    "Category": "Body Care",
                                    "ProductID": "950",
                                    "ProductName": "Routine Deodorant BULK",
                                    "PoundsSold": "26.6941"
                                },
                                {
                                    "Subcategory": "Sweet Hazel",
                                    "Category": "Local Love",
                                    "ProductID": "1028",
                                    "ProductName": "Peppermint Bark, vegan by Sweet Hazel",
                                    "PoundsSold": "26.4000"
                                },
                                {
                                    "Subcategory": "Produce",
                                    "Category": "Fresh Produce",
                                    "ProductID": "876",
                                    "ProductName": "Tomatoes,  ORG",
                                    "PoundsSold": "26.3672"
                                },
                                {
                                    "Subcategory": "Herbs And Spices",
                                    "Category": "Grocery",
                                    "ProductID": "309",
                                    "ProductName": "Ceylon Cinnamon ORG",
                                    "PoundsSold": "25.6755"
                                },
                                {
                                    "Subcategory": "Dental Care",
                                    "Category": "Body Care",
                                    "ProductID": "1068",
                                    "ProductName": "Ruut Goods Toothpaste BULK",
                                    "PoundsSold": "25.1394"
                                },
                                {
                                    "Subcategory": "Balms, Oils And Butters",
                                    "Category": "Body Care",
                                    "ProductID": "95",
                                    "ProductName": "Vegetable Glycerin",
                                    "PoundsSold": "24.5992"
                                },
                                {
                                    "Subcategory": "Seeds And Grains",
                                    "Category": "Grocery",
                                    "ProductID": "959",
                                    "ProductName": "Popcorn - Red, White and Blue ORG",
                                    "PoundsSold": "24.4404"
                                },
                                {
                                    "Subcategory": "Herbs And Spices",
                                    "Category": "Grocery",
                                    "ProductID": "265",
                                    "ProductName": "Oregano",
                                    "PoundsSold": "24.3330"
                                },
                                {
                                    "Subcategory": "Raw Ingredients",
                                    "Category": "Body Care",
                                    "ProductID": "262",
                                    "ProductName": "French Green Clay",
                                    "PoundsSold": "23.7288"
                                },
                                {
                                    "Subcategory": "Produce",
                                    "Category": "Fresh Produce",
                                    "ProductID": "865",
                                    "ProductName": "Squash Yellow Conventional",
                                    "PoundsSold": "23.6962"
                                },
                                {
                                    "Subcategory": "Produce",
                                    "Category": "Fresh Produce",
                                    "ProductID": "898",
                                    "ProductName": "Black Plum ORG",
                                    "PoundsSold": "23.6936"
                                },
                                {
                                    "Subcategory": "Herbs And Spices",
                                    "Category": "Grocery",
                                    "ProductID": "992",
                                    "ProductName": "Cinnamon Korintji, ORG",
                                    "PoundsSold": "23.5307"
                                },
                                {
                                    "Subcategory": "Herbs And Spices",
                                    "Category": "Grocery",
                                    "ProductID": "677",
                                    "ProductName": "Taco Seasoning",
                                    "PoundsSold": "23.1088"
                                },
                                {
                                    "Subcategory": "Beans And Legumes",
                                    "Category": "Grocery",
                                    "ProductID": "1031",
                                    "ProductName": "Small Red Chili Beans ORG",
                                    "PoundsSold": "22.4452"
                                },
                                {
                                    "Subcategory": "Hair Care",
                                    "Category": "Body Care",
                                    "ProductID": "211",
                                    "ProductName": "Giovanni Shampoo Smooth as Silk",
                                    "PoundsSold": "22.4190"
                                },
                                {
                                    "Subcategory": "Herbs And Spices",
                                    "Category": "Grocery",
                                    "ProductID": "751",
                                    "ProductName": "Minced Dried Onion",
                                    "PoundsSold": "22.2889"
                                },
                                {
                                    "Subcategory": "Produce",
                                    "Category": "Fresh Produce",
                                    "ProductID": "1038",
                                    "ProductName": "Carrots, Loose tri-color",
                                    "PoundsSold": "22.2417"
                                },
                                {
                                    "Subcategory": "Produce",
                                    "Category": "Fresh Produce",
                                    "ProductID": "704",
                                    "ProductName": "Cut Veggie Mix",
                                    "PoundsSold": "22.1342"
                                },
                                {
                                    "Subcategory": "Herbs And Spices",
                                    "Category": "Grocery",
                                    "ProductID": "393",
                                    "ProductName": "Paprika Powder",
                                    "PoundsSold": "22.0821"
                                },
                                {
                                    "Subcategory": "Hair Care",
                                    "Category": "Body Care",
                                    "ProductID": "528",
                                    "ProductName": "Giovanni Conditioner Smooth as Silk",
                                    "PoundsSold": "21.8279"
                                },
                                {
                                    "Subcategory": "Produce",
                                    "Category": "Fresh Produce",
                                    "ProductID": "906",
                                    "ProductName": "Summer Crisp Lettuce",
                                    "PoundsSold": "21.3225"
                                },
                                {
                                    "Subcategory": "Herbs And Spices",
                                    "Category": "Grocery",
                                    "ProductID": "249",
                                    "ProductName": "Onion Powder, Conv.",
                                    "PoundsSold": "21.2031"
                                },
                                {
                                    "Subcategory": "Herbs And Spices",
                                    "Category": "Grocery",
                                    "ProductID": "277",
                                    "ProductName": "Italian Seasoning",
                                    "PoundsSold": "21.0579"
                                },
                                {
                                    "Subcategory": "Sauces",
                                    "Category": "Grocery",
                                    "ProductID": "1059",
                                    "ProductName": "Coconut Oil In Jar ORG",
                                    "PoundsSold": "20.9182"
                                },
                                {
                                    "Subcategory": "Herbs And Spices",
                                    "Category": "Grocery",
                                    "ProductID": "247",
                                    "ProductName": "Mustard Seed - Whole ORG",
                                    "PoundsSold": "20.2827"
                                },
                                {
                                    "Subcategory": "Sauces",
                                    "Category": "Grocery",
                                    "ProductID": "1100",
                                    "ProductName": "Black  Olives, Natural Value",
                                    "PoundsSold": "20.0000"
                                },
                                {
                                    "Subcategory": "Nut Butters",
                                    "Category": "Grocery",
                                    "ProductID": "144",
                                    "ProductName": "Peanut Butter - natural",
                                    "PoundsSold": "19.9545"
                                },
                                {
                                    "Subcategory": "Candy",
                                    "Category": "Grocery",
                                    "ProductID": "158",
                                    "ProductName": "Mini Marshmallows, Chocolate Covered",
                                    "PoundsSold": "19.7240"
                                },
                                {
                                    "Subcategory": "Produce",
                                    "Category": "Fresh Produce",
                                    "ProductID": "610",
                                    "ProductName": "Herbs per bunch",
                                    "PoundsSold": "19.5444"
                                },
                                {
                                    "Subcategory": "Nuts",
                                    "Category": "Grocery",
                                    "ProductID": "499",
                                    "ProductName": "Almonds Cocoa Dusted ORG",
                                    "PoundsSold": "19.1962"
                                },
                                {
                                    "Subcategory": "Produce",
                                    "Category": "Fresh Produce",
                                    "ProductID": "702",
                                    "ProductName": "Cut Watermelon",
                                    "PoundsSold": "19.0394"
                                },
                                {
                                    "Subcategory": "Produce",
                                    "Category": "Fresh Produce",
                                    "ProductID": "706",
                                    "ProductName": "Cut Butternut Squash",
                                    "PoundsSold": "18.8409"
                                },
                                {
                                    "Subcategory": "Produce",
                                    "Category": "Fresh Produce",
                                    "ProductID": "611",
                                    "ProductName": "Cucumbers",
                                    "PoundsSold": "18.2726"
                                },
                                {
                                    "Subcategory": "Teas",
                                    "Category": "Grocery",
                                    "ProductID": "958",
                                    "ProductName": "Indian Spice Chai Tea ORG",
                                    "PoundsSold": "18.1929"
                                },
                                {
                                    "Subcategory": "Condiments",
                                    "Category": "Grocery",
                                    "ProductID": "375",
                                    "ProductName": "Cashew Queso Mild Nacho 10.8oz",
                                    "PoundsSold": "18.0000"
                                },
                                {
                                    "Subcategory": "Herbs And Spices",
                                    "Category": "Grocery",
                                    "ProductID": "275",
                                    "ProductName": "Basil ORG",
                                    "PoundsSold": "17.5464"
                                },
                                {
                                    "Subcategory": "Pastas",
                                    "Category": "Grocery",
                                    "ProductID": "648",
                                    "ProductName": "Whole Wheat Spaghetti Pasta",
                                    "PoundsSold": "17.4103"
                                },
                                {
                                    "Subcategory": "Herbs And Spices",
                                    "Category": "Grocery",
                                    "ProductID": "312",
                                    "ProductName": "Garam Masala ORG",
                                    "PoundsSold": "17.3348"
                                },
                                {
                                    "Subcategory": "Herbs And Spices",
                                    "Category": "Grocery",
                                    "ProductID": "286",
                                    "ProductName": "Paprika ORG",
                                    "PoundsSold": "17.3100"
                                },
                                {
                                    "Subcategory": "Produce",
                                    "Category": "Fresh Produce",
                                    "ProductID": "671",
                                    "ProductName": "local flowers in glass per bunch",
                                    "PoundsSold": "16.9000"
                                },
                                {
                                    "Subcategory": "Produce",
                                    "Category": "Fresh Produce",
                                    "ProductID": "994",
                                    "ProductName": "Carrots, LOCAL",
                                    "PoundsSold": "16.8900"
                                },
                                {
                                    "Subcategory": "Herbs And Spices",
                                    "Category": "Grocery",
                                    "ProductID": "550",
                                    "ProductName": "Thyme ORG",
                                    "PoundsSold": "16.5487"
                                },
                                {
                                    "Subcategory": "Produce",
                                    "Category": "Fresh Produce",
                                    "ProductID": "652",
                                    "ProductName": "Garlic ORG",
                                    "PoundsSold": "16.3045"
                                },
                                {
                                    "Subcategory": "Produce",
                                    "Category": "Fresh Produce",
                                    "ProductID": "612",
                                    "ProductName": "Green Beans ORG",
                                    "PoundsSold": "15.8075"
                                },
                                {
                                    "Subcategory": "Sweet Hazel",
                                    "Category": "Local Love",
                                    "ProductID": "1029",
                                    "ProductName": "Peanut Brittle, vegan by Sweet Hazel, LOCAL",
                                    "PoundsSold": "15.7800"
                                },
                                {
                                    "Subcategory": "Produce",
                                    "Category": "Fresh Produce",
                                    "ProductID": "700",
                                    "ProductName": "Cut Carrots, ORG",
                                    "PoundsSold": "15.4212"
                                },
                                {
                                    "Subcategory": "Herbs And Spices",
                                    "Category": "Grocery",
                                    "ProductID": "329",
                                    "ProductName": "Nutmeg - Ground",
                                    "PoundsSold": "15.2123"
                                },
                                {
                                    "Subcategory": "Sauces",
                                    "Category": "Grocery",
                                    "ProductID": "914",
                                    "ProductName": "Italian Dressing - Primal Kitchen",
                                    "PoundsSold": "15.0000"
                                },
                                {
                                    "Subcategory": "Herbs And Spices",
                                    "Category": "Grocery",
                                    "ProductID": "990",
                                    "ProductName": "Garlic Powder, CONV",
                                    "PoundsSold": "14.9669"
                                },
                                {
                                    "Subcategory": "Produce",
                                    "Category": "Fresh Produce",
                                    "ProductID": "609",
                                    "ProductName": "Radish ORG per bunch",
                                    "PoundsSold": "14.9635"
                                },
                                {
                                    "Subcategory": "Herbs And Spices",
                                    "Category": "Grocery",
                                    "ProductID": "330",
                                    "ProductName": "Cardamom",
                                    "PoundsSold": "14.8918"
                                },
                                {
                                    "Subcategory": "Drool",
                                    "Category": "Local Love",
                                    "ProductID": "1045",
                                    "ProductName": "Dog Biscuit, Drool BULK",
                                    "PoundsSold": "14.8233"
                                },
                                {
                                    "Subcategory": "Condiments",
                                    "Category": "Grocery",
                                    "ProductID": "583",
                                    "ProductName": "Earth Balance Buttery Spread",
                                    "PoundsSold": "14.4482"
                                },
                                {
                                    "Subcategory": "Sauces",
                                    "Category": "Grocery",
                                    "ProductID": "378",
                                    "ProductName": "Indian Simmer Sauce - Butter Masala 12.5oz",
                                    "PoundsSold": "14.0000"
                                },
                                {
                                    "Subcategory": "Produce",
                                    "Category": "Fresh Produce",
                                    "ProductID": "885",
                                    "ProductName": "Turnup Bunch, LOCAL",
                                    "PoundsSold": "14.0000"
                                },
                                {
                                    "Subcategory": "Oils",
                                    "Category": "Grocery",
                                    "ProductID": "1114",
                                    "ProductName": "Coconut Oil, ORG 12oz Glory Bee",
                                    "PoundsSold": "14.0000"
                                },
                                {
                                    "Subcategory": "Herbs And Spices",
                                    "Category": "Grocery",
                                    "ProductID": "744",
                                    "ProductName": "Cumin Seed ORG",
                                    "PoundsSold": "13.6915"
                                },
                                {
                                    "Subcategory": "Produce",
                                    "Category": "Fresh Produce",
                                    "ProductID": "709",
                                    "ProductName": "Cut Organic Zucchini Noodles",
                                    "PoundsSold": "13.2445"
                                },
                                {
                                    "Subcategory": "Baking",
                                    "Category": "Grocery",
                                    "ProductID": "864",
                                    "ProductName": "Yeast Instant",
                                    "PoundsSold": "13.1663"
                                },
                                {
                                    "Subcategory": "Produce",
                                    "Category": "Fresh Produce",
                                    "ProductID": "952",
                                    "ProductName": "Celery, Bunch ORG",
                                    "PoundsSold": "13.0000"
                                },
                                {
                                    "Subcategory": "Candy",
                                    "Category": "Grocery",
                                    "ProductID": "169",
                                    "ProductName": "Elements Chocolate Bar, Raw Chocolate",
                                    "PoundsSold": "13.0000"
                                },
                                {
                                    "Subcategory": "Herbs And Spices",
                                    "Category": "Grocery",
                                    "ProductID": "269",
                                    "ProductName": "Chicory Root ORG",
                                    "PoundsSold": "12.8775"
                                },
                                {
                                    "Subcategory": "Herbs And Spices",
                                    "Category": "Grocery",
                                    "ProductID": "306",
                                    "ProductName": "Vindaloo Curry ORG",
                                    "PoundsSold": "12.8200"
                                },
                                {
                                    "Subcategory": "Coffee",
                                    "Category": "Grocery",
                                    "ProductID": "486",
                                    "ProductName": "Coffee Peruvian",
                                    "PoundsSold": "12.7592"
                                },
                                {
                                    "Subcategory": "Herbs And Spices",
                                    "Category": "Grocery",
                                    "ProductID": "217",
                                    "ProductName": "Mustard - Ground ORG",
                                    "PoundsSold": "12.5021"
                                },
                                {
                                    "Subcategory": "Drool",
                                    "Category": "Local Love",
                                    "ProductID": "1048",
                                    "ProductName": "Dog Biscuit, Mini M’ Bones, BULK, Drool",
                                    "PoundsSold": "12.4621"
                                },
                                {
                                    "Subcategory": "Kings Peak Coffee",
                                    "Category": "Local Love",
                                    "ProductID": "1132",
                                    "ProductName": "Kings Peak Coffee",
                                    "PoundsSold": "12.3916"
                                },
                                {
                                    "Subcategory": "Laundry Cleaners",
                                    "Category": "Cleaning Supply",
                                    "ProductID": "816",
                                    "ProductName": "Charlie's Soap Laundry Liquid",
                                    "PoundsSold": "12.3505"
                                },
                                {
                                    "Subcategory": "Herbs And Spices",
                                    "Category": "Grocery",
                                    "ProductID": "1002",
                                    "ProductName": "Cinnamon Sticks ORG",
                                    "PoundsSold": "12.3083"
                                },
                                {
                                    "Subcategory": "Sauces",
                                    "Category": "Grocery",
                                    "ProductID": "936",
                                    "ProductName": "Sesame Oil, Toasted, Spectrum Naturals",
                                    "PoundsSold": "12.0041"
                                },
                                {
                                    "Subcategory": "Sauces",
                                    "Category": "Grocery",
                                    "ProductID": "918",
                                    "ProductName": "Sesame Dressing - Primal Kitchen",
                                    "PoundsSold": "12.0000"
                                },
                                {
                                    "Subcategory": "Sweeteners",
                                    "Category": "Grocery",
                                    "ProductID": "604",
                                    "ProductName": "Maple Syrup in a Mini Jug",
                                    "PoundsSold": "12.0000"
                                },
                                {
                                    "Subcategory": "Coffee",
                                    "Category": "Grocery",
                                    "ProductID": "281",
                                    "ProductName": "Coffee Papua New Guinea",
                                    "PoundsSold": "11.6799"
                                },
                                {
                                    "Subcategory": "Herbs And Spices",
                                    "Category": "Grocery",
                                    "ProductID": "991",
                                    "ProductName": "Garam Masala CONV",
                                    "PoundsSold": "11.0003"
                                },
                                {
                                    "Subcategory": "Produce",
                                    "Category": "Fresh Produce",
                                    "ProductID": "1087",
                                    "ProductName": "Cantaloupe CONV",
                                    "PoundsSold": "11.0000"
                                },
                                {
                                    "Subcategory": "Sauces",
                                    "Category": "Grocery",
                                    "ProductID": "924",
                                    "ProductName": "Rice Wine Vinegar - Kikkoman",
                                    "PoundsSold": "11.0000"
                                },
                                {
                                    "Subcategory": "Holiday",
                                    "Category": "Holiday Popup",
                                    "ProductID": "797",
                                    "ProductName": "HLD olive and oak bath blend",
                                    "PoundsSold": "11.0000"
                                },
                                {
                                    "Subcategory": "Essential Oils",
                                    "Category": "Body Care",
                                    "ProductID": "320",
                                    "ProductName": "Essential oil, sweet orange floz Inventory Unit",
                                    "PoundsSold": "11.0000"
                                },
                                {
                                    "Subcategory": "Olio Skin",
                                    "Category": "Local Love",
                                    "ProductID": "1014",
                                    "ProductName": "Olio, Rose Hydrosol, 2oz",
                                    "PoundsSold": "10.6636"
                                },
                                {
                                    "Subcategory": "Produce",
                                    "Category": "Fresh Produce",
                                    "ProductID": "1019",
                                    "ProductName": "Sunflower Sprouts, LOCAL",
                                    "PoundsSold": "10.6200"
                                },
                                {
                                    "Subcategory": "Kombucha",
                                    "Category": "Local Love",
                                    "ProductID": "364",
                                    "ProductName": "Cru Kombucha, Lemon Ginger",
                                    "PoundsSold": "10.4810"
                                },
                                {
                                    "Subcategory": "Herbs And Spices",
                                    "Category": "Grocery",
                                    "ProductID": "735",
                                    "ProductName": "Pumpkin Spice",
                                    "PoundsSold": "10.4118"
                                },
                                {
                                    "Subcategory": "Raw Ingredients",
                                    "Category": "Body Care",
                                    "ProductID": "216",
                                    "ProductName": "Emulsifying Wax",
                                    "PoundsSold": "10.3895"
                                },
                                {
                                    "Subcategory": "Herbs And Spices",
                                    "Category": "Grocery",
                                    "ProductID": "949",
                                    "ProductName": "Taco Seasoning  ORG",
                                    "PoundsSold": "10.3660"
                                },
                                {
                                    "Subcategory": "Multi Purpose",
                                    "Category": "Cleaning Supply",
                                    "ProductID": "485",
                                    "ProductName": "Biokleen all purpose cleaner",
                                    "PoundsSold": "10.2706"
                                },
                                {
                                    "Subcategory": "Herbs And Spices",
                                    "Category": "Grocery",
                                    "ProductID": "319",
                                    "ProductName": "Cloves - Whole",
                                    "PoundsSold": "10.2094"
                                },
                                {
                                    "Subcategory": "Herbs And Spices",
                                    "Category": "Grocery",
                                    "ProductID": "246",
                                    "ProductName": "Coriander Whole ORG",
                                    "PoundsSold": "10.0051"
                                },
                                {
                                    "Subcategory": "Candy",
                                    "Category": "Grocery",
                                    "ProductID": "1123",
                                    "ProductName": "Caramel Apple- Sweet Hazel",
                                    "PoundsSold": "10.0000"
                                },
                                {
                                    "Subcategory": "Fruits",
                                    "Category": "Whls_Grocery",
                                    "ProductID": "757",
                                    "ProductName": "Banana Chips (Swt)",
                                    "PoundsSold": "9.8909"
                                },
                                {
                                    "Subcategory": "Sweeteners",
                                    "Category": "Grocery",
                                    "ProductID": "52",
                                    "ProductName": "Sugar - Brown LIGHT ORG",
                                    "PoundsSold": "9.7500"
                                },
                                {
                                    "Subcategory": "Baking",
                                    "Category": "Grocery",
                                    "ProductID": "147",
                                    "ProductName": "Chocolate Chips Milk Guittard",
                                    "PoundsSold": "9.6315"
                                },
                                {
                                    "Subcategory": "Produce",
                                    "Category": "Fresh Produce",
                                    "ProductID": "608",
                                    "ProductName": "Beets ORG",
                                    "PoundsSold": "9.6301"
                                },
                                {
                                    "Subcategory": "Herbs And Spices",
                                    "Category": "Grocery",
                                    "ProductID": "1104",
                                    "ProductName": "Red Chili Pepper Flakes",
                                    "PoundsSold": "9.4416"
                                },
                                {
                                    "Subcategory": "Other Cleaners",
                                    "Category": "Cleaning Supply",
                                    "ProductID": "840",
                                    "ProductName": "Melioria all-purpose Flakes  BULK",
                                    "PoundsSold": "9.3414"
                                },
                                {
                                    "Subcategory": "Snacks",
                                    "Category": "Grocery",
                                    "ProductID": "855",
                                    "ProductName": "Corn Chips Salsa Del Diablo",
                                    "PoundsSold": "9.0000"
                                },
                                {
                                    "Subcategory": "Holiday",
                                    "Category": "Holiday Popup",
                                    "ProductID": "795",
                                    "ProductName": "HLD olive and oak tea",
                                    "PoundsSold": "9.0000"
                                },
                                {
                                    "Subcategory": "Essential Oils",
                                    "Category": "Body Care",
                                    "ProductID": "347",
                                    "ProductName": "Essential oil, lavender FLOZ Inventory Unit",
                                    "PoundsSold": "9.0000"
                                },
                                {
                                    "Subcategory": "Condiments",
                                    "Category": "Grocery",
                                    "ProductID": "733",
                                    "ProductName": "Cherry Preserves",
                                    "PoundsSold": "8.9749"
                                },
                                {
                                    "Subcategory": "Produce",
                                    "Category": "Fresh Produce",
                                    "ProductID": "765",
                                    "ProductName": "Basil Fresh Plant",
                                    "PoundsSold": "8.9718"
                                },
                                {
                                    "Subcategory": "Produce",
                                    "Category": "Fresh Produce",
                                    "ProductID": "714",
                                    "ProductName": "Cut Pineapple",
                                    "PoundsSold": "8.9700"
                                },
                                {
                                    "Subcategory": "Herbs And Spices",
                                    "Category": "Grocery",
                                    "ProductID": "290",
                                    "ProductName": "Star Anise Select Whole",
                                    "PoundsSold": "8.9633"
                                },
                                {
                                    "Subcategory": "Coffee",
                                    "Category": "Grocery",
                                    "ProductID": "283",
                                    "ProductName": "Coffee Honduran ORG",
                                    "PoundsSold": "8.8505"
                                },
                                {
                                    "Subcategory": "Produce",
                                    "Category": "Fresh Produce",
                                    "ProductID": "732",
                                    "ProductName": "Pluot LOCAL",
                                    "PoundsSold": "8.7487"
                                },
                                {
                                    "Subcategory": "Olio Skin",
                                    "Category": "Local Love",
                                    "ProductID": "1016",
                                    "ProductName": "Olio, Rosey Face Mask, 2oz",
                                    "PoundsSold": "8.6896"
                                },
                                {
                                    "Subcategory": "Herbs And Spices",
                                    "Category": "Grocery",
                                    "ProductID": "301",
                                    "ProductName": "Bay Leaf ORG",
                                    "PoundsSold": "8.5793"
                                },
                                {
                                    "Subcategory": "Herbs And Spices",
                                    "Category": "Grocery",
                                    "ProductID": "326",
                                    "ProductName": "Cloves - Ground ORG",
                                    "PoundsSold": "8.3100"
                                },
                                {
                                    "Subcategory": "Hair Care",
                                    "Category": "Body Care",
                                    "ProductID": "669",
                                    "ProductName": "Shikai Shampoo Everyday",
                                    "PoundsSold": "8.2987"
                                },
                                {
                                    "Subcategory": "Herbs And Spices",
                                    "Category": "Grocery",
                                    "ProductID": "276",
                                    "ProductName": "Rosemary Leaf ORG",
                                    "PoundsSold": "8.2978"
                                },
                                {
                                    "Subcategory": "Herbs And Spices",
                                    "Category": "Grocery",
                                    "ProductID": "167",
                                    "ProductName": "Chili Powder Salt Free",
                                    "PoundsSold": "8.2137"
                                },
                                {
                                    "Subcategory": "Herbs And Spices",
                                    "Category": "Grocery",
                                    "ProductID": "302",
                                    "ProductName": "Nutmeg - Whole",
                                    "PoundsSold": "8.1693"
                                },
                                {
                                    "Subcategory": "Desserts",
                                    "Category": "Local Love",
                                    "ProductID": "453",
                                    "ProductName": "Dessert Hummus- Goin' Coconuts 4oz",
                                    "PoundsSold": "8.0000"
                                },
                                {
                                    "Subcategory": "Produce",
                                    "Category": "Fresh Produce",
                                    "ProductID": "650",
                                    "ProductName": "Black Berries LOCAL",
                                    "PoundsSold": "8.0000"
                                },
                                {
                                    "Subcategory": "Holiday",
                                    "Category": "Holiday Popup",
                                    "ProductID": "804",
                                    "ProductName": "HLD bow",
                                    "PoundsSold": "8.0000"
                                },
                                {
                                    "Subcategory": "Flours",
                                    "Category": "Grocery",
                                    "ProductID": "854",
                                    "ProductName": "Coconut Flour, ORG",
                                    "PoundsSold": "7.7584"
                                },
                                {
                                    "Subcategory": "Desserts",
                                    "Category": "Local Love",
                                    "ProductID": "607",
                                    "ProductName": "Dessert Hummus - PINT Any Flavor",
                                    "PoundsSold": "7.7495"
                                },
                                {
                                    "Subcategory": "Herbs And Spices",
                                    "Category": "Grocery",
                                    "ProductID": "293",
                                    "ProductName": "Black Peppercorns ORG",
                                    "PoundsSold": "7.7361"
                                },
                                {
                                    "Subcategory": "Lotions",
                                    "Category": "Body Care",
                                    "ProductID": "1101",
                                    "ProductName": "All Good Sunscreen BULK",
                                    "PoundsSold": "7.6453"
                                },
                                {
                                    "Subcategory": "Coffee",
                                    "Category": "Grocery",
                                    "ProductID": "279",
                                    "ProductName": "Coffee Mexican ORG",
                                    "PoundsSold": "7.4907"
                                },
                                {
                                    "Subcategory": "Dried Fruits",
                                    "Category": "Grocery",
                                    "ProductID": "863",
                                    "ProductName": "Deglet Dates",
                                    "PoundsSold": "7.4718"
                                },
                                {
                                    "Subcategory": "Produce",
                                    "Category": "Fresh Produce",
                                    "ProductID": "721",
                                    "ProductName": "Cut Sweet Potatos, ORG",
                                    "PoundsSold": "7.2598"
                                },
                                {
                                    "Subcategory": "Laundry Cleaners",
                                    "Category": "Cleaning Supply",
                                    "ProductID": "996",
                                    "ProductName": "Meliora CONTAINER All Purpose Cleaning Flakes",
                                    "PoundsSold": "7.0000"
                                },
                                {
                                    "Subcategory": "Balms, Oils And Butters",
                                    "Category": "Body Care",
                                    "ProductID": "987",
                                    "ProductName": "CBD Massage Oil",
                                    "PoundsSold": "6.9602"
                                },
                                {
                                    "Subcategory": "Herbs And Spices",
                                    "Category": "Grocery",
                                    "ProductID": "268",
                                    "ProductName": "Curry Powder ORG",
                                    "PoundsSold": "6.9253"
                                },
                                {
                                    "Subcategory": "Olio Skin",
                                    "Category": "Local Love",
                                    "ProductID": "1015",
                                    "ProductName": "Olio, Face & Body Oil, 2oz",
                                    "PoundsSold": "6.7989"
                                },
                                {
                                    "Subcategory": "Seeds And Grains",
                                    "Category": "Grocery",
                                    "ProductID": "549",
                                    "ProductName": "Sesame Seeds - White Hulled ORG",
                                    "PoundsSold": "6.6654"
                                },
                                {
                                    "Subcategory": "Herbs And Spices",
                                    "Category": "Grocery",
                                    "ProductID": "258",
                                    "ProductName": "Cinnamon Sticks",
                                    "PoundsSold": "6.6562"
                                },
                                {
                                    "Subcategory": "Herbs And Spices",
                                    "Category": "Grocery",
                                    "ProductID": "303",
                                    "ProductName": "Allspice ORG",
                                    "PoundsSold": "6.4511"
                                },
                                {
                                    "Subcategory": "Herbs And Spices",
                                    "Category": "Grocery",
                                    "ProductID": "974",
                                    "ProductName": "Rosemary Leaf",
                                    "PoundsSold": "6.3950"
                                },
                                {
                                    "Subcategory": "Baking",
                                    "Category": "Grocery",
                                    "ProductID": "1127",
                                    "ProductName": "Maple Toasted Coconut Chips ORG",
                                    "PoundsSold": "6.1628"
                                },
                                {
                                    "Subcategory": "Dental Care",
                                    "Category": "Body Care",
                                    "ProductID": "1069",
                                    "ProductName": "Ruut Goods Mouthwash BULK",
                                    "PoundsSold": "6.1400"
                                },
                                {
                                    "Subcategory": "Teas",
                                    "Category": "Grocery",
                                    "ProductID": "615",
                                    "ProductName": "Greenthread Herbs Tea Blends (any variety)",
                                    "PoundsSold": "6.0733"
                                },
                                {
                                    "Subcategory": "Herbs And Spices",
                                    "Category": "Grocery",
                                    "ProductID": "248",
                                    "ProductName": "Dill Seed ORG",
                                    "PoundsSold": "6.0026"
                                },
                                {
                                    "Subcategory": "Sauces",
                                    "Category": "Grocery",
                                    "ProductID": "377",
                                    "ProductName": "Pasta Sauce - Spicy Marinara 24oz",
                                    "PoundsSold": "6.0000"
                                },
                                {
                                    "Subcategory": "Condiments",
                                    "Category": "Grocery",
                                    "ProductID": "373",
                                    "ProductName": "Sir Kensington Mayo 16oz",
                                    "PoundsSold": "6.0000"
                                },
                                {
                                    "Subcategory": "Sauces",
                                    "Category": "Grocery",
                                    "ProductID": "379",
                                    "ProductName": "Indian Simmer Sauce - Tikka Masala 12.5oz",
                                    "PoundsSold": "6.0000"
                                },
                                {
                                    "Subcategory": "Sauces",
                                    "Category": "Grocery",
                                    "ProductID": "380",
                                    "ProductName": "Indian Simmer Sauce - Goan Coconut Curry 12.5oz",
                                    "PoundsSold": "6.0000"
                                },
                                {
                                    "Subcategory": "Produce",
                                    "Category": "Fresh Produce",
                                    "ProductID": "690",
                                    "ProductName": "Cherry Tomatoes, LOCAL",
                                    "PoundsSold": "6.0000"
                                },
                                {
                                    "Subcategory": "Herbs And Spices",
                                    "Category": "Grocery",
                                    "ProductID": "220",
                                    "ProductName": "Mustard Seed Brown ORG",
                                    "PoundsSold": "5.8782"
                                },
                                {
                                    "Subcategory": "Drool",
                                    "Category": "Local Love",
                                    "ProductID": "1047",
                                    "ProductName": "Dog Biscuit Bundle, Chicken Soup",
                                    "PoundsSold": "5.8584"
                                },
                                {
                                    "Subcategory": "Herbs And Spices",
                                    "Category": "Grocery",
                                    "ProductID": "292",
                                    "ProductName": "Sage ORG",
                                    "PoundsSold": "5.7100"
                                },
                                {
                                    "Subcategory": "Teas",
                                    "Category": "Grocery",
                                    "ProductID": "975",
                                    "ProductName": "Luscious Licorice Tea, ORG",
                                    "PoundsSold": "5.4808"
                                },
                                {
                                    "Subcategory": "Herbs And Spices",
                                    "Category": "Grocery",
                                    "ProductID": "1084",
                                    "ProductName": "Ginger, ground",
                                    "PoundsSold": "5.4342"
                                },
                                {
                                    "Subcategory": "Herbs And Spices",
                                    "Category": "Grocery",
                                    "ProductID": "1075",
                                    "ProductName": "Lemon Pepper ORG",
                                    "PoundsSold": "5.4100"
                                },
                                {
                                    "Subcategory": "Herbs And Spices",
                                    "Category": "Grocery",
                                    "ProductID": "520",
                                    "ProductName": "Caraway Seed ORG",
                                    "PoundsSold": "5.0080"
                                },
                                {
                                    "Subcategory": "Sauces",
                                    "Category": "Grocery",
                                    "ProductID": "376",
                                    "ProductName": "Pasta Sauce - Vodka 24oz",
                                    "PoundsSold": "5.0000"
                                },
                                {
                                    "Subcategory": "Condiments",
                                    "Category": "Grocery",
                                    "ProductID": "386",
                                    "ProductName": "Salad Dressing, Poppy Seed, Briannas 12oz",
                                    "PoundsSold": "5.0000"
                                },
                                {
                                    "Subcategory": "Condiments",
                                    "Category": "Grocery",
                                    "ProductID": "387",
                                    "ProductName": "Salad Dressing, Dijon Honey Mustard, Briannas 12oz",
                                    "PoundsSold": "5.0000"
                                },
                                {
                                    "Subcategory": "Holiday",
                                    "Category": "Holiday Popup",
                                    "ProductID": "799",
                                    "ProductName": "HLD plant cutting, small",
                                    "PoundsSold": "5.0000"
                                },
                                {
                                    "Subcategory": "Seeds And Grains",
                                    "Category": "Grocery",
                                    "ProductID": "68",
                                    "ProductName": "Rice - Golden Rose Brown ORG",
                                    "PoundsSold": "4.9816"
                                },
                                {
                                    "Subcategory": "Herbs And Spices",
                                    "Category": "Grocery",
                                    "ProductID": "322",
                                    "ProductName": "Dill Weed ORG",
                                    "PoundsSold": "4.8607"
                                },
                                {
                                    "Subcategory": "Drool",
                                    "Category": "Local Love",
                                    "ProductID": "1050",
                                    "ProductName": "Dog Biscuit Bundle, Steak & Potato",
                                    "PoundsSold": "4.8584"
                                },
                                {
                                    "Subcategory": "Herbs And Spices",
                                    "Category": "Grocery",
                                    "ProductID": "903",
                                    "ProductName": "Fennel Seed",
                                    "PoundsSold": "4.8274"
                                },
                                {
                                    "Subcategory": "Herbs And Spices",
                                    "Category": "Grocery",
                                    "ProductID": "713",
                                    "ProductName": "Coriander - Whole",
                                    "PoundsSold": "4.7906"
                                },
                                {
                                    "Subcategory": "Herbs And Spices",
                                    "Category": "Grocery",
                                    "ProductID": "261",
                                    "ProductName": "Celery Seed ORG",
                                    "PoundsSold": "4.7258"
                                },
                                {
                                    "Subcategory": "Teas",
                                    "Category": "Grocery",
                                    "ProductID": "294",
                                    "ProductName": "Chai - Black Tea Ground",
                                    "PoundsSold": "4.6501"
                                },
                                {
                                    "Subcategory": "Produce",
                                    "Category": "Fresh Produce",
                                    "ProductID": "956",
                                    "ProductName": "Cucumber, LOCAL",
                                    "PoundsSold": "4.4695"
                                },
                                {
                                    "Subcategory": "Vinegars",
                                    "Category": "Grocery",
                                    "ProductID": "155",
                                    "ProductName": "Balsamic  Vinegar - Spectrum",
                                    "PoundsSold": "4.4400"
                                },
                                {
                                    "Subcategory": "Laundry Cleaners",
                                    "Category": "Cleaning Supply",
                                    "ProductID": "323",
                                    "ProductName": "Eco Nuts laundry cleaner",
                                    "PoundsSold": "4.3102"
                                },
                                {
                                    "Subcategory": "Essential Oils",
                                    "Category": "Body Care",
                                    "ProductID": "344",
                                    "ProductName": "Essential oil, Tea tree floz inventory unit",
                                    "PoundsSold": "4.2445"
                                },
                                {
                                    "Subcategory": "Flours",
                                    "Category": "Grocery",
                                    "ProductID": "22",
                                    "ProductName": "Whole Wheat Pastry Flour ORG",
                                    "PoundsSold": "4.1017"
                                },
                                {
                                    "Subcategory": "Condiments",
                                    "Category": "Grocery",
                                    "ProductID": "374",
                                    "ProductName": "Sir Kensington Dijon Mustard 11oz",
                                    "PoundsSold": "4.0000"
                                },
                                {
                                    "Subcategory": "Holiday",
                                    "Category": "Holiday Popup",
                                    "ProductID": "805",
                                    "ProductName": "HLD honey jar",
                                    "PoundsSold": "4.0000"
                                },
                                {
                                    "Subcategory": "Holiday",
                                    "Category": "Holiday Popup",
                                    "ProductID": "806",
                                    "ProductName": "HLD zero waste accessory",
                                    "PoundsSold": "4.0000"
                                },
                                {
                                    "Subcategory": "Nuts",
                                    "Category": "Grocery",
                                    "ProductID": "859",
                                    "ProductName": "Peanut Butter, 35 lb bucket",
                                    "PoundsSold": "4.0000"
                                },
                                {
                                    "Subcategory": "Balms, Oils And Butters",
                                    "Category": "Body Care",
                                    "ProductID": "1113",
                                    "ProductName": "Jojoba oil, expeller pressed",
                                    "PoundsSold": "3.9990"
                                },
                                {
                                    "Subcategory": "Herbs And Spices",
                                    "Category": "Grocery",
                                    "ProductID": "1005",
                                    "ProductName": "Star Anise ORG",
                                    "PoundsSold": "3.9862"
                                },
                                {
                                    "Subcategory": "Produce",
                                    "Category": "Fresh Produce",
                                    "ProductID": "957",
                                    "ProductName": "Celery, Cut Stalks ORG",
                                    "PoundsSold": "3.8980"
                                },
                                {
                                    "Subcategory": "Kings Peak Coffee",
                                    "Category": "Local Love",
                                    "ProductID": "1133",
                                    "ProductName": "Kings Peak Coffee DECAFFINATED",
                                    "PoundsSold": "3.6098"
                                },
                                {
                                    "Subcategory": "Seeds And Grains",
                                    "Category": "Grocery",
                                    "ProductID": "91",
                                    "ProductName": "Quinoa - Red ORG",
                                    "PoundsSold": "3.4291"
                                },
                                {
                                    "Subcategory": "Herbs And Spices",
                                    "Category": "Grocery",
                                    "ProductID": "317",
                                    "ProductName": "Cayenne Powder, CONV",
                                    "PoundsSold": "3.3938"
                                },
                                {
                                    "Subcategory": "Herbs And Spices",
                                    "Category": "Grocery",
                                    "ProductID": "1033",
                                    "ProductName": "Dill Weed",
                                    "PoundsSold": "3.2000"
                                },
                                {
                                    "Subcategory": "Produce",
                                    "Category": "Fresh Produce",
                                    "ProductID": "631",
                                    "ProductName": "Basil Fresh ORG",
                                    "PoundsSold": "3.1586"
                                },
                                {
                                    "Subcategory": "Holiday",
                                    "Category": "Holiday Popup",
                                    "ProductID": "801",
                                    "ProductName": "HLD Necklace",
                                    "PoundsSold": "3.0000"
                                },
                                {
                                    "Subcategory": "Holiday",
                                    "Category": "Holiday Popup",
                                    "ProductID": "811",
                                    "ProductName": "HLD Apparel 1",
                                    "PoundsSold": "3.0000"
                                },
                                {
                                    "Subcategory": "Holiday",
                                    "Category": "Holiday Popup",
                                    "ProductID": "813",
                                    "ProductName": "HLD Apparel 3",
                                    "PoundsSold": "3.0000"
                                },
                                {
                                    "Subcategory": "Produce",
                                    "Category": "Fresh Produce",
                                    "ProductID": "1093",
                                    "ProductName": "Short Sale, Strawberries",
                                    "PoundsSold": "3.0000"
                                },
                                {
                                    "Subcategory": "Essential Oils",
                                    "Category": "Body Care",
                                    "ProductID": "353",
                                    "ProductName": "Essential oil, Peppermint floz, Inventory Unit",
                                    "PoundsSold": "3.0000"
                                },
                                {
                                    "Subcategory": "Condiments",
                                    "Category": "Grocery",
                                    "ProductID": "388",
                                    "ProductName": "Salad Dressing, Buttermilk Ranch, Briannas 12oz",
                                    "PoundsSold": "3.0000"
                                },
                                {
                                    "Subcategory": "Produce",
                                    "Category": "Fresh Produce",
                                    "ProductID": "1118",
                                    "ProductName": "White and Purple Bell Peppers, LOCAL",
                                    "PoundsSold": "2.8314"
                                },
                                {
                                    "Subcategory": "Teas",
                                    "Category": "Grocery",
                                    "ProductID": "271",
                                    "ProductName": "Hibiscus - Cut and Sifted",
                                    "PoundsSold": "2.8302"
                                },
                                {
                                    "Subcategory": "Herbs And Spices",
                                    "Category": "Grocery",
                                    "ProductID": "1105",
                                    "ProductName": "Nutmeg - Ground ORG",
                                    "PoundsSold": "2.8000"
                                },
                                {
                                    "Subcategory": "Hair Care",
                                    "Category": "Body Care",
                                    "ProductID": "166",
                                    "ProductName": "Shikai Conditioner Everyday",
                                    "PoundsSold": "2.0973"
                                },
                                {
                                    "Subcategory": "Holiday",
                                    "Category": "Holiday Popup",
                                    "ProductID": "803",
                                    "ProductName": "HLD woven bracelet",
                                    "PoundsSold": "2.0000"
                                },
                                {
                                    "Subcategory": "Holiday",
                                    "Category": "Holiday Popup",
                                    "ProductID": "798",
                                    "ProductName": "HLD olive and oak tincture",
                                    "PoundsSold": "2.0000"
                                },
                                {
                                    "Subcategory": "Produce",
                                    "Category": "Fresh Produce",
                                    "ProductID": "717",
                                    "ProductName": "Arugula LOCAL per bunch",
                                    "PoundsSold": "2.0000"
                                },
                                {
                                    "Subcategory": "Herbs And Spices",
                                    "Category": "Grocery",
                                    "ProductID": "1099",
                                    "ProductName": "Fennel Seed ORG",
                                    "PoundsSold": "1.9828"
                                },
                                {
                                    "Subcategory": "Herbs And Spices",
                                    "Category": "Grocery",
                                    "ProductID": "986",
                                    "ProductName": "Thyme, dried CONV",
                                    "PoundsSold": "1.9397"
                                },
                                {
                                    "Subcategory": "Laundry Cleaners",
                                    "Category": "Cleaning Supply",
                                    "ProductID": "28",
                                    "ProductName": "laundry powder, Tough Guy",
                                    "PoundsSold": "1.8981"
                                },
                                {
                                    "Subcategory": "Dishsoaps",
                                    "Category": "Cleaning Supply",
                                    "ProductID": "817",
                                    "ProductName": "Biokleen Automatic Dish Powder",
                                    "PoundsSold": "1.8092"
                                },
                                {
                                    "Subcategory": "Herbs And Spices",
                                    "Category": "Grocery",
                                    "ProductID": "318",
                                    "ProductName": "Herbs de Provence ORG",
                                    "PoundsSold": "1.7597"
                                },
                                {
                                    "Subcategory": "Herbs And Spices",
                                    "Category": "Grocery",
                                    "ProductID": "254",
                                    "ProductName": "Five Spice Powder",
                                    "PoundsSold": "1.6784"
                                },
                                {
                                    "Subcategory": "Herbs And Spices",
                                    "Category": "Grocery",
                                    "ProductID": "207",
                                    "ProductName": "Mustard Seed Yellow ORG",
                                    "PoundsSold": "1.5096"
                                },
                                {
                                    "Subcategory": "Produce",
                                    "Category": "Fresh Produce",
                                    "ProductID": "701",
                                    "ProductName": "Cut Cellery, ORG",
                                    "PoundsSold": "1.4091"
                                },
                                {
                                    "Subcategory": "Herbs And Spices",
                                    "Category": "Grocery",
                                    "ProductID": "314",
                                    "ProductName": "Pumpkin Spice ORG",
                                    "PoundsSold": "1.2205"
                                },
                                {
                                    "Subcategory": "Teas",
                                    "Category": "Grocery",
                                    "ProductID": "518",
                                    "ProductName": "Holy Basil Tea",
                                    "PoundsSold": "1.2108"
                                },
                                {
                                    "Subcategory": "Teas",
                                    "Category": "Grocery",
                                    "ProductID": "517",
                                    "ProductName": "Immunity Tea",
                                    "PoundsSold": "1.1504"
                                },
                                {
                                    "Subcategory": "Produce",
                                    "Category": "Fresh Produce",
                                    "ProductID": "1117",
                                    "ProductName": "Braising Mix, LOCAL",
                                    "PoundsSold": "1.1496"
                                },
                                {
                                    "Subcategory": "Seeds And Grains",
                                    "Category": "Grocery",
                                    "ProductID": "222",
                                    "ProductName": "Sesame Seeds - Black ORG",
                                    "PoundsSold": "1.1417"
                                },
                                {
                                    "Subcategory": "Essential Oils",
                                    "Category": "Body Care",
                                    "ProductID": "331",
                                    "ProductName": "Essential Oil, Lemongrass FLOZ inventory unit",
                                    "PoundsSold": "1.0000"
                                },
                                {
                                    "Subcategory": "Essential Oils",
                                    "Category": "Body Care",
                                    "ProductID": "336",
                                    "ProductName": "Essential oil, Lemon, floz Inventory Unit",
                                    "PoundsSold": "1.0000"
                                },
                                {
                                    "Subcategory": "Desserts",
                                    "Category": "Local Love",
                                    "ProductID": "697",
                                    "ProductName": "Dessert Hummus - 9oz LRG Any Flavor",
                                    "PoundsSold": "1.0000"
                                },
                                {
                                    "Subcategory": "Holiday",
                                    "Category": "Holiday Popup",
                                    "ProductID": "814",
                                    "ProductName": "HLD Apparel 4",
                                    "PoundsSold": "1.0000"
                                },
                                {
                                    "Subcategory": "Holiday",
                                    "Category": "Holiday Popup",
                                    "ProductID": "812",
                                    "ProductName": "HLD Apparel 2",
                                    "PoundsSold": "1.0000"
                                },
                                {
                                    "Subcategory": "Holiday",
                                    "Category": "Holiday Popup",
                                    "ProductID": "823",
                                    "ProductName": "HLD Campfire Cider",
                                    "PoundsSold": "1.0000"
                                },
                                {
                                    "Subcategory": "Holiday",
                                    "Category": "Holiday Popup",
                                    "ProductID": "792",
                                    "ProductName": "HLD Planter, small",
                                    "PoundsSold": "1.0000"
                                },
                                {
                                    "Subcategory": "Holiday",
                                    "Category": "Holiday Popup",
                                    "ProductID": "802",
                                    "ProductName": "HLD Bead bracelet",
                                    "PoundsSold": "1.0000"
                                },
                                {
                                    "Subcategory": "Holiday",
                                    "Category": "Holiday Popup",
                                    "ProductID": "808",
                                    "ProductName": "HLD zero waste to go",
                                    "PoundsSold": "1.0000"
                                },
                                {
                                    "Subcategory": "Holiday",
                                    "Category": "Holiday Popup",
                                    "ProductID": "810",
                                    "ProductName": "HLD thrifted jars",
                                    "PoundsSold": "1.0000"
                                },
                                {
                                    "Subcategory": "Flours",
                                    "Category": "Grocery",
                                    "ProductID": "969",
                                    "ProductName": "VOID",
                                    "PoundsSold": "0.9805"
                                },
                                {
                                    "Subcategory": "Herbs And Spices",
                                    "Category": "Grocery",
                                    "ProductID": "1122",
                                    "ProductName": "Parsley, ORG",
                                    "PoundsSold": "0.9579"
                                },
                                {
                                    "Subcategory": "Herbs And Spices",
                                    "Category": "Grocery",
                                    "ProductID": "828",
                                    "ProductName": "Mustard Seed, yellow, ORG",
                                    "PoundsSold": "0.8798"
                                },
                                {
                                    "Subcategory": "Teas",
                                    "Category": "Grocery",
                                    "ProductID": "516",
                                    "ProductName": "Purple Rain Tea",
                                    "PoundsSold": "0.8705"
                                },
                                {
                                    "Subcategory": "Teas",
                                    "Category": "Grocery",
                                    "ProductID": "267",
                                    "ProductName": "Gunpowder Mint Green",
                                    "PoundsSold": "0.8207"
                                },
                                {
                                    "Subcategory": "Teas",
                                    "Category": "Grocery",
                                    "ProductID": "339",
                                    "ProductName": "Pu 'erh ORG Tea",
                                    "PoundsSold": "0.8000"
                                },
                                {
                                    "Subcategory": "Teas",
                                    "Category": "Grocery",
                                    "ProductID": "1125",
                                    "ProductName": "Earl Grey Tea DECAF",
                                    "PoundsSold": "0.6895"
                                },
                                {
                                    "Subcategory": "Produce",
                                    "Category": "Fresh Produce",
                                    "ProductID": "754",
                                    "ProductName": "Lemongrass Fresh",
                                    "PoundsSold": "0.5700"
                                },
                                {
                                    "Subcategory": "Produce",
                                    "Category": "Fresh Produce",
                                    "ProductID": "698",
                                    "ProductName": "Yellow Wax Beans ORG",
                                    "PoundsSold": "0.4387"
                                },
                                {
                                    "Subcategory": "Coffee",
                                    "Category": "Grocery",
                                    "ProductID": "284",
                                    "ProductName": "Coffee Burundi Fair Trade",
                                    "PoundsSold": "0.3902"
                                },
                                {
                                    "Subcategory": "Herbs And Spices",
                                    "Category": "Grocery",
                                    "ProductID": "993",
                                    "ProductName": "Cloves - Whole ORG",
                                    "PoundsSold": "0.3400"
                                },
                                {
                                    "Subcategory": "Baking",
                                    "Category": "Grocery",
                                    "ProductID": "338",
                                    "ProductName": "Vanilla ORG",
                                    "PoundsSold": "0.1800"
                                },
                                {
                                    "Subcategory": "Herbs And Spices",
                                    "Category": "Grocery",
                                    "ProductID": "716",
                                    "ProductName": "Cardamom Decorticated",
                                    "PoundsSold": "0.1197"
                                },
                                {
                                    "Subcategory": "Teas",
                                    "Category": "Grocery",
                                    "ProductID": "600",
                                    "ProductName": "Tulsi Ginger Rose",
                                    "PoundsSold": "0.1102"
                                },
                                {
                                    "Subcategory": "Herbs And Spices",
                                    "Category": "Grocery",
                                    "ProductID": "542",
                                    "ProductName": "(INACTIVE) Smoked Paprika ORG",
                                    "PoundsSold": "0.1001"
                                },
                                {
                                    "Subcategory": "Herbs And Spices",
                                    "Category": "Grocery",
                                    "ProductID": "1137",
                                    "ProductName": "Orange Peel, ORG",
                                    "PoundsSold": "0.0896"
                                },
                                {
                                    "Subcategory": "Herbs And Spices",
                                    "Category": "Grocery",
                                    "ProductID": "1138",
                                    "ProductName": "Lemon Peel, ORG",
                                    "PoundsSold": "0.0397"
                                },
                                {
                                    "Subcategory": "Coffee",
                                    "Category": "Grocery",
                                    "ProductID": "282",
                                    "ProductName": "Coffee Guatemalan Tikal",
                                    "PoundsSold": "0.0202"
                                }
                            ]
                        },
                        "text/html": "<table><tr><th>Subcategory</th><th>Category</th><th>ProductID</th><th>ProductName</th><th>PoundsSold</th></tr><tr><td>Laundry Cleaners</td><td>Cleaning Supply</td><td>76</td><td>EcosPro Laundry Detergent - Magnolia Lily</td><td>7921.0077</td></tr><tr><td>Kombucha</td><td>Local Love</td><td>110</td><td>CRU Kombucha</td><td>6613.7230</td></tr><tr><td>Oils</td><td>Grocery</td><td>149</td><td>Olive Oil - Extra Virgin ORG</td><td>6536.8858</td></tr><tr><td>Sweeteners</td><td>Grocery</td><td>42</td><td>Cane Sugar ORG</td><td>6311.1972</td></tr><tr><td>Dishsoaps</td><td>Cleaning Supply</td><td>78</td><td>EcosPro Dish Soap - Hand Washing</td><td>5998.5351</td></tr><tr><td>Multi Purpose</td><td>Cleaning Supply</td><td>5</td><td>White Vinegar - 10% acidity (Cleaning)</td><td>5800.2368</td></tr><tr><td>Laundry Cleaners</td><td>Cleaning Supply</td><td>88</td><td>EcosPro Laundry Detergent - Free &amp; Clear</td><td>5048.9640</td></tr><tr><td>Seeds And Grains</td><td>Grocery</td><td>39</td><td>Rolled Oats ORG</td><td>4660.0017</td></tr><tr><td>Other Cleaners</td><td>Cleaning Supply</td><td>1064</td><td>Cleaner Bombs - Toilet - Cat - Etc</td><td>3723.0000</td></tr><tr><td>Body Cleansing</td><td>Body Care</td><td>862</td><td>Sapadilla Hand Soap</td><td>3188.9807</td></tr><tr><td>Candy</td><td>Grocery</td><td>1026</td><td>PB Cups - Sweet Hazel</td><td>3166.6250</td></tr><tr><td>Milk Honey Yogurt</td><td>Local Love</td><td>730</td><td>Milk Honey Yogurt</td><td>3159.9311</td></tr><tr><td>Seeds And Grains</td><td>Grocery</td><td>56</td><td>Brown Rice ORG</td><td>3104.8088</td></tr><tr><td>Flours</td><td>Grocery</td><td>26</td><td>Artisan White Flour ORG</td><td>2861.6958</td></tr><tr><td>Kombucha</td><td>Local Love</td><td>399</td><td>Hans Kombucha</td><td>2609.6460</td></tr><tr><td>Candy</td><td>Grocery</td><td>1025</td><td>Crunchies - Sweet Hazel</td><td>2529.9036</td></tr><tr><td>Flours</td><td>Grocery</td><td>384</td><td>Whole Wheat Flour ORG</td><td>2459.1558</td></tr><tr><td>Nuts</td><td>Grocery</td><td>200</td><td>Almond Butter / Diced Almonds</td><td>2356.2550</td></tr><tr><td>Seeds And Grains</td><td>Grocery</td><td>36</td><td>White Rice, Long Grain CONV</td><td>2305.8752</td></tr><tr><td>Flours</td><td>Grocery</td><td>953</td><td>All Purpose Unbleached Flour Beehive ORG</td><td>2259.7985</td></tr><tr><td>Vinegars</td><td>Grocery</td><td>920</td><td>White Vinegar - 5% acidity</td><td>2257.1599</td></tr><tr><td>Sweeteners</td><td>Grocery</td><td>184</td><td>Maple Syrup ORG</td><td>2233.3252</td></tr><tr><td>The Bean Whole</td><td>Local Love</td><td>534</td><td>Coffee - The Bean Whole</td><td>2220.4735</td></tr><tr><td>Nuts</td><td>Grocery</td><td>264</td><td>Raw Cashews ORG</td><td>2109.3352</td></tr><tr><td>Seeds And Grains</td><td>Grocery</td><td>57</td><td>Popcorn ORG</td><td>1963.5223</td></tr><tr><td>Beans And Legumes</td><td>Grocery</td><td>77</td><td>Garbanzo Beans / Chickpeas ORG</td><td>1730.8584</td></tr><tr><td>Dishsoaps</td><td>Cleaning Supply</td><td>3</td><td>Dropps Dishwasher Pods</td><td>1696.7912</td></tr><tr><td>Seeds And Grains</td><td>Grocery</td><td>105</td><td>Quinoa ORG</td><td>1688.5798</td></tr><tr><td>Hugo Coffee</td><td>Local Love</td><td>842</td><td>Coffee - Hugo Coffee</td><td>1688.3915</td></tr><tr><td>Nuts</td><td>Grocery</td><td>259</td><td>Raw Almonds ORG</td><td>1675.5883</td></tr><tr><td>Oils</td><td>Grocery</td><td>361</td><td>Avocado Oil</td><td>1660.9611</td></tr><tr><td>Beans And Legumes</td><td>Grocery</td><td>80</td><td>Black Turtle Beans ORG</td><td>1651.7766</td></tr><tr><td>Baking</td><td>Grocery</td><td>17</td><td>Baking Soda</td><td>1606.8413</td></tr><tr><td>Cereals</td><td>Grocery</td><td>734</td><td>French Vanilla Granola</td><td>1591.4087</td></tr><tr><td>Multi Purpose</td><td>Cleaning Supply</td><td>156</td><td>Dr Bronners Sal Suds All Purpose Cleaner</td><td>1479.9768</td></tr><tr><td>Produce</td><td>Fresh Produce</td><td>635</td><td>Garnet Yams ORG</td><td>1423.3343</td></tr><tr><td>Baking</td><td>Grocery</td><td>194</td><td>Dark Chocolate Chips ALLERGEN FREE ORG</td><td>1408.1624</td></tr><tr><td>Beans And Legumes</td><td>Grocery</td><td>81</td><td>Red Lentils ORG</td><td>1385.8373</td></tr><tr><td>Seeds And Grains</td><td>Grocery</td><td>70</td><td>Oats - Rolled CONV</td><td>1366.0003</td></tr><tr><td>Pastas</td><td>Grocery</td><td>49</td><td>Rotini / Rotelli Pasta ORG</td><td>1363.7607</td></tr><tr><td>Sweeteners</td><td>Grocery</td><td>139</td><td>Honey ORG</td><td>1352.8118</td></tr><tr><td>Laundry Cleaners</td><td>Cleaning Supply</td><td>4</td><td>Dropps Laundry Pods</td><td>1260.2290</td></tr><tr><td>Nuts</td><td>Grocery</td><td>135</td><td>Peanuts - Dry Roasted ORG</td><td>1259.3451</td></tr><tr><td>Dried Fruits</td><td>Grocery</td><td>256</td><td>Dried Mango Cheeks ORG</td><td>1217.2658</td></tr><tr><td>Salsa del Diablo</td><td>Local Love</td><td>719</td><td>Salsa del Diablo Special Reserve</td><td>1212.8302</td></tr><tr><td>Dried Fruits</td><td>Grocery</td><td>205</td><td>Dates - Medjool ORG</td><td>1183.1299</td></tr><tr><td>Produce</td><td>Fresh Produce</td><td>629</td><td>Carrots ORG</td><td>1161.4777</td></tr><tr><td>Beans And Legumes</td><td>Grocery</td><td>75</td><td>Green Lentils ORG</td><td>1130.9505</td></tr><tr><td>Candy</td><td>Grocery</td><td>513</td><td>Gummy Cubs - Albanese</td><td>1077.5065</td></tr><tr><td>Flours</td><td>Grocery</td><td>853</td><td>All-purpose Flour</td><td>1052.3777</td></tr><tr><td>Pastas</td><td>Grocery</td><td>134</td><td>Penne Pasta ORG</td><td>1025.9688</td></tr><tr><td>Baking</td><td>Grocery</td><td>832</td><td>Semi Sweet Chocolate Chips</td><td>1020.9473</td></tr><tr><td>Body Cleansing</td><td>Body Care</td><td>163</td><td>EO Hand Soap - Lemon Eucalyptus</td><td>1020.7026</td></tr><tr><td>Dried Fruits</td><td>Grocery</td><td>108</td><td>Raisins ORG</td><td>993.8343</td></tr><tr><td>Baking</td><td>Grocery</td><td>822</td><td>Rolled Oats - GF</td><td>948.1190</td></tr><tr><td>Salts</td><td>Grocery</td><td>117</td><td>Real Salt - Sea Salt</td><td>937.8087</td></tr><tr><td>Seeds And Grains</td><td>Grocery</td><td>498</td><td>Long Grain White Rice ORG</td><td>893.3353</td></tr><tr><td>Seeds And Grains</td><td>Grocery</td><td>41</td><td>Steel Cut Oats ORG</td><td>886.2246</td></tr><tr><td>Produce</td><td>Fresh Produce</td><td>867</td><td>Red Potato ORG</td><td>877.0775</td></tr><tr><td>Cereals</td><td>Grocery</td><td>779</td><td>Pumpkin Flax Granola ORG</td><td>870.2701</td></tr><tr><td>Body Salts</td><td>Body Care</td><td>45</td><td>Epsom Salt</td><td>850.3426</td></tr><tr><td>Nuts</td><td>Grocery</td><td>241</td><td>Walnut Pieces Conv</td><td>844.8467</td></tr><tr><td>Seeds And Grains</td><td>Grocery</td><td>128</td><td>Chia Seeds ORG</td><td>843.7480</td></tr><tr><td>Condiments</td><td>Grocery</td><td>138</td><td>Tamari GF ORG</td><td>842.4345</td></tr><tr><td>Produce</td><td>Fresh Produce</td><td>826</td><td>Apples Gala, conventional</td><td>824.0000</td></tr><tr><td>Salsa del Diablo</td><td>Local Love</td><td>727</td><td>Salsa del Diablo Cashew Dream</td><td>814.1478</td></tr><tr><td>Hair Care</td><td>Body Care</td><td>198</td><td>EO Shampoo - Grapefruit Mint</td><td>810.6678</td></tr><tr><td>Pastas</td><td>Grocery</td><td>168</td><td>Supergrain Pasta GF</td><td>801.6885</td></tr><tr><td>Laundry Cleaners</td><td>Cleaning Supply</td><td>955</td><td>Meliora Laundry Powder BULK</td><td>791.4186</td></tr><tr><td>Pastas</td><td>Grocery</td><td>699</td><td>Sea Shell Pasta ORG</td><td>783.1516</td></tr><tr><td>Hair Care</td><td>Body Care</td><td>197</td><td>EO Conditioner - Grapefruit Mint</td><td>762.7624</td></tr><tr><td>Lotions</td><td>Body Care</td><td>172</td><td>Alba Botanica Lotion - Unscented</td><td>731.3501</td></tr><tr><td>Oils</td><td>Grocery</td><td>170</td><td>Coconut Oil - Unrefined ORG</td><td>708.7566</td></tr><tr><td>Produce</td><td>Fresh Produce</td><td>634</td><td>Onion, White</td><td>657.6665</td></tr><tr><td>Vinegars</td><td>Grocery</td><td>100</td><td>Apple Cider Vinegar Bragg&#39;s ORG</td><td>654.2609</td></tr><tr><td>Seeds And Grains</td><td>Grocery</td><td>87</td><td>Rice - White Basmati ORG</td><td>643.5381</td></tr><tr><td>Vinegars</td><td>Grocery</td><td>921</td><td>Apple Cider Vinegar ORG</td><td>642.1840</td></tr><tr><td>Body Cleansing</td><td>Body Care</td><td>180</td><td>Dr Bronners Castile Soap - Peppermint</td><td>633.1968</td></tr><tr><td>Body Cleansing</td><td>Body Care</td><td>189</td><td>Dr Bronners Castile Soap - Lavender</td><td>622.6769</td></tr><tr><td>Yummy Yami</td><td>Local Love</td><td>887</td><td>Arepa VEGAN</td><td>617.0000</td></tr><tr><td>Seeds And Grains</td><td>Grocery</td><td>835</td><td>Wild Rice Blend</td><td>600.0689</td></tr><tr><td>Condiments</td><td>Grocery</td><td>206</td><td>Nutritional Yeast</td><td>598.4711</td></tr><tr><td>Vinegars</td><td>Grocery</td><td>140</td><td>Balsamic Vinegar ORG</td><td>590.3695</td></tr><tr><td>Snacks</td><td>Grocery</td><td>218</td><td>Chunks Of Energy - Cacao &amp; Goji</td><td>586.0157</td></tr><tr><td>Nuts</td><td>Grocery</td><td>672</td><td>Chocolate &amp; Sea Salt Almonds</td><td>577.3337</td></tr><tr><td>Candy</td><td>Grocery</td><td>96</td><td>Gummy Worms - Albanese</td><td>556.1865</td></tr><tr><td>Produce</td><td>Fresh Produce</td><td>877</td><td>Strawberry Box ORG</td><td>553.4332</td></tr><tr><td>Dried Fruits</td><td>Grocery</td><td>146</td><td>Dried Cranberries</td><td>552.8843</td></tr><tr><td>Produce</td><td>Fresh Produce</td><td>827</td><td>Mushrooms - White</td><td>526.7711</td></tr><tr><td>Condiments</td><td>Grocery</td><td>84</td><td>Soy Sauce - Kikkoman ORG</td><td>525.2770</td></tr><tr><td>Salsa del Diablo</td><td>Local Love</td><td>720</td><td>Salsa del Diablo Cilantro Jalapeño Pesto</td><td>514.8119</td></tr><tr><td>Seeds And Grains</td><td>Grocery</td><td>115</td><td>Raw Pumpkin Seeds ORG</td><td>504.5319</td></tr><tr><td>Candy</td><td>Grocery</td><td>242</td><td>Gummy Delish Fish ORG</td><td>486.2871</td></tr><tr><td>Baking</td><td>Grocery</td><td>186</td><td>Semi Sweet Chocolate Chips - MINI</td><td>482.4039</td></tr><tr><td>Seeds And Grains</td><td>Grocery</td><td>1088</td><td>Basmati Rice - Sustainably Grown</td><td>481.7866</td></tr><tr><td>Snacks</td><td>Grocery</td><td>371</td><td>Corn Chips w/ Flax Seed</td><td>481.5591</td></tr><tr><td>Nuts</td><td>Grocery</td><td>223</td><td>Cinnamon Roasted Almonds</td><td>471.4970</td></tr><tr><td>Body Cleansing</td><td>Body Care</td><td>191</td><td>Dr Bronners Castile Soap - Baby Unscented</td><td>470.4703</td></tr><tr><td>Body Cleansing</td><td>Body Care</td><td>559</td><td>EO Hand Soap Lavender</td><td>459.0563</td></tr><tr><td>Produce</td><td>Fresh Produce</td><td>868</td><td>Onion, Sweet  Yellow, ORG</td><td>456.5166</td></tr><tr><td>Flours</td><td>Grocery</td><td>137</td><td>Pamela&#39;s GF Baking Mix</td><td>444.8213</td></tr><tr><td>Flours</td><td>Grocery</td><td>82</td><td>Bobs GF All Purpose Flour</td><td>443.3842</td></tr><tr><td>Hair Care</td><td>Body Care</td><td>210</td><td>Giovanni Shampoo - 50/50</td><td>438.8823</td></tr><tr><td>Hair Care</td><td>Body Care</td><td>212</td><td>Giovanni Conditioner - 50/50</td><td>429.5294</td></tr><tr><td>Hair Care</td><td>Body Care</td><td>179</td><td>Shikai Shampoo - Tea Tree</td><td>425.7287</td></tr><tr><td>Seeds And Grains</td><td>Grocery</td><td>72</td><td>Sunflower Seeds - Roasted Salted</td><td>419.7352</td></tr><tr><td>Pastas</td><td>Grocery</td><td>560</td><td>Orzo Pasta</td><td>399.6539</td></tr><tr><td>Flours</td><td>Grocery</td><td>715</td><td>Vital Wheat Gluten</td><td>382.5892</td></tr><tr><td>Sweeteners</td><td>Grocery</td><td>47</td><td>Raw Demerara Sugar</td><td>381.8764</td></tr><tr><td>Baking</td><td>Grocery</td><td>773</td><td>Milk Chocolate Chips</td><td>380.5945</td></tr><tr><td>Produce</td><td>Fresh Produce</td><td>927</td><td>Avocados, Hass Conventional</td><td>376.4604</td></tr><tr><td>Beans And Legumes</td><td>Grocery</td><td>851</td><td>Kidney Beans ORG</td><td>366.9039</td></tr><tr><td>Body Cleansing</td><td>Body Care</td><td>193</td><td>Shikai Shower Gel - Yuzu</td><td>361.3535</td></tr><tr><td>Anas Beeswax</td><td>Local Love</td><td>272</td><td>Ana&#39;s Beeswax Wrap</td><td>352.0000</td></tr><tr><td>Body Cleansing</td><td>Body Care</td><td>746</td><td>Aloe &amp; Glycerin Bodywash &amp; Shampoo</td><td>351.3594</td></tr><tr><td>Dried Fruits</td><td>Grocery</td><td>231</td><td>Dried Cherries</td><td>341.2477</td></tr><tr><td>Seeds And Grains</td><td>Grocery</td><td>834</td><td>Farro ORG</td><td>334.6461</td></tr><tr><td>Sweeteners</td><td>Grocery</td><td>132</td><td>Coconut Sugar ORG</td><td>332.1512</td></tr><tr><td>Hair Care</td><td>Body Care</td><td>176</td><td>Earth Science Conditioner - Unscented</td><td>322.9700</td></tr><tr><td>Body Cleansing</td><td>Body Care</td><td>190</td><td>Dr Bronners Castile Soap - Eucalyptus</td><td>318.1867</td></tr><tr><td>Hair Care</td><td>Body Care</td><td>178</td><td>Shikai Conditioner - Tea Tree</td><td>317.8518</td></tr><tr><td>Hair Care</td><td>Body Care</td><td>175</td><td>Earth Science Shampoo - Unscented</td><td>316.2330</td></tr><tr><td>Pastas</td><td>Grocery</td><td>981</td><td>Pad Thai Noodles GF ORG</td><td>307.7773</td></tr><tr><td>Hair Care</td><td>Body Care</td><td>750</td><td>Mango Deep Conditioner</td><td>304.7058</td></tr><tr><td>Sauces</td><td>Grocery</td><td>940</td><td>Coconut Milk ORG</td><td>299.0000</td></tr><tr><td>Desserts</td><td>Local Love</td><td>452</td><td>Dessert Hummus - 4oz SML Any Flavor</td><td>296.0000</td></tr><tr><td>Produce</td><td>Fresh Produce</td><td>470</td><td>Butterhead Lettuce</td><td>295.2206</td></tr><tr><td>Seeds And Grains</td><td>Grocery</td><td>93</td><td>Flax Seed ORG</td><td>289.4291</td></tr><tr><td>Nuts</td><td>Grocery</td><td>285</td><td>Sliced Almonds</td><td>287.3565</td></tr><tr><td>Seeds And Grains</td><td>Grocery</td><td>988</td><td>Hemp Seeds</td><td>287.1618</td></tr><tr><td>Flours</td><td>Grocery</td><td>157</td><td>Almond Flour GF</td><td>284.8904</td></tr><tr><td>Body Cleansing</td><td>Body Care</td><td>824</td><td>Lavender Bodywash and Shampoo</td><td>284.1583</td></tr><tr><td>Salts</td><td>Grocery</td><td>753</td><td>Himalayan Pink Salt</td><td>280.4907</td></tr><tr><td>Laundry Cleaners</td><td>Cleaning Supply</td><td>966</td><td>Meliora Oxygen Brightener BULK</td><td>278.7125</td></tr><tr><td>Produce</td><td>Fresh Produce</td><td>718</td><td>Spinach, Local From SLC Top Crops</td><td>276.0737</td></tr><tr><td>Produce</td><td>Fresh Produce</td><td>948</td><td>Tomato, Heirloom, LOCAL</td><td>251.4787</td></tr><tr><td>Lotions</td><td>Body Care</td><td>678</td><td>Earth Science Lotion - Unscented</td><td>246.2015</td></tr><tr><td>Beans And Legumes</td><td>Grocery</td><td>539</td><td>Bob&#39;s Red Mill 13 Bean Soup</td><td>240.2320</td></tr><tr><td>Beans And Legumes</td><td>Grocery</td><td>852</td><td>Green Split Peas</td><td>237.4772</td></tr><tr><td>Lotions</td><td>Body Care</td><td>204</td><td>Shikai Lotion - Yuzu</td><td>235.5625</td></tr><tr><td>Produce</td><td>Fresh Produce</td><td>1037</td><td>Spaghetti Squash, CONV</td><td>231.8285</td></tr><tr><td>Salsa del Diablo</td><td>Local Love</td><td>928</td><td>Salsa del Diablo Pumpkin &amp; A Pepper</td><td>228.2602</td></tr><tr><td>Z-Misc</td><td>Grocery</td><td>94</td><td>Citric Acid</td><td>227.3044</td></tr><tr><td>Baking</td><td>Grocery</td><td>395</td><td>Cocoa Powder 10-12%</td><td>226.2970</td></tr><tr><td>Dairy</td><td>Grocery</td><td>385</td><td>Eggs 6ct Grade A Large ORG</td><td>224.3042</td></tr><tr><td>Dried Fruits</td><td>Grocery</td><td>122</td><td>Coconut Chips ORG</td><td>219.5573</td></tr><tr><td>Body Cleansing</td><td>Body Care</td><td>819</td><td>Lavender Shampoo &amp; Body Wash</td><td>212.1570</td></tr><tr><td>Nuts</td><td>Grocery</td><td>1096</td><td>Raw Walnuts ORG</td><td>212.0434</td></tr><tr><td>Olio Skin</td><td>Local Love</td><td>568</td><td>Olio Dish Bar</td><td>210.3921</td></tr><tr><td>Sweeteners</td><td>Grocery</td><td>125</td><td>Agave ORG</td><td>209.9754</td></tr><tr><td>Body Cleansing</td><td>Body Care</td><td>682</td><td>Dr Bronners Castile Soap - Tea Tree</td><td>208.0018</td></tr><tr><td>Flours</td><td>Grocery</td><td>833</td><td>Cornmeal, ORG yellow medium grind</td><td>204.5382</td></tr><tr><td>Cereals</td><td>Grocery</td><td>394</td><td>Granola Coconut Almond</td><td>203.3451</td></tr><tr><td>Dried Fruits</td><td>Grocery</td><td>120</td><td>Ginger - Crystallized</td><td>201.6055</td></tr><tr><td>Beans And Legumes</td><td>Grocery</td><td>1044</td><td>Pinto Beans</td><td>200.9571</td></tr><tr><td>Salsa del Diablo</td><td>Local Love</td><td>1073</td><td>Salsa del Diablo Pico Lima</td><td>199.1024</td></tr><tr><td>Hair Care</td><td>Body Care</td><td>830</td><td>Giovanni Shampoo - Tea Tree Triple Treat</td><td>197.8396</td></tr><tr><td>Produce</td><td>Fresh Produce</td><td>915</td><td>Acorn Squash, ORG</td><td>197.0407</td></tr><tr><td>Seeds And Grains</td><td>Grocery</td><td>509</td><td>Hemp Seeds ORG</td><td>195.5247</td></tr><tr><td>Raw Ingredients</td><td>Body Care</td><td>225</td><td>Beeswax</td><td>194.0796</td></tr><tr><td>Produce</td><td>Fresh Produce</td><td>916</td><td>Acorn Squash</td><td>191.9630</td></tr><tr><td>Produce</td><td>Fresh Produce</td><td>1032</td><td>Navel Orange ORG</td><td>190.6666</td></tr><tr><td>Lotions</td><td>Body Care</td><td>893</td><td>EO Lotion - French Lavender</td><td>188.4023</td></tr><tr><td>Snacks</td><td>Grocery</td><td>882</td><td>Pretzels, Peanut Butter</td><td>184.3057</td></tr><tr><td>Sweet Hazel</td><td>Local Love</td><td>1027</td><td>Cocoa Bombs, vegan by Sweet Hazel</td><td>184.0000</td></tr><tr><td>Other Cleaners</td><td>Cleaning Supply</td><td>593</td><td>EcosPro Floor Cleaner Concentrate</td><td>183.3912</td></tr><tr><td>Olio Skin</td><td>Local Love</td><td>313</td><td>Olio - Any</td><td>182.5098</td></tr><tr><td>Balms, Oils And Butters</td><td>Body Care</td><td>118</td><td>Shea Butter</td><td>179.3460</td></tr><tr><td>Produce</td><td>Fresh Produce</td><td>636</td><td>Onion, Yellow sweet, ORG</td><td>178.9938</td></tr><tr><td>Nuts</td><td>Grocery</td><td>1043</td><td>Salt &amp; Pepper Cashews ORG</td><td>178.9152</td></tr><tr><td>Baking</td><td>Grocery</td><td>705</td><td>Vanilla Extract</td><td>178.0362</td></tr><tr><td>Body Cleansing</td><td>Body Care</td><td>511</td><td>ShiKai Shower Gel - Vanilla</td><td>177.6277</td></tr><tr><td>Produce</td><td>Fresh Produce</td><td>951</td><td>Spaghetti Squash, ORG</td><td>175.9443</td></tr><tr><td>Hair Care</td><td>Body Care</td><td>831</td><td>Giovanni Conditioner - Tea Tree Triple Treat</td><td>174.5823</td></tr><tr><td>Baking</td><td>Grocery</td><td>239</td><td>Cacao Nibs ORG</td><td>174.3423</td></tr><tr><td>Produce</td><td>Fresh Produce</td><td>901</td><td>Yukon Gold CONV</td><td>171.5461</td></tr><tr><td>Herbs And Spices</td><td>Grocery</td><td>646</td><td>Black Peppercorns</td><td>171.3499</td></tr><tr><td>Produce</td><td>Fresh Produce</td><td>866</td><td>Peach, Small ORG</td><td>170.7866</td></tr><tr><td>Seeds And Grains</td><td>Grocery</td><td>1089</td><td>Short Grain Sushi Rice - Sustainably Grown</td><td>170.2267</td></tr><tr><td>Body Cleansing</td><td>Body Care</td><td>177</td><td>EO Shower Gel Lavender</td><td>166.6896</td></tr><tr><td>Seeds And Grains</td><td>Grocery</td><td>870</td><td>Roasted &amp; Salted Pumpkin Seeds</td><td>165.7140</td></tr><tr><td>Produce</td><td>Fresh Produce</td><td>860</td><td>Avocados, Hass ORG</td><td>164.0000</td></tr><tr><td>Facial Care</td><td>Body Care</td><td>703</td><td>Witch Hazel</td><td>163.8339</td></tr><tr><td>Baking</td><td>Grocery</td><td>173</td><td>Baking Powder</td><td>162.3118</td></tr><tr><td>Snackavist</td><td>Local Love</td><td>1079</td><td>Brownie Mix, GF, Snacktivist</td><td>160.6251</td></tr><tr><td>Produce</td><td>Fresh Produce</td><td>844</td><td>Yams, US, conventional</td><td>159.8796</td></tr><tr><td>Nuts</td><td>Grocery</td><td>999</td><td>Pecans - Roasted ORG</td><td>159.5186</td></tr><tr><td>Pastas</td><td>Grocery</td><td>48</td><td>Pasta - Penne Rigate</td><td>158.9417</td></tr><tr><td>Herbs And Spices</td><td>Grocery</td><td>287</td><td>Garlic Powder ORG</td><td>158.5807</td></tr><tr><td>Sauces</td><td>Grocery</td><td>939</td><td>Coconut Milk - Lite ORG</td><td>155.0000</td></tr><tr><td>Olio Skin</td><td>Local Love</td><td>946</td><td>Olio Deodorant Tube</td><td>154.0000</td></tr><tr><td>Snacks</td><td>Grocery</td><td>871</td><td>Sesame Sticks, whole wheat, salted</td><td>153.8700</td></tr><tr><td>Seeds And Grains</td><td>Grocery</td><td>777</td><td>Oats - Quick Rolled Oats ORG</td><td>152.6798</td></tr><tr><td>Produce</td><td>Fresh Produce</td><td>1092</td><td>Navel Oranges</td><td>150.0451</td></tr><tr><td>Seeds And Grains</td><td>Grocery</td><td>1078</td><td>Couscous ORG</td><td>149.6409</td></tr><tr><td>Meat Alternative</td><td>Grocery</td><td>85</td><td>TVP - Bobs Red Mill</td><td>149.0358</td></tr><tr><td>Meat Alternatives</td><td>Whls_Grocery</td><td>86</td><td>TVP - Bobs Red Mill</td><td>149.0358</td></tr><tr><td>Lotions</td><td>Body Care</td><td>512</td><td>Shikai Lotion - Vanilla</td><td>148.5814</td></tr><tr><td>Balms, Oils And Butters</td><td>Body Care</td><td>236</td><td>Sweet Almond Oil</td><td>145.4927</td></tr><tr><td>Body Cleansing</td><td>Body Care</td><td>875</td><td>Shikai Shower Gel - Coconut</td><td>143.5742</td></tr><tr><td>Hair Care</td><td>Body Care</td><td>165</td><td>ShiKai Shampoo - Color Care</td><td>143.5737</td></tr><tr><td>Produce</td><td>Fresh Produce</td><td>1018</td><td>Mixed Spring Greens, LOCAL</td><td>141.8002</td></tr><tr><td>Sauces</td><td>Grocery</td><td>923</td><td>Vegan Mayo - Vegenaise</td><td>139.0000</td></tr><tr><td>Sauces</td><td>Grocery</td><td>931</td><td>Crushed Tomato - Fire Roasted ORG</td><td>136.0000</td></tr><tr><td>Seeds And Grains</td><td>Grocery</td><td>90</td><td>Flax Seed MEAL ORG</td><td>134.6793</td></tr><tr><td>Cereals</td><td>Grocery</td><td>130</td><td>Granola French Vanilla ORG</td><td>134.3919</td></tr><tr><td>Sauces</td><td>Grocery</td><td>941</td><td>Refried Beans ORG</td><td>133.0000</td></tr><tr><td>Salts</td><td>Grocery</td><td>590</td><td>Sea Salt - Extra Fine</td><td>131.5000</td></tr><tr><td>Candy</td><td>Grocery</td><td>1098</td><td>Cookie Dough Jar - Sweet Hazel</td><td>131.0000</td></tr><tr><td>Body Cleansing</td><td>Body Care</td><td>861</td><td>Hand Sanitizer Gel</td><td>130.2393</td></tr><tr><td>Facial Care</td><td>Body Care</td><td>747</td><td>Aloe Facial Cleanser</td><td>130.0313</td></tr><tr><td>Sauces</td><td>Grocery</td><td>909</td><td>Vegan Ranch - Follow Your Heart</td><td>129.0000</td></tr><tr><td>Seeds And Grains</td><td>Grocery</td><td>104</td><td>Quinoa - White Organic</td><td>126.6787</td></tr><tr><td>Herbs And Spices</td><td>Grocery</td><td>273</td><td>Cumin - Ground ORG</td><td>126.5241</td></tr><tr><td>Sauces</td><td>Grocery</td><td>910</td><td>Pesto - Delallo</td><td>125.0000</td></tr><tr><td>Seeds And Grains</td><td>Grocery</td><td>1061</td><td>Roasted &amp; Salted Sunflower Seeds ORG</td><td>124.1295</td></tr><tr><td>Seeds And Grains</td><td>Grocery</td><td>102</td><td>White Sesame Seeds</td><td>119.7354</td></tr><tr><td>Baking</td><td>Grocery</td><td>171</td><td>Cornstarch ORG</td><td>119.2165</td></tr><tr><td>Produce</td><td>Fresh Produce</td><td>900</td><td>Lemon, ORG</td><td>117.0000</td></tr><tr><td>Dental Care</td><td>Body Care</td><td>818</td><td>Unpaste Toothpaste BULK</td><td>116.5496</td></tr><tr><td>Produce</td><td>Fresh Produce</td><td>641</td><td>Squash Zucchini ORG</td><td>116.5473</td></tr><tr><td>Candy</td><td>Grocery</td><td>582</td><td>Mini Peanut Butter Cups - Milk Chocolate</td><td>116.4767</td></tr><tr><td>Life Giving Foods</td><td>Local Love</td><td>1076</td><td>Sauerkraut</td><td>115.6493</td></tr><tr><td>Snackavist</td><td>Local Love</td><td>1080</td><td>Falafel Mix GF, Snacktivist</td><td>115.4055</td></tr><tr><td>Produce</td><td>Fresh Produce</td><td>640</td><td>Mushrooms Crimini ORG</td><td>113.9576</td></tr><tr><td>Produce</td><td>Fresh Produce</td><td>632</td><td>Snap Peas ORG</td><td>113.7268</td></tr><tr><td>Teas</td><td>Grocery</td><td>131</td><td>Chai - Concentrate Bhakti</td><td>112.1061</td></tr><tr><td>Snacks</td><td>Grocery</td><td>541</td><td>Lillys Cookies, Black and Whites</td><td>110.0479</td></tr><tr><td>Body Salts</td><td>Body Care</td><td>124</td><td>Dead Sea Salt</td><td>108.4034</td></tr><tr><td>Olio Skin</td><td>Local Love</td><td>311</td><td>Olio Facial Bar</td><td>108.3202</td></tr><tr><td>Herbs And Spices</td><td>Grocery</td><td>266</td><td>No Chicken Veggie Broth</td><td>108.1320</td></tr><tr><td>Produce</td><td>Fresh Produce</td><td>628</td><td>Lemons ORG</td><td>107.2147</td></tr><tr><td>Seeds And Grains</td><td>Grocery</td><td>1042</td><td>Flax Meal</td><td>105.4618</td></tr><tr><td>Produce</td><td>Fresh Produce</td><td>979</td><td>Blood Oranges</td><td>104.3530</td></tr><tr><td>Facial Care</td><td>Body Care</td><td>748</td><td>Rosehip &amp; Hibiscus Facial Cream</td><td>104.2020</td></tr><tr><td>Sauces</td><td>Grocery</td><td>935</td><td>Pasta Sauce - Tomato Basil ORG</td><td>103.3264</td></tr><tr><td>Produce</td><td>Fresh Produce</td><td>872</td><td>Lettuce, Gem LOCAL</td><td>103.1436</td></tr><tr><td>Body Cleansing</td><td>Body Care</td><td>192</td><td>ShiKai Shower Gel Pomegranate</td><td>101.2798</td></tr><tr><td>Salsa del Diablo</td><td>Local Love</td><td>978</td><td>Salsa del Diablo Hot Sauce</td><td>98.5416</td></tr><tr><td>Teas</td><td>Grocery</td><td>310</td><td>Chai Tea ORG</td><td>97.8396</td></tr><tr><td>Produce</td><td>Fresh Produce</td><td>883</td><td>Grapefruit, LRG</td><td>97.0861</td></tr><tr><td>Sauces</td><td>Grocery</td><td>942</td><td>Stoneground Mustard ORG</td><td>96.0000</td></tr><tr><td>Body Cleansing</td><td>Body Care</td><td>164</td><td>EO Hand Soap Unscented</td><td>94.2818</td></tr><tr><td>Herbs And Spices</td><td>Grocery</td><td>998</td><td>No Chicken Veggie Broth ORG</td><td>93.0739</td></tr><tr><td>Cereals</td><td>Grocery</td><td>232</td><td>Granola Bee&#39;s Knees ORG</td><td>92.5946</td></tr><tr><td>Raw Ingredients</td><td>Body Care</td><td>244</td><td>Cocoa Butter</td><td>92.3633</td></tr><tr><td>Dental Care</td><td>Body Care</td><td>1081</td><td>Floss Container - Georganics</td><td>92.0000</td></tr><tr><td>Baking</td><td>Grocery</td><td>127</td><td>Chocolate Chips Mini Milk</td><td>91.4725</td></tr><tr><td>Produce</td><td>Fresh Produce</td><td>1086</td><td>Apples, Granny Smith, CONV</td><td>91.3050</td></tr><tr><td>Oils</td><td>Grocery</td><td>187</td><td>Olive Oil, Napa Xtra Virgin ORG</td><td>90.5543</td></tr><tr><td>Raw Ingredients</td><td>Body Care</td><td>712</td><td>Grapeseed Oil</td><td>89.8570</td></tr><tr><td>Sauces</td><td>Grocery</td><td>944</td><td>Dijon Mustard ORG</td><td>89.0000</td></tr><tr><td>Herbs And Spices</td><td>Grocery</td><td>260</td><td>Ground Black Pepper</td><td>88.0304</td></tr><tr><td>Baking</td><td>Grocery</td><td>581</td><td>White Chocolate Chips</td><td>87.9221</td></tr><tr><td>Raw Ingredients</td><td>Body Care</td><td>27</td><td>Bentonite Clay</td><td>87.2777</td></tr><tr><td>Sauces</td><td>Grocery</td><td>933</td><td>Pasta Sauce - Marinara ORG</td><td>86.2167</td></tr><tr><td>Facial Care</td><td>Body Care</td><td>749</td><td>Sea Mineral Facial Toner</td><td>85.4292</td></tr><tr><td>Dental Care</td><td>Body Care</td><td>1082</td><td>Floss Refills - Georganics</td><td>83.0000</td></tr><tr><td>Sauces</td><td>Grocery</td><td>934</td><td>Pasta Sauce - Portobello ORG</td><td>82.2618</td></tr><tr><td>Baking</td><td>Grocery</td><td>185</td><td>Dry Active Yeast</td><td>81.4576</td></tr><tr><td>Other Cleaners</td><td>Cleaning Supply</td><td>1094</td><td>Meliora All Purpose Cleaner Tabs</td><td>81.0000</td></tr><tr><td>Teas</td><td>Grocery</td><td>300</td><td>English Breakfast Tea ORG</td><td>80.0816</td></tr><tr><td>Sauces</td><td>Grocery</td><td>932</td><td>Tomato Sauce ORG</td><td>79.0000</td></tr><tr><td>Oils</td><td>Grocery</td><td>519</td><td>Avocado Oil Expeller Pressed</td><td>77.4543</td></tr><tr><td>Beans And Legumes</td><td>Grocery</td><td>38</td><td>Split Peas Yellow</td><td>76.2449</td></tr><tr><td>Teas</td><td>Grocery</td><td>307</td><td>Gunpowder Green Tea ORG</td><td>74.7804</td></tr><tr><td>Lotions</td><td>Body Care</td><td>202</td><td>ShiKai Lotion - Coconut</td><td>73.5035</td></tr><tr><td>Dried Fruits</td><td>Grocery</td><td>1109</td><td>Dried Mango Cheeks CONV</td><td>72.4778</td></tr><tr><td>Pastas</td><td>Grocery</td><td>647</td><td>Whole Wheat Rotini Pasta</td><td>72.2649</td></tr><tr><td>Teas</td><td>Grocery</td><td>316</td><td>Earl Grey Tea ORG</td><td>70.0312</td></tr><tr><td>Dried Fruits</td><td>Grocery</td><td>605</td><td>Dried Goji Berries ORG</td><td>69.5433</td></tr><tr><td>Hair Care</td><td>Body Care</td><td>199</td><td>EO Conditioner Rose Geranium</td><td>69.1196</td></tr><tr><td>Sauces</td><td>Grocery</td><td>912</td><td>Peanut Butter - MaraNatha ORG</td><td>68.0000</td></tr><tr><td>Dried Fruits</td><td>Grocery</td><td>111</td><td>Coconut Medium Flake ORG</td><td>66.5324</td></tr><tr><td>Sauces</td><td>Grocery</td><td>1003</td><td>Pasta Sauce - Roasted Garlic ORG</td><td>66.0179</td></tr><tr><td>Sauces</td><td>Grocery</td><td>938</td><td>Green Olives</td><td>65.0000</td></tr><tr><td>Herbs And Spices</td><td>Grocery</td><td>230</td><td>Onion Powder ORG</td><td>64.2284</td></tr><tr><td>Herbs And Spices</td><td>Grocery</td><td>213</td><td>Garlic Salt ORG</td><td>63.8564</td></tr><tr><td>Produce</td><td>Fresh Produce</td><td>997</td><td>Brussel Sprouts, CONV</td><td>63.0108</td></tr><tr><td>Vinegars</td><td>Grocery</td><td>92</td><td>Apple Cider Vinegar Aunt Pattys ORG</td><td>62.3309</td></tr><tr><td>Other Cleaners</td><td>Cleaning Supply</td><td>841</td><td>EcosPro Glass Cleaner Concentrate</td><td>61.0965</td></tr><tr><td>Sauces</td><td>Grocery</td><td>913</td><td>Peanut Butter - MaraNatha</td><td>60.0000</td></tr><tr><td>Salsa del Diablo</td><td>Local Love</td><td>1107</td><td>Salsa del Diablo Tomatillo GUACAMOLE</td><td>59.9342</td></tr><tr><td>Snacks</td><td>Grocery</td><td>857</td><td>Lillys Raspberry Hamantashen</td><td>59.0856</td></tr><tr><td>Salts</td><td>Grocery</td><td>243</td><td>Himalayan Pink Salt</td><td>58.8380</td></tr><tr><td>Dishsoaps</td><td>Cleaning Supply</td><td>692</td><td>Biokleen Automatic Dish Gel</td><td>58.7738</td></tr><tr><td>Baking</td><td>Grocery</td><td>89</td><td>Arrowroot Powder</td><td>56.5190</td></tr><tr><td>Other Cleaners</td><td>Cleaning Supply</td><td>839</td><td>Melioria Scrub BULK</td><td>56.0520</td></tr><tr><td>Salts</td><td>Grocery</td><td>145</td><td>Grey Celtic Sea Salt</td><td>55.9999</td></tr><tr><td>Produce</td><td>Fresh Produce</td><td>984</td><td>Brussel Sprouts ORG</td><td>55.5596</td></tr><tr><td>Herbs And Spices</td><td>Grocery</td><td>234</td><td>Korintji Cinnamon</td><td>53.7050</td></tr><tr><td>Laundry Cleaners</td><td>Cleaning Supply</td><td>837</td><td>Meliora BULK laundry soap</td><td>53.0611</td></tr><tr><td>Herbs And Spices</td><td>Grocery</td><td>252</td><td>Turmeric ORG</td><td>51.7684</td></tr><tr><td>Candy</td><td>Grocery</td><td>960</td><td>Gummy  Sours</td><td>51.5184</td></tr><tr><td>Teas</td><td>Grocery</td><td>298</td><td>Chai - Indian Spice Tea</td><td>51.0329</td></tr><tr><td>Herbs And Spices</td><td>Grocery</td><td>547</td><td>Mild Curry Powder</td><td>50.7350</td></tr><tr><td>Produce</td><td>Fresh Produce</td><td>977</td><td>Ginger Root ORG</td><td>50.6126</td></tr><tr><td>Seeds And Grains</td><td>Grocery</td><td>548</td><td>Black Sesame Seeds ORG</td><td>50.1554</td></tr><tr><td>Raw Ingredients</td><td>Body Care</td><td>843</td><td>Aloe Gel</td><td>49.8904</td></tr><tr><td>Hair Care</td><td>Body Care</td><td>745</td><td>Dry Shampoo</td><td>49.3212</td></tr><tr><td>Sauces</td><td>Grocery</td><td>1004</td><td>Crushed Tomato - Basil ORG</td><td>49.0000</td></tr><tr><td>Snackavist</td><td>Local Love</td><td>1097</td><td>Focaccia Mix GF, Snacktivist</td><td>48.9723</td></tr><tr><td>Produce</td><td>Fresh Produce</td><td>856</td><td>Red Potatoes, conventional</td><td>47.0516</td></tr><tr><td>Pastas</td><td>Grocery</td><td>1116</td><td>Macaroni, Elbow pasta ORG</td><td>46.1197</td></tr><tr><td>Baking</td><td>Grocery</td><td>209</td><td>Raw Cacao Powder ORG</td><td>45.8134</td></tr><tr><td>Olio Skin</td><td>Local Love</td><td>315</td><td>Olio Deodorant Bar</td><td>45.5361</td></tr><tr><td>Sauces</td><td>Grocery</td><td>908</td><td>Red Wine Vinegar BOTTLED - Napa Valley Naturals</td><td>45.0000</td></tr><tr><td>Sauces</td><td>Grocery</td><td>919</td><td>Mayo - Spectrum</td><td>45.0000</td></tr><tr><td>Body Cleansing</td><td>Body Care</td><td>820</td><td>Equalizer Creme Facial Cleanser</td><td>44.9914</td></tr><tr><td>Multi Purpose</td><td>Cleaning Supply</td><td>114</td><td>Biokleen BAC-OUT</td><td>43.9333</td></tr><tr><td>Facial Care</td><td>Body Care</td><td>228</td><td>Witch Hazel Org</td><td>43.5816</td></tr><tr><td>Raw Ingredients</td><td>Body Care</td><td>106</td><td>Castor Oil</td><td>43.5733</td></tr><tr><td>Teas</td><td>Grocery</td><td>299</td><td>Luscious Licorice Tea</td><td>43.4173</td></tr><tr><td>Snacks</td><td>Grocery</td><td>982</td><td>Chocolate Covered Pretzels</td><td>43.2758</td></tr><tr><td>Herbs And Spices</td><td>Grocery</td><td>985</td><td>Chili Powder ORG</td><td>43.0541</td></tr><tr><td>Sweeteners</td><td>Grocery</td><td>500</td><td>Agave - Wholesome Blue Raw</td><td>42.3818</td></tr><tr><td>Balms, Oils And Butters</td><td>Body Care</td><td>208</td><td>Apricot Kernel Oil</td><td>41.3847</td></tr><tr><td>Seeds And Grains</td><td>Grocery</td><td>897</td><td>Millet - ORG</td><td>40.6077</td></tr><tr><td>Produce</td><td>Fresh Produce</td><td>1071</td><td>Mandarin w/ Stem&amp;Leaf ORG</td><td>40.5499</td></tr><tr><td>Olio Skin</td><td>Local Love</td><td>869</td><td>Olio Shave Bar</td><td>39.7763</td></tr><tr><td>Body Cleansing</td><td>Body Care</td><td>945</td><td>Sunscreen, Lahaina Organics</td><td>39.0000</td></tr><tr><td>Produce</td><td>Fresh Produce</td><td>1083</td><td>Pears, D&#39;Anjou, ORG</td><td>38.8826</td></tr><tr><td>Sauces</td><td>Grocery</td><td>937</td><td>VOID</td><td>38.0000</td></tr><tr><td>Sauces</td><td>Grocery</td><td>943</td><td>Yellow Mustard ORG</td><td>38.0000</td></tr><tr><td>Beans And Legumes</td><td>Grocery</td><td>772</td><td>Lentils Red CONV</td><td>37.4827</td></tr><tr><td>Produce</td><td>Fresh Produce</td><td>688</td><td>Mangos, LRG Conv.</td><td>37.0586</td></tr><tr><td>Teas</td><td>Grocery</td><td>308</td><td>Relaxing Blend Tea ORG</td><td>37.0052</td></tr><tr><td>Lotions</td><td>Body Care</td><td>203</td><td>Shikai Lotion Pomegranate</td><td>36.6913</td></tr><tr><td>Herbs And Spices</td><td>Grocery</td><td>224</td><td>Red Chili Pepper Flakes ORG</td><td>36.6908</td></tr><tr><td>Produce</td><td>Fresh Produce</td><td>731</td><td>Squash LOCAL</td><td>36.4688</td></tr><tr><td>Kombucha</td><td>Local Love</td><td>473</td><td>Cru Kombucha, Ginger Pear</td><td>36.2607</td></tr><tr><td>Dairy</td><td>Grocery</td><td>620</td><td>Morning Fresh Half Gal Whole Milk</td><td>36.2458</td></tr><tr><td>Other Cleaners</td><td>Cleaning Supply</td><td>594</td><td>EcosPro Lavender Glass Cleaner, Concentrate</td><td>36.0764</td></tr><tr><td>Teas</td><td>Grocery</td><td>289</td><td>Rooibos Tea ORG</td><td>35.4336</td></tr><tr><td>Herbs And Spices</td><td>Grocery</td><td>233</td><td>Cayenne Powder ORG</td><td>35.4206</td></tr><tr><td>Sauces</td><td>Grocery</td><td>911</td><td>Creamed Coconut - Glory Bee</td><td>35.0000</td></tr><tr><td>Baking</td><td>Grocery</td><td>1074</td><td>Cocoa Powder 22-24% Dutch Processed</td><td>34.7705</td></tr><tr><td>Flours</td><td>Grocery</td><td>450</td><td>White Flour ORG (Sprouts)</td><td>34.3441</td></tr><tr><td>Flours</td><td>Grocery</td><td>488</td><td>All Purpose Unbleached Flour ORG</td><td>34.2346</td></tr><tr><td>Vinegars</td><td>Grocery</td><td>1090</td><td>Red Wine Vinegar BULK ORG</td><td>33.8158</td></tr><tr><td>Sweet Hazel</td><td>Local Love</td><td>1030</td><td>Toffee, vegan by Sweet Hazel, LOCAL</td><td>33.0200</td></tr><tr><td>Teas</td><td>Grocery</td><td>295</td><td>Peppermint Tea ORG</td><td>32.9230</td></tr><tr><td>Herbs And Spices</td><td>Grocery</td><td>270</td><td>Ginger Ground ORG</td><td>32.7707</td></tr><tr><td>Seeds And Grains</td><td>Grocery</td><td>894</td><td>Oats - Quick OatsGF</td><td>29.5372</td></tr><tr><td>Dairy</td><td>Grocery</td><td>621</td><td>Morning Qrt Chocolate Whl Milk</td><td>29.4958</td></tr><tr><td>Dried Fruits</td><td>Grocery</td><td>1095</td><td>Date Rolls Coconut, ORG</td><td>29.1590</td></tr><tr><td>Kombucha</td><td>Local Love</td><td>472</td><td>Cru Kombucha, Blood Orange Cranberry</td><td>29.0456</td></tr><tr><td>Nuts</td><td>Grocery</td><td>645</td><td>Peanuts Dry Roasted CONV</td><td>29.0351</td></tr><tr><td>Herbs And Spices</td><td>Grocery</td><td>237</td><td>Poppy Seed ORG</td><td>28.9471</td></tr><tr><td>Body Cleansing</td><td>Body Care</td><td>892</td><td>Hand Sanitizer Liquid, Bac-D</td><td>28.6860</td></tr><tr><td>Teas</td><td>Grocery</td><td>263</td><td>Yerba Mate Tea - Guayaki ORG</td><td>28.1686</td></tr><tr><td>Herbs And Spices</td><td>Grocery</td><td>291</td><td>Smoked Paprika ORG</td><td>27.5214</td></tr><tr><td>Herbs And Spices</td><td>Grocery</td><td>726</td><td>Chili Powder</td><td>27.4348</td></tr><tr><td>Herbs And Spices</td><td>Grocery</td><td>392</td><td>Smoked Paprika</td><td>27.0643</td></tr><tr><td>Balms, Oils And Butters</td><td>Body Care</td><td>950</td><td>Routine Deodorant BULK</td><td>26.6941</td></tr><tr><td>Sweet Hazel</td><td>Local Love</td><td>1028</td><td>Peppermint Bark, vegan by Sweet Hazel</td><td>26.4000</td></tr><tr><td>Produce</td><td>Fresh Produce</td><td>876</td><td>Tomatoes,  ORG</td><td>26.3672</td></tr><tr><td>Herbs And Spices</td><td>Grocery</td><td>309</td><td>Ceylon Cinnamon ORG</td><td>25.6755</td></tr><tr><td>Dental Care</td><td>Body Care</td><td>1068</td><td>Ruut Goods Toothpaste BULK</td><td>25.1394</td></tr><tr><td>Balms, Oils And Butters</td><td>Body Care</td><td>95</td><td>Vegetable Glycerin</td><td>24.5992</td></tr><tr><td>Seeds And Grains</td><td>Grocery</td><td>959</td><td>Popcorn - Red, White and Blue ORG</td><td>24.4404</td></tr><tr><td>Herbs And Spices</td><td>Grocery</td><td>265</td><td>Oregano</td><td>24.3330</td></tr><tr><td>Raw Ingredients</td><td>Body Care</td><td>262</td><td>French Green Clay</td><td>23.7288</td></tr><tr><td>Produce</td><td>Fresh Produce</td><td>865</td><td>Squash Yellow Conventional</td><td>23.6962</td></tr><tr><td>Produce</td><td>Fresh Produce</td><td>898</td><td>Black Plum ORG</td><td>23.6936</td></tr><tr><td>Herbs And Spices</td><td>Grocery</td><td>992</td><td>Cinnamon Korintji, ORG</td><td>23.5307</td></tr><tr><td>Herbs And Spices</td><td>Grocery</td><td>677</td><td>Taco Seasoning</td><td>23.1088</td></tr><tr><td>Beans And Legumes</td><td>Grocery</td><td>1031</td><td>Small Red Chili Beans ORG</td><td>22.4452</td></tr><tr><td>Hair Care</td><td>Body Care</td><td>211</td><td>Giovanni Shampoo Smooth as Silk</td><td>22.4190</td></tr><tr><td>Herbs And Spices</td><td>Grocery</td><td>751</td><td>Minced Dried Onion</td><td>22.2889</td></tr><tr><td>Produce</td><td>Fresh Produce</td><td>1038</td><td>Carrots, Loose tri-color</td><td>22.2417</td></tr><tr><td>Produce</td><td>Fresh Produce</td><td>704</td><td>Cut Veggie Mix</td><td>22.1342</td></tr><tr><td>Herbs And Spices</td><td>Grocery</td><td>393</td><td>Paprika Powder</td><td>22.0821</td></tr><tr><td>Hair Care</td><td>Body Care</td><td>528</td><td>Giovanni Conditioner Smooth as Silk</td><td>21.8279</td></tr><tr><td>Produce</td><td>Fresh Produce</td><td>906</td><td>Summer Crisp Lettuce</td><td>21.3225</td></tr><tr><td>Herbs And Spices</td><td>Grocery</td><td>249</td><td>Onion Powder, Conv.</td><td>21.2031</td></tr><tr><td>Herbs And Spices</td><td>Grocery</td><td>277</td><td>Italian Seasoning</td><td>21.0579</td></tr><tr><td>Sauces</td><td>Grocery</td><td>1059</td><td>Coconut Oil In Jar ORG</td><td>20.9182</td></tr><tr><td>Herbs And Spices</td><td>Grocery</td><td>247</td><td>Mustard Seed - Whole ORG</td><td>20.2827</td></tr><tr><td>Sauces</td><td>Grocery</td><td>1100</td><td>Black  Olives, Natural Value</td><td>20.0000</td></tr><tr><td>Nut Butters</td><td>Grocery</td><td>144</td><td>Peanut Butter - natural</td><td>19.9545</td></tr><tr><td>Candy</td><td>Grocery</td><td>158</td><td>Mini Marshmallows, Chocolate Covered</td><td>19.7240</td></tr><tr><td>Produce</td><td>Fresh Produce</td><td>610</td><td>Herbs per bunch</td><td>19.5444</td></tr><tr><td>Nuts</td><td>Grocery</td><td>499</td><td>Almonds Cocoa Dusted ORG</td><td>19.1962</td></tr><tr><td>Produce</td><td>Fresh Produce</td><td>702</td><td>Cut Watermelon</td><td>19.0394</td></tr><tr><td>Produce</td><td>Fresh Produce</td><td>706</td><td>Cut Butternut Squash</td><td>18.8409</td></tr><tr><td>Produce</td><td>Fresh Produce</td><td>611</td><td>Cucumbers</td><td>18.2726</td></tr><tr><td>Teas</td><td>Grocery</td><td>958</td><td>Indian Spice Chai Tea ORG</td><td>18.1929</td></tr><tr><td>Condiments</td><td>Grocery</td><td>375</td><td>Cashew Queso Mild Nacho 10.8oz</td><td>18.0000</td></tr><tr><td>Herbs And Spices</td><td>Grocery</td><td>275</td><td>Basil ORG</td><td>17.5464</td></tr><tr><td>Pastas</td><td>Grocery</td><td>648</td><td>Whole Wheat Spaghetti Pasta</td><td>17.4103</td></tr><tr><td>Herbs And Spices</td><td>Grocery</td><td>312</td><td>Garam Masala ORG</td><td>17.3348</td></tr><tr><td>Herbs And Spices</td><td>Grocery</td><td>286</td><td>Paprika ORG</td><td>17.3100</td></tr><tr><td>Produce</td><td>Fresh Produce</td><td>671</td><td>local flowers in glass per bunch</td><td>16.9000</td></tr><tr><td>Produce</td><td>Fresh Produce</td><td>994</td><td>Carrots, LOCAL</td><td>16.8900</td></tr><tr><td>Herbs And Spices</td><td>Grocery</td><td>550</td><td>Thyme ORG</td><td>16.5487</td></tr><tr><td>Produce</td><td>Fresh Produce</td><td>652</td><td>Garlic ORG</td><td>16.3045</td></tr><tr><td>Produce</td><td>Fresh Produce</td><td>612</td><td>Green Beans ORG</td><td>15.8075</td></tr><tr><td>Sweet Hazel</td><td>Local Love</td><td>1029</td><td>Peanut Brittle, vegan by Sweet Hazel, LOCAL</td><td>15.7800</td></tr><tr><td>Produce</td><td>Fresh Produce</td><td>700</td><td>Cut Carrots, ORG</td><td>15.4212</td></tr><tr><td>Herbs And Spices</td><td>Grocery</td><td>329</td><td>Nutmeg - Ground</td><td>15.2123</td></tr><tr><td>Sauces</td><td>Grocery</td><td>914</td><td>Italian Dressing - Primal Kitchen</td><td>15.0000</td></tr><tr><td>Herbs And Spices</td><td>Grocery</td><td>990</td><td>Garlic Powder, CONV</td><td>14.9669</td></tr><tr><td>Produce</td><td>Fresh Produce</td><td>609</td><td>Radish ORG per bunch</td><td>14.9635</td></tr><tr><td>Herbs And Spices</td><td>Grocery</td><td>330</td><td>Cardamom</td><td>14.8918</td></tr><tr><td>Drool</td><td>Local Love</td><td>1045</td><td>Dog Biscuit, Drool BULK</td><td>14.8233</td></tr><tr><td>Condiments</td><td>Grocery</td><td>583</td><td>Earth Balance Buttery Spread</td><td>14.4482</td></tr><tr><td>Sauces</td><td>Grocery</td><td>378</td><td>Indian Simmer Sauce - Butter Masala 12.5oz</td><td>14.0000</td></tr><tr><td>Produce</td><td>Fresh Produce</td><td>885</td><td>Turnup Bunch, LOCAL</td><td>14.0000</td></tr><tr><td>Oils</td><td>Grocery</td><td>1114</td><td>Coconut Oil, ORG 12oz Glory Bee</td><td>14.0000</td></tr><tr><td>Herbs And Spices</td><td>Grocery</td><td>744</td><td>Cumin Seed ORG</td><td>13.6915</td></tr><tr><td>Produce</td><td>Fresh Produce</td><td>709</td><td>Cut Organic Zucchini Noodles</td><td>13.2445</td></tr><tr><td>Baking</td><td>Grocery</td><td>864</td><td>Yeast Instant</td><td>13.1663</td></tr><tr><td>Produce</td><td>Fresh Produce</td><td>952</td><td>Celery, Bunch ORG</td><td>13.0000</td></tr><tr><td>Candy</td><td>Grocery</td><td>169</td><td>Elements Chocolate Bar, Raw Chocolate</td><td>13.0000</td></tr><tr><td>Herbs And Spices</td><td>Grocery</td><td>269</td><td>Chicory Root ORG</td><td>12.8775</td></tr><tr><td>Herbs And Spices</td><td>Grocery</td><td>306</td><td>Vindaloo Curry ORG</td><td>12.8200</td></tr><tr><td>Coffee</td><td>Grocery</td><td>486</td><td>Coffee Peruvian</td><td>12.7592</td></tr><tr><td>Herbs And Spices</td><td>Grocery</td><td>217</td><td>Mustard - Ground ORG</td><td>12.5021</td></tr><tr><td>Drool</td><td>Local Love</td><td>1048</td><td>Dog Biscuit, Mini M’ Bones, BULK, Drool</td><td>12.4621</td></tr><tr><td>Kings Peak Coffee</td><td>Local Love</td><td>1132</td><td>Kings Peak Coffee</td><td>12.3916</td></tr><tr><td>Laundry Cleaners</td><td>Cleaning Supply</td><td>816</td><td>Charlie&#39;s Soap Laundry Liquid</td><td>12.3505</td></tr><tr><td>Herbs And Spices</td><td>Grocery</td><td>1002</td><td>Cinnamon Sticks ORG</td><td>12.3083</td></tr><tr><td>Sauces</td><td>Grocery</td><td>936</td><td>Sesame Oil, Toasted, Spectrum Naturals</td><td>12.0041</td></tr><tr><td>Sauces</td><td>Grocery</td><td>918</td><td>Sesame Dressing - Primal Kitchen</td><td>12.0000</td></tr><tr><td>Sweeteners</td><td>Grocery</td><td>604</td><td>Maple Syrup in a Mini Jug</td><td>12.0000</td></tr><tr><td>Coffee</td><td>Grocery</td><td>281</td><td>Coffee Papua New Guinea</td><td>11.6799</td></tr><tr><td>Herbs And Spices</td><td>Grocery</td><td>991</td><td>Garam Masala CONV</td><td>11.0003</td></tr><tr><td>Produce</td><td>Fresh Produce</td><td>1087</td><td>Cantaloupe CONV</td><td>11.0000</td></tr><tr><td>Sauces</td><td>Grocery</td><td>924</td><td>Rice Wine Vinegar - Kikkoman</td><td>11.0000</td></tr><tr><td>Holiday</td><td>Holiday Popup</td><td>797</td><td>HLD olive and oak bath blend</td><td>11.0000</td></tr><tr><td>Essential Oils</td><td>Body Care</td><td>320</td><td>Essential oil, sweet orange floz Inventory Unit</td><td>11.0000</td></tr><tr><td>Olio Skin</td><td>Local Love</td><td>1014</td><td>Olio, Rose Hydrosol, 2oz</td><td>10.6636</td></tr><tr><td>Produce</td><td>Fresh Produce</td><td>1019</td><td>Sunflower Sprouts, LOCAL</td><td>10.6200</td></tr><tr><td>Kombucha</td><td>Local Love</td><td>364</td><td>Cru Kombucha, Lemon Ginger</td><td>10.4810</td></tr><tr><td>Herbs And Spices</td><td>Grocery</td><td>735</td><td>Pumpkin Spice</td><td>10.4118</td></tr><tr><td>Raw Ingredients</td><td>Body Care</td><td>216</td><td>Emulsifying Wax</td><td>10.3895</td></tr><tr><td>Herbs And Spices</td><td>Grocery</td><td>949</td><td>Taco Seasoning  ORG</td><td>10.3660</td></tr><tr><td>Multi Purpose</td><td>Cleaning Supply</td><td>485</td><td>Biokleen all purpose cleaner</td><td>10.2706</td></tr><tr><td>Herbs And Spices</td><td>Grocery</td><td>319</td><td>Cloves - Whole</td><td>10.2094</td></tr><tr><td>Herbs And Spices</td><td>Grocery</td><td>246</td><td>Coriander Whole ORG</td><td>10.0051</td></tr><tr><td>Candy</td><td>Grocery</td><td>1123</td><td>Caramel Apple- Sweet Hazel</td><td>10.0000</td></tr><tr><td>Fruits</td><td>Whls_Grocery</td><td>757</td><td>Banana Chips (Swt)</td><td>9.8909</td></tr><tr><td>Sweeteners</td><td>Grocery</td><td>52</td><td>Sugar - Brown LIGHT ORG</td><td>9.7500</td></tr><tr><td>Baking</td><td>Grocery</td><td>147</td><td>Chocolate Chips Milk Guittard</td><td>9.6315</td></tr><tr><td>Produce</td><td>Fresh Produce</td><td>608</td><td>Beets ORG</td><td>9.6301</td></tr><tr><td>Herbs And Spices</td><td>Grocery</td><td>1104</td><td>Red Chili Pepper Flakes</td><td>9.4416</td></tr><tr><td>Other Cleaners</td><td>Cleaning Supply</td><td>840</td><td>Melioria all-purpose Flakes  BULK</td><td>9.3414</td></tr><tr><td>Snacks</td><td>Grocery</td><td>855</td><td>Corn Chips Salsa Del Diablo</td><td>9.0000</td></tr><tr><td>Holiday</td><td>Holiday Popup</td><td>795</td><td>HLD olive and oak tea</td><td>9.0000</td></tr><tr><td>Essential Oils</td><td>Body Care</td><td>347</td><td>Essential oil, lavender FLOZ Inventory Unit</td><td>9.0000</td></tr><tr><td>Condiments</td><td>Grocery</td><td>733</td><td>Cherry Preserves</td><td>8.9749</td></tr><tr><td>Produce</td><td>Fresh Produce</td><td>765</td><td>Basil Fresh Plant</td><td>8.9718</td></tr><tr><td>Produce</td><td>Fresh Produce</td><td>714</td><td>Cut Pineapple</td><td>8.9700</td></tr><tr><td>Herbs And Spices</td><td>Grocery</td><td>290</td><td>Star Anise Select Whole</td><td>8.9633</td></tr><tr><td>Coffee</td><td>Grocery</td><td>283</td><td>Coffee Honduran ORG</td><td>8.8505</td></tr><tr><td>Produce</td><td>Fresh Produce</td><td>732</td><td>Pluot LOCAL</td><td>8.7487</td></tr><tr><td>Olio Skin</td><td>Local Love</td><td>1016</td><td>Olio, Rosey Face Mask, 2oz</td><td>8.6896</td></tr><tr><td>Herbs And Spices</td><td>Grocery</td><td>301</td><td>Bay Leaf ORG</td><td>8.5793</td></tr><tr><td>Herbs And Spices</td><td>Grocery</td><td>326</td><td>Cloves - Ground ORG</td><td>8.3100</td></tr><tr><td>Hair Care</td><td>Body Care</td><td>669</td><td>Shikai Shampoo Everyday</td><td>8.2987</td></tr><tr><td>Herbs And Spices</td><td>Grocery</td><td>276</td><td>Rosemary Leaf ORG</td><td>8.2978</td></tr><tr><td>Herbs And Spices</td><td>Grocery</td><td>167</td><td>Chili Powder Salt Free</td><td>8.2137</td></tr><tr><td>Herbs And Spices</td><td>Grocery</td><td>302</td><td>Nutmeg - Whole</td><td>8.1693</td></tr><tr><td>Desserts</td><td>Local Love</td><td>453</td><td>Dessert Hummus- Goin&#39; Coconuts 4oz</td><td>8.0000</td></tr><tr><td>Produce</td><td>Fresh Produce</td><td>650</td><td>Black Berries LOCAL</td><td>8.0000</td></tr><tr><td>Holiday</td><td>Holiday Popup</td><td>804</td><td>HLD bow</td><td>8.0000</td></tr><tr><td>Flours</td><td>Grocery</td><td>854</td><td>Coconut Flour, ORG</td><td>7.7584</td></tr><tr><td>Desserts</td><td>Local Love</td><td>607</td><td>Dessert Hummus - PINT Any Flavor</td><td>7.7495</td></tr><tr><td>Herbs And Spices</td><td>Grocery</td><td>293</td><td>Black Peppercorns ORG</td><td>7.7361</td></tr><tr><td>Lotions</td><td>Body Care</td><td>1101</td><td>All Good Sunscreen BULK</td><td>7.6453</td></tr><tr><td>Coffee</td><td>Grocery</td><td>279</td><td>Coffee Mexican ORG</td><td>7.4907</td></tr><tr><td>Dried Fruits</td><td>Grocery</td><td>863</td><td>Deglet Dates</td><td>7.4718</td></tr><tr><td>Produce</td><td>Fresh Produce</td><td>721</td><td>Cut Sweet Potatos, ORG</td><td>7.2598</td></tr><tr><td>Laundry Cleaners</td><td>Cleaning Supply</td><td>996</td><td>Meliora CONTAINER All Purpose Cleaning Flakes</td><td>7.0000</td></tr><tr><td>Balms, Oils And Butters</td><td>Body Care</td><td>987</td><td>CBD Massage Oil</td><td>6.9602</td></tr><tr><td>Herbs And Spices</td><td>Grocery</td><td>268</td><td>Curry Powder ORG</td><td>6.9253</td></tr><tr><td>Olio Skin</td><td>Local Love</td><td>1015</td><td>Olio, Face &amp; Body Oil, 2oz</td><td>6.7989</td></tr><tr><td>Seeds And Grains</td><td>Grocery</td><td>549</td><td>Sesame Seeds - White Hulled ORG</td><td>6.6654</td></tr><tr><td>Herbs And Spices</td><td>Grocery</td><td>258</td><td>Cinnamon Sticks</td><td>6.6562</td></tr><tr><td>Herbs And Spices</td><td>Grocery</td><td>303</td><td>Allspice ORG</td><td>6.4511</td></tr><tr><td>Herbs And Spices</td><td>Grocery</td><td>974</td><td>Rosemary Leaf</td><td>6.3950</td></tr><tr><td>Baking</td><td>Grocery</td><td>1127</td><td>Maple Toasted Coconut Chips ORG</td><td>6.1628</td></tr><tr><td>Dental Care</td><td>Body Care</td><td>1069</td><td>Ruut Goods Mouthwash BULK</td><td>6.1400</td></tr><tr><td>Teas</td><td>Grocery</td><td>615</td><td>Greenthread Herbs Tea Blends (any variety)</td><td>6.0733</td></tr><tr><td>Herbs And Spices</td><td>Grocery</td><td>248</td><td>Dill Seed ORG</td><td>6.0026</td></tr><tr><td>Sauces</td><td>Grocery</td><td>377</td><td>Pasta Sauce - Spicy Marinara 24oz</td><td>6.0000</td></tr><tr><td>Condiments</td><td>Grocery</td><td>373</td><td>Sir Kensington Mayo 16oz</td><td>6.0000</td></tr><tr><td>Sauces</td><td>Grocery</td><td>379</td><td>Indian Simmer Sauce - Tikka Masala 12.5oz</td><td>6.0000</td></tr><tr><td>Sauces</td><td>Grocery</td><td>380</td><td>Indian Simmer Sauce - Goan Coconut Curry 12.5oz</td><td>6.0000</td></tr><tr><td>Produce</td><td>Fresh Produce</td><td>690</td><td>Cherry Tomatoes, LOCAL</td><td>6.0000</td></tr><tr><td>Herbs And Spices</td><td>Grocery</td><td>220</td><td>Mustard Seed Brown ORG</td><td>5.8782</td></tr><tr><td>Drool</td><td>Local Love</td><td>1047</td><td>Dog Biscuit Bundle, Chicken Soup</td><td>5.8584</td></tr><tr><td>Herbs And Spices</td><td>Grocery</td><td>292</td><td>Sage ORG</td><td>5.7100</td></tr><tr><td>Teas</td><td>Grocery</td><td>975</td><td>Luscious Licorice Tea, ORG</td><td>5.4808</td></tr><tr><td>Herbs And Spices</td><td>Grocery</td><td>1084</td><td>Ginger, ground</td><td>5.4342</td></tr><tr><td>Herbs And Spices</td><td>Grocery</td><td>1075</td><td>Lemon Pepper ORG</td><td>5.4100</td></tr><tr><td>Herbs And Spices</td><td>Grocery</td><td>520</td><td>Caraway Seed ORG</td><td>5.0080</td></tr><tr><td>Sauces</td><td>Grocery</td><td>376</td><td>Pasta Sauce - Vodka 24oz</td><td>5.0000</td></tr><tr><td>Condiments</td><td>Grocery</td><td>386</td><td>Salad Dressing, Poppy Seed, Briannas 12oz</td><td>5.0000</td></tr><tr><td>Condiments</td><td>Grocery</td><td>387</td><td>Salad Dressing, Dijon Honey Mustard, Briannas 12oz</td><td>5.0000</td></tr><tr><td>Holiday</td><td>Holiday Popup</td><td>799</td><td>HLD plant cutting, small</td><td>5.0000</td></tr><tr><td>Seeds And Grains</td><td>Grocery</td><td>68</td><td>Rice - Golden Rose Brown ORG</td><td>4.9816</td></tr><tr><td>Herbs And Spices</td><td>Grocery</td><td>322</td><td>Dill Weed ORG</td><td>4.8607</td></tr><tr><td>Drool</td><td>Local Love</td><td>1050</td><td>Dog Biscuit Bundle, Steak &amp; Potato</td><td>4.8584</td></tr><tr><td>Herbs And Spices</td><td>Grocery</td><td>903</td><td>Fennel Seed</td><td>4.8274</td></tr><tr><td>Herbs And Spices</td><td>Grocery</td><td>713</td><td>Coriander - Whole</td><td>4.7906</td></tr><tr><td>Herbs And Spices</td><td>Grocery</td><td>261</td><td>Celery Seed ORG</td><td>4.7258</td></tr><tr><td>Teas</td><td>Grocery</td><td>294</td><td>Chai - Black Tea Ground</td><td>4.6501</td></tr><tr><td>Produce</td><td>Fresh Produce</td><td>956</td><td>Cucumber, LOCAL</td><td>4.4695</td></tr><tr><td>Vinegars</td><td>Grocery</td><td>155</td><td>Balsamic  Vinegar - Spectrum</td><td>4.4400</td></tr><tr><td>Laundry Cleaners</td><td>Cleaning Supply</td><td>323</td><td>Eco Nuts laundry cleaner</td><td>4.3102</td></tr><tr><td>Essential Oils</td><td>Body Care</td><td>344</td><td>Essential oil, Tea tree floz inventory unit</td><td>4.2445</td></tr><tr><td>Flours</td><td>Grocery</td><td>22</td><td>Whole Wheat Pastry Flour ORG</td><td>4.1017</td></tr><tr><td>Condiments</td><td>Grocery</td><td>374</td><td>Sir Kensington Dijon Mustard 11oz</td><td>4.0000</td></tr><tr><td>Holiday</td><td>Holiday Popup</td><td>805</td><td>HLD honey jar</td><td>4.0000</td></tr><tr><td>Holiday</td><td>Holiday Popup</td><td>806</td><td>HLD zero waste accessory</td><td>4.0000</td></tr><tr><td>Nuts</td><td>Grocery</td><td>859</td><td>Peanut Butter, 35 lb bucket</td><td>4.0000</td></tr><tr><td>Balms, Oils And Butters</td><td>Body Care</td><td>1113</td><td>Jojoba oil, expeller pressed</td><td>3.9990</td></tr><tr><td>Herbs And Spices</td><td>Grocery</td><td>1005</td><td>Star Anise ORG</td><td>3.9862</td></tr><tr><td>Produce</td><td>Fresh Produce</td><td>957</td><td>Celery, Cut Stalks ORG</td><td>3.8980</td></tr><tr><td>Kings Peak Coffee</td><td>Local Love</td><td>1133</td><td>Kings Peak Coffee DECAFFINATED</td><td>3.6098</td></tr><tr><td>Seeds And Grains</td><td>Grocery</td><td>91</td><td>Quinoa - Red ORG</td><td>3.4291</td></tr><tr><td>Herbs And Spices</td><td>Grocery</td><td>317</td><td>Cayenne Powder, CONV</td><td>3.3938</td></tr><tr><td>Herbs And Spices</td><td>Grocery</td><td>1033</td><td>Dill Weed</td><td>3.2000</td></tr><tr><td>Produce</td><td>Fresh Produce</td><td>631</td><td>Basil Fresh ORG</td><td>3.1586</td></tr><tr><td>Holiday</td><td>Holiday Popup</td><td>801</td><td>HLD Necklace</td><td>3.0000</td></tr><tr><td>Holiday</td><td>Holiday Popup</td><td>811</td><td>HLD Apparel 1</td><td>3.0000</td></tr><tr><td>Holiday</td><td>Holiday Popup</td><td>813</td><td>HLD Apparel 3</td><td>3.0000</td></tr><tr><td>Produce</td><td>Fresh Produce</td><td>1093</td><td>Short Sale, Strawberries</td><td>3.0000</td></tr><tr><td>Essential Oils</td><td>Body Care</td><td>353</td><td>Essential oil, Peppermint floz, Inventory Unit</td><td>3.0000</td></tr><tr><td>Condiments</td><td>Grocery</td><td>388</td><td>Salad Dressing, Buttermilk Ranch, Briannas 12oz</td><td>3.0000</td></tr><tr><td>Produce</td><td>Fresh Produce</td><td>1118</td><td>White and Purple Bell Peppers, LOCAL</td><td>2.8314</td></tr><tr><td>Teas</td><td>Grocery</td><td>271</td><td>Hibiscus - Cut and Sifted</td><td>2.8302</td></tr><tr><td>Herbs And Spices</td><td>Grocery</td><td>1105</td><td>Nutmeg - Ground ORG</td><td>2.8000</td></tr><tr><td>Hair Care</td><td>Body Care</td><td>166</td><td>Shikai Conditioner Everyday</td><td>2.0973</td></tr><tr><td>Holiday</td><td>Holiday Popup</td><td>803</td><td>HLD woven bracelet</td><td>2.0000</td></tr><tr><td>Holiday</td><td>Holiday Popup</td><td>798</td><td>HLD olive and oak tincture</td><td>2.0000</td></tr><tr><td>Produce</td><td>Fresh Produce</td><td>717</td><td>Arugula LOCAL per bunch</td><td>2.0000</td></tr><tr><td>Herbs And Spices</td><td>Grocery</td><td>1099</td><td>Fennel Seed ORG</td><td>1.9828</td></tr><tr><td>Herbs And Spices</td><td>Grocery</td><td>986</td><td>Thyme, dried CONV</td><td>1.9397</td></tr><tr><td>Laundry Cleaners</td><td>Cleaning Supply</td><td>28</td><td>laundry powder, Tough Guy</td><td>1.8981</td></tr><tr><td>Dishsoaps</td><td>Cleaning Supply</td><td>817</td><td>Biokleen Automatic Dish Powder</td><td>1.8092</td></tr><tr><td>Herbs And Spices</td><td>Grocery</td><td>318</td><td>Herbs de Provence ORG</td><td>1.7597</td></tr><tr><td>Herbs And Spices</td><td>Grocery</td><td>254</td><td>Five Spice Powder</td><td>1.6784</td></tr><tr><td>Herbs And Spices</td><td>Grocery</td><td>207</td><td>Mustard Seed Yellow ORG</td><td>1.5096</td></tr><tr><td>Produce</td><td>Fresh Produce</td><td>701</td><td>Cut Cellery, ORG</td><td>1.4091</td></tr><tr><td>Herbs And Spices</td><td>Grocery</td><td>314</td><td>Pumpkin Spice ORG</td><td>1.2205</td></tr><tr><td>Teas</td><td>Grocery</td><td>518</td><td>Holy Basil Tea</td><td>1.2108</td></tr><tr><td>Teas</td><td>Grocery</td><td>517</td><td>Immunity Tea</td><td>1.1504</td></tr><tr><td>Produce</td><td>Fresh Produce</td><td>1117</td><td>Braising Mix, LOCAL</td><td>1.1496</td></tr><tr><td>Seeds And Grains</td><td>Grocery</td><td>222</td><td>Sesame Seeds - Black ORG</td><td>1.1417</td></tr><tr><td>Essential Oils</td><td>Body Care</td><td>331</td><td>Essential Oil, Lemongrass FLOZ inventory unit</td><td>1.0000</td></tr><tr><td>Essential Oils</td><td>Body Care</td><td>336</td><td>Essential oil, Lemon, floz Inventory Unit</td><td>1.0000</td></tr><tr><td>Desserts</td><td>Local Love</td><td>697</td><td>Dessert Hummus - 9oz LRG Any Flavor</td><td>1.0000</td></tr><tr><td>Holiday</td><td>Holiday Popup</td><td>814</td><td>HLD Apparel 4</td><td>1.0000</td></tr><tr><td>Holiday</td><td>Holiday Popup</td><td>812</td><td>HLD Apparel 2</td><td>1.0000</td></tr><tr><td>Holiday</td><td>Holiday Popup</td><td>823</td><td>HLD Campfire Cider</td><td>1.0000</td></tr><tr><td>Holiday</td><td>Holiday Popup</td><td>792</td><td>HLD Planter, small</td><td>1.0000</td></tr><tr><td>Holiday</td><td>Holiday Popup</td><td>802</td><td>HLD Bead bracelet</td><td>1.0000</td></tr><tr><td>Holiday</td><td>Holiday Popup</td><td>808</td><td>HLD zero waste to go</td><td>1.0000</td></tr><tr><td>Holiday</td><td>Holiday Popup</td><td>810</td><td>HLD thrifted jars</td><td>1.0000</td></tr><tr><td>Flours</td><td>Grocery</td><td>969</td><td>VOID</td><td>0.9805</td></tr><tr><td>Herbs And Spices</td><td>Grocery</td><td>1122</td><td>Parsley, ORG</td><td>0.9579</td></tr><tr><td>Herbs And Spices</td><td>Grocery</td><td>828</td><td>Mustard Seed, yellow, ORG</td><td>0.8798</td></tr><tr><td>Teas</td><td>Grocery</td><td>516</td><td>Purple Rain Tea</td><td>0.8705</td></tr><tr><td>Teas</td><td>Grocery</td><td>267</td><td>Gunpowder Mint Green</td><td>0.8207</td></tr><tr><td>Teas</td><td>Grocery</td><td>339</td><td>Pu &#39;erh ORG Tea</td><td>0.8000</td></tr><tr><td>Teas</td><td>Grocery</td><td>1125</td><td>Earl Grey Tea DECAF</td><td>0.6895</td></tr><tr><td>Produce</td><td>Fresh Produce</td><td>754</td><td>Lemongrass Fresh</td><td>0.5700</td></tr><tr><td>Produce</td><td>Fresh Produce</td><td>698</td><td>Yellow Wax Beans ORG</td><td>0.4387</td></tr><tr><td>Coffee</td><td>Grocery</td><td>284</td><td>Coffee Burundi Fair Trade</td><td>0.3902</td></tr><tr><td>Herbs And Spices</td><td>Grocery</td><td>993</td><td>Cloves - Whole ORG</td><td>0.3400</td></tr><tr><td>Baking</td><td>Grocery</td><td>338</td><td>Vanilla ORG</td><td>0.1800</td></tr><tr><td>Herbs And Spices</td><td>Grocery</td><td>716</td><td>Cardamom Decorticated</td><td>0.1197</td></tr><tr><td>Teas</td><td>Grocery</td><td>600</td><td>Tulsi Ginger Rose</td><td>0.1102</td></tr><tr><td>Herbs And Spices</td><td>Grocery</td><td>542</td><td>(INACTIVE) Smoked Paprika ORG</td><td>0.1001</td></tr><tr><td>Herbs And Spices</td><td>Grocery</td><td>1137</td><td>Orange Peel, ORG</td><td>0.0896</td></tr><tr><td>Herbs And Spices</td><td>Grocery</td><td>1138</td><td>Lemon Peel, ORG</td><td>0.0397</td></tr><tr><td>Coffee</td><td>Grocery</td><td>282</td><td>Coffee Guatemalan Tikal</td><td>0.0202</td></tr></table>"
                    },
                    "metadata": {}
                }
            ],
            "execution_count": 12
        },
        {
            "cell_type": "markdown",
            "source": [
                "## Average Order Value\n",
                "\n",
                "#### Total Average Order Value by Month and Moving 3 Month Average (Includes Retail and Wholesale)"
            ],
            "metadata": {
                "language": "sql",
                "azdata_cell_guid": "8979605c-0f14-4420-8e62-5f7449074263"
            },
            "attachments": {}
        },
        {
            "cell_type": "code",
            "source": [
                "SELECT \r\n",
                "    EOMONTH(o.OrderDate) AS Month,\r\n",
                "    COUNT(DISTINCT o.OrderID) AS OrderCount,\r\n",
                "    SUM(l.SaleAmount) AS Amount,\r\n",
                "    SUM(l.SaleAmount) / COUNT(DISTINCT o.OrderID) AS AvgOrderValue,\r\n",
                "    AVG(SUM(l.SaleAmount)/COUNT(DISTINCT o.OrderID)) OVER(\r\n",
                "        ORDER BY EOMONTH(o.OrderDate) -- Order the records by transaction month, ensuring the average is calculated chronologically\r\n",
                "        ROWS BETWEEN 2 PRECEDING and CURRENT ROW -- specifies the range of rows to include in the average as 2 preceeding and current row\r\n",
                "    ) AS MovingThreeMoAvgAOV\r\n",
                "FROM\r\n",
                "    SalesOrderLines AS l\r\n",
                "    JOIN SalesOrders AS o\r\n",
                "    ON l.OrderID = o.OrderID\r\n",
                "\r\n",
                "GROUP BY EOMONTH(o.OrderDate)\r\n",
                "ORDER BY EOMONTH(o.OrderDate)"
            ],
            "metadata": {
                "language": "sql",
                "azdata_cell_guid": "04ad9327-f6bb-48c9-a4a4-71d459870d91",
                "tags": []
            },
            "outputs": [
                {
                    "output_type": "display_data",
                    "data": {
                        "text/html": "(35 rows affected)"
                    },
                    "metadata": {}
                },
                {
                    "output_type": "display_data",
                    "data": {
                        "text/html": "Total execution time: 00:00:00.510"
                    },
                    "metadata": {}
                },
                {
                    "output_type": "execute_result",
                    "execution_count": 13,
                    "data": {
                        "application/vnd.dataresource+json": {
                            "schema": {
                                "fields": [
                                    {
                                        "name": "Month"
                                    },
                                    {
                                        "name": "OrderCount"
                                    },
                                    {
                                        "name": "Amount"
                                    },
                                    {
                                        "name": "AvgOrderValue"
                                    },
                                    {
                                        "name": "MovingThreeMoAvgAOV"
                                    }
                                ]
                            },
                            "data": [
                                {
                                    "Month": "2019-02-28",
                                    "OrderCount": "749",
                                    "Amount": "14964.79",
                                    "AvgOrderValue": "19.979692",
                                    "MovingThreeMoAvgAOV": "19.979692"
                                },
                                {
                                    "Month": "2019-03-31",
                                    "OrderCount": "1003",
                                    "Amount": "20949.45",
                                    "AvgOrderValue": "20.886789",
                                    "MovingThreeMoAvgAOV": "20.433240"
                                },
                                {
                                    "Month": "2019-04-30",
                                    "OrderCount": "899",
                                    "Amount": "17287.15",
                                    "AvgOrderValue": "19.229310",
                                    "MovingThreeMoAvgAOV": "20.031930"
                                },
                                {
                                    "Month": "2019-05-31",
                                    "OrderCount": "1184",
                                    "Amount": "24424.98",
                                    "AvgOrderValue": "20.629206",
                                    "MovingThreeMoAvgAOV": "20.248435"
                                },
                                {
                                    "Month": "2019-06-30",
                                    "OrderCount": "1137",
                                    "Amount": "27454.37",
                                    "AvgOrderValue": "24.146323",
                                    "MovingThreeMoAvgAOV": "21.334946"
                                },
                                {
                                    "Month": "2019-07-31",
                                    "OrderCount": "1120",
                                    "Amount": "27423.94",
                                    "AvgOrderValue": "24.485660",
                                    "MovingThreeMoAvgAOV": "23.087063"
                                },
                                {
                                    "Month": "2019-08-31",
                                    "OrderCount": "1095",
                                    "Amount": "26306.96",
                                    "AvgOrderValue": "24.024621",
                                    "MovingThreeMoAvgAOV": "24.218868"
                                },
                                {
                                    "Month": "2019-09-30",
                                    "OrderCount": "1109",
                                    "Amount": "28842.81",
                                    "AvgOrderValue": "26.007944",
                                    "MovingThreeMoAvgAOV": "24.839408"
                                },
                                {
                                    "Month": "2019-10-31",
                                    "OrderCount": "1135",
                                    "Amount": "29368.16",
                                    "AvgOrderValue": "25.875030",
                                    "MovingThreeMoAvgAOV": "25.302531"
                                },
                                {
                                    "Month": "2019-11-30",
                                    "OrderCount": "1153",
                                    "Amount": "29010.85",
                                    "AvgOrderValue": "25.161188",
                                    "MovingThreeMoAvgAOV": "25.681387"
                                },
                                {
                                    "Month": "2019-12-31",
                                    "OrderCount": "1192",
                                    "Amount": "31315.30",
                                    "AvgOrderValue": "26.271224",
                                    "MovingThreeMoAvgAOV": "25.769147"
                                },
                                {
                                    "Month": "2020-01-31",
                                    "OrderCount": "1452",
                                    "Amount": "37956.78",
                                    "AvgOrderValue": "26.141033",
                                    "MovingThreeMoAvgAOV": "25.857815"
                                },
                                {
                                    "Month": "2020-02-29",
                                    "OrderCount": "1303",
                                    "Amount": "33820.10",
                                    "AvgOrderValue": "25.955564",
                                    "MovingThreeMoAvgAOV": "26.122607"
                                },
                                {
                                    "Month": "2020-03-31",
                                    "OrderCount": "1445",
                                    "Amount": "44724.33",
                                    "AvgOrderValue": "30.951093",
                                    "MovingThreeMoAvgAOV": "27.682563"
                                },
                                {
                                    "Month": "2020-04-30",
                                    "OrderCount": "890",
                                    "Amount": "31871.41",
                                    "AvgOrderValue": "35.810573",
                                    "MovingThreeMoAvgAOV": "30.905743"
                                },
                                {
                                    "Month": "2020-05-31",
                                    "OrderCount": "924",
                                    "Amount": "35155.72",
                                    "AvgOrderValue": "38.047316",
                                    "MovingThreeMoAvgAOV": "34.936327"
                                },
                                {
                                    "Month": "2020-06-30",
                                    "OrderCount": "984",
                                    "Amount": "35149.96",
                                    "AvgOrderValue": "35.721504",
                                    "MovingThreeMoAvgAOV": "36.526464"
                                },
                                {
                                    "Month": "2020-07-31",
                                    "OrderCount": "1143",
                                    "Amount": "41633.89",
                                    "AvgOrderValue": "36.425100",
                                    "MovingThreeMoAvgAOV": "36.731306"
                                },
                                {
                                    "Month": "2020-08-31",
                                    "OrderCount": "1325",
                                    "Amount": "47599.20",
                                    "AvgOrderValue": "35.923924",
                                    "MovingThreeMoAvgAOV": "36.023509"
                                },
                                {
                                    "Month": "2020-09-30",
                                    "OrderCount": "1233",
                                    "Amount": "43994.26",
                                    "AvgOrderValue": "35.680665",
                                    "MovingThreeMoAvgAOV": "36.009896"
                                },
                                {
                                    "Month": "2020-10-31",
                                    "OrderCount": "1292",
                                    "Amount": "46408.37",
                                    "AvgOrderValue": "35.919791",
                                    "MovingThreeMoAvgAOV": "35.841460"
                                },
                                {
                                    "Month": "2020-11-30",
                                    "OrderCount": "1239",
                                    "Amount": "42768.71",
                                    "AvgOrderValue": "34.518732",
                                    "MovingThreeMoAvgAOV": "35.373062"
                                },
                                {
                                    "Month": "2020-12-31",
                                    "OrderCount": "1418",
                                    "Amount": "53039.45",
                                    "AvgOrderValue": "37.404407",
                                    "MovingThreeMoAvgAOV": "35.947643"
                                },
                                {
                                    "Month": "2021-01-31",
                                    "OrderCount": "1561",
                                    "Amount": "55312.48",
                                    "AvgOrderValue": "35.434003",
                                    "MovingThreeMoAvgAOV": "35.785714"
                                },
                                {
                                    "Month": "2021-02-28",
                                    "OrderCount": "1461",
                                    "Amount": "54057.65",
                                    "AvgOrderValue": "37.000444",
                                    "MovingThreeMoAvgAOV": "36.612951"
                                },
                                {
                                    "Month": "2021-03-31",
                                    "OrderCount": "1493",
                                    "Amount": "51043.98",
                                    "AvgOrderValue": "34.188868",
                                    "MovingThreeMoAvgAOV": "35.541105"
                                },
                                {
                                    "Month": "2021-04-30",
                                    "OrderCount": "1396",
                                    "Amount": "52109.81",
                                    "AvgOrderValue": "37.327944",
                                    "MovingThreeMoAvgAOV": "36.172418"
                                },
                                {
                                    "Month": "2021-05-31",
                                    "OrderCount": "1354",
                                    "Amount": "49186.36",
                                    "AvgOrderValue": "36.326706",
                                    "MovingThreeMoAvgAOV": "35.947839"
                                },
                                {
                                    "Month": "2021-06-30",
                                    "OrderCount": "1228",
                                    "Amount": "44196.52",
                                    "AvgOrderValue": "35.990651",
                                    "MovingThreeMoAvgAOV": "36.548433"
                                },
                                {
                                    "Month": "2021-07-31",
                                    "OrderCount": "1212",
                                    "Amount": "40539.18",
                                    "AvgOrderValue": "33.448168",
                                    "MovingThreeMoAvgAOV": "35.255175"
                                },
                                {
                                    "Month": "2021-08-31",
                                    "OrderCount": "1153",
                                    "Amount": "40792.58",
                                    "AvgOrderValue": "35.379514",
                                    "MovingThreeMoAvgAOV": "34.939444"
                                },
                                {
                                    "Month": "2021-09-30",
                                    "OrderCount": "952",
                                    "Amount": "33339.35",
                                    "AvgOrderValue": "35.020325",
                                    "MovingThreeMoAvgAOV": "34.616002"
                                },
                                {
                                    "Month": "2021-10-31",
                                    "OrderCount": "1153",
                                    "Amount": "40067.79",
                                    "AvgOrderValue": "34.750901",
                                    "MovingThreeMoAvgAOV": "35.050246"
                                },
                                {
                                    "Month": "2021-11-30",
                                    "OrderCount": "1030",
                                    "Amount": "37493.90",
                                    "AvgOrderValue": "36.401844",
                                    "MovingThreeMoAvgAOV": "35.391023"
                                },
                                {
                                    "Month": "2021-12-31",
                                    "OrderCount": "1033",
                                    "Amount": "39188.84",
                                    "AvgOrderValue": "37.936921",
                                    "MovingThreeMoAvgAOV": "36.363222"
                                }
                            ]
                        },
                        "text/html": "<table><tr><th>Month</th><th>OrderCount</th><th>Amount</th><th>AvgOrderValue</th><th>MovingThreeMoAvgAOV</th></tr><tr><td>2019-02-28</td><td>749</td><td>14964.79</td><td>19.979692</td><td>19.979692</td></tr><tr><td>2019-03-31</td><td>1003</td><td>20949.45</td><td>20.886789</td><td>20.433240</td></tr><tr><td>2019-04-30</td><td>899</td><td>17287.15</td><td>19.229310</td><td>20.031930</td></tr><tr><td>2019-05-31</td><td>1184</td><td>24424.98</td><td>20.629206</td><td>20.248435</td></tr><tr><td>2019-06-30</td><td>1137</td><td>27454.37</td><td>24.146323</td><td>21.334946</td></tr><tr><td>2019-07-31</td><td>1120</td><td>27423.94</td><td>24.485660</td><td>23.087063</td></tr><tr><td>2019-08-31</td><td>1095</td><td>26306.96</td><td>24.024621</td><td>24.218868</td></tr><tr><td>2019-09-30</td><td>1109</td><td>28842.81</td><td>26.007944</td><td>24.839408</td></tr><tr><td>2019-10-31</td><td>1135</td><td>29368.16</td><td>25.875030</td><td>25.302531</td></tr><tr><td>2019-11-30</td><td>1153</td><td>29010.85</td><td>25.161188</td><td>25.681387</td></tr><tr><td>2019-12-31</td><td>1192</td><td>31315.30</td><td>26.271224</td><td>25.769147</td></tr><tr><td>2020-01-31</td><td>1452</td><td>37956.78</td><td>26.141033</td><td>25.857815</td></tr><tr><td>2020-02-29</td><td>1303</td><td>33820.10</td><td>25.955564</td><td>26.122607</td></tr><tr><td>2020-03-31</td><td>1445</td><td>44724.33</td><td>30.951093</td><td>27.682563</td></tr><tr><td>2020-04-30</td><td>890</td><td>31871.41</td><td>35.810573</td><td>30.905743</td></tr><tr><td>2020-05-31</td><td>924</td><td>35155.72</td><td>38.047316</td><td>34.936327</td></tr><tr><td>2020-06-30</td><td>984</td><td>35149.96</td><td>35.721504</td><td>36.526464</td></tr><tr><td>2020-07-31</td><td>1143</td><td>41633.89</td><td>36.425100</td><td>36.731306</td></tr><tr><td>2020-08-31</td><td>1325</td><td>47599.20</td><td>35.923924</td><td>36.023509</td></tr><tr><td>2020-09-30</td><td>1233</td><td>43994.26</td><td>35.680665</td><td>36.009896</td></tr><tr><td>2020-10-31</td><td>1292</td><td>46408.37</td><td>35.919791</td><td>35.841460</td></tr><tr><td>2020-11-30</td><td>1239</td><td>42768.71</td><td>34.518732</td><td>35.373062</td></tr><tr><td>2020-12-31</td><td>1418</td><td>53039.45</td><td>37.404407</td><td>35.947643</td></tr><tr><td>2021-01-31</td><td>1561</td><td>55312.48</td><td>35.434003</td><td>35.785714</td></tr><tr><td>2021-02-28</td><td>1461</td><td>54057.65</td><td>37.000444</td><td>36.612951</td></tr><tr><td>2021-03-31</td><td>1493</td><td>51043.98</td><td>34.188868</td><td>35.541105</td></tr><tr><td>2021-04-30</td><td>1396</td><td>52109.81</td><td>37.327944</td><td>36.172418</td></tr><tr><td>2021-05-31</td><td>1354</td><td>49186.36</td><td>36.326706</td><td>35.947839</td></tr><tr><td>2021-06-30</td><td>1228</td><td>44196.52</td><td>35.990651</td><td>36.548433</td></tr><tr><td>2021-07-31</td><td>1212</td><td>40539.18</td><td>33.448168</td><td>35.255175</td></tr><tr><td>2021-08-31</td><td>1153</td><td>40792.58</td><td>35.379514</td><td>34.939444</td></tr><tr><td>2021-09-30</td><td>952</td><td>33339.35</td><td>35.020325</td><td>34.616002</td></tr><tr><td>2021-10-31</td><td>1153</td><td>40067.79</td><td>34.750901</td><td>35.050246</td></tr><tr><td>2021-11-30</td><td>1030</td><td>37493.90</td><td>36.401844</td><td>35.391023</td></tr><tr><td>2021-12-31</td><td>1033</td><td>39188.84</td><td>37.936921</td><td>36.363222</td></tr></table>"
                    },
                    "metadata": {}
                }
            ],
            "execution_count": 13
        },
        {
            "cell_type": "markdown",
            "source": [
                "#### Retail AOV and Three Month Moving Average\r\n",
                ""
            ],
            "metadata": {
                "language": "sql",
                "azdata_cell_guid": "f2be39d5-0eb5-44c3-b911-8f2b651f801f"
            },
            "attachments": {}
        },
        {
            "cell_type": "code",
            "source": [
                "SELECT \r\n",
                "    EOMONTH(o.OrderDate) AS Month,\r\n",
                "    COUNT(DISTINCT o.OrderID) AS OrderCount,\r\n",
                "    SUM(l.SaleAmount) AS Amount,\r\n",
                "    SUM(l.SaleAmount) / COUNT(DISTINCT o.OrderID) AS AvgOrderValue,\r\n",
                "    AVG(SUM(l.SaleAmount)/COUNT(DISTINCT o.OrderID)) OVER(\r\n",
                "        ORDER BY EOMONTH(o.OrderDate) -- Order the records by transaction month, ensuring the average is calculated chronologically\r\n",
                "        ROWS BETWEEN 2 PRECEDING and CURRENT ROW -- specifies the range of rows to include in the average as 2 preceeding and current row\r\n",
                "    ) AS MovingThreeMoAvgAOV\r\n",
                "FROM\r\n",
                "    SalesOrderLines AS l\r\n",
                "    JOIN SalesOrders AS o\r\n",
                "    ON l.OrderID = o.OrderID\r\n",
                "    JOIN dimCustomers AS c\r\n",
                "    ON o.CustomerID = c.CustomerID\r\n",
                "\r\n",
                "WHERE c.CustomerType = 'Retail'\r\n",
                "\r\n",
                "GROUP BY EOMONTH(o.OrderDate)\r\n",
                "ORDER BY EOMONTH(o.OrderDate)"
            ],
            "metadata": {
                "language": "sql",
                "azdata_cell_guid": "b495db83-fedd-4d77-9aa0-2112b431dca8",
                "tags": []
            },
            "outputs": [
                {
                    "output_type": "display_data",
                    "data": {
                        "text/html": "(35 rows affected)"
                    },
                    "metadata": {}
                },
                {
                    "output_type": "display_data",
                    "data": {
                        "text/html": "Total execution time: 00:00:00.194"
                    },
                    "metadata": {}
                },
                {
                    "output_type": "execute_result",
                    "execution_count": 14,
                    "data": {
                        "application/vnd.dataresource+json": {
                            "schema": {
                                "fields": [
                                    {
                                        "name": "Month"
                                    },
                                    {
                                        "name": "OrderCount"
                                    },
                                    {
                                        "name": "Amount"
                                    },
                                    {
                                        "name": "AvgOrderValue"
                                    },
                                    {
                                        "name": "MovingThreeMoAvgAOV"
                                    }
                                ]
                            },
                            "data": [
                                {
                                    "Month": "2019-02-28",
                                    "OrderCount": "406",
                                    "Amount": "9232.37",
                                    "AvgOrderValue": "22.739827",
                                    "MovingThreeMoAvgAOV": "22.739827"
                                },
                                {
                                    "Month": "2019-03-31",
                                    "OrderCount": "542",
                                    "Amount": "13060.98",
                                    "AvgOrderValue": "24.097749",
                                    "MovingThreeMoAvgAOV": "23.418788"
                                },
                                {
                                    "Month": "2019-04-30",
                                    "OrderCount": "511",
                                    "Amount": "10849.29",
                                    "AvgOrderValue": "21.231487",
                                    "MovingThreeMoAvgAOV": "22.689687"
                                },
                                {
                                    "Month": "2019-05-31",
                                    "OrderCount": "515",
                                    "Amount": "11837.94",
                                    "AvgOrderValue": "22.986291",
                                    "MovingThreeMoAvgAOV": "22.771842"
                                },
                                {
                                    "Month": "2019-06-30",
                                    "OrderCount": "565",
                                    "Amount": "15962.52",
                                    "AvgOrderValue": "28.252247",
                                    "MovingThreeMoAvgAOV": "24.156675"
                                },
                                {
                                    "Month": "2019-07-31",
                                    "OrderCount": "593",
                                    "Amount": "16786.51",
                                    "AvgOrderValue": "28.307774",
                                    "MovingThreeMoAvgAOV": "26.515437"
                                },
                                {
                                    "Month": "2019-08-31",
                                    "OrderCount": "541",
                                    "Amount": "14323.54",
                                    "AvgOrderValue": "26.476044",
                                    "MovingThreeMoAvgAOV": "27.678688"
                                },
                                {
                                    "Month": "2019-09-30",
                                    "OrderCount": "458",
                                    "Amount": "14763.49",
                                    "AvgOrderValue": "32.234694",
                                    "MovingThreeMoAvgAOV": "29.006170"
                                },
                                {
                                    "Month": "2019-10-31",
                                    "OrderCount": "430",
                                    "Amount": "13419.56",
                                    "AvgOrderValue": "31.208279",
                                    "MovingThreeMoAvgAOV": "29.973005"
                                },
                                {
                                    "Month": "2019-11-30",
                                    "OrderCount": "447",
                                    "Amount": "13441.17",
                                    "AvgOrderValue": "30.069731",
                                    "MovingThreeMoAvgAOV": "31.170901"
                                },
                                {
                                    "Month": "2019-12-31",
                                    "OrderCount": "415",
                                    "Amount": "13034.43",
                                    "AvgOrderValue": "31.408265",
                                    "MovingThreeMoAvgAOV": "30.895425"
                                },
                                {
                                    "Month": "2020-01-31",
                                    "OrderCount": "508",
                                    "Amount": "15553.87",
                                    "AvgOrderValue": "30.617854",
                                    "MovingThreeMoAvgAOV": "30.698616"
                                },
                                {
                                    "Month": "2020-02-29",
                                    "OrderCount": "419",
                                    "Amount": "12713.85",
                                    "AvgOrderValue": "30.343317",
                                    "MovingThreeMoAvgAOV": "30.789812"
                                },
                                {
                                    "Month": "2020-03-31",
                                    "OrderCount": "370",
                                    "Amount": "14405.97",
                                    "AvgOrderValue": "38.935054",
                                    "MovingThreeMoAvgAOV": "33.298741"
                                },
                                {
                                    "Month": "2020-04-30",
                                    "OrderCount": "207",
                                    "Amount": "8103.04",
                                    "AvgOrderValue": "39.145120",
                                    "MovingThreeMoAvgAOV": "36.141163"
                                },
                                {
                                    "Month": "2020-05-31",
                                    "OrderCount": "321",
                                    "Amount": "14527.08",
                                    "AvgOrderValue": "45.255700",
                                    "MovingThreeMoAvgAOV": "41.111958"
                                },
                                {
                                    "Month": "2020-06-30",
                                    "OrderCount": "350",
                                    "Amount": "14496.37",
                                    "AvgOrderValue": "41.418200",
                                    "MovingThreeMoAvgAOV": "41.939673"
                                },
                                {
                                    "Month": "2020-07-31",
                                    "OrderCount": "551",
                                    "Amount": "23184.94",
                                    "AvgOrderValue": "42.077931",
                                    "MovingThreeMoAvgAOV": "42.917277"
                                },
                                {
                                    "Month": "2020-08-31",
                                    "OrderCount": "850",
                                    "Amount": "35358.41",
                                    "AvgOrderValue": "41.598129",
                                    "MovingThreeMoAvgAOV": "41.698086"
                                },
                                {
                                    "Month": "2020-09-30",
                                    "OrderCount": "856",
                                    "Amount": "35343.05",
                                    "AvgOrderValue": "41.288609",
                                    "MovingThreeMoAvgAOV": "41.654889"
                                },
                                {
                                    "Month": "2020-10-31",
                                    "OrderCount": "965",
                                    "Amount": "39344.61",
                                    "AvgOrderValue": "40.771616",
                                    "MovingThreeMoAvgAOV": "41.219451"
                                },
                                {
                                    "Month": "2020-11-30",
                                    "OrderCount": "951",
                                    "Amount": "37329.67",
                                    "AvgOrderValue": "39.253070",
                                    "MovingThreeMoAvgAOV": "40.437765"
                                },
                                {
                                    "Month": "2020-12-31",
                                    "OrderCount": "1071",
                                    "Amount": "45511.47",
                                    "AvgOrderValue": "42.494369",
                                    "MovingThreeMoAvgAOV": "40.839685"
                                },
                                {
                                    "Month": "2021-01-31",
                                    "OrderCount": "1202",
                                    "Amount": "48090.19",
                                    "AvgOrderValue": "40.008477",
                                    "MovingThreeMoAvgAOV": "40.585305"
                                },
                                {
                                    "Month": "2021-02-28",
                                    "OrderCount": "1151",
                                    "Amount": "47960.84",
                                    "AvgOrderValue": "41.668844",
                                    "MovingThreeMoAvgAOV": "41.390563"
                                },
                                {
                                    "Month": "2021-03-31",
                                    "OrderCount": "1135",
                                    "Amount": "45096.19",
                                    "AvgOrderValue": "39.732325",
                                    "MovingThreeMoAvgAOV": "40.469882"
                                },
                                {
                                    "Month": "2021-04-30",
                                    "OrderCount": "1073",
                                    "Amount": "46185.88",
                                    "AvgOrderValue": "43.043690",
                                    "MovingThreeMoAvgAOV": "41.481619"
                                },
                                {
                                    "Month": "2021-05-31",
                                    "OrderCount": "1001",
                                    "Amount": "42407.97",
                                    "AvgOrderValue": "42.365604",
                                    "MovingThreeMoAvgAOV": "41.713873"
                                },
                                {
                                    "Month": "2021-06-30",
                                    "OrderCount": "951",
                                    "Amount": "38801.53",
                                    "AvgOrderValue": "40.800767",
                                    "MovingThreeMoAvgAOV": "42.070020"
                                },
                                {
                                    "Month": "2021-07-31",
                                    "OrderCount": "831",
                                    "Amount": "29858.93",
                                    "AvgOrderValue": "35.931323",
                                    "MovingThreeMoAvgAOV": "39.699231"
                                },
                                {
                                    "Month": "2021-08-31",
                                    "OrderCount": "669",
                                    "Amount": "26377.36",
                                    "AvgOrderValue": "39.428041",
                                    "MovingThreeMoAvgAOV": "38.720043"
                                },
                                {
                                    "Month": "2021-09-30",
                                    "OrderCount": "494",
                                    "Amount": "19447.79",
                                    "AvgOrderValue": "39.367995",
                                    "MovingThreeMoAvgAOV": "38.242453"
                                },
                                {
                                    "Month": "2021-10-31",
                                    "OrderCount": "538",
                                    "Amount": "22182.88",
                                    "AvgOrderValue": "41.232118",
                                    "MovingThreeMoAvgAOV": "40.009384"
                                },
                                {
                                    "Month": "2021-11-30",
                                    "OrderCount": "477",
                                    "Amount": "20058.84",
                                    "AvgOrderValue": "42.052075",
                                    "MovingThreeMoAvgAOV": "40.884062"
                                },
                                {
                                    "Month": "2021-12-31",
                                    "OrderCount": "443",
                                    "Amount": "19916.50",
                                    "AvgOrderValue": "44.958239",
                                    "MovingThreeMoAvgAOV": "42.747477"
                                }
                            ]
                        },
                        "text/html": "<table><tr><th>Month</th><th>OrderCount</th><th>Amount</th><th>AvgOrderValue</th><th>MovingThreeMoAvgAOV</th></tr><tr><td>2019-02-28</td><td>406</td><td>9232.37</td><td>22.739827</td><td>22.739827</td></tr><tr><td>2019-03-31</td><td>542</td><td>13060.98</td><td>24.097749</td><td>23.418788</td></tr><tr><td>2019-04-30</td><td>511</td><td>10849.29</td><td>21.231487</td><td>22.689687</td></tr><tr><td>2019-05-31</td><td>515</td><td>11837.94</td><td>22.986291</td><td>22.771842</td></tr><tr><td>2019-06-30</td><td>565</td><td>15962.52</td><td>28.252247</td><td>24.156675</td></tr><tr><td>2019-07-31</td><td>593</td><td>16786.51</td><td>28.307774</td><td>26.515437</td></tr><tr><td>2019-08-31</td><td>541</td><td>14323.54</td><td>26.476044</td><td>27.678688</td></tr><tr><td>2019-09-30</td><td>458</td><td>14763.49</td><td>32.234694</td><td>29.006170</td></tr><tr><td>2019-10-31</td><td>430</td><td>13419.56</td><td>31.208279</td><td>29.973005</td></tr><tr><td>2019-11-30</td><td>447</td><td>13441.17</td><td>30.069731</td><td>31.170901</td></tr><tr><td>2019-12-31</td><td>415</td><td>13034.43</td><td>31.408265</td><td>30.895425</td></tr><tr><td>2020-01-31</td><td>508</td><td>15553.87</td><td>30.617854</td><td>30.698616</td></tr><tr><td>2020-02-29</td><td>419</td><td>12713.85</td><td>30.343317</td><td>30.789812</td></tr><tr><td>2020-03-31</td><td>370</td><td>14405.97</td><td>38.935054</td><td>33.298741</td></tr><tr><td>2020-04-30</td><td>207</td><td>8103.04</td><td>39.145120</td><td>36.141163</td></tr><tr><td>2020-05-31</td><td>321</td><td>14527.08</td><td>45.255700</td><td>41.111958</td></tr><tr><td>2020-06-30</td><td>350</td><td>14496.37</td><td>41.418200</td><td>41.939673</td></tr><tr><td>2020-07-31</td><td>551</td><td>23184.94</td><td>42.077931</td><td>42.917277</td></tr><tr><td>2020-08-31</td><td>850</td><td>35358.41</td><td>41.598129</td><td>41.698086</td></tr><tr><td>2020-09-30</td><td>856</td><td>35343.05</td><td>41.288609</td><td>41.654889</td></tr><tr><td>2020-10-31</td><td>965</td><td>39344.61</td><td>40.771616</td><td>41.219451</td></tr><tr><td>2020-11-30</td><td>951</td><td>37329.67</td><td>39.253070</td><td>40.437765</td></tr><tr><td>2020-12-31</td><td>1071</td><td>45511.47</td><td>42.494369</td><td>40.839685</td></tr><tr><td>2021-01-31</td><td>1202</td><td>48090.19</td><td>40.008477</td><td>40.585305</td></tr><tr><td>2021-02-28</td><td>1151</td><td>47960.84</td><td>41.668844</td><td>41.390563</td></tr><tr><td>2021-03-31</td><td>1135</td><td>45096.19</td><td>39.732325</td><td>40.469882</td></tr><tr><td>2021-04-30</td><td>1073</td><td>46185.88</td><td>43.043690</td><td>41.481619</td></tr><tr><td>2021-05-31</td><td>1001</td><td>42407.97</td><td>42.365604</td><td>41.713873</td></tr><tr><td>2021-06-30</td><td>951</td><td>38801.53</td><td>40.800767</td><td>42.070020</td></tr><tr><td>2021-07-31</td><td>831</td><td>29858.93</td><td>35.931323</td><td>39.699231</td></tr><tr><td>2021-08-31</td><td>669</td><td>26377.36</td><td>39.428041</td><td>38.720043</td></tr><tr><td>2021-09-30</td><td>494</td><td>19447.79</td><td>39.367995</td><td>38.242453</td></tr><tr><td>2021-10-31</td><td>538</td><td>22182.88</td><td>41.232118</td><td>40.009384</td></tr><tr><td>2021-11-30</td><td>477</td><td>20058.84</td><td>42.052075</td><td>40.884062</td></tr><tr><td>2021-12-31</td><td>443</td><td>19916.50</td><td>44.958239</td><td>42.747477</td></tr></table>"
                    },
                    "metadata": {}
                }
            ],
            "execution_count": 14
        },
        {
            "cell_type": "markdown",
            "source": [
                "## Customer Analysis"
            ],
            "metadata": {
                "language": "sql",
                "azdata_cell_guid": "7bc6d0c4-3455-4192-b1ad-ecd24e05cc63"
            },
            "attachments": {}
        },
        {
            "cell_type": "markdown",
            "source": [
                "#### Compare Retail and Wholesale Sales Statistics\r\n",
                ""
            ],
            "metadata": {
                "language": "sql",
                "azdata_cell_guid": "35264eb2-0be0-42d9-b366-f6f172b06f2e"
            },
            "attachments": {}
        },
        {
            "cell_type": "code",
            "source": [
                "SELECT\r\n",
                "    c.CustomerType,\r\n",
                "    SUM(SaleAmount) AS Sales,\r\n",
                "    SUM(SaleAmount)/\r\n",
                "    (SELECT \r\n",
                "        SUM(SaleAmount)\r\n",
                "        FROM SalesOrderLines) AS PctOfSales, --Use a subquery to calculate total sales and percent of total sales\r\n",
                "    COUNT(DISTINCT o.OrderID) As TransactionCount,\r\n",
                "    SUM(SaleAmount) / COUNT(DISTINCT o.OrderID) AS AvgOrderValue,\r\n",
                "    COUNT(DISTINCT o.CustomerID) AS UniqueCustomers\r\n",
                "\r\n",
                "FROM SalesOrderLines AS l\r\n",
                "    JOIN SalesOrders AS o\r\n",
                "    ON l.OrderID = o.OrderID   \r\n",
                "    JOIN DimCustomers AS c\r\n",
                "    ON o.CustomerID = c.CustomerID\r\n",
                "\r\n",
                "GROUP BY c.CustomerType"
            ],
            "metadata": {
                "language": "sql",
                "azdata_cell_guid": "692ba67c-ebbe-4957-a19a-ab4ea8e98b98"
            },
            "outputs": [
                {
                    "output_type": "display_data",
                    "data": {
                        "text/html": "(2 rows affected)"
                    },
                    "metadata": {}
                },
                {
                    "output_type": "display_data",
                    "data": {
                        "text/html": "Total execution time: 00:00:01.070"
                    },
                    "metadata": {}
                },
                {
                    "output_type": "execute_result",
                    "execution_count": 33,
                    "data": {
                        "application/vnd.dataresource+json": {
                            "schema": {
                                "fields": [
                                    {
                                        "name": "CustomerType"
                                    },
                                    {
                                        "name": "Sales"
                                    },
                                    {
                                        "name": "PctOfSales"
                                    },
                                    {
                                        "name": "TransactionCount"
                                    },
                                    {
                                        "name": "AvgOrderValue"
                                    },
                                    {
                                        "name": "UniqueCustomers"
                                    }
                                ]
                            },
                            "data": [
                                {
                                    "CustomerType": "Wholesale",
                                    "Sales": "57256.92",
                                    "PctOfSales": "0.043747",
                                    "TransactionCount": "230",
                                    "AvgOrderValue": "248.943130",
                                    "UniqueCustomers": "15"
                                },
                                {
                                    "CustomerType": "Retail",
                                    "Sales": "1251542.46",
                                    "PctOfSales": "0.956252",
                                    "TransactionCount": "41220",
                                    "AvgOrderValue": "30.362505",
                                    "UniqueCustomers": "3917"
                                }
                            ]
                        },
                        "text/html": "<table><tr><th>CustomerType</th><th>Sales</th><th>PctOfSales</th><th>TransactionCount</th><th>AvgOrderValue</th><th>UniqueCustomers</th></tr><tr><td>Wholesale</td><td>57256.92</td><td>0.043747</td><td>230</td><td>248.943130</td><td>15</td></tr><tr><td>Retail</td><td>1251542.46</td><td>0.956252</td><td>41220</td><td>30.362505</td><td>3917</td></tr></table>"
                    },
                    "metadata": {}
                }
            ],
            "execution_count": 33
        },
        {
            "cell_type": "markdown",
            "source": [
                "#### Retail Sales: Known Customers vs Anonymous Sales - CASE Statement and CTE to group by CASE Statement\n",
                "\n",
                "Sales Composition (% of Total), AOV, Unique Customers, Order Count"
            ],
            "metadata": {
                "language": "sql",
                "azdata_cell_guid": "4fb7236c-b34d-4a10-ab08-f85845018af6"
            },
            "attachments": {}
        },
        {
            "cell_type": "code",
            "source": [
                "-- Create a CTE of Sales Transactions, adding a Customer Type using a CASE statement\r\n",
                "WITH CustomerSales AS(\r\n",
                "    SELECT\r\n",
                "        o.CustomerID,\r\n",
                "        \r\n",
                "        CASE \r\n",
                "            WHEN o.CustomerID = 'Unknown' THEN 'Anonymous'\r\n",
                "            ELSE 'KnownCustomer'\r\n",
                "            END AS LoyaltyType,\r\n",
                "        \r\n",
                "        l.SaleAmount,\r\n",
                "        o.OrderID AS OrderID\r\n",
                "    \r\n",
                "    FROM SalesOrderLines AS l\r\n",
                "        JOIN SalesOrders AS o\r\n",
                "        ON l.OrderID = o.OrderID   \r\n",
                "        JOIN DimCustomers AS c\r\n",
                "        ON o.CustomerID = c.CustomerID\r\n",
                "\r\n",
                "    WHERE c.CustomerType = 'Retail'\r\n",
                ")\r\n",
                "\r\n",
                "-- Create a query subtotaling by the newly assigned Customer Type\r\n",
                "SELECT\r\n",
                "    LoyaltyType,\r\n",
                "    SUM(SaleAmount) AS Sales,\r\n",
                "    SUM(SaleAmount)/\r\n",
                "    (SELECT \r\n",
                "        SUM(SaleAmount)\r\n",
                "        FROM CustomerSales) AS PctOfSales, --Use a subquery to calculate total sales and percent of total sales\r\n",
                "    COUNT(DISTINCT OrderID) As OrderCount,\r\n",
                "    SUM(SaleAmount) / COUNT(DISTINCT OrderID) AS AvgOrderValue,\r\n",
                "    COUNT(DISTINCT CustomerID) AS UniqueCustomers\r\n",
                "FROM CustomerSales\r\n",
                "GROUP BY LoyaltyType"
            ],
            "metadata": {
                "language": "sql",
                "azdata_cell_guid": "655d19df-82bf-4b64-961f-5ac58a2be5e0"
            },
            "outputs": [
                {
                    "output_type": "display_data",
                    "data": {
                        "text/html": "(2 rows affected)"
                    },
                    "metadata": {}
                },
                {
                    "output_type": "display_data",
                    "data": {
                        "text/html": "Total execution time: 00:00:01.143"
                    },
                    "metadata": {}
                },
                {
                    "output_type": "execute_result",
                    "execution_count": 35,
                    "data": {
                        "application/vnd.dataresource+json": {
                            "schema": {
                                "fields": [
                                    {
                                        "name": "LoyaltyType"
                                    },
                                    {
                                        "name": "Sales"
                                    },
                                    {
                                        "name": "PctOfSales"
                                    },
                                    {
                                        "name": "OrderCount"
                                    },
                                    {
                                        "name": "AvgOrderValue"
                                    },
                                    {
                                        "name": "UniqueCustomers"
                                    }
                                ]
                            },
                            "data": [
                                {
                                    "LoyaltyType": "KnownCustomer",
                                    "Sales": "791712.11",
                                    "PctOfSales": "0.632589",
                                    "OrderCount": "22577",
                                    "AvgOrderValue": "35.067197",
                                    "UniqueCustomers": "3916"
                                },
                                {
                                    "LoyaltyType": "Anonymous",
                                    "Sales": "459830.35",
                                    "PctOfSales": "0.367410",
                                    "OrderCount": "18643",
                                    "AvgOrderValue": "24.665040",
                                    "UniqueCustomers": "1"
                                }
                            ]
                        },
                        "text/html": "<table><tr><th>LoyaltyType</th><th>Sales</th><th>PctOfSales</th><th>OrderCount</th><th>AvgOrderValue</th><th>UniqueCustomers</th></tr><tr><td>KnownCustomer</td><td>791712.11</td><td>0.632589</td><td>22577</td><td>35.067197</td><td>3916</td></tr><tr><td>Anonymous</td><td>459830.35</td><td>0.367410</td><td>18643</td><td>24.665040</td><td>1</td></tr></table>"
                    },
                    "metadata": {}
                }
            ],
            "execution_count": 35
        },
        {
            "cell_type": "markdown",
            "source": [
                "### Customer Lifetime Value  - Historical Calculation based on Known Retail Customers"
            ],
            "metadata": {
                "language": "sql",
                "azdata_cell_guid": "4ae4c793-458e-4736-bace-d2a9707497a0"
            },
            "attachments": {}
        },
        {
            "cell_type": "markdown",
            "source": [
                "#### Average Customer Lifespan - Known Retail Customers"
            ],
            "metadata": {
                "language": "sql",
                "azdata_cell_guid": "5558ec48-936a-4194-baf2-543517df0ffa"
            },
            "attachments": {}
        },
        {
            "cell_type": "code",
            "source": [
                "-- Calculate Customer Lifespan for each known retail customer and group into bins to review distribuiton\r\n",
                "\r\n",
                "WITH Lifespans AS(\r\n",
                "    SELECT \r\n",
                "        c.CustomerID AS CustomerID,\r\n",
                "        YEAR(MIN(o.OrderDate)) AS CohortYear,\r\n",
                "        DATEDIFF(Day,MIN(o.OrderDate),MAX(o.OrderDate))+1 AS CustLifeSpan,\r\n",
                "\r\n",
                "        CASE \r\n",
                "            WHEN DATEDIFF(Day,MIN(o.OrderDate),MAX(o.OrderDate))+1 = 1 THEN '1'\r\n",
                "            WHEN DATEDIFF(Day,MIN(o.OrderDate),MAX(o.OrderDate))+1 BETWEEN 2 AND 100 THEN '2-100'\r\n",
                "            WHEN DATEDIFF(Day,MIN(o.OrderDate),MAX(o.OrderDate))+1 BETWEEN 101 AND 200 THEN '101-200'\r\n",
                "            WHEN DATEDIFF(Day,MIN(o.OrderDate),MAX(o.OrderDate))+1 BETWEEN 201 AND 300 THEN '201-300'\r\n",
                "            WHEN DATEDIFF(Day,MIN(o.OrderDate),MAX(o.OrderDate))+1 BETWEEN 301 AND 400 THEN '301-400'\r\n",
                "            ELSE '401+'\r\n",
                "            END AS LifespanDaysBin\r\n",
                "\r\n",
                "    FROM DimCustomers AS c\r\n",
                "        LEFT JOIN SalesOrders AS o\r\n",
                "        ON c.CustomerID = o.CustomerID\r\n",
                "\r\n",
                "    WHERE c.CustomerType = 'Retail'\r\n",
                "        AND c.CustomerID <> 'Unknown'\r\n",
                "    GROUP BY c.CustomerID\r\n",
                ")\r\n",
                "SELECT\r\n",
                "    LifespanDaysBin,\r\n",
                "    COUNT(DISTINCT CustomerID) AS CustomerCount,\r\n",
                "    CAST(COUNT(DISTINCT CustomerID) AS DECIMAL(8,2)) /(SELECT COUNT(DISTINCT CustomerID) FROM DimCustomers WHERE CustomerType = 'Retail' AND CustomerID <> 'Unknown') AS PctTotal      \r\n",
                "FROM   \r\n",
                "    Lifespans\r\n",
                "GROUP BY ROLLUP(LifespanDaysBin)\r\n",
                "ORDER BY LifespanDaysBin"
            ],
            "metadata": {
                "language": "sql",
                "azdata_cell_guid": "fd383f46-45e7-4503-80e9-3ce4e6c05855",
                "tags": []
            },
            "outputs": [
                {
                    "output_type": "display_data",
                    "data": {
                        "text/html": "(7 rows affected)"
                    },
                    "metadata": {}
                },
                {
                    "output_type": "display_data",
                    "data": {
                        "text/html": "Total execution time: 00:00:00.075"
                    },
                    "metadata": {}
                },
                {
                    "output_type": "execute_result",
                    "metadata": {},
                    "execution_count": 72,
                    "data": {
                        "application/vnd.dataresource+json": {
                            "schema": {
                                "fields": [
                                    {
                                        "name": "LifespanDaysBin"
                                    },
                                    {
                                        "name": "CustomerCount"
                                    },
                                    {
                                        "name": "PctTotal"
                                    }
                                ]
                            },
                            "data": [
                                {
                                    "LifespanDaysBin": "NULL",
                                    "CustomerCount": "3916",
                                    "PctTotal": "1.0000000000000"
                                },
                                {
                                    "LifespanDaysBin": "1",
                                    "CustomerCount": "1761",
                                    "PctTotal": "0.4496935648621"
                                },
                                {
                                    "LifespanDaysBin": "101-200",
                                    "CustomerCount": "369",
                                    "PctTotal": "0.0942288049029"
                                },
                                {
                                    "LifespanDaysBin": "2-100",
                                    "CustomerCount": "502",
                                    "PctTotal": "0.1281920326864"
                                },
                                {
                                    "LifespanDaysBin": "201-300",
                                    "CustomerCount": "291",
                                    "PctTotal": "0.0743105209397"
                                },
                                {
                                    "LifespanDaysBin": "301-400",
                                    "CustomerCount": "274",
                                    "PctTotal": "0.0699693564862"
                                },
                                {
                                    "LifespanDaysBin": "401+",
                                    "CustomerCount": "719",
                                    "PctTotal": "0.1836057201225"
                                }
                            ]
                        },
                        "text/html": [
                            "<table>",
                            "<tr><th>LifespanDaysBin</th><th>CustomerCount</th><th>PctTotal</th></tr>",
                            "<tr><td>NULL</td><td>3916</td><td>1.0000000000000</td></tr>",
                            "<tr><td>1</td><td>1761</td><td>0.4496935648621</td></tr>",
                            "<tr><td>101-200</td><td>369</td><td>0.0942288049029</td></tr>",
                            "<tr><td>2-100</td><td>502</td><td>0.1281920326864</td></tr>",
                            "<tr><td>201-300</td><td>291</td><td>0.0743105209397</td></tr>",
                            "<tr><td>301-400</td><td>274</td><td>0.0699693564862</td></tr>",
                            "<tr><td>401+</td><td>719</td><td>0.1836057201225</td></tr>",
                            "</table>"
                        ]
                    }
                }
            ],
            "execution_count": 72
        },
        {
            "cell_type": "code",
            "source": [
                "---- Calculate Average Customer Lifespan based on year of first purchase and in aggregate for known retail customers\r\n",
                "\r\n",
                "-- Create a CTE to calculate individual known customer lifespans and cohort year (year of first purchase)\r\n",
                "WITH Lifespans AS(\r\n",
                "    SELECT \r\n",
                "        c.CustomerID AS CustomerID,\r\n",
                "        YEAR(MIN(o.OrderDate)) AS CohortYear,\r\n",
                "        DATEDIFF(Day,MIN(o.OrderDate),MAX(o.OrderDate))+1 AS CustLifeSpan\r\n",
                "\r\n",
                "    FROM DimCustomers AS c\r\n",
                "        LEFT JOIN SalesOrders AS o\r\n",
                "        ON c.CustomerID = o.CustomerID\r\n",
                "\r\n",
                "    WHERE c.CustomerType = 'Retail'\r\n",
                "        AND c.CustomerID <> 'Unknown'\r\n",
                "    GROUP BY c.CustomerID\r\n",
                ")\r\n",
                "\r\n",
                "-- Using CTE, calculate Average customer lifespan by cohort year and overall\r\n",
                "SELECT\r\n",
                "    CohortYear,\r\n",
                "    COUNT(DISTINCT CustomerID) AS CustomerCount,\r\n",
                "    AVG(CustLifeSpan) AS AvgCustLifespansDays,\r\n",
                "    CAST(AVG(CustLifeSpan) AS DECIMAL(8,2))/365 AS AvgCustLifespansYearFrac\r\n",
                "\r\n",
                "FROM Lifespans\r\n",
                "GROUP BY ROLLUP (CohortYear)\r\n",
                "ORDER BY CohortYear"
            ],
            "metadata": {
                "language": "sql",
                "azdata_cell_guid": "3939cb72-6a25-444c-8884-4e8350323827"
            },
            "outputs": [
                {
                    "output_type": "display_data",
                    "data": {
                        "text/html": "(4 rows affected)"
                    },
                    "metadata": {}
                },
                {
                    "output_type": "display_data",
                    "data": {
                        "text/html": "Total execution time: 00:00:00.080"
                    },
                    "metadata": {}
                },
                {
                    "output_type": "execute_result",
                    "metadata": {},
                    "execution_count": 73,
                    "data": {
                        "application/vnd.dataresource+json": {
                            "schema": {
                                "fields": [
                                    {
                                        "name": "CohortYear"
                                    },
                                    {
                                        "name": "CustomerCount"
                                    },
                                    {
                                        "name": "AvgCustLifespansDays"
                                    },
                                    {
                                        "name": "AvgCustLifespansYearFrac"
                                    }
                                ]
                            },
                            "data": [
                                {
                                    "CohortYear": "NULL",
                                    "CustomerCount": "3916",
                                    "AvgCustLifespansDays": "190",
                                    "AvgCustLifespansYearFrac": "0.520547"
                                },
                                {
                                    "CohortYear": "2019",
                                    "CustomerCount": "1694",
                                    "AvgCustLifespansDays": "270",
                                    "AvgCustLifespansYearFrac": "0.739726"
                                },
                                {
                                    "CohortYear": "2020",
                                    "CustomerCount": "1194",
                                    "AvgCustLifespansDays": "189",
                                    "AvgCustLifespansYearFrac": "0.517808"
                                },
                                {
                                    "CohortYear": "2021",
                                    "CustomerCount": "1028",
                                    "AvgCustLifespansDays": "60",
                                    "AvgCustLifespansYearFrac": "0.164383"
                                }
                            ]
                        },
                        "text/html": [
                            "<table>",
                            "<tr><th>CohortYear</th><th>CustomerCount</th><th>AvgCustLifespansDays</th><th>AvgCustLifespansYearFrac</th></tr>",
                            "<tr><td>NULL</td><td>3916</td><td>190</td><td>0.520547</td></tr>",
                            "<tr><td>2019</td><td>1694</td><td>270</td><td>0.739726</td></tr>",
                            "<tr><td>2020</td><td>1194</td><td>189</td><td>0.517808</td></tr>",
                            "<tr><td>2021</td><td>1028</td><td>60</td><td>0.164383</td></tr>",
                            "</table>"
                        ]
                    }
                }
            ],
            "execution_count": 73
        },
        {
            "cell_type": "code",
            "source": [
                "-- Average Lifespans of all known retail customers to detemine Avg Customer Lifespan for the period to use in LTV calc\r\n",
                "\r\n",
                "WITH Lifespans AS(\r\n",
                "    SELECT \r\n",
                "        c.CustomerID AS CustomerID,\r\n",
                "        YEAR(MIN(o.OrderDate)) AS CohortYear,\r\n",
                "        DATEDIFF(Day,MIN(o.OrderDate),MAX(o.OrderDate))+1 AS CustLifeSpan\r\n",
                "\r\n",
                "    FROM DimCustomers AS c\r\n",
                "        LEFT JOIN SalesOrders AS o\r\n",
                "        ON c.CustomerID = o.CustomerID\r\n",
                "\r\n",
                "    WHERE c.CustomerType = 'Retail'\r\n",
                "        AND c.CustomerID <> 'Unknown'\r\n",
                "    GROUP BY c.CustomerID\r\n",
                ")\r\n",
                "\r\n",
                "-- Using CTE, calculate Average customer lifespan by cohort year and overall\r\n",
                "SELECT\r\n",
                "    CAST(AVG(CustLifeSpan) AS DECIMAL(8,2))/365 AS AvgCustLifespansYearFrac\r\n",
                "\r\n",
                "FROM Lifespans\r\n",
                ""
            ],
            "metadata": {
                "language": "sql",
                "azdata_cell_guid": "880515bb-84c3-4b75-955e-26333835d08e"
            },
            "outputs": [
                {
                    "output_type": "display_data",
                    "data": {
                        "text/html": "(1 row affected)"
                    },
                    "metadata": {}
                },
                {
                    "output_type": "display_data",
                    "data": {
                        "text/html": "Total execution time: 00:00:00.058"
                    },
                    "metadata": {}
                },
                {
                    "output_type": "execute_result",
                    "metadata": {},
                    "execution_count": 74,
                    "data": {
                        "application/vnd.dataresource+json": {
                            "schema": {
                                "fields": [
                                    {
                                        "name": "AvgCustLifespansYearFrac"
                                    }
                                ]
                            },
                            "data": [
                                {
                                    "AvgCustLifespansYearFrac": "0.520547"
                                }
                            ]
                        },
                        "text/html": [
                            "<table>",
                            "<tr><th>AvgCustLifespansYearFrac</th></tr>",
                            "<tr><td>0.520547</td></tr>",
                            "</table>"
                        ]
                    }
                }
            ],
            "execution_count": 74
        },
        {
            "cell_type": "markdown",
            "source": [
                "#### Customer Value - Known Retail Customers"
            ],
            "metadata": {
                "language": "sql",
                "azdata_cell_guid": "412661f2-b010-4d6b-ac73-1aa5a675fd8a"
            },
            "attachments": {}
        },
        {
            "cell_type": "code",
            "source": [
                "-- Calculate the Average Customer Value each year, based on the number of known retail customers making purchase in that year\r\n",
                "\r\n",
                "SELECT \r\n",
                "    YEAR(o.OrderDate) AS Year,\r\n",
                "    SUM(l.SaleAmount) AS SalesInPeriod,\r\n",
                "    COUNT(DISTINCT o.CustomerID) AS UniqueKnownCustomers,\r\n",
                "    COUNT(DISTINCT o.OrderID) AS TransactionCount,\r\n",
                "    SUM(l.SaleAmount) / COUNT(DISTINCT o.CustomerID) AS CustomerValue\r\n",
                "\r\n",
                "FROM SalesOrderLines AS l\r\n",
                "    JOIN SalesOrders AS o\r\n",
                "    ON l.OrderID = o.OrderID\r\n",
                "    JOIN DimCustomers AS c\r\n",
                "    ON o.CustomerID = c.CustomerID \r\n",
                "\r\n",
                "-- Only include retail customers that have a known customerID\r\n",
                "WHERE o.CustomerID <> 'Unknown'   \r\n",
                "    AND c.CustomerType = 'Retail'\r\n",
                "\r\n",
                "GROUP BY ROLLUP (Year(o.OrderDate))\r\n",
                "\r\n",
                "ORDER BY Year"
            ],
            "metadata": {
                "language": "sql",
                "azdata_cell_guid": "d83f49e6-380a-4baf-b99f-1a70661fa076",
                "tags": []
            },
            "outputs": [
                {
                    "output_type": "display_data",
                    "data": {
                        "text/html": "(4 rows affected)"
                    },
                    "metadata": {}
                },
                {
                    "output_type": "display_data",
                    "data": {
                        "text/html": "Total execution time: 00:00:01"
                    },
                    "metadata": {}
                },
                {
                    "output_type": "execute_result",
                    "metadata": {},
                    "execution_count": 75,
                    "data": {
                        "application/vnd.dataresource+json": {
                            "schema": {
                                "fields": [
                                    {
                                        "name": "Year"
                                    },
                                    {
                                        "name": "SalesInPeriod"
                                    },
                                    {
                                        "name": "UniqueKnownCustomers"
                                    },
                                    {
                                        "name": "TransactionCount"
                                    },
                                    {
                                        "name": "CustomerValue"
                                    }
                                ]
                            },
                            "data": [
                                {
                                    "Year": "NULL",
                                    "SalesInPeriod": "791712.11",
                                    "UniqueKnownCustomers": "3916",
                                    "TransactionCount": "22577",
                                    "CustomerValue": "202.173674"
                                },
                                {
                                    "Year": "2019",
                                    "SalesInPeriod": "124720.68",
                                    "UniqueKnownCustomers": "1694",
                                    "TransactionCount": "5332",
                                    "CustomerValue": "73.624958"
                                },
                                {
                                    "Year": "2020",
                                    "SalesInPeriod": "275301.74",
                                    "UniqueKnownCustomers": "1760",
                                    "TransactionCount": "7344",
                                    "CustomerValue": "156.421443"
                                },
                                {
                                    "Year": "2021",
                                    "SalesInPeriod": "391689.69",
                                    "UniqueKnownCustomers": "2128",
                                    "TransactionCount": "9901",
                                    "CustomerValue": "184.064703"
                                }
                            ]
                        },
                        "text/html": [
                            "<table>",
                            "<tr><th>Year</th><th>SalesInPeriod</th><th>UniqueKnownCustomers</th><th>TransactionCount</th><th>CustomerValue</th></tr>",
                            "<tr><td>NULL</td><td>791712.11</td><td>3916</td><td>22577</td><td>202.173674</td></tr>",
                            "<tr><td>2019</td><td>124720.68</td><td>1694</td><td>5332</td><td>73.624958</td></tr>",
                            "<tr><td>2020</td><td>275301.74</td><td>1760</td><td>7344</td><td>156.421443</td></tr>",
                            "<tr><td>2021</td><td>391689.69</td><td>2128</td><td>9901</td><td>184.064703</td></tr>",
                            "</table>"
                        ]
                    }
                }
            ],
            "execution_count": 75
        },
        {
            "cell_type": "markdown",
            "source": [
                "#### Customer Lifetime Value\r\n",
                "\r\n",
                "Merge Customer Value and Customer Lifetime Queries to calculate Customer Lifetime Value"
            ],
            "metadata": {
                "language": "sql",
                "azdata_cell_guid": "d26c0544-33bf-4b9d-ab7d-e04b9393633c"
            },
            "attachments": {}
        },
        {
            "cell_type": "code",
            "source": [
                "-- Create a CTE to calculate Lifespan\r\n",
                "WITH Lifespans AS(\r\n",
                "    SELECT \r\n",
                "        c.CustomerID AS CustomerID,\r\n",
                "        YEAR(MIN(o.OrderDate)) AS CohortYear,\r\n",
                "        DATEDIFF(Day,MIN(o.OrderDate),MAX(o.OrderDate))+1 AS CustLifeSpan\r\n",
                "\r\n",
                "    FROM \r\n",
                "        DimCustomers AS c\r\n",
                "    \r\n",
                "    LEFT JOIN SalesOrders AS o\r\n",
                "        ON c.CustomerID = o.CustomerID\r\n",
                "    \r\n",
                "    WHERE \r\n",
                "        c.CustomerType = 'Retail' AND c.CustomerID <> 'Unknown'\r\n",
                "\r\n",
                "    GROUP BY c.CustomerID\r\n",
                "),\r\n",
                "\r\n",
                "-- Create a second CTE referencing Lifespan CTE to calculate average lifespan for all known retail customers as a year fraction\r\n",
                "    AvgLifespan AS(\r\n",
                "    SELECT\r\n",
                "        CAST(AVG(CustLifeSpan) AS DECIMAL(8,2))/365 AS AvgCustLifeSpan\r\n",
                "    \r\n",
                "    FROM\r\n",
                "        Lifespans\r\n",
                ")\r\n",
                "\r\n",
                "-- The main query calculates Customer Value ARPU by year\r\n",
                "SELECT \r\n",
                "    YEAR(o.OrderDate) AS Year,\r\n",
                "    SUM(l.SaleAmount) AS SalesInPeriod,\r\n",
                "    COUNT(DISTINCT o.CustomerID) AS UniqueKnownCustomers,\r\n",
                "    COUNT(DISTINCT o.OrderID) AS TransactionCount,\r\n",
                "    SUM(l.SaleAmount) / COUNT(DISTINCT o.CustomerID) AS CustomerValue, \r\n",
                "\r\n",
                "    --- Add in Lifespan calculations from CTE\r\n",
                "    MAX(als.AvgCustLifeSpan) AS AvgCustLifeSpanYearFrac,  -- Lifespan as a year fraction\r\n",
                "\r\n",
                "    -- Calculate CLTV as Customer Value * Lifespan Year Frac\r\n",
                "    (SUM(l.SaleAmount) / COUNT(DISTINCT o.CustomerID)) * MAX(als.AvgCustLifeSpan) AS CLTV\r\n",
                "\r\n",
                "\r\n",
                "FROM SalesOrderLines AS l\r\n",
                "\r\n",
                "JOIN SalesOrders AS o ON l.OrderID = o.OrderID\r\n",
                "JOIN DimCustomers AS c ON o.CustomerID = c.CustomerID \r\n",
                "JOIN Lifespans AS ls ON c.CustomerID = ls.CustomerID, \r\n",
                "AvgLifeSpan AS als\r\n",
                "\r\n",
                "-- Only include retail customers that have a known customerID\r\n",
                "WHERE o.CustomerID <> 'Unknown'   \r\n",
                "    AND c.CustomerType = 'Retail'\r\n",
                "\r\n",
                "GROUP BY ROLLUP (Year(o.OrderDate))\r\n",
                "\r\n",
                "ORDER BY Year"
            ],
            "metadata": {
                "language": "sql",
                "azdata_cell_guid": "f2dba825-96d7-4bca-a82d-07746c751196"
            },
            "outputs": [
                {
                    "output_type": "display_data",
                    "data": {
                        "text/html": "(4 rows affected)"
                    },
                    "metadata": {}
                },
                {
                    "output_type": "display_data",
                    "data": {
                        "text/html": "Total execution time: 00:00:01.115"
                    },
                    "metadata": {}
                },
                {
                    "output_type": "execute_result",
                    "metadata": {},
                    "execution_count": 76,
                    "data": {
                        "application/vnd.dataresource+json": {
                            "schema": {
                                "fields": [
                                    {
                                        "name": "Year"
                                    },
                                    {
                                        "name": "SalesInPeriod"
                                    },
                                    {
                                        "name": "UniqueKnownCustomers"
                                    },
                                    {
                                        "name": "TransactionCount"
                                    },
                                    {
                                        "name": "CustomerValue"
                                    },
                                    {
                                        "name": "AvgCustLifeSpanYearFrac"
                                    },
                                    {
                                        "name": "CLTV"
                                    }
                                ]
                            },
                            "data": [
                                {
                                    "Year": "NULL",
                                    "SalesInPeriod": "791712.11",
                                    "UniqueKnownCustomers": "3916",
                                    "TransactionCount": "22577",
                                    "CustomerValue": "202.173674",
                                    "AvgCustLifeSpanYearFrac": "0.520547",
                                    "CLTV": "105.240899"
                                },
                                {
                                    "Year": "2019",
                                    "SalesInPeriod": "124720.68",
                                    "UniqueKnownCustomers": "1694",
                                    "TransactionCount": "5332",
                                    "CustomerValue": "73.624958",
                                    "AvgCustLifeSpanYearFrac": "0.520547",
                                    "CLTV": "38.325251"
                                },
                                {
                                    "Year": "2020",
                                    "SalesInPeriod": "275301.74",
                                    "UniqueKnownCustomers": "1760",
                                    "TransactionCount": "7344",
                                    "CustomerValue": "156.421443",
                                    "AvgCustLifeSpanYearFrac": "0.520547",
                                    "CLTV": "81.424713"
                                },
                                {
                                    "Year": "2021",
                                    "SalesInPeriod": "391689.69",
                                    "UniqueKnownCustomers": "2128",
                                    "TransactionCount": "9901",
                                    "CustomerValue": "184.064703",
                                    "AvgCustLifeSpanYearFrac": "0.520547",
                                    "CLTV": "95.814329"
                                }
                            ]
                        },
                        "text/html": [
                            "<table>",
                            "<tr><th>Year</th><th>SalesInPeriod</th><th>UniqueKnownCustomers</th><th>TransactionCount</th><th>CustomerValue</th><th>AvgCustLifeSpanYearFrac</th><th>CLTV</th></tr>",
                            "<tr><td>NULL</td><td>791712.11</td><td>3916</td><td>22577</td><td>202.173674</td><td>0.520547</td><td>105.240899</td></tr>",
                            "<tr><td>2019</td><td>124720.68</td><td>1694</td><td>5332</td><td>73.624958</td><td>0.520547</td><td>38.325251</td></tr>",
                            "<tr><td>2020</td><td>275301.74</td><td>1760</td><td>7344</td><td>156.421443</td><td>0.520547</td><td>81.424713</td></tr>",
                            "<tr><td>2021</td><td>391689.69</td><td>2128</td><td>9901</td><td>184.064703</td><td>0.520547</td><td>95.814329</td></tr>",
                            "</table>"
                        ]
                    }
                }
            ],
            "execution_count": 76
        },
        {
            "cell_type": "markdown",
            "source": [
                "## Day of Week Sales\n",
                "\n",
                "#### Avg Transaction Count, Daily Sales and AOV by Day of the Week - Retails Sales"
            ],
            "metadata": {
                "language": "sql",
                "azdata_cell_guid": "20f9a6f1-2be0-4ab6-a842-679debc5d113"
            },
            "attachments": {}
        },
        {
            "cell_type": "code",
            "source": [
                "-- Create a CTE of Daily Sales\r\n",
                "WITH Daily AS(\r\n",
                "    SELECT\r\n",
                "        o.OrderDate,\r\n",
                "        DATENAME(WEEKDAY,o.OrderDate) AS DayofWeek,\r\n",
                "        DATEPART(WEEKDAY, o.OrderDate) AS DayNumber,\r\n",
                "        COUNT(DISTINCT o.OrderID) AS DailyTransactions,\r\n",
                "        SUM(l.SaleAmount) AS DailySales,\r\n",
                "        SUM(l.SaleAmount) / COUNT(DISTINCT o.OrderID) AS AvgOrderValue\r\n",
                "    FROM\r\n",
                "        SalesOrderLines AS l\r\n",
                "        JOIN SalesOrders AS o\r\n",
                "        ON l.OrderID = o.OrderID\r\n",
                "        JOIN DimCustomers AS c\r\n",
                "        ON o.CustomerID = c.CustomerID\r\n",
                "\r\n",
                "    WHERE c.CustomerType = 'Retail'\r\n",
                "    \r\n",
                "    GROUP BY o.OrderDate \r\n",
                ")\r\n",
                "\r\n",
                "-- Summarize Sales Data by Day of Week\r\n",
                "SELECT\r\n",
                "    DayofWeek,\r\n",
                "    Sum(DailyTransactions) AS TotalTransactionCount,\r\n",
                "    AVG(DailyTransactions) AS AvgDailyTransactions,\r\n",
                "    Sum(DailySales) AS TotalSales,\r\n",
                "    Avg(DailySales) AS AvgDailySales,\r\n",
                "    SUM(DailySales) / Sum(DailyTransactions) AS AvgOrderValue\r\n",
                "FROM Daily\r\n",
                "GROUP BY DayofWeek, DayNumber\r\n",
                "ORDER BY DayNumber"
            ],
            "metadata": {
                "language": "sql",
                "azdata_cell_guid": "bdd0a8ea-9fce-4ce5-8898-a42b0b8a3dc8",
                "tags": []
            },
            "outputs": [
                {
                    "output_type": "display_data",
                    "data": {
                        "text/html": "(7 rows affected)"
                    },
                    "metadata": {}
                },
                {
                    "output_type": "display_data",
                    "data": {
                        "text/html": "Total execution time: 00:00:00.267"
                    },
                    "metadata": {}
                },
                {
                    "output_type": "execute_result",
                    "execution_count": 37,
                    "data": {
                        "application/vnd.dataresource+json": {
                            "schema": {
                                "fields": [
                                    {
                                        "name": "DayofWeek"
                                    },
                                    {
                                        "name": "TotalTransactionCount"
                                    },
                                    {
                                        "name": "AvgDailyTransactions"
                                    },
                                    {
                                        "name": "TotalSales"
                                    },
                                    {
                                        "name": "AvgDailySales"
                                    },
                                    {
                                        "name": "AvgOrderValue"
                                    }
                                ]
                            },
                            "data": [
                                {
                                    "DayofWeek": "Sunday",
                                    "TotalTransactionCount": "5941",
                                    "AvgDailyTransactions": "40",
                                    "TotalSales": "189939.19",
                                    "AvgDailySales": "1292.103333",
                                    "AvgOrderValue": "31.970912"
                                },
                                {
                                    "DayofWeek": "Monday",
                                    "TotalTransactionCount": "5588",
                                    "AvgDailyTransactions": "38",
                                    "TotalSales": "165201.91",
                                    "AvgDailySales": "1139.323517",
                                    "AvgOrderValue": "29.563691"
                                },
                                {
                                    "DayofWeek": "Tuesday",
                                    "TotalTransactionCount": "5228",
                                    "AvgDailyTransactions": "35",
                                    "TotalSales": "154732.23",
                                    "AvgDailySales": "1038.471342",
                                    "AvgOrderValue": "29.596830"
                                },
                                {
                                    "DayofWeek": "Wednesday",
                                    "TotalTransactionCount": "5020",
                                    "AvgDailyTransactions": "33",
                                    "TotalSales": "145338.16",
                                    "AvgDailySales": "982.014594",
                                    "AvgOrderValue": "28.951824"
                                },
                                {
                                    "DayofWeek": "Thursday",
                                    "TotalTransactionCount": "4655",
                                    "AvgDailyTransactions": "33",
                                    "TotalSales": "134008.38",
                                    "AvgDailySales": "964.089064",
                                    "AvgOrderValue": "28.788051"
                                },
                                {
                                    "DayofWeek": "Friday",
                                    "TotalTransactionCount": "5616",
                                    "AvgDailyTransactions": "38",
                                    "TotalSales": "175745.27",
                                    "AvgDailySales": "1203.734726",
                                    "AvgOrderValue": "31.293673"
                                },
                                {
                                    "DayofWeek": "Saturday",
                                    "TotalTransactionCount": "9172",
                                    "AvgDailyTransactions": "61",
                                    "TotalSales": "286577.32",
                                    "AvgDailySales": "1923.337718",
                                    "AvgOrderValue": "31.244801"
                                }
                            ]
                        },
                        "text/html": "<table><tr><th>DayofWeek</th><th>TotalTransactionCount</th><th>AvgDailyTransactions</th><th>TotalSales</th><th>AvgDailySales</th><th>AvgOrderValue</th></tr><tr><td>Sunday</td><td>5941</td><td>40</td><td>189939.19</td><td>1292.103333</td><td>31.970912</td></tr><tr><td>Monday</td><td>5588</td><td>38</td><td>165201.91</td><td>1139.323517</td><td>29.563691</td></tr><tr><td>Tuesday</td><td>5228</td><td>35</td><td>154732.23</td><td>1038.471342</td><td>29.596830</td></tr><tr><td>Wednesday</td><td>5020</td><td>33</td><td>145338.16</td><td>982.014594</td><td>28.951824</td></tr><tr><td>Thursday</td><td>4655</td><td>33</td><td>134008.38</td><td>964.089064</td><td>28.788051</td></tr><tr><td>Friday</td><td>5616</td><td>38</td><td>175745.27</td><td>1203.734726</td><td>31.293673</td></tr><tr><td>Saturday</td><td>9172</td><td>61</td><td>286577.32</td><td>1923.337718</td><td>31.244801</td></tr></table>"
                    },
                    "metadata": {}
                }
            ],
            "execution_count": 37
        }
    ]
}