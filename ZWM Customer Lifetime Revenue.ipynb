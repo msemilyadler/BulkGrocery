{
    "metadata": {
        "kernelspec": {
            "name": "SQL",
            "display_name": "SQL",
            "language": "sql"
        },
        "language_info": {
            "name": "sql",
            "version": ""
        }
    },
    "nbformat_minor": 2,
    "nbformat": 4,
    "cells": [
        {
            "cell_type": "markdown",
            "source": [
                "# Zero-Waste Market Customer Lifetime Revenue"
            ],
            "metadata": {
                "azdata_cell_guid": "e6e89a7e-ffc7-42f3-8870-a57729c3e6cc"
            },
            "attachments": {}
        },
        {
            "cell_type": "markdown",
            "source": [
                "#### Customer Lifetime Revenue - Retail\r\n",
                "Lifetime Revenue (LTR) for known retail customers (enrolled in loyalty program), excluding one outlier Customer ID associated with a store owner."
            ],
            "metadata": {
                "language": "sql",
                "azdata_cell_guid": "2dd91b70-85cd-4e94-a262-6c33962f3371"
            },
            "attachments": {}
        },
        {
            "cell_type": "code",
            "source": [
                "SELECT \r\n",
                "    COUNT(DISTINCT o.CustomerID) AS UniqueCustomerCount,\r\n",
                "    SUM(SaleAmount) AS CumulativeRevenue,\r\n",
                "    SUM(SaleAmount)/COUNT(DISTINCT o.CustomerID) As CustomerRevenue\r\n",
                "FROM\r\n",
                "    SalesOrderLines AS l\r\n",
                "    INNER JOIN SalesOrders AS o ON l.OrderID = o.OrderID\r\n",
                "    INNER JOIN DimCustomers AS dc ON o.CustomerID = dc.CustomerID\r\n",
                "\r\n",
                "WHERE CohortQuarter IS NOT NULL AND\r\n",
                "    o.CustomerID NOT IN ('56834303','Unknown') AND\r\n",
                "    dc.CustomerType = 'Retail'\r\n",
                ""
            ],
            "metadata": {
                "language": "sql",
                "azdata_cell_guid": "3c2791ca-08d2-4b38-acd2-8ab1b8f9382e",
                "tags": []
            },
            "outputs": [
                {
                    "output_type": "display_data",
                    "data": {
                        "text/html": "(1 row affected)"
                    },
                    "metadata": {}
                },
                {
                    "output_type": "display_data",
                    "data": {
                        "text/html": "Total execution time: 00:00:00.172"
                    },
                    "metadata": {}
                },
                {
                    "output_type": "execute_result",
                    "metadata": {},
                    "execution_count": 2,
                    "data": {
                        "application/vnd.dataresource+json": {
                            "schema": {
                                "fields": [
                                    {
                                        "name": "UniqueCustomerCount"
                                    },
                                    {
                                        "name": "CumulativeRevenue"
                                    },
                                    {
                                        "name": "CustomerRevenue"
                                    }
                                ]
                            },
                            "data": [
                                {
                                    "UniqueCustomerCount": "3915",
                                    "CumulativeRevenue": "780199.32",
                                    "CustomerRevenue": "199.284628"
                                }
                            ]
                        },
                        "text/html": [
                            "<table>",
                            "<tr><th>UniqueCustomerCount</th><th>CumulativeRevenue</th><th>CustomerRevenue</th></tr>",
                            "<tr><td>3915</td><td>780199.32</td><td>199.284628</td></tr>",
                            "</table>"
                        ]
                    }
                }
            ],
            "execution_count": 2
        },
        {
            "cell_type": "markdown",
            "source": [
                "#### Customer Lifetime Revenue by Cohort Quarter\r\n",
                "Lifetime Revenue (LTR) for known retail customers (enrolled in loyalty program), excluding one outlier Customer ID associated with a store owner.\r\n",
                "Grouped by Cohort Quarter"
            ],
            "metadata": {
                "azdata_cell_guid": "af03c17a-6512-46da-a5f3-f610e4cbdfa8"
            },
            "attachments": {}
        },
        {
            "cell_type": "code",
            "source": [
                "SELECT \r\n",
                "    dc.CohortQuarter,\r\n",
                "    COUNT(DISTINCT o.CustomerID) AS CustomersInCohort,\r\n",
                "    SUM(SaleAmount) AS CohortCumulativeRevenue,\r\n",
                "    SUM(SaleAmount)/COUNT(DISTINCT o.CustomerID) As CustomerRevenue\r\n",
                "FROM\r\n",
                "    SalesOrderLines AS l\r\n",
                "    INNER JOIN SalesOrders AS o ON l.OrderID = o.OrderID\r\n",
                "    INNER JOIN DimCustomers AS dc ON o.CustomerID = dc.CustomerID\r\n",
                "\r\n",
                "WHERE CohortQuarter IS NOT NULL AND\r\n",
                "    o.CustomerID NOT IN ('56834303','Unknown') AND\r\n",
                "    dc.CustomerType = 'Retail'\r\n",
                "\r\n",
                "GROUP BY dc.CohortQuarter\r\n",
                "ORDER BY dc.CohortQuarter"
            ],
            "metadata": {
                "azdata_cell_guid": "8df8186d-50bb-4be3-88fd-89e092088337",
                "language": "sql",
                "tags": []
            },
            "outputs": [
                {
                    "output_type": "display_data",
                    "data": {
                        "text/html": "(12 rows affected)"
                    },
                    "metadata": {}
                },
                {
                    "output_type": "display_data",
                    "data": {
                        "text/html": "Total execution time: 00:00:00.216"
                    },
                    "metadata": {}
                },
                {
                    "output_type": "execute_result",
                    "execution_count": 12,
                    "data": {
                        "application/vnd.dataresource+json": {
                            "schema": {
                                "fields": [
                                    {
                                        "name": "CohortQuarter"
                                    },
                                    {
                                        "name": "CustomersInCohort"
                                    },
                                    {
                                        "name": "CohortCumulativeRevenue"
                                    },
                                    {
                                        "name": "CustomerRevenue"
                                    }
                                ]
                            },
                            "data": [
                                {
                                    "CohortQuarter": "2019-Q1",
                                    "CustomersInCohort": "497",
                                    "CohortCumulativeRevenue": "168746.62",
                                    "CustomerRevenue": "339.530422"
                                },
                                {
                                    "CohortQuarter": "2019-Q2",
                                    "CustomersInCohort": "525",
                                    "CohortCumulativeRevenue": "93446.56",
                                    "CustomerRevenue": "177.993447"
                                },
                                {
                                    "CohortQuarter": "2019-Q3",
                                    "CustomersInCohort": "438",
                                    "CohortCumulativeRevenue": "87128.52",
                                    "CustomerRevenue": "198.923561"
                                },
                                {
                                    "CohortQuarter": "2019-Q4",
                                    "CustomersInCohort": "233",
                                    "CohortCumulativeRevenue": "44558.92",
                                    "CustomerRevenue": "191.240000"
                                },
                                {
                                    "CohortQuarter": "2020-Q1",
                                    "CustomersInCohort": "194",
                                    "CohortCumulativeRevenue": "35414.18",
                                    "CustomerRevenue": "182.547319"
                                },
                                {
                                    "CohortQuarter": "2020-Q2",
                                    "CustomersInCohort": "128",
                                    "CohortCumulativeRevenue": "52415.91",
                                    "CustomerRevenue": "409.499296"
                                },
                                {
                                    "CohortQuarter": "2020-Q3",
                                    "CustomersInCohort": "451",
                                    "CohortCumulativeRevenue": "124286.58",
                                    "CustomerRevenue": "275.580000"
                                },
                                {
                                    "CohortQuarter": "2020-Q4",
                                    "CustomersInCohort": "421",
                                    "CohortCumulativeRevenue": "70179.66",
                                    "CustomerRevenue": "166.697529"
                                },
                                {
                                    "CohortQuarter": "2021-Q1",
                                    "CustomersInCohort": "469",
                                    "CohortCumulativeRevenue": "65650.16",
                                    "CustomerRevenue": "139.979019"
                                },
                                {
                                    "CohortQuarter": "2021-Q2",
                                    "CustomersInCohort": "288",
                                    "CohortCumulativeRevenue": "21315.91",
                                    "CustomerRevenue": "74.013576"
                                },
                                {
                                    "CohortQuarter": "2021-Q3",
                                    "CustomersInCohort": "183",
                                    "CohortCumulativeRevenue": "12213.31",
                                    "CustomerRevenue": "66.739398"
                                },
                                {
                                    "CohortQuarter": "2021-Q4",
                                    "CustomersInCohort": "88",
                                    "CohortCumulativeRevenue": "4842.99",
                                    "CustomerRevenue": "55.033977"
                                }
                            ]
                        },
                        "text/html": "<table><tr><th>CohortQuarter</th><th>CustomersInCohort</th><th>CohortCumulativeRevenue</th><th>CustomerRevenue</th></tr><tr><td>2019-Q1</td><td>497</td><td>168746.62</td><td>339.530422</td></tr><tr><td>2019-Q2</td><td>525</td><td>93446.56</td><td>177.993447</td></tr><tr><td>2019-Q3</td><td>438</td><td>87128.52</td><td>198.923561</td></tr><tr><td>2019-Q4</td><td>233</td><td>44558.92</td><td>191.240000</td></tr><tr><td>2020-Q1</td><td>194</td><td>35414.18</td><td>182.547319</td></tr><tr><td>2020-Q2</td><td>128</td><td>52415.91</td><td>409.499296</td></tr><tr><td>2020-Q3</td><td>451</td><td>124286.58</td><td>275.580000</td></tr><tr><td>2020-Q4</td><td>421</td><td>70179.66</td><td>166.697529</td></tr><tr><td>2021-Q1</td><td>469</td><td>65650.16</td><td>139.979019</td></tr><tr><td>2021-Q2</td><td>288</td><td>21315.91</td><td>74.013576</td></tr><tr><td>2021-Q3</td><td>183</td><td>12213.31</td><td>66.739398</td></tr><tr><td>2021-Q4</td><td>88</td><td>4842.99</td><td>55.033977</td></tr></table>"
                    },
                    "metadata": {}
                }
            ],
            "execution_count": 12
        },
        {
            "cell_type": "markdown",
            "source": [
                "#### Customer Lifetime Revenue - Wholesale\n",
                "Lifetime Revenue (LTR) for known wholesale customers (enrolled in loyalty program)"
            ],
            "metadata": {
                "language": "sql",
                "azdata_cell_guid": "982bdad9-d4da-49ff-bcb9-11aac85db6f8"
            },
            "attachments": {}
        },
        {
            "cell_type": "code",
            "source": [
                "SELECT \r\n",
                "    COUNT(DISTINCT o.CustomerID) AS UniqueCustomerCount,\r\n",
                "    SUM(SaleAmount) AS CumulativeRevenue,\r\n",
                "    SUM(SaleAmount)/COUNT(DISTINCT o.CustomerID) As CustomerRevenue\r\n",
                "FROM\r\n",
                "    SalesOrderLines AS l\r\n",
                "    INNER JOIN SalesOrders AS o ON l.OrderID = o.OrderID\r\n",
                "    INNER JOIN DimCustomers AS dc ON o.CustomerID = dc.CustomerID\r\n",
                "\r\n",
                "WHERE CohortQuarter IS NOT NULL AND\r\n",
                "    o.CustomerID NOT IN ('Unknown') AND\r\n",
                "    dc.CustomerType = 'Wholesale'"
            ],
            "metadata": {
                "language": "sql",
                "azdata_cell_guid": "151c6ad0-e61c-4115-a026-9008ba460a4e"
            },
            "outputs": [
                {
                    "output_type": "display_data",
                    "data": {
                        "text/html": "(1 row affected)"
                    },
                    "metadata": {}
                },
                {
                    "output_type": "display_data",
                    "data": {
                        "text/html": "Total execution time: 00:00:00.076"
                    },
                    "metadata": {}
                },
                {
                    "output_type": "execute_result",
                    "metadata": {},
                    "execution_count": 4,
                    "data": {
                        "application/vnd.dataresource+json": {
                            "schema": {
                                "fields": [
                                    {
                                        "name": "UniqueCustomerCount"
                                    },
                                    {
                                        "name": "CumulativeRevenue"
                                    },
                                    {
                                        "name": "CustomerRevenue"
                                    }
                                ]
                            },
                            "data": [
                                {
                                    "UniqueCustomerCount": "15",
                                    "CumulativeRevenue": "57256.92",
                                    "CustomerRevenue": "3817.128000"
                                }
                            ]
                        },
                        "text/html": [
                            "<table>",
                            "<tr><th>UniqueCustomerCount</th><th>CumulativeRevenue</th><th>CustomerRevenue</th></tr>",
                            "<tr><td>15</td><td>57256.92</td><td>3817.128000</td></tr>",
                            "</table>"
                        ]
                    }
                }
            ],
            "execution_count": 4
        },
        {
            "cell_type": "markdown",
            "source": [
                "#### Customer Lifetime Revenue - Wholesale\r\n",
                "Lifetime Revenue (LTR) for known wholesale customers (enrolled in loyalty program), grouped by Cohort Quarter"
            ],
            "metadata": {
                "language": "sql",
                "azdata_cell_guid": "779cc14a-0314-48d8-b9b4-845382a7815f"
            },
            "attachments": {}
        },
        {
            "cell_type": "code",
            "source": [
                "SELECT \r\n",
                "    dc.CohortQuarter,\r\n",
                "    COUNT(DISTINCT o.CustomerID) AS CustomersInCohort,\r\n",
                "    SUM(SaleAmount) AS CohortCumulativeRevenue,\r\n",
                "    SUM(SaleAmount)/COUNT(DISTINCT o.CustomerID) As CustomerRevenue\r\n",
                "FROM\r\n",
                "    SalesOrderLines AS l\r\n",
                "    INNER JOIN SalesOrders AS o ON l.OrderID = o.OrderID\r\n",
                "    INNER JOIN DimCustomers AS dc ON o.CustomerID = dc.CustomerID\r\n",
                "\r\n",
                "WHERE CohortQuarter IS NOT NULL AND\r\n",
                "    o.CustomerID NOT IN ('Unknown') AND\r\n",
                "    dc.CustomerType = 'Wholesale'\r\n",
                "\r\n",
                "GROUP BY dc.CohortQuarter\r\n",
                "ORDER BY dc.CohortQuarter"
            ],
            "metadata": {
                "language": "sql",
                "azdata_cell_guid": "a5cd5843-50f6-4022-929b-d73c9a84e080"
            },
            "outputs": [
                {
                    "output_type": "display_data",
                    "data": {
                        "text/html": "(8 rows affected)"
                    },
                    "metadata": {}
                },
                {
                    "output_type": "display_data",
                    "data": {
                        "text/html": "Total execution time: 00:00:00.103"
                    },
                    "metadata": {}
                },
                {
                    "output_type": "execute_result",
                    "metadata": {},
                    "execution_count": 5,
                    "data": {
                        "application/vnd.dataresource+json": {
                            "schema": {
                                "fields": [
                                    {
                                        "name": "CohortQuarter"
                                    },
                                    {
                                        "name": "CustomersInCohort"
                                    },
                                    {
                                        "name": "CohortCumulativeRevenue"
                                    },
                                    {
                                        "name": "CustomerRevenue"
                                    }
                                ]
                            },
                            "data": [
                                {
                                    "CohortQuarter": "2019-Q1",
                                    "CustomersInCohort": "4",
                                    "CohortCumulativeRevenue": "10414.62",
                                    "CustomerRevenue": "2603.655000"
                                },
                                {
                                    "CohortQuarter": "2019-Q2",
                                    "CustomersInCohort": "3",
                                    "CohortCumulativeRevenue": "43133.43",
                                    "CustomerRevenue": "14377.810000"
                                },
                                {
                                    "CohortQuarter": "2019-Q3",
                                    "CustomersInCohort": "1",
                                    "CohortCumulativeRevenue": "1150.70",
                                    "CustomerRevenue": "1150.700000"
                                },
                                {
                                    "CohortQuarter": "2019-Q4",
                                    "CustomersInCohort": "1",
                                    "CohortCumulativeRevenue": "870.11",
                                    "CustomerRevenue": "870.110000"
                                },
                                {
                                    "CohortQuarter": "2020-Q1",
                                    "CustomersInCohort": "1",
                                    "CohortCumulativeRevenue": "595.34",
                                    "CustomerRevenue": "595.340000"
                                },
                                {
                                    "CohortQuarter": "2020-Q3",
                                    "CustomersInCohort": "1",
                                    "CohortCumulativeRevenue": "301.00",
                                    "CustomerRevenue": "301.000000"
                                },
                                {
                                    "CohortQuarter": "2021-Q2",
                                    "CustomersInCohort": "1",
                                    "CohortCumulativeRevenue": "361.50",
                                    "CustomerRevenue": "361.500000"
                                },
                                {
                                    "CohortQuarter": "2021-Q3",
                                    "CustomersInCohort": "3",
                                    "CohortCumulativeRevenue": "430.22",
                                    "CustomerRevenue": "143.406666"
                                }
                            ]
                        },
                        "text/html": [
                            "<table>",
                            "<tr><th>CohortQuarter</th><th>CustomersInCohort</th><th>CohortCumulativeRevenue</th><th>CustomerRevenue</th></tr>",
                            "<tr><td>2019-Q1</td><td>4</td><td>10414.62</td><td>2603.655000</td></tr>",
                            "<tr><td>2019-Q2</td><td>3</td><td>43133.43</td><td>14377.810000</td></tr>",
                            "<tr><td>2019-Q3</td><td>1</td><td>1150.70</td><td>1150.700000</td></tr>",
                            "<tr><td>2019-Q4</td><td>1</td><td>870.11</td><td>870.110000</td></tr>",
                            "<tr><td>2020-Q1</td><td>1</td><td>595.34</td><td>595.340000</td></tr>",
                            "<tr><td>2020-Q3</td><td>1</td><td>301.00</td><td>301.000000</td></tr>",
                            "<tr><td>2021-Q2</td><td>1</td><td>361.50</td><td>361.500000</td></tr>",
                            "<tr><td>2021-Q3</td><td>3</td><td>430.22</td><td>143.406666</td></tr>",
                            "</table>"
                        ]
                    }
                }
            ],
            "execution_count": 5
        }
    ]
}