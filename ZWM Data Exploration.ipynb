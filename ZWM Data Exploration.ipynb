{
    "metadata": {
        "kernelspec": {
            "name": "SQL",
            "display_name": "SQL",
            "language": "sql"
        },
        "language_info": {
            "name": "sql",
            "version": ""
        }
    },
    "nbformat_minor": 2,
    "nbformat": 4,
    "cells": [
        {
            "cell_type": "markdown",
            "source": [
                "# Zero-Waste Market Data Exploration"
            ],
            "metadata": {
                "azdata_cell_guid": "b10aaf00-2423-4f7b-9dba-30b11d05cd4d"
            },
            "attachments": {}
        },
        {
            "cell_type": "markdown",
            "source": [
                "## Sales Summary"
            ],
            "metadata": {
                "azdata_cell_guid": "2ee01da4-3ae6-44c4-9649-3a5498b527df"
            },
            "attachments": {}
        },
        {
            "cell_type": "markdown",
            "source": [
                "### Annual Sales Volume\n",
                "\n",
                "#### Sales, Pounds Sold, Transaction, Customer and Product Counts, and AOV by Year"
            ],
            "metadata": {
                "azdata_cell_guid": "e5336175-a200-4f63-a408-908965d12156"
            },
            "attachments": {}
        },
        {
            "cell_type": "code",
            "source": [
                "SELECT \r\n",
                "    YEAR(o.OrderDate) AS Year, \r\n",
                "    SUM(l.SaleAmount) AS Sales,\r\n",
                "    SUM(l.PoundsSold) AS PoundsSold, \r\n",
                "    COUNT(DISTINCT o.OrderID) As TransactionCount,\r\n",
                "    COUNT(DISTINCT o.CustomerID) AS KnownCustomerCount,\r\n",
                "    COUNT(DISTINCT l.ProductID) AS UniqueProductCount,\r\n",
                "    COUNT(DISTINCT l.SalesOrderLineID) AS TransactionLineCount,\r\n",
                "    SUM(l.SaleAmount)/ COUNT(DISTINCT o.OrderID) AS AvgOrderValue\r\n",
                "\r\n",
                "FROM SalesOrderLines AS l\r\n",
                "    INNER JOIN SalesOrders AS o\r\n",
                "    ON l.OrderID = o.OrderID \r\n",
                "\r\n",
                "GROUP BY ROLLUP (YEAR(o.OrderDate))\r\n",
                "ORDER BY YEAR(o.OrderDate) "
            ],
            "metadata": {
                "azdata_cell_guid": "0a40a691-15f6-4eff-a3c0-b2cbab6ab9e4",
                "language": "sql",
                "tags": []
            },
            "outputs": [
                {
                    "output_type": "display_data",
                    "data": {
                        "text/html": "(4 rows affected)"
                    },
                    "metadata": {}
                },
                {
                    "output_type": "display_data",
                    "data": {
                        "text/html": "Total execution time: 00:00:01.935"
                    },
                    "metadata": {}
                },
                {
                    "output_type": "execute_result",
                    "execution_count": 1,
                    "data": {
                        "application/vnd.dataresource+json": {
                            "schema": {
                                "fields": [
                                    {
                                        "name": "Year"
                                    },
                                    {
                                        "name": "Sales"
                                    },
                                    {
                                        "name": "PoundsSold"
                                    },
                                    {
                                        "name": "TransactionCount"
                                    },
                                    {
                                        "name": "KnownCustomerCount"
                                    },
                                    {
                                        "name": "UniqueProductCount"
                                    },
                                    {
                                        "name": "TransactionLineCount"
                                    },
                                    {
                                        "name": "AvgOrderValue"
                                    }
                                ]
                            },
                            "data": [
                                {
                                    "Year": "NULL",
                                    "Sales": "1308799.38",
                                    "PoundsSold": "200821.7646",
                                    "TransactionCount": "41450",
                                    "KnownCustomerCount": "3932",
                                    "UniqueProductCount": "1006",
                                    "TransactionLineCount": "223151",
                                    "AvgOrderValue": "31.575377"
                                },
                                {
                                    "Year": "2019",
                                    "Sales": "277348.76",
                                    "PoundsSold": "37539.4033",
                                    "TransactionCount": "11776",
                                    "KnownCustomerCount": "1704",
                                    "UniqueProductCount": "673",
                                    "TransactionLineCount": "52856",
                                    "AvgOrderValue": "23.552034"
                                },
                                {
                                    "Year": "2020",
                                    "Sales": "494122.18",
                                    "PoundsSold": "76139.6552",
                                    "TransactionCount": "14648",
                                    "KnownCustomerCount": "1769",
                                    "UniqueProductCount": "635",
                                    "TransactionLineCount": "83723",
                                    "AvgOrderValue": "33.733081"
                                },
                                {
                                    "Year": "2021",
                                    "Sales": "537328.44",
                                    "PoundsSold": "87142.7061",
                                    "TransactionCount": "15026",
                                    "KnownCustomerCount": "2137",
                                    "UniqueProductCount": "582",
                                    "TransactionLineCount": "86572",
                                    "AvgOrderValue": "35.759912"
                                }
                            ]
                        },
                        "text/html": "<table><tr><th>Year</th><th>Sales</th><th>PoundsSold</th><th>TransactionCount</th><th>KnownCustomerCount</th><th>UniqueProductCount</th><th>TransactionLineCount</th><th>AvgOrderValue</th></tr><tr><td>NULL</td><td>1308799.38</td><td>200821.7646</td><td>41450</td><td>3932</td><td>1006</td><td>223151</td><td>31.575377</td></tr><tr><td>2019</td><td>277348.76</td><td>37539.4033</td><td>11776</td><td>1704</td><td>673</td><td>52856</td><td>23.552034</td></tr><tr><td>2020</td><td>494122.18</td><td>76139.6552</td><td>14648</td><td>1769</td><td>635</td><td>83723</td><td>33.733081</td></tr><tr><td>2021</td><td>537328.44</td><td>87142.7061</td><td>15026</td><td>2137</td><td>582</td><td>86572</td><td>35.759912</td></tr></table>"
                    },
                    "metadata": {}
                }
            ],
            "execution_count": 1
        },
        {
            "cell_type": "markdown",
            "source": [
                "#### Sales Per Square Foot, Annualized by Location\n",
                "\n",
                "The retail store opened in 2019 and relocated mid-2021.  This query calculates annualized sales per square foot by location, adjusting for partial years"
            ],
            "metadata": {
                "language": "sql",
                "azdata_cell_guid": "873dd46d-76f5-41f4-890c-9f50a36b56c6"
            },
            "attachments": {}
        },
        {
            "cell_type": "code",
            "source": [
                "-- AnnualizedSales per square foot\r\n",
                "\r\n",
                "SELECT \r\n",
                "    o.LocationID,\r\n",
                "    YEAR(o.OrderDate) AS Year,\r\n",
                "    SUM(l.SaleAmount) AS Sales,\r\n",
                "    DATEDIFF(Day,MIN(o.OrderDate), MAX(o.OrderDate))+1 AS DaysInPeriod,\r\n",
                "\r\n",
                "    -- calculate annualized sales by dividing sales by number of days in period and multiplying by 365\r\n",
                "    SUM(l.SaleAmount)/(DATEDIFF(Day,MIN(o.OrderDate), MAX(o.OrderDate))+1 )*365 AS AnnualizedSales,\r\n",
                "\r\n",
                "    MAX(dl.Sqft) AS Sqft,\r\n",
                "\r\n",
                "    -- Divide Annualized Sales by Location SqFt\r\n",
                "    (SUM(l.SaleAmount)/(DATEDIFF(Day,MIN(o.OrderDate), MAX(o.OrderDate))+1 )*365) / MAX(dl.Sqft) AS SalesPerSqft\r\n",
                "\r\n",
                "FROM SalesOrderLines AS l\r\n",
                "    INNER JOIN SalesOrders AS o\r\n",
                "    ON l.OrderID = o.OrderID\r\n",
                "    LEFT JOIN DimLocation as dl\r\n",
                "    ON o.LocationID = dl.LocationID\r\n",
                "\r\n",
                "GROUP BY o.LocationID, YEAR(o.OrderDate)\r\n",
                "ORDER BY Year, LocationID"
            ],
            "metadata": {
                "language": "sql",
                "azdata_cell_guid": "37fdbae0-ffb6-4d61-8516-c20ddd5c99bb",
                "tags": []
            },
            "outputs": [
                {
                    "output_type": "display_data",
                    "data": {
                        "text/html": "(4 rows affected)"
                    },
                    "metadata": {}
                },
                {
                    "output_type": "display_data",
                    "data": {
                        "text/html": "Total execution time: 00:00:00.456"
                    },
                    "metadata": {}
                },
                {
                    "output_type": "execute_result",
                    "execution_count": 1,
                    "data": {
                        "application/vnd.dataresource+json": {
                            "schema": {
                                "fields": [
                                    {
                                        "name": "LocationID"
                                    },
                                    {
                                        "name": "Year"
                                    },
                                    {
                                        "name": "Sales"
                                    },
                                    {
                                        "name": "DaysInPeriod"
                                    },
                                    {
                                        "name": "AnnualizedSales"
                                    },
                                    {
                                        "name": "Sqft"
                                    },
                                    {
                                        "name": "SalesPerSqft"
                                    }
                                ]
                            },
                            "data": [
                                {
                                    "LocationID": "1",
                                    "Year": "2019",
                                    "Sales": "277348.76",
                                    "DaysInPeriod": "331",
                                    "AnnualizedSales": "305837.756265",
                                    "Sqft": "800",
                                    "SalesPerSqft": "382.297195"
                                },
                                {
                                    "LocationID": "1",
                                    "Year": "2020",
                                    "Sales": "494122.18",
                                    "DaysInPeriod": "366",
                                    "AnnualizedSales": "492772.119365",
                                    "Sqft": "800",
                                    "SalesPerSqft": "615.965149"
                                },
                                {
                                    "LocationID": "1",
                                    "Year": "2021",
                                    "Sales": "411605.55",
                                    "DaysInPeriod": "261",
                                    "AnnualizedSales": "575616.956670",
                                    "Sqft": "800",
                                    "SalesPerSqft": "719.521195"
                                },
                                {
                                    "LocationID": "2",
                                    "Year": "2021",
                                    "Sales": "125722.89",
                                    "DaysInPeriod": "100",
                                    "AnnualizedSales": "458888.548500",
                                    "Sqft": "1200",
                                    "SalesPerSqft": "382.407123"
                                }
                            ]
                        },
                        "text/html": "<table><tr><th>LocationID</th><th>Year</th><th>Sales</th><th>DaysInPeriod</th><th>AnnualizedSales</th><th>Sqft</th><th>SalesPerSqft</th></tr><tr><td>1</td><td>2019</td><td>277348.76</td><td>331</td><td>305837.756265</td><td>800</td><td>382.297195</td></tr><tr><td>1</td><td>2020</td><td>494122.18</td><td>366</td><td>492772.119365</td><td>800</td><td>615.965149</td></tr><tr><td>1</td><td>2021</td><td>411605.55</td><td>261</td><td>575616.956670</td><td>800</td><td>719.521195</td></tr><tr><td>2</td><td>2021</td><td>125722.89</td><td>100</td><td>458888.548500</td><td>1200</td><td>382.407123</td></tr></table>"
                    },
                    "metadata": {}
                }
            ],
            "execution_count": 1
        },
        {
            "cell_type": "markdown",
            "source": [
                "### Monthly Sales Trend\r\n",
                "#### Total Monthly Sales and Average Daily Sales by Month"
            ],
            "metadata": {
                "azdata_cell_guid": "c928cb29-e1ad-4c01-bd85-e7a6cffdd64d"
            },
            "attachments": {}
        },
        {
            "cell_type": "code",
            "source": [
                "SELECT \r\n",
                "    EOMONTH(o.OrderDate) AS TransactionMonth, --Use the last day of the month to represent the Month. Since all data is historical do not need to account for midmonth data\r\n",
                "    ROUND(SUM(l.SaleAmount),2) AS Sales, --Sum the Monthly Sales\r\n",
                "    ROUND(SUM(l.SaleAmount)/DAY(EOMONTH(o.OrderDate)),2) AS AvgDailySales, --Total Montly Sales / Number of Days in Month\r\n",
                "    COUNT(DISTINCT o.OrderID) AS TransactionCount,\r\n",
                "    SUM(l.PoundsSold) AS Pounds\r\n",
                "\r\n",
                "FROM SalesOrderLines AS l\r\n",
                "    INNER JOIN SalesOrders AS o\r\n",
                "    ON l.OrderID = o.OrderID \r\n",
                "\r\n",
                "GROUP BY EOMONTH(o.OrderDate)\r\n",
                "ORDER BY EOMONTH(o.OrderDate)   "
            ],
            "metadata": {
                "language": "sql",
                "azdata_cell_guid": "cf6c9a57-5c2f-495f-b32f-f83185e5fd73",
                "tags": []
            },
            "outputs": [
                {
                    "output_type": "display_data",
                    "data": {
                        "text/html": "(35 rows affected)"
                    },
                    "metadata": {}
                },
                {
                    "output_type": "display_data",
                    "data": {
                        "text/html": "Total execution time: 00:00:00.604"
                    },
                    "metadata": {}
                },
                {
                    "output_type": "execute_result",
                    "execution_count": 3,
                    "data": {
                        "application/vnd.dataresource+json": {
                            "schema": {
                                "fields": [
                                    {
                                        "name": "TransactionMonth"
                                    },
                                    {
                                        "name": "Sales"
                                    },
                                    {
                                        "name": "AvgDailySales"
                                    },
                                    {
                                        "name": "TransactionCount"
                                    },
                                    {
                                        "name": "Pounds"
                                    }
                                ]
                            },
                            "data": [
                                {
                                    "TransactionMonth": "2019-02-28",
                                    "Sales": "14964.79",
                                    "AvgDailySales": "534.460000",
                                    "TransactionCount": "749",
                                    "Pounds": "2085.1035"
                                },
                                {
                                    "TransactionMonth": "2019-03-31",
                                    "Sales": "20949.45",
                                    "AvgDailySales": "675.790000",
                                    "TransactionCount": "1003",
                                    "Pounds": "2907.3225"
                                },
                                {
                                    "TransactionMonth": "2019-04-30",
                                    "Sales": "17287.15",
                                    "AvgDailySales": "576.240000",
                                    "TransactionCount": "899",
                                    "Pounds": "2314.4868"
                                },
                                {
                                    "TransactionMonth": "2019-05-31",
                                    "Sales": "24424.98",
                                    "AvgDailySales": "787.900000",
                                    "TransactionCount": "1184",
                                    "Pounds": "3272.4228"
                                },
                                {
                                    "TransactionMonth": "2019-06-30",
                                    "Sales": "27454.37",
                                    "AvgDailySales": "915.150000",
                                    "TransactionCount": "1137",
                                    "Pounds": "3571.0753"
                                },
                                {
                                    "TransactionMonth": "2019-07-31",
                                    "Sales": "27423.94",
                                    "AvgDailySales": "884.640000",
                                    "TransactionCount": "1120",
                                    "Pounds": "3702.0144"
                                },
                                {
                                    "TransactionMonth": "2019-08-31",
                                    "Sales": "26306.96",
                                    "AvgDailySales": "848.610000",
                                    "TransactionCount": "1095",
                                    "Pounds": "3793.7712"
                                },
                                {
                                    "TransactionMonth": "2019-09-30",
                                    "Sales": "28842.81",
                                    "AvgDailySales": "961.430000",
                                    "TransactionCount": "1109",
                                    "Pounds": "3928.8019"
                                },
                                {
                                    "TransactionMonth": "2019-10-31",
                                    "Sales": "29368.16",
                                    "AvgDailySales": "947.360000",
                                    "TransactionCount": "1135",
                                    "Pounds": "4065.9887"
                                },
                                {
                                    "TransactionMonth": "2019-11-30",
                                    "Sales": "29010.85",
                                    "AvgDailySales": "967.030000",
                                    "TransactionCount": "1153",
                                    "Pounds": "3831.1585"
                                },
                                {
                                    "TransactionMonth": "2019-12-31",
                                    "Sales": "31315.30",
                                    "AvgDailySales": "1010.170000",
                                    "TransactionCount": "1192",
                                    "Pounds": "4067.2577"
                                },
                                {
                                    "TransactionMonth": "2020-01-31",
                                    "Sales": "37956.78",
                                    "AvgDailySales": "1224.410000",
                                    "TransactionCount": "1452",
                                    "Pounds": "5729.5900"
                                },
                                {
                                    "TransactionMonth": "2020-02-29",
                                    "Sales": "33820.10",
                                    "AvgDailySales": "1166.210000",
                                    "TransactionCount": "1303",
                                    "Pounds": "5132.3829"
                                },
                                {
                                    "TransactionMonth": "2020-03-31",
                                    "Sales": "44724.33",
                                    "AvgDailySales": "1442.720000",
                                    "TransactionCount": "1445",
                                    "Pounds": "8124.4418"
                                },
                                {
                                    "TransactionMonth": "2020-04-30",
                                    "Sales": "31871.41",
                                    "AvgDailySales": "1062.380000",
                                    "TransactionCount": "890",
                                    "Pounds": "5280.4747"
                                },
                                {
                                    "TransactionMonth": "2020-05-31",
                                    "Sales": "35155.72",
                                    "AvgDailySales": "1134.060000",
                                    "TransactionCount": "924",
                                    "Pounds": "5564.7978"
                                },
                                {
                                    "TransactionMonth": "2020-06-30",
                                    "Sales": "35149.96",
                                    "AvgDailySales": "1171.670000",
                                    "TransactionCount": "984",
                                    "Pounds": "5579.1771"
                                },
                                {
                                    "TransactionMonth": "2020-07-31",
                                    "Sales": "41633.89",
                                    "AvgDailySales": "1343.030000",
                                    "TransactionCount": "1143",
                                    "Pounds": "5943.6093"
                                },
                                {
                                    "TransactionMonth": "2020-08-31",
                                    "Sales": "47599.20",
                                    "AvgDailySales": "1535.460000",
                                    "TransactionCount": "1325",
                                    "Pounds": "6698.9209"
                                },
                                {
                                    "TransactionMonth": "2020-09-30",
                                    "Sales": "43994.26",
                                    "AvgDailySales": "1466.480000",
                                    "TransactionCount": "1233",
                                    "Pounds": "6519.6938"
                                },
                                {
                                    "TransactionMonth": "2020-10-31",
                                    "Sales": "46408.37",
                                    "AvgDailySales": "1497.040000",
                                    "TransactionCount": "1292",
                                    "Pounds": "7252.5614"
                                },
                                {
                                    "TransactionMonth": "2020-11-30",
                                    "Sales": "42768.71",
                                    "AvgDailySales": "1425.620000",
                                    "TransactionCount": "1239",
                                    "Pounds": "6509.4685"
                                },
                                {
                                    "TransactionMonth": "2020-12-31",
                                    "Sales": "53039.45",
                                    "AvgDailySales": "1710.950000",
                                    "TransactionCount": "1418",
                                    "Pounds": "7804.5370"
                                },
                                {
                                    "TransactionMonth": "2021-01-31",
                                    "Sales": "55312.48",
                                    "AvgDailySales": "1784.270000",
                                    "TransactionCount": "1561",
                                    "Pounds": "8689.0318"
                                },
                                {
                                    "TransactionMonth": "2021-02-28",
                                    "Sales": "54057.65",
                                    "AvgDailySales": "1930.630000",
                                    "TransactionCount": "1461",
                                    "Pounds": "8144.9407"
                                },
                                {
                                    "TransactionMonth": "2021-03-31",
                                    "Sales": "51043.98",
                                    "AvgDailySales": "1646.580000",
                                    "TransactionCount": "1493",
                                    "Pounds": "8132.8748"
                                },
                                {
                                    "TransactionMonth": "2021-04-30",
                                    "Sales": "52109.81",
                                    "AvgDailySales": "1736.990000",
                                    "TransactionCount": "1396",
                                    "Pounds": "8093.9544"
                                },
                                {
                                    "TransactionMonth": "2021-05-31",
                                    "Sales": "49186.36",
                                    "AvgDailySales": "1586.660000",
                                    "TransactionCount": "1354",
                                    "Pounds": "8289.6089"
                                },
                                {
                                    "TransactionMonth": "2021-06-30",
                                    "Sales": "44196.52",
                                    "AvgDailySales": "1473.220000",
                                    "TransactionCount": "1228",
                                    "Pounds": "7570.6051"
                                },
                                {
                                    "TransactionMonth": "2021-07-31",
                                    "Sales": "40539.18",
                                    "AvgDailySales": "1307.720000",
                                    "TransactionCount": "1212",
                                    "Pounds": "6810.7150"
                                },
                                {
                                    "TransactionMonth": "2021-08-31",
                                    "Sales": "40792.58",
                                    "AvgDailySales": "1315.890000",
                                    "TransactionCount": "1153",
                                    "Pounds": "6636.6789"
                                },
                                {
                                    "TransactionMonth": "2021-09-30",
                                    "Sales": "33339.35",
                                    "AvgDailySales": "1111.310000",
                                    "TransactionCount": "952",
                                    "Pounds": "5796.2815"
                                },
                                {
                                    "TransactionMonth": "2021-10-31",
                                    "Sales": "40067.79",
                                    "AvgDailySales": "1292.510000",
                                    "TransactionCount": "1153",
                                    "Pounds": "6915.6957"
                                },
                                {
                                    "TransactionMonth": "2021-11-30",
                                    "Sales": "37493.90",
                                    "AvgDailySales": "1249.800000",
                                    "TransactionCount": "1030",
                                    "Pounds": "6250.5012"
                                },
                                {
                                    "TransactionMonth": "2021-12-31",
                                    "Sales": "39188.84",
                                    "AvgDailySales": "1264.160000",
                                    "TransactionCount": "1033",
                                    "Pounds": "5811.8181"
                                }
                            ]
                        },
                        "text/html": "<table><tr><th>TransactionMonth</th><th>Sales</th><th>AvgDailySales</th><th>TransactionCount</th><th>Pounds</th></tr><tr><td>2019-02-28</td><td>14964.79</td><td>534.460000</td><td>749</td><td>2085.1035</td></tr><tr><td>2019-03-31</td><td>20949.45</td><td>675.790000</td><td>1003</td><td>2907.3225</td></tr><tr><td>2019-04-30</td><td>17287.15</td><td>576.240000</td><td>899</td><td>2314.4868</td></tr><tr><td>2019-05-31</td><td>24424.98</td><td>787.900000</td><td>1184</td><td>3272.4228</td></tr><tr><td>2019-06-30</td><td>27454.37</td><td>915.150000</td><td>1137</td><td>3571.0753</td></tr><tr><td>2019-07-31</td><td>27423.94</td><td>884.640000</td><td>1120</td><td>3702.0144</td></tr><tr><td>2019-08-31</td><td>26306.96</td><td>848.610000</td><td>1095</td><td>3793.7712</td></tr><tr><td>2019-09-30</td><td>28842.81</td><td>961.430000</td><td>1109</td><td>3928.8019</td></tr><tr><td>2019-10-31</td><td>29368.16</td><td>947.360000</td><td>1135</td><td>4065.9887</td></tr><tr><td>2019-11-30</td><td>29010.85</td><td>967.030000</td><td>1153</td><td>3831.1585</td></tr><tr><td>2019-12-31</td><td>31315.30</td><td>1010.170000</td><td>1192</td><td>4067.2577</td></tr><tr><td>2020-01-31</td><td>37956.78</td><td>1224.410000</td><td>1452</td><td>5729.5900</td></tr><tr><td>2020-02-29</td><td>33820.10</td><td>1166.210000</td><td>1303</td><td>5132.3829</td></tr><tr><td>2020-03-31</td><td>44724.33</td><td>1442.720000</td><td>1445</td><td>8124.4418</td></tr><tr><td>2020-04-30</td><td>31871.41</td><td>1062.380000</td><td>890</td><td>5280.4747</td></tr><tr><td>2020-05-31</td><td>35155.72</td><td>1134.060000</td><td>924</td><td>5564.7978</td></tr><tr><td>2020-06-30</td><td>35149.96</td><td>1171.670000</td><td>984</td><td>5579.1771</td></tr><tr><td>2020-07-31</td><td>41633.89</td><td>1343.030000</td><td>1143</td><td>5943.6093</td></tr><tr><td>2020-08-31</td><td>47599.20</td><td>1535.460000</td><td>1325</td><td>6698.9209</td></tr><tr><td>2020-09-30</td><td>43994.26</td><td>1466.480000</td><td>1233</td><td>6519.6938</td></tr><tr><td>2020-10-31</td><td>46408.37</td><td>1497.040000</td><td>1292</td><td>7252.5614</td></tr><tr><td>2020-11-30</td><td>42768.71</td><td>1425.620000</td><td>1239</td><td>6509.4685</td></tr><tr><td>2020-12-31</td><td>53039.45</td><td>1710.950000</td><td>1418</td><td>7804.5370</td></tr><tr><td>2021-01-31</td><td>55312.48</td><td>1784.270000</td><td>1561</td><td>8689.0318</td></tr><tr><td>2021-02-28</td><td>54057.65</td><td>1930.630000</td><td>1461</td><td>8144.9407</td></tr><tr><td>2021-03-31</td><td>51043.98</td><td>1646.580000</td><td>1493</td><td>8132.8748</td></tr><tr><td>2021-04-30</td><td>52109.81</td><td>1736.990000</td><td>1396</td><td>8093.9544</td></tr><tr><td>2021-05-31</td><td>49186.36</td><td>1586.660000</td><td>1354</td><td>8289.6089</td></tr><tr><td>2021-06-30</td><td>44196.52</td><td>1473.220000</td><td>1228</td><td>7570.6051</td></tr><tr><td>2021-07-31</td><td>40539.18</td><td>1307.720000</td><td>1212</td><td>6810.7150</td></tr><tr><td>2021-08-31</td><td>40792.58</td><td>1315.890000</td><td>1153</td><td>6636.6789</td></tr><tr><td>2021-09-30</td><td>33339.35</td><td>1111.310000</td><td>952</td><td>5796.2815</td></tr><tr><td>2021-10-31</td><td>40067.79</td><td>1292.510000</td><td>1153</td><td>6915.6957</td></tr><tr><td>2021-11-30</td><td>37493.90</td><td>1249.800000</td><td>1030</td><td>6250.5012</td></tr><tr><td>2021-12-31</td><td>39188.84</td><td>1264.160000</td><td>1033</td><td>5811.8181</td></tr></table>"
                    },
                    "metadata": {}
                }
            ],
            "execution_count": 3
        },
        {
            "cell_type": "markdown",
            "source": [
                "#### Top 5 Sales Months by Revenue"
            ],
            "metadata": {
                "language": "sql",
                "azdata_cell_guid": "0a4369c2-d7d7-433d-bb25-f3eb78ba29f8"
            },
            "attachments": {}
        },
        {
            "cell_type": "code",
            "source": [
                "SELECT TOP(5)\r\n",
                "    EOMONTH(o.OrderDate) AS TransactionMonth, --Use the last day of the month to represent the Month. Since all data is historical do not need to account for midmonth data\r\n",
                "    ROUND(SUM(l.SaleAmount),2) AS MonthlySales, --Sum the Monthly Sales\r\n",
                "    ROUND(SUM(l.SaleAmount)/DAY(EOMONTH(o.OrderDate)),2) AS AvgDailySales -- Total Monthly Sales / Number of Days in month\r\n",
                "\r\n",
                "FROM SalesOrderLines AS l\r\n",
                "    INNER JOIN SalesOrders AS o\r\n",
                "    ON l.OrderID = o.OrderID \r\n",
                "\r\n",
                "GROUP BY EOMONTH(o.OrderDate) --Group by Month\r\n",
                "ORDER BY MonthlySales DESC     "
            ],
            "metadata": {
                "language": "sql",
                "azdata_cell_guid": "b032f682-cb72-498f-aae7-9c897bb48333",
                "tags": []
            },
            "outputs": [
                {
                    "output_type": "display_data",
                    "data": {
                        "text/html": "(5 rows affected)"
                    },
                    "metadata": {}
                },
                {
                    "output_type": "display_data",
                    "data": {
                        "text/html": "Total execution time: 00:00:00.190"
                    },
                    "metadata": {}
                },
                {
                    "output_type": "execute_result",
                    "execution_count": 2,
                    "data": {
                        "application/vnd.dataresource+json": {
                            "schema": {
                                "fields": [
                                    {
                                        "name": "TransactionMonth"
                                    },
                                    {
                                        "name": "MonthlySales"
                                    },
                                    {
                                        "name": "AvgDailySales"
                                    }
                                ]
                            },
                            "data": [
                                {
                                    "TransactionMonth": "2021-01-31",
                                    "MonthlySales": "55312.48",
                                    "AvgDailySales": "1784.270000"
                                },
                                {
                                    "TransactionMonth": "2021-02-28",
                                    "MonthlySales": "54057.65",
                                    "AvgDailySales": "1930.630000"
                                },
                                {
                                    "TransactionMonth": "2020-12-31",
                                    "MonthlySales": "53039.45",
                                    "AvgDailySales": "1710.950000"
                                },
                                {
                                    "TransactionMonth": "2021-04-30",
                                    "MonthlySales": "52109.81",
                                    "AvgDailySales": "1736.990000"
                                },
                                {
                                    "TransactionMonth": "2021-03-31",
                                    "MonthlySales": "51043.98",
                                    "AvgDailySales": "1646.580000"
                                }
                            ]
                        },
                        "text/html": "<table><tr><th>TransactionMonth</th><th>MonthlySales</th><th>AvgDailySales</th></tr><tr><td>2021-01-31</td><td>55312.48</td><td>1784.270000</td></tr><tr><td>2021-02-28</td><td>54057.65</td><td>1930.630000</td></tr><tr><td>2020-12-31</td><td>53039.45</td><td>1710.950000</td></tr><tr><td>2021-04-30</td><td>52109.81</td><td>1736.990000</td></tr><tr><td>2021-03-31</td><td>51043.98</td><td>1646.580000</td></tr></table>"
                    },
                    "metadata": {}
                }
            ],
            "execution_count": 2
        },
        {
            "cell_type": "markdown",
            "source": [
                "#### Monthly Sales - MoM, YoY % Change - Using Window LAG function and CTEs\r\n",
                ""
            ],
            "metadata": {
                "language": "sql",
                "azdata_cell_guid": "262b9ca2-9a6f-4bcf-9926-8b455b5fd098"
            },
            "attachments": {}
        },
        {
            "cell_type": "code",
            "source": [
                "--CTE to create a table of Total Sales by Month \r\n",
                "WITH MonthlySales AS(\r\n",
                "SELECT \r\n",
                "    EOMONTH(o.OrderDate) AS TransactionMonth, --Use the last day of the month to represent the Month. Since all data is historical do not need to account for midmonth data\r\n",
                "    ROUND(SUM(l.SaleAmount),2) AS Sales, --Sum the Monthly Sales\r\n",
                "    ROUND(SUM(l.SaleAmount)/DAY(EOMONTH(o.OrderDate)),2) AS AvgDailySales  --Monthly Sales / number of days in the month\r\n",
                "FROM SalesOrderLines AS l\r\n",
                "    INNER JOIN SalesOrders AS o\r\n",
                "    ON l.OrderID = o.OrderID \r\n",
                "GROUP BY EOMONTH(o.OrderDate)\r\n",
                ")\r\n",
                "\r\n",
                "-- Compare Each Month to the Prior Month, and the Prior Year\r\n",
                "SELECT  \r\n",
                "    TransactionMonth,\r\n",
                "    Sales,\r\n",
                "    \r\n",
                "    -- Monthly Sales Percent Change from Prior Month = Current month sales / Prior month sales - 1 \r\n",
                "    ROUND(Sales/ \r\n",
                "        (LAG(Sales) -- use the LAG Window function with no offset, which defaults to the prior record (offset of 1)\r\n",
                "            OVER ( ORDER BY TransactionMonth))-1,4) -- subtract 1 from the ratio of current/prior month sales to calculate the percentage change\r\n",
                "            AS SalesPctChgMoM,  \r\n",
                "    \r\n",
                "    -- Monthly Sales % Change from Same Month Prior Year = Current Month/ Lag 12 month Sales -1\r\n",
                "    ROUND(Sales/ \r\n",
                "    (LAG(Sales,12) -- Use the Lag Function with offset of 12 to retrive the prior year sales (assuming continuous sales reported in all months)\r\n",
                "        OVER (ORDER BY TransactionMonth))-1,4) -- subtract 1 from the ratio and round to 4 decimals\r\n",
                "        AS SalesPctChgYoY, \r\n",
                "    \r\n",
                "    AvgDailySales,\r\n",
                "    \r\n",
                "    -- Avg Daily Sales % change from Prior Month = Avg Daily Sales Current Month / ADS Prior Month-1 \r\n",
                "    ROUND((AvgDailySales/\r\n",
                "    LAG(AvgDailySales) OVER(ORDER BY TransactionMonth))-1,4) AS AvgDailyPctChgMoM,\r\n",
                "\r\n",
                "    -- Avg Daily Sales % change from Prior Year = Avg Daily Sales Current Month / ADS Prior Year-1 \r\n",
                "    -- Assumes sales in all consecutive months\r\n",
                "    ROUND((AvgDailySales/\r\n",
                "    LAG(AvgDailySales,12) OVER(ORDER BY TransactionMonth))-1,4) AS AvgDailyPctChgYoY\r\n",
                "\r\n",
                "FROM MonthlySales"
            ],
            "metadata": {
                "language": "sql",
                "azdata_cell_guid": "9bd2722e-119f-487c-88ed-05ba23d1e270",
                "tags": []
            },
            "outputs": [
                {
                    "output_type": "display_data",
                    "data": {
                        "text/html": "(35 rows affected)"
                    },
                    "metadata": {}
                },
                {
                    "output_type": "display_data",
                    "data": {
                        "text/html": "Total execution time: 00:00:00.352"
                    },
                    "metadata": {}
                },
                {
                    "output_type": "execute_result",
                    "execution_count": 5,
                    "data": {
                        "application/vnd.dataresource+json": {
                            "schema": {
                                "fields": [
                                    {
                                        "name": "TransactionMonth"
                                    },
                                    {
                                        "name": "Sales"
                                    },
                                    {
                                        "name": "SalesPctChgMoM"
                                    },
                                    {
                                        "name": "SalesPctChgYoY"
                                    },
                                    {
                                        "name": "AvgDailySales"
                                    },
                                    {
                                        "name": "AvgDailyPctChgMoM"
                                    },
                                    {
                                        "name": "AvgDailyPctChgYoY"
                                    }
                                ]
                            },
                            "data": [
                                {
                                    "TransactionMonth": "2019-02-28",
                                    "Sales": "14964.79",
                                    "SalesPctChgMoM": "NULL",
                                    "SalesPctChgYoY": "NULL",
                                    "AvgDailySales": "534.460000",
                                    "AvgDailyPctChgMoM": "NULL",
                                    "AvgDailyPctChgYoY": "NULL"
                                },
                                {
                                    "TransactionMonth": "2019-03-31",
                                    "Sales": "20949.45",
                                    "SalesPctChgMoM": "0.399900",
                                    "SalesPctChgYoY": "NULL",
                                    "AvgDailySales": "675.790000",
                                    "AvgDailyPctChgMoM": "0.264400",
                                    "AvgDailyPctChgYoY": "NULL"
                                },
                                {
                                    "TransactionMonth": "2019-04-30",
                                    "Sales": "17287.15",
                                    "SalesPctChgMoM": "-0.174800",
                                    "SalesPctChgYoY": "NULL",
                                    "AvgDailySales": "576.240000",
                                    "AvgDailyPctChgMoM": "-0.147300",
                                    "AvgDailyPctChgYoY": "NULL"
                                },
                                {
                                    "TransactionMonth": "2019-05-31",
                                    "Sales": "24424.98",
                                    "SalesPctChgMoM": "0.412900",
                                    "SalesPctChgYoY": "NULL",
                                    "AvgDailySales": "787.900000",
                                    "AvgDailyPctChgMoM": "0.367300",
                                    "AvgDailyPctChgYoY": "NULL"
                                },
                                {
                                    "TransactionMonth": "2019-06-30",
                                    "Sales": "27454.37",
                                    "SalesPctChgMoM": "0.124000",
                                    "SalesPctChgYoY": "NULL",
                                    "AvgDailySales": "915.150000",
                                    "AvgDailyPctChgMoM": "0.161500",
                                    "AvgDailyPctChgYoY": "NULL"
                                },
                                {
                                    "TransactionMonth": "2019-07-31",
                                    "Sales": "27423.94",
                                    "SalesPctChgMoM": "-0.001100",
                                    "SalesPctChgYoY": "NULL",
                                    "AvgDailySales": "884.640000",
                                    "AvgDailyPctChgMoM": "-0.033300",
                                    "AvgDailyPctChgYoY": "NULL"
                                },
                                {
                                    "TransactionMonth": "2019-08-31",
                                    "Sales": "26306.96",
                                    "SalesPctChgMoM": "-0.040700",
                                    "SalesPctChgYoY": "NULL",
                                    "AvgDailySales": "848.610000",
                                    "AvgDailyPctChgMoM": "-0.040700",
                                    "AvgDailyPctChgYoY": "NULL"
                                },
                                {
                                    "TransactionMonth": "2019-09-30",
                                    "Sales": "28842.81",
                                    "SalesPctChgMoM": "0.096400",
                                    "SalesPctChgYoY": "NULL",
                                    "AvgDailySales": "961.430000",
                                    "AvgDailyPctChgMoM": "0.132900",
                                    "AvgDailyPctChgYoY": "NULL"
                                },
                                {
                                    "TransactionMonth": "2019-10-31",
                                    "Sales": "29368.16",
                                    "SalesPctChgMoM": "0.018200",
                                    "SalesPctChgYoY": "NULL",
                                    "AvgDailySales": "947.360000",
                                    "AvgDailyPctChgMoM": "-0.014600",
                                    "AvgDailyPctChgYoY": "NULL"
                                },
                                {
                                    "TransactionMonth": "2019-11-30",
                                    "Sales": "29010.85",
                                    "SalesPctChgMoM": "-0.012200",
                                    "SalesPctChgYoY": "NULL",
                                    "AvgDailySales": "967.030000",
                                    "AvgDailyPctChgMoM": "0.020800",
                                    "AvgDailyPctChgYoY": "NULL"
                                },
                                {
                                    "TransactionMonth": "2019-12-31",
                                    "Sales": "31315.30",
                                    "SalesPctChgMoM": "0.079400",
                                    "SalesPctChgYoY": "NULL",
                                    "AvgDailySales": "1010.170000",
                                    "AvgDailyPctChgMoM": "0.044600",
                                    "AvgDailyPctChgYoY": "NULL"
                                },
                                {
                                    "TransactionMonth": "2020-01-31",
                                    "Sales": "37956.78",
                                    "SalesPctChgMoM": "0.212100",
                                    "SalesPctChgYoY": "NULL",
                                    "AvgDailySales": "1224.410000",
                                    "AvgDailyPctChgMoM": "0.212100",
                                    "AvgDailyPctChgYoY": "NULL"
                                },
                                {
                                    "TransactionMonth": "2020-02-29",
                                    "Sales": "33820.10",
                                    "SalesPctChgMoM": "-0.109000",
                                    "SalesPctChgYoY": "1.260000",
                                    "AvgDailySales": "1166.210000",
                                    "AvgDailyPctChgMoM": "-0.047500",
                                    "AvgDailyPctChgYoY": "1.182000"
                                },
                                {
                                    "TransactionMonth": "2020-03-31",
                                    "Sales": "44724.33",
                                    "SalesPctChgMoM": "0.322400",
                                    "SalesPctChgYoY": "1.134900",
                                    "AvgDailySales": "1442.720000",
                                    "AvgDailyPctChgMoM": "0.237100",
                                    "AvgDailyPctChgYoY": "1.134900"
                                },
                                {
                                    "TransactionMonth": "2020-04-30",
                                    "Sales": "31871.41",
                                    "SalesPctChgMoM": "-0.287400",
                                    "SalesPctChgYoY": "0.843600",
                                    "AvgDailySales": "1062.380000",
                                    "AvgDailyPctChgMoM": "-0.263600",
                                    "AvgDailyPctChgYoY": "0.843600"
                                },
                                {
                                    "TransactionMonth": "2020-05-31",
                                    "Sales": "35155.72",
                                    "SalesPctChgMoM": "0.103000",
                                    "SalesPctChgYoY": "0.439300",
                                    "AvgDailySales": "1134.060000",
                                    "AvgDailyPctChgMoM": "0.067500",
                                    "AvgDailyPctChgYoY": "0.439300"
                                },
                                {
                                    "TransactionMonth": "2020-06-30",
                                    "Sales": "35149.96",
                                    "SalesPctChgMoM": "-0.000200",
                                    "SalesPctChgYoY": "0.280300",
                                    "AvgDailySales": "1171.670000",
                                    "AvgDailyPctChgMoM": "0.033200",
                                    "AvgDailyPctChgYoY": "0.280300"
                                },
                                {
                                    "TransactionMonth": "2020-07-31",
                                    "Sales": "41633.89",
                                    "SalesPctChgMoM": "0.184500",
                                    "SalesPctChgYoY": "0.518200",
                                    "AvgDailySales": "1343.030000",
                                    "AvgDailyPctChgMoM": "0.146300",
                                    "AvgDailyPctChgYoY": "0.518200"
                                },
                                {
                                    "TransactionMonth": "2020-08-31",
                                    "Sales": "47599.20",
                                    "SalesPctChgMoM": "0.143300",
                                    "SalesPctChgYoY": "0.809400",
                                    "AvgDailySales": "1535.460000",
                                    "AvgDailyPctChgMoM": "0.143300",
                                    "AvgDailyPctChgYoY": "0.809400"
                                },
                                {
                                    "TransactionMonth": "2020-09-30",
                                    "Sales": "43994.26",
                                    "SalesPctChgMoM": "-0.075700",
                                    "SalesPctChgYoY": "0.525300",
                                    "AvgDailySales": "1466.480000",
                                    "AvgDailyPctChgMoM": "-0.044900",
                                    "AvgDailyPctChgYoY": "0.525300"
                                },
                                {
                                    "TransactionMonth": "2020-10-31",
                                    "Sales": "46408.37",
                                    "SalesPctChgMoM": "0.054900",
                                    "SalesPctChgYoY": "0.580200",
                                    "AvgDailySales": "1497.040000",
                                    "AvgDailyPctChgMoM": "0.020800",
                                    "AvgDailyPctChgYoY": "0.580200"
                                },
                                {
                                    "TransactionMonth": "2020-11-30",
                                    "Sales": "42768.71",
                                    "SalesPctChgMoM": "-0.078400",
                                    "SalesPctChgYoY": "0.474200",
                                    "AvgDailySales": "1425.620000",
                                    "AvgDailyPctChgMoM": "-0.047700",
                                    "AvgDailyPctChgYoY": "0.474200"
                                },
                                {
                                    "TransactionMonth": "2020-12-31",
                                    "Sales": "53039.45",
                                    "SalesPctChgMoM": "0.240100",
                                    "SalesPctChgYoY": "0.693700",
                                    "AvgDailySales": "1710.950000",
                                    "AvgDailyPctChgMoM": "0.200100",
                                    "AvgDailyPctChgYoY": "0.693700"
                                },
                                {
                                    "TransactionMonth": "2021-01-31",
                                    "Sales": "55312.48",
                                    "SalesPctChgMoM": "0.042900",
                                    "SalesPctChgYoY": "0.457200",
                                    "AvgDailySales": "1784.270000",
                                    "AvgDailyPctChgMoM": "0.042900",
                                    "AvgDailyPctChgYoY": "0.457200"
                                },
                                {
                                    "TransactionMonth": "2021-02-28",
                                    "Sales": "54057.65",
                                    "SalesPctChgMoM": "-0.022700",
                                    "SalesPctChgYoY": "0.598400",
                                    "AvgDailySales": "1930.630000",
                                    "AvgDailyPctChgMoM": "0.082000",
                                    "AvgDailyPctChgYoY": "0.655500"
                                },
                                {
                                    "TransactionMonth": "2021-03-31",
                                    "Sales": "51043.98",
                                    "SalesPctChgMoM": "-0.055800",
                                    "SalesPctChgYoY": "0.141300",
                                    "AvgDailySales": "1646.580000",
                                    "AvgDailyPctChgMoM": "-0.147100",
                                    "AvgDailyPctChgYoY": "0.141300"
                                },
                                {
                                    "TransactionMonth": "2021-04-30",
                                    "Sales": "52109.81",
                                    "SalesPctChgMoM": "0.020900",
                                    "SalesPctChgYoY": "0.635000",
                                    "AvgDailySales": "1736.990000",
                                    "AvgDailyPctChgMoM": "0.054900",
                                    "AvgDailyPctChgYoY": "0.635000"
                                },
                                {
                                    "TransactionMonth": "2021-05-31",
                                    "Sales": "49186.36",
                                    "SalesPctChgMoM": "-0.056100",
                                    "SalesPctChgYoY": "0.399100",
                                    "AvgDailySales": "1586.660000",
                                    "AvgDailyPctChgMoM": "-0.086500",
                                    "AvgDailyPctChgYoY": "0.399100"
                                },
                                {
                                    "TransactionMonth": "2021-06-30",
                                    "Sales": "44196.52",
                                    "SalesPctChgMoM": "-0.101400",
                                    "SalesPctChgYoY": "0.257400",
                                    "AvgDailySales": "1473.220000",
                                    "AvgDailyPctChgMoM": "-0.071500",
                                    "AvgDailyPctChgYoY": "0.257400"
                                },
                                {
                                    "TransactionMonth": "2021-07-31",
                                    "Sales": "40539.18",
                                    "SalesPctChgMoM": "-0.082800",
                                    "SalesPctChgYoY": "-0.026300",
                                    "AvgDailySales": "1307.720000",
                                    "AvgDailyPctChgMoM": "-0.112300",
                                    "AvgDailyPctChgYoY": "-0.026300"
                                },
                                {
                                    "TransactionMonth": "2021-08-31",
                                    "Sales": "40792.58",
                                    "SalesPctChgMoM": "0.006300",
                                    "SalesPctChgYoY": "-0.143000",
                                    "AvgDailySales": "1315.890000",
                                    "AvgDailyPctChgMoM": "0.006200",
                                    "AvgDailyPctChgYoY": "-0.143000"
                                },
                                {
                                    "TransactionMonth": "2021-09-30",
                                    "Sales": "33339.35",
                                    "SalesPctChgMoM": "-0.182700",
                                    "SalesPctChgYoY": "-0.242200",
                                    "AvgDailySales": "1111.310000",
                                    "AvgDailyPctChgMoM": "-0.155500",
                                    "AvgDailyPctChgYoY": "-0.242200"
                                },
                                {
                                    "TransactionMonth": "2021-10-31",
                                    "Sales": "40067.79",
                                    "SalesPctChgMoM": "0.201800",
                                    "SalesPctChgYoY": "-0.136600",
                                    "AvgDailySales": "1292.510000",
                                    "AvgDailyPctChgMoM": "0.163100",
                                    "AvgDailyPctChgYoY": "-0.136600"
                                },
                                {
                                    "TransactionMonth": "2021-11-30",
                                    "Sales": "37493.90",
                                    "SalesPctChgMoM": "-0.064200",
                                    "SalesPctChgYoY": "-0.123300",
                                    "AvgDailySales": "1249.800000",
                                    "AvgDailyPctChgMoM": "-0.033000",
                                    "AvgDailyPctChgYoY": "-0.123300"
                                },
                                {
                                    "TransactionMonth": "2021-12-31",
                                    "Sales": "39188.84",
                                    "SalesPctChgMoM": "0.045200",
                                    "SalesPctChgYoY": "-0.261100",
                                    "AvgDailySales": "1264.160000",
                                    "AvgDailyPctChgMoM": "0.011500",
                                    "AvgDailyPctChgYoY": "-0.261100"
                                }
                            ]
                        },
                        "text/html": "<table><tr><th>TransactionMonth</th><th>Sales</th><th>SalesPctChgMoM</th><th>SalesPctChgYoY</th><th>AvgDailySales</th><th>AvgDailyPctChgMoM</th><th>AvgDailyPctChgYoY</th></tr><tr><td>2019-02-28</td><td>14964.79</td><td>NULL</td><td>NULL</td><td>534.460000</td><td>NULL</td><td>NULL</td></tr><tr><td>2019-03-31</td><td>20949.45</td><td>0.399900</td><td>NULL</td><td>675.790000</td><td>0.264400</td><td>NULL</td></tr><tr><td>2019-04-30</td><td>17287.15</td><td>-0.174800</td><td>NULL</td><td>576.240000</td><td>-0.147300</td><td>NULL</td></tr><tr><td>2019-05-31</td><td>24424.98</td><td>0.412900</td><td>NULL</td><td>787.900000</td><td>0.367300</td><td>NULL</td></tr><tr><td>2019-06-30</td><td>27454.37</td><td>0.124000</td><td>NULL</td><td>915.150000</td><td>0.161500</td><td>NULL</td></tr><tr><td>2019-07-31</td><td>27423.94</td><td>-0.001100</td><td>NULL</td><td>884.640000</td><td>-0.033300</td><td>NULL</td></tr><tr><td>2019-08-31</td><td>26306.96</td><td>-0.040700</td><td>NULL</td><td>848.610000</td><td>-0.040700</td><td>NULL</td></tr><tr><td>2019-09-30</td><td>28842.81</td><td>0.096400</td><td>NULL</td><td>961.430000</td><td>0.132900</td><td>NULL</td></tr><tr><td>2019-10-31</td><td>29368.16</td><td>0.018200</td><td>NULL</td><td>947.360000</td><td>-0.014600</td><td>NULL</td></tr><tr><td>2019-11-30</td><td>29010.85</td><td>-0.012200</td><td>NULL</td><td>967.030000</td><td>0.020800</td><td>NULL</td></tr><tr><td>2019-12-31</td><td>31315.30</td><td>0.079400</td><td>NULL</td><td>1010.170000</td><td>0.044600</td><td>NULL</td></tr><tr><td>2020-01-31</td><td>37956.78</td><td>0.212100</td><td>NULL</td><td>1224.410000</td><td>0.212100</td><td>NULL</td></tr><tr><td>2020-02-29</td><td>33820.10</td><td>-0.109000</td><td>1.260000</td><td>1166.210000</td><td>-0.047500</td><td>1.182000</td></tr><tr><td>2020-03-31</td><td>44724.33</td><td>0.322400</td><td>1.134900</td><td>1442.720000</td><td>0.237100</td><td>1.134900</td></tr><tr><td>2020-04-30</td><td>31871.41</td><td>-0.287400</td><td>0.843600</td><td>1062.380000</td><td>-0.263600</td><td>0.843600</td></tr><tr><td>2020-05-31</td><td>35155.72</td><td>0.103000</td><td>0.439300</td><td>1134.060000</td><td>0.067500</td><td>0.439300</td></tr><tr><td>2020-06-30</td><td>35149.96</td><td>-0.000200</td><td>0.280300</td><td>1171.670000</td><td>0.033200</td><td>0.280300</td></tr><tr><td>2020-07-31</td><td>41633.89</td><td>0.184500</td><td>0.518200</td><td>1343.030000</td><td>0.146300</td><td>0.518200</td></tr><tr><td>2020-08-31</td><td>47599.20</td><td>0.143300</td><td>0.809400</td><td>1535.460000</td><td>0.143300</td><td>0.809400</td></tr><tr><td>2020-09-30</td><td>43994.26</td><td>-0.075700</td><td>0.525300</td><td>1466.480000</td><td>-0.044900</td><td>0.525300</td></tr><tr><td>2020-10-31</td><td>46408.37</td><td>0.054900</td><td>0.580200</td><td>1497.040000</td><td>0.020800</td><td>0.580200</td></tr><tr><td>2020-11-30</td><td>42768.71</td><td>-0.078400</td><td>0.474200</td><td>1425.620000</td><td>-0.047700</td><td>0.474200</td></tr><tr><td>2020-12-31</td><td>53039.45</td><td>0.240100</td><td>0.693700</td><td>1710.950000</td><td>0.200100</td><td>0.693700</td></tr><tr><td>2021-01-31</td><td>55312.48</td><td>0.042900</td><td>0.457200</td><td>1784.270000</td><td>0.042900</td><td>0.457200</td></tr><tr><td>2021-02-28</td><td>54057.65</td><td>-0.022700</td><td>0.598400</td><td>1930.630000</td><td>0.082000</td><td>0.655500</td></tr><tr><td>2021-03-31</td><td>51043.98</td><td>-0.055800</td><td>0.141300</td><td>1646.580000</td><td>-0.147100</td><td>0.141300</td></tr><tr><td>2021-04-30</td><td>52109.81</td><td>0.020900</td><td>0.635000</td><td>1736.990000</td><td>0.054900</td><td>0.635000</td></tr><tr><td>2021-05-31</td><td>49186.36</td><td>-0.056100</td><td>0.399100</td><td>1586.660000</td><td>-0.086500</td><td>0.399100</td></tr><tr><td>2021-06-30</td><td>44196.52</td><td>-0.101400</td><td>0.257400</td><td>1473.220000</td><td>-0.071500</td><td>0.257400</td></tr><tr><td>2021-07-31</td><td>40539.18</td><td>-0.082800</td><td>-0.026300</td><td>1307.720000</td><td>-0.112300</td><td>-0.026300</td></tr><tr><td>2021-08-31</td><td>40792.58</td><td>0.006300</td><td>-0.143000</td><td>1315.890000</td><td>0.006200</td><td>-0.143000</td></tr><tr><td>2021-09-30</td><td>33339.35</td><td>-0.182700</td><td>-0.242200</td><td>1111.310000</td><td>-0.155500</td><td>-0.242200</td></tr><tr><td>2021-10-31</td><td>40067.79</td><td>0.201800</td><td>-0.136600</td><td>1292.510000</td><td>0.163100</td><td>-0.136600</td></tr><tr><td>2021-11-30</td><td>37493.90</td><td>-0.064200</td><td>-0.123300</td><td>1249.800000</td><td>-0.033000</td><td>-0.123300</td></tr><tr><td>2021-12-31</td><td>39188.84</td><td>0.045200</td><td>-0.261100</td><td>1264.160000</td><td>0.011500</td><td>-0.261100</td></tr></table>"
                    },
                    "metadata": {}
                }
            ],
            "execution_count": 5
        },
        {
            "cell_type": "markdown",
            "source": [
                "#### Three Month Moving Average Monthly Sales - Using Window Function"
            ],
            "metadata": {
                "language": "sql",
                "azdata_cell_guid": "a1324aaa-c9f9-4ad4-9878-21f4bb648b2b"
            },
            "attachments": {}
        },
        {
            "cell_type": "code",
            "source": [
                "--CTE to create a table of Total Sales by Month and by Product Category\r\n",
                "WITH MonthlySales AS(\r\n",
                "SELECT \r\n",
                "    EOMONTH(o.OrderDate) AS TransactionMonth, --Use the last day of the month to represent the Month. Since all data is historical do not need to account for midmonth data\r\n",
                "    ROUND(SUM(l.SaleAmount),2) AS Sales, --Sum the Monthly Sales\r\n",
                "    ROUND(SUM(l.SaleAmount)/DAY(EOMONTH(o.OrderDate)),2) AS AvgDailySales\r\n",
                "FROM SalesOrderLines AS l\r\n",
                "    INNER JOIN SalesOrders AS o\r\n",
                "    ON l.OrderID = o.OrderID \r\n",
                "GROUP BY EOMONTH(o.OrderDate)\r\n",
                ")\r\n",
                "\r\n",
                "-- Caculate a rolling three month average of sales by category\r\n",
                "SELECT  \r\n",
                "    TransactionMonth,\r\n",
                "    SUM(Sales) TotalSales,    \r\n",
                "    AVG(SUM(Sales)) OVER(\r\n",
                "        ORDER BY TransactionMonth -- Order the records by transaction month, ensuring the average is calculated chronologically\r\n",
                "        ROWS BETWEEN 2 PRECEDING and CURRENT ROW -- specifies the range of rows to include in the average as 2 preceeding and current row\r\n",
                "    ) AS MovingThreeMonthAvgSales\r\n",
                "\r\n",
                "FROM MonthlySales\r\n",
                "GROUP BY TransactionMonth\r\n",
                "ORDER BY TransactionMonth"
            ],
            "metadata": {
                "language": "sql",
                "azdata_cell_guid": "12985283-fc73-4639-a080-53fc8d27d5f1",
                "tags": []
            },
            "outputs": [
                {
                    "output_type": "display_data",
                    "data": {
                        "text/html": "(35 rows affected)"
                    },
                    "metadata": {}
                },
                {
                    "output_type": "display_data",
                    "data": {
                        "text/html": "Total execution time: 00:00:00.333"
                    },
                    "metadata": {}
                },
                {
                    "output_type": "execute_result",
                    "execution_count": 6,
                    "data": {
                        "application/vnd.dataresource+json": {
                            "schema": {
                                "fields": [
                                    {
                                        "name": "TransactionMonth"
                                    },
                                    {
                                        "name": "TotalSales"
                                    },
                                    {
                                        "name": "MovingThreeMonthAvgSales"
                                    }
                                ]
                            },
                            "data": [
                                {
                                    "TransactionMonth": "2019-02-28",
                                    "TotalSales": "14964.79",
                                    "MovingThreeMonthAvgSales": "14964.790000"
                                },
                                {
                                    "TransactionMonth": "2019-03-31",
                                    "TotalSales": "20949.45",
                                    "MovingThreeMonthAvgSales": "17957.120000"
                                },
                                {
                                    "TransactionMonth": "2019-04-30",
                                    "TotalSales": "17287.15",
                                    "MovingThreeMonthAvgSales": "17733.796666"
                                },
                                {
                                    "TransactionMonth": "2019-05-31",
                                    "TotalSales": "24424.98",
                                    "MovingThreeMonthAvgSales": "20887.193333"
                                },
                                {
                                    "TransactionMonth": "2019-06-30",
                                    "TotalSales": "27454.37",
                                    "MovingThreeMonthAvgSales": "23055.500000"
                                },
                                {
                                    "TransactionMonth": "2019-07-31",
                                    "TotalSales": "27423.94",
                                    "MovingThreeMonthAvgSales": "26434.430000"
                                },
                                {
                                    "TransactionMonth": "2019-08-31",
                                    "TotalSales": "26306.96",
                                    "MovingThreeMonthAvgSales": "27061.756666"
                                },
                                {
                                    "TransactionMonth": "2019-09-30",
                                    "TotalSales": "28842.81",
                                    "MovingThreeMonthAvgSales": "27524.570000"
                                },
                                {
                                    "TransactionMonth": "2019-10-31",
                                    "TotalSales": "29368.16",
                                    "MovingThreeMonthAvgSales": "28172.643333"
                                },
                                {
                                    "TransactionMonth": "2019-11-30",
                                    "TotalSales": "29010.85",
                                    "MovingThreeMonthAvgSales": "29073.940000"
                                },
                                {
                                    "TransactionMonth": "2019-12-31",
                                    "TotalSales": "31315.30",
                                    "MovingThreeMonthAvgSales": "29898.103333"
                                },
                                {
                                    "TransactionMonth": "2020-01-31",
                                    "TotalSales": "37956.78",
                                    "MovingThreeMonthAvgSales": "32760.976666"
                                },
                                {
                                    "TransactionMonth": "2020-02-29",
                                    "TotalSales": "33820.10",
                                    "MovingThreeMonthAvgSales": "34364.060000"
                                },
                                {
                                    "TransactionMonth": "2020-03-31",
                                    "TotalSales": "44724.33",
                                    "MovingThreeMonthAvgSales": "38833.736666"
                                },
                                {
                                    "TransactionMonth": "2020-04-30",
                                    "TotalSales": "31871.41",
                                    "MovingThreeMonthAvgSales": "36805.280000"
                                },
                                {
                                    "TransactionMonth": "2020-05-31",
                                    "TotalSales": "35155.72",
                                    "MovingThreeMonthAvgSales": "37250.486666"
                                },
                                {
                                    "TransactionMonth": "2020-06-30",
                                    "TotalSales": "35149.96",
                                    "MovingThreeMonthAvgSales": "34059.030000"
                                },
                                {
                                    "TransactionMonth": "2020-07-31",
                                    "TotalSales": "41633.89",
                                    "MovingThreeMonthAvgSales": "37313.190000"
                                },
                                {
                                    "TransactionMonth": "2020-08-31",
                                    "TotalSales": "47599.20",
                                    "MovingThreeMonthAvgSales": "41461.016666"
                                },
                                {
                                    "TransactionMonth": "2020-09-30",
                                    "TotalSales": "43994.26",
                                    "MovingThreeMonthAvgSales": "44409.116666"
                                },
                                {
                                    "TransactionMonth": "2020-10-31",
                                    "TotalSales": "46408.37",
                                    "MovingThreeMonthAvgSales": "46000.610000"
                                },
                                {
                                    "TransactionMonth": "2020-11-30",
                                    "TotalSales": "42768.71",
                                    "MovingThreeMonthAvgSales": "44390.446666"
                                },
                                {
                                    "TransactionMonth": "2020-12-31",
                                    "TotalSales": "53039.45",
                                    "MovingThreeMonthAvgSales": "47405.510000"
                                },
                                {
                                    "TransactionMonth": "2021-01-31",
                                    "TotalSales": "55312.48",
                                    "MovingThreeMonthAvgSales": "50373.546666"
                                },
                                {
                                    "TransactionMonth": "2021-02-28",
                                    "TotalSales": "54057.65",
                                    "MovingThreeMonthAvgSales": "54136.526666"
                                },
                                {
                                    "TransactionMonth": "2021-03-31",
                                    "TotalSales": "51043.98",
                                    "MovingThreeMonthAvgSales": "53471.370000"
                                },
                                {
                                    "TransactionMonth": "2021-04-30",
                                    "TotalSales": "52109.81",
                                    "MovingThreeMonthAvgSales": "52403.813333"
                                },
                                {
                                    "TransactionMonth": "2021-05-31",
                                    "TotalSales": "49186.36",
                                    "MovingThreeMonthAvgSales": "50780.050000"
                                },
                                {
                                    "TransactionMonth": "2021-06-30",
                                    "TotalSales": "44196.52",
                                    "MovingThreeMonthAvgSales": "48497.563333"
                                },
                                {
                                    "TransactionMonth": "2021-07-31",
                                    "TotalSales": "40539.18",
                                    "MovingThreeMonthAvgSales": "44640.686666"
                                },
                                {
                                    "TransactionMonth": "2021-08-31",
                                    "TotalSales": "40792.58",
                                    "MovingThreeMonthAvgSales": "41842.760000"
                                },
                                {
                                    "TransactionMonth": "2021-09-30",
                                    "TotalSales": "33339.35",
                                    "MovingThreeMonthAvgSales": "38223.703333"
                                },
                                {
                                    "TransactionMonth": "2021-10-31",
                                    "TotalSales": "40067.79",
                                    "MovingThreeMonthAvgSales": "38066.573333"
                                },
                                {
                                    "TransactionMonth": "2021-11-30",
                                    "TotalSales": "37493.90",
                                    "MovingThreeMonthAvgSales": "36967.013333"
                                },
                                {
                                    "TransactionMonth": "2021-12-31",
                                    "TotalSales": "39188.84",
                                    "MovingThreeMonthAvgSales": "38916.843333"
                                }
                            ]
                        },
                        "text/html": "<table><tr><th>TransactionMonth</th><th>TotalSales</th><th>MovingThreeMonthAvgSales</th></tr><tr><td>2019-02-28</td><td>14964.79</td><td>14964.790000</td></tr><tr><td>2019-03-31</td><td>20949.45</td><td>17957.120000</td></tr><tr><td>2019-04-30</td><td>17287.15</td><td>17733.796666</td></tr><tr><td>2019-05-31</td><td>24424.98</td><td>20887.193333</td></tr><tr><td>2019-06-30</td><td>27454.37</td><td>23055.500000</td></tr><tr><td>2019-07-31</td><td>27423.94</td><td>26434.430000</td></tr><tr><td>2019-08-31</td><td>26306.96</td><td>27061.756666</td></tr><tr><td>2019-09-30</td><td>28842.81</td><td>27524.570000</td></tr><tr><td>2019-10-31</td><td>29368.16</td><td>28172.643333</td></tr><tr><td>2019-11-30</td><td>29010.85</td><td>29073.940000</td></tr><tr><td>2019-12-31</td><td>31315.30</td><td>29898.103333</td></tr><tr><td>2020-01-31</td><td>37956.78</td><td>32760.976666</td></tr><tr><td>2020-02-29</td><td>33820.10</td><td>34364.060000</td></tr><tr><td>2020-03-31</td><td>44724.33</td><td>38833.736666</td></tr><tr><td>2020-04-30</td><td>31871.41</td><td>36805.280000</td></tr><tr><td>2020-05-31</td><td>35155.72</td><td>37250.486666</td></tr><tr><td>2020-06-30</td><td>35149.96</td><td>34059.030000</td></tr><tr><td>2020-07-31</td><td>41633.89</td><td>37313.190000</td></tr><tr><td>2020-08-31</td><td>47599.20</td><td>41461.016666</td></tr><tr><td>2020-09-30</td><td>43994.26</td><td>44409.116666</td></tr><tr><td>2020-10-31</td><td>46408.37</td><td>46000.610000</td></tr><tr><td>2020-11-30</td><td>42768.71</td><td>44390.446666</td></tr><tr><td>2020-12-31</td><td>53039.45</td><td>47405.510000</td></tr><tr><td>2021-01-31</td><td>55312.48</td><td>50373.546666</td></tr><tr><td>2021-02-28</td><td>54057.65</td><td>54136.526666</td></tr><tr><td>2021-03-31</td><td>51043.98</td><td>53471.370000</td></tr><tr><td>2021-04-30</td><td>52109.81</td><td>52403.813333</td></tr><tr><td>2021-05-31</td><td>49186.36</td><td>50780.050000</td></tr><tr><td>2021-06-30</td><td>44196.52</td><td>48497.563333</td></tr><tr><td>2021-07-31</td><td>40539.18</td><td>44640.686666</td></tr><tr><td>2021-08-31</td><td>40792.58</td><td>41842.760000</td></tr><tr><td>2021-09-30</td><td>33339.35</td><td>38223.703333</td></tr><tr><td>2021-10-31</td><td>40067.79</td><td>38066.573333</td></tr><tr><td>2021-11-30</td><td>37493.90</td><td>36967.013333</td></tr><tr><td>2021-12-31</td><td>39188.84</td><td>38916.843333</td></tr></table>"
                    },
                    "metadata": {}
                }
            ],
            "execution_count": 6
        },
        {
            "cell_type": "markdown",
            "source": [
                "#### Three Month Moving Average Monthly Sales by Product Category - Using Window Function with Partition\n",
                "\n",
                "Trailing Three Month Average Sales by Product Category"
            ],
            "metadata": {
                "language": "sql",
                "azdata_cell_guid": "80d02470-2a0f-40e0-9c56-88144f9fa3c6"
            },
            "attachments": {}
        },
        {
            "cell_type": "code",
            "source": [
                "--CTE to create a table of Total Sales by Month and by Product Category\r\n",
                "WITH MonthlySales AS(\r\n",
                "SELECT \r\n",
                "    c.Category AS Category,\r\n",
                "    EOMONTH(o.OrderDate) AS TransactionMonth, --Use the last day of the month to represent the Month. Since all data is historical do not need to account for midmonth data\r\n",
                "    ROUND(SUM(l.SaleAmount),2) AS Sales, --Sum the Monthly Sales\r\n",
                "    ROUND(SUM(l.SaleAmount)/DAY(EOMONTH(o.OrderDate)),2) AS AvgDailySales\r\n",
                "FROM SalesOrderLines AS l\r\n",
                "    INNER JOIN SalesOrders AS o\r\n",
                "    ON l.OrderID = o.OrderID \r\n",
                "    INNER JOIN DimProducts AS p\r\n",
                "    ON l.ProductID = p.ProductID\r\n",
                "    INNER JOIN DimSubcategories AS sc\r\n",
                "    ON p.SubcategoryID = sc.SubcategoryID\r\n",
                "    INNER JOIN DimCategories AS c\r\n",
                "    ON sc.CategoryID = c.CategoryID\r\n",
                "GROUP BY Category, EOMONTH(o.OrderDate)\r\n",
                ")\r\n",
                "\r\n",
                "-- Caculate a rolling three month average of sales by category\r\n",
                "SELECT  \r\n",
                "    Category,\r\n",
                "    TransactionMonth,\r\n",
                "    SUM(Sales) TotalSales,    \r\n",
                "    AVG(SUM(Sales)) OVER(\r\n",
                "        PARTITION BY Category  -- Divide the data by Category - the avg will be calcuated separately for each category\r\n",
                "        ORDER BY TransactionMonth -- Order the records by transaction month, ensuring the average is calculated chronologically\r\n",
                "        ROWS BETWEEN 2 PRECEDING and CURRENT ROW -- specifies the range of rows to include in the average as 2 preceeding and current row\r\n",
                "    ) AS MovingThreeMonthAvgSales\r\n",
                "\r\n",
                "FROM MonthlySales\r\n",
                "WHERE Category IN ('Grocery','Body Care','Local Love')\r\n",
                "GROUP BY\r\n",
                "    Category,\r\n",
                "    TransactionMonth\r\n",
                "ORDER BY Category, TransactionMonth\r\n",
                ""
            ],
            "metadata": {
                "language": "sql",
                "azdata_cell_guid": "c9235ef0-0a7d-44ad-a536-7d6c1076c9c3",
                "tags": []
            },
            "outputs": [
                {
                    "output_type": "display_data",
                    "data": {
                        "text/html": "(105 rows affected)"
                    },
                    "metadata": {}
                },
                {
                    "output_type": "display_data",
                    "data": {
                        "text/html": "Total execution time: 00:00:00.570"
                    },
                    "metadata": {}
                },
                {
                    "output_type": "execute_result",
                    "execution_count": 7,
                    "data": {
                        "application/vnd.dataresource+json": {
                            "schema": {
                                "fields": [
                                    {
                                        "name": "Category"
                                    },
                                    {
                                        "name": "TransactionMonth"
                                    },
                                    {
                                        "name": "TotalSales"
                                    },
                                    {
                                        "name": "MovingThreeMonthAvgSales"
                                    }
                                ]
                            },
                            "data": [
                                {
                                    "Category": "Body Care",
                                    "TransactionMonth": "2019-02-28",
                                    "TotalSales": "2624.92",
                                    "MovingThreeMonthAvgSales": "2624.920000"
                                },
                                {
                                    "Category": "Body Care",
                                    "TransactionMonth": "2019-03-31",
                                    "TotalSales": "2544.82",
                                    "MovingThreeMonthAvgSales": "2584.870000"
                                },
                                {
                                    "Category": "Body Care",
                                    "TransactionMonth": "2019-04-30",
                                    "TotalSales": "2429.24",
                                    "MovingThreeMonthAvgSales": "2532.993333"
                                },
                                {
                                    "Category": "Body Care",
                                    "TransactionMonth": "2019-05-31",
                                    "TotalSales": "3537.36",
                                    "MovingThreeMonthAvgSales": "2837.140000"
                                },
                                {
                                    "Category": "Body Care",
                                    "TransactionMonth": "2019-06-30",
                                    "TotalSales": "3367.33",
                                    "MovingThreeMonthAvgSales": "3111.310000"
                                },
                                {
                                    "Category": "Body Care",
                                    "TransactionMonth": "2019-07-31",
                                    "TotalSales": "3557.08",
                                    "MovingThreeMonthAvgSales": "3487.256666"
                                },
                                {
                                    "Category": "Body Care",
                                    "TransactionMonth": "2019-08-31",
                                    "TotalSales": "3914.50",
                                    "MovingThreeMonthAvgSales": "3612.970000"
                                },
                                {
                                    "Category": "Body Care",
                                    "TransactionMonth": "2019-09-30",
                                    "TotalSales": "3686.71",
                                    "MovingThreeMonthAvgSales": "3719.430000"
                                },
                                {
                                    "Category": "Body Care",
                                    "TransactionMonth": "2019-10-31",
                                    "TotalSales": "3707.63",
                                    "MovingThreeMonthAvgSales": "3769.613333"
                                },
                                {
                                    "Category": "Body Care",
                                    "TransactionMonth": "2019-11-30",
                                    "TotalSales": "4093.80",
                                    "MovingThreeMonthAvgSales": "3829.380000"
                                },
                                {
                                    "Category": "Body Care",
                                    "TransactionMonth": "2019-12-31",
                                    "TotalSales": "3888.16",
                                    "MovingThreeMonthAvgSales": "3896.530000"
                                },
                                {
                                    "Category": "Body Care",
                                    "TransactionMonth": "2020-01-31",
                                    "TotalSales": "5801.42",
                                    "MovingThreeMonthAvgSales": "4594.460000"
                                },
                                {
                                    "Category": "Body Care",
                                    "TransactionMonth": "2020-02-29",
                                    "TotalSales": "4493.73",
                                    "MovingThreeMonthAvgSales": "4727.770000"
                                },
                                {
                                    "Category": "Body Care",
                                    "TransactionMonth": "2020-03-31",
                                    "TotalSales": "4926.80",
                                    "MovingThreeMonthAvgSales": "5073.983333"
                                },
                                {
                                    "Category": "Body Care",
                                    "TransactionMonth": "2020-04-30",
                                    "TotalSales": "4239.50",
                                    "MovingThreeMonthAvgSales": "4553.343333"
                                },
                                {
                                    "Category": "Body Care",
                                    "TransactionMonth": "2020-05-31",
                                    "TotalSales": "4238.19",
                                    "MovingThreeMonthAvgSales": "4468.163333"
                                },
                                {
                                    "Category": "Body Care",
                                    "TransactionMonth": "2020-06-30",
                                    "TotalSales": "4493.05",
                                    "MovingThreeMonthAvgSales": "4323.580000"
                                },
                                {
                                    "Category": "Body Care",
                                    "TransactionMonth": "2020-07-31",
                                    "TotalSales": "5701.65",
                                    "MovingThreeMonthAvgSales": "4810.963333"
                                },
                                {
                                    "Category": "Body Care",
                                    "TransactionMonth": "2020-08-31",
                                    "TotalSales": "6862.75",
                                    "MovingThreeMonthAvgSales": "5685.816666"
                                },
                                {
                                    "Category": "Body Care",
                                    "TransactionMonth": "2020-09-30",
                                    "TotalSales": "6678.22",
                                    "MovingThreeMonthAvgSales": "6414.206666"
                                },
                                {
                                    "Category": "Body Care",
                                    "TransactionMonth": "2020-10-31",
                                    "TotalSales": "6423.07",
                                    "MovingThreeMonthAvgSales": "6654.680000"
                                },
                                {
                                    "Category": "Body Care",
                                    "TransactionMonth": "2020-11-30",
                                    "TotalSales": "6125.61",
                                    "MovingThreeMonthAvgSales": "6408.966666"
                                },
                                {
                                    "Category": "Body Care",
                                    "TransactionMonth": "2020-12-31",
                                    "TotalSales": "6859.50",
                                    "MovingThreeMonthAvgSales": "6469.393333"
                                },
                                {
                                    "Category": "Body Care",
                                    "TransactionMonth": "2021-01-31",
                                    "TotalSales": "6557.27",
                                    "MovingThreeMonthAvgSales": "6514.126666"
                                },
                                {
                                    "Category": "Body Care",
                                    "TransactionMonth": "2021-02-28",
                                    "TotalSales": "6766.08",
                                    "MovingThreeMonthAvgSales": "6727.616666"
                                },
                                {
                                    "Category": "Body Care",
                                    "TransactionMonth": "2021-03-31",
                                    "TotalSales": "6170.15",
                                    "MovingThreeMonthAvgSales": "6497.833333"
                                },
                                {
                                    "Category": "Body Care",
                                    "TransactionMonth": "2021-04-30",
                                    "TotalSales": "6472.60",
                                    "MovingThreeMonthAvgSales": "6469.610000"
                                },
                                {
                                    "Category": "Body Care",
                                    "TransactionMonth": "2021-05-31",
                                    "TotalSales": "6558.58",
                                    "MovingThreeMonthAvgSales": "6400.443333"
                                },
                                {
                                    "Category": "Body Care",
                                    "TransactionMonth": "2021-06-30",
                                    "TotalSales": "6123.15",
                                    "MovingThreeMonthAvgSales": "6384.776666"
                                },
                                {
                                    "Category": "Body Care",
                                    "TransactionMonth": "2021-07-31",
                                    "TotalSales": "6465.81",
                                    "MovingThreeMonthAvgSales": "6382.513333"
                                },
                                {
                                    "Category": "Body Care",
                                    "TransactionMonth": "2021-08-31",
                                    "TotalSales": "6614.70",
                                    "MovingThreeMonthAvgSales": "6401.220000"
                                },
                                {
                                    "Category": "Body Care",
                                    "TransactionMonth": "2021-09-30",
                                    "TotalSales": "4886.87",
                                    "MovingThreeMonthAvgSales": "5989.126666"
                                },
                                {
                                    "Category": "Body Care",
                                    "TransactionMonth": "2021-10-31",
                                    "TotalSales": "5489.42",
                                    "MovingThreeMonthAvgSales": "5663.663333"
                                },
                                {
                                    "Category": "Body Care",
                                    "TransactionMonth": "2021-11-30",
                                    "TotalSales": "4964.23",
                                    "MovingThreeMonthAvgSales": "5113.506666"
                                },
                                {
                                    "Category": "Body Care",
                                    "TransactionMonth": "2021-12-31",
                                    "TotalSales": "4703.29",
                                    "MovingThreeMonthAvgSales": "5052.313333"
                                },
                                {
                                    "Category": "Grocery",
                                    "TransactionMonth": "2019-02-28",
                                    "TotalSales": "7022.09",
                                    "MovingThreeMonthAvgSales": "7022.090000"
                                },
                                {
                                    "Category": "Grocery",
                                    "TransactionMonth": "2019-03-31",
                                    "TotalSales": "9651.72",
                                    "MovingThreeMonthAvgSales": "8336.905000"
                                },
                                {
                                    "Category": "Grocery",
                                    "TransactionMonth": "2019-04-30",
                                    "TotalSales": "7351.95",
                                    "MovingThreeMonthAvgSales": "8008.586666"
                                },
                                {
                                    "Category": "Grocery",
                                    "TransactionMonth": "2019-05-31",
                                    "TotalSales": "11444.63",
                                    "MovingThreeMonthAvgSales": "9482.766666"
                                },
                                {
                                    "Category": "Grocery",
                                    "TransactionMonth": "2019-06-30",
                                    "TotalSales": "11608.64",
                                    "MovingThreeMonthAvgSales": "10135.073333"
                                },
                                {
                                    "Category": "Grocery",
                                    "TransactionMonth": "2019-07-31",
                                    "TotalSales": "12046.66",
                                    "MovingThreeMonthAvgSales": "11699.976666"
                                },
                                {
                                    "Category": "Grocery",
                                    "TransactionMonth": "2019-08-31",
                                    "TotalSales": "11712.82",
                                    "MovingThreeMonthAvgSales": "11789.373333"
                                },
                                {
                                    "Category": "Grocery",
                                    "TransactionMonth": "2019-09-30",
                                    "TotalSales": "12391.25",
                                    "MovingThreeMonthAvgSales": "12050.243333"
                                },
                                {
                                    "Category": "Grocery",
                                    "TransactionMonth": "2019-10-31",
                                    "TotalSales": "13053.58",
                                    "MovingThreeMonthAvgSales": "12385.883333"
                                },
                                {
                                    "Category": "Grocery",
                                    "TransactionMonth": "2019-11-30",
                                    "TotalSales": "12989.01",
                                    "MovingThreeMonthAvgSales": "12811.280000"
                                },
                                {
                                    "Category": "Grocery",
                                    "TransactionMonth": "2019-12-31",
                                    "TotalSales": "14680.62",
                                    "MovingThreeMonthAvgSales": "13574.403333"
                                },
                                {
                                    "Category": "Grocery",
                                    "TransactionMonth": "2020-01-31",
                                    "TotalSales": "17644.35",
                                    "MovingThreeMonthAvgSales": "15104.660000"
                                },
                                {
                                    "Category": "Grocery",
                                    "TransactionMonth": "2020-02-29",
                                    "TotalSales": "15931.29",
                                    "MovingThreeMonthAvgSales": "16085.420000"
                                },
                                {
                                    "Category": "Grocery",
                                    "TransactionMonth": "2020-03-31",
                                    "TotalSales": "23646.41",
                                    "MovingThreeMonthAvgSales": "19074.016666"
                                },
                                {
                                    "Category": "Grocery",
                                    "TransactionMonth": "2020-04-30",
                                    "TotalSales": "17246.70",
                                    "MovingThreeMonthAvgSales": "18941.466666"
                                },
                                {
                                    "Category": "Grocery",
                                    "TransactionMonth": "2020-05-31",
                                    "TotalSales": "16442.13",
                                    "MovingThreeMonthAvgSales": "19111.746666"
                                },
                                {
                                    "Category": "Grocery",
                                    "TransactionMonth": "2020-06-30",
                                    "TotalSales": "16992.14",
                                    "MovingThreeMonthAvgSales": "16893.656666"
                                },
                                {
                                    "Category": "Grocery",
                                    "TransactionMonth": "2020-07-31",
                                    "TotalSales": "18415.17",
                                    "MovingThreeMonthAvgSales": "17283.146666"
                                },
                                {
                                    "Category": "Grocery",
                                    "TransactionMonth": "2020-08-31",
                                    "TotalSales": "20436.31",
                                    "MovingThreeMonthAvgSales": "18614.540000"
                                },
                                {
                                    "Category": "Grocery",
                                    "TransactionMonth": "2020-09-30",
                                    "TotalSales": "19431.01",
                                    "MovingThreeMonthAvgSales": "19427.496666"
                                },
                                {
                                    "Category": "Grocery",
                                    "TransactionMonth": "2020-10-31",
                                    "TotalSales": "22111.67",
                                    "MovingThreeMonthAvgSales": "20659.663333"
                                },
                                {
                                    "Category": "Grocery",
                                    "TransactionMonth": "2020-11-30",
                                    "TotalSales": "19866.85",
                                    "MovingThreeMonthAvgSales": "20469.843333"
                                },
                                {
                                    "Category": "Grocery",
                                    "TransactionMonth": "2020-12-31",
                                    "TotalSales": "21918.91",
                                    "MovingThreeMonthAvgSales": "21299.143333"
                                },
                                {
                                    "Category": "Grocery",
                                    "TransactionMonth": "2021-01-31",
                                    "TotalSales": "26797.69",
                                    "MovingThreeMonthAvgSales": "22861.150000"
                                },
                                {
                                    "Category": "Grocery",
                                    "TransactionMonth": "2021-02-28",
                                    "TotalSales": "25228.28",
                                    "MovingThreeMonthAvgSales": "24648.293333"
                                },
                                {
                                    "Category": "Grocery",
                                    "TransactionMonth": "2021-03-31",
                                    "TotalSales": "24731.22",
                                    "MovingThreeMonthAvgSales": "25585.730000"
                                },
                                {
                                    "Category": "Grocery",
                                    "TransactionMonth": "2021-04-30",
                                    "TotalSales": "24633.43",
                                    "MovingThreeMonthAvgSales": "24864.310000"
                                },
                                {
                                    "Category": "Grocery",
                                    "TransactionMonth": "2021-05-31",
                                    "TotalSales": "22357.29",
                                    "MovingThreeMonthAvgSales": "23907.313333"
                                },
                                {
                                    "Category": "Grocery",
                                    "TransactionMonth": "2021-06-30",
                                    "TotalSales": "20627.91",
                                    "MovingThreeMonthAvgSales": "22539.543333"
                                },
                                {
                                    "Category": "Grocery",
                                    "TransactionMonth": "2021-07-31",
                                    "TotalSales": "16927.03",
                                    "MovingThreeMonthAvgSales": "19970.743333"
                                },
                                {
                                    "Category": "Grocery",
                                    "TransactionMonth": "2021-08-31",
                                    "TotalSales": "17909.60",
                                    "MovingThreeMonthAvgSales": "18488.180000"
                                },
                                {
                                    "Category": "Grocery",
                                    "TransactionMonth": "2021-09-30",
                                    "TotalSales": "15148.18",
                                    "MovingThreeMonthAvgSales": "16661.603333"
                                },
                                {
                                    "Category": "Grocery",
                                    "TransactionMonth": "2021-10-31",
                                    "TotalSales": "18285.85",
                                    "MovingThreeMonthAvgSales": "17114.543333"
                                },
                                {
                                    "Category": "Grocery",
                                    "TransactionMonth": "2021-11-30",
                                    "TotalSales": "18174.62",
                                    "MovingThreeMonthAvgSales": "17202.883333"
                                },
                                {
                                    "Category": "Grocery",
                                    "TransactionMonth": "2021-12-31",
                                    "TotalSales": "16551.49",
                                    "MovingThreeMonthAvgSales": "17670.653333"
                                },
                                {
                                    "Category": "Local Love",
                                    "TransactionMonth": "2019-02-28",
                                    "TotalSales": "2016.13",
                                    "MovingThreeMonthAvgSales": "2016.130000"
                                },
                                {
                                    "Category": "Local Love",
                                    "TransactionMonth": "2019-03-31",
                                    "TotalSales": "3604.46",
                                    "MovingThreeMonthAvgSales": "2810.295000"
                                },
                                {
                                    "Category": "Local Love",
                                    "TransactionMonth": "2019-04-30",
                                    "TotalSales": "3503.27",
                                    "MovingThreeMonthAvgSales": "3041.286666"
                                },
                                {
                                    "Category": "Local Love",
                                    "TransactionMonth": "2019-05-31",
                                    "TotalSales": "4444.36",
                                    "MovingThreeMonthAvgSales": "3850.696666"
                                },
                                {
                                    "Category": "Local Love",
                                    "TransactionMonth": "2019-06-30",
                                    "TotalSales": "4146.55",
                                    "MovingThreeMonthAvgSales": "4031.393333"
                                },
                                {
                                    "Category": "Local Love",
                                    "TransactionMonth": "2019-07-31",
                                    "TotalSales": "4065.09",
                                    "MovingThreeMonthAvgSales": "4218.666666"
                                },
                                {
                                    "Category": "Local Love",
                                    "TransactionMonth": "2019-08-31",
                                    "TotalSales": "3588.83",
                                    "MovingThreeMonthAvgSales": "3933.490000"
                                },
                                {
                                    "Category": "Local Love",
                                    "TransactionMonth": "2019-09-30",
                                    "TotalSales": "4321.79",
                                    "MovingThreeMonthAvgSales": "3991.903333"
                                },
                                {
                                    "Category": "Local Love",
                                    "TransactionMonth": "2019-10-31",
                                    "TotalSales": "4619.66",
                                    "MovingThreeMonthAvgSales": "4176.760000"
                                },
                                {
                                    "Category": "Local Love",
                                    "TransactionMonth": "2019-11-30",
                                    "TotalSales": "5032.87",
                                    "MovingThreeMonthAvgSales": "4658.106666"
                                },
                                {
                                    "Category": "Local Love",
                                    "TransactionMonth": "2019-12-31",
                                    "TotalSales": "4512.43",
                                    "MovingThreeMonthAvgSales": "4721.653333"
                                },
                                {
                                    "Category": "Local Love",
                                    "TransactionMonth": "2020-01-31",
                                    "TotalSales": "6009.14",
                                    "MovingThreeMonthAvgSales": "5184.813333"
                                },
                                {
                                    "Category": "Local Love",
                                    "TransactionMonth": "2020-02-29",
                                    "TotalSales": "6028.07",
                                    "MovingThreeMonthAvgSales": "5516.546666"
                                },
                                {
                                    "Category": "Local Love",
                                    "TransactionMonth": "2020-03-31",
                                    "TotalSales": "7256.15",
                                    "MovingThreeMonthAvgSales": "6431.120000"
                                },
                                {
                                    "Category": "Local Love",
                                    "TransactionMonth": "2020-04-30",
                                    "TotalSales": "5799.89",
                                    "MovingThreeMonthAvgSales": "6361.370000"
                                },
                                {
                                    "Category": "Local Love",
                                    "TransactionMonth": "2020-05-31",
                                    "TotalSales": "6478.62",
                                    "MovingThreeMonthAvgSales": "6511.553333"
                                },
                                {
                                    "Category": "Local Love",
                                    "TransactionMonth": "2020-06-30",
                                    "TotalSales": "7390.90",
                                    "MovingThreeMonthAvgSales": "6556.470000"
                                },
                                {
                                    "Category": "Local Love",
                                    "TransactionMonth": "2020-07-31",
                                    "TotalSales": "8303.34",
                                    "MovingThreeMonthAvgSales": "7390.953333"
                                },
                                {
                                    "Category": "Local Love",
                                    "TransactionMonth": "2020-08-31",
                                    "TotalSales": "9176.05",
                                    "MovingThreeMonthAvgSales": "8290.096666"
                                },
                                {
                                    "Category": "Local Love",
                                    "TransactionMonth": "2020-09-30",
                                    "TotalSales": "8669.26",
                                    "MovingThreeMonthAvgSales": "8716.216666"
                                },
                                {
                                    "Category": "Local Love",
                                    "TransactionMonth": "2020-10-31",
                                    "TotalSales": "9332.02",
                                    "MovingThreeMonthAvgSales": "9059.110000"
                                },
                                {
                                    "Category": "Local Love",
                                    "TransactionMonth": "2020-11-30",
                                    "TotalSales": "8339.55",
                                    "MovingThreeMonthAvgSales": "8780.276666"
                                },
                                {
                                    "Category": "Local Love",
                                    "TransactionMonth": "2020-12-31",
                                    "TotalSales": "13628.67",
                                    "MovingThreeMonthAvgSales": "10433.413333"
                                },
                                {
                                    "Category": "Local Love",
                                    "TransactionMonth": "2021-01-31",
                                    "TotalSales": "11333.45",
                                    "MovingThreeMonthAvgSales": "11100.556666"
                                },
                                {
                                    "Category": "Local Love",
                                    "TransactionMonth": "2021-02-28",
                                    "TotalSales": "11582.38",
                                    "MovingThreeMonthAvgSales": "12181.500000"
                                },
                                {
                                    "Category": "Local Love",
                                    "TransactionMonth": "2021-03-31",
                                    "TotalSales": "11233.03",
                                    "MovingThreeMonthAvgSales": "11382.953333"
                                },
                                {
                                    "Category": "Local Love",
                                    "TransactionMonth": "2021-04-30",
                                    "TotalSales": "10800.14",
                                    "MovingThreeMonthAvgSales": "11205.183333"
                                },
                                {
                                    "Category": "Local Love",
                                    "TransactionMonth": "2021-05-31",
                                    "TotalSales": "10414.59",
                                    "MovingThreeMonthAvgSales": "10815.920000"
                                },
                                {
                                    "Category": "Local Love",
                                    "TransactionMonth": "2021-06-30",
                                    "TotalSales": "8871.09",
                                    "MovingThreeMonthAvgSales": "10028.606666"
                                },
                                {
                                    "Category": "Local Love",
                                    "TransactionMonth": "2021-07-31",
                                    "TotalSales": "8327.14",
                                    "MovingThreeMonthAvgSales": "9204.273333"
                                },
                                {
                                    "Category": "Local Love",
                                    "TransactionMonth": "2021-08-31",
                                    "TotalSales": "8117.77",
                                    "MovingThreeMonthAvgSales": "8438.666666"
                                },
                                {
                                    "Category": "Local Love",
                                    "TransactionMonth": "2021-09-30",
                                    "TotalSales": "5512.41",
                                    "MovingThreeMonthAvgSales": "7319.106666"
                                },
                                {
                                    "Category": "Local Love",
                                    "TransactionMonth": "2021-10-31",
                                    "TotalSales": "6876.79",
                                    "MovingThreeMonthAvgSales": "6835.656666"
                                },
                                {
                                    "Category": "Local Love",
                                    "TransactionMonth": "2021-11-30",
                                    "TotalSales": "6359.54",
                                    "MovingThreeMonthAvgSales": "6249.580000"
                                },
                                {
                                    "Category": "Local Love",
                                    "TransactionMonth": "2021-12-31",
                                    "TotalSales": "7926.28",
                                    "MovingThreeMonthAvgSales": "7054.203333"
                                }
                            ]
                        },
                        "text/html": "<table><tr><th>Category</th><th>TransactionMonth</th><th>TotalSales</th><th>MovingThreeMonthAvgSales</th></tr><tr><td>Body Care</td><td>2019-02-28</td><td>2624.92</td><td>2624.920000</td></tr><tr><td>Body Care</td><td>2019-03-31</td><td>2544.82</td><td>2584.870000</td></tr><tr><td>Body Care</td><td>2019-04-30</td><td>2429.24</td><td>2532.993333</td></tr><tr><td>Body Care</td><td>2019-05-31</td><td>3537.36</td><td>2837.140000</td></tr><tr><td>Body Care</td><td>2019-06-30</td><td>3367.33</td><td>3111.310000</td></tr><tr><td>Body Care</td><td>2019-07-31</td><td>3557.08</td><td>3487.256666</td></tr><tr><td>Body Care</td><td>2019-08-31</td><td>3914.50</td><td>3612.970000</td></tr><tr><td>Body Care</td><td>2019-09-30</td><td>3686.71</td><td>3719.430000</td></tr><tr><td>Body Care</td><td>2019-10-31</td><td>3707.63</td><td>3769.613333</td></tr><tr><td>Body Care</td><td>2019-11-30</td><td>4093.80</td><td>3829.380000</td></tr><tr><td>Body Care</td><td>2019-12-31</td><td>3888.16</td><td>3896.530000</td></tr><tr><td>Body Care</td><td>2020-01-31</td><td>5801.42</td><td>4594.460000</td></tr><tr><td>Body Care</td><td>2020-02-29</td><td>4493.73</td><td>4727.770000</td></tr><tr><td>Body Care</td><td>2020-03-31</td><td>4926.80</td><td>5073.983333</td></tr><tr><td>Body Care</td><td>2020-04-30</td><td>4239.50</td><td>4553.343333</td></tr><tr><td>Body Care</td><td>2020-05-31</td><td>4238.19</td><td>4468.163333</td></tr><tr><td>Body Care</td><td>2020-06-30</td><td>4493.05</td><td>4323.580000</td></tr><tr><td>Body Care</td><td>2020-07-31</td><td>5701.65</td><td>4810.963333</td></tr><tr><td>Body Care</td><td>2020-08-31</td><td>6862.75</td><td>5685.816666</td></tr><tr><td>Body Care</td><td>2020-09-30</td><td>6678.22</td><td>6414.206666</td></tr><tr><td>Body Care</td><td>2020-10-31</td><td>6423.07</td><td>6654.680000</td></tr><tr><td>Body Care</td><td>2020-11-30</td><td>6125.61</td><td>6408.966666</td></tr><tr><td>Body Care</td><td>2020-12-31</td><td>6859.50</td><td>6469.393333</td></tr><tr><td>Body Care</td><td>2021-01-31</td><td>6557.27</td><td>6514.126666</td></tr><tr><td>Body Care</td><td>2021-02-28</td><td>6766.08</td><td>6727.616666</td></tr><tr><td>Body Care</td><td>2021-03-31</td><td>6170.15</td><td>6497.833333</td></tr><tr><td>Body Care</td><td>2021-04-30</td><td>6472.60</td><td>6469.610000</td></tr><tr><td>Body Care</td><td>2021-05-31</td><td>6558.58</td><td>6400.443333</td></tr><tr><td>Body Care</td><td>2021-06-30</td><td>6123.15</td><td>6384.776666</td></tr><tr><td>Body Care</td><td>2021-07-31</td><td>6465.81</td><td>6382.513333</td></tr><tr><td>Body Care</td><td>2021-08-31</td><td>6614.70</td><td>6401.220000</td></tr><tr><td>Body Care</td><td>2021-09-30</td><td>4886.87</td><td>5989.126666</td></tr><tr><td>Body Care</td><td>2021-10-31</td><td>5489.42</td><td>5663.663333</td></tr><tr><td>Body Care</td><td>2021-11-30</td><td>4964.23</td><td>5113.506666</td></tr><tr><td>Body Care</td><td>2021-12-31</td><td>4703.29</td><td>5052.313333</td></tr><tr><td>Grocery</td><td>2019-02-28</td><td>7022.09</td><td>7022.090000</td></tr><tr><td>Grocery</td><td>2019-03-31</td><td>9651.72</td><td>8336.905000</td></tr><tr><td>Grocery</td><td>2019-04-30</td><td>7351.95</td><td>8008.586666</td></tr><tr><td>Grocery</td><td>2019-05-31</td><td>11444.63</td><td>9482.766666</td></tr><tr><td>Grocery</td><td>2019-06-30</td><td>11608.64</td><td>10135.073333</td></tr><tr><td>Grocery</td><td>2019-07-31</td><td>12046.66</td><td>11699.976666</td></tr><tr><td>Grocery</td><td>2019-08-31</td><td>11712.82</td><td>11789.373333</td></tr><tr><td>Grocery</td><td>2019-09-30</td><td>12391.25</td><td>12050.243333</td></tr><tr><td>Grocery</td><td>2019-10-31</td><td>13053.58</td><td>12385.883333</td></tr><tr><td>Grocery</td><td>2019-11-30</td><td>12989.01</td><td>12811.280000</td></tr><tr><td>Grocery</td><td>2019-12-31</td><td>14680.62</td><td>13574.403333</td></tr><tr><td>Grocery</td><td>2020-01-31</td><td>17644.35</td><td>15104.660000</td></tr><tr><td>Grocery</td><td>2020-02-29</td><td>15931.29</td><td>16085.420000</td></tr><tr><td>Grocery</td><td>2020-03-31</td><td>23646.41</td><td>19074.016666</td></tr><tr><td>Grocery</td><td>2020-04-30</td><td>17246.70</td><td>18941.466666</td></tr><tr><td>Grocery</td><td>2020-05-31</td><td>16442.13</td><td>19111.746666</td></tr><tr><td>Grocery</td><td>2020-06-30</td><td>16992.14</td><td>16893.656666</td></tr><tr><td>Grocery</td><td>2020-07-31</td><td>18415.17</td><td>17283.146666</td></tr><tr><td>Grocery</td><td>2020-08-31</td><td>20436.31</td><td>18614.540000</td></tr><tr><td>Grocery</td><td>2020-09-30</td><td>19431.01</td><td>19427.496666</td></tr><tr><td>Grocery</td><td>2020-10-31</td><td>22111.67</td><td>20659.663333</td></tr><tr><td>Grocery</td><td>2020-11-30</td><td>19866.85</td><td>20469.843333</td></tr><tr><td>Grocery</td><td>2020-12-31</td><td>21918.91</td><td>21299.143333</td></tr><tr><td>Grocery</td><td>2021-01-31</td><td>26797.69</td><td>22861.150000</td></tr><tr><td>Grocery</td><td>2021-02-28</td><td>25228.28</td><td>24648.293333</td></tr><tr><td>Grocery</td><td>2021-03-31</td><td>24731.22</td><td>25585.730000</td></tr><tr><td>Grocery</td><td>2021-04-30</td><td>24633.43</td><td>24864.310000</td></tr><tr><td>Grocery</td><td>2021-05-31</td><td>22357.29</td><td>23907.313333</td></tr><tr><td>Grocery</td><td>2021-06-30</td><td>20627.91</td><td>22539.543333</td></tr><tr><td>Grocery</td><td>2021-07-31</td><td>16927.03</td><td>19970.743333</td></tr><tr><td>Grocery</td><td>2021-08-31</td><td>17909.60</td><td>18488.180000</td></tr><tr><td>Grocery</td><td>2021-09-30</td><td>15148.18</td><td>16661.603333</td></tr><tr><td>Grocery</td><td>2021-10-31</td><td>18285.85</td><td>17114.543333</td></tr><tr><td>Grocery</td><td>2021-11-30</td><td>18174.62</td><td>17202.883333</td></tr><tr><td>Grocery</td><td>2021-12-31</td><td>16551.49</td><td>17670.653333</td></tr><tr><td>Local Love</td><td>2019-02-28</td><td>2016.13</td><td>2016.130000</td></tr><tr><td>Local Love</td><td>2019-03-31</td><td>3604.46</td><td>2810.295000</td></tr><tr><td>Local Love</td><td>2019-04-30</td><td>3503.27</td><td>3041.286666</td></tr><tr><td>Local Love</td><td>2019-05-31</td><td>4444.36</td><td>3850.696666</td></tr><tr><td>Local Love</td><td>2019-06-30</td><td>4146.55</td><td>4031.393333</td></tr><tr><td>Local Love</td><td>2019-07-31</td><td>4065.09</td><td>4218.666666</td></tr><tr><td>Local Love</td><td>2019-08-31</td><td>3588.83</td><td>3933.490000</td></tr><tr><td>Local Love</td><td>2019-09-30</td><td>4321.79</td><td>3991.903333</td></tr><tr><td>Local Love</td><td>2019-10-31</td><td>4619.66</td><td>4176.760000</td></tr><tr><td>Local Love</td><td>2019-11-30</td><td>5032.87</td><td>4658.106666</td></tr><tr><td>Local Love</td><td>2019-12-31</td><td>4512.43</td><td>4721.653333</td></tr><tr><td>Local Love</td><td>2020-01-31</td><td>6009.14</td><td>5184.813333</td></tr><tr><td>Local Love</td><td>2020-02-29</td><td>6028.07</td><td>5516.546666</td></tr><tr><td>Local Love</td><td>2020-03-31</td><td>7256.15</td><td>6431.120000</td></tr><tr><td>Local Love</td><td>2020-04-30</td><td>5799.89</td><td>6361.370000</td></tr><tr><td>Local Love</td><td>2020-05-31</td><td>6478.62</td><td>6511.553333</td></tr><tr><td>Local Love</td><td>2020-06-30</td><td>7390.90</td><td>6556.470000</td></tr><tr><td>Local Love</td><td>2020-07-31</td><td>8303.34</td><td>7390.953333</td></tr><tr><td>Local Love</td><td>2020-08-31</td><td>9176.05</td><td>8290.096666</td></tr><tr><td>Local Love</td><td>2020-09-30</td><td>8669.26</td><td>8716.216666</td></tr><tr><td>Local Love</td><td>2020-10-31</td><td>9332.02</td><td>9059.110000</td></tr><tr><td>Local Love</td><td>2020-11-30</td><td>8339.55</td><td>8780.276666</td></tr><tr><td>Local Love</td><td>2020-12-31</td><td>13628.67</td><td>10433.413333</td></tr><tr><td>Local Love</td><td>2021-01-31</td><td>11333.45</td><td>11100.556666</td></tr><tr><td>Local Love</td><td>2021-02-28</td><td>11582.38</td><td>12181.500000</td></tr><tr><td>Local Love</td><td>2021-03-31</td><td>11233.03</td><td>11382.953333</td></tr><tr><td>Local Love</td><td>2021-04-30</td><td>10800.14</td><td>11205.183333</td></tr><tr><td>Local Love</td><td>2021-05-31</td><td>10414.59</td><td>10815.920000</td></tr><tr><td>Local Love</td><td>2021-06-30</td><td>8871.09</td><td>10028.606666</td></tr><tr><td>Local Love</td><td>2021-07-31</td><td>8327.14</td><td>9204.273333</td></tr><tr><td>Local Love</td><td>2021-08-31</td><td>8117.77</td><td>8438.666666</td></tr><tr><td>Local Love</td><td>2021-09-30</td><td>5512.41</td><td>7319.106666</td></tr><tr><td>Local Love</td><td>2021-10-31</td><td>6876.79</td><td>6835.656666</td></tr><tr><td>Local Love</td><td>2021-11-30</td><td>6359.54</td><td>6249.580000</td></tr><tr><td>Local Love</td><td>2021-12-31</td><td>7926.28</td><td>7054.203333</td></tr></table>"
                    },
                    "metadata": {}
                }
            ],
            "execution_count": 7
        },
        {
            "cell_type": "markdown",
            "source": [
                "## Product Analysis"
            ],
            "metadata": {
                "language": "sql",
                "azdata_cell_guid": "5c2c7b6c-bcb3-4f18-83a3-44b954c5698b"
            },
            "attachments": {}
        },
        {
            "cell_type": "markdown",
            "source": [
                "#### Top Selling Product Categories and % of Total Revenue"
            ],
            "metadata": {
                "language": "sql",
                "azdata_cell_guid": "35fb083f-8015-4c87-a6b4-a5456023702d"
            },
            "attachments": {}
        },
        {
            "cell_type": "code",
            "source": [
                "SELECT \r\n",
                "    c.Category,\r\n",
                "    SUM(l.SaleAmount) AS TotalSales,\r\n",
                "    SUM(l.SaleAmount)/\r\n",
                "        (SELECT SUM(l.SaleAmount)\r\n",
                "            FROM SalesOrderLines AS l) AS PctOfTotalSales,\r\n",
                "    SUM(l.PoundsSold) AS Pounds,\r\n",
                "    SUM(l.PoundsSold)/ (SELECT SUM(PoundsSold) FROM SalesOrderLines) As PctofTotalPounds\r\n",
                "        \r\n",
                "FROM SalesOrderLines AS l\r\n",
                "    INNER JOIN DimProducts AS p\r\n",
                "    ON l.ProductID = p.ProductID\r\n",
                "    INNER JOIN DimSubcategories AS sc\r\n",
                "    ON p.SubcategoryID = sc.SubcategoryID\r\n",
                "    INNER JOIN DimCategories AS c\r\n",
                "    ON sc.CategoryID = c.CategoryID\r\n",
                "\r\n",
                "GROUP BY ROLLUP(c.Category)\r\n",
                "ORDER BY SUM(l.SaleAmount) DESC"
            ],
            "metadata": {
                "language": "sql",
                "azdata_cell_guid": "0260f423-f0f1-4758-a174-afc407933073",
                "tags": []
            },
            "outputs": [
                {
                    "output_type": "display_data",
                    "data": {
                        "text/html": "(14 rows affected)"
                    },
                    "metadata": {}
                },
                {
                    "output_type": "display_data",
                    "data": {
                        "text/html": "Total execution time: 00:00:00.280"
                    },
                    "metadata": {}
                },
                {
                    "output_type": "execute_result",
                    "execution_count": 13,
                    "data": {
                        "application/vnd.dataresource+json": {
                            "schema": {
                                "fields": [
                                    {
                                        "name": "Category"
                                    },
                                    {
                                        "name": "TotalSales"
                                    },
                                    {
                                        "name": "PctOfTotalSales"
                                    },
                                    {
                                        "name": "Pounds"
                                    },
                                    {
                                        "name": "PctofTotalPounds"
                                    }
                                ]
                            },
                            "data": [
                                {
                                    "Category": "NULL",
                                    "TotalSales": "1308799.38",
                                    "PctOfTotalSales": "1.000000",
                                    "Pounds": "200821.7646",
                                    "PctofTotalPounds": "1.000000"
                                },
                                {
                                    "Category": "Grocery",
                                    "TotalSales": "601408.50",
                                    "PctOfTotalSales": "0.459511",
                                    "Pounds": "113692.8352",
                                    "PctofTotalPounds": "0.566138"
                                },
                                {
                                    "Category": "Local Love",
                                    "TotalSales": "247621.71",
                                    "PctOfTotalSales": "0.189197",
                                    "Pounds": "22297.8726",
                                    "PctofTotalPounds": "0.111033"
                                },
                                {
                                    "Category": "Body Care",
                                    "TotalSales": "175967.19",
                                    "PctOfTotalSales": "0.134449",
                                    "Pounds": "18400.5515",
                                    "PctofTotalPounds": "0.091626"
                                },
                                {
                                    "Category": "Cleaning Supply",
                                    "TotalSales": "102554.17",
                                    "PctOfTotalSales": "0.078357",
                                    "Pounds": "34619.2360",
                                    "PctofTotalPounds": "0.172387"
                                },
                                {
                                    "Category": "Whls_Grocery",
                                    "TotalSales": "54745.46",
                                    "PctOfTotalSales": "0.041828",
                                    "Pounds": "158.9267",
                                    "PctofTotalPounds": "0.000791"
                                },
                                {
                                    "Category": "Accessories",
                                    "TotalSales": "48086.01",
                                    "PctOfTotalSales": "0.036740",
                                    "Pounds": "0.0000",
                                    "PctofTotalPounds": "0.000000"
                                },
                                {
                                    "Category": "Containers",
                                    "TotalSales": "32241.63",
                                    "PctOfTotalSales": "0.024634",
                                    "Pounds": "0.0000",
                                    "PctofTotalPounds": "0.000000"
                                },
                                {
                                    "Category": "Fresh Produce",
                                    "TotalSales": "31740.42",
                                    "PctOfTotalSales": "0.024251",
                                    "Pounds": "11591.3426",
                                    "PctofTotalPounds": "0.057719"
                                },
                                {
                                    "Category": "Grab & Go",
                                    "TotalSales": "8398.09",
                                    "PctOfTotalSales": "0.006416",
                                    "Pounds": "0.0000",
                                    "PctofTotalPounds": "0.000000"
                                },
                                {
                                    "Category": "Gift Card",
                                    "TotalSales": "5014.71",
                                    "PctOfTotalSales": "0.003831",
                                    "Pounds": "0.0000",
                                    "PctofTotalPounds": "0.000000"
                                },
                                {
                                    "Category": "Holiday Popup",
                                    "TotalSales": "715.00",
                                    "PctOfTotalSales": "0.000546",
                                    "Pounds": "61.0000",
                                    "PctofTotalPounds": "0.000303"
                                },
                                {
                                    "Category": "Whls_Selling Supplies",
                                    "TotalSales": "246.49",
                                    "PctOfTotalSales": "0.000188",
                                    "Pounds": "0.0000",
                                    "PctofTotalPounds": "0.000000"
                                },
                                {
                                    "Category": "Events",
                                    "TotalSales": "60.00",
                                    "PctOfTotalSales": "0.000045",
                                    "Pounds": "0.0000",
                                    "PctofTotalPounds": "0.000000"
                                }
                            ]
                        },
                        "text/html": "<table><tr><th>Category</th><th>TotalSales</th><th>PctOfTotalSales</th><th>Pounds</th><th>PctofTotalPounds</th></tr><tr><td>NULL</td><td>1308799.38</td><td>1.000000</td><td>200821.7646</td><td>1.000000</td></tr><tr><td>Grocery</td><td>601408.50</td><td>0.459511</td><td>113692.8352</td><td>0.566138</td></tr><tr><td>Local Love</td><td>247621.71</td><td>0.189197</td><td>22297.8726</td><td>0.111033</td></tr><tr><td>Body Care</td><td>175967.19</td><td>0.134449</td><td>18400.5515</td><td>0.091626</td></tr><tr><td>Cleaning Supply</td><td>102554.17</td><td>0.078357</td><td>34619.2360</td><td>0.172387</td></tr><tr><td>Whls_Grocery</td><td>54745.46</td><td>0.041828</td><td>158.9267</td><td>0.000791</td></tr><tr><td>Accessories</td><td>48086.01</td><td>0.036740</td><td>0.0000</td><td>0.000000</td></tr><tr><td>Containers</td><td>32241.63</td><td>0.024634</td><td>0.0000</td><td>0.000000</td></tr><tr><td>Fresh Produce</td><td>31740.42</td><td>0.024251</td><td>11591.3426</td><td>0.057719</td></tr><tr><td>Grab &amp; Go</td><td>8398.09</td><td>0.006416</td><td>0.0000</td><td>0.000000</td></tr><tr><td>Gift Card</td><td>5014.71</td><td>0.003831</td><td>0.0000</td><td>0.000000</td></tr><tr><td>Holiday Popup</td><td>715.00</td><td>0.000546</td><td>61.0000</td><td>0.000303</td></tr><tr><td>Whls_Selling Supplies</td><td>246.49</td><td>0.000188</td><td>0.0000</td><td>0.000000</td></tr><tr><td>Events</td><td>60.00</td><td>0.000045</td><td>0.0000</td><td>0.000000</td></tr></table>"
                    },
                    "metadata": {}
                }
            ],
            "execution_count": 13
        },
        {
            "cell_type": "markdown",
            "source": [
                "#### Top Selling Product Subcategories and % of Total Revenue"
            ],
            "metadata": {
                "language": "sql",
                "azdata_cell_guid": "63e717be-1198-413f-8fdd-20ab3cd7bb9b"
            },
            "attachments": {}
        },
        {
            "cell_type": "code",
            "source": [
                "SELECT TOP (10)\r\n",
                "    sc.Subcategory,\r\n",
                "    c.Category,\r\n",
                "    SUM(l.SaleAmount) AS TotalSales,\r\n",
                "    SUM(l.SaleAmount)/\r\n",
                "        (SELECT SUM(l.SaleAmount)\r\n",
                "            FROM SalesOrderLines AS l) AS PctTotalSales,\r\n",
                "    SUM(l.PoundsSold) AS PoundsSold,\r\n",
                "    SUM(l.PoundsSold) / (SELECT SUM(PoundsSold) FROM SalesOrderLines) AS PctTotalPounds\r\n",
                "\r\n",
                "FROM SalesOrderLines AS l\r\n",
                "    INNER JOIN DimProducts AS p\r\n",
                "    ON l.ProductID = p.ProductID\r\n",
                "    INNER JOIN DimSubcategories AS sc\r\n",
                "    ON p.SubcategoryID = sc.SubcategoryID\r\n",
                "    INNER JOIN DimCategories AS c\r\n",
                "    ON sc.CategoryID = c.CategoryID\r\n",
                "\r\n",
                "GROUP BY sc.Subcategory, c.Category\r\n",
                "ORDER BY SUM(l.SaleAmount) DESC"
            ],
            "metadata": {
                "language": "sql",
                "azdata_cell_guid": "a9eafc57-ded1-4077-929d-25a6d7bef7bf",
                "tags": []
            },
            "outputs": [
                {
                    "output_type": "display_data",
                    "data": {
                        "text/html": "(10 rows affected)"
                    },
                    "metadata": {}
                },
                {
                    "output_type": "display_data",
                    "data": {
                        "text/html": "Total execution time: 00:00:00.302"
                    },
                    "metadata": {}
                },
                {
                    "output_type": "execute_result",
                    "execution_count": 14,
                    "data": {
                        "application/vnd.dataresource+json": {
                            "schema": {
                                "fields": [
                                    {
                                        "name": "Subcategory"
                                    },
                                    {
                                        "name": "Category"
                                    },
                                    {
                                        "name": "TotalSales"
                                    },
                                    {
                                        "name": "PctTotalSales"
                                    },
                                    {
                                        "name": "PoundsSold"
                                    },
                                    {
                                        "name": "PctTotalPounds"
                                    }
                                ]
                            },
                            "data": [
                                {
                                    "Subcategory": "Nuts",
                                    "Category": "Grocery",
                                    "TotalSales": "98596.61",
                                    "PctTotalSales": "0.075333",
                                    "PoundsSold": "10184.2660",
                                    "PctTotalPounds": "0.050712"
                                },
                                {
                                    "Subcategory": "Body Cleansing",
                                    "Category": "Body Care",
                                    "TotalSales": "70617.06",
                                    "PctTotalSales": "0.053955",
                                    "PoundsSold": "9056.6701",
                                    "PctTotalPounds": "0.045098"
                                },
                                {
                                    "Subcategory": "Seeds And Grains",
                                    "Category": "Grocery",
                                    "TotalSales": "67660.29",
                                    "PctTotalSales": "0.051696",
                                    "PoundsSold": "22878.4230",
                                    "PctTotalPounds": "0.113924"
                                },
                                {
                                    "Subcategory": "Oils",
                                    "Category": "Grocery",
                                    "TotalSales": "66665.40",
                                    "PctTotalSales": "0.050936",
                                    "PoundsSold": "9088.6121",
                                    "PctTotalPounds": "0.045257"
                                },
                                {
                                    "Subcategory": "Laundry Cleaners",
                                    "Category": "Cleaning Supply",
                                    "TotalSales": "54217.30",
                                    "PctTotalSales": "0.041425",
                                    "PoundsSold": "15378.9517",
                                    "PctTotalPounds": "0.076580"
                                },
                                {
                                    "Subcategory": "Dried Fruits",
                                    "Category": "Grocery",
                                    "TotalSales": "42389.19",
                                    "PctTotalSales": "0.032387",
                                    "PoundsSold": "4954.7091",
                                    "PctTotalPounds": "0.024672"
                                },
                                {
                                    "Subcategory": "Sweeteners",
                                    "Category": "Grocery",
                                    "TotalSales": "42159.78",
                                    "PctTotalSales": "0.032212",
                                    "PoundsSold": "10885.4690",
                                    "PctTotalPounds": "0.054204"
                                },
                                {
                                    "Subcategory": "Kombucha",
                                    "Category": "Local Love",
                                    "TotalSales": "41918.87",
                                    "PctTotalSales": "0.032028",
                                    "PoundsSold": "9299.1563",
                                    "PctTotalPounds": "0.046305"
                                },
                                {
                                    "Subcategory": "Hair Care",
                                    "Category": "Body Care",
                                    "TotalSales": "40704.96",
                                    "PctTotalSales": "0.031100",
                                    "PoundsSold": "4818.4105",
                                    "PctTotalPounds": "0.023993"
                                },
                                {
                                    "Subcategory": "Dairy",
                                    "Category": "Grocery",
                                    "TotalSales": "39807.90",
                                    "PctTotalSales": "0.030415",
                                    "PoundsSold": "290.0458",
                                    "PctTotalPounds": "0.001444"
                                }
                            ]
                        },
                        "text/html": "<table><tr><th>Subcategory</th><th>Category</th><th>TotalSales</th><th>PctTotalSales</th><th>PoundsSold</th><th>PctTotalPounds</th></tr><tr><td>Nuts</td><td>Grocery</td><td>98596.61</td><td>0.075333</td><td>10184.2660</td><td>0.050712</td></tr><tr><td>Body Cleansing</td><td>Body Care</td><td>70617.06</td><td>0.053955</td><td>9056.6701</td><td>0.045098</td></tr><tr><td>Seeds And Grains</td><td>Grocery</td><td>67660.29</td><td>0.051696</td><td>22878.4230</td><td>0.113924</td></tr><tr><td>Oils</td><td>Grocery</td><td>66665.40</td><td>0.050936</td><td>9088.6121</td><td>0.045257</td></tr><tr><td>Laundry Cleaners</td><td>Cleaning Supply</td><td>54217.30</td><td>0.041425</td><td>15378.9517</td><td>0.076580</td></tr><tr><td>Dried Fruits</td><td>Grocery</td><td>42389.19</td><td>0.032387</td><td>4954.7091</td><td>0.024672</td></tr><tr><td>Sweeteners</td><td>Grocery</td><td>42159.78</td><td>0.032212</td><td>10885.4690</td><td>0.054204</td></tr><tr><td>Kombucha</td><td>Local Love</td><td>41918.87</td><td>0.032028</td><td>9299.1563</td><td>0.046305</td></tr><tr><td>Hair Care</td><td>Body Care</td><td>40704.96</td><td>0.031100</td><td>4818.4105</td><td>0.023993</td></tr><tr><td>Dairy</td><td>Grocery</td><td>39807.90</td><td>0.030415</td><td>290.0458</td><td>0.001444</td></tr></table>"
                    },
                    "metadata": {}
                }
            ],
            "execution_count": 14
        },
        {
            "cell_type": "markdown",
            "source": [
                "#### Top Selling Products and % of Total Revenue"
            ],
            "metadata": {
                "language": "sql",
                "azdata_cell_guid": "3574f7f6-e3ce-4b68-b454-66b873f79e1f"
            },
            "attachments": {}
        },
        {
            "cell_type": "code",
            "source": [
                "SELECT TOP(20)\r\n",
                "    p.ProductName,\r\n",
                "    sc.Subcategory,\r\n",
                "    c.Category,\r\n",
                "    SUM(l.SaleAmount) AS TotalSales,\r\n",
                "    \r\n",
                "    SUM(l.SaleAmount)/\r\n",
                "        (SELECT SUM(l.SaleAmount)\r\n",
                "            FROM SalesOrderLines AS l) AS PctOfTotal,\r\n",
                "\r\n",
                "    SUM(l.PoundsSold) AS PoundsSold,\r\n",
                "\r\n",
                "    SUM(l.PoundsSold)/\r\n",
                "        (SELECT SUM(l.PoundsSold)\r\n",
                "            FROM SalesOrderLines AS l) AS PctOfTotalPounds\r\n",
                "        \r\n",
                "\r\n",
                "FROM SalesOrderLines AS l\r\n",
                "    INNER JOIN DimProducts AS p\r\n",
                "    ON l.ProductID = p.ProductID\r\n",
                "    LEFT JOIN DimSubcategories AS sc\r\n",
                "    ON p.SubcategoryID = sc.SubcategoryID\r\n",
                "    LEFT JOIN DimCategories AS c\r\n",
                "    ON sc.CategoryID = c.CategoryID\r\n",
                "\r\n",
                "GROUP BY p.ProductName, sc.Subcategory, c.Category\r\n",
                "ORDER BY SUM(l.SaleAmount) DESC    \r\n",
                ""
            ],
            "metadata": {
                "language": "sql",
                "azdata_cell_guid": "b97eabc7-d13a-4f50-9d5c-1ee1c0ac2ad4",
                "tags": []
            },
            "outputs": [
                {
                    "output_type": "display_data",
                    "data": {
                        "text/html": "(20 rows affected)"
                    },
                    "metadata": {}
                },
                {
                    "output_type": "display_data",
                    "data": {
                        "text/html": "Total execution time: 00:00:00.336"
                    },
                    "metadata": {}
                },
                {
                    "output_type": "execute_result",
                    "execution_count": 16,
                    "data": {
                        "application/vnd.dataresource+json": {
                            "schema": {
                                "fields": [
                                    {
                                        "name": "ProductName"
                                    },
                                    {
                                        "name": "Subcategory"
                                    },
                                    {
                                        "name": "Category"
                                    },
                                    {
                                        "name": "TotalSales"
                                    },
                                    {
                                        "name": "PctOfTotal"
                                    },
                                    {
                                        "name": "PoundsSold"
                                    },
                                    {
                                        "name": "PctOfTotalPounds"
                                    }
                                ]
                            },
                            "data": [
                                {
                                    "ProductName": "Olive Oil - Extra Virgin ORG",
                                    "Subcategory": "Oils",
                                    "Category": "Grocery",
                                    "TotalSales": "45039.15",
                                    "PctOfTotal": "0.034412",
                                    "PoundsSold": "6536.8858",
                                    "PctOfTotalPounds": "0.032550"
                                },
                                {
                                    "ProductName": "Coffee - The Bean Whole",
                                    "Subcategory": "The Bean Whole",
                                    "Category": "Local Love",
                                    "TotalSales": "35283.34",
                                    "PctOfTotal": "0.026958",
                                    "PoundsSold": "2220.4735",
                                    "PctOfTotalPounds": "0.011056"
                                },
                                {
                                    "ProductName": "CRU Kombucha",
                                    "Subcategory": "Kombucha",
                                    "Category": "Local Love",
                                    "TotalSales": "28571.28",
                                    "PctOfTotal": "0.021830",
                                    "PoundsSold": "6613.7230",
                                    "PctOfTotalPounds": "0.032933"
                                },
                                {
                                    "ProductName": "Raw Cashews ORG",
                                    "Subcategory": "Nuts",
                                    "Category": "Grocery",
                                    "TotalSales": "23603.48",
                                    "PctOfTotal": "0.018034",
                                    "PoundsSold": "2109.3352",
                                    "PctOfTotalPounds": "0.010503"
                                },
                                {
                                    "ProductName": "Coffee - Hugo Coffee",
                                    "Subcategory": "Hugo Coffee",
                                    "Category": "Local Love",
                                    "TotalSales": "23451.72",
                                    "PctOfTotal": "0.017918",
                                    "PoundsSold": "1688.3915",
                                    "PctOfTotalPounds": "0.008407"
                                },
                                {
                                    "ProductName": "Maple Syrup ORG",
                                    "Subcategory": "Sweeteners",
                                    "Category": "Grocery",
                                    "TotalSales": "22980.91",
                                    "PctOfTotal": "0.017558",
                                    "PoundsSold": "2233.3252",
                                    "PctOfTotalPounds": "0.011120"
                                },
                                {
                                    "ProductName": "Raw Almonds ORG",
                                    "Subcategory": "Nuts",
                                    "Category": "Grocery",
                                    "TotalSales": "20475.71",
                                    "PctOfTotal": "0.015644",
                                    "PoundsSold": "1675.5883",
                                    "PctOfTotalPounds": "0.008343"
                                },
                                {
                                    "ProductName": "Eggs ORG",
                                    "Subcategory": "Dairy",
                                    "Category": "Grocery",
                                    "TotalSales": "20091.05",
                                    "PctOfTotal": "0.015350",
                                    "PoundsSold": "0.0000",
                                    "PctOfTotalPounds": "0.000000"
                                },
                                {
                                    "ProductName": "Sapadilla Hand Soap",
                                    "Subcategory": "Body Cleansing",
                                    "Category": "Body Care",
                                    "TotalSales": "19389.01",
                                    "PctOfTotal": "0.014814",
                                    "PoundsSold": "3188.9807",
                                    "PctOfTotalPounds": "0.015879"
                                },
                                {
                                    "ProductName": "Milk Honey Yogurt",
                                    "Subcategory": "Milk Honey Yogurt",
                                    "Category": "Local Love",
                                    "TotalSales": "18611.99",
                                    "PctOfTotal": "0.014220",
                                    "PoundsSold": "3159.9311",
                                    "PctOfTotalPounds": "0.015735"
                                },
                                {
                                    "ProductName": "Dropps Dishwasher Pods",
                                    "Subcategory": "Dishsoaps",
                                    "Category": "Cleaning Supply",
                                    "TotalSales": "18019.85",
                                    "PctOfTotal": "0.013768",
                                    "PoundsSold": "1696.7912",
                                    "PctOfTotalPounds": "0.008449"
                                },
                                {
                                    "ProductName": "Almond Butter / Diced Almonds",
                                    "Subcategory": "Nuts",
                                    "Category": "Grocery",
                                    "TotalSales": "17860.43",
                                    "PctOfTotal": "0.013646",
                                    "PoundsSold": "2356.2550",
                                    "PctOfTotalPounds": "0.011733"
                                },
                                {
                                    "ProductName": "EcosPro Laundry Detergent - Magnolia Lily",
                                    "Subcategory": "Laundry Cleaners",
                                    "Category": "Cleaning Supply",
                                    "TotalSales": "17822.27",
                                    "PctOfTotal": "0.013617",
                                    "PoundsSold": "7921.0077",
                                    "PctOfTotalPounds": "0.039442"
                                },
                                {
                                    "ProductName": "WHLS- Lightlife Sausage - Case of 12",
                                    "Subcategory": "Meat Alternatives",
                                    "Category": "Whls_Grocery",
                                    "TotalSales": "17087.42",
                                    "PctOfTotal": "0.013055",
                                    "PoundsSold": "0.0000",
                                    "PctOfTotalPounds": "0.000000"
                                },
                                {
                                    "ProductName": "Dried Mango Cheeks ORG",
                                    "Subcategory": "Dried Fruits",
                                    "Category": "Grocery",
                                    "TotalSales": "14801.95",
                                    "PctOfTotal": "0.011309",
                                    "PoundsSold": "1217.2658",
                                    "PctOfTotalPounds": "0.006061"
                                },
                                {
                                    "ProductName": "Prin Ya Vegan Custard",
                                    "Subcategory": "Desserts",
                                    "Category": "Local Love",
                                    "TotalSales": "13279.56",
                                    "PctOfTotal": "0.010146",
                                    "PoundsSold": "0.0000",
                                    "PctOfTotalPounds": "0.000000"
                                },
                                {
                                    "ProductName": "Dropps Laundry Pods",
                                    "Subcategory": "Laundry Cleaners",
                                    "Category": "Cleaning Supply",
                                    "TotalSales": "13093.78",
                                    "PctOfTotal": "0.010004",
                                    "PoundsSold": "1260.2290",
                                    "PctOfTotalPounds": "0.006275"
                                },
                                {
                                    "ProductName": "Hans Kombucha",
                                    "Subcategory": "Kombucha",
                                    "Category": "Local Love",
                                    "TotalSales": "13048.23",
                                    "PctOfTotal": "0.009969",
                                    "PoundsSold": "2609.6460",
                                    "PctOfTotalPounds": "0.012994"
                                },
                                {
                                    "ProductName": "Avocado Oil",
                                    "Subcategory": "Oils",
                                    "Category": "Grocery",
                                    "TotalSales": "12889.06",
                                    "PctOfTotal": "0.009848",
                                    "PoundsSold": "1660.9611",
                                    "PctOfTotalPounds": "0.008270"
                                },
                                {
                                    "ProductName": "Dark Chocolate Chips ALLERGEN FREE ORG",
                                    "Subcategory": "Baking",
                                    "Category": "Grocery",
                                    "TotalSales": "12546.76",
                                    "PctOfTotal": "0.009586",
                                    "PoundsSold": "1408.1624",
                                    "PctOfTotalPounds": "0.007012"
                                }
                            ]
                        },
                        "text/html": "<table><tr><th>ProductName</th><th>Subcategory</th><th>Category</th><th>TotalSales</th><th>PctOfTotal</th><th>PoundsSold</th><th>PctOfTotalPounds</th></tr><tr><td>Olive Oil - Extra Virgin ORG</td><td>Oils</td><td>Grocery</td><td>45039.15</td><td>0.034412</td><td>6536.8858</td><td>0.032550</td></tr><tr><td>Coffee - The Bean Whole</td><td>The Bean Whole</td><td>Local Love</td><td>35283.34</td><td>0.026958</td><td>2220.4735</td><td>0.011056</td></tr><tr><td>CRU Kombucha</td><td>Kombucha</td><td>Local Love</td><td>28571.28</td><td>0.021830</td><td>6613.7230</td><td>0.032933</td></tr><tr><td>Raw Cashews ORG</td><td>Nuts</td><td>Grocery</td><td>23603.48</td><td>0.018034</td><td>2109.3352</td><td>0.010503</td></tr><tr><td>Coffee - Hugo Coffee</td><td>Hugo Coffee</td><td>Local Love</td><td>23451.72</td><td>0.017918</td><td>1688.3915</td><td>0.008407</td></tr><tr><td>Maple Syrup ORG</td><td>Sweeteners</td><td>Grocery</td><td>22980.91</td><td>0.017558</td><td>2233.3252</td><td>0.011120</td></tr><tr><td>Raw Almonds ORG</td><td>Nuts</td><td>Grocery</td><td>20475.71</td><td>0.015644</td><td>1675.5883</td><td>0.008343</td></tr><tr><td>Eggs ORG</td><td>Dairy</td><td>Grocery</td><td>20091.05</td><td>0.015350</td><td>0.0000</td><td>0.000000</td></tr><tr><td>Sapadilla Hand Soap</td><td>Body Cleansing</td><td>Body Care</td><td>19389.01</td><td>0.014814</td><td>3188.9807</td><td>0.015879</td></tr><tr><td>Milk Honey Yogurt</td><td>Milk Honey Yogurt</td><td>Local Love</td><td>18611.99</td><td>0.014220</td><td>3159.9311</td><td>0.015735</td></tr><tr><td>Dropps Dishwasher Pods</td><td>Dishsoaps</td><td>Cleaning Supply</td><td>18019.85</td><td>0.013768</td><td>1696.7912</td><td>0.008449</td></tr><tr><td>Almond Butter / Diced Almonds</td><td>Nuts</td><td>Grocery</td><td>17860.43</td><td>0.013646</td><td>2356.2550</td><td>0.011733</td></tr><tr><td>EcosPro Laundry Detergent - Magnolia Lily</td><td>Laundry Cleaners</td><td>Cleaning Supply</td><td>17822.27</td><td>0.013617</td><td>7921.0077</td><td>0.039442</td></tr><tr><td>WHLS- Lightlife Sausage - Case of 12</td><td>Meat Alternatives</td><td>Whls_Grocery</td><td>17087.42</td><td>0.013055</td><td>0.0000</td><td>0.000000</td></tr><tr><td>Dried Mango Cheeks ORG</td><td>Dried Fruits</td><td>Grocery</td><td>14801.95</td><td>0.011309</td><td>1217.2658</td><td>0.006061</td></tr><tr><td>Prin Ya Vegan Custard</td><td>Desserts</td><td>Local Love</td><td>13279.56</td><td>0.010146</td><td>0.0000</td><td>0.000000</td></tr><tr><td>Dropps Laundry Pods</td><td>Laundry Cleaners</td><td>Cleaning Supply</td><td>13093.78</td><td>0.010004</td><td>1260.2290</td><td>0.006275</td></tr><tr><td>Hans Kombucha</td><td>Kombucha</td><td>Local Love</td><td>13048.23</td><td>0.009969</td><td>2609.6460</td><td>0.012994</td></tr><tr><td>Avocado Oil</td><td>Oils</td><td>Grocery</td><td>12889.06</td><td>0.009848</td><td>1660.9611</td><td>0.008270</td></tr><tr><td>Dark Chocolate Chips ALLERGEN FREE ORG</td><td>Baking</td><td>Grocery</td><td>12546.76</td><td>0.009586</td><td>1408.1624</td><td>0.007012</td></tr></table>"
                    },
                    "metadata": {}
                }
            ],
            "execution_count": 16
        },
        {
            "cell_type": "markdown",
            "source": [
                "#### Top Selling Products by Pounds Sold"
            ],
            "metadata": {
                "language": "sql",
                "azdata_cell_guid": "d861007e-2e18-4f8c-a638-95a5cc5a424c"
            },
            "attachments": {}
        },
        {
            "cell_type": "code",
            "source": [
                "SELECT TOP(20)\r\n",
                "    sc.Subcategory,\r\n",
                "    c.Category,\r\n",
                "    p.ProductID,\r\n",
                "    p.ProductName,\r\n",
                "    SUM(l.PoundsSold) AS PoundsSold,\r\n",
                "    SUM(l.PoundsSold)/ (SELECT SUM(PoundsSold) FROM SalesOrderLines) AS PctofTotal\r\n",
                "\r\n",
                "FROM SalesOrderLines AS l\r\n",
                "    INNER JOIN DimProducts AS p\r\n",
                "    ON l.ProductID = p.ProductID\r\n",
                "    INNER JOIN DimSubcategories AS sc\r\n",
                "    ON p.SubcategoryID = sc.SubcategoryID\r\n",
                "    INNER JOIN DimCategories AS c\r\n",
                "    ON sc.CategoryID = c.CategoryID\r\n",
                "\r\n",
                "WHERE p.PricingType = 'PerPound'\r\n",
                "\r\n",
                "GROUP BY sc.Subcategory, c.Category, p.ProductID, p.ProductName\r\n",
                "ORDER BY PoundsSold DESC"
            ],
            "metadata": {
                "language": "sql",
                "azdata_cell_guid": "aece9d0c-9c3c-42a3-a718-eb533be95d1e",
                "tags": []
            },
            "outputs": [
                {
                    "output_type": "display_data",
                    "data": {
                        "text/html": "(20 rows affected)"
                    },
                    "metadata": {}
                },
                {
                    "output_type": "display_data",
                    "data": {
                        "text/html": "Total execution time: 00:00:00.166"
                    },
                    "metadata": {}
                },
                {
                    "output_type": "execute_result",
                    "execution_count": 11,
                    "data": {
                        "application/vnd.dataresource+json": {
                            "schema": {
                                "fields": [
                                    {
                                        "name": "Subcategory"
                                    },
                                    {
                                        "name": "Category"
                                    },
                                    {
                                        "name": "ProductID"
                                    },
                                    {
                                        "name": "ProductName"
                                    },
                                    {
                                        "name": "PoundsSold"
                                    },
                                    {
                                        "name": "PctofTotal"
                                    }
                                ]
                            },
                            "data": [
                                {
                                    "Subcategory": "Laundry Cleaners",
                                    "Category": "Cleaning Supply",
                                    "ProductID": "76",
                                    "ProductName": "EcosPro Laundry Detergent - Magnolia Lily",
                                    "PoundsSold": "7921.0077",
                                    "PctofTotal": "0.039442"
                                },
                                {
                                    "Subcategory": "Kombucha",
                                    "Category": "Local Love",
                                    "ProductID": "110",
                                    "ProductName": "CRU Kombucha",
                                    "PoundsSold": "6613.7230",
                                    "PctofTotal": "0.032933"
                                },
                                {
                                    "Subcategory": "Oils",
                                    "Category": "Grocery",
                                    "ProductID": "149",
                                    "ProductName": "Olive Oil - Extra Virgin ORG",
                                    "PoundsSold": "6536.8858",
                                    "PctofTotal": "0.032550"
                                },
                                {
                                    "Subcategory": "Sweeteners",
                                    "Category": "Grocery",
                                    "ProductID": "42",
                                    "ProductName": "Cane Sugar ORG",
                                    "PoundsSold": "6311.1972",
                                    "PctofTotal": "0.031426"
                                },
                                {
                                    "Subcategory": "Dishsoaps",
                                    "Category": "Cleaning Supply",
                                    "ProductID": "78",
                                    "ProductName": "EcosPro Dish Soap - Hand Washing",
                                    "PoundsSold": "5998.5351",
                                    "PctofTotal": "0.029869"
                                },
                                {
                                    "Subcategory": "Multi Purpose",
                                    "Category": "Cleaning Supply",
                                    "ProductID": "5",
                                    "ProductName": "White Vinegar - 10% acidity (Cleaning)",
                                    "PoundsSold": "5800.2368",
                                    "PctofTotal": "0.028882"
                                },
                                {
                                    "Subcategory": "Laundry Cleaners",
                                    "Category": "Cleaning Supply",
                                    "ProductID": "88",
                                    "ProductName": "EcosPro Laundry Detergent - Free & Clear",
                                    "PoundsSold": "5048.9640",
                                    "PctofTotal": "0.025141"
                                },
                                {
                                    "Subcategory": "Seeds And Grains",
                                    "Category": "Grocery",
                                    "ProductID": "39",
                                    "ProductName": "Rolled Oats ORG",
                                    "PoundsSold": "4660.0017",
                                    "PctofTotal": "0.023204"
                                },
                                {
                                    "Subcategory": "Other Cleaners",
                                    "Category": "Cleaning Supply",
                                    "ProductID": "1064",
                                    "ProductName": "Cleaner Bombs - Toilet - Cat - Etc",
                                    "PoundsSold": "3723.0000",
                                    "PctofTotal": "0.018538"
                                },
                                {
                                    "Subcategory": "Body Cleansing",
                                    "Category": "Body Care",
                                    "ProductID": "862",
                                    "ProductName": "Sapadilla Hand Soap",
                                    "PoundsSold": "3188.9807",
                                    "PctofTotal": "0.015879"
                                },
                                {
                                    "Subcategory": "Candy",
                                    "Category": "Grocery",
                                    "ProductID": "1026",
                                    "ProductName": "PB Cups - Sweet Hazel",
                                    "PoundsSold": "3166.6250",
                                    "PctofTotal": "0.015768"
                                },
                                {
                                    "Subcategory": "Milk Honey Yogurt",
                                    "Category": "Local Love",
                                    "ProductID": "730",
                                    "ProductName": "Milk Honey Yogurt",
                                    "PoundsSold": "3159.9311",
                                    "PctofTotal": "0.015735"
                                },
                                {
                                    "Subcategory": "Seeds And Grains",
                                    "Category": "Grocery",
                                    "ProductID": "56",
                                    "ProductName": "Brown Rice ORG",
                                    "PoundsSold": "3104.8088",
                                    "PctofTotal": "0.015460"
                                },
                                {
                                    "Subcategory": "Flours",
                                    "Category": "Grocery",
                                    "ProductID": "26",
                                    "ProductName": "Artisan White Flour ORG",
                                    "PoundsSold": "2861.6958",
                                    "PctofTotal": "0.014249"
                                },
                                {
                                    "Subcategory": "Kombucha",
                                    "Category": "Local Love",
                                    "ProductID": "399",
                                    "ProductName": "Hans Kombucha",
                                    "PoundsSold": "2609.6460",
                                    "PctofTotal": "0.012994"
                                },
                                {
                                    "Subcategory": "Candy",
                                    "Category": "Grocery",
                                    "ProductID": "1025",
                                    "ProductName": "Crunchies - Sweet Hazel",
                                    "PoundsSold": "2529.9036",
                                    "PctofTotal": "0.012597"
                                },
                                {
                                    "Subcategory": "Flours",
                                    "Category": "Grocery",
                                    "ProductID": "384",
                                    "ProductName": "Whole Wheat Flour ORG",
                                    "PoundsSold": "2459.1558",
                                    "PctofTotal": "0.012245"
                                },
                                {
                                    "Subcategory": "Nuts",
                                    "Category": "Grocery",
                                    "ProductID": "200",
                                    "ProductName": "Almond Butter / Diced Almonds",
                                    "PoundsSold": "2356.2550",
                                    "PctofTotal": "0.011733"
                                },
                                {
                                    "Subcategory": "Seeds And Grains",
                                    "Category": "Grocery",
                                    "ProductID": "36",
                                    "ProductName": "White Rice, Long Grain CONV",
                                    "PoundsSold": "2305.8752",
                                    "PctofTotal": "0.011482"
                                },
                                {
                                    "Subcategory": "Flours",
                                    "Category": "Grocery",
                                    "ProductID": "953",
                                    "ProductName": "All Purpose Unbleached Flour Beehive ORG",
                                    "PoundsSold": "2259.7985",
                                    "PctofTotal": "0.011252"
                                }
                            ]
                        },
                        "text/html": "<table><tr><th>Subcategory</th><th>Category</th><th>ProductID</th><th>ProductName</th><th>PoundsSold</th><th>PctofTotal</th></tr><tr><td>Laundry Cleaners</td><td>Cleaning Supply</td><td>76</td><td>EcosPro Laundry Detergent - Magnolia Lily</td><td>7921.0077</td><td>0.039442</td></tr><tr><td>Kombucha</td><td>Local Love</td><td>110</td><td>CRU Kombucha</td><td>6613.7230</td><td>0.032933</td></tr><tr><td>Oils</td><td>Grocery</td><td>149</td><td>Olive Oil - Extra Virgin ORG</td><td>6536.8858</td><td>0.032550</td></tr><tr><td>Sweeteners</td><td>Grocery</td><td>42</td><td>Cane Sugar ORG</td><td>6311.1972</td><td>0.031426</td></tr><tr><td>Dishsoaps</td><td>Cleaning Supply</td><td>78</td><td>EcosPro Dish Soap - Hand Washing</td><td>5998.5351</td><td>0.029869</td></tr><tr><td>Multi Purpose</td><td>Cleaning Supply</td><td>5</td><td>White Vinegar - 10% acidity (Cleaning)</td><td>5800.2368</td><td>0.028882</td></tr><tr><td>Laundry Cleaners</td><td>Cleaning Supply</td><td>88</td><td>EcosPro Laundry Detergent - Free &amp; Clear</td><td>5048.9640</td><td>0.025141</td></tr><tr><td>Seeds And Grains</td><td>Grocery</td><td>39</td><td>Rolled Oats ORG</td><td>4660.0017</td><td>0.023204</td></tr><tr><td>Other Cleaners</td><td>Cleaning Supply</td><td>1064</td><td>Cleaner Bombs - Toilet - Cat - Etc</td><td>3723.0000</td><td>0.018538</td></tr><tr><td>Body Cleansing</td><td>Body Care</td><td>862</td><td>Sapadilla Hand Soap</td><td>3188.9807</td><td>0.015879</td></tr><tr><td>Candy</td><td>Grocery</td><td>1026</td><td>PB Cups - Sweet Hazel</td><td>3166.6250</td><td>0.015768</td></tr><tr><td>Milk Honey Yogurt</td><td>Local Love</td><td>730</td><td>Milk Honey Yogurt</td><td>3159.9311</td><td>0.015735</td></tr><tr><td>Seeds And Grains</td><td>Grocery</td><td>56</td><td>Brown Rice ORG</td><td>3104.8088</td><td>0.015460</td></tr><tr><td>Flours</td><td>Grocery</td><td>26</td><td>Artisan White Flour ORG</td><td>2861.6958</td><td>0.014249</td></tr><tr><td>Kombucha</td><td>Local Love</td><td>399</td><td>Hans Kombucha</td><td>2609.6460</td><td>0.012994</td></tr><tr><td>Candy</td><td>Grocery</td><td>1025</td><td>Crunchies - Sweet Hazel</td><td>2529.9036</td><td>0.012597</td></tr><tr><td>Flours</td><td>Grocery</td><td>384</td><td>Whole Wheat Flour ORG</td><td>2459.1558</td><td>0.012245</td></tr><tr><td>Nuts</td><td>Grocery</td><td>200</td><td>Almond Butter / Diced Almonds</td><td>2356.2550</td><td>0.011733</td></tr><tr><td>Seeds And Grains</td><td>Grocery</td><td>36</td><td>White Rice, Long Grain CONV</td><td>2305.8752</td><td>0.011482</td></tr><tr><td>Flours</td><td>Grocery</td><td>953</td><td>All Purpose Unbleached Flour Beehive ORG</td><td>2259.7985</td><td>0.011252</td></tr></table>"
                    },
                    "metadata": {}
                }
            ],
            "execution_count": 11
        },
        {
            "cell_type": "markdown",
            "source": [
                "## Average Order Value\n",
                "\n",
                "#### Total Average Order Value by Month and Moving 3 Month Average (Includes Retail and Wholesale)"
            ],
            "metadata": {
                "language": "sql",
                "azdata_cell_guid": "8979605c-0f14-4420-8e62-5f7449074263"
            },
            "attachments": {}
        },
        {
            "cell_type": "code",
            "source": [
                "SELECT \r\n",
                "    EOMONTH(o.OrderDate) AS Month,\r\n",
                "    COUNT(DISTINCT o.OrderID) AS OrderCount,\r\n",
                "    SUM(l.SaleAmount) AS Amount,\r\n",
                "    SUM(l.SaleAmount) / COUNT(DISTINCT o.OrderID) AS AvgOrderValue,\r\n",
                "    AVG(SUM(l.SaleAmount)/COUNT(DISTINCT o.OrderID)) OVER(\r\n",
                "        ORDER BY EOMONTH(o.OrderDate) -- Order the records by transaction month, ensuring the average is calculated chronologically\r\n",
                "        ROWS BETWEEN 2 PRECEDING and CURRENT ROW -- specifies the range of rows to include in the average as 2 preceeding and current row\r\n",
                "    ) AS MovingThreeMoAvgAOV\r\n",
                "FROM\r\n",
                "    SalesOrderLines AS l\r\n",
                "    INNER JOIN SalesOrders AS o\r\n",
                "    ON l.OrderID = o.OrderID\r\n",
                "\r\n",
                "GROUP BY EOMONTH(o.OrderDate)\r\n",
                "ORDER BY EOMONTH(o.OrderDate)"
            ],
            "metadata": {
                "language": "sql",
                "azdata_cell_guid": "04ad9327-f6bb-48c9-a4a4-71d459870d91",
                "tags": []
            },
            "outputs": [
                {
                    "output_type": "display_data",
                    "data": {
                        "text/html": "(35 rows affected)"
                    },
                    "metadata": {}
                },
                {
                    "output_type": "display_data",
                    "data": {
                        "text/html": "Total execution time: 00:00:02.925"
                    },
                    "metadata": {}
                },
                {
                    "output_type": "execute_result",
                    "execution_count": 12,
                    "data": {
                        "application/vnd.dataresource+json": {
                            "schema": {
                                "fields": [
                                    {
                                        "name": "Month"
                                    },
                                    {
                                        "name": "OrderCount"
                                    },
                                    {
                                        "name": "Amount"
                                    },
                                    {
                                        "name": "AvgOrderValue"
                                    },
                                    {
                                        "name": "MovingThreeMoAvgAOV"
                                    }
                                ]
                            },
                            "data": [
                                {
                                    "Month": "2019-02-28",
                                    "OrderCount": "749",
                                    "Amount": "14964.79",
                                    "AvgOrderValue": "19.979692",
                                    "MovingThreeMoAvgAOV": "19.979692"
                                },
                                {
                                    "Month": "2019-03-31",
                                    "OrderCount": "1003",
                                    "Amount": "20949.45",
                                    "AvgOrderValue": "20.886789",
                                    "MovingThreeMoAvgAOV": "20.433240"
                                },
                                {
                                    "Month": "2019-04-30",
                                    "OrderCount": "899",
                                    "Amount": "17287.15",
                                    "AvgOrderValue": "19.229310",
                                    "MovingThreeMoAvgAOV": "20.031930"
                                },
                                {
                                    "Month": "2019-05-31",
                                    "OrderCount": "1184",
                                    "Amount": "24424.98",
                                    "AvgOrderValue": "20.629206",
                                    "MovingThreeMoAvgAOV": "20.248435"
                                },
                                {
                                    "Month": "2019-06-30",
                                    "OrderCount": "1137",
                                    "Amount": "27454.37",
                                    "AvgOrderValue": "24.146323",
                                    "MovingThreeMoAvgAOV": "21.334946"
                                },
                                {
                                    "Month": "2019-07-31",
                                    "OrderCount": "1120",
                                    "Amount": "27423.94",
                                    "AvgOrderValue": "24.485660",
                                    "MovingThreeMoAvgAOV": "23.087063"
                                },
                                {
                                    "Month": "2019-08-31",
                                    "OrderCount": "1095",
                                    "Amount": "26306.96",
                                    "AvgOrderValue": "24.024621",
                                    "MovingThreeMoAvgAOV": "24.218868"
                                },
                                {
                                    "Month": "2019-09-30",
                                    "OrderCount": "1109",
                                    "Amount": "28842.81",
                                    "AvgOrderValue": "26.007944",
                                    "MovingThreeMoAvgAOV": "24.839408"
                                },
                                {
                                    "Month": "2019-10-31",
                                    "OrderCount": "1135",
                                    "Amount": "29368.16",
                                    "AvgOrderValue": "25.875030",
                                    "MovingThreeMoAvgAOV": "25.302531"
                                },
                                {
                                    "Month": "2019-11-30",
                                    "OrderCount": "1153",
                                    "Amount": "29010.85",
                                    "AvgOrderValue": "25.161188",
                                    "MovingThreeMoAvgAOV": "25.681387"
                                },
                                {
                                    "Month": "2019-12-31",
                                    "OrderCount": "1192",
                                    "Amount": "31315.30",
                                    "AvgOrderValue": "26.271224",
                                    "MovingThreeMoAvgAOV": "25.769147"
                                },
                                {
                                    "Month": "2020-01-31",
                                    "OrderCount": "1452",
                                    "Amount": "37956.78",
                                    "AvgOrderValue": "26.141033",
                                    "MovingThreeMoAvgAOV": "25.857815"
                                },
                                {
                                    "Month": "2020-02-29",
                                    "OrderCount": "1303",
                                    "Amount": "33820.10",
                                    "AvgOrderValue": "25.955564",
                                    "MovingThreeMoAvgAOV": "26.122607"
                                },
                                {
                                    "Month": "2020-03-31",
                                    "OrderCount": "1445",
                                    "Amount": "44724.33",
                                    "AvgOrderValue": "30.951093",
                                    "MovingThreeMoAvgAOV": "27.682563"
                                },
                                {
                                    "Month": "2020-04-30",
                                    "OrderCount": "890",
                                    "Amount": "31871.41",
                                    "AvgOrderValue": "35.810573",
                                    "MovingThreeMoAvgAOV": "30.905743"
                                },
                                {
                                    "Month": "2020-05-31",
                                    "OrderCount": "924",
                                    "Amount": "35155.72",
                                    "AvgOrderValue": "38.047316",
                                    "MovingThreeMoAvgAOV": "34.936327"
                                },
                                {
                                    "Month": "2020-06-30",
                                    "OrderCount": "984",
                                    "Amount": "35149.96",
                                    "AvgOrderValue": "35.721504",
                                    "MovingThreeMoAvgAOV": "36.526464"
                                },
                                {
                                    "Month": "2020-07-31",
                                    "OrderCount": "1143",
                                    "Amount": "41633.89",
                                    "AvgOrderValue": "36.425100",
                                    "MovingThreeMoAvgAOV": "36.731306"
                                },
                                {
                                    "Month": "2020-08-31",
                                    "OrderCount": "1325",
                                    "Amount": "47599.20",
                                    "AvgOrderValue": "35.923924",
                                    "MovingThreeMoAvgAOV": "36.023509"
                                },
                                {
                                    "Month": "2020-09-30",
                                    "OrderCount": "1233",
                                    "Amount": "43994.26",
                                    "AvgOrderValue": "35.680665",
                                    "MovingThreeMoAvgAOV": "36.009896"
                                },
                                {
                                    "Month": "2020-10-31",
                                    "OrderCount": "1292",
                                    "Amount": "46408.37",
                                    "AvgOrderValue": "35.919791",
                                    "MovingThreeMoAvgAOV": "35.841460"
                                },
                                {
                                    "Month": "2020-11-30",
                                    "OrderCount": "1239",
                                    "Amount": "42768.71",
                                    "AvgOrderValue": "34.518732",
                                    "MovingThreeMoAvgAOV": "35.373062"
                                },
                                {
                                    "Month": "2020-12-31",
                                    "OrderCount": "1418",
                                    "Amount": "53039.45",
                                    "AvgOrderValue": "37.404407",
                                    "MovingThreeMoAvgAOV": "35.947643"
                                },
                                {
                                    "Month": "2021-01-31",
                                    "OrderCount": "1561",
                                    "Amount": "55312.48",
                                    "AvgOrderValue": "35.434003",
                                    "MovingThreeMoAvgAOV": "35.785714"
                                },
                                {
                                    "Month": "2021-02-28",
                                    "OrderCount": "1461",
                                    "Amount": "54057.65",
                                    "AvgOrderValue": "37.000444",
                                    "MovingThreeMoAvgAOV": "36.612951"
                                },
                                {
                                    "Month": "2021-03-31",
                                    "OrderCount": "1493",
                                    "Amount": "51043.98",
                                    "AvgOrderValue": "34.188868",
                                    "MovingThreeMoAvgAOV": "35.541105"
                                },
                                {
                                    "Month": "2021-04-30",
                                    "OrderCount": "1396",
                                    "Amount": "52109.81",
                                    "AvgOrderValue": "37.327944",
                                    "MovingThreeMoAvgAOV": "36.172418"
                                },
                                {
                                    "Month": "2021-05-31",
                                    "OrderCount": "1354",
                                    "Amount": "49186.36",
                                    "AvgOrderValue": "36.326706",
                                    "MovingThreeMoAvgAOV": "35.947839"
                                },
                                {
                                    "Month": "2021-06-30",
                                    "OrderCount": "1228",
                                    "Amount": "44196.52",
                                    "AvgOrderValue": "35.990651",
                                    "MovingThreeMoAvgAOV": "36.548433"
                                },
                                {
                                    "Month": "2021-07-31",
                                    "OrderCount": "1212",
                                    "Amount": "40539.18",
                                    "AvgOrderValue": "33.448168",
                                    "MovingThreeMoAvgAOV": "35.255175"
                                },
                                {
                                    "Month": "2021-08-31",
                                    "OrderCount": "1153",
                                    "Amount": "40792.58",
                                    "AvgOrderValue": "35.379514",
                                    "MovingThreeMoAvgAOV": "34.939444"
                                },
                                {
                                    "Month": "2021-09-30",
                                    "OrderCount": "952",
                                    "Amount": "33339.35",
                                    "AvgOrderValue": "35.020325",
                                    "MovingThreeMoAvgAOV": "34.616002"
                                },
                                {
                                    "Month": "2021-10-31",
                                    "OrderCount": "1153",
                                    "Amount": "40067.79",
                                    "AvgOrderValue": "34.750901",
                                    "MovingThreeMoAvgAOV": "35.050246"
                                },
                                {
                                    "Month": "2021-11-30",
                                    "OrderCount": "1030",
                                    "Amount": "37493.90",
                                    "AvgOrderValue": "36.401844",
                                    "MovingThreeMoAvgAOV": "35.391023"
                                },
                                {
                                    "Month": "2021-12-31",
                                    "OrderCount": "1033",
                                    "Amount": "39188.84",
                                    "AvgOrderValue": "37.936921",
                                    "MovingThreeMoAvgAOV": "36.363222"
                                }
                            ]
                        },
                        "text/html": "<table><tr><th>Month</th><th>OrderCount</th><th>Amount</th><th>AvgOrderValue</th><th>MovingThreeMoAvgAOV</th></tr><tr><td>2019-02-28</td><td>749</td><td>14964.79</td><td>19.979692</td><td>19.979692</td></tr><tr><td>2019-03-31</td><td>1003</td><td>20949.45</td><td>20.886789</td><td>20.433240</td></tr><tr><td>2019-04-30</td><td>899</td><td>17287.15</td><td>19.229310</td><td>20.031930</td></tr><tr><td>2019-05-31</td><td>1184</td><td>24424.98</td><td>20.629206</td><td>20.248435</td></tr><tr><td>2019-06-30</td><td>1137</td><td>27454.37</td><td>24.146323</td><td>21.334946</td></tr><tr><td>2019-07-31</td><td>1120</td><td>27423.94</td><td>24.485660</td><td>23.087063</td></tr><tr><td>2019-08-31</td><td>1095</td><td>26306.96</td><td>24.024621</td><td>24.218868</td></tr><tr><td>2019-09-30</td><td>1109</td><td>28842.81</td><td>26.007944</td><td>24.839408</td></tr><tr><td>2019-10-31</td><td>1135</td><td>29368.16</td><td>25.875030</td><td>25.302531</td></tr><tr><td>2019-11-30</td><td>1153</td><td>29010.85</td><td>25.161188</td><td>25.681387</td></tr><tr><td>2019-12-31</td><td>1192</td><td>31315.30</td><td>26.271224</td><td>25.769147</td></tr><tr><td>2020-01-31</td><td>1452</td><td>37956.78</td><td>26.141033</td><td>25.857815</td></tr><tr><td>2020-02-29</td><td>1303</td><td>33820.10</td><td>25.955564</td><td>26.122607</td></tr><tr><td>2020-03-31</td><td>1445</td><td>44724.33</td><td>30.951093</td><td>27.682563</td></tr><tr><td>2020-04-30</td><td>890</td><td>31871.41</td><td>35.810573</td><td>30.905743</td></tr><tr><td>2020-05-31</td><td>924</td><td>35155.72</td><td>38.047316</td><td>34.936327</td></tr><tr><td>2020-06-30</td><td>984</td><td>35149.96</td><td>35.721504</td><td>36.526464</td></tr><tr><td>2020-07-31</td><td>1143</td><td>41633.89</td><td>36.425100</td><td>36.731306</td></tr><tr><td>2020-08-31</td><td>1325</td><td>47599.20</td><td>35.923924</td><td>36.023509</td></tr><tr><td>2020-09-30</td><td>1233</td><td>43994.26</td><td>35.680665</td><td>36.009896</td></tr><tr><td>2020-10-31</td><td>1292</td><td>46408.37</td><td>35.919791</td><td>35.841460</td></tr><tr><td>2020-11-30</td><td>1239</td><td>42768.71</td><td>34.518732</td><td>35.373062</td></tr><tr><td>2020-12-31</td><td>1418</td><td>53039.45</td><td>37.404407</td><td>35.947643</td></tr><tr><td>2021-01-31</td><td>1561</td><td>55312.48</td><td>35.434003</td><td>35.785714</td></tr><tr><td>2021-02-28</td><td>1461</td><td>54057.65</td><td>37.000444</td><td>36.612951</td></tr><tr><td>2021-03-31</td><td>1493</td><td>51043.98</td><td>34.188868</td><td>35.541105</td></tr><tr><td>2021-04-30</td><td>1396</td><td>52109.81</td><td>37.327944</td><td>36.172418</td></tr><tr><td>2021-05-31</td><td>1354</td><td>49186.36</td><td>36.326706</td><td>35.947839</td></tr><tr><td>2021-06-30</td><td>1228</td><td>44196.52</td><td>35.990651</td><td>36.548433</td></tr><tr><td>2021-07-31</td><td>1212</td><td>40539.18</td><td>33.448168</td><td>35.255175</td></tr><tr><td>2021-08-31</td><td>1153</td><td>40792.58</td><td>35.379514</td><td>34.939444</td></tr><tr><td>2021-09-30</td><td>952</td><td>33339.35</td><td>35.020325</td><td>34.616002</td></tr><tr><td>2021-10-31</td><td>1153</td><td>40067.79</td><td>34.750901</td><td>35.050246</td></tr><tr><td>2021-11-30</td><td>1030</td><td>37493.90</td><td>36.401844</td><td>35.391023</td></tr><tr><td>2021-12-31</td><td>1033</td><td>39188.84</td><td>37.936921</td><td>36.363222</td></tr></table>"
                    },
                    "metadata": {}
                }
            ],
            "execution_count": 12
        },
        {
            "cell_type": "markdown",
            "source": [
                "#### Retail AOV and Three Month Moving Average\r\n",
                ""
            ],
            "metadata": {
                "language": "sql",
                "azdata_cell_guid": "f2be39d5-0eb5-44c3-b911-8f2b651f801f"
            },
            "attachments": {}
        },
        {
            "cell_type": "code",
            "source": [
                "SELECT \r\n",
                "    EOMONTH(o.OrderDate) AS Month,\r\n",
                "    COUNT(DISTINCT o.OrderID) AS OrderCount,\r\n",
                "    SUM(l.SaleAmount) AS Amount,\r\n",
                "    SUM(l.SaleAmount) / COUNT(DISTINCT o.OrderID) AS AvgOrderValue,\r\n",
                "    AVG(SUM(l.SaleAmount)/COUNT(DISTINCT o.OrderID)) OVER(\r\n",
                "        ORDER BY EOMONTH(o.OrderDate) -- Order the records by transaction month, ensuring the average is calculated chronologically\r\n",
                "        ROWS BETWEEN 2 PRECEDING and CURRENT ROW -- specifies the range of rows to include in the average as 2 preceeding and current row\r\n",
                "    ) AS MovingThreeMoAvgAOV\r\n",
                "FROM\r\n",
                "    SalesOrderLines AS l\r\n",
                "    INNER JOIN SalesOrders AS o\r\n",
                "    ON l.OrderID = o.OrderID\r\n",
                "    INNER JOIN dimCustomers AS c\r\n",
                "    ON o.CustomerID = c.CustomerID\r\n",
                "\r\n",
                "WHERE c.CustomerType = 'Retail'\r\n",
                "\r\n",
                "GROUP BY EOMONTH(o.OrderDate)\r\n",
                "ORDER BY EOMONTH(o.OrderDate)"
            ],
            "metadata": {
                "language": "sql",
                "azdata_cell_guid": "b495db83-fedd-4d77-9aa0-2112b431dca8",
                "tags": []
            },
            "outputs": [
                {
                    "output_type": "display_data",
                    "data": {
                        "text/html": "(35 rows affected)"
                    },
                    "metadata": {}
                },
                {
                    "output_type": "display_data",
                    "data": {
                        "text/html": "Total execution time: 00:00:01.074"
                    },
                    "metadata": {}
                },
                {
                    "output_type": "execute_result",
                    "execution_count": 13,
                    "data": {
                        "application/vnd.dataresource+json": {
                            "schema": {
                                "fields": [
                                    {
                                        "name": "Month"
                                    },
                                    {
                                        "name": "OrderCount"
                                    },
                                    {
                                        "name": "Amount"
                                    },
                                    {
                                        "name": "AvgOrderValue"
                                    },
                                    {
                                        "name": "MovingThreeMoAvgAOV"
                                    }
                                ]
                            },
                            "data": [
                                {
                                    "Month": "2019-02-28",
                                    "OrderCount": "747",
                                    "Amount": "14561.97",
                                    "AvgOrderValue": "19.493935",
                                    "MovingThreeMoAvgAOV": "19.493935"
                                },
                                {
                                    "Month": "2019-03-31",
                                    "OrderCount": "998",
                                    "Amount": "19753.03",
                                    "AvgOrderValue": "19.792615",
                                    "MovingThreeMoAvgAOV": "19.643275"
                                },
                                {
                                    "Month": "2019-04-30",
                                    "OrderCount": "895",
                                    "Amount": "16768.16",
                                    "AvgOrderValue": "18.735374",
                                    "MovingThreeMoAvgAOV": "19.340641"
                                },
                                {
                                    "Month": "2019-05-31",
                                    "OrderCount": "1177",
                                    "Amount": "23642.95",
                                    "AvgOrderValue": "20.087468",
                                    "MovingThreeMoAvgAOV": "19.538485"
                                },
                                {
                                    "Month": "2019-06-30",
                                    "OrderCount": "1126",
                                    "Amount": "24337.25",
                                    "AvgOrderValue": "21.613898",
                                    "MovingThreeMoAvgAOV": "20.145580"
                                },
                                {
                                    "Month": "2019-07-31",
                                    "OrderCount": "1105",
                                    "Amount": "23242.34",
                                    "AvgOrderValue": "21.033791",
                                    "MovingThreeMoAvgAOV": "20.911719"
                                },
                                {
                                    "Month": "2019-08-31",
                                    "OrderCount": "1088",
                                    "Amount": "24639.41",
                                    "AvgOrderValue": "22.646516",
                                    "MovingThreeMoAvgAOV": "21.764735"
                                },
                                {
                                    "Month": "2019-09-30",
                                    "OrderCount": "1096",
                                    "Amount": "25514.16",
                                    "AvgOrderValue": "23.279343",
                                    "MovingThreeMoAvgAOV": "22.319883"
                                },
                                {
                                    "Month": "2019-10-31",
                                    "OrderCount": "1123",
                                    "Amount": "26210.13",
                                    "AvgOrderValue": "23.339385",
                                    "MovingThreeMoAvgAOV": "23.088414"
                                },
                                {
                                    "Month": "2019-11-30",
                                    "OrderCount": "1144",
                                    "Amount": "26922.07",
                                    "AvgOrderValue": "23.533277",
                                    "MovingThreeMoAvgAOV": "23.384001"
                                },
                                {
                                    "Month": "2019-12-31",
                                    "OrderCount": "1186",
                                    "Amount": "29766.17",
                                    "AvgOrderValue": "25.097951",
                                    "MovingThreeMoAvgAOV": "23.990204"
                                },
                                {
                                    "Month": "2020-01-31",
                                    "OrderCount": "1445",
                                    "Amount": "35801.60",
                                    "AvgOrderValue": "24.776193",
                                    "MovingThreeMoAvgAOV": "24.469140"
                                },
                                {
                                    "Month": "2020-02-29",
                                    "OrderCount": "1295",
                                    "Amount": "31925.52",
                                    "AvgOrderValue": "24.652911",
                                    "MovingThreeMoAvgAOV": "24.842351"
                                },
                                {
                                    "Month": "2020-03-31",
                                    "OrderCount": "1439",
                                    "Amount": "42190.47",
                                    "AvgOrderValue": "29.319298",
                                    "MovingThreeMoAvgAOV": "26.249467"
                                },
                                {
                                    "Month": "2020-04-30",
                                    "OrderCount": "886",
                                    "Amount": "31068.72",
                                    "AvgOrderValue": "35.066275",
                                    "MovingThreeMoAvgAOV": "29.679494"
                                },
                                {
                                    "Month": "2020-05-31",
                                    "OrderCount": "919",
                                    "Amount": "33495.85",
                                    "AvgOrderValue": "36.448150",
                                    "MovingThreeMoAvgAOV": "33.611241"
                                },
                                {
                                    "Month": "2020-06-30",
                                    "OrderCount": "980",
                                    "Amount": "34138.49",
                                    "AvgOrderValue": "34.835193",
                                    "MovingThreeMoAvgAOV": "35.449872"
                                },
                                {
                                    "Month": "2020-07-31",
                                    "OrderCount": "1133",
                                    "Amount": "39273.93",
                                    "AvgOrderValue": "34.663662",
                                    "MovingThreeMoAvgAOV": "35.315668"
                                },
                                {
                                    "Month": "2020-08-31",
                                    "OrderCount": "1319",
                                    "Amount": "44489.38",
                                    "AvgOrderValue": "33.729628",
                                    "MovingThreeMoAvgAOV": "34.409494"
                                },
                                {
                                    "Month": "2020-09-30",
                                    "OrderCount": "1223",
                                    "Amount": "42115.35",
                                    "AvgOrderValue": "34.436099",
                                    "MovingThreeMoAvgAOV": "34.276463"
                                },
                                {
                                    "Month": "2020-10-31",
                                    "OrderCount": "1286",
                                    "Amount": "45149.12",
                                    "AvgOrderValue": "35.108180",
                                    "MovingThreeMoAvgAOV": "34.424635"
                                },
                                {
                                    "Month": "2020-11-30",
                                    "OrderCount": "1234",
                                    "Amount": "41783.14",
                                    "AvgOrderValue": "33.859918",
                                    "MovingThreeMoAvgAOV": "34.468065"
                                },
                                {
                                    "Month": "2020-12-31",
                                    "OrderCount": "1414",
                                    "Amount": "52120.02",
                                    "AvgOrderValue": "36.859985",
                                    "MovingThreeMoAvgAOV": "35.276027"
                                },
                                {
                                    "Month": "2021-01-31",
                                    "OrderCount": "1558",
                                    "Amount": "54464.80",
                                    "AvgOrderValue": "34.958151",
                                    "MovingThreeMoAvgAOV": "35.226018"
                                },
                                {
                                    "Month": "2021-02-28",
                                    "OrderCount": "1453",
                                    "Amount": "52662.42",
                                    "AvgOrderValue": "36.243922",
                                    "MovingThreeMoAvgAOV": "36.020686"
                                },
                                {
                                    "Month": "2021-03-31",
                                    "OrderCount": "1485",
                                    "Amount": "49723.50",
                                    "AvgOrderValue": "33.483838",
                                    "MovingThreeMoAvgAOV": "34.895303"
                                },
                                {
                                    "Month": "2021-04-30",
                                    "OrderCount": "1389",
                                    "Amount": "50410.08",
                                    "AvgOrderValue": "36.292354",
                                    "MovingThreeMoAvgAOV": "35.340038"
                                },
                                {
                                    "Month": "2021-05-31",
                                    "OrderCount": "1349",
                                    "Amount": "48168.25",
                                    "AvgOrderValue": "35.706634",
                                    "MovingThreeMoAvgAOV": "35.160942"
                                },
                                {
                                    "Month": "2021-06-30",
                                    "OrderCount": "1224",
                                    "Amount": "43477.01",
                                    "AvgOrderValue": "35.520433",
                                    "MovingThreeMoAvgAOV": "35.839807"
                                },
                                {
                                    "Month": "2021-07-31",
                                    "OrderCount": "1203",
                                    "Amount": "38997.57",
                                    "AvgOrderValue": "32.416932",
                                    "MovingThreeMoAvgAOV": "34.547999"
                                },
                                {
                                    "Month": "2021-08-31",
                                    "OrderCount": "1150",
                                    "Amount": "40231.82",
                                    "AvgOrderValue": "34.984191",
                                    "MovingThreeMoAvgAOV": "34.307185"
                                },
                                {
                                    "Month": "2021-09-30",
                                    "OrderCount": "948",
                                    "Amount": "32270.97",
                                    "AvgOrderValue": "34.041107",
                                    "MovingThreeMoAvgAOV": "33.814076"
                                },
                                {
                                    "Month": "2021-10-31",
                                    "OrderCount": "1149",
                                    "Amount": "38340.32",
                                    "AvgOrderValue": "33.368424",
                                    "MovingThreeMoAvgAOV": "34.131240"
                                },
                                {
                                    "Month": "2021-11-30",
                                    "OrderCount": "1026",
                                    "Amount": "36218.73",
                                    "AvgOrderValue": "35.300906",
                                    "MovingThreeMoAvgAOV": "34.236812"
                                },
                                {
                                    "Month": "2021-12-31",
                                    "OrderCount": "1028",
                                    "Amount": "37667.76",
                                    "AvgOrderValue": "36.641789",
                                    "MovingThreeMoAvgAOV": "35.103706"
                                }
                            ]
                        },
                        "text/html": "<table><tr><th>Month</th><th>OrderCount</th><th>Amount</th><th>AvgOrderValue</th><th>MovingThreeMoAvgAOV</th></tr><tr><td>2019-02-28</td><td>747</td><td>14561.97</td><td>19.493935</td><td>19.493935</td></tr><tr><td>2019-03-31</td><td>998</td><td>19753.03</td><td>19.792615</td><td>19.643275</td></tr><tr><td>2019-04-30</td><td>895</td><td>16768.16</td><td>18.735374</td><td>19.340641</td></tr><tr><td>2019-05-31</td><td>1177</td><td>23642.95</td><td>20.087468</td><td>19.538485</td></tr><tr><td>2019-06-30</td><td>1126</td><td>24337.25</td><td>21.613898</td><td>20.145580</td></tr><tr><td>2019-07-31</td><td>1105</td><td>23242.34</td><td>21.033791</td><td>20.911719</td></tr><tr><td>2019-08-31</td><td>1088</td><td>24639.41</td><td>22.646516</td><td>21.764735</td></tr><tr><td>2019-09-30</td><td>1096</td><td>25514.16</td><td>23.279343</td><td>22.319883</td></tr><tr><td>2019-10-31</td><td>1123</td><td>26210.13</td><td>23.339385</td><td>23.088414</td></tr><tr><td>2019-11-30</td><td>1144</td><td>26922.07</td><td>23.533277</td><td>23.384001</td></tr><tr><td>2019-12-31</td><td>1186</td><td>29766.17</td><td>25.097951</td><td>23.990204</td></tr><tr><td>2020-01-31</td><td>1445</td><td>35801.60</td><td>24.776193</td><td>24.469140</td></tr><tr><td>2020-02-29</td><td>1295</td><td>31925.52</td><td>24.652911</td><td>24.842351</td></tr><tr><td>2020-03-31</td><td>1439</td><td>42190.47</td><td>29.319298</td><td>26.249467</td></tr><tr><td>2020-04-30</td><td>886</td><td>31068.72</td><td>35.066275</td><td>29.679494</td></tr><tr><td>2020-05-31</td><td>919</td><td>33495.85</td><td>36.448150</td><td>33.611241</td></tr><tr><td>2020-06-30</td><td>980</td><td>34138.49</td><td>34.835193</td><td>35.449872</td></tr><tr><td>2020-07-31</td><td>1133</td><td>39273.93</td><td>34.663662</td><td>35.315668</td></tr><tr><td>2020-08-31</td><td>1319</td><td>44489.38</td><td>33.729628</td><td>34.409494</td></tr><tr><td>2020-09-30</td><td>1223</td><td>42115.35</td><td>34.436099</td><td>34.276463</td></tr><tr><td>2020-10-31</td><td>1286</td><td>45149.12</td><td>35.108180</td><td>34.424635</td></tr><tr><td>2020-11-30</td><td>1234</td><td>41783.14</td><td>33.859918</td><td>34.468065</td></tr><tr><td>2020-12-31</td><td>1414</td><td>52120.02</td><td>36.859985</td><td>35.276027</td></tr><tr><td>2021-01-31</td><td>1558</td><td>54464.80</td><td>34.958151</td><td>35.226018</td></tr><tr><td>2021-02-28</td><td>1453</td><td>52662.42</td><td>36.243922</td><td>36.020686</td></tr><tr><td>2021-03-31</td><td>1485</td><td>49723.50</td><td>33.483838</td><td>34.895303</td></tr><tr><td>2021-04-30</td><td>1389</td><td>50410.08</td><td>36.292354</td><td>35.340038</td></tr><tr><td>2021-05-31</td><td>1349</td><td>48168.25</td><td>35.706634</td><td>35.160942</td></tr><tr><td>2021-06-30</td><td>1224</td><td>43477.01</td><td>35.520433</td><td>35.839807</td></tr><tr><td>2021-07-31</td><td>1203</td><td>38997.57</td><td>32.416932</td><td>34.547999</td></tr><tr><td>2021-08-31</td><td>1150</td><td>40231.82</td><td>34.984191</td><td>34.307185</td></tr><tr><td>2021-09-30</td><td>948</td><td>32270.97</td><td>34.041107</td><td>33.814076</td></tr><tr><td>2021-10-31</td><td>1149</td><td>38340.32</td><td>33.368424</td><td>34.131240</td></tr><tr><td>2021-11-30</td><td>1026</td><td>36218.73</td><td>35.300906</td><td>34.236812</td></tr><tr><td>2021-12-31</td><td>1028</td><td>37667.76</td><td>36.641789</td><td>35.103706</td></tr></table>"
                    },
                    "metadata": {}
                }
            ],
            "execution_count": 13
        },
        {
            "cell_type": "markdown",
            "source": [
                "## Customer Analysis"
            ],
            "metadata": {
                "language": "sql",
                "azdata_cell_guid": "7bc6d0c4-3455-4192-b1ad-ecd24e05cc63"
            },
            "attachments": {}
        },
        {
            "cell_type": "markdown",
            "source": [
                "#### Compare Retail and Wholesale Sales Statistics\r\n",
                ""
            ],
            "metadata": {
                "language": "sql",
                "azdata_cell_guid": "35264eb2-0be0-42d9-b366-f6f172b06f2e"
            },
            "attachments": {}
        },
        {
            "cell_type": "code",
            "source": [
                "SELECT\r\n",
                "    c.CustomerType,\r\n",
                "    SUM(SaleAmount) AS Sales,\r\n",
                "    SUM(SaleAmount)/\r\n",
                "    (SELECT \r\n",
                "        SUM(SaleAmount)\r\n",
                "        FROM SalesOrderLines) AS PctOfSales, --Use a subquery to calculate total sales and percent of total sales\r\n",
                "    COUNT(DISTINCT o.OrderID) As TransactionCount,\r\n",
                "    SUM(SaleAmount) / COUNT(DISTINCT o.OrderID) AS AvgOrderValue,\r\n",
                "    COUNT(DISTINCT o.CustomerID) AS UniqueCustomerIDs\r\n",
                "\r\n",
                "FROM SalesOrderLines AS l\r\n",
                "    INNER JOIN SalesOrders AS o\r\n",
                "    ON l.OrderID = o.OrderID   \r\n",
                "    INNER JOIN DimCustomers AS c\r\n",
                "    ON o.CustomerID = c.CustomerID\r\n",
                "\r\n",
                "GROUP BY c.CustomerType"
            ],
            "metadata": {
                "language": "sql",
                "azdata_cell_guid": "692ba67c-ebbe-4957-a19a-ab4ea8e98b98",
                "tags": []
            },
            "outputs": [
                {
                    "output_type": "display_data",
                    "data": {
                        "text/html": "(2 rows affected)"
                    },
                    "metadata": {}
                },
                {
                    "output_type": "display_data",
                    "data": {
                        "text/html": "Total execution time: 00:00:01.073"
                    },
                    "metadata": {}
                },
                {
                    "output_type": "execute_result",
                    "execution_count": 3,
                    "data": {
                        "application/vnd.dataresource+json": {
                            "schema": {
                                "fields": [
                                    {
                                        "name": "CustomerType"
                                    },
                                    {
                                        "name": "Sales"
                                    },
                                    {
                                        "name": "PctOfSales"
                                    },
                                    {
                                        "name": "TransactionCount"
                                    },
                                    {
                                        "name": "AvgOrderValue"
                                    },
                                    {
                                        "name": "UniqueCustomerIDs"
                                    }
                                ]
                            },
                            "data": [
                                {
                                    "CustomerType": "Wholesale",
                                    "Sales": "57256.92",
                                    "PctOfSales": "0.043747",
                                    "TransactionCount": "230",
                                    "AvgOrderValue": "248.943130",
                                    "UniqueCustomerIDs": "15"
                                },
                                {
                                    "CustomerType": "Retail",
                                    "Sales": "1251542.46",
                                    "PctOfSales": "0.956252",
                                    "TransactionCount": "41220",
                                    "AvgOrderValue": "30.362505",
                                    "UniqueCustomerIDs": "3917"
                                }
                            ]
                        },
                        "text/html": "<table><tr><th>CustomerType</th><th>Sales</th><th>PctOfSales</th><th>TransactionCount</th><th>AvgOrderValue</th><th>UniqueCustomerIDs</th></tr><tr><td>Wholesale</td><td>57256.92</td><td>0.043747</td><td>230</td><td>248.943130</td><td>15</td></tr><tr><td>Retail</td><td>1251542.46</td><td>0.956252</td><td>41220</td><td>30.362505</td><td>3917</td></tr></table>"
                    },
                    "metadata": {}
                }
            ],
            "execution_count": 3
        },
        {
            "cell_type": "markdown",
            "source": [
                "#### Retail Sales: Identified Customers vs Anonymous Sales - CASE Statement and CTE to group by CASE Statement\n",
                "\n",
                "Sales Composition (% of Total), AOV, Unique Customers, Order Count"
            ],
            "metadata": {
                "language": "sql",
                "azdata_cell_guid": "4fb7236c-b34d-4a10-ab08-f85845018af6"
            },
            "attachments": {}
        },
        {
            "cell_type": "code",
            "source": [
                "-- Create a CTE of Sales Transactions, adding a LoyaltyType using a CASE statement\r\n",
                "WITH CustomerSales AS(\r\n",
                "    SELECT\r\n",
                "        o.CustomerID,\r\n",
                "        \r\n",
                "        CASE \r\n",
                "            WHEN o.CustomerID = 'Unknown' THEN 'Anonymous'\r\n",
                "            ELSE 'CustomerIDs'\r\n",
                "            END AS LoyaltyType,\r\n",
                "        \r\n",
                "        l.SaleAmount,\r\n",
                "        o.OrderID AS OrderID\r\n",
                "    \r\n",
                "    FROM SalesOrderLines AS l\r\n",
                "        INNER JOIN SalesOrders AS o\r\n",
                "        ON l.OrderID = o.OrderID   \r\n",
                "        INNER JOIN DimCustomers AS c\r\n",
                "        ON o.CustomerID = c.CustomerID\r\n",
                "\r\n",
                "    WHERE c.CustomerType = 'Retail'\r\n",
                ")\r\n",
                "\r\n",
                "-- Create a query subtotaling by the newly assigned LoyaltyType\r\n",
                "SELECT\r\n",
                "    LoyaltyType,\r\n",
                "    SUM(SaleAmount) AS Sales,\r\n",
                "    SUM(SaleAmount)/\r\n",
                "    (SELECT \r\n",
                "        SUM(SaleAmount)\r\n",
                "        FROM CustomerSales) AS PctOfSales, --Use a subquery to calculate total sales and percent of total sales\r\n",
                "    COUNT(DISTINCT OrderID) As OrderCount,\r\n",
                "    SUM(SaleAmount) / COUNT(DISTINCT OrderID) AS AvgOrderValue,\r\n",
                "    COUNT(DISTINCT CustomerID) AS UniqueCustomerIDs\r\n",
                "FROM CustomerSales\r\n",
                "GROUP BY LoyaltyType"
            ],
            "metadata": {
                "language": "sql",
                "azdata_cell_guid": "655d19df-82bf-4b64-961f-5ac58a2be5e0",
                "tags": []
            },
            "outputs": [
                {
                    "output_type": "display_data",
                    "data": {
                        "text/html": "(2 rows affected)"
                    },
                    "metadata": {}
                },
                {
                    "output_type": "display_data",
                    "data": {
                        "text/html": "Total execution time: 00:00:01.062"
                    },
                    "metadata": {}
                },
                {
                    "output_type": "execute_result",
                    "execution_count": 4,
                    "data": {
                        "application/vnd.dataresource+json": {
                            "schema": {
                                "fields": [
                                    {
                                        "name": "LoyaltyType"
                                    },
                                    {
                                        "name": "Sales"
                                    },
                                    {
                                        "name": "PctOfSales"
                                    },
                                    {
                                        "name": "OrderCount"
                                    },
                                    {
                                        "name": "AvgOrderValue"
                                    },
                                    {
                                        "name": "UniqueCustomerIDs"
                                    }
                                ]
                            },
                            "data": [
                                {
                                    "LoyaltyType": "Anonymous",
                                    "Sales": "459830.35",
                                    "PctOfSales": "0.367410",
                                    "OrderCount": "18643",
                                    "AvgOrderValue": "24.665040",
                                    "UniqueCustomerIDs": "1"
                                },
                                {
                                    "LoyaltyType": "CustomerIDs",
                                    "Sales": "791712.11",
                                    "PctOfSales": "0.632589",
                                    "OrderCount": "22577",
                                    "AvgOrderValue": "35.067197",
                                    "UniqueCustomerIDs": "3916"
                                }
                            ]
                        },
                        "text/html": "<table><tr><th>LoyaltyType</th><th>Sales</th><th>PctOfSales</th><th>OrderCount</th><th>AvgOrderValue</th><th>UniqueCustomerIDs</th></tr><tr><td>Anonymous</td><td>459830.35</td><td>0.367410</td><td>18643</td><td>24.665040</td><td>1</td></tr><tr><td>CustomerIDs</td><td>791712.11</td><td>0.632589</td><td>22577</td><td>35.067197</td><td>3916</td></tr></table>"
                    },
                    "metadata": {}
                }
            ],
            "execution_count": 4
        },
        {
            "cell_type": "markdown",
            "source": [
                "## Day of Week Sales\n",
                "\n",
                "#### Avg Transaction Count, Daily Sales and AOV by Day of the Week - Retails Sales"
            ],
            "metadata": {
                "language": "sql",
                "azdata_cell_guid": "20f9a6f1-2be0-4ab6-a842-679debc5d113"
            },
            "attachments": {}
        },
        {
            "cell_type": "code",
            "source": [
                "-- Create a CTE of Daily Sales\r\n",
                "WITH Daily AS(\r\n",
                "    SELECT\r\n",
                "        o.OrderDate,\r\n",
                "        DATENAME(WEEKDAY,o.OrderDate) AS DayofWeek,\r\n",
                "        DATEPART(WEEKDAY, o.OrderDate) AS DayNumber,\r\n",
                "        COUNT(DISTINCT o.OrderID) AS DailyTransactions,\r\n",
                "        SUM(l.SaleAmount) AS DailySales,\r\n",
                "        SUM(l.SaleAmount) / COUNT(DISTINCT o.OrderID) AS AvgOrderValue\r\n",
                "    FROM\r\n",
                "        SalesOrderLines AS l\r\n",
                "        INNER JOIN SalesOrders AS o\r\n",
                "        ON l.OrderID = o.OrderID\r\n",
                "        INNER JOIN DimCustomers AS c\r\n",
                "        ON o.CustomerID = c.CustomerID\r\n",
                "\r\n",
                "    WHERE c.CustomerType = 'Retail'\r\n",
                "    \r\n",
                "    GROUP BY o.OrderDate \r\n",
                ")\r\n",
                "\r\n",
                "-- Summarize Sales Data by Day of Week\r\n",
                "SELECT\r\n",
                "    DayofWeek,\r\n",
                "    Sum(DailyTransactions) AS TotalTransactionCount,\r\n",
                "    AVG(DailyTransactions) AS AvgDailyTransactions,\r\n",
                "    Sum(DailySales) AS TotalSales,\r\n",
                "    Avg(DailySales) AS AvgDailySales,\r\n",
                "    SUM(DailySales) / Sum(DailyTransactions) AS AvgOrderValue\r\n",
                "FROM Daily\r\n",
                "GROUP BY DayofWeek, DayNumber\r\n",
                "ORDER BY DayNumber"
            ],
            "metadata": {
                "language": "sql",
                "azdata_cell_guid": "bdd0a8ea-9fce-4ce5-8898-a42b0b8a3dc8",
                "tags": []
            },
            "outputs": [
                {
                    "output_type": "display_data",
                    "data": {
                        "text/html": "(7 rows affected)"
                    },
                    "metadata": {}
                },
                {
                    "output_type": "display_data",
                    "data": {
                        "text/html": "Total execution time: 00:00:00.351"
                    },
                    "metadata": {}
                },
                {
                    "output_type": "execute_result",
                    "execution_count": 21,
                    "data": {
                        "application/vnd.dataresource+json": {
                            "schema": {
                                "fields": [
                                    {
                                        "name": "DayofWeek"
                                    },
                                    {
                                        "name": "TotalTransactionCount"
                                    },
                                    {
                                        "name": "AvgDailyTransactions"
                                    },
                                    {
                                        "name": "TotalSales"
                                    },
                                    {
                                        "name": "AvgDailySales"
                                    },
                                    {
                                        "name": "AvgOrderValue"
                                    }
                                ]
                            },
                            "data": [
                                {
                                    "DayofWeek": "Sunday",
                                    "TotalTransactionCount": "5941",
                                    "AvgDailyTransactions": "40",
                                    "TotalSales": "189939.19",
                                    "AvgDailySales": "1292.103333",
                                    "AvgOrderValue": "31.970912"
                                },
                                {
                                    "DayofWeek": "Monday",
                                    "TotalTransactionCount": "5588",
                                    "AvgDailyTransactions": "38",
                                    "TotalSales": "165201.91",
                                    "AvgDailySales": "1139.323517",
                                    "AvgOrderValue": "29.563691"
                                },
                                {
                                    "DayofWeek": "Tuesday",
                                    "TotalTransactionCount": "5228",
                                    "AvgDailyTransactions": "35",
                                    "TotalSales": "154732.23",
                                    "AvgDailySales": "1038.471342",
                                    "AvgOrderValue": "29.596830"
                                },
                                {
                                    "DayofWeek": "Wednesday",
                                    "TotalTransactionCount": "5020",
                                    "AvgDailyTransactions": "33",
                                    "TotalSales": "145338.16",
                                    "AvgDailySales": "982.014594",
                                    "AvgOrderValue": "28.951824"
                                },
                                {
                                    "DayofWeek": "Thursday",
                                    "TotalTransactionCount": "4655",
                                    "AvgDailyTransactions": "33",
                                    "TotalSales": "134008.38",
                                    "AvgDailySales": "964.089064",
                                    "AvgOrderValue": "28.788051"
                                },
                                {
                                    "DayofWeek": "Friday",
                                    "TotalTransactionCount": "5616",
                                    "AvgDailyTransactions": "38",
                                    "TotalSales": "175745.27",
                                    "AvgDailySales": "1203.734726",
                                    "AvgOrderValue": "31.293673"
                                },
                                {
                                    "DayofWeek": "Saturday",
                                    "TotalTransactionCount": "9172",
                                    "AvgDailyTransactions": "61",
                                    "TotalSales": "286577.32",
                                    "AvgDailySales": "1923.337718",
                                    "AvgOrderValue": "31.244801"
                                }
                            ]
                        },
                        "text/html": "<table><tr><th>DayofWeek</th><th>TotalTransactionCount</th><th>AvgDailyTransactions</th><th>TotalSales</th><th>AvgDailySales</th><th>AvgOrderValue</th></tr><tr><td>Sunday</td><td>5941</td><td>40</td><td>189939.19</td><td>1292.103333</td><td>31.970912</td></tr><tr><td>Monday</td><td>5588</td><td>38</td><td>165201.91</td><td>1139.323517</td><td>29.563691</td></tr><tr><td>Tuesday</td><td>5228</td><td>35</td><td>154732.23</td><td>1038.471342</td><td>29.596830</td></tr><tr><td>Wednesday</td><td>5020</td><td>33</td><td>145338.16</td><td>982.014594</td><td>28.951824</td></tr><tr><td>Thursday</td><td>4655</td><td>33</td><td>134008.38</td><td>964.089064</td><td>28.788051</td></tr><tr><td>Friday</td><td>5616</td><td>38</td><td>175745.27</td><td>1203.734726</td><td>31.293673</td></tr><tr><td>Saturday</td><td>9172</td><td>61</td><td>286577.32</td><td>1923.337718</td><td>31.244801</td></tr></table>"
                    },
                    "metadata": {}
                }
            ],
            "execution_count": 21
        }
    ]
}